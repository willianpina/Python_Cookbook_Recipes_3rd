{
 "cells": [
  {
   "cell_type": "markdown",
   "metadata": {},
   "source": [
    "<h1 align=center>Capítulo 5</h1>\n",
    "<h2 align=center>Arquivos e I/O</h2>\n",
    "<p align= center><img src=https://t.ctcdn.com.br/RhgceU3jDPpm_52ctxpo1RRZ3AQ=/0x36:799x486/512x288/smart/filters:format(webp)/i333320.jpeg width=500</p>"
   ]
  },
  {
   "cell_type": "markdown",
   "metadata": {},
   "source": [
    "Todos os programas precisam executar entrada e saída. Este capítulo abrange idiomas comuns para trabalhar com diferentes tipos de arquivos, incluindo arquivos de texto e binários, codificações de arquivos e outros assuntos relacionados. Técnicas para manipular nomes de arquivos e diretórios também são cobertas.\n",
    "\n",
    "## 5.1. Lendo e escrevendo dados de texto\n",
    "\n",
    "**Problema**\n",
    "\n",
    "Você precisa ler ou gravar dados de texto, possivelmente em diferentes codificações de texto, como ASCII, UTF-8 ou UTF-16.\n",
    "\n",
    "**Solução**\n",
    "\n",
    "Use a função `open()` com o modo **rt** para ler um arquivo de texto. Por exemplo:"
   ]
  },
  {
   "cell_type": "code",
   "execution_count": 1,
   "metadata": {},
   "outputs": [
    {
     "name": "stdout",
     "output_type": "stream",
     "text": [
      "\n"
     ]
    }
   ],
   "source": [
    "# Read the entire file as a single string\n",
    "with open('somefile.txt', 'rt', encoding='utf8') as f:\n",
    "    data = f.read()\n",
    "    print(data)"
   ]
  },
  {
   "cell_type": "code",
   "execution_count": 2,
   "metadata": {},
   "outputs": [],
   "source": [
    "# Iterate over the lines of the file\n",
    "with open('somefile.txt', 'rt', encoding='utf8') as f:\n",
    "    for line in f:\n",
    "        # process line\n",
    "        print(line)\n"
   ]
  },
  {
   "cell_type": "markdown",
   "metadata": {},
   "source": [
    "Da mesma forma, para escrever um arquivo de texto, use `open()` com o modo **wt** para escrever um arquivo, limpando e sobrescrevendo o conteúdo anterior (se houver). Por exemplo:"
   ]
  },
  {
   "cell_type": "code",
   "execution_count": 3,
   "metadata": {},
   "outputs": [],
   "source": [
    "# Write chunks of text data\n",
    "text1 = 'Esse é um texto para teste.'\n",
    "text2 = 'Esse é um outro texto para teste'\n",
    "with open('otherfile.txt', 'wt') as f:\n",
    "    f.write(text1)\n",
    "    f.write(text2)"
   ]
  },
  {
   "cell_type": "markdown",
   "metadata": {},
   "source": [
    "~~~python\n",
    "# Redirected print statement\n",
    "with open('otherfile.txt', 'wt') as f:\n",
    "    print(line1, file=f)\n",
    "    print(line2, file=f)\n",
    "    ...\n",
    "~~~\n",
    "\n",
    "Para anexar ao final de um arquivo existente, use `open()` com mode **at**. Por padrão, os arquivos são lidos/gravados usando a codificação de texto padrão do sistema, como pode ser encontrado em `sys.getdefaultencoding()`. Na maioria das máquinas, isso é definido como utf-8. Se você sabe que o texto que está lendo ou escrevendo está em uma codificação diferente, forneça o parâmetro de codificação opcional para `open()`. Por exemplo:\n",
    "\n",
    "~~~python\n",
    "with open('somefile.txt', 'rt', encoding='latin-1') as f:\n",
    "    ...\n",
    "~~~"
   ]
  },
  {
   "cell_type": "code",
   "execution_count": 4,
   "metadata": {},
   "outputs": [
    {
     "data": {
      "text/plain": [
       "'utf-8'"
      ]
     },
     "execution_count": 4,
     "metadata": {},
     "output_type": "execute_result"
    }
   ],
   "source": [
    "import sys\n",
    "sys.getdefaultencoding()"
   ]
  },
  {
   "cell_type": "markdown",
   "metadata": {},
   "source": [
    "Python entende várias centenas de codificações de texto possíveis. No entanto, algumas das codificações mais comuns são **ascii, latin-1, utf-8 e utf-16**. O **UTF-8** geralmente é uma aposta segura se estiver trabalhando com aplicativos da web. **ascii** corresponde aos caracteres de 7 bits no intervalo U+0000 a U+007F. **latin-1** é um mapeamento direto de bytes 0-255 para caracteres Unicode U+0000 para U+00FF. A codificação **latin-1** é notável por nunca produzir um erro de decodificação ao ler o texto de uma codificação possivelmente desconhecida. Ler um arquivo como **latin-1** pode não produzir uma decodificação de texto completamente correta, mas ainda pode ser suficiente para extrair dados úteis dele. Além disso, se você gravar os dados posteriormente, os dados de entrada originais serão preservados.\n",
    "\n",
    "**Discussão**\n",
    "\n",
    "Ler e escrever arquivos de texto normalmente é muito simples. No entanto, há uma série de aspectos sutis para manter em mente. Primeiro, o uso da instrução `with` nos exemplos estabelece um contexto no qual o arquivo será usado. Quando o controle sai do bloco com, o arquivo será fechado automaticamente. Você não precisa usar a instrução `with`, mas se não usá-la, lembre-se de fechar o arquivo:"
   ]
  },
  {
   "cell_type": "code",
   "execution_count": 5,
   "metadata": {},
   "outputs": [],
   "source": [
    "f = open('somefile.txt', 'rt')\n",
    "data = f.read()\n",
    "f.close()"
   ]
  },
  {
   "cell_type": "markdown",
   "metadata": {},
   "source": [
    "Outra complicação menor diz respeito ao reconhecimento de novas linhas, que são diferentes no Unix e no Windows (ou seja, **\\n** versus **\\r\\n**). Por padrão, o Python opera no que é conhecido como modo “nova linha universal”. Nesse modo, todas as convenções comuns de nova linha são reconhecidas e os caracteres de nova linha são convertidos em um único caractere **\\n** durante a leitura.\n",
    "\n",
    "Da mesma forma, o caractere de nova linha **\\n** é convertido no caractere de nova linha padrão do sistema na saída. Se você não quiser essa tradução, forneça o argumento `newline=''` para `open()`, assim:\n",
    "~~~python\n",
    "# Read with disabled newline translation\n",
    "with open('somefile.txt', 'rt', newline='') as f:\n",
    "    ...\n",
    "~~~\n",
    "\n",
    "Para ilustrar a diferença, aqui está o que você verá em uma máquina Unix se ler o conteúdo de um arquivo de texto codificado pelo Windows contendo os dados brutos `hello world!\\r\\n`:"
   ]
  },
  {
   "cell_type": "code",
   "execution_count": 6,
   "metadata": {},
   "outputs": [
    {
     "data": {
      "text/plain": [
       "'Olá Mundo!!\\n'"
      ]
     },
     "execution_count": 6,
     "metadata": {},
     "output_type": "execute_result"
    }
   ],
   "source": [
    "# Newline translation enabled (the default)\n",
    "f = open('hello.txt', 'rt', encoding='utf8')\n",
    "f.read()"
   ]
  },
  {
   "cell_type": "code",
   "execution_count": 7,
   "metadata": {},
   "outputs": [
    {
     "data": {
      "text/plain": [
       "'Olá Mundo!!\\r\\n'"
      ]
     },
     "execution_count": 7,
     "metadata": {},
     "output_type": "execute_result"
    }
   ],
   "source": [
    "# Newline translation disabled\n",
    "g = open('hello.txt', 'rt', newline='', encoding='utf8')\n",
    "g.read()"
   ]
  },
  {
   "cell_type": "markdown",
   "metadata": {},
   "source": [
    "Uma questão final diz respeito a possíveis erros de codificação em arquivos de texto. Ao ler ou gravar um arquivo de texto, você pode encontrar um erro de codificação ou decodificação. Por exemplo:\n",
    "~~~python\n",
    "f = open('sample.txt', 'rt', encoding='ascii')\n",
    "f.read()\n",
    "Traceback (most recent call last):\n",
    "    File \"<stdin>\", line 1, in <module>\n",
    "    File \"/usr/local/lib/python3.3/encodings/ascii.py\", line 26, in decode\n",
    "        return codecs.ascii_decode(input, self.errors)[0]\n",
    " UnicodeDecodeError: 'ascii' codec can't decode byte 0xc3 in position\n",
    "12: ordinal not in range(128)\n",
    ">>>\n",
    "~~~\n",
    "\n",
    "Se você receber esse erro, geralmente significa que você não está lendo o arquivo na codificação correta. Você deve ler cuidadosamente a especificação do que quer que esteja lendo e verificar se está fazendo certo (por exemplo, lendo dados como UTF-8 em vez de Latin-1 ou o que for necessário). Se erros de codificação ainda são uma possibilidade, você pode fornecer um argumento opcional errors para open() para lidar com os erros. Aqui estão alguns exemplos de esquemas comuns de tratamento de erros:"
   ]
  },
  {
   "cell_type": "code",
   "execution_count": 8,
   "metadata": {},
   "outputs": [
    {
     "data": {
      "text/plain": [
       "''"
      ]
     },
     "execution_count": 8,
     "metadata": {},
     "output_type": "execute_result"
    }
   ],
   "source": [
    ">>> # Replace bad chars with Unicode U+fffd replacement char\n",
    ">>> f = open('sample.txt', 'rt', encoding='ascii', errors='replace')\n",
    ">>> f.read()"
   ]
  },
  {
   "cell_type": "code",
   "execution_count": 9,
   "metadata": {},
   "outputs": [
    {
     "data": {
      "text/plain": [
       "''"
      ]
     },
     "execution_count": 9,
     "metadata": {},
     "output_type": "execute_result"
    }
   ],
   "source": [
    ">>> # Ignore bad chars entirely\n",
    ">>> g = open('sample.txt', 'rt', encoding='ascii', errors='ignore')\n",
    ">>> g.read()"
   ]
  },
  {
   "cell_type": "markdown",
   "metadata": {},
   "source": [
    "Se você está constantemente mexendo nos argumentos de codificação e erros para `open()` e fazendo muitos hacks, provavelmente está tornando a vida mais difícil do que precisa. A regra número um com o texto é que você simplesmente precisa ter certeza de que está sempre usando a codificação de texto adequada. Em caso de dúvida, use a configuração padrão (normalmente UTF-8)."
   ]
  },
  {
   "cell_type": "markdown",
   "metadata": {},
   "source": [
    "## 5.2. Imprimindo em um arquivo\n",
    "\n",
    "**Problema**\n",
    "\n",
    "Você deseja redirecionar a saída da função `print()` para um arquivo.\n",
    "\n",
    "**Solução**\n",
    "\n",
    "Use o argumento da palavra-chave do arquivo para `print()`, assim:"
   ]
  },
  {
   "cell_type": "code",
   "execution_count": 10,
   "metadata": {},
   "outputs": [],
   "source": [
    "with open('otherfile.txt', 'r+') as f:\n",
    "    print('Hello World!', file=f)"
   ]
  },
  {
   "cell_type": "markdown",
   "metadata": {},
   "source": [
    "**Discussão**\n",
    "\n",
    "Não há muito mais para imprimir em um arquivo além disso. No entanto, certifique-se de que o arquivo seja aberto no modo de texto. A impressão falhará se o arquivo subjacente estiver no modo binário."
   ]
  },
  {
   "cell_type": "markdown",
   "metadata": {},
   "source": [
    "## 5.3. Imprimindo com um separador ou final de linha diferente\n",
    "\n",
    "**Problema**\n",
    "\n",
    "Você deseja gerar dados usando `print()`, mas também deseja alterar o caractere separador ou o final da linha.\n",
    "\n",
    "**Solução**\n",
    "\n",
    "Use os argumentos das palavras-chave **sep** e **end** para `print()` para alterar a saída como desejar. Por exemplo:"
   ]
  },
  {
   "cell_type": "code",
   "execution_count": 11,
   "metadata": {},
   "outputs": [
    {
     "name": "stdout",
     "output_type": "stream",
     "text": [
      "ACME 50 91.5\n"
     ]
    }
   ],
   "source": [
    "print('ACME', 50, 91.5)"
   ]
  },
  {
   "cell_type": "code",
   "execution_count": 12,
   "metadata": {},
   "outputs": [
    {
     "name": "stdout",
     "output_type": "stream",
     "text": [
      "ACME,50,91.5\n"
     ]
    }
   ],
   "source": [
    "print('ACME', 50, 91.5, sep=',')"
   ]
  },
  {
   "cell_type": "code",
   "execution_count": 13,
   "metadata": {},
   "outputs": [
    {
     "name": "stdout",
     "output_type": "stream",
     "text": [
      "ACME,50,91.5!!\n"
     ]
    }
   ],
   "source": [
    "print('ACME', 50, 91.5, sep=',', end='!!\\n')"
   ]
  },
  {
   "cell_type": "markdown",
   "metadata": {},
   "source": [
    "O uso do argumento final também é como você suprime a saída de novas linhas na saída. Por exemplo:"
   ]
  },
  {
   "cell_type": "code",
   "execution_count": 14,
   "metadata": {},
   "outputs": [
    {
     "name": "stdout",
     "output_type": "stream",
     "text": [
      "0\n",
      "1\n",
      "2\n",
      "3\n",
      "4\n"
     ]
    }
   ],
   "source": [
    "for i in range(5):\n",
    "    print(i)"
   ]
  },
  {
   "cell_type": "code",
   "execution_count": 15,
   "metadata": {},
   "outputs": [
    {
     "name": "stdout",
     "output_type": "stream",
     "text": [
      "0 1 2 3 4 "
     ]
    }
   ],
   "source": [
    "for i in range(5):\n",
    "    print(i, end=' ')"
   ]
  },
  {
   "cell_type": "markdown",
   "metadata": {},
   "source": [
    "**Discussão**\n",
    "\n",
    "Usar `print()` com um separador de item diferente geralmente é a maneira mais fácil de gerar dados quando você precisa de algo diferente de um espaço separando os itens. Às vezes você verá programadores usando `str.join()` para realizar a mesma coisa. Por exemplo:"
   ]
  },
  {
   "cell_type": "code",
   "execution_count": 16,
   "metadata": {},
   "outputs": [
    {
     "name": "stdout",
     "output_type": "stream",
     "text": [
      "ACME, 50, 91.5\n"
     ]
    }
   ],
   "source": [
    "print(', '.join(['ACME', '50','91.5']))"
   ]
  },
  {
   "cell_type": "markdown",
   "metadata": {},
   "source": [
    "O problema com `str.join()` é que ele só funciona com strings. Isso significa que muitas vezes é necessário realizar várias acrobacias para que funcione. Por exemplo:\n",
    "~~~python\n",
    "row = ('ACME', 50, 91.5)\n",
    "print(','.join(row))\n",
    "Traceback (most recent call last):\n",
    "    File \"<stdin>\", line 1, in <module>\n",
    " TypeError: sequence item 1: expected str instance, int found\n",
    "~~~"
   ]
  },
  {
   "cell_type": "code",
   "execution_count": 17,
   "metadata": {},
   "outputs": [
    {
     "name": "stdout",
     "output_type": "stream",
     "text": [
      "ACME,50,91.5\n"
     ]
    }
   ],
   "source": [
    "row = ('ACME', 50, 91.5)\n",
    "print(','.join(str(x) for x in row))"
   ]
  },
  {
   "cell_type": "markdown",
   "metadata": {},
   "source": [
    "Em vez de fazer isso, você poderia simplesmente escrever o seguinte:"
   ]
  },
  {
   "cell_type": "code",
   "execution_count": 18,
   "metadata": {},
   "outputs": [
    {
     "name": "stdout",
     "output_type": "stream",
     "text": [
      "ACME,50,91.5\n"
     ]
    }
   ],
   "source": [
    "print(*row, sep=',')"
   ]
  },
  {
   "cell_type": "markdown",
   "metadata": {},
   "source": [
    "## 5.4. Lendo e gravando dados binários\n",
    "\n",
    "**Problema**\n",
    "\n",
    "Você precisa ler ou gravar dados binários, como os encontrados em imagens, arquivos de som e assim por diante.\n",
    "\n",
    "**Solução**\n",
    "\n",
    "Use a função `open()` com o modo **rb** ou **wb** para ler ou gravar dados binários. Por exemplo:"
   ]
  },
  {
   "cell_type": "code",
   "execution_count": 19,
   "metadata": {},
   "outputs": [],
   "source": [
    "# Read the entire file as a single byte string\n",
    "with open('somefile.bin', 'rb') as f:\n",
    "    data = f.read()"
   ]
  },
  {
   "cell_type": "code",
   "execution_count": 20,
   "metadata": {},
   "outputs": [],
   "source": [
    "# Write binary data to a file\n",
    "with open('somefile.bin', 'wb') as f:\n",
    "    f.write(b'Hello World')"
   ]
  },
  {
   "cell_type": "markdown",
   "metadata": {},
   "source": [
    "Ao ler o binário, é importante enfatizar que todos os dados retornados estarão na forma de strings de bytes, não em strings de texto. Da mesma forma, ao escrever, você deve fornecer dados na forma de objetos que expõem dados como bytes (por exemplo, strings de bytes, objetos bytearray etc.).\n",
    "\n",
    "**Discussão**\n",
    "\n",
    "Ao ler dados binários, as sutis diferenças semânticas entre strings de bytes e strings de texto representam uma pegadinha em potencial. Em particular, esteja ciente de que a indexação e a iteração retornam valores de bytes inteiros em vez de strings de bytes. Por exemplo:"
   ]
  },
  {
   "cell_type": "code",
   "execution_count": 21,
   "metadata": {},
   "outputs": [
    {
     "data": {
      "text/plain": [
       "'H'"
      ]
     },
     "execution_count": 21,
     "metadata": {},
     "output_type": "execute_result"
    }
   ],
   "source": [
    "# Text string\n",
    "t = 'Hello World'\n",
    "t[0]"
   ]
  },
  {
   "cell_type": "code",
   "execution_count": 22,
   "metadata": {},
   "outputs": [
    {
     "name": "stdout",
     "output_type": "stream",
     "text": [
      "H\n",
      "e\n",
      "l\n",
      "l\n",
      "o\n",
      " \n",
      "W\n",
      "o\n",
      "r\n",
      "l\n",
      "d\n"
     ]
    }
   ],
   "source": [
    "for c in t:\n",
    "    print(c)"
   ]
  },
  {
   "cell_type": "code",
   "execution_count": 23,
   "metadata": {},
   "outputs": [
    {
     "data": {
      "text/plain": [
       "72"
      ]
     },
     "execution_count": 23,
     "metadata": {},
     "output_type": "execute_result"
    }
   ],
   "source": [
    "# Byte string\n",
    "b = b'Hello World'\n",
    "b[0]"
   ]
  },
  {
   "cell_type": "code",
   "execution_count": 24,
   "metadata": {},
   "outputs": [
    {
     "name": "stdout",
     "output_type": "stream",
     "text": [
      "72\n",
      "101\n",
      "108\n",
      "108\n",
      "111\n",
      "32\n",
      "87\n",
      "111\n",
      "114\n",
      "108\n",
      "100\n"
     ]
    }
   ],
   "source": [
    "for c in b:\n",
    "    print(c)"
   ]
  },
  {
   "cell_type": "markdown",
   "metadata": {},
   "source": [
    "Se você precisar ler ou escrever texto de um arquivo em modo binário, lembre-se de decodificá-lo ou codificá-lo. Por exemplo:"
   ]
  },
  {
   "cell_type": "code",
   "execution_count": 25,
   "metadata": {},
   "outputs": [],
   "source": [
    "with open('somefile.bin', 'rb') as f:\n",
    "    data = f.read(16)\n",
    "    text = data.decode('utf-8')"
   ]
  },
  {
   "cell_type": "code",
   "execution_count": 26,
   "metadata": {},
   "outputs": [],
   "source": [
    "with open('somefile.bin', 'wb') as f:\n",
    "    text = 'Hello World'\n",
    "    f.write(text.encode('utf-8'))"
   ]
  },
  {
   "cell_type": "markdown",
   "metadata": {},
   "source": [
    "Um aspecto menos conhecido da I/O binária é que objetos como arrays e estruturas C podem ser usados para escrita sem nenhum tipo de conversão intermediária para um objeto bytes. Por exemplo:"
   ]
  },
  {
   "cell_type": "code",
   "execution_count": 27,
   "metadata": {},
   "outputs": [],
   "source": [
    "import array\n",
    "nums = array.array('i', [1, 2, 3, 4])\n",
    "with open('data.bin','wb') as f:\n",
    "    f.write(nums)"
   ]
  },
  {
   "cell_type": "markdown",
   "metadata": {},
   "source": [
    "Isso se aplica a qualquer objeto que implemente a chamada “interface de buffer”, que expõe diretamente um buffer de memória subjacente a operações que podem funcionar com ele. Escrever dados binários é uma dessas operações.\n",
    "\n",
    "Muitos objetos também permitem que dados binários sejam lidos diretamente em sua memória subjacente usando o método `readinto()` de arquivos. Por exemplo:"
   ]
  },
  {
   "cell_type": "code",
   "execution_count": 28,
   "metadata": {},
   "outputs": [],
   "source": [
    "import array\n",
    "a = array.array('i', [0, 0, 0, 0, 0, 0, 0, 0])\n",
    "with open('data.bin', 'rb') as f:\n",
    "    f.readinto(a)"
   ]
  },
  {
   "cell_type": "code",
   "execution_count": 29,
   "metadata": {},
   "outputs": [
    {
     "data": {
      "text/plain": [
       "array('i', [1, 2, 3, 4, 0, 0, 0, 0])"
      ]
     },
     "execution_count": 29,
     "metadata": {},
     "output_type": "execute_result"
    }
   ],
   "source": [
    "a"
   ]
  },
  {
   "cell_type": "markdown",
   "metadata": {},
   "source": [
    "No entanto, muito cuidado deve ser tomado ao usar essa técnica, pois geralmente é específica da plataforma e pode depender de coisas como o tamanho da palavra e a ordenação dos bytes (ou seja, big endian versus little endian). Veja a Receita 5.9 para outro exemplo de leitura de dados binários em um buffer mutável.\n",
    "\n",
    "## 5.5. Gravando em um arquivo que ainda não existe\n",
    "\n",
    "**Problema**\n",
    "\n",
    "Você deseja gravar dados em um arquivo, mas somente se ele ainda não existir no sistema de arquivos.\n",
    "\n",
    "**Solução**\n",
    "\n",
    "Este problema é facilmente resolvido usando o modo **x** pouco conhecido para `open()` em vez do modo **w** usual. Por exemplo:"
   ]
  },
  {
   "cell_type": "code",
   "execution_count": 30,
   "metadata": {},
   "outputs": [],
   "source": [
    "with open('somefile', 'wt') as f:\n",
    "    f.write('Hello\\n')"
   ]
  },
  {
   "cell_type": "markdown",
   "metadata": {},
   "source": [
    "~~~python\n",
    "with open('somefile', 'xt') as f:\n",
    "    f.write('Hello\\n')\n",
    "    ...\n",
    "Traceback (most recent call last):\n",
    "    File \"<stdin>\", line 1, in <module>\n",
    " FileExistsError: [Errno 17] File exists: 'somefile'\n",
    "~~~\n",
    "Se o arquivo estiver no modo binário, use o modo **xb** em vez de **xt**.\n",
    "\n",
    "**Discussão**\n",
    "\n",
    "Esta receita ilustra uma solução extremamente elegante para um problema que às vezes surge ao escrever arquivos (ou seja, substituir acidentalmente um arquivo existente). Uma solução alternativa é primeiro testar o arquivo assim:"
   ]
  },
  {
   "cell_type": "code",
   "execution_count": 31,
   "metadata": {},
   "outputs": [
    {
     "name": "stdout",
     "output_type": "stream",
     "text": [
      "Arquivo já existe!\n"
     ]
    }
   ],
   "source": [
    "import os\n",
    "if not os.path.exists('somefile'):\n",
    "    with open('somefile', 'wt') as f:\n",
    "        f.write('Hello\\n')\n",
    "else:\n",
    "    print('Arquivo já existe!')"
   ]
  },
  {
   "cell_type": "markdown",
   "metadata": {},
   "source": [
    "Claramente, usar o modo de arquivo **x** é muito mais direto. É importante notar que o modo **x** é uma extensão específica do Python 3 para a função `open()`. Em particular, esse modo não existe nas versões anteriores do Python ou nas bibliotecas C subjacentes usadas na implementação do Python.\n",
    "\n",
    "## 5.6. Executando operações de I/O em uma string\n",
    "\n",
    "**Problema**\n",
    "\n",
    "Você deseja alimentar um texto ou uma string binária no código que foi escrito para operar em objetos semelhantes a arquivos.\n",
    "\n",
    "**Solução**\n",
    "\n",
    "Use as classes `io.StringIO()` e `io.BytesIO()` para criar objetos semelhantes a arquivos que operam em dados de string. Por exemplo:"
   ]
  },
  {
   "cell_type": "code",
   "execution_count": 32,
   "metadata": {},
   "outputs": [
    {
     "data": {
      "text/plain": [
       "12"
      ]
     },
     "execution_count": 32,
     "metadata": {},
     "output_type": "execute_result"
    }
   ],
   "source": [
    "import io\n",
    "s = io.StringIO()\n",
    "s.write('Hello World\\n')"
   ]
  },
  {
   "cell_type": "code",
   "execution_count": 33,
   "metadata": {},
   "outputs": [],
   "source": [
    "s = io.StringIO()\n",
    "s.write('Hello World\\n')\n",
    "print('This is a test', file=s)"
   ]
  },
  {
   "cell_type": "code",
   "execution_count": 34,
   "metadata": {},
   "outputs": [
    {
     "data": {
      "text/plain": [
       "'Hello World\\nThis is a test\\n'"
      ]
     },
     "execution_count": 34,
     "metadata": {},
     "output_type": "execute_result"
    }
   ],
   "source": [
    "# Get all of the data written so far\n",
    "s.getvalue()"
   ]
  },
  {
   "cell_type": "code",
   "execution_count": 35,
   "metadata": {},
   "outputs": [
    {
     "data": {
      "text/plain": [
       "'Hell'"
      ]
     },
     "execution_count": 35,
     "metadata": {},
     "output_type": "execute_result"
    }
   ],
   "source": [
    "# Wrap a file interface around an existing string\n",
    "s = io.StringIO('Hello\\nWorld\\n')\n",
    "s.read(4)"
   ]
  },
  {
   "cell_type": "code",
   "execution_count": 36,
   "metadata": {},
   "outputs": [
    {
     "data": {
      "text/plain": [
       "'o\\nWorld\\n'"
      ]
     },
     "execution_count": 36,
     "metadata": {},
     "output_type": "execute_result"
    }
   ],
   "source": [
    "s.read()"
   ]
  },
  {
   "cell_type": "markdown",
   "metadata": {},
   "source": [
    "A classe `io.StringIO` deve ser usada apenas para texto. Se você estiver operando com dados binários, use a classe `io.BytesIO`. Por exemplo:"
   ]
  },
  {
   "cell_type": "code",
   "execution_count": 37,
   "metadata": {},
   "outputs": [
    {
     "data": {
      "text/plain": [
       "b'binary data'"
      ]
     },
     "execution_count": 37,
     "metadata": {},
     "output_type": "execute_result"
    }
   ],
   "source": [
    "s = io.BytesIO()\n",
    "s.write(b'binary data')\n",
    "s.getvalue()"
   ]
  },
  {
   "cell_type": "markdown",
   "metadata": {},
   "source": [
    "**Discussão**\n",
    "\n",
    "As classes `StringIO` e `BytesIO` são mais úteis em cenários em que você precisa imitar um arquivo normal por algum motivo. Por exemplo, em testes de unidade, você pode usar `StringIO` para criar um objeto semelhante a um arquivo contendo dados de teste que são alimentados em uma função que, de outra forma, funcionaria com um arquivo normal.\n",
    "\n",
    "Esteja ciente de que as instâncias StringIO e BytesIO não possuem um descritor de arquivo inteiro adequado. Assim, eles não funcionam com código que requer o uso de um arquivo de nível de sistema real, como um arquivo, pipe ou soquete.\n",
    "\n",
    "## 5.7. Lendo e gravando arquivos de dados compactados\n",
    "\n",
    "**Problema**\n",
    "\n",
    "Você precisa ler ou gravar dados em um arquivo com compactação **gzip** ou **bz2**.\n",
    "\n",
    "**Solução**\n",
    "\n",
    "Os módulos `gzip` e `bz2` facilitam o trabalho com esses arquivos. Ambos os módulos fornecem uma implementação alternativa de `open()` que pode ser usada para esta finalidade. Por exemplo, para ler arquivos compactados como texto, faça o seguinte:"
   ]
  },
  {
   "cell_type": "code",
   "execution_count": 38,
   "metadata": {},
   "outputs": [],
   "source": [
    "# gzip compression\n",
    "import gzip\n",
    "with gzip.open('somefile.gz', 'rt') as f:\n",
    "    text = f.read()"
   ]
  },
  {
   "cell_type": "code",
   "execution_count": 39,
   "metadata": {},
   "outputs": [],
   "source": [
    "# bz2 compression\n",
    "import bz2\n",
    "with bz2.open('somefile.bz2', 'rt') as f:\n",
    "    text = f.read()"
   ]
  },
  {
   "cell_type": "markdown",
   "metadata": {},
   "source": [
    "Da mesma forma, para gravar dados compactados, faça o seguinte:"
   ]
  },
  {
   "cell_type": "code",
   "execution_count": 40,
   "metadata": {},
   "outputs": [],
   "source": [
    "# gzip compression\n",
    "import gzip\n",
    "with gzip.open('somefile.gz', 'wt') as f:\n",
    "    f.write(text)"
   ]
  },
  {
   "cell_type": "code",
   "execution_count": 41,
   "metadata": {},
   "outputs": [],
   "source": [
    "# bz2 compression\n",
    "import bz2\n",
    "with bz2.open('somefile.bz2', 'wt') as f:\n",
    "    f.write(text)"
   ]
  },
  {
   "cell_type": "markdown",
   "metadata": {},
   "source": [
    "Conforme mostrado, todas as I/O usarão texto e realizarão codificação/decodificação Unicode. Se você quiser trabalhar com dados binários, use um modo de arquivo de rb ou wb.\n",
    "\n",
    "**Discussão**\n",
    "\n",
    "Na maioria das vezes, ler ou gravar dados compactados é simples. No entanto, esteja ciente de que escolher o modo de arquivo correto é extremamente importante. Se você não especificar um modo, o modo padrão será binário, o que interromperá os programas que esperam receber texto. Ambos `gzip.open()` e `bz2.open()` aceitam os mesmos parâmetros que a função `open()` integrada, incluindo codificação, erros, nova linha e assim por diante.\n",
    "\n",
    "Ao gravar dados compactados, o nível de compactação pode ser opcionalmente especificado usando o argumento de palavra-chave `compresslevel`. Por exemplo:"
   ]
  },
  {
   "cell_type": "code",
   "execution_count": 42,
   "metadata": {},
   "outputs": [],
   "source": [
    "with gzip.open('somefile.gz', 'wt', compresslevel=5) as f:\n",
    "    f.write(text)"
   ]
  },
  {
   "cell_type": "markdown",
   "metadata": {},
   "source": [
    "O nível padrão é **9**, que fornece o nível mais alto de compactação. Níveis mais baixos oferecem melhor desempenho, mas não tanta compressão.\n",
    "\n",
    "Finalmente, um recurso pouco conhecido de `gzip.open()` e `bz2.open()` é que eles podem ser colocados em cima de um arquivo existente aberto em modo binário. Por exemplo, isso funciona:"
   ]
  },
  {
   "cell_type": "code",
   "execution_count": 43,
   "metadata": {},
   "outputs": [],
   "source": [
    "import gzip\n",
    "f = open('somefile.gz', 'rb')\n",
    "with gzip.open(f, 'rt') as g:\n",
    "    text = g.read()"
   ]
  },
  {
   "cell_type": "markdown",
   "metadata": {},
   "source": [
    "Isso permite que os módulos `gzip` e `bz2` funcionem com vários objetos semelhantes a arquivos, como soquetes, pipes e arquivos na memória.\n",
    "\n",
    "## 5.8. Iterando sobre registros de tamanho fixo\n",
    "\n",
    "**Problema**\n",
    "\n",
    "Em vez de iterar sobre um arquivo por linhas, você deseja iterar sobre uma coleção de registros ou blocos de tamanho fixo.\n",
    "\n",
    "**Solução**\n",
    "\n",
    "Use a função `iter()` e `functools.partial()` usando este truque legal:"
   ]
  },
  {
   "cell_type": "code",
   "execution_count": 44,
   "metadata": {},
   "outputs": [
    {
     "name": "stdout",
     "output_type": "stream",
     "text": [
      "b'Em lingu\\xc3\\xadstica, a no\\xc3\\xa7\\xc3\\xa3o de te'\n",
      "b'xto \\xc3\\xa9 ampla e ainda aberta a um'\n",
      "b'a defini\\xc3\\xa7\\xc3\\xa3o mais precisa. Gros'\n",
      "b'so modo, pode ser entendido como'\n",
      "b' manifesta\\xc3\\xa7\\xc3\\xa3o lingu\\xc3\\xadstica das'\n",
      "b' ideias de um autor, que ser\\xc3\\xa3o '\n",
      "b'interpretadas pelo leitor de aco'\n",
      "b'rdo com seus conhecimentos lingu'\n",
      "b'\\xc3\\xadsticos e culturais. Seu tamanh'\n",
      "b'o \\xc3\\xa9 vari\\xc3\\xa1vel.\\r\\n\\r\\n\\xe2\\x80\\x9cConjunto d'\n",
      "b'e palavras e frases articuladas,'\n",
      "b' escritas sobre qualquer suporte'\n",
      "b'\\xe2\\x80\\x9d.[1]\\r\\n\\r\\n\\xe2\\x80\\x9cObra escrita consi'\n",
      "b'derada na sua reda\\xc3\\xa7\\xc3\\xa3o original'\n",
      "b' e aut\\xc3\\xaantica (por oposi\\xc3\\xa7\\xc3\\xa3o a '\n",
      "b'sum\\xc3\\xa1rio, tradu\\xc3\\xa7\\xc3\\xa3o, notas, com'\n",
      "b'ent\\xc3\\xa1rios, etc.)\\xe2\\x80\\x9d.[2]\\r\\n\\r\\n\"Um t'\n",
      "b'exto \\xc3\\xa9 uma ocorr\\xc3\\xaancia lingu\\xc3\\xads'\n",
      "b'tica, escrita ou falada de qualq'\n",
      "b'uer extens\\xc3\\xa3o, dotada de unidade'\n",
      "b' sociocomunicativa, sem\\xc3\\xa2ntica e'\n",
      "b' formal. \\xc3\\x89 uma unidade de lingu'\n",
      "b'agem em uso.\"[3]\\r\\n\\r\\nO interesse '\n",
      "b'pelo texto como objeto de estudo'\n",
      "b' gerou v\\xc3\\xa1rios trabalhos importa'\n",
      "b'ntes de te\\xc3\\xb3ricos da Lingu\\xc3\\xadstic'\n",
      "b'a Textual, que percorreram fases'\n",
      "b' diversas cujas caracter\\xc3\\xadsticas'\n",
      "b' principais eram transpor os lim'\n",
      "b'ites da frase descontextualizada'\n",
      "b' da gram\\xc3\\xa1tica tradicional e ain'\n",
      "b'da incluir os relevantes pap\\xc3\\xa9is'\n",
      "b' do autor e do leitor na constru'\n",
      "b'\\xc3\\xa7\\xc3\\xa3o de textos.\\r\\n\\r\\nUm texto pod'\n",
      "b'e ser escrito ou oral e, em sent'\n",
      "b'ido lato, pode ser tamb\\xc3\\xa9m n\\xc3\\xa3o '\n",
      "b'verbal.\\r\\n\\r\\nTexto cr\\xc3\\xadtico \\xc3\\xa9 uma'\n",
      "b' produ\\xc3\\xa7\\xc3\\xa3o textual que parte de'\n",
      "b' um processo reflexivo e anal\\xc3\\xadt'\n",
      "b'ico gerando um conte\\xc3\\xbado com cr\\xc3'\n",
      "b'\\xadtica construtiva e bem fundamen'\n",
      "b'tada.\\r\\n\\r\\nEm artes gr\\xc3\\xa1ficas, o t'\n",
      "b'exto \\xc3\\xa9 a parte verbal, lingu\\xc3\\xads'\n",
      "b'tica, por oposi\\xc3\\xa7\\xc3\\xa3o \\xc3\\xa0s ilustra'\n",
      "b'\\xc3\\xa7\\xc3\\xb5es.\\r\\n\\r\\nTodo texto tem que te'\n",
      "b'r alguns aspectos formais, ou se'\n",
      "b'ja, tem que ter estrutura, eleme'\n",
      "b'ntos que estabelecem rela\\xc3\\xa7\\xc3\\xa3o e'\n",
      "b'ntre si. Dentro dos aspectos for'\n",
      "b'mais temos a coes\\xc3\\xa3o e a coer\\xc3\\xaan'\n",
      "b'cia, que d\\xc3\\xa3o sentido e forma ao'\n",
      "b' texto. \"A coes\\xc3\\xa3o textual \\xc3\\xa9 a '\n",
      "b'rela\\xc3\\xa7\\xc3\\xa3o, a liga\\xc3\\xa7\\xc3\\xa3o, a conex\\xc3'\n",
      "b'\\xa3o entre as palavras, express\\xc3\\xb5e'\n",
      "b's ou frases do texto\\xe2\\x80\\x9d.[4] A co'\n",
      "b'er\\xc3\\xaancia est\\xc3\\xa1 relacionada com a'\n",
      "b' compreens\\xc3\\xa3o, a interpreta\\xc3\\xa7\\xc3\\xa3o'\n",
      "b' do que se diz ou escreve. Um te'\n",
      "b'xto precisa ter sentido, isto \\xc3\\xa9'\n",
      "b', precisa ter coer\\xc3\\xaancia. Embora'\n",
      "b' a coes\\xc3\\xa3o n\\xc3\\xa3o seja condi\\xc3\\xa7\\xc3\\xa3o '\n",
      "b'suficiente para que enunciados s'\n",
      "b'e constituam em textos, s\\xc3\\xa3o os '\n",
      "b'elementos coesivos que lhes d\\xc3\\xa3o'\n",
      "b' maior legibilidade e evidenciam'\n",
      "b' as rela\\xc3\\xa7\\xc3\\xb5es entre seus divers'\n",
      "b'os componentes, a coer\\xc3\\xaancia dep'\n",
      "b'ende da coes\\xc3\\xa3o.\\r\\n\\r\\n'\n"
     ]
    }
   ],
   "source": [
    "from functools import partial\n",
    "RECORD_SIZE = 32\n",
    "with open('somefile.data', 'rb') as f:\n",
    "    records = iter(partial(f.read, RECORD_SIZE), b'')\n",
    "    for r in records:\n",
    "        print(r)"
   ]
  },
  {
   "cell_type": "markdown",
   "metadata": {},
   "source": [
    "O objeto de registros neste exemplo é um iterável que produzirá pedaços de tamanho fixo até que o final do arquivo seja alcançado. No entanto, esteja ciente de que o **último item** pode ter menos bytes do que o esperado se o tamanho do arquivo não for um múltiplo exato do tamanho do registro.\n",
    "\n",
    "**Discussão**\n",
    "\n",
    "Um recurso pouco conhecido da função `iter()` é que ela pode criar um iterador se você passar um valor callable e um valor sentinela. O iterador resultante simplesmente chama o callable fornecido repetidamente até retornar o sentinela, ponto em que a iteração é interrompida.\n",
    "\n",
    "Na solução, o `functools.partial` é usado para criar um callable que lê um número fixo de bytes de um arquivo cada vez que é chamado. A sentinela de b'' é o que é retornado quando um arquivo é lido, mas o final do arquivo foi atingido.\n",
    "\n",
    "Por último, mas não menos importante, a solução mostra o arquivo sendo aberto no modo binário. Para ler registros de tamanho fixo, esse provavelmente seria o caso mais comum. Para arquivos de texto, a leitura linha por linha (o comportamento de iteração padrão) é mais comum.\n",
    "\n",
    "## 5.9. Lendo dados binários em um buffer mutável\n",
    "\n",
    "**Problema**\n",
    "\n",
    "Você deseja ler dados binários diretamente em um buffer mutável sem nenhuma cópia intermediária. Talvez você queira alterar os dados no local e gravá-los de volta em um arquivo.\n",
    "\n",
    "**Solução**\n",
    "\n",
    "Para ler dados em uma matriz mutável, use o método `readinto()` de arquivos. Por exemplo:"
   ]
  },
  {
   "cell_type": "code",
   "execution_count": 45,
   "metadata": {},
   "outputs": [],
   "source": [
    "import os.path\n",
    "def read_into_buffer(filename): \n",
    "    buf = bytearray(os.path.getsize(filename))\n",
    "    with open(filename, 'rb') as f:\n",
    "        f.readinto(buf)\n",
    "    return buf"
   ]
  },
  {
   "cell_type": "markdown",
   "metadata": {},
   "source": [
    "Aqui está um exemplo que ilustra o uso:"
   ]
  },
  {
   "cell_type": "code",
   "execution_count": 46,
   "metadata": {},
   "outputs": [
    {
     "data": {
      "text/plain": [
       "bytearray(b'Hello World')"
      ]
     },
     "execution_count": 46,
     "metadata": {},
     "output_type": "execute_result"
    }
   ],
   "source": [
    "# Write a sample file\n",
    "with open('sample.bin', 'wb') as f:\n",
    "    f.write(b'Hello World')\n",
    "\n",
    "buf = read_into_buffer('sample.bin')\n",
    "buf"
   ]
  },
  {
   "cell_type": "code",
   "execution_count": 47,
   "metadata": {},
   "outputs": [
    {
     "data": {
      "text/plain": [
       "bytearray(b'Hallo World')"
      ]
     },
     "execution_count": 47,
     "metadata": {},
     "output_type": "execute_result"
    }
   ],
   "source": [
    "buf[0:5] = b'Hallo'\n",
    "buf"
   ]
  },
  {
   "cell_type": "code",
   "execution_count": 48,
   "metadata": {},
   "outputs": [],
   "source": [
    "with open('newsample.bin', 'wb') as f:\n",
    "    f.write(buf)"
   ]
  },
  {
   "cell_type": "markdown",
   "metadata": {},
   "source": [
    "**Discussão**\n",
    "\n",
    "O método `readinto()` de arquivos pode ser usado para preencher qualquer array pré-alocado com dados. Isso inclui até mesmo arrays criados a partir do módulo `array` ou bibliotecas como `numpy`. Ao contrário do método `read()` normal, `readinto()` preenche o conteúdo de um buffer existente em vez de alocar novos objetos e retorná-los. Assim, você poderá usá-lo para evitar alocações extras de memória. Por exemplo, se você estiver lendo um arquivo binário que consiste em registros de tamanhos iguais, poderá escrever um código como este:"
   ]
  },
  {
   "cell_type": "code",
   "execution_count": 49,
   "metadata": {},
   "outputs": [],
   "source": [
    "record_size = 32 # Size of each record (adjust value)\n",
    "buf = bytearray(record_size)\n",
    "with open('somefile', 'rb') as f:\n",
    "    while True:\n",
    "        n = f.readinto(buf)\n",
    "        if n < record_size:\n",
    "            break\n",
    "            # Use the contents of buf\n",
    "            ...\n",
    "    "
   ]
  },
  {
   "cell_type": "markdown",
   "metadata": {},
   "source": [
    "Outro recurso interessante para usar aqui pode ser um `memoryview`, que permite fazer fatias de cópia zero de um buffer existente e até mesmo alterar seu conteúdo. Por exemplo:"
   ]
  },
  {
   "cell_type": "code",
   "execution_count": 50,
   "metadata": {},
   "outputs": [
    {
     "data": {
      "text/plain": [
       "bytearray(b'Hello\\r\\n\\x00\\x00\\x00\\x00\\x00\\x00\\x00\\x00\\x00\\x00\\x00\\x00\\x00\\x00\\x00\\x00\\x00\\x00\\x00\\x00\\x00\\x00\\x00\\x00\\x00')"
      ]
     },
     "execution_count": 50,
     "metadata": {},
     "output_type": "execute_result"
    }
   ],
   "source": [
    "buf"
   ]
  },
  {
   "cell_type": "code",
   "execution_count": 51,
   "metadata": {},
   "outputs": [
    {
     "data": {
      "text/plain": [
       "<memory at 0x00000223000BBA00>"
      ]
     },
     "execution_count": 51,
     "metadata": {},
     "output_type": "execute_result"
    }
   ],
   "source": [
    "m1 = memoryview(buf)\n",
    "m2 = m1[-5:]\n",
    "m2"
   ]
  },
  {
   "cell_type": "code",
   "execution_count": 52,
   "metadata": {},
   "outputs": [
    {
     "data": {
      "text/plain": [
       "bytearray(b'Hello\\r\\n\\x00\\x00\\x00\\x00\\x00\\x00\\x00\\x00\\x00\\x00\\x00\\x00\\x00\\x00\\x00\\x00\\x00\\x00\\x00\\x00WORLD')"
      ]
     },
     "execution_count": 52,
     "metadata": {},
     "output_type": "execute_result"
    }
   ],
   "source": [
    "m2[:] = b'WORLD'\n",
    "buf"
   ]
  },
  {
   "cell_type": "markdown",
   "metadata": {},
   "source": [
    "Um cuidado ao usar `f.readinto()` é que você deve sempre verificar seu código de retorno, que é o número de bytes realmente lidos.\n",
    "\n",
    "Se o número de bytes for menor que o tamanho do buffer fornecido, isso pode indicar dados truncados ou corrompidos (por exemplo, se você esperava que um número exato de bytes fosse lido).\n",
    "\n",
    "Finalmente, fique atento a outras funções relacionadas “into” em vários módulos de biblioteca (por exemplo, `recv_into()`, `pack_into()`, etc.). Muitas outras partes do Python têm suporte para I/O direta ou acesso a dados que podem ser usados para preencher ou alterar o conteúdo de arrays e buffers.\n",
    "\n",
    "Consulte a Receita 6.12 para obter um exemplo significativamente mais avançado de interpretação de estruturas binárias e uso de visualizações de memória.\n",
    "\n",
    "## 5.10. Arquivos binários de mapeamento de memória\n",
    "\n",
    "**Problema**\n",
    "\n",
    "Você deseja mapear a memória de um arquivo binário em uma matriz de bytes mutável, possivelmente para acesso aleatório ao seu conteúdo ou para fazer modificações no local.\n",
    "\n",
    "**Solução**\n",
    "\n",
    "Use o módulo `mmap` para arquivos de mapa de memória. Aqui está uma função de utilitário que mostra como abrir um arquivo e mapeá-lo na memória de maneira portátil:"
   ]
  },
  {
   "cell_type": "code",
   "execution_count": 53,
   "metadata": {},
   "outputs": [],
   "source": [
    "import os\n",
    "import mmap\n",
    "def memory_map(filename, access=mmap.ACCESS_WRITE):\n",
    "    size = os.path.getsize(filename)\n",
    "    fd = os.open(filename, os.O_RDWR)\n",
    "    return mmap.mmap(fd, size, access=access)"
   ]
  },
  {
   "cell_type": "markdown",
   "metadata": {},
   "source": [
    "Para utilizar esta função, você precisaria ter um arquivo já criado e preenchido com dados. Aqui está um exemplo de como você pode inicialmente criar um arquivo e expandi-lo para um tamanho desejado:"
   ]
  },
  {
   "cell_type": "code",
   "execution_count": 54,
   "metadata": {},
   "outputs": [],
   "source": [
    "size = 1000000\n",
    "with open('data', 'wb') as f:\n",
    "    f.seek(size-1)\n",
    "    f.write(b'\\x00')"
   ]
  },
  {
   "cell_type": "markdown",
   "metadata": {},
   "source": [
    "Agora aqui está um exemplo de mapeamento de memória do conteúdo usando a função `memory_map()`:"
   ]
  },
  {
   "cell_type": "code",
   "execution_count": 55,
   "metadata": {},
   "outputs": [
    {
     "data": {
      "text/plain": [
       "1000000"
      ]
     },
     "execution_count": 55,
     "metadata": {},
     "output_type": "execute_result"
    }
   ],
   "source": [
    "m = memory_map('data')\n",
    "len(m)"
   ]
  },
  {
   "cell_type": "code",
   "execution_count": 56,
   "metadata": {},
   "outputs": [
    {
     "data": {
      "text/plain": [
       "b'\\x00\\x00\\x00\\x00\\x00\\x00\\x00\\x00\\x00\\x00'"
      ]
     },
     "execution_count": 56,
     "metadata": {},
     "output_type": "execute_result"
    }
   ],
   "source": [
    "m[0:10]"
   ]
  },
  {
   "cell_type": "code",
   "execution_count": 57,
   "metadata": {},
   "outputs": [
    {
     "data": {
      "text/plain": [
       "0"
      ]
     },
     "execution_count": 57,
     "metadata": {},
     "output_type": "execute_result"
    }
   ],
   "source": [
    "m[0]"
   ]
  },
  {
   "cell_type": "code",
   "execution_count": 58,
   "metadata": {},
   "outputs": [],
   "source": [
    "# Reassign a slice\n",
    "m[0:11] = b'Hello World'\n",
    "m.close()"
   ]
  },
  {
   "cell_type": "code",
   "execution_count": 59,
   "metadata": {},
   "outputs": [
    {
     "name": "stdout",
     "output_type": "stream",
     "text": [
      "b'Hello World'\n"
     ]
    }
   ],
   "source": [
    "# Verify that changes were made\n",
    "with open('data', 'rb') as f:\n",
    "    print(f.read(11))"
   ]
  },
  {
   "cell_type": "markdown",
   "metadata": {},
   "source": [
    "O objeto mmap retornado por `mmap()` também pode ser usado como gerenciador de contexto, caso em que o arquivo subjacente é fechado automaticamente. Por exemplo:"
   ]
  },
  {
   "cell_type": "code",
   "execution_count": 60,
   "metadata": {},
   "outputs": [
    {
     "name": "stdout",
     "output_type": "stream",
     "text": [
      "1000000\n",
      "b'Hello Worl'\n"
     ]
    }
   ],
   "source": [
    "with memory_map('data') as m:\n",
    "    print(len(m))\n",
    "    print(m[0:10])"
   ]
  },
  {
   "cell_type": "code",
   "execution_count": 61,
   "metadata": {},
   "outputs": [
    {
     "data": {
      "text/plain": [
       "True"
      ]
     },
     "execution_count": 61,
     "metadata": {},
     "output_type": "execute_result"
    }
   ],
   "source": [
    "m.closed"
   ]
  },
  {
   "cell_type": "markdown",
   "metadata": {},
   "source": [
    "Por padrão, a função `memory_map()` mostrada abre um arquivo para leitura e escrita. Quaisquer modificações feitas nos dados são copiadas de volta para o arquivo original. Se o acesso somente leitura for necessário, forneça `map.ACCESS_READ` para o argumento de acesso. Por exemplo:\n",
    "~~~python\n",
    "m = memory_map(filename, mmap.ACCESS_READ)\n",
    "~~~"
   ]
  },
  {
   "cell_type": "markdown",
   "metadata": {},
   "source": [
    "Se você pretende modificar os dados localmente, mas não deseja que essas alterações sejam gravadas no arquivo original, use `mmap.ACCESS_COPY`:\n",
    "~~~python\n",
    "m = memory_map(filename, mmap.ACCESS_COPY)\n",
    "~~~\n",
    "\n",
    "**Discussão**\n",
    "\n",
    "Usar `mmap` para mapear arquivos na memória pode ser um meio eficiente e elegante de acessar aleatoriamente o conteúdo de um arquivo. Por exemplo, em vez de abrir um arquivo e executar várias combinações de chamadas `seek()`, `read()` e `write()`, você pode simplesmente mapear o arquivo e acessar os dados usando operações de fatiamento. Normalmente, a memória exposta por `mmap()` se parece com um objeto `bytearray`. No entanto, você pode interpretar os dados de maneira diferente usando uma visualização de memória. Por exemplo:"
   ]
  },
  {
   "cell_type": "code",
   "execution_count": 62,
   "metadata": {},
   "outputs": [
    {
     "data": {
      "text/plain": [
       "b'\\x07\\x00\\x00\\x00'"
      ]
     },
     "execution_count": 62,
     "metadata": {},
     "output_type": "execute_result"
    }
   ],
   "source": [
    "m = memory_map('data')\n",
    "# Memoryview of unsigned integers\n",
    "v = memoryview(m).cast('I')\n",
    "v[0] = 7\n",
    "m[0:4]"
   ]
  },
  {
   "cell_type": "code",
   "execution_count": 63,
   "metadata": {},
   "outputs": [
    {
     "data": {
      "text/plain": [
       "263"
      ]
     },
     "execution_count": 63,
     "metadata": {},
     "output_type": "execute_result"
    }
   ],
   "source": [
    "m[0:4] = b'\\x07\\x01\\x00\\x00'\n",
    "v[0]"
   ]
  },
  {
   "cell_type": "markdown",
   "metadata": {},
   "source": [
    "Deve-se enfatizar que o mapeamento de memória de um arquivo não faz com que o arquivo inteiro seja lido na memória. Ou seja, não é copiado em algum tipo de buffer de memória ou array.\n",
    "\n",
    "Em vez disso, o sistema operacional apenas reserva uma seção de memória virtual para o conteúdo do arquivo. Conforme você acessa diferentes regiões, essas partes do arquivo serão lidas e mapeadas na região de memória conforme necessário. No entanto, partes do arquivo que nunca são acessadas simplesmente permanecem no disco. Tudo isso acontece de forma transparente, nos bastidores.\n",
    "\n",
    "Se mais de uma memória do interpretador Python mapear o mesmo arquivo, o objeto `mmap` resultante poderá ser usado para trocar dados entre os interpretadores. Ou seja, todos os intérpretes podem ler/gravar dados simultaneamente, e as alterações feitas nos dados de um intérprete aparecerão automaticamente nos outros. Obviamente, alguns cuidados extras são necessários para sincronizar as coisas, mas esse tipo de abordagem às vezes é usado como uma alternativa à transmissão de dados em mensagens por pipes ou sockets.\n",
    "\n",
    "Como mostrado, esta receita foi escrita para ser o mais geral possível, funcionando tanto no Unix quanto no Windows. Esteja ciente de que existem algumas diferenças de plataforma em relação ao uso da chamada `mmap()` oculta nos bastidores. Além disso, há opções para criar regiões de memória mapeadas anonimamente. Se isso for do seu interesse, certifique-se de ler atentamente a documentação do Python sobre o assunto.\n",
    "\n",
    "## 5.11. Manipulando nomes de caminho\n",
    "\n",
    "**Problema**\n",
    "\n",
    "Você precisa manipular os nomes de caminho para encontrar o nome do arquivo base, o nome do diretório, o caminho absoluto e assim por diante.\n",
    "\n",
    "**Solução**\n",
    "\n",
    "Para manipular nomes de caminhos, use as funções no módulo `os.path`. Aqui está um exemplo interativo que ilustra alguns recursos principais:"
   ]
  },
  {
   "cell_type": "code",
   "execution_count": 64,
   "metadata": {},
   "outputs": [],
   "source": [
    "import os\n",
    "path = r'\\Users\\dell\\OneDrive\\Documentos\\4. GitHub\\Python_Cookbook_Recipes_3rd\\somefile.txt'"
   ]
  },
  {
   "cell_type": "code",
   "execution_count": 65,
   "metadata": {},
   "outputs": [
    {
     "data": {
      "text/plain": [
       "'somefile.txt'"
      ]
     },
     "execution_count": 65,
     "metadata": {},
     "output_type": "execute_result"
    }
   ],
   "source": [
    "# Pegando o último componente do caminho\n",
    "os.path.basename(path)"
   ]
  },
  {
   "cell_type": "code",
   "execution_count": 66,
   "metadata": {},
   "outputs": [
    {
     "data": {
      "text/plain": [
       "'\\\\Users\\\\dell\\\\OneDrive\\\\Documentos\\\\4. GitHub\\\\Python_Cookbook_Recipes_3rd'"
      ]
     },
     "execution_count": 66,
     "metadata": {},
     "output_type": "execute_result"
    }
   ],
   "source": [
    "# Pegando o nome do diretório\n",
    "os.path.dirname(path)"
   ]
  },
  {
   "cell_type": "code",
   "execution_count": 67,
   "metadata": {},
   "outputs": [
    {
     "data": {
      "text/plain": [
       "'tmp\\\\data\\\\somefile.txt'"
      ]
     },
     "execution_count": 67,
     "metadata": {},
     "output_type": "execute_result"
    }
   ],
   "source": [
    "# Juntando os componentes\n",
    "os.path.join('tmp','data',os.path.basename(path))"
   ]
  },
  {
   "cell_type": "code",
   "execution_count": 68,
   "metadata": {},
   "outputs": [
    {
     "data": {
      "text/plain": [
       "'C:\\\\Users\\\\dell/Python_Cookbook_Recipes_3rd/somefile.txt'"
      ]
     },
     "execution_count": 68,
     "metadata": {},
     "output_type": "execute_result"
    }
   ],
   "source": [
    "# Expand the user's home directory\n",
    "path = '~/Python_Cookbook_Recipes_3rd/somefile.txt'\n",
    "os.path.expanduser(path)"
   ]
  },
  {
   "cell_type": "code",
   "execution_count": 69,
   "metadata": {},
   "outputs": [
    {
     "data": {
      "text/plain": [
       "('~/Python_Cookbook_Recipes_3rd/somefile', '.txt')"
      ]
     },
     "execution_count": 69,
     "metadata": {},
     "output_type": "execute_result"
    }
   ],
   "source": [
    "# Split the file extension\n",
    "os.path.splitext(path)"
   ]
  },
  {
   "cell_type": "markdown",
   "metadata": {},
   "source": [
    "**Discussão**\n",
    "\n",
    "Para qualquer manipulação de nomes de arquivos, você deve usar o módulo `os.path` em vez de tentar criar seu próprio código usando as operações de string padrão. Em parte, isso é para portabilidade. O módulo `os.path` conhece as diferenças entre Unix e Windows e pode lidar de forma confiável com nomes de arquivos como **Data/data.csv** e **Data\\data.csv**. Em segundo lugar, você realmente não deve gastar seu tempo reinventando a roda. Geralmente, é melhor usar a funcionalidade que já foi fornecida para você.\n",
    "\n",
    "Deve-se notar que o módulo `os.path` possui muitos outros recursos não mostrados nesta receita. Consulte a documentação para obter mais funções relacionadas ao teste de arquivos, links simbólicos e assim por diante.\n",
    "\n",
    "## 5.12. Testando a existência de um arquivo\n",
    "\n",
    "**Problema**\n",
    "\n",
    "Você precisa testar se existe ou não um arquivo ou diretório.\n",
    "\n",
    "**Solução**\n",
    "\n",
    "Use o módulo `os.path` para testar a existência de um arquivo ou diretório. Por exemplo:"
   ]
  },
  {
   "cell_type": "code",
   "execution_count": 70,
   "metadata": {},
   "outputs": [
    {
     "data": {
      "text/plain": [
       "True"
      ]
     },
     "execution_count": 70,
     "metadata": {},
     "output_type": "execute_result"
    }
   ],
   "source": [
    "import os\n",
    "os.path.exists('somefile.txt')"
   ]
  },
  {
   "cell_type": "code",
   "execution_count": 71,
   "metadata": {},
   "outputs": [
    {
     "data": {
      "text/plain": [
       "False"
      ]
     },
     "execution_count": 71,
     "metadata": {},
     "output_type": "execute_result"
    }
   ],
   "source": [
    "os.path.exists('spam')"
   ]
  },
  {
   "cell_type": "markdown",
   "metadata": {},
   "source": [
    "Você pode realizar mais testes para ver que tipo de arquivo pode ser. Esses testes retornam `False` se o arquivo em questão não existir:"
   ]
  },
  {
   "cell_type": "code",
   "execution_count": 72,
   "metadata": {},
   "outputs": [
    {
     "data": {
      "text/plain": [
       "True"
      ]
     },
     "execution_count": 72,
     "metadata": {},
     "output_type": "execute_result"
    }
   ],
   "source": [
    "# Is a regular file\n",
    "os.path.isfile('somefile.txt')"
   ]
  },
  {
   "cell_type": "code",
   "execution_count": 73,
   "metadata": {},
   "outputs": [
    {
     "data": {
      "text/plain": [
       "False"
      ]
     },
     "execution_count": 73,
     "metadata": {},
     "output_type": "execute_result"
    }
   ],
   "source": [
    "# Is a directory\n",
    "os.path.isdir('somefile.txt')"
   ]
  },
  {
   "cell_type": "code",
   "execution_count": 74,
   "metadata": {},
   "outputs": [
    {
     "data": {
      "text/plain": [
       "False"
      ]
     },
     "execution_count": 74,
     "metadata": {},
     "output_type": "execute_result"
    }
   ],
   "source": [
    "# Is a symbolic link\n",
    "os.path.islink('/usr/local/bin/python3')"
   ]
  },
  {
   "cell_type": "code",
   "execution_count": 75,
   "metadata": {},
   "outputs": [
    {
     "data": {
      "text/plain": [
       "'C:\\\\usr\\\\local\\\\bin\\\\python3'"
      ]
     },
     "execution_count": 75,
     "metadata": {},
     "output_type": "execute_result"
    }
   ],
   "source": [
    "# Get the file linked to\n",
    "os.path.realpath('/usr/local/bin/python3')"
   ]
  },
  {
   "cell_type": "markdown",
   "metadata": {},
   "source": [
    "Se você precisar obter metadados (por exemplo, o tamanho do arquivo ou a data de modificação), isso também está disponível no módulo `os.path`."
   ]
  },
  {
   "cell_type": "code",
   "execution_count": 76,
   "metadata": {},
   "outputs": [
    {
     "data": {
      "text/plain": [
       "0"
      ]
     },
     "execution_count": 76,
     "metadata": {},
     "output_type": "execute_result"
    }
   ],
   "source": [
    "os.path.getsize('somefile.txt')"
   ]
  },
  {
   "cell_type": "code",
   "execution_count": 77,
   "metadata": {},
   "outputs": [
    {
     "data": {
      "text/plain": [
       "1667506668.6204474"
      ]
     },
     "execution_count": 77,
     "metadata": {},
     "output_type": "execute_result"
    }
   ],
   "source": [
    "os.path.getmtime('somefile.txt')"
   ]
  },
  {
   "cell_type": "code",
   "execution_count": 78,
   "metadata": {},
   "outputs": [
    {
     "data": {
      "text/plain": [
       "'Thu Nov  3 16:17:48 2022'"
      ]
     },
     "execution_count": 78,
     "metadata": {},
     "output_type": "execute_result"
    }
   ],
   "source": [
    "import time\n",
    "time.ctime(os.path.getmtime('somefile.txt'))"
   ]
  },
  {
   "cell_type": "markdown",
   "metadata": {},
   "source": [
    "**Discussão**\n",
    "\n",
    "O teste de arquivos é uma operação direta usando `os.path`. Provavelmente, a única coisa que você deve estar ciente ao escrever scripts é que talvez você precise se preocupar com permissões, especialmente para operações que obtêm metadados. Por exemplo:\n",
    "~~~python\n",
    "os.path.getsize('/Users/guido/Desktop/foo.txt')\n",
    "Traceback (most recent call last):\n",
    "    File \"<stdin>\", line 1, in <module>\n",
    "    File \"/usr/local/lib/python3.3/genericpath.py\", line 49, in getsize\n",
    "      return os.stat(filename).st_size\n",
    " PermissionError: [Errno 13] Permission denied: '/Users/guido/Desktop/foo.txt'\n",
    "~~~"
   ]
  },
  {
   "cell_type": "markdown",
   "metadata": {},
   "source": [
    "## 5.13. Obtendo uma listagem de diretório\n",
    "\n",
    "**Problema**\n",
    "\n",
    "Você deseja obter uma lista dos arquivos contidos em um diretório no sistema de arquivos.\n",
    "\n",
    "**Solução**\n",
    "\n",
    "Use a função `os.listdir()` para obter uma lista de arquivos em um diretório:"
   ]
  },
  {
   "cell_type": "code",
   "execution_count": 79,
   "metadata": {},
   "outputs": [
    {
     "data": {
      "text/plain": [
       "['Arquivo_teste.ipynb',\n",
       " 'diretorio',\n",
       " 'somefile',\n",
       " 'somefile.bin',\n",
       " 'somefile.txt']"
      ]
     },
     "execution_count": 79,
     "metadata": {},
     "output_type": "execute_result"
    }
   ],
   "source": [
    "import os\n",
    "names = os.listdir('somedir')\n",
    "names"
   ]
  },
  {
   "cell_type": "markdown",
   "metadata": {},
   "source": [
    "Isso fornecerá a listagem de diretórios brutos, incluindo todos os arquivos, subdiretórios, links simbólicos e assim por diante. Se você precisar filtrar os dados de alguma forma, considere usar uma *list comphrension* combinada com várias funções na biblioteca `os.path`. Por exemplo:"
   ]
  },
  {
   "cell_type": "code",
   "execution_count": 80,
   "metadata": {},
   "outputs": [
    {
     "data": {
      "text/plain": [
       "['Arquivo_teste.ipynb', 'somefile', 'somefile.bin', 'somefile.txt']"
      ]
     },
     "execution_count": 80,
     "metadata": {},
     "output_type": "execute_result"
    }
   ],
   "source": [
    "import os.path\n",
    "# Get all regular files\n",
    "names = [name for name in os.listdir('somedir') if os.path.isfile(os.path.join('somedir', name))]\n",
    "names"
   ]
  },
  {
   "cell_type": "code",
   "execution_count": 81,
   "metadata": {},
   "outputs": [
    {
     "data": {
      "text/plain": [
       "['diretorio']"
      ]
     },
     "execution_count": 81,
     "metadata": {},
     "output_type": "execute_result"
    }
   ],
   "source": [
    "# Get all dirs\n",
    "dirnames = [name for name in os.listdir('somedir') if os.path.isdir(os.path.join('somedir', name))]\n",
    "dirnames"
   ]
  },
  {
   "cell_type": "markdown",
   "metadata": {},
   "source": [
    "Os métodos `startswith()` e `endswith()` de strings também podem ser úteis para filtrar o conteúdo de um diretório. Por exemplo:"
   ]
  },
  {
   "cell_type": "code",
   "execution_count": 82,
   "metadata": {},
   "outputs": [
    {
     "data": {
      "text/plain": [
       "['Arquivo_teste.ipynb']"
      ]
     },
     "execution_count": 82,
     "metadata": {},
     "output_type": "execute_result"
    }
   ],
   "source": [
    "pyfiles = [name for name in os.listdir('somedir') if name.endswith('.ipynb')]\n",
    "pyfiles"
   ]
  },
  {
   "cell_type": "markdown",
   "metadata": {},
   "source": [
    "Para correspondência de nome de arquivo, você pode usar os módulos `glob` ou `fnmatch`. Por exemplo:"
   ]
  },
  {
   "cell_type": "code",
   "execution_count": 83,
   "metadata": {},
   "outputs": [
    {
     "data": {
      "text/plain": [
       "['somedir\\\\Arquivo_teste.ipynb']"
      ]
     },
     "execution_count": 83,
     "metadata": {},
     "output_type": "execute_result"
    }
   ],
   "source": [
    "import glob\n",
    "pyfiles = glob.glob('somedir/*.ipynb')\n",
    "pyfiles"
   ]
  },
  {
   "cell_type": "code",
   "execution_count": 84,
   "metadata": {},
   "outputs": [
    {
     "data": {
      "text/plain": [
       "['Arquivo_teste.ipynb']"
      ]
     },
     "execution_count": 84,
     "metadata": {},
     "output_type": "execute_result"
    }
   ],
   "source": [
    "from fnmatch import fnmatch\n",
    "pyfiles = [name for name in os.listdir('somedir') if fnmatch(name, '*.ipynb')]\n",
    "pyfiles"
   ]
  },
  {
   "cell_type": "markdown",
   "metadata": {},
   "source": [
    "**Discussão**\n",
    "\n",
    "Obter uma listagem de diretório é fácil, mas fornece apenas os nomes das entradas no diretório. Se você deseja obter metadados adicionais, como tamanhos de arquivo, datas de modificação e assim por diante, você precisa usar funções adicionais no módulo `os.path` ou usar a função `os.stat()`. Para coletar os dados. Por exemplo:"
   ]
  },
  {
   "cell_type": "code",
   "execution_count": 85,
   "metadata": {},
   "outputs": [
    {
     "data": {
      "text/plain": [
       "['Capítulo 1 - Estruturas de Dados e Algoritmos.ipynb',\n",
       " 'Capítulo 2 - Strings e Texto.ipynb',\n",
       " 'Capítulo 3 - Números, Datas e Horas.ipynb',\n",
       " 'Capítulo 5 - Arquivos.ipynb']"
      ]
     },
     "execution_count": 85,
     "metadata": {},
     "output_type": "execute_result"
    }
   ],
   "source": [
    "# Example of getting a directory listing\n",
    "import os\n",
    "import os.path\n",
    "import glob\n",
    "pyfiles = glob.glob('*.ipynb')\n",
    "pyfiles"
   ]
  },
  {
   "cell_type": "code",
   "execution_count": 86,
   "metadata": {},
   "outputs": [
    {
     "name": "stdout",
     "output_type": "stream",
     "text": [
      "Nome: Capítulo 1 - Estruturas de Dados e Algoritmos.ipynb == Tamanho: 123351 -  1667214399.0\n",
      "Nome: Capítulo 2 - Strings e Texto.ipynb == Tamanho: 155085 -  1667214399.0\n",
      "Nome: Capítulo 3 - Números, Datas e Horas.ipynb == Tamanho: 117282 -  1667214399.0\n",
      "Nome: Capítulo 5 - Arquivos.ipynb == Tamanho: 81904 -  1667506660.3621068\n"
     ]
    }
   ],
   "source": [
    "# Get file sizes and modification dates\n",
    "name_sz_date = [(name, os.path.getsize(name), os.path.getmtime(name)) for name in pyfiles]\n",
    "for name, size, mtime in name_sz_date:\n",
    "    print(f\"Nome: {name} == Tamanho: {size} -  {mtime}\")\n"
   ]
  },
  {
   "cell_type": "code",
   "execution_count": 87,
   "metadata": {},
   "outputs": [
    {
     "name": "stdout",
     "output_type": "stream",
     "text": [
      "NOME: Capítulo 1 - Estruturas de Dados e Algoritmos.ipynb == TAMANHO: 123351 = 1667214399.0\n",
      "NOME: Capítulo 2 - Strings e Texto.ipynb == TAMANHO: 155085 = 1667214399.0\n",
      "NOME: Capítulo 3 - Números, Datas e Horas.ipynb == TAMANHO: 117282 = 1667214399.0\n",
      "NOME: Capítulo 5 - Arquivos.ipynb == TAMANHO: 81904 = 1667506660.3621068\n"
     ]
    }
   ],
   "source": [
    "# Alternative: Get file metadata\n",
    "file_metadata = [(name, os.stat(name)) for name in pyfiles]\n",
    "for name, meta in file_metadata:\n",
    "    print(f\"NOME: {name} == TAMANHO: {meta.st_size} = {meta.st_mtime}\")"
   ]
  },
  {
   "cell_type": "markdown",
   "metadata": {},
   "source": [
    "Por último, mas não menos importante, esteja ciente de que existem problemas sutis que podem surgir no manuseio de nomes de arquivos relacionados a codificações. Normalmente, as entradas retornadas por uma função como `os.list dir()` são decodificadas de acordo com a codificação de nome de arquivo padrão do sistema. No entanto, é possível, sob certas circunstâncias, encontrar nomes de arquivos não decodificáveis. As receitas 5.14 e 5.15 têm mais detalhes sobre como lidar com esses nomes."
   ]
  },
  {
   "cell_type": "markdown",
   "metadata": {},
   "source": [
    "## 5.14. Ignorando a codificação de nome de arquivo\n",
    "\n",
    "**Problema**\n",
    "\n",
    "Você deseja executar operações de I/O de arquivo usando nomes de arquivo brutos que não foram decodificados ou codificados de acordo com a codificação de nome de arquivo padrão.\n",
    "\n",
    "**Solução**\n",
    "\n",
    "Por padrão, todos os nomes de arquivo são codificados e decodificados de acordo com a codificação de texto retornada por `sys.getfilesystemencoding()`. Por exemplo:"
   ]
  },
  {
   "cell_type": "code",
   "execution_count": 88,
   "metadata": {},
   "outputs": [
    {
     "data": {
      "text/plain": [
       "'utf-8'"
      ]
     },
     "execution_count": 88,
     "metadata": {},
     "output_type": "execute_result"
    }
   ],
   "source": [
    "import sys\n",
    "sys.getfilesystemencoding()"
   ]
  },
  {
   "cell_type": "markdown",
   "metadata": {},
   "source": [
    "Se você quiser ignorar essa codificação por algum motivo, especifique um nome de arquivo usando uma cadeia de bytes bruta. Por exemplo:"
   ]
  },
  {
   "cell_type": "code",
   "execution_count": 89,
   "metadata": {},
   "outputs": [],
   "source": [
    "# Write a file using a unicode filename\n",
    "with open('jalape\\xf1o.txt', 'w') as f:\n",
    "    f.write('Spicy!')"
   ]
  },
  {
   "cell_type": "code",
   "execution_count": 90,
   "metadata": {},
   "outputs": [
    {
     "data": {
      "text/plain": [
       "[b'.git',\n",
       " b'.idea',\n",
       " b'.ipynb_checkpoints',\n",
       " b'b\\xc3\\xa4d.txt',\n",
       " b'Cap\\xc3\\xadtulo 1 - Estruturas de Dados e Algoritmos.ipynb',\n",
       " b'Cap\\xc3\\xadtulo 2 - Strings e Texto.ipynb',\n",
       " b'Cap\\xc3\\xadtulo 3 - N\\xc3\\xbameros, Datas e Horas.ipynb',\n",
       " b'Cap\\xc3\\xadtulo 5 - Arquivos.ipynb',\n",
       " b'data',\n",
       " b'data.bin',\n",
       " b'hello.txt',\n",
       " b'jalape\\xc3\\xb1o.txt',\n",
       " b'LICENSE',\n",
       " b'newsample.bin',\n",
       " b'otherfile.txt',\n",
       " b'README.md',\n",
       " b'sample.bin',\n",
       " b'sample.txt',\n",
       " b'somedir',\n",
       " b'somefile',\n",
       " b'somefile.bin',\n",
       " b'somefile.bz2',\n",
       " b'somefile.data',\n",
       " b'somefile.gz',\n",
       " b'somefile.txt']"
      ]
     },
     "execution_count": 90,
     "metadata": {},
     "output_type": "execute_result"
    }
   ],
   "source": [
    "# Directory listing (raw)\n",
    "os.listdir(b'.') # Note: byte string"
   ]
  },
  {
   "cell_type": "code",
   "execution_count": 91,
   "metadata": {},
   "outputs": [
    {
     "name": "stdout",
     "output_type": "stream",
     "text": [
      "Spicy!\n"
     ]
    }
   ],
   "source": [
    "# Open file with raw filename\n",
    "with open(b'jalape\\xc3\\xb1o.txt') as f:\n",
    "    print(f.read())"
   ]
  },
  {
   "cell_type": "markdown",
   "metadata": {},
   "source": [
    "Como você pode ver nas duas últimas operações, o tratamento do nome do arquivo muda ligeiramente quando strings de bytes são fornecidas para funções relacionadas a arquivos, como `open()` e `os.listdir()`.\n",
    "\n",
    "**Discussão**\n",
    "\n",
    "Em circunstâncias normais, você não precisa se preocupar com a codificação e decodificação de nome de arquivo - as operações normais de nome de arquivo devem funcionar. No entanto, muitos sistemas operacionais podem permitir que um usuário, por acidente ou malícia, crie arquivos com nomes que não estejam de acordo com as regras de codificação esperadas. Esses nomes de arquivos podem quebrar misteriosamente programas Python que funcionam com muitos arquivos.\n",
    "\n",
    "Ler diretórios e trabalhar com nomes de arquivos como bytes não codificados brutos tem o potencial de evitar tais problemas, embora ao custo de conveniência de programação.\n",
    "\n",
    "Consulte a Receita 5.15 para obter uma receita sobre como imprimir nomes de arquivos incodificáveis.\n",
    "\n",
    "## 5.15. Imprimindo nomes de arquivos incorretos\n",
    "\n",
    "**Problema**\n",
    "\n",
    "Seu programa recebeu uma listagem de diretórios, mas quando tentou imprimir os nomes dos arquivos, ele travou com uma exceção UnicodeEncodeError e uma mensagem enigmática sobre “substitutos não permitidos”.\n",
    "\n",
    "**Solução**\n",
    "\n",
    "Ao imprimir nomes de arquivos de origem desconhecida, use esta convenção para evitar erros:"
   ]
  },
  {
   "cell_type": "code",
   "execution_count": 92,
   "metadata": {},
   "outputs": [
    {
     "name": "stdout",
     "output_type": "stream",
     "text": [
      "somefile.txt\n"
     ]
    }
   ],
   "source": [
    "def bad_filename(filename):\n",
    "    return repr(filename)[1:-1]\n",
    "\n",
    "try:\n",
    "    print('somefile.txt')\n",
    "\n",
    "except UnicodeEncodeError:\n",
    "    print(bad_filename(filename))"
   ]
  },
  {
   "cell_type": "markdown",
   "metadata": {},
   "source": [
    "**Discussão**\n",
    "\n",
    "Esta receita é sobre um problema potencialmente raro, mas muito irritante, relacionado a programas que devem manipular o sistema de arquivos. Por padrão, o Python assume que todos os nomes de arquivo são codificados de acordo com a configuração relatada por `sys.getfilesystemencoding()`. No entanto, certos sistemas de arquivos não impõem necessariamente essa restrição de codificação, permitindo assim que os arquivos sejam criados sem a codificação de nome de arquivo adequada. Não é comum, mas sempre existe o perigo de que algum usuário faça algo bobo e crie esse arquivo por acidente (por exemplo, talvez passando um nome de arquivo incorreto para `open()` em algum código com erros).\n",
    "\n",
    "Ao executar um comando como `os.listdir()`, nomes de arquivos incorretos deixam o Python em um vínculo. Por um lado, não pode simplesmente descartar nomes ruins. Por outro lado, ainda não pode transformar o nome do arquivo em uma string de texto adequada. A solução do Python para esse problema é pegar um valor de byte não decodificável *\\xhh* em um nome de arquivo e mapeá-lo em uma chamada “codificação substituta” representada pelo caractere Unicode *\\udchh*. Aqui está um exemplo de como uma listagem de diretório ruim pode parecer se contiver um nome de arquivo *bäd.txt*, codificado como *Latin-1* em vez de *UTF-8*:"
   ]
  },
  {
   "cell_type": "code",
   "execution_count": 93,
   "metadata": {},
   "outputs": [
    {
     "data": {
      "text/plain": [
       "['.git',\n",
       " '.idea',\n",
       " '.ipynb_checkpoints',\n",
       " 'bäd.txt',\n",
       " 'Capítulo 1 - Estruturas de Dados e Algoritmos.ipynb',\n",
       " 'Capítulo 2 - Strings e Texto.ipynb',\n",
       " 'Capítulo 3 - Números, Datas e Horas.ipynb',\n",
       " 'Capítulo 5 - Arquivos.ipynb',\n",
       " 'data',\n",
       " 'data.bin',\n",
       " 'hello.txt',\n",
       " 'jalapeño.txt',\n",
       " 'LICENSE',\n",
       " 'newsample.bin',\n",
       " 'otherfile.txt',\n",
       " 'README.md',\n",
       " 'sample.bin',\n",
       " 'sample.txt',\n",
       " 'somedir',\n",
       " 'somefile',\n",
       " 'somefile.bin',\n",
       " 'somefile.bz2',\n",
       " 'somefile.data',\n",
       " 'somefile.gz',\n",
       " 'somefile.txt']"
      ]
     },
     "execution_count": 93,
     "metadata": {},
     "output_type": "execute_result"
    }
   ],
   "source": [
    "import os\n",
    "files = os.listdir('.')\n",
    "files"
   ]
  },
  {
   "cell_type": "markdown",
   "metadata": {},
   "source": [
    "Se você tem um código que manipula nomes de arquivos ou mesmo os passa para funções como `open()`, tudo funciona normalmente. É apenas em situações em que você deseja gerar o nome do arquivo que você encontra problemas (por exemplo, imprimi-lo na tela, registrá-lo etc.). Especificamente, se você tentou imprimir a listagem anterior, seu programa irá travar:\n",
    "~~~python\n",
    "for name in files:\n",
    "    print(name)\n",
    "\n",
    "spam.py\n",
    "Traceback (most recent call last):\n",
    "  File \"<stdin>\", line 2, in <module>\n",
    " UnicodeEncodeError: 'utf-8' codec can't encode character '\\udce4' in\n",
    "position 1: surrogates not allowed\n",
    "~~~"
   ]
  },
  {
   "cell_type": "markdown",
   "metadata": {},
   "source": [
    "A razão pela qual ele trava é que o caractere **\\udce4** é tecnicamente Unicode inválido. Na verdade, é a segunda metade de uma combinação de dois caracteres conhecida como par substituto.\n",
    "\n",
    "No entanto, como a primeira metade está faltando, é um Unicode inválido. Assim, a única maneira de produzir uma saída bem-sucedida é tomar uma ação corretiva quando um nome de arquivo incorreto for encontrado. Por exemplo, alterar o código para a receita produz o seguinte:"
   ]
  },
  {
   "cell_type": "code",
   "execution_count": 94,
   "metadata": {},
   "outputs": [
    {
     "name": "stdout",
     "output_type": "stream",
     "text": [
      ".git\n",
      ".idea\n",
      ".ipynb_checkpoints\n",
      "bäd.txt\n",
      "Capítulo 1 - Estruturas de Dados e Algoritmos.ipynb\n",
      "Capítulo 2 - Strings e Texto.ipynb\n",
      "Capítulo 3 - Números, Datas e Horas.ipynb\n",
      "Capítulo 5 - Arquivos.ipynb\n",
      "data\n",
      "data.bin\n",
      "hello.txt\n",
      "jalapeño.txt\n",
      "LICENSE\n",
      "newsample.bin\n",
      "otherfile.txt\n",
      "README.md\n",
      "sample.bin\n",
      "sample.txt\n",
      "somedir\n",
      "somefile\n",
      "somefile.bin\n",
      "somefile.bz2\n",
      "somefile.data\n",
      "somefile.gz\n",
      "somefile.txt\n"
     ]
    }
   ],
   "source": [
    "for name in files:\n",
    "    try:\n",
    "        print(name)\n",
    "    except UnicodeEncodeError:\n",
    "        print(bad_filename(name))"
   ]
  },
  {
   "cell_type": "markdown",
   "metadata": {},
   "source": [
    "A escolha do que fazer para a função `bad_filename()` depende muito de você. Outra opção é recodificar o valor de alguma forma, assim:"
   ]
  },
  {
   "cell_type": "code",
   "execution_count": 95,
   "metadata": {},
   "outputs": [],
   "source": [
    "def bad_filename(filename):\n",
    "    temp = filename.encode(sys.getfilesystemencoding(), errors='surrogateescape')\n",
    "    return temp.decode('latin-1')"
   ]
  },
  {
   "cell_type": "markdown",
   "metadata": {},
   "source": [
    "O uso desta versão produz a seguinte saída:"
   ]
  },
  {
   "cell_type": "code",
   "execution_count": 96,
   "metadata": {},
   "outputs": [
    {
     "name": "stdout",
     "output_type": "stream",
     "text": [
      ".git\n",
      ".idea\n",
      ".ipynb_checkpoints\n",
      "bäd.txt\n",
      "Capítulo 1 - Estruturas de Dados e Algoritmos.ipynb\n",
      "Capítulo 2 - Strings e Texto.ipynb\n",
      "Capítulo 3 - Números, Datas e Horas.ipynb\n",
      "Capítulo 5 - Arquivos.ipynb\n",
      "data\n",
      "data.bin\n",
      "hello.txt\n",
      "jalapeño.txt\n",
      "LICENSE\n",
      "newsample.bin\n",
      "otherfile.txt\n",
      "README.md\n",
      "sample.bin\n",
      "sample.txt\n",
      "somedir\n",
      "somefile\n",
      "somefile.bin\n",
      "somefile.bz2\n",
      "somefile.data\n",
      "somefile.gz\n",
      "somefile.txt\n"
     ]
    }
   ],
   "source": [
    " for name in files:\n",
    "        try:\n",
    "            print(name)\n",
    "        except UnicodeEncodeError:\n",
    "            print(bad_filename(name))"
   ]
  },
  {
   "cell_type": "markdown",
   "metadata": {},
   "source": [
    "Esta receita provavelmente será ignorada pela maioria dos leitores. No entanto, se você estiver escrevendo scripts de missão crítica que precisam funcionar de maneira confiável com nomes de arquivos e sistema de arquivos, é algo a se pensar. Caso contrário, você pode ser chamado de volta ao escritório no fim de semana para depurar um erro aparentemente inescrutável.\n",
    "\n",
    "## 5.16. Adicionando ou alterando a codificação de um arquivo já aberto\n",
    "\n",
    "**Problema**\n",
    "\n",
    "Você deseja adicionar ou alterar a codificação Unicode de um arquivo já aberto sem fechá-lo primeiro.\n",
    "\n",
    "**Solução**\n",
    "\n",
    "Se você deseja adicionar codificação/decodificação Unicode a um objeto de arquivo já existente que é aberto no modo binário, envolva-o com um objeto `io.TextIOWrapper()`. Por exemplo:"
   ]
  },
  {
   "cell_type": "code",
   "execution_count": 97,
   "metadata": {},
   "outputs": [],
   "source": [
    "import urllib.request\n",
    "import io\n",
    "u = urllib.request.urlopen('http://www.python.org')\n",
    "f = io.TextIOWrapper(u,encoding='utf-8')\n",
    "text = f.read()"
   ]
  },
  {
   "cell_type": "markdown",
   "metadata": {},
   "source": [
    "Se você deseja alterar a codificação de um arquivo em modo de texto já aberto, use seu método ´`detach()` para remover a camada de codificação de texto existente antes de substituí-la por uma nova. Aqui está um exemplo de alteração da codificação em `sys.stdout`:"
   ]
  },
  {
   "cell_type": "code",
   "execution_count": 98,
   "metadata": {},
   "outputs": [
    {
     "data": {
      "text/plain": [
       "'UTF-8'"
      ]
     },
     "execution_count": 98,
     "metadata": {},
     "output_type": "execute_result"
    }
   ],
   "source": [
    "import sys\n",
    "sys.stdout.encoding"
   ]
  },
  {
   "cell_type": "markdown",
   "metadata": {},
   "source": [
    "~~~python\n",
    "sys.stdout = io.TextIOWrapper(sys.stdout.detach(), encoding='latin-1')\n",
    "sys.stdout.encoding\n",
    "\n",
    "'latin-1'\n",
    "~~~\n",
    "Fazer isso pode quebrar a saída do seu terminal. Serve apenas para ilustrar."
   ]
  },
  {
   "cell_type": "markdown",
   "metadata": {},
   "source": [
    "**Discussão**\n",
    "\n",
    "O sistema de I/O é construído como uma série de camadas. Você mesmo pode ver as camadas tentando este exemplo simples envolvendo um arquivo de texto:"
   ]
  },
  {
   "cell_type": "code",
   "execution_count": 99,
   "metadata": {},
   "outputs": [
    {
     "data": {
      "text/plain": [
       "<_io.TextIOWrapper name='sample.txt' mode='w' encoding='cp1252'>"
      ]
     },
     "execution_count": 99,
     "metadata": {},
     "output_type": "execute_result"
    }
   ],
   "source": [
    "f = open('sample.txt', 'w')\n",
    "f"
   ]
  },
  {
   "cell_type": "code",
   "execution_count": 100,
   "metadata": {},
   "outputs": [
    {
     "data": {
      "text/plain": [
       "<_io.BufferedWriter name='sample.txt'>"
      ]
     },
     "execution_count": 100,
     "metadata": {},
     "output_type": "execute_result"
    }
   ],
   "source": [
    "f.buffer"
   ]
  },
  {
   "cell_type": "code",
   "execution_count": 101,
   "metadata": {},
   "outputs": [
    {
     "data": {
      "text/plain": [
       "<_io.FileIO name='sample.txt' mode='wb' closefd=True>"
      ]
     },
     "execution_count": 101,
     "metadata": {},
     "output_type": "execute_result"
    }
   ],
   "source": [
    "f.buffer.raw"
   ]
  },
  {
   "cell_type": "markdown",
   "metadata": {},
   "source": [
    "Neste exemplo, `io.TextIOWrapper` é uma camada de manipulação de texto que codifica e decodifica Unicode, `io.BufferedWriter` é uma camada de I/O em buffer que manipula dados binários e `io.FileIO` é um arquivo bruto que representa o descritor de arquivo de baixo nível em o sistema operacional.\n",
    "\n",
    "Adicionar ou alterar a codificação de texto envolve adicionar ou alterar a camada superior `io.TextIOWrapper`. Como regra geral, não é seguro manipular diretamente as diferentes camadas acessando os atributos mostrados. Por exemplo, veja o que acontece se você tentar alterar a codificação usando esta técnica:"
   ]
  },
  {
   "cell_type": "code",
   "execution_count": 102,
   "metadata": {},
   "outputs": [
    {
     "data": {
      "text/plain": [
       "<_io.TextIOWrapper name='sample.txt' mode='w' encoding='cp1252'>"
      ]
     },
     "execution_count": 102,
     "metadata": {},
     "output_type": "execute_result"
    }
   ],
   "source": [
    "f"
   ]
  },
  {
   "cell_type": "code",
   "execution_count": 103,
   "metadata": {},
   "outputs": [
    {
     "data": {
      "text/plain": [
       "<_io.TextIOWrapper name='sample.txt' encoding='UTF8'>"
      ]
     },
     "execution_count": 103,
     "metadata": {},
     "output_type": "execute_result"
    }
   ],
   "source": [
    "f = io.TextIOWrapper(f.buffer, encoding='UTF8')\n",
    "f"
   ]
  },
  {
   "cell_type": "markdown",
   "metadata": {},
   "source": [
    "~~~python\n",
    "f.write('Hello')\n",
    "Traceback (most recent call last):\n",
    "     File \"<stdin>\", line 1, in <module>\n",
    " ValueError: I/O operation on closed file.\n",
    "~~~"
   ]
  },
  {
   "cell_type": "markdown",
   "metadata": {},
   "source": [
    "Não funciona porque o valor original de **f** foi destruído e fechou o arquivo subjacente no processo.\n",
    "O método `detach()` desconecta a camada superior de um arquivo e retorna a próxima camada inferior. Depois, a camada superior não será mais utilizável. Por exemplo:"
   ]
  },
  {
   "cell_type": "code",
   "execution_count": 104,
   "metadata": {},
   "outputs": [
    {
     "data": {
      "text/plain": [
       "<_io.TextIOWrapper name='sample.txt' mode='w' encoding='cp1252'>"
      ]
     },
     "execution_count": 104,
     "metadata": {},
     "output_type": "execute_result"
    }
   ],
   "source": [
    "f = open('sample.txt', 'w')\n",
    "f"
   ]
  },
  {
   "cell_type": "code",
   "execution_count": 105,
   "metadata": {},
   "outputs": [
    {
     "data": {
      "text/plain": [
       "<_io.BufferedWriter name='sample.txt'>"
      ]
     },
     "execution_count": 105,
     "metadata": {},
     "output_type": "execute_result"
    }
   ],
   "source": [
    "b = f.detach()\n",
    "b"
   ]
  },
  {
   "cell_type": "markdown",
   "metadata": {},
   "source": [
    "~~~python\n",
    "f.write('hello')\n",
    "Traceback (most recent call last):\n",
    " File \"<stdin>\", line 1, in <module>\n",
    "ValueError: underlying buffer has been detached\n",
    ">>>\n",
    "~~~"
   ]
  },
  {
   "cell_type": "markdown",
   "metadata": {},
   "source": [
    "Uma vez desvinculado, no entanto, você pode adicionar uma nova camada superior ao resultado retornado. Por exemplo:"
   ]
  },
  {
   "cell_type": "code",
   "execution_count": 106,
   "metadata": {},
   "outputs": [
    {
     "data": {
      "text/plain": [
       "<_io.TextIOWrapper name='sample.txt' encoding='latin-1'>"
      ]
     },
     "execution_count": 106,
     "metadata": {},
     "output_type": "execute_result"
    }
   ],
   "source": [
    "f = io.TextIOWrapper(b, encoding='latin-1')\n",
    "f"
   ]
  },
  {
   "cell_type": "markdown",
   "metadata": {},
   "source": [
    "Embora a alteração da codificação tenha sido mostrada, também é possível usar essa técnica para alterar a manipulação de linha, a política de erros e outros aspectos da manipulação de arquivos. Por exemplo:\n",
    "~~~python\n",
    ">>> sys.stdout = io.TextIOWrapper(sys.stdout.detach(), encoding='ascii',\n",
    "... errors='xmlcharrefreplace')\n",
    ">>> print('Jalape\\u00f1o')\n",
    "Jalape&#241;o\n",
    ">>>\n",
    "~~~"
   ]
  },
  {
   "cell_type": "markdown",
   "metadata": {},
   "source": [
    "Observe como o caractere não ASCII ñ foi substituído por \\&#241; na saída.\n",
    "\n",
    "## 5.17. Escrevendo bytes em um arquivo de texto\n",
    "\n",
    "**Problema**\n",
    "\n",
    "Você deseja gravar bytes brutos em um arquivo aberto no modo de texto.\n",
    "\n",
    "**Solução**\n",
    "\n",
    "Simplesmente escreva os dados de byte nos arquivos subjacentes ao buffer. Por exemplo:"
   ]
  },
  {
   "cell_type": "code",
   "execution_count": 107,
   "metadata": {},
   "outputs": [
    {
     "name": "stdout",
     "output_type": "stream",
     "text": [
      "Hello\n"
     ]
    }
   ],
   "source": [
    "import sys\n",
    "sys.stdout.write(b'Hello\\n')"
   ]
  },
  {
   "cell_type": "markdown",
   "metadata": {},
   "source": [
    "Da mesma forma, os dados binários podem ser lidos de um arquivo de texto lendo de seu atributo buffer.\n",
    "\n",
    "**Discussão**\n",
    "\n",
    "O sistema de I/O é construído a partir de camadas. Os arquivos de texto são construídos adicionando uma camada de codificação/decodificação Unicode sobre um arquivo de modo binário em buffer. O atributo buffer simplesmente aponta para este arquivo subjacente. Se você acessá-lo, você ignorará a camada de codificação/decodificação de texto.\n",
    "\n",
    "O exemplo envolvendo `sys.stdout` pode ser visto como um caso especial. Por padrão, `sys.stdout` é sempre aberto no modo de texto. No entanto, se você estiver escrevendo um script que realmente precisa despejar dados binários na saída padrão, você pode usar a técnica mostrada para ignorar a codificação de texto.\n",
    "\n",
    "## 5.18. Quebrando um descritor de arquivo existente como um objeto de arquivo\n",
    "\n",
    "**Problema**\n",
    "\n",
    "Você tem um descritor de arquivo inteiro correspondendo a um canal de I/O já aberto no sistema operacional (por exemplo, arquivo, pipe, soquete, etc.) e deseja envolver um objeto de arquivo Python de nível superior em torno dele.\n",
    "\n",
    "**Solução**\n",
    "\n",
    "Um descritor de arquivo é diferente de um arquivo aberto normal, pois é simplesmente um identificador inteiro atribuído pelo sistema operacional para se referir a algum tipo de canal de I/O do sistema. Se você tiver um descritor de arquivo desse tipo, poderá envolver um objeto de arquivo Python em torno dele usando a função `open()`. No entanto, você simplesmente fornece o descritor de arquivo inteiro como o primeiro argumento em vez do nome do arquivo. Por exemplo:"
   ]
  },
  {
   "cell_type": "code",
   "execution_count": 108,
   "metadata": {},
   "outputs": [
    {
     "data": {
      "text/plain": [
       "10"
      ]
     },
     "execution_count": 108,
     "metadata": {},
     "output_type": "execute_result"
    }
   ],
   "source": [
    "# Open a low-level file descriptor\n",
    "import os\n",
    "fd = os.open('somefile.txt', os.O_WRONLY | os.O_CREAT)\n",
    "fd"
   ]
  },
  {
   "cell_type": "code",
   "execution_count": 109,
   "metadata": {},
   "outputs": [],
   "source": [
    "# Turn into a proper file\n",
    "f = open(fd, 'wt')\n",
    "f.write('hello world\\n')\n",
    "f.close()"
   ]
  },
  {
   "cell_type": "markdown",
   "metadata": {},
   "source": [
    "Quando o objeto de arquivo de alto nível for fechado ou destruído, o descritor de arquivo subjacente também será fechado. Se isso não for desejado, forneça o argumento opcional `closefd=False` para `open()`. Por exemplo:"
   ]
  },
  {
   "cell_type": "code",
   "execution_count": 112,
   "metadata": {},
   "outputs": [],
   "source": [
    "# Create a file object, but don't close underlying fd when done\n",
    "fd = os.open('somefile.txt', os.O_WRONLY | os.O_CREAT)\n",
    "f = open(fd, 'wt', closefd=False)"
   ]
  },
  {
   "cell_type": "markdown",
   "metadata": {},
   "source": [
    "**Discussão**\n",
    "\n",
    "Em sistemas Unix, essa técnica de encapsular um descritor de arquivo pode ser um meio conveniente para colocar uma interface semelhante a um arquivo em um canal de I/O existente que foi aberto de uma maneira diferente (por exemplo, pipes, sockets, etc.). Por exemplo, aqui está um exemplo envolvendo soquetes:"
   ]
  },
  {
   "cell_type": "code",
   "execution_count": 114,
   "metadata": {},
   "outputs": [],
   "source": [
    "from socket import socket, AF_INET, SOCK_STREAM\n",
    "def echo_client(client_sock, addr):\n",
    "    print('Got connection from', addr)\n",
    "    # Make text-mode file wrappers for socket reading/writing\n",
    "    client_in = open(client_sock.fileno(), 'rt', encoding='latin-1',\n",
    "                     closefd=False)\n",
    "    client_out = open(client_sock.fileno(), 'wt', encoding='latin-1',\n",
    "                      closefd=False)\n",
    "    # Echo lines back to the client using file I/O\n",
    "    for line in client_in:\n",
    "        client_out.write(line)\n",
    "        client_out.flush()\n",
    "    client_sock.close()\n",
    "\n",
    "def echo_server(address):\n",
    "    sock = socket(AF_INET, SOCK_STREAM)\n",
    "    sock.bind(address)\n",
    "    sock.listen(1)\n",
    "    while True:\n",
    "        client, addr = sock.accept()\n",
    "        echo_client(client, addr)"
   ]
  },
  {
   "cell_type": "markdown",
   "metadata": {},
   "source": [
    "É importante enfatizar que o exemplo acima serve apenas para ilustrar um recurso da função `open()` integrada e que funciona apenas em sistemas baseados em Unix. Se você está tentando colocar uma interface semelhante a um arquivo em um soquete e precisa que seu código seja multiplataforma, use o método `makefile()` de soquetes. No entanto, se a portabilidade não for uma preocupação, você descobrirá que a solução acima oferece um desempenho muito melhor do que usar `makefile()`.\n",
    "\n",
    "Você também pode usar isso para fazer um tipo de alias que permite que um arquivo já aberto seja usado de uma maneira um pouco diferente de como foi aberto pela primeira vez. Por exemplo, veja como você pode criar um objeto de arquivo que permite emitir dados binários no `stdout` (que normalmente é aberto no modo de texto).\n",
    "\n",
    "Embora seja possível envolver um descritor de arquivo existente como um arquivo adequado, esteja ciente de que nem todos os modos de arquivo podem ser suportados e que certos tipos de descritores de arquivo podem ter efeitos colaterais engraçados (especialmente no que diz respeito ao tratamento de erros, condições de fim de arquivo , etc).\n",
    "\n",
    "O comportamento também pode variar de acordo com o sistema operacional. Em particular, nenhum dos exemplos provavelmente funcionará em sistemas não-Unix. O resultado final é que você precisará testar minuciosamente sua implementação para garantir que ela funcione conforme o esperado."
   ]
  },
  {
   "cell_type": "markdown",
   "metadata": {},
   "source": [
    "## 5.19. Criando arquivos e diretórios temporários\n",
    "\n",
    "**Problema**\n",
    "\n",
    "Você precisa criar um arquivo ou diretório temporário para uso quando seu programa for executado. Depois, você possivelmente deseja que o arquivo ou diretório seja destruído.\n",
    "\n",
    "**Solução**\n",
    "\n",
    "O módulo tempfile possui uma variedade de funções para realizar esta tarefa. Para criar um arquivo temporário sem nome, use `tempfile.TemporaryFile`:"
   ]
  },
  {
   "cell_type": "code",
   "execution_count": 119,
   "metadata": {},
   "outputs": [],
   "source": [
    "from tempfile import TemporaryFile\n",
    "with TemporaryFile('w+t') as f:\n",
    "    # Read/write to the file\n",
    "    f.write('Hello World\\n')\n",
    "    f.write('Testing\\n')\n",
    "    # Seek back to beginning and read the data\n",
    "    f.seek(0)\n",
    "    data = f.read()\n",
    "    # Temporary file is destroyed"
   ]
  },
  {
   "cell_type": "markdown",
   "metadata": {},
   "source": [
    "Ou, se preferir, você também pode usar o arquivo assim:\n",
    "~~~python\n",
    "f = TemporaryFile('w+t')\n",
    "# Use the temporary file\n",
    "...\n",
    "f.close()\n",
    "# File is destroyed\n",
    "~~~\n",
    "\n",
    "O primeiro argumento para `TemporaryFile()` é o modo de arquivo, que geralmente é **w+t** para texto e **w+b** para binário. Este modo suporta leitura e escrita simultaneamente, o que é útil aqui, pois fechar o arquivo para alterar os modos o destruiria. `Temporary File()` também aceita os mesmos argumentos que a função interna `open()`. Por exemplo:\n",
    "~~~python\n",
    "with TemporaryFile('w+t', encoding='utf-8', errors='ignore') as f:\n",
    "~~~\n",
    "Na maioria dos sistemas Unix, o arquivo criado por `TemporaryFile()` não tem nome e nem mesmo terá uma entrada de diretório. Se você quiser relaxar essa restrição, use `NamedTemporaryFile()` em vez disso. Por exemplo:"
   ]
  },
  {
   "cell_type": "code",
   "execution_count": 121,
   "metadata": {},
   "outputs": [
    {
     "name": "stdout",
     "output_type": "stream",
     "text": [
      "filename is: C:\\Users\\dell\\AppData\\Local\\Temp\\tmpua8ev4jt\n"
     ]
    }
   ],
   "source": [
    "from tempfile import NamedTemporaryFile\n",
    "with NamedTemporaryFile('w+t') as f:\n",
    "    print('filename is:', f.name)"
   ]
  },
  {
   "cell_type": "markdown",
   "metadata": {},
   "source": [
    "Aqui, o atributo `f.name` do arquivo aberto contém o nome do arquivo temporário. Isso pode ser útil se precisar ser fornecido a algum outro código que precise abrir o arquivo. Assim como com `TemporaryFile()`, o arquivo resultante é excluído automaticamente quando é fechado. Se você não quiser isso, forneça um argumento de palavra-chave `delete=False`. Por exemplo:"
   ]
  },
  {
   "cell_type": "code",
   "execution_count": 123,
   "metadata": {},
   "outputs": [
    {
     "name": "stdout",
     "output_type": "stream",
     "text": [
      "filename is: C:\\Users\\dell\\AppData\\Local\\Temp\\tmpoqosnfdy\n"
     ]
    }
   ],
   "source": [
    "with NamedTemporaryFile('w+t', delete=False) as f:\n",
    "    print('filename is:', f.name)"
   ]
  },
  {
   "cell_type": "markdown",
   "metadata": {},
   "source": [
    "Para criar um diretório temporário, use `tempfile.TemporaryDirectory()`. Por exemplo:"
   ]
  },
  {
   "cell_type": "code",
   "execution_count": 124,
   "metadata": {},
   "outputs": [
    {
     "name": "stdout",
     "output_type": "stream",
     "text": [
      "dirname is: C:\\Users\\dell\\AppData\\Local\\Temp\\tmpanb39wk9\n"
     ]
    }
   ],
   "source": [
    "from tempfile import TemporaryDirectory\n",
    "with TemporaryDirectory() as dirname:\n",
    "    print('dirname is:', dirname)\n",
    "    # Use the directory\n",
    "    ...\n",
    "    # Directory and all contents destroyed"
   ]
  },
  {
   "cell_type": "markdown",
   "metadata": {},
   "source": [
    "**Discussão**\n",
    "\n",
    "As funções `TemporaryFile()`, `NamedTemporaryFile()` e `temporáriaDirectory()` são provavelmente a maneira mais conveniente de trabalhar com arquivos e diretórios temporários, porque elas tratam automaticamente de todas as etapas de criação e limpeza subsequente.\n",
    "\n",
    "Em um nível inferior, você também pode usar `mkstemp()` e `mkdtemp()` para criar arquivos e diretórios temporários. Por exemplo:"
   ]
  },
  {
   "cell_type": "code",
   "execution_count": 125,
   "metadata": {},
   "outputs": [
    {
     "data": {
      "text/plain": [
       "(10, 'C:\\\\Users\\\\dell\\\\AppData\\\\Local\\\\Temp\\\\tmprlggf_dx')"
      ]
     },
     "execution_count": 125,
     "metadata": {},
     "output_type": "execute_result"
    }
   ],
   "source": [
    "import tempfile\n",
    "tempfile.mkstemp()"
   ]
  },
  {
   "cell_type": "code",
   "execution_count": 126,
   "metadata": {},
   "outputs": [
    {
     "data": {
      "text/plain": [
       "'C:\\\\Users\\\\dell\\\\AppData\\\\Local\\\\Temp\\\\tmpgfcgmu5b'"
      ]
     },
     "execution_count": 126,
     "metadata": {},
     "output_type": "execute_result"
    }
   ],
   "source": [
    "tempfile.mkdtemp()"
   ]
  },
  {
   "cell_type": "markdown",
   "metadata": {},
   "source": [
    "No entanto, essas funções realmente não cuidam do gerenciamento adicional. Por exemplo, a função `mkstemp()` simplesmente retorna um descritor de arquivo do sistema operacional bruto e deixa para você transformá-lo em um arquivo adequado. Da mesma forma, cabe a você limpar os arquivos, se desejar. Normalmente, os arquivos temporários são criados no local padrão do sistema, como `/var/tmp` ou similar. Para descobrir a localização real, use a função `tempfile.gettempdir()`. Por exemplo:"
   ]
  },
  {
   "cell_type": "code",
   "execution_count": 127,
   "metadata": {},
   "outputs": [
    {
     "data": {
      "text/plain": [
       "'C:\\\\Users\\\\dell\\\\AppData\\\\Local\\\\Temp'"
      ]
     },
     "execution_count": 127,
     "metadata": {},
     "output_type": "execute_result"
    }
   ],
   "source": [
    "tempfile.gettempdir()"
   ]
  },
  {
   "cell_type": "markdown",
   "metadata": {},
   "source": [
    "Todas as funções relacionadas a arquivos temporários permitem que você substitua esse diretório, bem como as convenções de nomenclatura, usando os argumentos de palavra-chave **prefix, sufixo e dir**. Por exemplo:\n",
    "~~~python\n",
    ">>> f = NamedTemporaryFile(prefix='mytemp', suffix='.txt', dir='/tmp')\n",
    ">>> f.name\n",
    "'/tmp/mytemp8ee899.txt'\n",
    ">>>\n",
    "~~~\n",
    "\n",
    "Por último, mas não menos importante, na medida do possível, o módulo `tempfile()` cria arquivos temporários da maneira mais segura possível. Isso inclui apenas dar permissão de acesso ao usuário atual e tomar medidas para evitar condições de corrida na criação do arquivo. Esteja ciente de que pode haver diferenças entre as plataformas. Assim, você deve certificar-se de verificar a documentação oficial para os pontos mais delicados.\n",
    "\n",
    "O nome do dispositivo varia de acordo com o tipo de dispositivo e sistema operacional. Por exemplo, no Windows, você pode usar um dispositivo de **0**, **1** e assim por diante para abrir as portas de comunicação como **“COM0”** e **“COM1”**. Uma vez aberto, você pode ler e gravar dados usando as chamadas `read()`, `readline()` e `write()`. Por exemplo:\n",
    "~~~python\n",
    "ser.write(b'G1 X50 Y50\\r\\n')\n",
    "resp = ser.readline()\n",
    "~~~\n",
    "\n",
    "Na maioria das vezes, a comunicação serial simples deve ser bastante simples deste ponto em diante.\n",
    "\n",
    "**Discussão**\n",
    "\n",
    "Embora simples na superfície, a comunicação serial às vezes pode ficar bastante confusa. Uma razão pela qual você deve usar um pacote como `pySerial` é que ele fornece suporte para recursos avançados (por exemplo, tempos limite, fluxo de controle, liberação de buffer, handshake, etc.). Por exemplo, se você deseja habilitar o handshake RTS-CTS, basta fornecer um argumento `rtscts=True` para `Serial()`. A documentação fornecida é excelente, então há pouco benefício em parafraseá-la aqui.\n",
    "\n",
    "Tenha em mente que todas as I/O envolvendo portas seriais são binárias. Assim, certifique-se de escrever seu código para usar bytes em vez de texto (ou execute a codificação/decodificação de texto adequada conforme necessário). O módulo `struct` também pode ser útil caso você precise criar comandos ou pacotes com código binário.\n",
    "\n",
    "## 5.21. Serializando objetos Python\n",
    "\n",
    "**Problema**\n",
    "\n",
    "Você precisa serializar um objeto Python em um fluxo de bytes para poder fazer coisas como salvá-lo em um arquivo, armazená-lo em um banco de dados ou transmiti-lo por uma conexão de rede.\n",
    "\n",
    "**Solução**\n",
    "\n",
    "A abordagem mais comum para serializar dados é usar o módulo `pickle`. Para despejar um objeto em um arquivo, você faz isso:"
   ]
  },
  {
   "cell_type": "code",
   "execution_count": 10,
   "metadata": {},
   "outputs": [],
   "source": [
    "import pickle\n",
    "\n",
    "data = ['Brasil', 'Copa do Mundo', 'São Paulo']\n",
    "f = open('somefile', 'wb')\n",
    "pickle.dump(data,f)"
   ]
  },
  {
   "cell_type": "markdown",
   "metadata": {},
   "source": [
    "Para despejar um objeto em uma string, use `pickle.dumps()`:"
   ]
  },
  {
   "cell_type": "code",
   "execution_count": 21,
   "metadata": {},
   "outputs": [],
   "source": [
    "s = pickle.dumps(data)"
   ]
  },
  {
   "cell_type": "markdown",
   "metadata": {},
   "source": [
    "Para recriar um objeto de um fluxo de *bytes*, use as funções `pickle.load()` ou `pickle.loads()`. Por exemplo:"
   ]
  },
  {
   "cell_type": "code",
   "execution_count": 19,
   "metadata": {},
   "outputs": [
    {
     "data": {
      "text/plain": [
       "['Brasil', 'Copa do Mundo', 'São Paulo']"
      ]
     },
     "execution_count": 19,
     "metadata": {},
     "output_type": "execute_result"
    }
   ],
   "source": [
    "# Restore from a file\n",
    "f = open('somefile', 'rb')\n",
    "data = pickle.load(f)\n",
    "data"
   ]
  },
  {
   "cell_type": "code",
   "execution_count": 24,
   "metadata": {},
   "outputs": [
    {
     "data": {
      "text/plain": [
       "['Brasil', 'Copa do Mundo', 'São Paulo']"
      ]
     },
     "execution_count": 24,
     "metadata": {},
     "output_type": "execute_result"
    }
   ],
   "source": [
    "# Restore from a string\n",
    "data = pickle.loads(s)\n",
    "data"
   ]
  },
  {
   "cell_type": "markdown",
   "metadata": {},
   "source": [
    "**Discussão**\n",
    "\n",
    "Para a maioria dos programas, o uso das funções `dump()` e `load()` é tudo o que você precisa para usar o **pickle** com eficiência. Ele simplesmente funciona com a maioria dos tipos de dados Python e instâncias de classes definidas pelo usuário. \n",
    "\n",
    "Se você estiver trabalhando com qualquer tipo de biblioteca que permita fazer coisas como salvar/restaurar objetos Python em bancos de dados ou transmitir objetos pela rede, há uma boa chance de que o **pickle** esteja sendo usado.\n",
    "\n",
    "**pickle** é uma codificação de dados autodescritiva específica do Python. Por autodescritivo, os dados serializados contêm informações relacionadas ao início e fim de cada objeto, bem como informações sobre seu tipo. Assim, você não precisa se preocupar em definir registros - simplesmente funciona. Por exemplo, se estiver trabalhando com vários objetos, você pode fazer isso:"
   ]
  },
  {
   "cell_type": "code",
   "execution_count": 25,
   "metadata": {},
   "outputs": [
    {
     "data": {
      "text/plain": [
       "[1, 2, 3, 4]"
      ]
     },
     "execution_count": 25,
     "metadata": {},
     "output_type": "execute_result"
    }
   ],
   "source": [
    "import pickle\n",
    "f = open('somedata', 'wb')\n",
    "pickle.dump([1, 2, 3, 4], f)\n",
    "pickle.dump('hello', f)\n",
    "pickle.dump({'Apple', 'Pear', 'Banana'}, f)\n",
    "f.close()\n",
    "f = open('somedata', 'rb')\n",
    "pickle.load(f)\n"
   ]
  },
  {
   "cell_type": "code",
   "execution_count": 26,
   "metadata": {},
   "outputs": [
    {
     "data": {
      "text/plain": [
       "'hello'"
      ]
     },
     "execution_count": 26,
     "metadata": {},
     "output_type": "execute_result"
    }
   ],
   "source": [
    "pickle.load(f)"
   ]
  },
  {
   "cell_type": "code",
   "execution_count": 27,
   "metadata": {},
   "outputs": [
    {
     "data": {
      "text/plain": [
       "{'Apple', 'Banana', 'Pear'}"
      ]
     },
     "execution_count": 27,
     "metadata": {},
     "output_type": "execute_result"
    }
   ],
   "source": [
    "pickle.load(f)"
   ]
  },
  {
   "cell_type": "markdown",
   "metadata": {},
   "source": [
    "Você pode selecionar funções, classes e instâncias, mas os dados resultantes codificam apenas referências de nome para os objetos de código associados. Por exemplo:"
   ]
  },
  {
   "cell_type": "code",
   "execution_count": 29,
   "metadata": {},
   "outputs": [
    {
     "data": {
      "text/plain": [
       "b'\\x80\\x04\\x95\\x10\\x00\\x00\\x00\\x00\\x00\\x00\\x00\\x8c\\x04math\\x94\\x8c\\x03cos\\x94\\x93\\x94.'"
      ]
     },
     "execution_count": 29,
     "metadata": {},
     "output_type": "execute_result"
    }
   ],
   "source": [
    "import math\n",
    "import pickle\n",
    "pickle.dumps(math.cos)"
   ]
  },
  {
   "cell_type": "markdown",
   "metadata": {},
   "source": [
    "Quando os dados não são selecionados, supõe-se que toda a fonte necessária esteja disponível. Módulos, classes e funções serão importados automaticamente conforme necessário. Para aplicativos em que os dados do Python estão sendo compartilhados entre interpretadores em máquinas diferentes, esse é um possível problema de manutenção, pois todas as máquinas devem ter acesso ao mesmo código-fonte.\n",
    "> `pickle.load()` nunca deve ser usado em dados não confiáveis. Como efeito colateral do carregamento, o pickle carregará automaticamente os módulos e criará instâncias. No entanto, um malfeitor que sabe como funciona o pickle pode criar dados “malformados” que fazem com que o Python execute comandos arbitrários do sistema. Assim, é essencial que o pickle seja usado apenas internamente com intérpretes que tenham alguma capacidade de autenticar um ao outro.\n",
    "\n",
    "Certos tipos de objetos não podem ser conservados. Normalmente, são objetos que envolvem algum tipo de estado externo do sistema, como arquivos abertos, conexões de rede abertas, threads, processos, quadros de pilha e assim por diante. As classes definidas pelo usuário às vezes podem contornar essas limitações fornecendo os métodos `__getstate__()` e `__setstate__()`. Se definido, `pickle.dump()` chamará `__getstate__()` para obter um objeto que pode ser conservado. Da mesma forma, `__setstate__()` será invocado em unpicking. Para ilustrar o que é possível, aqui está uma classe que define internamente um thread, mas ainda pode ser decapado/descongelado:"
   ]
  },
  {
   "cell_type": "code",
   "execution_count": 31,
   "metadata": {},
   "outputs": [],
   "source": [
    "# countdown.py\n",
    "import time\n",
    "import threading\n",
    "class Countdown:\n",
    "    def __init__(self, n): \n",
    "        self.n = n\n",
    "        self.thr = threading.Thread(target=self.run)\n",
    "        self.thr.daemon = True\n",
    "        self.thr.start()\n",
    "    \n",
    "    def run(self):\n",
    "        while self.n > 0:\n",
    "            print('T-minus', self.n)\n",
    "            self.n -= 1\n",
    "            time.sleep(5)\n",
    "    def __getstate__(self):\n",
    "        return self.n\n",
    "    \n",
    "    def __setstate__(self, n):\n",
    "        self.__init__(n)"
   ]
  },
  {
   "cell_type": "markdown",
   "metadata": {},
   "source": [
    "Tente o seguinte experimento envolvendo decapagem:"
   ]
  },
  {
   "cell_type": "code",
   "execution_count": 33,
   "metadata": {},
   "outputs": [
    {
     "name": "stdout",
     "output_type": "stream",
     "text": [
      "T-minus 30\n",
      "T-minus 29\n",
      "T-minus 28\n",
      "T-minus 27\n",
      "T-minus 26\n",
      "T-minus 25\n",
      "T-minus 24\n",
      "T-minus 23\n",
      "T-minus 22\n",
      "T-minus 21\n",
      "T-minus 20\n",
      "T-minus 19\n",
      "T-minus 18\n",
      "T-minus 17\n"
     ]
    }
   ],
   "source": [
    "c = Countdown(30)"
   ]
  },
  {
   "cell_type": "code",
   "execution_count": 34,
   "metadata": {},
   "outputs": [
    {
     "name": "stdout",
     "output_type": "stream",
     "text": [
      "T-minus 16\n",
      "T-minus 15\n",
      "T-minus 14\n",
      "T-minus 13\n",
      "T-minus 12\n",
      "T-minus 11\n",
      "T-minus 10\n",
      "T-minus 9\n"
     ]
    }
   ],
   "source": [
    "# After a few moments\n",
    "f = open('cstate.p', 'wb')\n",
    "import pickle\n",
    "pickle.dump(c, f)\n",
    "f.close()"
   ]
  },
  {
   "cell_type": "markdown",
   "metadata": {},
   "source": [
    "Agora saia do Python e tente isso após a reinicialização:"
   ]
  },
  {
   "cell_type": "code",
   "execution_count": 35,
   "metadata": {},
   "outputs": [
    {
     "name": "stdout",
     "output_type": "stream",
     "text": [
      "T-minus"
     ]
    },
    {
     "data": {
      "text/plain": [
       "<__main__.Countdown at 0x296600641f0>"
      ]
     },
     "execution_count": 35,
     "metadata": {},
     "output_type": "execute_result"
    },
    {
     "name": "stdout",
     "output_type": "stream",
     "text": [
      " 16\n",
      "T-minus 8\n",
      "T-minus 15\n",
      "T-minus 7\n",
      "T-minus 14\n",
      "T-minus 6\n",
      "T-minus 13\n",
      "T-minus 5\n",
      "T-minus 12\n",
      "T-minus 4\n",
      "T-minus 11\n",
      "T-minus 3\n",
      "T-minus 10\n",
      "T-minus 2\n",
      "T-minus 9\n",
      "T-minus 1\n",
      "T-minus 8\n",
      "T-minus 7\n",
      "T-minus 6\n",
      "T-minus 5\n",
      "T-minus 4\n",
      "T-minus 3\n",
      "T-minus 2\n",
      "T-minus 1\n"
     ]
    }
   ],
   "source": [
    "f = open('cstate.p', 'rb')\n",
    "pickle.load(f)"
   ]
  },
  {
   "cell_type": "markdown",
   "metadata": {},
   "source": [
    "Você deve ver o fio magicamente ganhar vida novamente, retomando de onde parou quando você o conservou pela primeira vez.\n",
    "\n",
    "`pickle` não é uma codificação particularmente eficiente para grandes estruturas de dados, como arrays binários criados por bibliotecas como o módulo array ou numpy. Se você estiver movendo grandes quantidades de dados de array, talvez seja melhor simplesmente salvar dados de array em massa em um arquivo ou usar uma codificação mais padronizada, como HDF5 (suportado por bibliotecas de terceiros).\n",
    "\n",
    "Por causa de sua natureza específica do Python e anexo ao código-fonte, você provavelmente não deve usar `pickle` como formato para armazenamento de longo prazo. Por exemplo, se o código-fonte for alterado, todos os dados armazenados poderão quebrar e se tornar ilegíveis. Francamente, para armazenar dados em bancos de dados e armazenamento de arquivo, provavelmente é melhor usar uma codificação de dados mais padrão, como XML, CSV ou JSON. Essas codificações são mais padronizadas, suportadas por muitos idiomas diferentes e mais provavelmente adaptadas às alterações em seu código-fonte.\n",
    "\n",
    "Por último, mas não menos importante, esteja ciente de que o `pickles` tem uma enorme variedade de opções e casos de canto complicados. Para os usos mais comuns, você não precisa se preocupar com eles, mas uma olhada na documentação oficial deve ser necessária se você for construir um aplicativo significativo que use `pickle` para serialização."
   ]
  }
 ],
 "metadata": {
  "kernelspec": {
   "display_name": "Python 3",
   "language": "python",
   "name": "python3"
  },
  "language_info": {
   "codemirror_mode": {
    "name": "ipython",
    "version": 3
   },
   "file_extension": ".py",
   "mimetype": "text/x-python",
   "name": "python",
   "nbconvert_exporter": "python",
   "pygments_lexer": "ipython3",
   "version": "3.8.5"
  }
 },
 "nbformat": 4,
 "nbformat_minor": 4
}
