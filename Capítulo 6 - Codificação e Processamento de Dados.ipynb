{
 "cells": [
  {
   "cell_type": "markdown",
   "metadata": {},
   "source": [
    "<h1 align=center>Capítulo 6</h1>\n",
    "<h2 align=center>Codificação e Processamento de Dados</h2>\n",
    "<p align=center><img src=https://energiainteligenteufjf.com.br/wp-content/uploads/2021/02/curso-insofti-introducao-ao-processamento-de-dados-ipd.jpg width=500></p>"
   ]
  },
  {
   "cell_type": "markdown",
   "metadata": {},
   "source": [
    "O foco principal deste capítulo é usar o Python para processar dados apresentados em diferentes tipos de codificações comuns, como arquivos CSV, JSON, XML e registros compactados em binários. Ao contrário do capítulo sobre estruturas de dados, este capítulo não se concentra em algoritmos específicos, mas no problema de obter e retirar dados de um programa.\n",
    "\n",
    "## 6.1. Lendo e gravando dados CSV\n",
    "\n",
    "**Problema**\n",
    "\n",
    "Você deseja ler ou gravar dados codificados como um arquivo CSV.\n",
    "\n",
    "**Solução**\n",
    "\n",
    "Para a maioria dos tipos de dados CSV, use a biblioteca `csv`. Por exemplo, suponha que você tenha alguns dados do mercado de ações em um arquivo chamado *stocks.csv* assim:\n",
    "~~~python\n",
    " Symbol,Price,Date,Time,Change,Volume\n",
    " \"AA\",39.48,\"6/11/2007\",\"9:36am\",-0.18,181800\n",
    " \"AIG\",71.38,\"6/11/2007\",\"9:36am\",-0.15,195500\n",
    " \"AXP\",62.58,\"6/11/2007\",\"9:36am\",-0.46,935000\n",
    " \"BA\",98.31,\"6/11/2007\",\"9:36am\",+0.12,104800\n",
    " \"C\",53.08,\"6/11/2007\",\"9:36am\",-0.25,360900\n",
    " \"CAT\",78.29,\"6/11/2007\",\"9:36am\",-0.23,225400\n",
    "~~~\n"
   ]
  },
  {
   "cell_type": "code",
   "execution_count": 1,
   "metadata": {},
   "outputs": [
    {
     "name": "stdout",
     "output_type": "stream",
     "text": [
      "[]\n",
      "['AA', '39.48', '6/11/2007', '9:36am', '-0.18', '181800']\n",
      "[]\n",
      "['AIG', '71.38', '6/11/2007', '9:36am', '-0.15', '195500']\n",
      "[]\n",
      "['AXP', '62.58', '6/11/2007', '9:36am', '-0.46', '935000']\n",
      "[]\n"
     ]
    }
   ],
   "source": [
    "import csv\n",
    "with open('stocks.csv') as f:\n",
    "    f_csv = csv.reader(f)\n",
    "    headers = next(f_csv)\n",
    "    for row in f_csv:\n",
    "        print(row)"
   ]
  },
  {
   "cell_type": "markdown",
   "metadata": {},
   "source": [
    "No código anterior, *row* será uma tupla. Assim, para acessar determinados campos, você precisará usar indexação, como row[0] (Símbolo) e row[4] (Alterar).\n",
    "Como essa indexação geralmente pode ser confusa, este é um lugar onde você pode querer considerar o uso de tuplas nomeadas. Por exemplo:\n",
    "~~~python\n",
    "from collections import namedtuple\n",
    "with open('stock.csv') as f:\n",
    " f_csv = csv.reader(f)\n",
    " headings = next(f_csv)\n",
    " Row = namedtuple('Row', headings)\n",
    " for r in f_csv:\n",
    " row = Row(*r)\n",
    " # Process row\n",
    " ...\n",
    "~~~\n"
   ]
  },
  {
   "cell_type": "markdown",
   "metadata": {},
   "source": [
    "Isso permitiria que você usasse os cabeçalhos das colunas, como `row.Symbol` e `row.Change`, em vez de índices. Deve-se notar que isso só funciona se os cabeçalhos das colunas forem identificadores Python válidos. Caso contrário, talvez seja necessário massagear os títulos iniciais (por exemplo, substituindo caracteres não identificadores por sublinhados ou similares).\n",
    "\n",
    "Outra alternativa é ler os dados como uma sequência de dicionários. Para isso, use este código:"
   ]
  },
  {
   "cell_type": "code",
   "execution_count": 2,
   "metadata": {},
   "outputs": [
    {
     "name": "stdout",
     "output_type": "stream",
     "text": [
      "Reading as dicts\n",
      "     {'Symbol': 'AA', 'Price': '39.48', 'Date': '6/11/2007', 'Time': '9:36am', 'Change': '-0.18', 'Volume': '181800'}\n",
      "     {'Symbol': 'AIG', 'Price': '71.38', 'Date': '6/11/2007', 'Time': '9:36am', 'Change': '-0.15', 'Volume': '195500'}\n",
      "     {'Symbol': 'AXP', 'Price': '62.58', 'Date': '6/11/2007', 'Time': '9:36am', 'Change': '-0.46', 'Volume': '935000'}\n"
     ]
    }
   ],
   "source": [
    "print('Reading as dicts')\n",
    "with open('stocks.csv') as f:\n",
    "    f_csv = csv.DictReader(f)\n",
    "    for row in f_csv:\n",
    "        # process row\n",
    "        print('    ', row)"
   ]
  },
  {
   "cell_type": "markdown",
   "metadata": {},
   "source": [
    "Nesta versão, você acessaria os elementos de cada linha usando os cabeçalhos de linha. Por exemplo, row['Symbol'] ou row['Change']. \n",
    "\n",
    "Para gravar dados CSV, você também usa o módulo `csv`, mas cria um objeto de gravação. Por exemplo:"
   ]
  },
  {
   "cell_type": "code",
   "execution_count": 3,
   "metadata": {},
   "outputs": [],
   "source": [
    "headers = ['Symbol','Price','Date','Time','Change','Volume']\n",
    "rows = [('AA', 39.48, '6/11/2007', '9:36am', -0.18, 181800),\n",
    "        ('AIG', 71.38, '6/11/2007', '9:36am', -0.15, 195500),\n",
    "        ('AXP', 62.58, '6/11/2007', '9:36am', -0.46, 935000),\n",
    "       ]\n",
    "with open('stocks.csv','w') as f:\n",
    "    f_csv = csv.writer(f)\n",
    "    f_csv.writerow(headers)\n",
    "    f_csv.writerows(rows)"
   ]
  },
  {
   "cell_type": "markdown",
   "metadata": {},
   "source": [
    "Se você tiver os dados como uma sequência de dicionários, faça o seguinte:"
   ]
  },
  {
   "cell_type": "code",
   "execution_count": 4,
   "metadata": {},
   "outputs": [],
   "source": [
    "headers = ['Symbol', 'Price', 'Date', 'Time', 'Change', 'Volume']\n",
    "rows = [{'Symbol':'AA', 'Price':39.48, 'Date':'6/11/2007','Time':'9:36am', 'Change':-0.18, 'Volume':181800},\n",
    "        {'Symbol':'AIG', 'Price': 71.38, 'Date':'6/11/2007','Time':'9:36am', 'Change':-0.15, 'Volume': 195500},\n",
    "        {'Symbol':'AXP', 'Price': 62.58, 'Date':'6/11/2007','Time':'9:36am', 'Change':-0.46, 'Volume': 935000},\n",
    "       ]\n",
    "\n",
    "with open('stocks.csv','w') as f:\n",
    "    f_csv = csv.DictWriter(f, headers)\n",
    "    f_csv.writeheader()\n",
    "    f_csv.writerows(rows)"
   ]
  },
  {
   "cell_type": "markdown",
   "metadata": {},
   "source": [
    "**Discussão**\n",
    "\n",
    "Você quase sempre deve preferir o uso do módulo `csv` em vez de tentar manualmente dividir e analisar os dados CSV. Por exemplo, você pode estar inclinado a apenas escrever algum código como este:"
   ]
  },
  {
   "cell_type": "code",
   "execution_count": 5,
   "metadata": {},
   "outputs": [
    {
     "name": "stdout",
     "output_type": "stream",
     "text": [
      "['Symbol', 'Price', 'Date', 'Time', 'Change', 'Volume\\n']\n",
      "['\\n']\n",
      "['AA', '39.48', '6/11/2007', '9:36am', '-0.18', '181800\\n']\n",
      "['\\n']\n",
      "['AIG', '71.38', '6/11/2007', '9:36am', '-0.15', '195500\\n']\n",
      "['\\n']\n",
      "['AXP', '62.58', '6/11/2007', '9:36am', '-0.46', '935000\\n']\n",
      "['\\n']\n"
     ]
    }
   ],
   "source": [
    "with open('stocks.csv') as f:\n",
    "    for line in f:\n",
    "        row = line.split(',')\n",
    "        print(row)\n",
    "        # process row\n"
   ]
  },
  {
   "cell_type": "markdown",
   "metadata": {},
   "source": [
    "O problema com essa abordagem é que você ainda precisará lidar com alguns detalhes desagradáveis. Por exemplo, se algum dos campos estiver entre aspas, você terá que remover as aspas. Além disso, se um campo entre aspas contiver uma vírgula, o código será interrompido produzindo uma linha com o tamanho errado.\n",
    "\n",
    "Por padrão, a biblioteca `csv` é programada para entender as regras de codificação CSV usadas pelo Microsoft Excel. Esta é provavelmente a variante mais comum e provavelmente lhe dará a melhor compatibilidade. No entanto, se você consultar a documentação do `csv`, verá algumas maneiras de ajustar a codificação para diferentes formatos (por exemplo, alterando o caractere separador etc.). Por exemplo, se você quiser ler dados delimitados por tabulação, use isto:"
   ]
  },
  {
   "cell_type": "code",
   "execution_count": 6,
   "metadata": {},
   "outputs": [
    {
     "name": "stdout",
     "output_type": "stream",
     "text": [
      "['Symbol', 'Price', 'Date', 'Time', 'Change', 'Volume']\n",
      "['AA', '39.48', '6/11/2007', '9:36am', '-0.18', '181800']\n",
      "['AIG', '71.38', '6/11/2007', '9:36am', '-0.15', '195500']\n",
      "['AXP', '62.58', '6/11/2007', '9:36am', '-0.46', '935000']\n",
      "['BA', '98.31', '6/11/2007', '9:36am', '+0.12', '104800']\n",
      "['C', '53.08', '6/11/2007', '9:36am', '-0.25', '360900']\n",
      "['CAT', '78.29', '6/11/2007', '9:36am', '-0.23', '225400']\n"
     ]
    }
   ],
   "source": [
    "# Example of reading tab-separated values\n",
    "with open('stocks.tsv') as f:\n",
    "    f_tsv = csv.reader(f, delimiter='\\t')\n",
    "    for row in f_tsv:\n",
    "        # Process row\n",
    "        print(row)\n"
   ]
  },
  {
   "cell_type": "markdown",
   "metadata": {},
   "source": [
    "Se você estiver lendo dados CSV e convertendo-os em tuplas nomeadas, precisará ter um pouco de cuidado ao validar os cabeçalhos das colunas. Por exemplo, um arquivo CSV pode ter uma linha de cabeçalho contendo caracteres identificadores inválidos como este:\n",
    "~~~python\n",
    "Street Address,Num-Premises,Latitude,Longitude\n",
    "5412 N CLARK,10,41.980262,-87.668452\n",
    "~~~\n",
    "\n",
    "Isso fará com que a criação de uma tupla nomeada falhe com uma exceção `ValueError`. Para contornar isso, talvez seja necessário esfregar os cabeçalhos primeiro. Por exemplo, carregando uma substituição regex em caracteres identificadores inválidos como este:"
   ]
  },
  {
   "cell_type": "code",
   "execution_count": 7,
   "metadata": {},
   "outputs": [],
   "source": [
    "import re\n",
    "from collections import namedtuple\n",
    "with open('stocks.tsv') as f:\n",
    "    f_csv = csv.reader(f, delimiter='\\t')\n",
    "    headers = [ re.sub('[^a-zA-Z_]', '_', h) for h in next(f_csv) ]\n",
    "    Row = namedtuple('Row', headers)\n",
    "    for r in f_csv:\n",
    "        row = Row(*r)"
   ]
  },
  {
   "cell_type": "markdown",
   "metadata": {},
   "source": [
    "Também é importante enfatizar que o `csv` não tenta interpretar os dados ou convertê-los para um tipo diferente de uma *string*. Se essas conversões forem importantes, isso é algo que você precisará fazer sozinho. Aqui está um exemplo de como realizar conversões de tipo extra em dados CSV:"
   ]
  },
  {
   "cell_type": "code",
   "execution_count": 8,
   "metadata": {},
   "outputs": [
    {
     "name": "stdout",
     "output_type": "stream",
     "text": [
      "()\n",
      "('AA', 39.48, '6/11/2007', '9:36am', -0.18, 181800)\n",
      "()\n",
      "('AIG', 71.38, '6/11/2007', '9:36am', -0.15, 195500)\n",
      "()\n",
      "('AXP', 62.58, '6/11/2007', '9:36am', -0.46, 935000)\n",
      "()\n"
     ]
    }
   ],
   "source": [
    "col_types = [str, float, str, str, float, int]\n",
    "with open('stocks.csv') as f:\n",
    "    f_csv = csv.reader(f)\n",
    "    headers = next(f_csv)\n",
    "    for row in f_csv:\n",
    "        # Apply conversions to the row items\n",
    "        row = tuple(convert(value) for convert, value in zip(col_types, row))\n",
    "        print(row)"
   ]
  },
  {
   "cell_type": "markdown",
   "metadata": {},
   "source": [
    "Alternativamente, aqui está um exemplo de conversão de campos selecionados de dicionários:"
   ]
  },
  {
   "cell_type": "code",
   "execution_count": 9,
   "metadata": {},
   "outputs": [
    {
     "name": "stdout",
     "output_type": "stream",
     "text": [
      "Reading as dicts with type conversion\n",
      "{'Symbol': 'AA', 'Price': 39.48, 'Date': '6/11/2007', 'Time': '9:36am', 'Change': -0.18, 'Volume': 181800}\n",
      "{'Symbol': 'AIG', 'Price': 71.38, 'Date': '6/11/2007', 'Time': '9:36am', 'Change': -0.15, 'Volume': 195500}\n",
      "{'Symbol': 'AXP', 'Price': 62.58, 'Date': '6/11/2007', 'Time': '9:36am', 'Change': -0.46, 'Volume': 935000}\n"
     ]
    }
   ],
   "source": [
    "print('Reading as dicts with type conversion')\n",
    "field_types = [ ('Price', float),('Change', float), ('Volume', int)]\n",
    "with open('stocks.csv') as f:\n",
    "    for row in csv.DictReader(f):\n",
    "        row.update((key, conversion(row[key]))\n",
    "                   for key, conversion in field_types)\n",
    "        print(row)"
   ]
  },
  {
   "cell_type": "markdown",
   "metadata": {},
   "source": [
    "Em geral, você provavelmente vai querer ter um pouco de cuidado com essas conversões. No mundo real, é comum que os arquivos CSV tenham valores ausentes, dados corrompidos e outros problemas que interromperiam as conversões de tipo. Portanto, a menos que seus dados sejam garantidos como livres de erros, isso é algo que você precisará considerar (talvez seja necessário adicionar tratamento de exceção adequado).\n",
    "\n",
    "Por fim, se seu objetivo ao ler dados CSV é realizar análises e estatísticas de dados, convém examinar o pacote Pandas. Pandas inclui uma função conveniente `pandas.read_csv()` que carregará dados CSV em um objeto DataFrame. A partir daí, você pode gerar várias estatísticas resumidas, filtrar os dados e realizar outros tipos de operações de alto nível. Um exemplo é dado na Receita 6.13.\n",
    "\n",
    "## 6.2. Lendo e gravando dados JSON\n",
    "\n",
    "**Problema**\n",
    "\n",
    "Você deseja ler ou gravar dados codificados como JSON (JavaScript Object Notation).\n",
    "\n",
    "**Solução**\n",
    "\n",
    "O módulo `json` fornece uma maneira fácil de codificar e decodificar dados em JSON. As duas funções principais são `json.dumps()` e `json.loads()`, espelhando a interface usada em outras bibliotecas de serialização, como `pickle`. Veja como você transforma uma estrutura de dados Python em JSON:"
   ]
  },
  {
   "cell_type": "code",
   "execution_count": 10,
   "metadata": {},
   "outputs": [],
   "source": [
    "import json\n",
    "data = {\n",
    "    'name' : 'ACME',\n",
    "    'shares' : 100,\n",
    "    'price' : 542.23\n",
    "}\n",
    "\n",
    "json_str = json.dumps(data)"
   ]
  },
  {
   "cell_type": "markdown",
   "metadata": {},
   "source": [
    "Veja como você transforma uma string codificada em JSON de volta em uma estrutura de dados Python:"
   ]
  },
  {
   "cell_type": "code",
   "execution_count": 11,
   "metadata": {},
   "outputs": [],
   "source": [
    "data = json.loads(json_str)"
   ]
  },
  {
   "cell_type": "markdown",
   "metadata": {},
   "source": [
    "Se estiver trabalhando com arquivos em vez de strings, você pode usar alternativamente `json.dump()` e `json.load()` para codificar e decodificar dados JSON. Por exemplo:"
   ]
  },
  {
   "cell_type": "code",
   "execution_count": 12,
   "metadata": {},
   "outputs": [],
   "source": [
    "# Writing JSON data\n",
    "with open('data.json', 'w') as f:\n",
    "    json.dump(data, f)"
   ]
  },
  {
   "cell_type": "code",
   "execution_count": 13,
   "metadata": {},
   "outputs": [],
   "source": [
    "# Reading data back\n",
    "with open('data.json', 'r') as f:\n",
    "    data = json.load(f)"
   ]
  },
  {
   "cell_type": "markdown",
   "metadata": {},
   "source": [
    "**Discussão**\n",
    "\n",
    "A codificação JSON oferece suporte aos tipos básicos de **None**, **bool**, **int**, **float** e **str**, bem como listas, tuplas e dicionários que contêm esses tipos. Para dicionários, as chaves são consideradas strings (qualquer chave não string em um dicionário é convertida em strings durante a codificação).Para estar em conformidade com a especificação JSON, você deve codificar apenas listas e dicionários do Python. Além disso, em aplicativos da Web, é prática padrão que o objeto de nível superior seja um dicionário.\n",
    "\n",
    "O formato da codificação JSON é quase idêntico à sintaxe do Python, exceto por algumas pequenas alterações. Por exemplo, `True` é mapeado para **true**, `False` é mapeado para **false** e `None` é mapeado para **null**. Aqui está um exemplo que mostra como a codificação se parece:"
   ]
  },
  {
   "cell_type": "code",
   "execution_count": 14,
   "metadata": {},
   "outputs": [
    {
     "data": {
      "text/plain": "'false'"
     },
     "execution_count": 14,
     "metadata": {},
     "output_type": "execute_result"
    }
   ],
   "source": [
    "json.dumps(False)"
   ]
  },
  {
   "cell_type": "code",
   "execution_count": 15,
   "metadata": {},
   "outputs": [
    {
     "data": {
      "text/plain": "'{\"a\": true, \"b\": \"Hello\", \"c\": null}'"
     },
     "execution_count": 15,
     "metadata": {},
     "output_type": "execute_result"
    }
   ],
   "source": [
    "d = {'a': True,\n",
    "     'b': 'Hello',\n",
    "     'c': None}\n",
    "json.dumps(d)"
   ]
  },
  {
   "cell_type": "markdown",
   "metadata": {},
   "source": [
    "Se você estiver tentando examinar os dados que decodificou do JSON, muitas vezes pode ser difícil determinar sua estrutura simplesmente imprimindo-os, especialmente se os dados contiverem um nível profundo de estruturas aninhadas ou muitos campos. Para ajudar com isso, considere usar a função `pprint()` no módulo `pprint`. Isso alfabetizará as chaves e produzirá um dicionário de uma maneira mais sã. Aqui está um exemplo que ilustra como você imprimiria os resultados de uma pesquisa no Twitter:"
   ]
  },
  {
   "cell_type": "code",
   "execution_count": 16,
   "metadata": {},
   "outputs": [
    {
     "name": "stdout",
     "output_type": "stream",
     "text": [
      "[{'boundingbox': ['-3.222', '-1.924', '-60.801', '-59.16'],\n",
      "  'category': 'boundary',\n",
      "  'display_name': 'Manaus, Região Geográfica Imediata de Manaus, Região '\n",
      "                  'Geográfica Intermediária de Manaus, Amazonas, Região Norte, '\n",
      "                  '69000-000, Brasil',\n",
      "  'icon': 'https://nominatim.openstreetmap.org/ui/mapicons/poi_boundary_administrative.p.20.png',\n",
      "  'importance': 0.6822901469283741,\n",
      "  'lat': '-3.1316333',\n",
      "  'licence': 'Data © OpenStreetMap contributors, ODbL 1.0. '\n",
      "             'https://osm.org/copyright',\n",
      "  'lon': '-59.9825041',\n",
      "  'osm_id': 332493,\n",
      "  'osm_type': 'relation',\n",
      "  'place_id': 297367104,\n",
      "  'place_rank': 16,\n",
      "  'type': 'administrative'},\n",
      " {'boundingbox': ['-3.222', '-1.924', '-60.801', '-59.16'],\n",
      "  'category': 'boundary',\n",
      "  'display_name': 'Manaus, Região Geográfica Imediata de Manaus, Região '\n",
      "                  'Geográfica Intermediária de Manaus, Amazonas, Região Norte, '\n",
      "                  '69000-000, Brasil',\n",
      "  'icon': 'https://nominatim.openstreetmap.org/ui/mapicons/poi_boundary_administrative.p.20.png',\n",
      "  'importance': 0.41000000000000003,\n",
      "  'lat': '-2.573',\n",
      "  'licence': 'Data © OpenStreetMap contributors, ODbL 1.0. '\n",
      "             'https://osm.org/copyright',\n",
      "  'lon': '-60.372468061674006',\n",
      "  'osm_id': 6255880,\n",
      "  'osm_type': 'relation',\n",
      "  'place_id': 298883723,\n",
      "  'place_rank': 18,\n",
      "  'type': 'administrative'},\n",
      " {'boundingbox': ['-1.5410701', '-1.5010701', '-46.0290779', '-45.9890779'],\n",
      "  'category': 'place',\n",
      "  'display_name': 'Manaus, Luís Domingues, Região Geográfica Imediata de '\n",
      "                  'Governador Nunes Freire, Região Geográfica Intermediária de '\n",
      "                  'Santa Inês-Bacabal, Maranhão, Região Nordeste, Brasil',\n",
      "  'icon': 'https://nominatim.openstreetmap.org/ui/mapicons/poi_place_village.p.20.png',\n",
      "  'importance': 0.385,\n",
      "  'lat': '-1.5210701',\n",
      "  'licence': 'Data © OpenStreetMap contributors, ODbL 1.0. '\n",
      "             'https://osm.org/copyright',\n",
      "  'lon': '-46.0090779',\n",
      "  'osm_id': 4647841617,\n",
      "  'osm_type': 'node',\n",
      "  'place_id': 53172257,\n",
      "  'place_rank': 19,\n",
      "  'type': 'village'},\n",
      " {'boundingbox': ['-11.1329897', '-11.0929897', '-68.6230167', '-68.5830167'],\n",
      "  'category': 'place',\n",
      "  'display_name': 'Manaus, Epitaciolândia, Região Geográfica Imediata de '\n",
      "                  'Brasiléia, Região Geográfica Intermediária de Rio Branco, '\n",
      "                  'Acre, Região Norte, Brasil',\n",
      "  'icon': 'https://nominatim.openstreetmap.org/ui/mapicons/poi_place_village.p.20.png',\n",
      "  'importance': 0.36,\n",
      "  'lat': '-11.1129897',\n",
      "  'licence': 'Data © OpenStreetMap contributors, ODbL 1.0. '\n",
      "             'https://osm.org/copyright',\n",
      "  'lon': '-68.6030167',\n",
      "  'osm_id': 3809552513,\n",
      "  'osm_type': 'node',\n",
      "  'place_id': 45564349,\n",
      "  'place_rank': 20,\n",
      "  'type': 'hamlet'},\n",
      " {'boundingbox': ['-9.373781', '-9.333781', '-69.934744', '-69.894744'],\n",
      "  'category': 'place',\n",
      "  'display_name': 'Manaus, Manoel Urbano, Região Geográfica Imediata de Sena '\n",
      "                  'Madureira, Região Geográfica Intermediária de Rio Branco, '\n",
      "                  'Acre, Região Norte, Brasil',\n",
      "  'icon': 'https://nominatim.openstreetmap.org/ui/mapicons/poi_place_village.p.20.png',\n",
      "  'importance': 0.36,\n",
      "  'lat': '-9.353781',\n",
      "  'licence': 'Data © OpenStreetMap contributors, ODbL 1.0. '\n",
      "             'https://osm.org/copyright',\n",
      "  'lon': '-69.914744',\n",
      "  'osm_id': 416760249,\n",
      "  'osm_type': 'node',\n",
      "  'place_id': 3139193,\n",
      "  'place_rank': 20,\n",
      "  'type': 'hamlet'},\n",
      " {'boundingbox': ['54.8125528', '54.8450191', '52.9462608', '53.0729952'],\n",
      "  'category': 'waterway',\n",
      "  'display_name': 'Маняус, Агерзе, Агерзинское сельское поселение, '\n",
      "                  'Азнакаевский район, Татарстан, Приволжский федеральный '\n",
      "                  'округ, 423332, Россия',\n",
      "  'importance': 0.282582546755277,\n",
      "  'lat': '54.8288816',\n",
      "  'licence': 'Data © OpenStreetMap contributors, ODbL 1.0. '\n",
      "             'https://osm.org/copyright',\n",
      "  'lon': '53.0160573',\n",
      "  'osm_id': 192219914,\n",
      "  'osm_type': 'way',\n",
      "  'place_id': 150443725,\n",
      "  'place_rank': 19,\n",
      "  'type': 'river'},\n",
      " {'boundingbox': ['25.2035461', '25.2060466', '55.1627647', '55.1659216'],\n",
      "  'category': 'place',\n",
      "  'display_name': 'ماناوس, دبي, الإمارات العربية المتحدة',\n",
      "  'importance': 0.25,\n",
      "  'lat': '25.204849199999998',\n",
      "  'licence': 'Data © OpenStreetMap contributors, ODbL 1.0. '\n",
      "             'https://osm.org/copyright',\n",
      "  'lon': '55.16389272585206',\n",
      "  'osm_id': 9641826,\n",
      "  'osm_type': 'relation',\n",
      "  'place_id': 299102404,\n",
      "  'place_rank': 20,\n",
      "  'type': 'islet'},\n",
      " {'boundingbox': ['-33.8157766', '-33.8155161', '-70.7416601', '-70.7403156'],\n",
      "  'category': 'highway',\n",
      "  'display_name': 'Manaus, Colonia San Pablo, Paine, Provincia de Maipo, '\n",
      "                  'Región Metropolitana de Santiago, Chile',\n",
      "  'importance': 0.21,\n",
      "  'lat': '-33.8156207',\n",
      "  'licence': 'Data © OpenStreetMap contributors, ODbL 1.0. '\n",
      "             'https://osm.org/copyright',\n",
      "  'lon': '-70.7411199',\n",
      "  'osm_id': 85509942,\n",
      "  'osm_type': 'way',\n",
      "  'place_id': 124473038,\n",
      "  'place_rank': 26,\n",
      "  'type': 'residential'},\n",
      " {'boundingbox': ['-3.0418864', '-3.0417864', '-60.0521299', '-60.0520299'],\n",
      "  'category': 'man_made',\n",
      "  'display_name': 'Manaus, Rua Maracanã, Redenção, Manaus, Região Geográfica '\n",
      "                  'Imediata de Manaus, Região Geográfica Intermediária de '\n",
      "                  'Manaus, Amazonas, Região Norte, 69000-000, Brasil',\n",
      "  'importance': 0.11010000000000002,\n",
      "  'lat': '-3.0418364',\n",
      "  'licence': 'Data © OpenStreetMap contributors, ODbL 1.0. '\n",
      "             'https://osm.org/copyright',\n",
      "  'lon': '-60.0520799',\n",
      "  'osm_id': 4792611159,\n",
      "  'osm_type': 'node',\n",
      "  'place_id': 55421930,\n",
      "  'place_rank': 30,\n",
      "  'type': 'tower'},\n",
      " {'boundingbox': ['4.704509', '4.704609', '-74.124304', '-74.124204'],\n",
      "  'category': 'amenity',\n",
      "  'display_name': 'Manaus, Calle 70, UPZs Localidad Engativá, Localidad '\n",
      "                  'Engativá, Bogotá, Bogotá, Distrito Capital, 111041, '\n",
      "                  'Colombia',\n",
      "  'icon': 'https://nominatim.openstreetmap.org/ui/mapicons/food_restaurant.p.20.png',\n",
      "  'importance': 0.11010000000000002,\n",
      "  'lat': '4.704559',\n",
      "  'licence': 'Data © OpenStreetMap contributors, ODbL 1.0. '\n",
      "             'https://osm.org/copyright',\n",
      "  'lon': '-74.124254',\n",
      "  'osm_id': 5186319381,\n",
      "  'osm_type': 'node',\n",
      "  'place_id': 57801650,\n",
      "  'place_rank': 30,\n",
      "  'type': 'restaurant'}]\n"
     ]
    }
   ],
   "source": [
    "from urllib.request import urlopen\n",
    "import json\n",
    "u = urlopen('https://nominatim.openstreetmap.org/search.php?q=Manaus&format=jsonv2')\n",
    "resp = json.loads(u.read().decode('utf-8'))\n",
    "from pprint import pprint\n",
    "pprint(resp)"
   ]
  },
  {
   "cell_type": "markdown",
   "metadata": {},
   "source": [
    "Normalmente, a decodificação JSON criará dicts ou listas a partir dos dados fornecidos. Se você deseja criar diferentes tipos de objetos, forneça o *object_pairs_hook* ou *object_hook* para `json.loads()`. Por exemplo, aqui está como você decodificaria dados JSON, preservando sua ordem em um `OrderedDict`:"
   ]
  },
  {
   "cell_type": "code",
   "execution_count": 17,
   "metadata": {},
   "outputs": [
    {
     "data": {
      "text/plain": "OrderedDict([('name', 'ACME'), ('shares', 50), ('price', 490.1)])"
     },
     "execution_count": 17,
     "metadata": {},
     "output_type": "execute_result"
    }
   ],
   "source": [
    "s = '{\"name\": \"ACME\", \"shares\": 50, \"price\": 490.1}'\n",
    "from collections import OrderedDict\n",
    "data = json.loads(s, object_pairs_hook=OrderedDict)\n",
    "data"
   ]
  },
  {
   "cell_type": "markdown",
   "metadata": {},
   "source": [
    "Aqui está como você pode transformar um dicionário JSON em um objeto Python:"
   ]
  },
  {
   "cell_type": "code",
   "execution_count": 18,
   "metadata": {},
   "outputs": [],
   "source": [
    "class JSONObject:\n",
    "    def __init__(self, d):\n",
    "        self.__dict__ = d"
   ]
  },
  {
   "cell_type": "code",
   "execution_count": 19,
   "metadata": {},
   "outputs": [],
   "source": [
    "data = json.loads(s, object_hook=JSONObject)"
   ]
  },
  {
   "cell_type": "code",
   "execution_count": 20,
   "metadata": {},
   "outputs": [
    {
     "data": {
      "text/plain": "'ACME'"
     },
     "execution_count": 20,
     "metadata": {},
     "output_type": "execute_result"
    }
   ],
   "source": [
    " data.name"
   ]
  },
  {
   "cell_type": "code",
   "execution_count": 21,
   "metadata": {},
   "outputs": [
    {
     "data": {
      "text/plain": "50"
     },
     "execution_count": 21,
     "metadata": {},
     "output_type": "execute_result"
    }
   ],
   "source": [
    " data.shares"
   ]
  },
  {
   "cell_type": "code",
   "execution_count": 22,
   "metadata": {},
   "outputs": [
    {
     "data": {
      "text/plain": "490.1"
     },
     "execution_count": 22,
     "metadata": {},
     "output_type": "execute_result"
    }
   ],
   "source": [
    "data.price"
   ]
  },
  {
   "cell_type": "markdown",
   "metadata": {},
   "source": [
    "Neste último exemplo, o dicionário criado pela decodificação dos dados JSON é passado como um único argumento para `__init__()`. A partir daí, você está livre para usá-lo como quiser, como usá-lo diretamente como o dicionário de instância do objeto.\n",
    "Existem algumas opções que podem ser úteis para codificar JSON. Se você quiser que a saída seja bem formatada, você pode usar o argumento `indent` para `json.dumps()`. Isso faz com que a saída seja bem impressa em um formato semelhante ao da função `pprint()`. Por exemplo:"
   ]
  },
  {
   "cell_type": "code",
   "execution_count": 23,
   "metadata": {},
   "outputs": [
    {
     "name": "stdout",
     "output_type": "stream",
     "text": [
      "{\"name\": \"ACME\", \"shares\": 100, \"price\": 542.23}\n"
     ]
    }
   ],
   "source": [
    "data = {\n",
    "    'name' : 'ACME',\n",
    "    'shares' : 100,\n",
    "    'price' : 542.23\n",
    "}\n",
    "\n",
    "print(json.dumps(data))"
   ]
  },
  {
   "cell_type": "code",
   "execution_count": 24,
   "metadata": {},
   "outputs": [
    {
     "name": "stdout",
     "output_type": "stream",
     "text": [
      "{\n",
      "    \"name\": \"ACME\",\n",
      "    \"shares\": 100,\n",
      "    \"price\": 542.23\n",
      "}\n"
     ]
    }
   ],
   "source": [
    "print(json.dumps(data, indent=4))"
   ]
  },
  {
   "cell_type": "markdown",
   "metadata": {},
   "source": [
    "Se você quiser que as chaves sejam classificadas na saída, use o argumento `sort_keys`:"
   ]
  },
  {
   "cell_type": "code",
   "execution_count": 25,
   "metadata": {},
   "outputs": [
    {
     "name": "stdout",
     "output_type": "stream",
     "text": [
      "{\"name\": \"ACME\", \"price\": 542.23, \"shares\": 100}\n"
     ]
    }
   ],
   "source": [
    "print(json.dumps(data, sort_keys=True))"
   ]
  },
  {
   "cell_type": "markdown",
   "metadata": {},
   "source": [
    "As instâncias normalmente não são serializáveis como JSON. Por exemplo:"
   ]
  },
  {
   "cell_type": "code",
   "execution_count": 26,
   "metadata": {},
   "outputs": [],
   "source": [
    "class Point:\n",
    "    def __init__(self, x, y):\n",
    "        self.x = x\n",
    "        self.y = y\n",
    "        \n",
    "p = Point(2, 3)"
   ]
  },
  {
   "cell_type": "markdown",
   "metadata": {},
   "source": [
    "~~~python\n",
    "json.dumps(p)\n",
    "Traceback (most recent call last):\n",
    " File \"<stdin>\", line 1, in <module>\n",
    " File \"/usr/local/lib/python3.3/json/__init__.py\", line 226, in dumps\n",
    " return _default_encoder.encode(obj)\n",
    " File \"/usr/local/lib/python3.3/json/encoder.py\", line 187, in encode\n",
    " chunks = self.iterencode(o, _one_shot=True)\n",
    " File \"/usr/local/lib/python3.3/json/encoder.py\", line 245, in iterencode\n",
    " return _iterencode(o, 0)\n",
    " File \"/usr/local/lib/python3.3/json/encoder.py\", line 169, in default\n",
    " raise TypeError(repr(o) + \" is not JSON serializable\")\n",
    "TypeError: <__main__.Point object at 0x1006f2650> is not JSON serializable\n",
    ">>>\n",
    "~~~"
   ]
  },
  {
   "cell_type": "markdown",
   "metadata": {},
   "source": [
    "Se você deseja serializar instâncias, pode fornecer uma função que recebe uma instância como entrada e retorna um dicionário que pode ser serializado. Por exemplo:"
   ]
  },
  {
   "cell_type": "code",
   "execution_count": 27,
   "metadata": {},
   "outputs": [],
   "source": [
    "def serialize_instance(obj):\n",
    "    d = { '__classname__' : type(obj).__name__ }\n",
    "    d.update(vars(obj))\n",
    "    return d"
   ]
  },
  {
   "cell_type": "markdown",
   "metadata": {},
   "source": [
    "Se você quiser obter uma instância de volta, você pode escrever um código como este:"
   ]
  },
  {
   "cell_type": "code",
   "execution_count": 28,
   "metadata": {},
   "outputs": [],
   "source": [
    "# Dictionary mapping names to known classes\n",
    "classes = {\n",
    "    'Point' : Point\n",
    "}\n",
    "\n",
    "def unserialize_object(d):\n",
    "    clsname = d.pop('__classname__', None)\n",
    "    if clsname:\n",
    "        cls = classes[clsname]\n",
    "        obj = cls.__new__(cls) # Make instance without calling __init__\n",
    "        for key, value in d.items():\n",
    "            setattr(obj, key, value)\n",
    "            return obj\n",
    "    else:\n",
    "        return d\n"
   ]
  },
  {
   "cell_type": "markdown",
   "metadata": {},
   "source": [
    "Aqui está um exemplo de como essas funções são usadas:"
   ]
  },
  {
   "cell_type": "code",
   "execution_count": 29,
   "metadata": {},
   "outputs": [
    {
     "data": {
      "text/plain": "'{\"__classname__\": \"Point\", \"x\": 2, \"y\": 3}'"
     },
     "execution_count": 29,
     "metadata": {},
     "output_type": "execute_result"
    }
   ],
   "source": [
    "p = Point(2,3)\n",
    "s = json.dumps(p, default=serialize_instance)\n",
    "s"
   ]
  },
  {
   "cell_type": "code",
   "execution_count": 30,
   "metadata": {},
   "outputs": [
    {
     "data": {
      "text/plain": "<__main__.Point at 0x26589f379d0>"
     },
     "execution_count": 30,
     "metadata": {},
     "output_type": "execute_result"
    }
   ],
   "source": [
    "a = json.loads(s, object_hook=unserialize_object)\n",
    "a"
   ]
  },
  {
   "cell_type": "code",
   "execution_count": 31,
   "metadata": {},
   "outputs": [
    {
     "data": {
      "text/plain": "2"
     },
     "execution_count": 31,
     "metadata": {},
     "output_type": "execute_result"
    }
   ],
   "source": [
    "a.x"
   ]
  },
  {
   "cell_type": "markdown",
   "metadata": {},
   "source": [
    "O módulo json tem uma variedade de outras opções para controlar a interpretação de números de baixo nível, valores especiais como NaN e muito mais. Consulte a documentação para mais detalhes.\n",
    "\n",
    "## 6.3. Analisando dados XML simples\n",
    "\n",
    "**Problema**\n",
    "\n",
    "Você gostaria de extrair dados de um documento XML simples.\n",
    "\n",
    "**Solução**\n",
    "O módulo `xml.etree.ElementTree` pode ser usado para extrair dados de documentos XML simples. Para ilustrar, suponha que você queira analisar e fazer um resumo do feed RSS no Planet Python. Aqui está um script que fará isso:"
   ]
  },
  {
   "cell_type": "code",
   "execution_count": 32,
   "metadata": {},
   "outputs": [],
   "source": [
    "from urllib.request import urlopen\n",
    "from xml.etree.ElementTree import parse\n",
    "# Download the RSS feed and parse it\n",
    "u = urlopen('http://planet.python.org/rss20.xml')\n",
    "doc = parse(u)"
   ]
  },
  {
   "cell_type": "code",
   "execution_count": 33,
   "metadata": {},
   "outputs": [
    {
     "name": "stdout",
     "output_type": "stream",
     "text": [
      "PyCharm\n",
      "Thu, 17 Nov 2022 13:39:29 +0000\n",
      "\n",
      "\n",
      "PyCharm\n",
      "Thu, 17 Nov 2022 13:39:29 +0000\n",
      "\n",
      "\n",
      "Sebastian Witowski: How to Benchmark (Python) Code\n",
      "Thu, 17 Nov 2022 00:00:00 +0000\n",
      "https://switowski.com/blog/how-to-benchmark-python-code/\n",
      "\n",
      "Real Python: Python REST APIs With Flask, Connexion, and SQLAlchemy – Part 2\n",
      "Wed, 16 Nov 2022 14:00:00 +0000\n",
      "https://realpython.com/flask-connexion-rest-api-part-2/\n",
      "\n",
      "Python for Beginners: Custom JSON Decoder in Python\n",
      "Wed, 16 Nov 2022 14:00:00 +0000\n",
      "https://www.pythonforbeginners.com/basics/custom-json-decoder-in-python\n",
      "\n",
      "Kushal Das: Johnnycanencrypt 0.11.0 released\n",
      "Wed, 16 Nov 2022 12:53:31 +0000\n",
      "https://kushaldas.in/posts/johnnycanencrypt-0-11-0-released.html\n",
      "\n",
      "Django Weblog: 2023 DSF Board Candidates\n",
      "Wed, 16 Nov 2022 02:36:01 +0000\n",
      "https://www.djangoproject.com/weblog/2022/nov/15/2023-dsf-board-candidates-list/\n",
      "\n",
      "Brett Cannon: MVPy: Minimum Viable Python\n",
      "Wed, 16 Nov 2022 01:01:00 +0000\n",
      "https://snarky.ca/mvpy-minimum-viable-python/\n",
      "\n",
      "Brett Cannon: Unravelling `lambda` expressions\n",
      "Wed, 16 Nov 2022 01:00:29 +0000\n",
      "https://snarky.ca/unraveling-lambda-expressions/\n",
      "\n",
      "PyCoder’s Weekly: Issue #551 (Nov. 15, 2022)\n",
      "Tue, 15 Nov 2022 19:30:00 +0000\n",
      "https://pycoders.com/issues/551\n",
      "\n",
      "PyBites: Software Engineering and Entrepreneurship\n",
      "Tue, 15 Nov 2022 19:19:34 +0000\n",
      "https://pybit.es/articles/pp95-software-engineering-and-entrepreneurship/\n",
      "\n",
      "Kushal Das: Tor 0.4.7.11 is ready\n",
      "Tue, 15 Nov 2022 16:47:31 +0000\n",
      "https://kushaldas.in/posts/tor-0-4-7-11-is-ready.html\n",
      "\n",
      "Real Python: Deploy a Django App With Gunicorn and Nginx\n",
      "Tue, 15 Nov 2022 14:00:00 +0000\n",
      "https://realpython.com/courses/django-app-with-gunicorn-nginx/\n",
      "\n",
      "Made With Mu: Announcing a new stable release: 1.2.0\n",
      "Tue, 15 Nov 2022 10:30:00 +0000\n",
      "https://madewith.mu/mu/users/2022/11/15/mu-1-2-0.html\n",
      "\n",
      "Python Insider: Python 3.12.0 alpha 2 released\n",
      "Tue, 15 Nov 2022 08:06:31 +0000\n",
      "https://pythoninsider.blogspot.com/2022/11/python-3120-alpha-2-released.html\n",
      "\n",
      "Talk Python to Me: #390: Mastodon for Python Devs\n",
      "Tue, 15 Nov 2022 08:00:00 +0000\n",
      "https://talkpython.fm/episodes/show/390/mastodon-for-python-devs\n",
      "\n",
      "Python Bytes: #310 Calling All Tools for Readmes\n",
      "Tue, 15 Nov 2022 08:00:00 +0000\n",
      "https://pythonbytes.fm/episodes/show/310/calling-all-tools-for-readmes\n",
      "\n",
      "Paolo Melchiorre: Intervista Pythonista - Ep 31\n",
      "Mon, 14 Nov 2022 23:00:00 +0000\n",
      "https://www.paulox.net/2022/11/15/intervista-pythonista-31/\n",
      "\n",
      "Luke Plant: Tools for rewriting Python code\n",
      "Mon, 14 Nov 2022 16:07:02 +0000\n",
      "https://lukeplant.me.uk/blog/posts/tools-for-rewriting-python-code/\n",
      "\n",
      "Python Morsels: Python's ternary operator\n",
      "Mon, 14 Nov 2022 16:00:00 +0000\n",
      "https://www.pythonmorsels.com/ternary-operator/\n",
      "\n",
      "Real Python: Python REST APIs With Flask, Connexion, and SQLAlchemy – Part 1\n",
      "Mon, 14 Nov 2022 14:00:00 +0000\n",
      "https://realpython.com/flask-connexion-rest-api/\n",
      "\n",
      "Python for Beginners: Working with JSON Files in Python\n",
      "Mon, 14 Nov 2022 14:00:00 +0000\n",
      "https://www.pythonforbeginners.com/basics/working-with-json-files-in-python\n",
      "\n",
      "Mike Driscoll: PyDev of the Week: Sarah Abderemane\n",
      "Mon, 14 Nov 2022 13:30:54 +0000\n",
      "https://www.blog.pythonlibrary.org/2022/11/14/pydev-of-the-week-sarah-abderemane/\n",
      "\n",
      "Zato Blog: IMAP and OAuth2 Integrations with Microsoft 365\n",
      "Mon, 14 Nov 2022 10:41:35 +0000\n",
      "https://zato.io/blog/posts/imap-oauth2-microsoft365.html\n",
      "\n",
      "Reuven Lerner: Level up your career with PythonDAB — the Python Data Analytics Bootcamp\n",
      "Mon, 14 Nov 2022 09:09:46 +0000\n",
      "https://lerner.co.il/2022/11/14/level-up-your-career-with-pythondab-the-python-data-analytics-bootcamp/\n",
      "\n"
     ]
    }
   ],
   "source": [
    "# Extract and output tags of interest\n",
    "for item in doc.iterfind('channel/item'):\n",
    "    title = item.findtext('title')\n",
    "    date = item.findtext('pubDate')\n",
    "    link = item.findtext('link')\n",
    "    print(title)\n",
    "    print(date)\n",
    "    print(link)\n",
    "    print()"
   ]
  },
  {
   "cell_type": "markdown",
   "metadata": {},
   "source": [
    "Obviamente, se você quiser fazer mais processamento, precisará substituir as instruções `print()` por algo mais interessante.\n",
    "\n",
    "**Discussão**\n",
    "\n",
    "Trabalhar com dados codificados como XML é comum em muitos aplicativos. O XML não é apenas amplamente usado como formato para troca de dados na Internet, mas também é um formato comum para armazenar dados de aplicativos (por exemplo, processamento de texto, bibliotecas de música etc.). A discussão a seguir já pressupõe que o leitor esteja familiarizado com os fundamentos do XML.\n",
    "\n",
    "Em muitos casos, quando o XML está simplesmente sendo usado para armazenar dados, a estrutura do documento é compacta e direta. Por exemplo, o feed RSS do exemplo é semelhante ao seguinte:\n",
    "\n",
    "~~~html\n",
    "<?xml version=\"1.0\"?>\n",
    " <rss version=\"2.0\" xmlns:dc=\"http://purl.org/dc/elements/1.1/\">\n",
    " <channel>\n",
    "     <title>Planet Python</title>\n",
    "     <link>http://planet.python.org/</link>\n",
    "     <language>en</language>\n",
    "     <description>Planet Python - http://planet.python.org/</description>\n",
    "     <item>\n",
    "         <title>Steve Holden: Python for Data Analysis</title>\n",
    "         <guid>http://holdenweb.blogspot.com/...-data-analysis.html</guid>\n",
    "         <link>http://holdenweb.blogspot.com/...-data-analysis.html</link>\n",
    "     <description>...</description>\n",
    "     <pubDate>Mon, 19 Nov 2012 02:13:51 +0000</pubDate>\n",
    "     </item>\n",
    "<item>\n",
    "    <title>Vasudev Ram: The Python Data model (for v2 and v3)</title>\n",
    "    <guid>http://jugad2.blogspot.com/...-data-model.html</guid>\n",
    "    <link>http://jugad2.blogspot.com/...-data-model.html</link>\n",
    "<description>...</description>\n",
    "<pubDate>Sun, 18 Nov 2012 22:06:47 +0000</pubDate>\n",
    "</item>\n",
    "<item>\n",
    "    <title>Python Diary: Been playing around with Object Databases</title>\n",
    "    <guid>http://www.pythondiary.com/...-object-databases.html</guid>\n",
    "    <link>http://www.pythondiary.com/...-object-databases.html</link>\n",
    "<description>...</description>\n",
    "<pubDate>Sun, 18 Nov 2012 20:40:29 +0000</pubDate>\n",
    "</item>\n",
    "...\n",
    " </channel>\n",
    "</rss>\n",
    "~~~"
   ]
  },
  {
   "cell_type": "markdown",
   "metadata": {},
   "source": [
    "A função `xml.etree.ElementTree.parse()` analisa todo o documento XML em um objeto de documento. A partir daí, você usa métodos como `find()`, `iterfind()` e `findtext()` para pesquisar elementos XML específicos. Os argumentos para essas funções são os nomes de uma tag específica, como canal/item ou título.\n",
    "\n",
    "Ao especificar tags, você precisa levar em consideração a estrutura geral do documento. Cada operação de localização ocorre em relação a um elemento inicial. Da mesma forma, o tagname que você fornece para cada operação também é relativo ao início. No exemplo, a chamada para `doc.iterfind('canal/item')` procura todos os elementos “item” sob um elemento “canal”. doc representa a parte superior do documento (o elemento “rss” de nível superior). As últimas chamadas para `item.findtext()` ocorrem em relação aos elementos “item” encontrados.\n",
    "\n",
    "Cada elemento representado pelo módulo `ElementTree` tem alguns atributos e métodos essenciais que são úteis ao analisar. O atributo tag contém o nome da tag, o atributo text contém texto incluído e o método `get()` pode ser usado para extrair atributos (se houver). Por exemplo:"
   ]
  },
  {
   "cell_type": "code",
   "execution_count": 34,
   "metadata": {},
   "outputs": [
    {
     "data": {
      "text/plain": "<xml.etree.ElementTree.ElementTree at 0x26589f3eac0>"
     },
     "execution_count": 34,
     "metadata": {},
     "output_type": "execute_result"
    }
   ],
   "source": [
    "doc"
   ]
  },
  {
   "cell_type": "code",
   "execution_count": 35,
   "metadata": {},
   "outputs": [
    {
     "data": {
      "text/plain": "<Element 'title' at 0x0000026589F1B090>"
     },
     "execution_count": 35,
     "metadata": {},
     "output_type": "execute_result"
    }
   ],
   "source": [
    "e = doc.find('channel/title')\n",
    "e"
   ]
  },
  {
   "cell_type": "code",
   "execution_count": 36,
   "metadata": {},
   "outputs": [
    {
     "data": {
      "text/plain": "'title'"
     },
     "execution_count": 36,
     "metadata": {},
     "output_type": "execute_result"
    }
   ],
   "source": [
    "e.tag"
   ]
  },
  {
   "cell_type": "code",
   "execution_count": 37,
   "metadata": {},
   "outputs": [
    {
     "data": {
      "text/plain": "'Planet Python'"
     },
     "execution_count": 37,
     "metadata": {},
     "output_type": "execute_result"
    }
   ],
   "source": [
    "e.text"
   ]
  },
  {
   "cell_type": "code",
   "execution_count": 38,
   "metadata": {},
   "outputs": [],
   "source": [
    "e.get('some_attribute')"
   ]
  },
  {
   "cell_type": "markdown",
   "metadata": {},
   "source": [
    "Deve-se notar que `xml.etree.ElementTree` não é a única opção para análise XML. Para aplicativos mais avançados, você pode considerar `lxml`. Ele usa a mesma interface de programação do `ElementTree`, então o exemplo mostrado nesta receita funciona da mesma maneira. Você simplesmente precisa alterar a primeira importação `from lxml.etree import parse.lxml` oferece o benefício de ser totalmente compatível com os padrões XML. Também é extremamente **rápido** e oferece suporte para recursos como validação, XSLT e XPath.\n",
    "\n",
    "## 6.4. Analisando arquivos XML enormes de forma incremental\n",
    "\n",
    "**Problema**\n",
    "\n",
    "Você precisa extrair dados de um documento XML enorme usando o mínimo de memória possível.\n",
    "\n",
    "**Solução**\n",
    "\n",
    "Sempre que você se deparar com o problema do processamento incremental de dados, você deve pensar em iteradores e geradores. Aqui está uma função simples que pode ser usada para processar de forma incremental arquivos XML enormes usando uma pegada de memória muito pequena:"
   ]
  },
  {
   "cell_type": "code",
   "execution_count": 39,
   "metadata": {},
   "outputs": [],
   "source": [
    "from xml.etree.ElementTree import iterparse\n",
    "def parse_and_remove(filename, path):\n",
    "    path_parts = path.split('/')\n",
    "    doc = iterparse(filename, ('start', 'end'))\n",
    "    # Skip the root element\n",
    "    next(doc)\n",
    "    tag_stack = []\n",
    "    elem_stack = []\n",
    "    for event, elem in doc:\n",
    "        if event == 'start':\n",
    "            tag_stack.append(elem.tag)\n",
    "            elem_stack.append(elem)\n",
    "        elif event == 'end':\n",
    "            if tag_stack == path_parts:\n",
    "                yield elem\n",
    "                elem_stack[-2].remove(elem)\n",
    "            try:\n",
    "                tag_stack.pop()\n",
    "                elem_stack.pop()\n",
    "            except IndexError:\n",
    "                pass"
   ]
  },
  {
   "cell_type": "markdown",
   "metadata": {},
   "source": [
    "Para testar a função, agora você precisa encontrar um arquivo XML grande para trabalhar. Muitas vezes você pode encontrar esses arquivos em sites governamentais e de dados abertos. Por exemplo, você pode baixar o banco de dados de buracos de Chicago como XML. No momento da redação deste artigo, o arquivo baixado consiste em mais de 100.000 linhas de dados, que são codificados assim:"
   ]
  },
  {
   "cell_type": "raw",
   "metadata": {},
   "source": [
    "<response>\n",
    "<row>\n",
    "<row ...>\n",
    "<creation_date>2012-11-18T00:00:00</creation_date>\n",
    "        <status>Completed</status>\n",
    "        <completion_date>2012-11-18T00:00:00</completion_date>\n",
    "                <service_request_number>12-01906549</service_request_number>\n",
    "                <type_of_service_request>Pot Hole in Street</type_of_service_request>\n",
    "                <current_activity>Final Outcome</current_activity>\n",
    "                <most_recent_action>CDOT Street Cut ... Outcome</most_recent_action>\n",
    "                <street_address>4714 S TALMAN AVE</street_address>\n",
    "                <zip>60632</zip>\n",
    "                <x_coordinate>1159494.68618856</x_coordinate>\n",
    "                <y_coordinate>1873313.83503384</y_coordinate>\n",
    "                <ward>14</ward>\n",
    "                <police_district>9</police_district>\n",
    "                <community_area>58</community_area>\n",
    "                <latitude>41.808090232127896</latitude>\n",
    "                <longitude>-87.69053684711305</longitude>\n",
    "                <location latitude=\"41.808090232127896\"\n",
    "                longitude=\"-87.69053684711305\" />\n",
    "                </row>\n",
    "                <row ...>\n",
    "                <creation_date>2012-11-18T00:00:00</creation_date>\n",
    "                        <status>Completed</status>\n",
    "                        <completion_date>2012-11-18T00:00:00</completion_date>\n",
    "                                <service_request_number>12-01906695</service_request_number>\n",
    "                                <type_of_service_request>Pot Hole in Street</type_of_service_request>\n",
    "                                <current_activity>Final Outcome</current_activity>\n",
    "                                <most_recent_action>CDOT Street Cut ... Outcome</most_recent_action>\n",
    "                                <street_address>3510 W NORTH AVE</street_address>\n",
    "                                <zip>60647</zip>\n",
    "                                <x_coordinate>1152732.14127696</x_coordinate>\n",
    "                                <y_coordinate>1910409.38979075</y_coordinate>\n",
    "                                <ward>26</ward>\n",
    "                                <police_district>14</police_district>\n",
    "                                <community_area>23</community_area>\n",
    "                                <latitude>41.91002084292946</latitude>\n",
    "                                <longitude>-87.71435952353961</longitude>\n",
    "                                <location latitude=\"41.91002084292946\" longitude=\"-87.71435952353961\" />\n",
    "                                </row>\n",
    "                                </row>\n",
    "                                </response>"
   ]
  },
  {
   "cell_type": "markdown",
   "metadata": {},
   "source": [
    "Suponha que você queira escrever um script que classifique os CEPs pelo número de relatórios de buracos. Para fazer isso, você poderia escrever um código como este:"
   ]
  },
  {
   "cell_type": "code",
   "execution_count": 40,
   "metadata": {},
   "outputs": [
    {
     "name": "stdout",
     "output_type": "stream",
     "text": [
      "60632 1\n",
      "60647 1\n"
     ]
    }
   ],
   "source": [
    "from xml.etree.ElementTree import parse\n",
    "from collections import Counter\n",
    "potholes_by_zip = Counter()\n",
    "doc = parse('potholes.xml')\n",
    "for pothole in doc.iterfind('row/row'):\n",
    "    potholes_by_zip[pothole.findtext('zip')] += 1\n",
    "for zipcode, num in potholes_by_zip.most_common():\n",
    "    print(zipcode, num)"
   ]
  },
  {
   "cell_type": "markdown",
   "metadata": {},
   "source": [
    "Esta versão do código é executada com uma pegada de memória de apenas 7 MB—uma enorme economia!\n",
    "\n",
    "**Discussão**\n",
    "\n",
    "Esta receita se baseia em dois recursos principais do módulo ElementTree. Primeiro, o método iterparse() permite o processamento incremental de documentos XML. Para usá-lo, você fornece o nome do arquivo junto com uma lista de eventos que consiste em um ou mais dos seguintes:**start**, **end**, **start-ns** e **end-ns**. O iterador criado por `iterparse()` produz tuplas no form(event, elem), onde event é um dos eventos listados e elem é o elemento XML resultante. Por exemplo:"
   ]
  },
  {
   "cell_type": "code",
   "execution_count": 41,
   "metadata": {},
   "outputs": [],
   "source": [
    "data = iterparse('potholes.xml',('start','end'))"
   ]
  },
  {
   "cell_type": "code",
   "execution_count": 42,
   "metadata": {},
   "outputs": [
    {
     "data": {
      "text/plain": "('start', <Element 'response' at 0x0000026589EF3C20>)"
     },
     "execution_count": 42,
     "metadata": {},
     "output_type": "execute_result"
    }
   ],
   "source": [
    "next(data)"
   ]
  },
  {
   "cell_type": "code",
   "execution_count": 43,
   "metadata": {},
   "outputs": [
    {
     "data": {
      "text/plain": "('start', <Element 'row' at 0x0000026588F1F5E0>)"
     },
     "execution_count": 43,
     "metadata": {},
     "output_type": "execute_result"
    }
   ],
   "source": [
    "next(data)"
   ]
  },
  {
   "cell_type": "code",
   "execution_count": 44,
   "metadata": {},
   "outputs": [
    {
     "data": {
      "text/plain": "('start', <Element 'row' at 0x0000026588F1FA90>)"
     },
     "execution_count": 44,
     "metadata": {},
     "output_type": "execute_result"
    }
   ],
   "source": [
    "next(data)"
   ]
  },
  {
   "cell_type": "code",
   "execution_count": 45,
   "metadata": {},
   "outputs": [
    {
     "data": {
      "text/plain": "('start', <Element 'creation_date' at 0x0000026588F1F3B0>)"
     },
     "execution_count": 45,
     "metadata": {},
     "output_type": "execute_result"
    }
   ],
   "source": [
    "next(data)"
   ]
  },
  {
   "cell_type": "code",
   "execution_count": 46,
   "metadata": {},
   "outputs": [
    {
     "data": {
      "text/plain": "('end', <Element 'creation_date' at 0x0000026588F1F3B0>)"
     },
     "execution_count": 46,
     "metadata": {},
     "output_type": "execute_result"
    }
   ],
   "source": [
    "next(data)"
   ]
  },
  {
   "cell_type": "code",
   "execution_count": 47,
   "metadata": {},
   "outputs": [
    {
     "data": {
      "text/plain": "('start', <Element 'status' at 0x0000026588E8DB30>)"
     },
     "execution_count": 47,
     "metadata": {},
     "output_type": "execute_result"
    }
   ],
   "source": [
    "next(data)"
   ]
  },
  {
   "cell_type": "code",
   "execution_count": 48,
   "metadata": {},
   "outputs": [
    {
     "data": {
      "text/plain": "('end', <Element 'status' at 0x0000026588E8DB30>)"
     },
     "execution_count": 48,
     "metadata": {},
     "output_type": "execute_result"
    }
   ],
   "source": [
    "next(data)"
   ]
  },
  {
   "cell_type": "markdown",
   "metadata": {},
   "source": [
    "Os eventos **start** são criados quando um elemento é criado pela primeira vez, mas ainda não é preenchido com nenhum outro dado (por exemplo, elementos filho). eventos **end** são criados quando um elemento é concluído.\n",
    "\n",
    "Embora não sejam mostrados nesta receita, os eventos **start-ns** e **end-ns** são usados para manipular declarações de namespace XML.\n",
    "\n",
    "Nesta receita, os eventos de **start** e **end** são usados para gerenciar pilhas de elementos e tags. As pilhas representam a estrutura hierárquica atual do documento conforme ele está sendo analisado e também são usadas para determinar se um elemento corresponde ao caminho solicitado fornecido à função **parse_and_remove()** . Se uma correspondência for feita, o rendimento é usado para emiti-lo de volta para o chamador.\n",
    "\n",
    "A seguinte declaração após o **yield** é o recurso principal do **ElementTree** que faz com que essa receita economize memória:\n",
    "~~~python\n",
    "elem_stack[-2].remove(elem)\n",
    "~~~"
   ]
  },
  {
   "cell_type": "markdown",
   "metadata": {},
   "source": [
    "Essa instrução faz com que o elemento gerado anteriormente seja removido de seu pai.Supondo que nenhuma referência seja deixada a ele em nenhum outro lugar, o elemento é destruído e a memória recuperada.\n",
    "\n",
    "O efeito **end** da análise iterativa e a remoção de nós é uma varredura incremental altamente eficiente sobre o documento. Em nenhum momento uma árvore de documentos completa é construída. No entanto, ainda é possível escrever código que processe os dados XML de maneira direta.\n",
    "\n",
    "A principal desvantagem dessa receita é seu desempenho em tempo de execução. Quando testada, a versão do código que lê o documento inteiro na memória primeiro é executada aproximadamente duas vezes mais rápido que a versão que o processa de forma incremental. No entanto, requer mais de 60 vezes mais memória. Portanto, se o uso de memória é uma preocupação maior, a versão incremental é uma grande vitória.\n",
    "\n",
    "## 6.5. Transformando um dicionário em XML\n",
    "#### Problema\n",
    "Você deseja pegar os dados em um dicionário Python e transformá-los em XML.\n",
    "#### Solução\n",
    "Embora a biblioteca `xml.etree.ElementTree` seja comumente usada para análise, ela também pode ser usada para criar documentos XML. Por exemplo, considere esta função:"
   ]
  },
  {
   "cell_type": "code",
   "execution_count": 49,
   "outputs": [],
   "source": [
    "from xml.etree.ElementTree import Element\n",
    "def dict_to_xml(tag, d):\n",
    "    '''\n",
    "    Turn a simple dict of key/value pairs into XML\n",
    "    '''\n",
    "    elem = Element(tag)\n",
    "    for key, val in d.items():\n",
    "        child = Element(key)\n",
    "        child.text = str(val)\n",
    "        elem.append(child)\n",
    "        return elem"
   ],
   "metadata": {
    "collapsed": false
   }
  },
  {
   "cell_type": "markdown",
   "source": [
    "Aqui está um exemplo:"
   ],
   "metadata": {
    "collapsed": false
   }
  },
  {
   "cell_type": "code",
   "execution_count": 50,
   "outputs": [
    {
     "data": {
      "text/plain": "<Element 'stock' at 0x000002658A067AE0>"
     },
     "execution_count": 50,
     "metadata": {},
     "output_type": "execute_result"
    }
   ],
   "source": [
    "s = { 'name': 'GOOG', 'shares': 100, 'price':490.1 }\n",
    "e = dict_to_xml('stock', s)\n",
    "e"
   ],
   "metadata": {
    "collapsed": false
   }
  },
  {
   "cell_type": "markdown",
   "source": [
    "O resultado dessa conversão é uma ocorrência de Element. Para I/O, é fácil converter isso em uma string de bytes usando a função `tostring()` em `xml.etree.ElementTree`. Por exemplo:"
   ],
   "metadata": {
    "collapsed": false
   }
  },
  {
   "cell_type": "code",
   "execution_count": 51,
   "outputs": [
    {
     "data": {
      "text/plain": "b'<stock><name>GOOG</name></stock>'"
     },
     "execution_count": 51,
     "metadata": {},
     "output_type": "execute_result"
    }
   ],
   "source": [
    "from xml.etree.ElementTree import tostring\n",
    "tostring(e)"
   ],
   "metadata": {
    "collapsed": false
   }
  },
  {
   "cell_type": "markdown",
   "source": [
    "Se você deseja anexar atributos a um elemento, use seu método `set()`:"
   ],
   "metadata": {
    "collapsed": false
   }
  },
  {
   "cell_type": "code",
   "execution_count": 52,
   "outputs": [
    {
     "data": {
      "text/plain": "b'<stock _id=\"1234\"><name>GOOG</name></stock>'"
     },
     "execution_count": 52,
     "metadata": {},
     "output_type": "execute_result"
    }
   ],
   "source": [
    "e.set('_id', '1234')\n",
    "tostring(e)"
   ],
   "metadata": {
    "collapsed": false
   }
  },
  {
   "cell_type": "markdown",
   "source": [
    "Se a ordem dos elementos for importante, considere fazer um `OrderedDict` em vez de um dicionário normal. Ver Receita 1.7.\n",
    "#### Discussão\n",
    "Ao criar XML, você pode estar inclinado a criar apenas strings. Por exemplo:"
   ],
   "metadata": {
    "collapsed": false
   }
  },
  {
   "cell_type": "code",
   "execution_count": 53,
   "outputs": [],
   "source": [
    "def dict_to_xml_str(tag, d):\n",
    "     '''\n",
    "     Turn a simple dict of key/value pairs into XML\n",
    "     '''\n",
    "     parts = ['<{}>'.format(tag)]\n",
    "     for key, val in d.items():\n",
    "         parts.append('<{0}>{1}</{0}>'.format(key,val))\n",
    "         parts.append('</{}>'.format(tag))\n",
    "         return ''.join(parts)"
   ],
   "metadata": {
    "collapsed": false
   }
  },
  {
   "cell_type": "markdown",
   "source": [
    "O problema é que você vai fazer uma verdadeira bagunça para si mesmo se tentar fazer as coisas manualmente. Por exemplo, o que acontece se os valores do dicionário contiverem caracteres especiais como este?"
   ],
   "metadata": {
    "collapsed": false
   }
  },
  {
   "cell_type": "code",
   "execution_count": 54,
   "outputs": [
    {
     "data": {
      "text/plain": "'<item><name><spam></name></item>'"
     },
     "execution_count": 54,
     "metadata": {},
     "output_type": "execute_result"
    }
   ],
   "source": [
    "d = { 'name' : '<spam>' }\n",
    "# String creation\n",
    "dict_to_xml_str('item',d)"
   ],
   "metadata": {
    "collapsed": false
   }
  },
  {
   "cell_type": "code",
   "execution_count": 55,
   "outputs": [
    {
     "data": {
      "text/plain": "b'<item><name>&lt;spam&gt;</name></item>'"
     },
     "execution_count": 55,
     "metadata": {},
     "output_type": "execute_result"
    }
   ],
   "source": [
    "# Proper XML creation\n",
    "e = dict_to_xml('item',d)\n",
    "tostring(e)"
   ],
   "metadata": {
    "collapsed": false
   }
  },
  {
   "cell_type": "markdown",
   "source": [
    "Observe como no último exemplo, os caracteres < e > foram substituídos por  **&lt** e  **&gt**.\n",
    "\n",
    "Apenas para referência, se você precisar escapar manualmente ou remover esses caracteres, poderá usar as funções escape() e unescape() em `xml.sax.saxutils`. Por exemplo:"
   ],
   "metadata": {
    "collapsed": false
   }
  },
  {
   "cell_type": "code",
   "execution_count": 56,
   "outputs": [
    {
     "data": {
      "text/plain": "'&lt;spam&gt;'"
     },
     "execution_count": 56,
     "metadata": {},
     "output_type": "execute_result"
    }
   ],
   "source": [
    "from xml.sax.saxutils import escape, unescape\n",
    "escape('<spam>')"
   ],
   "metadata": {
    "collapsed": false
   }
  },
  {
   "cell_type": "code",
   "execution_count": 57,
   "outputs": [
    {
     "data": {
      "text/plain": "'<spam>'"
     },
     "execution_count": 57,
     "metadata": {},
     "output_type": "execute_result"
    }
   ],
   "source": [
    "unescape('<spam>')"
   ],
   "metadata": {
    "collapsed": false
   }
  },
  {
   "cell_type": "markdown",
   "source": [
    "Além de criar a saída correta, a outra razão pela qual é uma boa ideia criar instâncias de *Element* em vez de strings é que elas podem ser mais facilmente combinadas para criar um documento maior. As instâncias de *Element* resultantes também podem ser processadas de várias maneiras sem a necessidade de se preocupar com a análise do texto XML. Essencialmente, você pode fazer todo o processamento dos dados em um formulário de nível mais alto e, em seguida, exibi-los como uma string no final.\n",
    "\n",
    "## 6.6. Analisando, modificando e reescrevendo XML\n",
    "#### Problema\n",
    "Você deseja ler um documento XML, fazer alterações nele e, em seguida, escrevê-lo novamente como XML.\n",
    "#### Solução\n",
    "O módulo xml.etree.ElementTree facilita a execução dessas tarefas. Essencialmente, você começa analisando o documento da maneira usual. Por exemplo, suponha que você tenha um documento chamado pred.xml semelhante a este:\n",
    "~~~xml\n",
    "<?xml version=\"1.0\"?>\n",
    "<stop>\n",
    "     <id>14791</id>\n",
    "    <nm>Clark &amp; Balmoral</nm>\n",
    "    <sri>\n",
    "        <rt>22</rt>\n",
    "        <d>North Bound</d>\n",
    "        <dd>North Bound</dd>\n",
    "    </sri>\n",
    "    <cr>22</cr>\n",
    "    <pre>\n",
    "        <pt>5 MIN</pt>\n",
    "        <fd>Howard</fd>\n",
    "        <v>1378</v>\n",
    "        <rn>22</rn>\n",
    "    </pre>\n",
    "    <pre>\n",
    "        <pt>15 MIN</pt>\n",
    "        <fd>Howard</fd>\n",
    "        <v>1867</v>\n",
    "        <rn>22</rn>\n",
    "    </pre>\n",
    "</stop>\n",
    "~~~\n"
   ],
   "metadata": {
    "collapsed": false
   }
  },
  {
   "cell_type": "markdown",
   "source": [
    "Aqui está um exemplo de uso do ElementTree para lê-lo e fazer alterações na estrutura:"
   ],
   "metadata": {
    "collapsed": false
   }
  },
  {
   "cell_type": "code",
   "execution_count": 58,
   "outputs": [
    {
     "data": {
      "text/plain": "<Element 'stop' at 0x000002658A08BEA0>"
     },
     "execution_count": 58,
     "metadata": {},
     "output_type": "execute_result"
    }
   ],
   "source": [
    "from xml.etree.ElementTree import parse, Element\n",
    "doc = parse('pred.xml')\n",
    "root = doc.getroot()\n",
    "root"
   ],
   "metadata": {
    "collapsed": false
   }
  },
  {
   "cell_type": "code",
   "execution_count": 59,
   "outputs": [
    {
     "name": "stderr",
     "output_type": "stream",
     "text": [
      "C:\\Users\\dell\\AppData\\Local\\Temp\\ipykernel_13900\\1596543534.py:6: DeprecationWarning: This method will be removed in future versions.  Use 'list(elem)' or iteration over elem instead.\n",
      "  root.getchildren().index(root.find('nm'))\n"
     ]
    },
    {
     "data": {
      "text/plain": "1"
     },
     "execution_count": 59,
     "metadata": {},
     "output_type": "execute_result"
    }
   ],
   "source": [
    "# Remove a few elements\n",
    "root.remove(root.find('sri'))\n",
    "root.remove(root.find('cr'))\n",
    "\n",
    "# Insert a new element after <nm>...</nm>\n",
    "root.getchildren().index(root.find('nm'))"
   ],
   "metadata": {
    "collapsed": false
   }
  },
  {
   "cell_type": "code",
   "execution_count": 60,
   "outputs": [],
   "source": [
    "e = Element('spam')\n",
    "e.text = 'This is a test'\n",
    "root.insert(2, e)\n",
    "\n",
    "# Write back to a file\n",
    "doc.write('newpred.xml', xml_declaration=True)"
   ],
   "metadata": {
    "collapsed": false
   }
  },
  {
   "cell_type": "markdown",
   "source": [
    "O resultado dessas operações é um novo arquivo XML com a seguinte aparência:\n",
    "~~~xml\n",
    "<?xml version='1.0' encoding='us-ascii'?>\n",
    "<stop>\n",
    "     <id>14791</id>\n",
    "    <nm>Clark &amp; Balmoral</nm>\n",
    "    <spam>This is a test</spam><spam>This is a test</spam><pre>\n",
    "        <pt>5 MIN</pt>\n",
    "        <fd>Howard</fd>\n",
    "        <v>1378</v>\n",
    "        <rn>22</rn>\n",
    "    </pre>\n",
    "    <pre>\n",
    "        <pt>15 MIN</pt>\n",
    "        <fd>Howard</fd>\n",
    "        <v>1867</v>\n",
    "        <rn>22</rn>\n",
    "    </pre>\n",
    "</stop>\n",
    "~~~\n",
    "\n",
    "#### Discussão\n",
    "Modificar a estrutura de um documento XML é simples, mas lembre-se que todas as modificações são geralmente feitas no elemento pai, tratando-o como se fosse uma lista. Por exemplo, se você remover um elemento, ele será removido de seu pai imediato usando o método `remove()` do pai. Se você inserir ou anexar novos elementos, também usará os métodos `insert()` e `append()` no pai. Os elementos também podem ser manipulados usando operações de indexação e divisão, como element[i] ou element[i:j].\n",
    "\n",
    "Se você precisar criar novos elementos, use a classe Element, conforme mostrado na solução desta receita. Isso é descrito mais adiante na Receita 6.5.\n",
    "\n",
    "## 6.7. Analisando documentos XML com namespaces\n",
    "#### Problema\n",
    "Você precisa analisar um documento XML, mas está usando namespaces XML.\n",
    "#### Solução\n",
    "Considere um documento que usa namespaces como este:\n",
    "~~~xml\n",
    "<?xml version=\"1.0\" encoding=\"utf-8\"?>\n",
    "<top>\n",
    "    <author>David Beazley</author>\n",
    "    <content>\n",
    "        <html xmlns=\"http://www.w3.org/1999/xhtml\">\n",
    "            <head>\n",
    "                <title>Hello World</title>\n",
    "            </head>\n",
    "            <body>\n",
    "                <h1>Hello World!</h1>]\n",
    "            </body>\n",
    "        </html>\n",
    "    </content>\n",
    "</top>\n",
    "~~~"
   ],
   "metadata": {
    "collapsed": false
   }
  },
  {
   "cell_type": "code",
   "execution_count": 61,
   "outputs": [
    {
     "data": {
      "text/plain": "'David Beazley'"
     },
     "execution_count": 61,
     "metadata": {},
     "output_type": "execute_result"
    }
   ],
   "source": [
    "from xml.etree.ElementTree import parse, Element\n",
    "\n",
    "doc = parse('file.xml')\n",
    "\n",
    "doc.findtext('author')"
   ],
   "metadata": {
    "collapsed": false
   }
  },
  {
   "cell_type": "code",
   "execution_count": 62,
   "outputs": [
    {
     "data": {
      "text/plain": "<Element 'content' at 0x000002658A0934A0>"
     },
     "execution_count": 62,
     "metadata": {},
     "output_type": "execute_result"
    }
   ],
   "source": [
    "doc.find('content')"
   ],
   "metadata": {
    "collapsed": false
   }
  },
  {
   "cell_type": "code",
   "execution_count": 63,
   "outputs": [],
   "source": [
    "# A query involving a namespace (doesn't work)\n",
    "doc.find('content/html')"
   ],
   "metadata": {
    "collapsed": false
   }
  },
  {
   "cell_type": "code",
   "execution_count": 64,
   "outputs": [
    {
     "data": {
      "text/plain": "<Element '{http://www.w3.org/1999/xhtml}html' at 0x000002658A093540>"
     },
     "execution_count": 64,
     "metadata": {},
     "output_type": "execute_result"
    }
   ],
   "source": [
    "# Works if fully qualified\n",
    "doc.find('content/{http://www.w3.org/1999/xhtml}html')"
   ],
   "metadata": {
    "collapsed": false
   }
  },
  {
   "cell_type": "code",
   "execution_count": 65,
   "outputs": [],
   "source": [
    "# Doesn't work\n",
    "doc.findtext('content/{http://www.w3.org/1999/xhtml}html/head/title')"
   ],
   "metadata": {
    "collapsed": false
   }
  },
  {
   "cell_type": "code",
   "execution_count": 66,
   "outputs": [
    {
     "data": {
      "text/plain": "'Hello World'"
     },
     "execution_count": 66,
     "metadata": {},
     "output_type": "execute_result"
    }
   ],
   "source": [
    "# Fully qualified\n",
    "doc.findtext('content/{http://www.w3.org/1999/xhtml}html/{http://www.w3.org/1999/xhtml}head/{http://www.w3.org/1999/xhtml}title')"
   ],
   "metadata": {
    "collapsed": false
   }
  },
  {
   "cell_type": "markdown",
   "source": [
    "Muitas vezes, você pode simplificar as coisas para si mesmo agrupando a manipulação de namespace em uma classe de utilitário."
   ],
   "metadata": {
    "collapsed": false
   }
  },
  {
   "cell_type": "code",
   "execution_count": 67,
   "outputs": [],
   "source": [
    "class XMLNamespaces:\n",
    "    def __init__(self, **kwargs):\n",
    "        self.namespaces = {}\n",
    "        for name, uri in kwargs.items():\n",
    "            self.register(name, uri)\n",
    "    def register(self, name, uri):\n",
    "        self.namespaces[name] = '{'+uri+'}'\n",
    "\n",
    "    def __call__(self, path):\n",
    "        return path.format_map(self.namespaces)"
   ],
   "metadata": {
    "collapsed": false
   }
  },
  {
   "cell_type": "markdown",
   "source": [
    "Para usar esta classe, você faz o seguinte:"
   ],
   "metadata": {
    "collapsed": false
   }
  },
  {
   "cell_type": "code",
   "execution_count": 68,
   "outputs": [
    {
     "data": {
      "text/plain": "<Element '{http://www.w3.org/1999/xhtml}html' at 0x000002658A093540>"
     },
     "execution_count": 68,
     "metadata": {},
     "output_type": "execute_result"
    }
   ],
   "source": [
    "ns = XMLNamespaces(html='http://www.w3.org/1999/xhtml')\n",
    "doc.find(ns('content/{html}html'))"
   ],
   "metadata": {
    "collapsed": false
   }
  },
  {
   "cell_type": "code",
   "execution_count": 69,
   "outputs": [
    {
     "data": {
      "text/plain": "'Hello World'"
     },
     "execution_count": 69,
     "metadata": {},
     "output_type": "execute_result"
    }
   ],
   "source": [
    "doc.findtext(ns('content/{html}html/{html}head/{html}title'))"
   ],
   "metadata": {
    "collapsed": false
   }
  },
  {
   "cell_type": "markdown",
   "source": [
    "#### Discussão\n",
    "A análise de documentos XML que contêm namespaces pode ser complicada. A classe XMLNamespaces destina-se apenas a limpá-la um pouco, permitindo que você use os nomes de namespace abreviados em operações subsequentes, em vez de URIs totalmente qualificados.\n",
    "\n",
    "Infelizmente, não há nenhum mecanismo no analisador ElementTree básico para obter mais informações sobre namespaces. No entanto, você pode obter um pouco mais de informação sobre o escopo do processamento de namespace se estiver disposto a usar a função `iterparse()`. Por exemplo:"
   ],
   "metadata": {
    "collapsed": false
   }
  },
  {
   "cell_type": "code",
   "execution_count": 70,
   "outputs": [
    {
     "name": "stdout",
     "output_type": "stream",
     "text": [
      "end <Element 'author' at 0x000002658A0998B0>\n",
      "start-ns ('', 'http://www.w3.org/1999/xhtml')\n",
      "end <Element '{http://www.w3.org/1999/xhtml}title' at 0x000002658A099B80>\n",
      "end <Element '{http://www.w3.org/1999/xhtml}head' at 0x000002658A099A90>\n",
      "end <Element '{http://www.w3.org/1999/xhtml}h1' at 0x000002658A099CC0>\n",
      "end <Element '{http://www.w3.org/1999/xhtml}body' at 0x000002658A099C20>\n",
      "end <Element '{http://www.w3.org/1999/xhtml}html' at 0x000002658A0999F0>\n",
      "end-ns None\n",
      "end <Element 'content' at 0x000002658A099900>\n",
      "end <Element 'top' at 0x000002658A099860>\n"
     ]
    }
   ],
   "source": [
    "from xml.etree.ElementTree import iterparse\n",
    "for evt, elem in iterparse('file.xml', ('end', 'start-ns', 'end-ns')):\n",
    "    print(evt, elem)"
   ],
   "metadata": {
    "collapsed": false
   }
  },
  {
   "cell_type": "code",
   "execution_count": 71,
   "outputs": [
    {
     "data": {
      "text/plain": "<Element 'top' at 0x000002658A099860>"
     },
     "execution_count": 71,
     "metadata": {},
     "output_type": "execute_result"
    }
   ],
   "source": [
    "elem"
   ],
   "metadata": {
    "collapsed": false
   }
  },
  {
   "cell_type": "markdown",
   "source": [
    "Como observação final, se o texto que você está analisando fizer uso de namespaces além de outros recursos avançados de XML, é realmente melhor usar a biblioteca `lxml` em vez de ElementTree. Por exemplo, lxml oferece melhor suporte para validação de documentos em um DTD, suporte XPath mais completo e outros recursos XML avançados. Esta receita é realmente apenas uma correção simples para tornar a análise um pouco mais fácil.\n",
    "## 6.8. Interagindo com um problema de banco de dados relacional\n",
    "Você precisa selecionar, inserir ou excluir linhas em um banco de dados relacional.\n",
    "#### Solução\n",
    "Uma forma padrão de representar linhas de dados em Python é como uma sequência de tuplas. Por exemplo:"
   ],
   "metadata": {
    "collapsed": false
   }
  },
  {
   "cell_type": "code",
   "execution_count": 72,
   "outputs": [],
   "source": [
    "stocks = [\n",
    " ('GOOG', 100, 490.1),\n",
    " ('AAPL', 50, 545.75),\n",
    " ('FB', 150, 7.45),\n",
    " ('HPQ', 75, 33.2),\n",
    "]"
   ],
   "metadata": {
    "collapsed": false
   }
  },
  {
   "cell_type": "markdown",
   "source": [
    "Com os dados neste formato, é relativamente simples interagir com um banco de dados relacional usando a API de banco de dados padrão do Python, conforme descrito em PEP 249. A essência da API é que todas as operações no banco de dados são executadas por consultas SQL. Cada linha de dados de entrada ou saída é representada por uma tupla.\n",
    "\n",
    "Para ilustrar, você pode usar o módulo `sqlite3` que vem com o Python. Se você estiver usando um banco de dados diferente (por exemplo, MySql, Postgres ou ODBC), será necessário instalar uma versão para apoiá-lo. No entanto, a interface de programação subjacente será praticamente a mesma, se não for idêntica.\n",
    "\n",
    "O primeiro passo é se conectar ao banco de dados. Normalmente, você executa uma função `connect()`, fornecendo parâmetros como o nome do banco de dados, hostname, nome de usuário, senha e outros detalhes conforme necessário. Por exemplo:"
   ],
   "metadata": {
    "collapsed": false
   }
  },
  {
   "cell_type": "code",
   "execution_count": 73,
   "outputs": [],
   "source": [
    "import sqlite3\n",
    "db = sqlite3.connect('database.db')"
   ],
   "metadata": {
    "collapsed": false
   }
  },
  {
   "cell_type": "markdown",
   "source": [
    "Para fazer qualquer coisa com os dados, você cria um cursor. Depois de ter um cursor, você pode começar a executar consultas SQL. Por exemplo:"
   ],
   "metadata": {
    "collapsed": false
   }
  },
  {
   "cell_type": "code",
   "execution_count": 74,
   "outputs": [
    {
     "data": {
      "text/plain": "<sqlite3.Cursor at 0x2658a09b420>"
     },
     "execution_count": 74,
     "metadata": {},
     "output_type": "execute_result"
    }
   ],
   "source": [
    "c= db.cursor()\n",
    "c.execute('create table portfolio (symbol text, shares integer, price real)')"
   ],
   "metadata": {
    "collapsed": false
   }
  },
  {
   "cell_type": "code",
   "execution_count": 75,
   "outputs": [],
   "source": [
    "db.commit()"
   ],
   "metadata": {
    "collapsed": false
   }
  },
  {
   "cell_type": "markdown",
   "source": [
    "Para inserir uma sequência de linhas nos dados, use uma instrução como esta:"
   ],
   "metadata": {
    "collapsed": false
   }
  },
  {
   "cell_type": "code",
   "execution_count": 76,
   "outputs": [
    {
     "data": {
      "text/plain": "<sqlite3.Cursor at 0x2658a09b420>"
     },
     "execution_count": 76,
     "metadata": {},
     "output_type": "execute_result"
    }
   ],
   "source": [
    "c.executemany('insert into portfolio values (?,?,?)', stocks)"
   ],
   "metadata": {
    "collapsed": false
   }
  },
  {
   "cell_type": "markdown",
   "source": [
    "Para realizar uma consulta, use uma instrução como esta:"
   ],
   "metadata": {
    "collapsed": false
   }
  },
  {
   "cell_type": "code",
   "execution_count": 77,
   "outputs": [
    {
     "name": "stdout",
     "output_type": "stream",
     "text": [
      "('GOOG', 100, 490.1)\n",
      "('AAPL', 50, 545.75)\n",
      "('FB', 150, 7.45)\n",
      "('HPQ', 75, 33.2)\n"
     ]
    }
   ],
   "source": [
    "for row in db.execute('select * from portfolio'):\n",
    "    print(row)"
   ],
   "metadata": {
    "collapsed": false
   }
  },
  {
   "cell_type": "markdown",
   "source": [
    "Se você deseja executar consultas que aceitam parâmetros de entrada fornecidos pelo usuário, certifique-se de escapar dos parâmetros usando **?** assim:"
   ],
   "metadata": {
    "collapsed": false
   }
  },
  {
   "cell_type": "code",
   "execution_count": 78,
   "outputs": [
    {
     "name": "stdout",
     "output_type": "stream",
     "text": [
      "('GOOG', 100, 490.1)\n",
      "('AAPL', 50, 545.75)\n"
     ]
    }
   ],
   "source": [
    "min_price = 100\n",
    "for row in db.execute('select * from portfolio where price >= ?', (min_price,)):\n",
    "    print(row)"
   ],
   "metadata": {
    "collapsed": false
   }
  },
  {
   "cell_type": "markdown",
   "source": [
    "#### Discussão\n",
    "Em um nível baixo, interagir com um banco de dados é uma coisa extremamente simples de se fazer. Você simplesmente forma instruções SQL e as alimenta no módulo subjacente para atualizar o banco de dados ou recuperar dados. Dito isso, ainda existem alguns detalhes complicados que você precisará resolver caso a caso.\n",
    "\n",
    "Uma complicação é o mapeamento de dados do banco de dados em tipos Python. Para entradas como datas, é mais comum usar instâncias de data e hora do módulo de data e hora, ou possivelmente carimbos de data e hora do sistema, conforme usado no módulo de hora. Para dados numéricos, especialmente dados financeiros envolvendo decimais, os números podem ser representados como instâncias Decimais do módulo decimal. Infelizmente, o mapeamento exato varia de acordo com o back-end do banco de dados, então você terá que ler a documentação associada.\n",
    "\n",
    "Outra complicação extremamente crítica diz respeito à formação de strings de instrução SQL. Você nunca deve usar operadores de formatação de string do Python (por exemplo, %) ou o método .format() para criar tais strings. Se os valores fornecidos a esses operadores de formatação forem derivados da entrada do usuário, isso abrirá seu programa para um ataque de injeção de SQL (consulte http://xkcd.com/327). O especial ? curinga em consultas instrui o back-end do banco de dados a usar seu próprio mecanismo de substituição de string, o que (espero) fará isso com segurança.\n",
    "\n",
    "Infelizmente, há alguma inconsistência nos back-ends do banco de dados em relação ao curinga. Muitos módulos usam ? ou %s, enquanto outros podem usar um símbolo diferente, como :0 ou :1, para se referir aos parâmetros. Novamente, você terá que consultar a documentação do módulo de banco de dados que está usando. O atributo paramstyle de um módulo de banco de dados também contém informações sobre o estilo de citação.\n",
    "\n",
    "Para simplesmente puxar dados para dentro e para fora de uma tabela de banco de dados, usar a API de banco de dados geralmente é bastante simples. Se você estiver fazendo algo mais complicado, pode fazer sentido usar uma interface de nível superior, como a fornecida por um mapeador objeto-relacional. Bibliotecas como SQLAlchemy permitem que tabelas de banco de dados sejam descritas como classes Python e que operações de banco de dados sejam executadas enquanto ocultam a maior parte do SQL subjacente.\n",
    "\n",
    "## 6.9. Decodificação e Codificação de Dígitos Hexadecimais\n",
    "#### Problema\n",
    "Você precisa decodificar uma string de dígitos hexadecimais em uma string de bytes ou codificar uma string de bytes como hexadecimal.\n",
    "#### Solução\n",
    "Se você simplesmente precisa decodificar ou codificar uma string bruta de dígitos hexadecimais, use o módulo binascii. Por exemplo:"
   ],
   "metadata": {
    "collapsed": false
   }
  },
  {
   "cell_type": "code",
   "execution_count": 79,
   "outputs": [
    {
     "data": {
      "text/plain": "b'68656c6c6f'"
     },
     "execution_count": 79,
     "metadata": {},
     "output_type": "execute_result"
    }
   ],
   "source": [
    "# Initial byte string\n",
    "s = b'hello'\n",
    "\n",
    "# Encode as hex\n",
    "import binascii\n",
    "h = binascii.b2a_hex(s)\n",
    "h"
   ],
   "metadata": {
    "collapsed": false
   }
  },
  {
   "cell_type": "code",
   "execution_count": 80,
   "outputs": [
    {
     "data": {
      "text/plain": "b'hello'"
     },
     "execution_count": 80,
     "metadata": {},
     "output_type": "execute_result"
    }
   ],
   "source": [
    "# Decode back to bytes\n",
    "binascii.a2b_hex(h)"
   ],
   "metadata": {
    "collapsed": false
   }
  },
  {
   "cell_type": "markdown",
   "source": [
    "Funcionalidade semelhante também pode ser encontrada no módulo `base64`. Por exemplo:"
   ],
   "metadata": {
    "collapsed": false
   }
  },
  {
   "cell_type": "code",
   "execution_count": 81,
   "outputs": [
    {
     "data": {
      "text/plain": "b'68656C6C6F'"
     },
     "execution_count": 81,
     "metadata": {},
     "output_type": "execute_result"
    }
   ],
   "source": [
    "import base64\n",
    "h = base64.b16encode(s)\n",
    "h"
   ],
   "metadata": {
    "collapsed": false
   }
  },
  {
   "cell_type": "code",
   "execution_count": 82,
   "outputs": [
    {
     "data": {
      "text/plain": "b'hello'"
     },
     "execution_count": 82,
     "metadata": {},
     "output_type": "execute_result"
    }
   ],
   "source": [
    "base64.b16decode(h)"
   ],
   "metadata": {
    "collapsed": false
   }
  },
  {
   "cell_type": "markdown",
   "source": [
    "#### Discussão\n",
    "Na maioria das vezes, a conversão de e para hex é direta usando as funções mostradas. A principal diferença entre as duas técnicas está na dobragem de caixas. As funções `base64.b16decode()` e `base64.b16encode()` operam apenas com letras hexadecimais maiúsculas, enquanto as funções em `binascii` funcionam com qualquer uma das letras.\n",
    "\n",
    "Também é importante observar que a saída produzida pelas funções de codificação é sempre uma string de bytes. Para coagi-lo para Unicode para saída, pode ser necessário adicionar uma etapa extra de decodificação. Por exemplo:"
   ],
   "metadata": {
    "collapsed": false
   }
  },
  {
   "cell_type": "code",
   "execution_count": 83,
   "outputs": [
    {
     "name": "stdout",
     "output_type": "stream",
     "text": [
      "b'68656C6C6F'\n"
     ]
    }
   ],
   "source": [
    "h == base64.b16encode(s)\n",
    "print(h)"
   ],
   "metadata": {
    "collapsed": false
   }
  },
  {
   "cell_type": "code",
   "execution_count": 84,
   "outputs": [
    {
     "name": "stdout",
     "output_type": "stream",
     "text": [
      "68656C6C6F\n"
     ]
    }
   ],
   "source": [
    "print(h.decode('ascii'))"
   ],
   "metadata": {
    "collapsed": false
   }
  },
  {
   "cell_type": "markdown",
   "source": [
    "Ao decodificar dígitos hexadecimais, as funções b16decode() e a2b_hex() aceitam bytes ou strings unicode. No entanto, essas strings devem conter apenas dígitos hexadecimais codificados em ASCII."
   ],
   "metadata": {
    "collapsed": false
   }
  },
  {
   "cell_type": "markdown",
   "source": [
    "## 6.10. Base de Decodificação e Codificação64\n",
    "#### Problema\n",
    "Você precisa decodificar ou codificar dados binários usando a codificação Base64.\n",
    "#### Solução\n",
    "O módulo base64 tem duas funções — b64encode() e b64decode() — que fazem exatamente o que você deseja. Por exemplo:"
   ],
   "metadata": {
    "collapsed": false
   }
  },
  {
   "cell_type": "code",
   "execution_count": 85,
   "outputs": [
    {
     "data": {
      "text/plain": "b'aGVsbG8='"
     },
     "execution_count": 85,
     "metadata": {},
     "output_type": "execute_result"
    }
   ],
   "source": [
    "# Some byte data\n",
    "s = b'hello'\n",
    "import base64\n",
    "\n",
    "# Encode as Base64\n",
    "a = base64.b64encode(s)\n",
    "a"
   ],
   "metadata": {
    "collapsed": false
   }
  },
  {
   "cell_type": "code",
   "execution_count": 86,
   "outputs": [
    {
     "data": {
      "text/plain": "b'hello'"
     },
     "execution_count": 86,
     "metadata": {},
     "output_type": "execute_result"
    }
   ],
   "source": [
    "# Decode from Base64\n",
    "base64.b64decode(a)"
   ],
   "metadata": {
    "collapsed": false
   }
  },
  {
   "cell_type": "markdown",
   "source": [
    "#### Discussão\n",
    "A codificação Base64 destina-se apenas a ser usada em dados orientados a bytes, como strings de bytes e matrizes de bytes. Além disso, a saída do processo de codificação é sempre uma string de bytes. Se você estiver misturando dados codificados em Base64 com texto Unicode, talvez seja necessário realizar uma etapa extra de decodificação. Por exemplo:"
   ],
   "metadata": {
    "collapsed": false
   }
  },
  {
   "cell_type": "code",
   "execution_count": 87,
   "outputs": [
    {
     "data": {
      "text/plain": "'aGVsbG8='"
     },
     "execution_count": 87,
     "metadata": {},
     "output_type": "execute_result"
    }
   ],
   "source": [
    "a = base64.b64encode(s).decode('ascii')\n",
    "a"
   ],
   "metadata": {
    "collapsed": false
   }
  },
  {
   "cell_type": "markdown",
   "source": [
    "Ao decodificar Base64, tanto strings de bytes quanto strings de texto Unicode podem ser fornecidas. No entanto, strings Unicode podem conter apenas caracteres ASCII.\n",
    "\n",
    "## 6.11. Lendo e escrevendo matrizes binárias de estruturas\n",
    "#### Problema\n",
    "Você deseja ler ou gravar dados codificados como uma matriz binária de estruturas uniformes em tuplas do Python.\n",
    "#### Solução\n",
    "Para trabalhar com dados binários, use o módulo `struct`. Aqui está um exemplo de código que escreve uma lista de tuplas Python em um arquivo binário, codificando cada tupla como uma estrutura usando struct:"
   ],
   "metadata": {
    "collapsed": false
   }
  },
  {
   "cell_type": "code",
   "execution_count": 88,
   "outputs": [],
   "source": [
    "from struct import Struct\n",
    "def write_records(records, format, f):\n",
    "    '''\n",
    "    Write a sequence of tuples to a binary file of structures.\n",
    "     '''\n",
    "    record_struct = Struct(format)\n",
    "    for r in records:\n",
    "        f.write(record_struct.pack(*r))\n",
    "        # Example\n",
    "        if __name__ == '__main__':\n",
    "            records = [ (1, 2.3, 4.5),\n",
    "                        (6, 7.8, 9.0),\n",
    "                        (12, 13.4, 56.7) ]\n",
    "            with open('data.b', 'wb') as f:\n",
    "                write_records(records, '<idd', f)"
   ],
   "metadata": {
    "collapsed": false
   }
  },
  {
   "cell_type": "markdown",
   "source": [
    "Existem várias abordagens para ler esse arquivo de volta em uma lista de tuplas. Primeiro, se você for ler o arquivo de forma incremental em partes, poderá escrever um código como este:\n",
    "\n",
    "~~~python\n",
    "from struct import Struct\n",
    "def read_records(format, f):\n",
    "    record_struct = Struct(format)\n",
    "    chunks = iter(lambda: f.read(record_struct.size), b'')\n",
    "    return (record_struct.unpack(chunk) for chunk in chunks)\n",
    "    # Example\n",
    "\n",
    "# Example\n",
    "if __name__ == '__main__':\n",
    "    with open('data.b', 'rb') as f:\n",
    "        data = f.read()\n",
    "        for rec in unpack_records('<idd', data):\n",
    "    # Process rec\n",
    "    # ...\n",
    "~~~\n",
    "\n",
    "Em ambos os casos, o resultado é um iterável que produz as tuplas originalmente armazenadas quando o arquivo foi criado.\n",
    "\n",
    "#### Discussão\n",
    "\n",
    "Para programas que devem codificar e decodificar dados binários, é comum usar o módulo `struct`. Para declarar uma nova estrutura, basta criar uma instância de `Struct` como:\n",
    "\n",
    "~~~python\n",
    "# Little endian 32-bit integer, two double precision floats\n",
    "record_struct = Struct('<idd')\n",
    "~~~\n",
    "\n",
    "As estruturas são sempre definidas usando um conjunto de códigos de estrutura, como i, d, f e assim por diante [consulte a documentação do Python]. Esses códigos correspondem a tipos de dados binários específicos, como inteiros de 32 bits, flutuantes de 64 bits, flutuantes de 32 bits e assim por diante. O **<** no primeiro caractere especifica a ordem dos bytes. Neste exemplo, está indicando *little endian*. Altere o caractere para **>** para *big endian* ou ! para ordem de byte de rede. A instância **Struct** resultante tem vários atributos e métodos para manipular estruturas desse tipo. O atributo size contém o tamanho da estrutura em bytes, o que é útil em operações de I/O. Os métodos `pack()` e `unpack()` são usados para compactar e descompactar dados. Por exemplo:"
   ],
   "metadata": {
    "collapsed": false
   }
  },
  {
   "cell_type": "code",
   "execution_count": 89,
   "outputs": [
    {
     "data": {
      "text/plain": "20"
     },
     "execution_count": 89,
     "metadata": {},
     "output_type": "execute_result"
    }
   ],
   "source": [
    "from struct import Struct\n",
    "record_struct = Struct('<idd')\n",
    "record_struct.size"
   ],
   "metadata": {
    "collapsed": false
   }
  },
  {
   "cell_type": "code",
   "execution_count": 90,
   "outputs": [
    {
     "data": {
      "text/plain": "b'\\x01\\x00\\x00\\x00\\x00\\x00\\x00\\x00\\x00\\x00\\x00@\\x00\\x00\\x00\\x00\\x00\\x00\\x08@'"
     },
     "execution_count": 90,
     "metadata": {},
     "output_type": "execute_result"
    }
   ],
   "source": [
    "record_struct.pack(1, 2.0, 3.0)"
   ],
   "metadata": {
    "collapsed": false
   }
  },
  {
   "cell_type": "markdown",
   "source": [
    "Às vezes, você verá as operações `pack()` e `unpack()` chamadas como funções de nível de módulo, como a seguir:"
   ],
   "metadata": {
    "collapsed": false
   }
  },
  {
   "cell_type": "code",
   "execution_count": 91,
   "outputs": [
    {
     "data": {
      "text/plain": "b'\\x01\\x00\\x00\\x00\\x00\\x00\\x00\\x00\\x00\\x00\\x00@\\x00\\x00\\x00\\x00\\x00\\x00\\x08@'"
     },
     "execution_count": 91,
     "metadata": {},
     "output_type": "execute_result"
    }
   ],
   "source": [
    "import struct\n",
    "struct.pack('<idd', 1, 2.0, 3.0)"
   ],
   "metadata": {
    "collapsed": false
   }
  },
  {
   "cell_type": "code",
   "execution_count": 92,
   "outputs": [
    {
     "data": {
      "text/plain": "(1, 2.0, 3.0)"
     },
     "execution_count": 92,
     "metadata": {},
     "output_type": "execute_result"
    }
   ],
   "source": [
    "struct.unpack('<idd', _)"
   ],
   "metadata": {
    "collapsed": false
   }
  },
  {
   "cell_type": "markdown",
   "source": [
    "Isso funciona, mas parece menos elegante do que criar uma única instância de **Struct** — especialmente se a mesma estrutura aparecer em vários lugares em seu código. Ao criar uma instância **Struct**, o código de formato é especificado apenas uma vez e todas as operações úteis são agrupadas de maneira adequada. Isso certamente facilita a manutenção do seu código se você precisar mexer no código da estrutura (já que você só precisa alterá-lo em um lugar).\n",
    "\n",
    "O código para ler estruturas binárias envolve vários idiomas de programação interessantes, mas elegantes. Na função **read_records()**, **iter()** está sendo usado para criar um iterador que retorna blocos de tamanho fixo. Ver Receita 5.8. Esse iterador chama repetidamente um callable fornecido pelo usuário (por exemplo, **lambda: f.read(record_struct.size)**) até retornar um valor especificado (por exemplo, b), ponto em que a iteração para. Por exemplo:"
   ],
   "metadata": {
    "collapsed": false
   }
  },
  {
   "cell_type": "code",
   "execution_count": 93,
   "outputs": [
    {
     "data": {
      "text/plain": "<callable_iterator at 0x26588f1b790>"
     },
     "execution_count": 93,
     "metadata": {},
     "output_type": "execute_result"
    }
   ],
   "source": [
    "f = open('data', 'rb')\n",
    "chunks = iter(lambda: f.read(20), b'')\n",
    "chunks"
   ],
   "metadata": {
    "collapsed": false
   }
  },
  {
   "cell_type": "code",
   "execution_count": 94,
   "outputs": [
    {
     "name": "stderr",
     "output_type": "stream",
     "text": [
      "IOPub data rate exceeded.\n",
      "The notebook server will temporarily stop sending output\n",
      "to the client in order to avoid crashing it.\n",
      "To change this limit, set the config variable\n",
      "`--NotebookApp.iopub_data_rate_limit`.\n",
      "\n",
      "Current values:\n",
      "NotebookApp.iopub_data_rate_limit=1000000.0 (bytes/sec)\n",
      "NotebookApp.rate_limit_window=3.0 (secs)\n",
      "\n"
     ]
    }
   ],
   "source": [
    "for chk in chunks:\n",
    "    print(chk)"
   ],
   "metadata": {
    "collapsed": false
   }
  },
  {
   "cell_type": "markdown",
   "source": [
    "Um motivo para criar um iterável é que ele permite que registros sejam criados usando uma compreensão do gerador, conforme mostrado na solução. Se você não usou essa abordagem, o código pode ficar assim:"
   ],
   "metadata": {
    "collapsed": false
   }
  },
  {
   "cell_type": "code",
   "execution_count": 95,
   "outputs": [],
   "source": [
    "def read_records(format, f):\n",
    "    record_struct = Struct(format)\n",
    "    while True:\n",
    "        chk = f.read(record_struct.size)\n",
    "        if chk == b'':\n",
    "            break\n",
    "            yield record_struct.unpack(chk)\n",
    "            return records"
   ],
   "metadata": {
    "collapsed": false
   }
  },
  {
   "cell_type": "markdown",
   "source": [
    "Na função **unpack_records()**, uma abordagem diferente usando o método **unpack_from()** é usada. **unpack_from()** é um método útil para extrair dados binários de uma matriz binária maior, porque o faz sem criar objetos temporários ou cópias de memória. Você apenas fornece uma string de bytes (ou qualquer array) junto com um deslocamento de byte e ele descompacta os campos diretamente desse local.\n",
    "\n",
    "Se você usou **unpack()** em vez de **unpack_from()**, você precisaria modificar o código para fazer muitas fatias pequenas e cálculos de compensação. Por exemplo:"
   ],
   "metadata": {
    "collapsed": false
   }
  },
  {
   "cell_type": "code",
   "execution_count": 96,
   "outputs": [],
   "source": [
    "def unpack_records(format, data):\n",
    "    record_struct = Struct(format)\n",
    "    return (record_struct.unpack(data[offset:offset + record_struct.size])\n",
    "            for offset in range(0, len(data), record_struct.size))"
   ],
   "metadata": {
    "collapsed": false
   }
  },
  {
   "cell_type": "markdown",
   "source": [
    "Além de ser mais complicada de ler, esta versão também exige muito mais trabalho, pois realiza vários cálculos de deslocamento, copia dados e faz pequenos objetos fatiados. Se você vai desempacotar muitas estruturas de uma grande string de bytes que você já leu, **unpack_from()** é uma abordagem mais elegante. Desempacotar registros é um lugar onde você pode querer usar objetos namedtuple do módulo collections. Isso permite definir nomes de atributos nas tuplas retornadas. Por exemplo:\n",
    "~~~python\n",
    "from collections import namedtuple\n",
    "Record = namedtuple('Record', ['kind','x','y'])\n",
    "with open('data', 'rb') as f:\n",
    "    records = (Record(*r) for r in read_records('<idd', f))\n",
    "for r in records:\n",
    "    print(r.kind, r.x, r.y)\n",
    "   ~~~\n"
   ],
   "metadata": {
    "collapsed": false
   }
  },
  {
   "cell_type": "markdown",
   "source": [
    "Se você estiver escrevendo um programa que precisa trabalhar com uma grande quantidade de dados binários, talvez seja melhor usar uma biblioteca como numpy. Por exemplo, em vez de ler um binário em uma lista de tuplas, você pode lê-lo em uma matriz estruturada, como esta:"
   ],
   "metadata": {
    "collapsed": false
   }
  },
  {
   "cell_type": "code",
   "execution_count": 97,
   "outputs": [
    {
     "data": {
      "text/plain": "array([(263, 9.0888131e-307, 0.), (  0, 0.0000000e+000, 0.),\n       (  0, 0.0000000e+000, 0.), ..., (  0, 0.0000000e+000, 0.),\n       (  0, 0.0000000e+000, 0.), (  0, 0.0000000e+000, 0.)],\n      dtype=[('f0', '<i4'), ('f1', '<f8'), ('f2', '<f8')])"
     },
     "execution_count": 97,
     "metadata": {},
     "output_type": "execute_result"
    }
   ],
   "source": [
    "import numpy as np\n",
    "f = open('data', 'rb')\n",
    "records = np.fromfile(f, dtype='<i,<d,<d')\n",
    "records"
   ],
   "metadata": {
    "collapsed": false
   }
  },
  {
   "cell_type": "code",
   "execution_count": 98,
   "outputs": [
    {
     "data": {
      "text/plain": "(263, 9.0888131e-307, 0.)"
     },
     "execution_count": 98,
     "metadata": {},
     "output_type": "execute_result"
    }
   ],
   "source": [
    "records[0]"
   ],
   "metadata": {
    "collapsed": false
   }
  },
  {
   "cell_type": "code",
   "execution_count": 99,
   "outputs": [
    {
     "data": {
      "text/plain": "(0, 0., 0.)"
     },
     "execution_count": 99,
     "metadata": {},
     "output_type": "execute_result"
    }
   ],
   "source": [
    "records[1]"
   ],
   "metadata": {
    "collapsed": false
   }
  },
  {
   "cell_type": "markdown",
   "source": [
    "Por último, mas não menos importante, se você se deparar com a tarefa de ler dados binários em algum formato de arquivo conhecido (ou seja, formatos de imagem, arquivos shape, HDF5, etc.), verifique se já existe um módulo Python para isso. Não há razão para reinventar a roda se você não precisar.\n",
    "## 6.12. Lendo estruturas binárias aninhadas e de tamanho variável\n",
    "#### Problema\n",
    "Você precisa ler dados complicados codificados em binário que contêm uma coleção de registros aninhados e/ou de tamanho variável. Esses dados podem incluir imagens, vídeos, shapefiles e assim por diante.\n",
    "#### Solução\n",
    "O módulo `struct` pode ser usado para decodificar e codificar quase qualquer tipo de estrutura de dados binários. Para ilustrar o tipo de dados em questão aqui, suponha que você tenha essa estrutura de dados Python representando uma coleção de pontos que compõem uma série de polígonos:"
   ],
   "metadata": {
    "collapsed": false
   }
  },
  {
   "cell_type": "code",
   "execution_count": 100,
   "outputs": [],
   "source": [
    "polys = [\n",
    "[ (1.0, 2.5), (3.5, 4.0), (2.5, 1.5) ],\n",
    "[ (7.0, 1.2), (5.1, 3.0), (0.5, 7.5), (0.8, 9.0) ],\n",
    "[ (3.4, 6.3), (1.2, 0.5), (4.6, 9.2) ],\n",
    "]"
   ],
   "metadata": {
    "collapsed": false
   }
  },
  {
   "cell_type": "markdown",
   "source": [
    "Agora suponha que esses dados sejam codificados em um arquivo binário onde o arquivo começa com o seguinte cabeçalho:"
   ],
   "metadata": {
    "collapsed": false
   }
  },
  {
   "cell_type": "code",
   "execution_count": 101,
   "outputs": [
    {
     "data": {
      "image/png": "[encoded data removed]",
      "text/plain": "<IPython.core.display.Image object>"
     },
     "execution_count": 101,
     "metadata": {},
     "output_type": "execute_result"
    }
   ],
   "source": [
    "from IPython.display import Image\n",
    "Image('images/bytes.PNG')"
   ],
   "metadata": {
    "collapsed": false
   }
  },
  {
   "cell_type": "markdown",
   "source": [
    "Após o cabeçalho, segue uma série de registros de polígonos, cada um codificado da seguinte forma:"
   ],
   "metadata": {
    "collapsed": false
   }
  },
  {
   "cell_type": "code",
   "execution_count": 102,
   "outputs": [
    {
     "data": {
      "image/png": "[encoded data removed]",
      "text/plain": "<IPython.core.display.Image object>"
     },
     "execution_count": 102,
     "metadata": {},
     "output_type": "execute_result"
    }
   ],
   "source": [
    "Image('images/headers.PNG')"
   ],
   "metadata": {
    "collapsed": false
   }
  },
  {
   "cell_type": "markdown",
   "source": [
    "Para escrever este arquivo, você pode usar o código Python como este:"
   ],
   "metadata": {
    "collapsed": false
   }
  },
  {
   "cell_type": "code",
   "execution_count": 103,
   "outputs": [],
   "source": [
    "import struct\n",
    "import itertools\n",
    "def write_polys(filename, polys):\n",
    "    # Determine bounding box\n",
    "    flattened = list(itertools.chain(*polys))\n",
    "    min_x = min(x for x, y in flattened)\n",
    "    max_x = max(x for x, y in flattened)\n",
    "    min_y = min(y for x, y in flattened)\n",
    "    max_y = max(y for x, y in flattened)\n",
    "    with open(filename, 'wb') as f:\n",
    "        f.write(struct.pack('<iddddi',0x1234,min_x, min_y,max_x, max_y, len(polys)))\n",
    "        for poly in polys:\n",
    "            size = len(poly) * struct.calcsize('<dd')\n",
    "            f.write(struct.pack('<i', size+4))\n",
    "            for pt in poly:\n",
    "                f.write(struct.pack('<dd', *pt))"
   ],
   "metadata": {
    "collapsed": false
   }
  },
  {
   "cell_type": "code",
   "execution_count": 104,
   "outputs": [],
   "source": [
    "# Call it with our polygon data\n",
    "write_polys('polys.bin', polys)"
   ],
   "metadata": {
    "collapsed": false
   }
  },
  {
   "cell_type": "markdown",
   "source": [
    "Para ler os dados resultantes, você pode escrever um código de aparência muito semelhante usando a função **struct.unpack()**, invertendo as operações executadas durante a gravação. Por exemplo:"
   ],
   "metadata": {
    "collapsed": false
   }
  },
  {
   "cell_type": "code",
   "execution_count": 109,
   "outputs": [],
   "source": [
    "import struct\n",
    "def read_polys(filename):\n",
    "    with open(filename, 'rb') as f:\n",
    "        # Read the header\n",
    "        header = f.read(40)\n",
    "        file_code, min_x, min_y, max_x, max_y, num_polys = struct.unpack('<iddddi', header)\n",
    "        polys = []\n",
    "        for n in range(num_polys):\n",
    "            pbytes, = struct.unpack('<i', f.read(4))\n",
    "            poly = []\n",
    "            for m in range(pbytes // 16):\n",
    "                pt = struct.unpack('<dd', f.read(16))\n",
    "                poly.append(pt)\n",
    "            polys.append(poly)\n",
    "        return polys"
   ],
   "metadata": {
    "collapsed": false
   }
  },
  {
   "cell_type": "markdown",
   "source": [
    "Embora esse código funcione, também é uma mistura confusa de pequenas leituras, desempacotamento de `struct` e outros detalhes. Se um código como este for usado para processar um arquivo de dados real, ele pode rapidamente se tornar ainda mais confuso. Assim, é um candidato óbvio para uma solução alternativa que pode simplificar algumas das etapas e liberar o programador para se concentrar em assuntos mais importantes.\n",
    "\n",
    "No restante desta receita, uma solução bastante avançada para interpretar dados binários será construída em partes. O objetivo será permitir que um programador forneça uma especificação de alto nível do formato de arquivo e simplesmente ter os detalhes de leitura e descompactação de todos os dados trabalhados nos bastidores. Como advertência, o código a seguir pode ser o exemplo mais avançado de todo este livro, utilizando várias técnicas de metaprogramação e programação orientada a objetos. Certifique-se de ler cuidadosamente a seção de discussão, bem como as referências cruzadas para outras receitas.\n",
    "\n",
    "Primeiro, ao ler dados binários, é comum que o arquivo contenha cabeçalhos e outras estruturas de dados. Embora o módulo `struct` possa descompactar esses dados em uma tupla, outra maneira de representar essas informações é por meio do uso de uma classe. Aqui está um código que permite exatamente isso:"
   ],
   "metadata": {
    "collapsed": false
   }
  },
  {
   "cell_type": "code",
   "execution_count": 111,
   "outputs": [],
   "source": [
    "import struct\n",
    "class StructField:\n",
    "    '''\n",
    "    Descriptor representing a simple structure field\n",
    "    '''\n",
    "    def __init__(self, format, offset):\n",
    "        self.format = format\n",
    "        self.offset = offset\n",
    "    def __get__(self, instance, cls):\n",
    "        if instance is None:\n",
    "            return self\n",
    "        else:\n",
    "            r = struct.unpack_from(self.format,instance._buffer, self.offset)\n",
    "            return r[0] if len(r) == 1 else r\n",
    "\n",
    "class Structure:\n",
    "    def __init__(self, bytedata):\n",
    "        self._buffer = memoryview(bytedata)"
   ],
   "metadata": {
    "collapsed": false
   }
  },
  {
   "cell_type": "markdown",
   "source": [
    "Este código usa um descritor para representar cada campo da estrutura. Cada descritor contém um código de formato compatível com `struct` junto com um deslocamento de byte em um buffer de memória subjacente. No método `__get__()`, a função `struct.unpack_from()` é usada para desempacotar um valor do buffer sem ter que fazer fatias ou cópias extras.\n",
    "\n",
    "A classe `Structure` serve apenas como uma classe base que aceita alguns dados de byte e os armazena como o buffer de memória subjacente usado pelo descritor `StructField`. O uso de um `memoryview()` nesta classe serve a um propósito que ficará claro mais tarde.\n",
    "\n",
    "Usando esse código, agora você pode definir uma estrutura como uma classe de alto nível que espelha as informações encontradas nas tabelas que descrevem o formato de arquivo esperado. Por exemplo:"
   ],
   "metadata": {
    "collapsed": false
   }
  },
  {
   "cell_type": "code",
   "execution_count": 112,
   "outputs": [],
   "source": [
    "class PolyHeader(Structure):\n",
    "    file_code = StructField('<i', 0)\n",
    "    min_x: StructField = StructField('<d', 4)\n",
    "    min_y = StructField('<d', 12)\n",
    "    max_x = StructField('<d', 20)\n",
    "    max_y = StructField('<d', 28)\n",
    "    num_polys = StructField('<i', 36)"
   ],
   "metadata": {
    "collapsed": false
   }
  },
  {
   "cell_type": "markdown",
   "source": [
    "Aqui está um exemplo de uso desta classe para ler o cabeçalho dos dados do polígono escritos anteriormente:"
   ],
   "metadata": {
    "collapsed": false
   }
  },
  {
   "cell_type": "code",
   "execution_count": 113,
   "outputs": [
    {
     "data": {
      "text/plain": "True"
     },
     "execution_count": 113,
     "metadata": {},
     "output_type": "execute_result"
    }
   ],
   "source": [
    "f = open('polys.bin', 'rb')\n",
    "phead = PolyHeader(f.read(40))\n",
    "phead.file_code == 0x1234"
   ],
   "metadata": {
    "collapsed": false
   }
  },
  {
   "cell_type": "code",
   "execution_count": 114,
   "outputs": [
    {
     "data": {
      "text/plain": "0.5"
     },
     "execution_count": 114,
     "metadata": {},
     "output_type": "execute_result"
    }
   ],
   "source": [
    "phead.min_x"
   ],
   "metadata": {
    "collapsed": false
   }
  },
  {
   "cell_type": "code",
   "execution_count": 115,
   "outputs": [
    {
     "data": {
      "text/plain": "0.5"
     },
     "execution_count": 115,
     "metadata": {},
     "output_type": "execute_result"
    }
   ],
   "source": [
    "phead.min_y"
   ],
   "metadata": {
    "collapsed": false
   }
  },
  {
   "cell_type": "code",
   "execution_count": 116,
   "outputs": [
    {
     "data": {
      "text/plain": "7.0"
     },
     "execution_count": 116,
     "metadata": {},
     "output_type": "execute_result"
    }
   ],
   "source": [
    "phead.max_x"
   ],
   "metadata": {
    "collapsed": false
   }
  },
  {
   "cell_type": "code",
   "execution_count": 117,
   "outputs": [
    {
     "data": {
      "text/plain": "9.2"
     },
     "execution_count": 117,
     "metadata": {},
     "output_type": "execute_result"
    }
   ],
   "source": [
    "phead.max_y"
   ],
   "metadata": {
    "collapsed": false
   }
  },
  {
   "cell_type": "code",
   "execution_count": 118,
   "outputs": [
    {
     "data": {
      "text/plain": "3"
     },
     "execution_count": 118,
     "metadata": {},
     "output_type": "execute_result"
    }
   ],
   "source": [
    "phead.num_polys"
   ],
   "metadata": {
    "collapsed": false
   }
  },
  {
   "cell_type": "markdown",
   "source": [
    "Isso é interessante, mas há vários aborrecimentos com essa abordagem. Por um lado, mesmo que você obtenha a conveniência de uma interface semelhante a uma classe, o código é bastante detalhado e exige que o usuário especifique muitos detalhes de baixo nível (por exemplo, usos repetidos de `StructField`, especificação de deslocamentos, etc.).\n",
    "\n",
    "A classe resultante também carece de conveniências comuns, como fornecer uma maneira de calcular o tamanho total da estrutura. Sempre que você se deparar com definições de classe excessivamente detalhadas como esta, considere o uso de um decorador de classe ou metaclasse. Um dos recursos de uma metaclasse é que ela pode ser usada para preencher muitos detalhes de implementação de baixo nível, tirando esse fardo do usuário. Como exemplo, considere esta metaclasse e uma pequena reformulação da classe `Structure`:"
   ],
   "metadata": {
    "collapsed": false
   }
  },
  {
   "cell_type": "code",
   "execution_count": 125,
   "outputs": [],
   "source": [
    "class StructureMeta(type):\n",
    "    '''\n",
    "    Metaclass that automatically creates StructField descriptors\n",
    "    '''\n",
    "    def __init__(self, clsname, bases, clsdict):\n",
    "        fields = getattr(self, '_fields_', [])\n",
    "        byte_order = ''\n",
    "        offset = 0\n",
    "        for format, fieldname in fields:\n",
    "            if format.startswith(('<','>','!','@')):\n",
    "                byte_order = format[0]\n",
    "                format = format[1:]\n",
    "            format = byte_order + format\n",
    "            setattr(self, fieldname, StructField(format, offset))\n",
    "            offset += struct.calcsize(format)\n",
    "            setattr(self, 'struct_size', offset)\n",
    "class Structure(metaclass=StructureMeta):\n",
    "    def __init__(self, bytedata):\n",
    "        self._buffer = bytedata\\\n",
    "\n",
    "    @classmethod\n",
    "    def from_file(cls, f):\n",
    "        return cls(f.read(cls.struct_size))"
   ],
   "metadata": {
    "collapsed": false
   }
  },
  {
   "cell_type": "markdown",
   "source": [
    "Usando esta nova classe de estrutura, agora você pode escrever uma definição de estrutura como esta:"
   ],
   "metadata": {
    "collapsed": false
   }
  },
  {
   "cell_type": "code",
   "execution_count": 126,
   "outputs": [],
   "source": [
    "class PolyHeader(Structure):\n",
    "    _fields_ = [\n",
    "        ('<i', 'file_code'),\n",
    "        ('d', 'min_x'),\n",
    "        ('d', 'min_y'),\n",
    "        ('d', 'max_x'),\n",
    "        ('d', 'max_y'),\n",
    "        ('i', 'num_polys')\n",
    "    ]"
   ],
   "metadata": {
    "collapsed": false
   }
  },
  {
   "cell_type": "markdown",
   "source": [
    "Como você pode ver, a especificação é muito menos detalhada. O método de classe `from_file()` adicionado também facilita a leitura dos dados de um arquivo sem conhecer nenhum detalhe sobre o tamanho ou a estrutura dos dados. Por exemplo:"
   ],
   "metadata": {
    "collapsed": false
   }
  },
  {
   "cell_type": "code",
   "execution_count": 127,
   "outputs": [
    {
     "data": {
      "text/plain": "True"
     },
     "execution_count": 127,
     "metadata": {},
     "output_type": "execute_result"
    }
   ],
   "source": [
    "f = open('polys.bin', 'rb')\n",
    "phead = PolyHeader.from_file(f)\n",
    "phead.file_code == 0x1234"
   ],
   "metadata": {
    "collapsed": false
   }
  },
  {
   "cell_type": "code",
   "execution_count": 129,
   "outputs": [
    {
     "data": {
      "text/plain": "0.5"
     },
     "execution_count": 129,
     "metadata": {},
     "output_type": "execute_result"
    }
   ],
   "source": [
    "phead.min_x"
   ],
   "metadata": {
    "collapsed": false
   }
  },
  {
   "cell_type": "code",
   "execution_count": 130,
   "outputs": [
    {
     "data": {
      "text/plain": "0.5"
     },
     "execution_count": 130,
     "metadata": {},
     "output_type": "execute_result"
    }
   ],
   "source": [
    "phead.min_y"
   ],
   "metadata": {
    "collapsed": false
   }
  },
  {
   "cell_type": "code",
   "execution_count": 131,
   "outputs": [
    {
     "data": {
      "text/plain": "7.0"
     },
     "execution_count": 131,
     "metadata": {},
     "output_type": "execute_result"
    }
   ],
   "source": [
    "phead.max_x"
   ],
   "metadata": {
    "collapsed": false
   }
  },
  {
   "cell_type": "code",
   "execution_count": 132,
   "outputs": [
    {
     "data": {
      "text/plain": "9.2"
     },
     "execution_count": 132,
     "metadata": {},
     "output_type": "execute_result"
    }
   ],
   "source": [
    "phead.max_y"
   ],
   "metadata": {
    "collapsed": false
   }
  },
  {
   "cell_type": "code",
   "execution_count": 133,
   "outputs": [
    {
     "data": {
      "text/plain": "3"
     },
     "execution_count": 133,
     "metadata": {},
     "output_type": "execute_result"
    }
   ],
   "source": [
    "phead.num_polys"
   ],
   "metadata": {
    "collapsed": false
   }
  },
  {
   "cell_type": "markdown",
   "source": [
    "Depois de introduzir uma metaclasse na mistura, você pode criar mais inteligência nela. Por exemplo, suponha que você queira oferecer suporte a estruturas binárias aninhadas. Aqui está uma reformulação da metaclasse junto com um novo descritor de suporte que permite isso:"
   ],
   "metadata": {
    "collapsed": false
   }
  },
  {
   "cell_type": "markdown",
   "source": [
    "Nesse código, o descritor **NestedStruct** é usado para sobrepor outra definição de estrutura em uma região da memória. Ele faz isso pegando uma fatia do buffer de memória original e usando-a para instanciar o tipo de estrutura fornecido. Como o buffer de memória subjacente foi inicializado como um memoryview, esse fatiamento não incorre em nenhuma cópia de memória extra. Em vez disso, é apenas uma sobreposição na memória original. Além disso, para evitar instanciações repetidas, o descritor armazena o objeto de estrutura interna resultante na instância usando a mesma técnica descrita na Receita 8.10.\n",
    "\n",
    "Usando essa nova formulação, você pode começar a escrever um código como este abaixo.\n",
    "\n",
    "Neste ponto, uma estrutura para lidar com registros de tamanho fixo foi desenvolvida, mas e quanto aos componentes de tamanho variável? Por exemplo, o restante dos arquivos de polígonos contém seções de tamanho variável. Uma maneira de lidar com isso é escrever uma classe que simplesmente represente um bloco de dados binários junto com uma função utilitária para interpretar o conteúdo de maneiras diferentes. Isso está intimamente relacionado ao código na Receita 6.11:"
   ],
   "metadata": {
    "collapsed": false
   }
  },
  {
   "cell_type": "code",
   "execution_count": 142,
   "outputs": [
    {
     "name": "stdout",
     "output_type": "stream",
     "text": [
      "[[(1.0, 2.5), (3.5, 4.0), (2.5, 1.5)], [(7.0, 1.2), (5.1, 3.0), (0.5, 7.5), (0.8, 9.0)], [(3.4, 6.3), (1.2, 0.5), (4.6, 9.2)]]\n"
     ]
    }
   ],
   "source": [
    "import struct\n",
    "\n",
    "class StructField:\n",
    "    '''\n",
    "    Descriptor representing a simple structure field\n",
    "    '''\n",
    "    def __init__(self, format, offset):\n",
    "        self.format = format\n",
    "        self.offset = offset\n",
    "    def __get__(self, instance, cls):\n",
    "        if instance is None:\n",
    "            return self\n",
    "        else:\n",
    "            r =  struct.unpack_from(self.format,\n",
    "                                    instance._buffer, self.offset)\n",
    "            return r[0] if len(r) == 1 else r\n",
    "\n",
    "class NestedStruct:\n",
    "    '''\n",
    "    Descriptor representing a nested structure\n",
    "    '''\n",
    "    def __init__(self, name, struct_type, offset):\n",
    "        self.name = name\n",
    "        self.struct_type = struct_type\n",
    "        self.offset = offset\n",
    "    def __get__(self, instance, cls):\n",
    "        if instance is None:\n",
    "            return self\n",
    "        else:\n",
    "            data = instance._buffer[self.offset:\n",
    "                                    self.offset+self.struct_type.struct_size]\n",
    "            result = self.struct_type(data)\n",
    "            setattr(instance, self.name, result)\n",
    "            return result\n",
    "\n",
    "class StructureMeta(type):\n",
    "    '''\n",
    "    Metaclass that automatically creates StructField descriptors\n",
    "    '''\n",
    "    def __init__(self, clsname, bases, clsdict):\n",
    "        fields = getattr(self, '_fields_', [])\n",
    "        byte_order = ''\n",
    "        offset = 0\n",
    "        for format, fieldname in fields:\n",
    "            if isinstance(format, StructureMeta):\n",
    "                setattr(self, fieldname, NestedStruct(fieldname, format, offset))\n",
    "                offset += format.struct_size\n",
    "            else:\n",
    "                if format.startswith(('<','>','!','@')):\n",
    "                    byte_order = format[0]\n",
    "                    format = format[1:]\n",
    "                format = byte_order + format\n",
    "                setattr(self, fieldname, StructField(format, offset))\n",
    "                offset += struct.calcsize(format)\n",
    "        setattr(self, 'struct_size', offset)\n",
    "\n",
    "class Structure(metaclass=StructureMeta):\n",
    "    def __init__(self, bytedata):\n",
    "        self._buffer = memoryview(bytedata)\n",
    "\n",
    "    @classmethod\n",
    "    def from_file(cls, f):\n",
    "        return cls(f.read(cls.struct_size))\n",
    "\n",
    "class SizedRecord:\n",
    "    def __init__(self, bytedata):\n",
    "        self._buffer = memoryview(bytedata)\n",
    "\n",
    "    @classmethod\n",
    "    def from_file(cls, f, size_fmt, includes_size=True):\n",
    "        sz_nbytes = struct.calcsize(size_fmt)\n",
    "        sz_bytes = f.read(sz_nbytes)\n",
    "        sz, = struct.unpack(size_fmt, sz_bytes)\n",
    "        buf = f.read(sz - includes_size * sz_nbytes)\n",
    "        return cls(buf)\n",
    "\n",
    "    def iter_as(self, code):\n",
    "        if isinstance(code, str):\n",
    "            s = struct.Struct(code)\n",
    "            for off in range(0, len(self._buffer), s.size):\n",
    "                yield s.unpack_from(self._buffer, off)\n",
    "        elif isinstance(code, StructureMeta):\n",
    "            size = code.struct_size\n",
    "            for off in range(0, len(self._buffer), size):\n",
    "                data = self._buffer[off:off+size]\n",
    "                yield code(data)\n",
    "\n",
    "if __name__ == '__main__':\n",
    "    class Point(Structure):\n",
    "        _fields_ = [\n",
    "            ('<d', 'x'),\n",
    "            ('d', 'y')\n",
    "            ]\n",
    "\n",
    "    class PolyHeader(Structure):\n",
    "        _fields_ = [\n",
    "            ('<i', 'file_code'),\n",
    "            (Point, 'min'),\n",
    "            (Point, 'max'),\n",
    "            ('i', 'num_polys')\n",
    "            ]\n",
    "\n",
    "    def read_polys(filename):\n",
    "        polys = []\n",
    "        with open(filename, 'rb') as f:\n",
    "            phead = PolyHeader.from_file(f)\n",
    "            for n in range(phead.num_polys):\n",
    "                rec = SizedRecord.from_file(f, '<i')\n",
    "                poly = [ (p.x, p.y)\n",
    "                         for p in rec.iter_as(Point) ]\n",
    "                polys.append(poly)\n",
    "        return polys\n",
    "\n",
    "    polys = read_polys('polys.bin')\n",
    "    print(polys)"
   ],
   "metadata": {
    "collapsed": false
   }
  },
  {
   "cell_type": "markdown",
   "source": [
    "O método de classe **SizedRecord.from_file()** é um utilitário para ler um bloco de dados com prefixo de tamanho de um arquivo, o que é comum em muitos formatos de arquivo. Como entrada, aceita um código de formato de estrutura contendo a codificação do tamanho, que se espera que seja em bytes. O argumento includes_size opcional especifica se o número de bytes inclui o cabeçalho de tamanho ou não. Aqui está um exemplo de como você usaria este código para ler os polígonos individuais no arquivo de polígonos.\n",
    "\n",
    "Conforme mostrado, o conteúdo das instâncias SizedRecord ainda não foi interpretado. Para fazer isso, use o método **iter_as()**, que aceita um código de formato de estrutura ou classe de estrutura como entrada. Isso lhe dá muita flexibilidade em como interpretar os dados."
   ],
   "metadata": {
    "collapsed": false
   }
  },
  {
   "cell_type": "code",
   "execution_count": 143,
   "outputs": [
    {
     "name": "stdout",
     "output_type": "stream",
     "text": [
      "Polygon 0\n",
      "1.0 2.5\n",
      "3.5 4.0\n",
      "2.5 1.5\n",
      "Polygon 1\n",
      "7.0 1.2\n",
      "5.1 3.0\n",
      "0.5 7.5\n",
      "0.8 9.0\n",
      "Polygon 2\n",
      "3.4 6.3\n",
      "1.2 0.5\n",
      "4.6 9.2\n"
     ]
    }
   ],
   "source": [
    "polydata = [SizedRecord.from_file(f, '<i') for n in range(phead.num_polys) ]\n",
    "for n, poly in enumerate(polydata):\n",
    "    print('Polygon', n)\n",
    "    for p in poly.iter_as(Point):\n",
    "        print(p.x, p.y)"
   ],
   "metadata": {
    "collapsed": false
   }
  },
  {
   "cell_type": "markdown",
   "source": [
    "#### Discussão\n",
    "Esta receita fornece uma aplicação prática de várias técnicas avançadas de programação, incluindo descritores, avaliação preguiçosa, metaclasses, variáveis de classe e exibições de memória. No entanto, todos eles servem a um propósito muito específico.\n",
    "\n",
    "Uma característica importante da implementação é que ela é fortemente baseada na ideia de descompactação preguiçosa. Quando uma instância de **Structure** é criada, o **__init__()** apenas cria uma memoryview dos dados de byte fornecidos e não faz mais nada. Especificamente, nenhuma operação de desempacotamento ou outras operações relacionadas à estrutura ocorre neste momento. Uma motivação para adotar essa abordagem é que você pode estar interessado apenas em algumas partes específicas de um registro binário. Em vez de descompactar o arquivo inteiro, apenas as partes realmente acessadas serão descompactadas.\n",
    "\n",
    "Para implementar o desempacotamento lento e o empacotamento de valores, a classe do descritor **StructField** é usada. Cada atributo que o usuário lista em **_fields_** é convertido em um descritor **StructField** que armazena o código de formato da estrutura associada e o deslocamento de bytes no buffer armazenado. A metaclasse **StructureMeta** é o que cria esses descritores automaticamente quando várias classes de estrutura são definidas. A principal razão para usar uma metaclasse é tornar extremamente fácil para um usuário especificar um formato de estrutura com uma descrição de alto nível sem se preocupar com detalhes de baixo nível.\n",
    "\n",
    "Um aspecto sutil da metaclasse **StructureMeta** é que ela torna a ordem dos bytes fixa. Ou seja, se algum atributo especificar uma ordem de bytes (< para little endian ou > para big endian), essa ordem será aplicada a todos os campos seguintes. Isso ajuda a evitar digitação extra, mas também possibilita a troca no meio de uma definição. Por exemplo, você pode ter algo mais complicado, como isto:"
   ],
   "metadata": {
    "collapsed": false
   }
  },
  {
   "cell_type": "code",
   "execution_count": 144,
   "outputs": [],
   "source": [
    "class ShapeFile(Structure):\n",
    "    _fields_ = [ ('>i', 'file_code'), # Big endian\n",
    "                 ('20s', 'unused'),\n",
    "                 ('i', 'file_length'),\n",
    "                 ('<i', 'version'), # Little endian\n",
    "                 ('i', 'shape_type'),\n",
    "                 ('d', 'min_x'),\n",
    "                 ('d', 'min_y'),\n",
    "                 ('d', 'max_x'),\n",
    "                 ('d', 'max_y'),\n",
    "                 ('d', 'min_z'),\n",
    "                 ('d', 'max_z'),\n",
    "                 ('d', 'min_m'),\n",
    "                 ('d', 'max_m')\n",
    "                 ]"
   ],
   "metadata": {
    "collapsed": false
   }
  },
  {
   "cell_type": "markdown",
   "source": [
    "Conforme observado, o uso de um **memoryview()** na solução tem uma função útil para evitar cópias de memória. Quando as estruturas começam a se aninhar, as exibições de memória podem ser usadas para sobrepor diferentes partes da definição da estrutura na mesma região da memória. Esse aspecto da solução é sutil, mas diz respeito ao comportamento de fatiamento de um **memoryview** versus um array de bytes normal. Se você fatiar uma cadeia de bytes ou matriz de bytes, geralmente obterá uma cópia dos dados. Não é assim com um **memoryview** - as fatias simplesmente se sobrepõem à memória existente. Assim, esta abordagem é mais eficiente.\n",
    "\n",
    "Várias receitas relacionadas ajudarão a expandir os tópicos usados na solução. Veja a Receita 8.13 para uma receita intimamente relacionada que usa descritores para construir um sistema de tipos. A receita 8.10 contém informações sobre propriedades calculadas lentamente e está relacionada à implementação do descritor **NestedStruct**. A receita 9.19 tem um exemplo de uso de uma metaclasse para inicializar os membros da classe, da mesma maneira que a classe **StructureMeta**. O código-fonte da biblioteca **ctypes** do Python também pode ser interessante, devido ao seu suporte semelhante para definir estruturas de dados, aninhamento de estruturas de dados e funcionalidade semelhante.\n",
    "\n",
    "## 6.13. Resumindo Dados e Realizando Estatísticas\n",
    "#### Problema\n",
    "Você precisa analisar grandes conjuntos de dados e gerar resumos ou outros tipos de estatísticas.\n",
    "#### Solução\n",
    "Para qualquer tipo de análise de dados envolvendo estatísticas, séries temporais e outras técnicas relacionadas, você deve consultar a biblioteca **Pandas**. Para lhe dar uma amostra, aqui está um exemplo de uso do Pandas para analisar o banco de dados de ratos e roedores da cidade de Chicago. No momento da redação deste artigo, é um arquivo CSV com cerca de 74.000 entradas:"
   ],
   "metadata": {
    "collapsed": false
   }
  },
  {
   "cell_type": "code",
   "execution_count": 153,
   "outputs": [
    {
     "name": "stdout",
     "output_type": "stream",
     "text": [
      "<class 'pandas.core.frame.DataFrame'>\n",
      "RangeIndex: 319186 entries, 0 to 319185\n",
      "Data columns (total 20 columns):\n",
      " #   Column                           Non-Null Count   Dtype  \n",
      "---  ------                           --------------   -----  \n",
      " 0   Creation Date                    319186 non-null  object \n",
      " 1   Status                           319186 non-null  object \n",
      " 2   Completion Date                  318967 non-null  object \n",
      " 3   Service Request Number           319186 non-null  object \n",
      " 4   Type of Service Request          319186 non-null  object \n",
      " 5   Number of Premises Baited        295794 non-null  float64\n",
      " 6   Number of Premises with Garbage  295265 non-null  float64\n",
      " 7   Number of Premises with Rats     295956 non-null  float64\n",
      " 8   Current Activity                 297816 non-null  object \n",
      " 9   Most Recent Action               297615 non-null  object \n",
      " 10  Street Address                   319186 non-null  object \n",
      " 11  ZIP Code                         318221 non-null  float64\n",
      " 12  X Coordinate                     319163 non-null  float64\n",
      " 13  Y Coordinate                     319163 non-null  float64\n",
      " 14  Ward                             319164 non-null  float64\n",
      " 15  Police District                  319164 non-null  float64\n",
      " 16  Community Area                   319164 non-null  float64\n",
      " 17  Latitude                         319163 non-null  float64\n",
      " 18  Longitude                        319163 non-null  float64\n",
      " 19  Location                         319163 non-null  object \n",
      "dtypes: float64(11), object(9)\n",
      "memory usage: 48.7+ MB\n"
     ]
    }
   ],
   "source": [
    "import pandas\n",
    "# Read a CSV file, skipping last line\n",
    "rats = pandas.read_csv('rats.csv', skipfooter=1, engine='python')\n",
    "rats.info()"
   ],
   "metadata": {
    "collapsed": false
   }
  },
  {
   "cell_type": "code",
   "execution_count": 154,
   "outputs": [
    {
     "data": {
      "text/plain": "array(['Dispatch Crew', nan, 'Request Sanitation Inspector',\n       'FVI - Outcome', 'Inspect for Violation'], dtype=object)"
     },
     "execution_count": 154,
     "metadata": {},
     "output_type": "execute_result"
    }
   ],
   "source": [
    "# Investigate range of values for a certain field\n",
    "rats['Current Activity'].unique()"
   ],
   "metadata": {
    "collapsed": false
   }
  },
  {
   "cell_type": "code",
   "execution_count": 155,
   "outputs": [
    {
     "data": {
      "text/plain": "297375"
     },
     "execution_count": 155,
     "metadata": {},
     "output_type": "execute_result"
    }
   ],
   "source": [
    "# Filter the data\n",
    "crew_dispatched = rats[rats['Current Activity'] == 'Dispatch Crew']\n",
    "len(crew_dispatched)"
   ],
   "metadata": {
    "collapsed": false
   }
  },
  {
   "cell_type": "code",
   "execution_count": 166,
   "outputs": [
    {
     "data": {
      "text/plain": "60618.0    17023\n60647.0    16153\n60629.0    12497\n60614.0    12061\n60657.0    10608\n60641.0     9803\n60636.0     9105\n60623.0     8896\n60609.0     8760\n60645.0     8673\nName: ZIP Code, dtype: int64"
     },
     "execution_count": 166,
     "metadata": {},
     "output_type": "execute_result"
    }
   ],
   "source": [
    "# Find 10 most rat-infested ZIP codes in Chicago\n",
    "crew_dispatched['ZIP Code'].value_counts().head(10)"
   ],
   "metadata": {
    "collapsed": false
   }
  },
  {
   "cell_type": "code",
   "execution_count": 162,
   "outputs": [
    {
     "data": {
      "text/plain": "1985"
     },
     "execution_count": 162,
     "metadata": {},
     "output_type": "execute_result"
    }
   ],
   "source": [
    "# Group by completion date\n",
    "dates = crew_dispatched.groupby('Completion Date')\n",
    "len(dates)"
   ],
   "metadata": {
    "collapsed": false
   }
  },
  {
   "cell_type": "code",
   "execution_count": 163,
   "outputs": [
    {
     "data": {
      "text/plain": "Completion Date\n01/01/2014      7\n01/02/2013     20\n01/02/2014     96\n01/02/2015      5\n01/02/2018     71\n01/03/2011      4\n01/03/2012    125\n01/03/2013     46\n01/03/2014     59\n01/03/2017    212\ndtype: int64"
     },
     "execution_count": 163,
     "metadata": {},
     "output_type": "execute_result"
    }
   ],
   "source": [
    "# Determine counts on each day\n",
    "date_counts = dates.size()\n",
    "date_counts[0:10]"
   ],
   "metadata": {
    "collapsed": false
   }
  },
  {
   "cell_type": "code",
   "execution_count": 196,
   "outputs": [
    {
     "data": {
      "text/plain": "Completion Date\n06/07/2016    384\n10/14/2011    391\n08/17/2017    392\n10/11/2017    392\n11/12/2013    401\n10/14/2016    412\n10/07/2011    457\n07/06/2016    461\n11/01/2013    488\n09/09/2016    492\ndtype: int64"
     },
     "execution_count": 196,
     "metadata": {},
     "output_type": "execute_result"
    }
   ],
   "source": [
    "# Sort the counts\n",
    "date_counts = date_counts.sort_values()\n",
    "date_counts[-10:]"
   ],
   "metadata": {
    "collapsed": false
   }
  },
  {
   "cell_type": "markdown",
   "source": [
    "Sim, 9 de setembro de 2016 foi de fato um dia muito agitado para os ratos.\n",
    "\n",
    "#### Discussão\n",
    "Pandas é uma grande biblioteca que possui mais recursos do que pode ser descrito aqui. No entanto, se você precisar analisar grandes conjuntos de dados, agrupar dados, realizar estatísticas ou outras tarefas semelhantes, definitivamente vale a pena dar uma olhada. Python for Data Analysis de Wes McKinney (O'Reilly) também contém muito mais informações."
   ],
   "metadata": {
    "collapsed": false
   }
  }
 ],
 "metadata": {
  "kernelspec": {
   "display_name": "Python 3",
   "language": "python",
   "name": "python3"
  },
  "language_info": {
   "codemirror_mode": {
    "name": "ipython",
    "version": 3
   },
   "file_extension": ".py",
   "mimetype": "text/x-python",
   "name": "python",
   "nbconvert_exporter": "python",
   "pygments_lexer": "ipython3",
   "version": "3.8.5"
  }
 },
 "nbformat": 4,
 "nbformat_minor": 4
}
