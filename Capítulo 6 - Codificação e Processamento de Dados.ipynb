{
 "cells": [
  {
   "cell_type": "markdown",
   "metadata": {},
   "source": [
    "<h1 align=center>Capítulo 6</h1>\n",
    "<h2 align=center>Codificação e Processamento de Dados</h2>\n",
    "<p align=center><img src=https://energiainteligenteufjf.com.br/wp-content/uploads/2021/02/curso-insofti-introducao-ao-processamento-de-dados-ipd.jpg width=500></p>"
   ]
  },
  {
   "cell_type": "markdown",
   "metadata": {},
   "source": [
    "O foco principal deste capítulo é usar o Python para processar dados apresentados em diferentes tipos de codificações comuns, como arquivos CSV, JSON, XML e registros compactados em binários. Ao contrário do capítulo sobre estruturas de dados, este capítulo não se concentra em algoritmos específicos, mas no problema de obter e retirar dados de um programa.\n",
    "\n",
    "## 6.1. Lendo e gravando dados CSV\n",
    "\n",
    "**Problema**\n",
    "\n",
    "Você deseja ler ou gravar dados codificados como um arquivo CSV.\n",
    "\n",
    "**Solução**\n",
    "\n",
    "Para a maioria dos tipos de dados CSV, use a biblioteca `csv`. Por exemplo, suponha que você tenha alguns dados do mercado de ações em um arquivo chamado *stocks.csv* assim:\n",
    "~~~python\n",
    " Symbol,Price,Date,Time,Change,Volume\n",
    " \"AA\",39.48,\"6/11/2007\",\"9:36am\",-0.18,181800\n",
    " \"AIG\",71.38,\"6/11/2007\",\"9:36am\",-0.15,195500\n",
    " \"AXP\",62.58,\"6/11/2007\",\"9:36am\",-0.46,935000\n",
    " \"BA\",98.31,\"6/11/2007\",\"9:36am\",+0.12,104800\n",
    " \"C\",53.08,\"6/11/2007\",\"9:36am\",-0.25,360900\n",
    " \"CAT\",78.29,\"6/11/2007\",\"9:36am\",-0.23,225400\n",
    "~~~\n"
   ]
  },
  {
   "cell_type": "code",
   "execution_count": null,
   "metadata": {},
   "outputs": [],
   "source": [
    "import csv\n",
    "with open('stocks.csv') as f:\n",
    "    f_csv = csv.reader(f)\n",
    "    headers = next(f_csv)\n",
    "    for row in f_csv:\n",
    "        print(row)"
   ]
  },
  {
   "cell_type": "markdown",
   "metadata": {},
   "source": [
    "No código anterior, *row* será uma tupla. Assim, para acessar determinados campos, você precisará usar indexação, como row[0] (Símbolo) e row[4] (Alterar).\n",
    "Como essa indexação geralmente pode ser confusa, este é um lugar onde você pode querer considerar o uso de tuplas nomeadas. Por exemplo:\n",
    "~~~python\n",
    "from collections import namedtuple\n",
    "with open('stock.csv') as f:\n",
    " f_csv = csv.reader(f)\n",
    " headings = next(f_csv)\n",
    " Row = namedtuple('Row', headings)\n",
    " for r in f_csv:\n",
    " row = Row(*r)\n",
    " # Process row\n",
    " ...\n",
    "~~~\n"
   ]
  },
  {
   "cell_type": "markdown",
   "metadata": {},
   "source": [
    "Isso permitiria que você usasse os cabeçalhos das colunas, como `row.Symbol` e `row.Change`, em vez de índices. Deve-se notar que isso só funciona se os cabeçalhos das colunas forem identificadores Python válidos. Caso contrário, talvez seja necessário massagear os títulos iniciais (por exemplo, substituindo caracteres não identificadores por sublinhados ou similares).\n",
    "\n",
    "Outra alternativa é ler os dados como uma sequência de dicionários. Para isso, use este código:"
   ]
  },
  {
   "cell_type": "code",
   "execution_count": null,
   "metadata": {},
   "outputs": [
    {
     "name": "stdout",
     "output_type": "stream",
     "text": [
      "Reading as dicts\n",
      "     {'Symbol': 'AA', 'Price': '39.48', 'Date': '6/11/2007', 'Time': '9:36am', 'Change': '-0.18', 'Volume': '181800'}\n",
      "     {'Symbol': 'AIG', 'Price': '71.38', 'Date': '6/11/2007', 'Time': '9:36am', 'Change': '-0.15', 'Volume': '195500'}\n",
      "     {'Symbol': 'AXP', 'Price': '62.58', 'Date': '6/11/2007', 'Time': '9:36am', 'Change': '-0.46', 'Volume': '935000'}\n"
     ]
    }
   ],
   "source": [
    "print('Reading as dicts')\n",
    "with open('stocks.csv') as f:\n",
    "    f_csv = csv.DictReader(f)\n",
    "    for row in f_csv:\n",
    "        # process row\n",
    "        print('    ', row)"
   ]
  },
  {
   "cell_type": "markdown",
   "metadata": {},
   "source": [
    "Nesta versão, você acessaria os elementos de cada linha usando os cabeçalhos de linha. Por exemplo, row['Symbol'] ou row['Change']. \n",
    "\n",
    "Para gravar dados CSV, você também usa o módulo `csv`, mas cria um objeto de gravação. Por exemplo:"
   ]
  },
  {
   "cell_type": "code",
   "execution_count": null,
   "metadata": {},
   "outputs": [],
   "source": [
    "headers = ['Symbol','Price','Date','Time','Change','Volume']\n",
    "rows = [('AA', 39.48, '6/11/2007', '9:36am', -0.18, 181800),\n",
    "        ('AIG', 71.38, '6/11/2007', '9:36am', -0.15, 195500),\n",
    "        ('AXP', 62.58, '6/11/2007', '9:36am', -0.46, 935000),\n",
    "       ]\n",
    "with open('stocks.csv','w') as f:\n",
    "    f_csv = csv.writer(f)\n",
    "    f_csv.writerow(headers)\n",
    "    f_csv.writerows(rows)"
   ]
  },
  {
   "cell_type": "markdown",
   "metadata": {},
   "source": [
    "Se você tiver os dados como uma sequência de dicionários, faça o seguinte:"
   ]
  },
  {
   "cell_type": "code",
   "execution_count": null,
   "metadata": {},
   "outputs": [],
   "source": [
    "headers = ['Symbol', 'Price', 'Date', 'Time', 'Change', 'Volume']\n",
    "rows = [{'Symbol':'AA', 'Price':39.48, 'Date':'6/11/2007','Time':'9:36am', 'Change':-0.18, 'Volume':181800},\n",
    "        {'Symbol':'AIG', 'Price': 71.38, 'Date':'6/11/2007','Time':'9:36am', 'Change':-0.15, 'Volume': 195500},\n",
    "        {'Symbol':'AXP', 'Price': 62.58, 'Date':'6/11/2007','Time':'9:36am', 'Change':-0.46, 'Volume': 935000},\n",
    "       ]\n",
    "\n",
    "with open('stocks.csv','w') as f:\n",
    "    f_csv = csv.DictWriter(f, headers)\n",
    "    f_csv.writeheader()\n",
    "    f_csv.writerows(rows)"
   ]
  },
  {
   "cell_type": "markdown",
   "metadata": {},
   "source": [
    "**Discussão**\n",
    "\n",
    "Você quase sempre deve preferir o uso do módulo `csv` em vez de tentar manualmente dividir e analisar os dados CSV. Por exemplo, você pode estar inclinado a apenas escrever algum código como este:"
   ]
  },
  {
   "cell_type": "code",
   "execution_count": null,
   "metadata": {},
   "outputs": [
    {
     "name": "stdout",
     "output_type": "stream",
     "text": [
      "['Symbol', 'Price', 'Date', 'Time', 'Change', 'Volume\\n']\n",
      "['\\n']\n",
      "['AA', '39.48', '6/11/2007', '9:36am', '-0.18', '181800\\n']\n",
      "['\\n']\n",
      "['AIG', '71.38', '6/11/2007', '9:36am', '-0.15', '195500\\n']\n",
      "['\\n']\n",
      "['AXP', '62.58', '6/11/2007', '9:36am', '-0.46', '935000\\n']\n",
      "['\\n']\n"
     ]
    }
   ],
   "source": [
    "with open('stocks.csv') as f:\n",
    "    for line in f:\n",
    "        row = line.split(',')\n",
    "        print(row)\n",
    "        # process row\n"
   ]
  },
  {
   "cell_type": "markdown",
   "metadata": {},
   "source": [
    "O problema com essa abordagem é que você ainda precisará lidar com alguns detalhes desagradáveis. Por exemplo, se algum dos campos estiver entre aspas, você terá que remover as aspas. Além disso, se um campo entre aspas contiver uma vírgula, o código será interrompido produzindo uma linha com o tamanho errado.\n",
    "\n",
    "Por padrão, a biblioteca `csv` é programada para entender as regras de codificação CSV usadas pelo Microsoft Excel. Esta é provavelmente a variante mais comum e provavelmente lhe dará a melhor compatibilidade. No entanto, se você consultar a documentação do `csv`, verá algumas maneiras de ajustar a codificação para diferentes formatos (por exemplo, alterando o caractere separador etc.). Por exemplo, se você quiser ler dados delimitados por tabulação, use isto:"
   ]
  },
  {
   "cell_type": "code",
   "execution_count": null,
   "metadata": {},
   "outputs": [
    {
     "name": "stdout",
     "output_type": "stream",
     "text": [
      "['Symbol', 'Price', 'Date', 'Time', 'Change', 'Volume']\n",
      "['AA', '39.48', '6/11/2007', '9:36am', '-0.18', '181800']\n",
      "['AIG', '71.38', '6/11/2007', '9:36am', '-0.15', '195500']\n",
      "['AXP', '62.58', '6/11/2007', '9:36am', '-0.46', '935000']\n",
      "['BA', '98.31', '6/11/2007', '9:36am', '+0.12', '104800']\n",
      "['C', '53.08', '6/11/2007', '9:36am', '-0.25', '360900']\n",
      "['CAT', '78.29', '6/11/2007', '9:36am', '-0.23', '225400']\n"
     ]
    }
   ],
   "source": [
    "# Example of reading tab-separated values\n",
    "with open('stocks.tsv') as f:\n",
    "    f_tsv = csv.reader(f, delimiter='\\t')\n",
    "    for row in f_tsv:\n",
    "        # Process row\n",
    "        print(row)\n"
   ]
  },
  {
   "cell_type": "markdown",
   "metadata": {},
   "source": [
    "Se você estiver lendo dados CSV e convertendo-os em tuplas nomeadas, precisará ter um pouco de cuidado ao validar os cabeçalhos das colunas. Por exemplo, um arquivo CSV pode ter uma linha de cabeçalho contendo caracteres identificadores inválidos como este:\n",
    "~~~python\n",
    "Street Address,Num-Premises,Latitude,Longitude\n",
    "5412 N CLARK,10,41.980262,-87.668452\n",
    "~~~\n",
    "\n",
    "Isso fará com que a criação de uma tupla nomeada falhe com uma exceção `ValueError`. Para contornar isso, talvez seja necessário esfregar os cabeçalhos primeiro. Por exemplo, carregando uma substituição regex em caracteres identificadores inválidos como este:"
   ]
  },
  {
   "cell_type": "code",
   "execution_count": null,
   "metadata": {},
   "outputs": [],
   "source": [
    "import re\n",
    "from collections import namedtuple\n",
    "with open('stocks.tsv') as f:\n",
    "    f_csv = csv.reader(f, delimiter='\\t')\n",
    "    headers = [ re.sub('[^a-zA-Z_]', '_', h) for h in next(f_csv) ]\n",
    "    Row = namedtuple('Row', headers)\n",
    "    for r in f_csv:\n",
    "        row = Row(*r)"
   ]
  },
  {
   "cell_type": "markdown",
   "metadata": {},
   "source": [
    "Também é importante enfatizar que o `csv` não tenta interpretar os dados ou convertê-los para um tipo diferente de uma *string*. Se essas conversões forem importantes, isso é algo que você precisará fazer sozinho. Aqui está um exemplo de como realizar conversões de tipo extra em dados CSV:"
   ]
  },
  {
   "cell_type": "code",
   "execution_count": null,
   "metadata": {},
   "outputs": [
    {
     "name": "stdout",
     "output_type": "stream",
     "text": [
      "()\n",
      "('AA', 39.48, '6/11/2007', '9:36am', -0.18, 181800)\n",
      "()\n",
      "('AIG', 71.38, '6/11/2007', '9:36am', -0.15, 195500)\n",
      "()\n",
      "('AXP', 62.58, '6/11/2007', '9:36am', -0.46, 935000)\n",
      "()\n"
     ]
    }
   ],
   "source": [
    "col_types = [str, float, str, str, float, int]\n",
    "with open('stocks.csv') as f:\n",
    "    f_csv = csv.reader(f)\n",
    "    headers = next(f_csv)\n",
    "    for row in f_csv:\n",
    "        # Apply conversions to the row items\n",
    "        row = tuple(convert(value) for convert, value in zip(col_types, row))\n",
    "        print(row)"
   ]
  },
  {
   "cell_type": "markdown",
   "metadata": {},
   "source": [
    "Alternativamente, aqui está um exemplo de conversão de campos selecionados de dicionários:"
   ]
  },
  {
   "cell_type": "code",
   "execution_count": null,
   "metadata": {},
   "outputs": [
    {
     "name": "stdout",
     "output_type": "stream",
     "text": [
      "Reading as dicts with type conversion\n",
      "{'Symbol': 'AA', 'Price': 39.48, 'Date': '6/11/2007', 'Time': '9:36am', 'Change': -0.18, 'Volume': 181800}\n",
      "{'Symbol': 'AIG', 'Price': 71.38, 'Date': '6/11/2007', 'Time': '9:36am', 'Change': -0.15, 'Volume': 195500}\n",
      "{'Symbol': 'AXP', 'Price': 62.58, 'Date': '6/11/2007', 'Time': '9:36am', 'Change': -0.46, 'Volume': 935000}\n"
     ]
    }
   ],
   "source": [
    "print('Reading as dicts with type conversion')\n",
    "field_types = [ ('Price', float),('Change', float), ('Volume', int)]\n",
    "with open('stocks.csv') as f:\n",
    "    for row in csv.DictReader(f):\n",
    "        row.update((key, conversion(row[key]))\n",
    "                   for key, conversion in field_types)\n",
    "        print(row)"
   ]
  },
  {
   "cell_type": "markdown",
   "metadata": {},
   "source": [
    "Em geral, você provavelmente vai querer ter um pouco de cuidado com essas conversões. No mundo real, é comum que os arquivos CSV tenham valores ausentes, dados corrompidos e outros problemas que interromperiam as conversões de tipo. Portanto, a menos que seus dados sejam garantidos como livres de erros, isso é algo que você precisará considerar (talvez seja necessário adicionar tratamento de exceção adequado).\n",
    "\n",
    "Por fim, se seu objetivo ao ler dados CSV é realizar análises e estatísticas de dados, convém examinar o pacote Pandas. Pandas inclui uma função conveniente `pandas.read_csv()` que carregará dados CSV em um objeto DataFrame. A partir daí, você pode gerar várias estatísticas resumidas, filtrar os dados e realizar outros tipos de operações de alto nível. Um exemplo é dado na Receita 6.13.\n",
    "\n",
    "## 6.2. Lendo e gravando dados JSON\n",
    "\n",
    "**Problema**\n",
    "\n",
    "Você deseja ler ou gravar dados codificados como JSON (JavaScript Object Notation).\n",
    "\n",
    "**Solução**\n",
    "\n",
    "O módulo `json` fornece uma maneira fácil de codificar e decodificar dados em JSON. As duas funções principais são `json.dumps()` e `json.loads()`, espelhando a interface usada em outras bibliotecas de serialização, como `pickle`. Veja como você transforma uma estrutura de dados Python em JSON:"
   ]
  },
  {
   "cell_type": "code",
   "execution_count": null,
   "metadata": {},
   "outputs": [],
   "source": [
    "import json\n",
    "data = {\n",
    "    'name' : 'ACME',\n",
    "    'shares' : 100,\n",
    "    'price' : 542.23\n",
    "}\n",
    "\n",
    "json_str = json.dumps(data)"
   ]
  },
  {
   "cell_type": "markdown",
   "metadata": {},
   "source": [
    "Veja como você transforma uma string codificada em JSON de volta em uma estrutura de dados Python:"
   ]
  },
  {
   "cell_type": "code",
   "execution_count": null,
   "metadata": {},
   "outputs": [],
   "source": [
    "data = json.loads(json_str)"
   ]
  },
  {
   "cell_type": "markdown",
   "metadata": {},
   "source": [
    "Se estiver trabalhando com arquivos em vez de strings, você pode usar alternativamente `json.dump()` e `json.load()` para codificar e decodificar dados JSON. Por exemplo:"
   ]
  },
  {
   "cell_type": "code",
   "execution_count": null,
   "metadata": {},
   "outputs": [],
   "source": [
    "# Writing JSON data\n",
    "with open('data.json', 'w') as f:\n",
    "    json.dump(data, f)"
   ]
  },
  {
   "cell_type": "code",
   "execution_count": null,
   "metadata": {},
   "outputs": [],
   "source": [
    "# Reading data back\n",
    "with open('data.json', 'r') as f:\n",
    "    data = json.load(f)"
   ]
  },
  {
   "cell_type": "markdown",
   "metadata": {},
   "source": [
    "**Discussão**\n",
    "\n",
    "A codificação JSON oferece suporte aos tipos básicos de **None**, **bool**, **int**, **float** e **str**, bem como listas, tuplas e dicionários que contêm esses tipos. Para dicionários, as chaves são consideradas strings (qualquer chave não string em um dicionário é convertida em strings durante a codificação).Para estar em conformidade com a especificação JSON, você deve codificar apenas listas e dicionários do Python. Além disso, em aplicativos da Web, é prática padrão que o objeto de nível superior seja um dicionário.\n",
    "\n",
    "O formato da codificação JSON é quase idêntico à sintaxe do Python, exceto por algumas pequenas alterações. Por exemplo, `True` é mapeado para **true**, `False` é mapeado para **false** e `None` é mapeado para **null**. Aqui está um exemplo que mostra como a codificação se parece:"
   ]
  },
  {
   "cell_type": "code",
   "execution_count": null,
   "metadata": {},
   "outputs": [
    {
     "data": {
      "text/plain": "'false'"
     },
     "execution_count": 14,
     "metadata": {},
     "output_type": "execute_result"
    }
   ],
   "source": [
    "json.dumps(False)"
   ]
  },
  {
   "cell_type": "code",
   "execution_count": null,
   "metadata": {},
   "outputs": [
    {
     "data": {
      "text/plain": "'{\"a\": true, \"b\": \"Hello\", \"c\": null}'"
     },
     "execution_count": 15,
     "metadata": {},
     "output_type": "execute_result"
    }
   ],
   "source": [
    "d = {'a': True,\n",
    "     'b': 'Hello',\n",
    "     'c': None}\n",
    "json.dumps(d)"
   ]
  },
  {
   "cell_type": "markdown",
   "metadata": {},
   "source": [
    "Se você estiver tentando examinar os dados que decodificou do JSON, muitas vezes pode ser difícil determinar sua estrutura simplesmente imprimindo-os, especialmente se os dados contiverem um nível profundo de estruturas aninhadas ou muitos campos. Para ajudar com isso, considere usar a função `pprint()` no módulo `pprint`. Isso alfabetizará as chaves e produzirá um dicionário de uma maneira mais sã. Aqui está um exemplo que ilustra como você imprimiria os resultados de uma pesquisa no Twitter:"
   ]
  },
  {
   "cell_type": "code",
   "execution_count": null,
   "metadata": {},
   "outputs": [
    {
     "name": "stdout",
     "output_type": "stream",
     "text": [
      "[{'boundingbox': ['-3.222', '-1.924', '-60.801', '-59.16'],\n",
      "  'category': 'boundary',\n",
      "  'display_name': 'Manaus, Região Geográfica Imediata de Manaus, Região '\n",
      "                  'Geográfica Intermediária de Manaus, Amazonas, Região Norte, '\n",
      "                  '69000-000, Brasil',\n",
      "  'icon': 'https://nominatim.openstreetmap.org/ui/mapicons/poi_boundary_administrative.p.20.png',\n",
      "  'importance': 0.6822901469283741,\n",
      "  'lat': '-3.1316333',\n",
      "  'licence': 'Data © OpenStreetMap contributors, ODbL 1.0. '\n",
      "             'https://osm.org/copyright',\n",
      "  'lon': '-59.9825041',\n",
      "  'osm_id': 332493,\n",
      "  'osm_type': 'relation',\n",
      "  'place_id': 297367104,\n",
      "  'place_rank': 16,\n",
      "  'type': 'administrative'},\n",
      " {'boundingbox': ['-3.222', '-1.924', '-60.801', '-59.16'],\n",
      "  'category': 'boundary',\n",
      "  'display_name': 'Manaus, Região Geográfica Imediata de Manaus, Região '\n",
      "                  'Geográfica Intermediária de Manaus, Amazonas, Região Norte, '\n",
      "                  '69000-000, Brasil',\n",
      "  'icon': 'https://nominatim.openstreetmap.org/ui/mapicons/poi_boundary_administrative.p.20.png',\n",
      "  'importance': 0.41000000000000003,\n",
      "  'lat': '-2.573',\n",
      "  'licence': 'Data © OpenStreetMap contributors, ODbL 1.0. '\n",
      "             'https://osm.org/copyright',\n",
      "  'lon': '-60.372468061674006',\n",
      "  'osm_id': 6255880,\n",
      "  'osm_type': 'relation',\n",
      "  'place_id': 298883723,\n",
      "  'place_rank': 18,\n",
      "  'type': 'administrative'},\n",
      " {'boundingbox': ['-1.5410701', '-1.5010701', '-46.0290779', '-45.9890779'],\n",
      "  'category': 'place',\n",
      "  'display_name': 'Manaus, Luís Domingues, Região Geográfica Imediata de '\n",
      "                  'Governador Nunes Freire, Região Geográfica Intermediária de '\n",
      "                  'Santa Inês-Bacabal, Maranhão, Região Nordeste, Brasil',\n",
      "  'icon': 'https://nominatim.openstreetmap.org/ui/mapicons/poi_place_village.p.20.png',\n",
      "  'importance': 0.385,\n",
      "  'lat': '-1.5210701',\n",
      "  'licence': 'Data © OpenStreetMap contributors, ODbL 1.0. '\n",
      "             'https://osm.org/copyright',\n",
      "  'lon': '-46.0090779',\n",
      "  'osm_id': 4647841617,\n",
      "  'osm_type': 'node',\n",
      "  'place_id': 53172257,\n",
      "  'place_rank': 19,\n",
      "  'type': 'village'},\n",
      " {'boundingbox': ['-11.1329897', '-11.0929897', '-68.6230167', '-68.5830167'],\n",
      "  'category': 'place',\n",
      "  'display_name': 'Manaus, Epitaciolândia, Região Geográfica Imediata de '\n",
      "                  'Brasiléia, Região Geográfica Intermediária de Rio Branco, '\n",
      "                  'Acre, Região Norte, Brasil',\n",
      "  'icon': 'https://nominatim.openstreetmap.org/ui/mapicons/poi_place_village.p.20.png',\n",
      "  'importance': 0.36,\n",
      "  'lat': '-11.1129897',\n",
      "  'licence': 'Data © OpenStreetMap contributors, ODbL 1.0. '\n",
      "             'https://osm.org/copyright',\n",
      "  'lon': '-68.6030167',\n",
      "  'osm_id': 3809552513,\n",
      "  'osm_type': 'node',\n",
      "  'place_id': 45564349,\n",
      "  'place_rank': 20,\n",
      "  'type': 'hamlet'},\n",
      " {'boundingbox': ['-9.373781', '-9.333781', '-69.934744', '-69.894744'],\n",
      "  'category': 'place',\n",
      "  'display_name': 'Manaus, Manoel Urbano, Região Geográfica Imediata de Sena '\n",
      "                  'Madureira, Região Geográfica Intermediária de Rio Branco, '\n",
      "                  'Acre, Região Norte, Brasil',\n",
      "  'icon': 'https://nominatim.openstreetmap.org/ui/mapicons/poi_place_village.p.20.png',\n",
      "  'importance': 0.36,\n",
      "  'lat': '-9.353781',\n",
      "  'licence': 'Data © OpenStreetMap contributors, ODbL 1.0. '\n",
      "             'https://osm.org/copyright',\n",
      "  'lon': '-69.914744',\n",
      "  'osm_id': 416760249,\n",
      "  'osm_type': 'node',\n",
      "  'place_id': 3139193,\n",
      "  'place_rank': 20,\n",
      "  'type': 'hamlet'},\n",
      " {'boundingbox': ['54.8125528', '54.8450191', '52.9462608', '53.0729952'],\n",
      "  'category': 'waterway',\n",
      "  'display_name': 'Маняус, Агерзе, Агерзинское сельское поселение, '\n",
      "                  'Азнакаевский район, Татарстан, Приволжский федеральный '\n",
      "                  'округ, 423332, Россия',\n",
      "  'importance': 0.282582546755277,\n",
      "  'lat': '54.8288816',\n",
      "  'licence': 'Data © OpenStreetMap contributors, ODbL 1.0. '\n",
      "             'https://osm.org/copyright',\n",
      "  'lon': '53.0160573',\n",
      "  'osm_id': 192219914,\n",
      "  'osm_type': 'way',\n",
      "  'place_id': 150443725,\n",
      "  'place_rank': 19,\n",
      "  'type': 'river'},\n",
      " {'boundingbox': ['25.2035461', '25.2060466', '55.1627647', '55.1659216'],\n",
      "  'category': 'place',\n",
      "  'display_name': 'ماناوس, دبي, الإمارات العربية المتحدة',\n",
      "  'importance': 0.25,\n",
      "  'lat': '25.204849199999998',\n",
      "  'licence': 'Data © OpenStreetMap contributors, ODbL 1.0. '\n",
      "             'https://osm.org/copyright',\n",
      "  'lon': '55.16389272585206',\n",
      "  'osm_id': 9641826,\n",
      "  'osm_type': 'relation',\n",
      "  'place_id': 299102404,\n",
      "  'place_rank': 20,\n",
      "  'type': 'islet'},\n",
      " {'boundingbox': ['-33.8157766', '-33.8155161', '-70.7416601', '-70.7403156'],\n",
      "  'category': 'highway',\n",
      "  'display_name': 'Manaus, Colonia San Pablo, Paine, Provincia de Maipo, '\n",
      "                  'Región Metropolitana de Santiago, Chile',\n",
      "  'importance': 0.21,\n",
      "  'lat': '-33.8156207',\n",
      "  'licence': 'Data © OpenStreetMap contributors, ODbL 1.0. '\n",
      "             'https://osm.org/copyright',\n",
      "  'lon': '-70.7411199',\n",
      "  'osm_id': 85509942,\n",
      "  'osm_type': 'way',\n",
      "  'place_id': 124473038,\n",
      "  'place_rank': 26,\n",
      "  'type': 'residential'},\n",
      " {'boundingbox': ['-3.0418864', '-3.0417864', '-60.0521299', '-60.0520299'],\n",
      "  'category': 'man_made',\n",
      "  'display_name': 'Manaus, Rua Maracanã, Redenção, Manaus, Região Geográfica '\n",
      "                  'Imediata de Manaus, Região Geográfica Intermediária de '\n",
      "                  'Manaus, Amazonas, Região Norte, 69000-000, Brasil',\n",
      "  'importance': 0.11010000000000002,\n",
      "  'lat': '-3.0418364',\n",
      "  'licence': 'Data © OpenStreetMap contributors, ODbL 1.0. '\n",
      "             'https://osm.org/copyright',\n",
      "  'lon': '-60.0520799',\n",
      "  'osm_id': 4792611159,\n",
      "  'osm_type': 'node',\n",
      "  'place_id': 55421930,\n",
      "  'place_rank': 30,\n",
      "  'type': 'tower'},\n",
      " {'boundingbox': ['4.704509', '4.704609', '-74.124304', '-74.124204'],\n",
      "  'category': 'amenity',\n",
      "  'display_name': 'Manaus, Calle 70, UPZs Localidad Engativá, Localidad '\n",
      "                  'Engativá, Bogotá, Bogotá, Distrito Capital, 111041, '\n",
      "                  'Colombia',\n",
      "  'icon': 'https://nominatim.openstreetmap.org/ui/mapicons/food_restaurant.p.20.png',\n",
      "  'importance': 0.11010000000000002,\n",
      "  'lat': '4.704559',\n",
      "  'licence': 'Data © OpenStreetMap contributors, ODbL 1.0. '\n",
      "             'https://osm.org/copyright',\n",
      "  'lon': '-74.124254',\n",
      "  'osm_id': 5186319381,\n",
      "  'osm_type': 'node',\n",
      "  'place_id': 57801650,\n",
      "  'place_rank': 30,\n",
      "  'type': 'restaurant'}]\n"
     ]
    }
   ],
   "source": [
    "from urllib.request import urlopen\n",
    "import json\n",
    "u = urlopen('https://nominatim.openstreetmap.org/search.php?q=Manaus&format=jsonv2')\n",
    "resp = json.loads(u.read().decode('utf-8'))\n",
    "from pprint import pprint\n",
    "pprint(resp)"
   ]
  },
  {
   "cell_type": "markdown",
   "metadata": {},
   "source": [
    "Normalmente, a decodificação JSON criará dicts ou listas a partir dos dados fornecidos. Se você deseja criar diferentes tipos de objetos, forneça o *object_pairs_hook* ou *object_hook* para `json.loads()`. Por exemplo, aqui está como você decodificaria dados JSON, preservando sua ordem em um `OrderedDict`:"
   ]
  },
  {
   "cell_type": "code",
   "execution_count": null,
   "metadata": {},
   "outputs": [
    {
     "data": {
      "text/plain": "OrderedDict([('name', 'ACME'), ('shares', 50), ('price', 490.1)])"
     },
     "execution_count": 17,
     "metadata": {},
     "output_type": "execute_result"
    }
   ],
   "source": [
    "s = '{\"name\": \"ACME\", \"shares\": 50, \"price\": 490.1}'\n",
    "from collections import OrderedDict\n",
    "data = json.loads(s, object_pairs_hook=OrderedDict)\n",
    "data"
   ]
  },
  {
   "cell_type": "markdown",
   "metadata": {},
   "source": [
    "Aqui está como você pode transformar um dicionário JSON em um objeto Python:"
   ]
  },
  {
   "cell_type": "code",
   "execution_count": null,
   "metadata": {},
   "outputs": [],
   "source": [
    "class JSONObject:\n",
    "    def __init__(self, d):\n",
    "        self.__dict__ = d"
   ]
  },
  {
   "cell_type": "code",
   "execution_count": null,
   "metadata": {},
   "outputs": [],
   "source": [
    "data = json.loads(s, object_hook=JSONObject)"
   ]
  },
  {
   "cell_type": "code",
   "execution_count": null,
   "metadata": {},
   "outputs": [
    {
     "data": {
      "text/plain": "'ACME'"
     },
     "execution_count": 20,
     "metadata": {},
     "output_type": "execute_result"
    }
   ],
   "source": [
    " data.name"
   ]
  },
  {
   "cell_type": "code",
   "execution_count": null,
   "metadata": {},
   "outputs": [
    {
     "data": {
      "text/plain": "50"
     },
     "execution_count": 21,
     "metadata": {},
     "output_type": "execute_result"
    }
   ],
   "source": [
    " data.shares"
   ]
  },
  {
   "cell_type": "code",
   "execution_count": null,
   "metadata": {},
   "outputs": [
    {
     "data": {
      "text/plain": "490.1"
     },
     "execution_count": 22,
     "metadata": {},
     "output_type": "execute_result"
    }
   ],
   "source": [
    "data.price"
   ]
  },
  {
   "cell_type": "markdown",
   "metadata": {},
   "source": [
    "Neste último exemplo, o dicionário criado pela decodificação dos dados JSON é passado como um único argumento para `__init__()`. A partir daí, você está livre para usá-lo como quiser, como usá-lo diretamente como o dicionário de instância do objeto.\n",
    "Existem algumas opções que podem ser úteis para codificar JSON. Se você quiser que a saída seja bem formatada, você pode usar o argumento `indent` para `json.dumps()`. Isso faz com que a saída seja bem impressa em um formato semelhante ao da função `pprint()`. Por exemplo:"
   ]
  },
  {
   "cell_type": "code",
   "execution_count": null,
   "metadata": {},
   "outputs": [
    {
     "name": "stdout",
     "output_type": "stream",
     "text": [
      "{\"name\": \"ACME\", \"shares\": 100, \"price\": 542.23}\n"
     ]
    }
   ],
   "source": [
    "data = {\n",
    "    'name' : 'ACME',\n",
    "    'shares' : 100,\n",
    "    'price' : 542.23\n",
    "}\n",
    "\n",
    "print(json.dumps(data))"
   ]
  },
  {
   "cell_type": "code",
   "execution_count": null,
   "metadata": {},
   "outputs": [
    {
     "name": "stdout",
     "output_type": "stream",
     "text": [
      "{\n",
      "    \"name\": \"ACME\",\n",
      "    \"shares\": 100,\n",
      "    \"price\": 542.23\n",
      "}\n"
     ]
    }
   ],
   "source": [
    "print(json.dumps(data, indent=4))"
   ]
  },
  {
   "cell_type": "markdown",
   "metadata": {},
   "source": [
    "Se você quiser que as chaves sejam classificadas na saída, use o argumento `sort_keys`:"
   ]
  },
  {
   "cell_type": "code",
   "execution_count": null,
   "metadata": {},
   "outputs": [
    {
     "name": "stdout",
     "output_type": "stream",
     "text": [
      "{\"name\": \"ACME\", \"price\": 542.23, \"shares\": 100}\n"
     ]
    }
   ],
   "source": [
    "print(json.dumps(data, sort_keys=True))"
   ]
  },
  {
   "cell_type": "markdown",
   "metadata": {},
   "source": [
    "As instâncias normalmente não são serializáveis como JSON. Por exemplo:"
   ]
  },
  {
   "cell_type": "code",
   "execution_count": null,
   "metadata": {},
   "outputs": [],
   "source": [
    "class Point:\n",
    "    def __init__(self, x, y):\n",
    "        self.x = x\n",
    "        self.y = y\n",
    "        \n",
    "p = Point(2, 3)"
   ]
  },
  {
   "cell_type": "markdown",
   "metadata": {},
   "source": [
    "~~~python\n",
    "json.dumps(p)\n",
    "Traceback (most recent call last):\n",
    " File \"<stdin>\", line 1, in <module>\n",
    " File \"/usr/local/lib/python3.3/json/__init__.py\", line 226, in dumps\n",
    " return _default_encoder.encode(obj)\n",
    " File \"/usr/local/lib/python3.3/json/encoder.py\", line 187, in encode\n",
    " chunks = self.iterencode(o, _one_shot=True)\n",
    " File \"/usr/local/lib/python3.3/json/encoder.py\", line 245, in iterencode\n",
    " return _iterencode(o, 0)\n",
    " File \"/usr/local/lib/python3.3/json/encoder.py\", line 169, in default\n",
    " raise TypeError(repr(o) + \" is not JSON serializable\")\n",
    "TypeError: <__main__.Point object at 0x1006f2650> is not JSON serializable\n",
    ">>>\n",
    "~~~"
   ]
  },
  {
   "cell_type": "markdown",
   "metadata": {},
   "source": [
    "Se você deseja serializar instâncias, pode fornecer uma função que recebe uma instância como entrada e retorna um dicionário que pode ser serializado. Por exemplo:"
   ]
  },
  {
   "cell_type": "code",
   "execution_count": null,
   "metadata": {},
   "outputs": [],
   "source": [
    "def serialize_instance(obj):\n",
    "    d = { '__classname__' : type(obj).__name__ }\n",
    "    d.update(vars(obj))\n",
    "    return d"
   ]
  },
  {
   "cell_type": "markdown",
   "metadata": {},
   "source": [
    "Se você quiser obter uma instância de volta, você pode escrever um código como este:"
   ]
  },
  {
   "cell_type": "code",
   "execution_count": null,
   "metadata": {},
   "outputs": [],
   "source": [
    "# Dictionary mapping names to known classes\n",
    "classes = {\n",
    "    'Point' : Point\n",
    "}\n",
    "\n",
    "def unserialize_object(d):\n",
    "    clsname = d.pop('__classname__', None)\n",
    "    if clsname:\n",
    "        cls = classes[clsname]\n",
    "        obj = cls.__new__(cls) # Make instance without calling __init__\n",
    "        for key, value in d.items():\n",
    "            setattr(obj, key, value)\n",
    "            return obj\n",
    "    else:\n",
    "        return d\n"
   ]
  },
  {
   "cell_type": "markdown",
   "metadata": {},
   "source": [
    "Aqui está um exemplo de como essas funções são usadas:"
   ]
  },
  {
   "cell_type": "code",
   "execution_count": null,
   "metadata": {},
   "outputs": [
    {
     "data": {
      "text/plain": "'{\"__classname__\": \"Point\", \"x\": 2, \"y\": 3}'"
     },
     "execution_count": 29,
     "metadata": {},
     "output_type": "execute_result"
    }
   ],
   "source": [
    "p = Point(2,3)\n",
    "s = json.dumps(p, default=serialize_instance)\n",
    "s"
   ]
  },
  {
   "cell_type": "code",
   "execution_count": null,
   "metadata": {},
   "outputs": [
    {
     "data": {
      "text/plain": "<__main__.Point at 0x1daae56e970>"
     },
     "execution_count": 30,
     "metadata": {},
     "output_type": "execute_result"
    }
   ],
   "source": [
    "a = json.loads(s, object_hook=unserialize_object)\n",
    "a"
   ]
  },
  {
   "cell_type": "code",
   "execution_count": null,
   "metadata": {},
   "outputs": [
    {
     "data": {
      "text/plain": "2"
     },
     "execution_count": 31,
     "metadata": {},
     "output_type": "execute_result"
    }
   ],
   "source": [
    "a.x"
   ]
  },
  {
   "cell_type": "markdown",
   "metadata": {},
   "source": [
    "O módulo json tem uma variedade de outras opções para controlar a interpretação de números de baixo nível, valores especiais como NaN e muito mais. Consulte a documentação para mais detalhes.\n",
    "\n",
    "## 6.3. Analisando dados XML simples\n",
    "\n",
    "**Problema**\n",
    "\n",
    "Você gostaria de extrair dados de um documento XML simples.\n",
    "\n",
    "**Solução**\n",
    "O módulo `xml.etree.ElementTree` pode ser usado para extrair dados de documentos XML simples. Para ilustrar, suponha que você queira analisar e fazer um resumo do feed RSS no Planet Python. Aqui está um script que fará isso:"
   ]
  },
  {
   "cell_type": "code",
   "execution_count": null,
   "metadata": {},
   "outputs": [],
   "source": [
    "from urllib.request import urlopen\n",
    "from xml.etree.ElementTree import parse\n",
    "# Download the RSS feed and parse it\n",
    "u = urlopen('http://planet.python.org/rss20.xml')\n",
    "doc = parse(u)"
   ]
  },
  {
   "cell_type": "code",
   "execution_count": null,
   "metadata": {},
   "outputs": [
    {
     "name": "stdout",
     "output_type": "stream",
     "text": [
      "Sebastian Witowski: How to Benchmark (Python) Code\n",
      "Wed, 16 Nov 2022 16:40:15 +0000\n",
      "https://switowski.com/blog/how-to-benchmark-python-code/\n",
      "\n",
      "Real Python: Python REST APIs With Flask, Connexion, and SQLAlchemy – Part 2\n",
      "Wed, 16 Nov 2022 14:00:00 +0000\n",
      "https://realpython.com/flask-connexion-rest-api-part-2/\n",
      "\n",
      "Python for Beginners: Custom JSON Decoder in Python\n",
      "Wed, 16 Nov 2022 14:00:00 +0000\n",
      "https://www.pythonforbeginners.com/basics/custom-json-decoder-in-python\n",
      "\n",
      "Kushal Das: Johnnycanencrypt 0.11.0 released\n",
      "Wed, 16 Nov 2022 12:53:31 +0000\n",
      "https://kushaldas.in/posts/johnnycanencrypt-0-11-0-released.html\n",
      "\n",
      "Django Weblog: 2023 DSF Board Candidates\n",
      "Wed, 16 Nov 2022 02:36:01 +0000\n",
      "https://www.djangoproject.com/weblog/2022/nov/15/2023-dsf-board-candidates-list/\n",
      "\n",
      "Brett Cannon: MVPy: Minimum Viable Python\n",
      "Wed, 16 Nov 2022 01:01:00 +0000\n",
      "https://snarky.ca/mvpy-minimum-viable-python/\n",
      "\n",
      "Brett Cannon: Unravelling `lambda` expressions\n",
      "Wed, 16 Nov 2022 01:00:29 +0000\n",
      "https://snarky.ca/unraveling-lambda-expressions/\n",
      "\n",
      "PyCoder’s Weekly: Issue #551 (Nov. 15, 2022)\n",
      "Tue, 15 Nov 2022 19:30:00 +0000\n",
      "https://pycoders.com/issues/551\n",
      "\n",
      "PyBites: Software Engineering and Entrepreneurship\n",
      "Tue, 15 Nov 2022 19:19:34 +0000\n",
      "https://pybit.es/articles/pp95-software-engineering-and-entrepreneurship/\n",
      "\n",
      "Kushal Das: Tor 0.4.7.11 is ready\n",
      "Tue, 15 Nov 2022 16:47:31 +0000\n",
      "https://kushaldas.in/posts/tor-0-4-7-11-is-ready.html\n",
      "\n",
      "Real Python: Deploy a Django App With Gunicorn and Nginx\n",
      "Tue, 15 Nov 2022 14:00:00 +0000\n",
      "https://realpython.com/courses/django-app-with-gunicorn-nginx/\n",
      "\n",
      "Made With Mu: Announcing a new stable release: 1.2.0\n",
      "Tue, 15 Nov 2022 10:30:00 +0000\n",
      "https://madewith.mu/mu/users/2022/11/15/mu-1-2-0.html\n",
      "\n",
      "Python Insider: Python 3.12.0 alpha 2 released\n",
      "Tue, 15 Nov 2022 08:06:31 +0000\n",
      "https://pythoninsider.blogspot.com/2022/11/python-3120-alpha-2-released.html\n",
      "\n",
      "Talk Python to Me: #390: Mastodon for Python Devs\n",
      "Tue, 15 Nov 2022 08:00:00 +0000\n",
      "https://talkpython.fm/episodes/show/390/mastodon-for-python-devs\n",
      "\n",
      "Python Bytes: #310 Calling All Tools for Readmes\n",
      "Tue, 15 Nov 2022 08:00:00 +0000\n",
      "https://pythonbytes.fm/episodes/show/310/calling-all-tools-for-readmes\n",
      "\n",
      "Paolo Melchiorre: Intervista Pythonista - Ep 31\n",
      "Mon, 14 Nov 2022 23:00:00 +0000\n",
      "https://www.paulox.net/2022/11/15/intervista-pythonista-31/\n",
      "\n",
      "Python Morsels: Python's ternary operator\n",
      "Mon, 14 Nov 2022 16:00:00 +0000\n",
      "https://www.pythonmorsels.com/ternary-operator/\n",
      "\n",
      "Real Python: Python REST APIs With Flask, Connexion, and SQLAlchemy – Part 1\n",
      "Mon, 14 Nov 2022 14:00:00 +0000\n",
      "https://realpython.com/flask-connexion-rest-api/\n",
      "\n",
      "Python for Beginners: Working with JSON Files in Python\n",
      "Mon, 14 Nov 2022 14:00:00 +0000\n",
      "https://www.pythonforbeginners.com/basics/working-with-json-files-in-python\n",
      "\n",
      "Mike Driscoll: PyDev of the Week: Sarah Abderemane\n",
      "Mon, 14 Nov 2022 13:30:54 +0000\n",
      "https://www.blog.pythonlibrary.org/2022/11/14/pydev-of-the-week-sarah-abderemane/\n",
      "\n",
      "Zato Blog: IMAP and OAuth2 Integrations with Microsoft 365\n",
      "Mon, 14 Nov 2022 10:41:35 +0000\n",
      "https://zato.io/blog/posts/imap-oauth2-microsoft365.html\n",
      "\n",
      "Reuven Lerner: Level up your career with PythonDAB — the Python Data Analytics Bootcamp\n",
      "Mon, 14 Nov 2022 09:09:46 +0000\n",
      "https://lerner.co.il/2022/11/14/level-up-your-career-with-pythondab-the-python-data-analytics-bootcamp/\n",
      "\n",
      "Made With Mu: Mu: An Editor in Hostile Environments\n",
      "Mon, 14 Nov 2022 08:00:00 +0000\n",
      "https://madewith.mu/mu/users/2022/11/14/hostile-environments.html\n",
      "\n",
      "John Ludhi/nbshare.io: Enable Python Virtual Enviornment in Visual Studio Code on Windows\n",
      "Mon, 14 Nov 2022 01:38:38 +0000\n",
      "https://www.nbshare.io/notebook/133195809/Enable-Python-Virtual-Enviornment-in-Visual-Studio-Code-on-Windows/\n",
      "\n",
      "Sebastian Witowski: Upgrade Your Python Version\n",
      "Mon, 14 Nov 2022 00:00:00 +0000\n",
      "https://switowski.com/blog/upgrade-your-python-version/\n",
      "\n"
     ]
    }
   ],
   "source": [
    "# Extract and output tags of interest\n",
    "for item in doc.iterfind('channel/item'):\n",
    "    title = item.findtext('title')\n",
    "    date = item.findtext('pubDate')\n",
    "    link = item.findtext('link')\n",
    "    print(title)\n",
    "    print(date)\n",
    "    print(link)\n",
    "    print()"
   ]
  },
  {
   "cell_type": "markdown",
   "metadata": {},
   "source": [
    "Obviamente, se você quiser fazer mais processamento, precisará substituir as instruções `print()` por algo mais interessante.\n",
    "\n",
    "**Discussão**\n",
    "\n",
    "Trabalhar com dados codificados como XML é comum em muitos aplicativos. O XML não é apenas amplamente usado como formato para troca de dados na Internet, mas também é um formato comum para armazenar dados de aplicativos (por exemplo, processamento de texto, bibliotecas de música etc.). A discussão a seguir já pressupõe que o leitor esteja familiarizado com os fundamentos do XML.\n",
    "\n",
    "Em muitos casos, quando o XML está simplesmente sendo usado para armazenar dados, a estrutura do documento é compacta e direta. Por exemplo, o feed RSS do exemplo é semelhante ao seguinte:\n",
    "\n",
    "~~~html\n",
    "<?xml version=\"1.0\"?>\n",
    " <rss version=\"2.0\" xmlns:dc=\"http://purl.org/dc/elements/1.1/\">\n",
    " <channel>\n",
    "     <title>Planet Python</title>\n",
    "     <link>http://planet.python.org/</link>\n",
    "     <language>en</language>\n",
    "     <description>Planet Python - http://planet.python.org/</description>\n",
    "     <item>\n",
    "         <title>Steve Holden: Python for Data Analysis</title>\n",
    "         <guid>http://holdenweb.blogspot.com/...-data-analysis.html</guid>\n",
    "         <link>http://holdenweb.blogspot.com/...-data-analysis.html</link>\n",
    "     <description>...</description>\n",
    "     <pubDate>Mon, 19 Nov 2012 02:13:51 +0000</pubDate>\n",
    "     </item>\n",
    "<item>\n",
    "    <title>Vasudev Ram: The Python Data model (for v2 and v3)</title>\n",
    "    <guid>http://jugad2.blogspot.com/...-data-model.html</guid>\n",
    "    <link>http://jugad2.blogspot.com/...-data-model.html</link>\n",
    "<description>...</description>\n",
    "<pubDate>Sun, 18 Nov 2012 22:06:47 +0000</pubDate>\n",
    "</item>\n",
    "<item>\n",
    "    <title>Python Diary: Been playing around with Object Databases</title>\n",
    "    <guid>http://www.pythondiary.com/...-object-databases.html</guid>\n",
    "    <link>http://www.pythondiary.com/...-object-databases.html</link>\n",
    "<description>...</description>\n",
    "<pubDate>Sun, 18 Nov 2012 20:40:29 +0000</pubDate>\n",
    "</item>\n",
    "...\n",
    " </channel>\n",
    "</rss>\n",
    "~~~"
   ]
  },
  {
   "cell_type": "markdown",
   "metadata": {},
   "source": [
    "A função `xml.etree.ElementTree.parse()` analisa todo o documento XML em um objeto de documento. A partir daí, você usa métodos como `find()`, `iterfind()` e `findtext()` para pesquisar elementos XML específicos. Os argumentos para essas funções são os nomes de uma tag específica, como canal/item ou título.\n",
    "\n",
    "Ao especificar tags, você precisa levar em consideração a estrutura geral do documento. Cada operação de localização ocorre em relação a um elemento inicial. Da mesma forma, o tagname que você fornece para cada operação também é relativo ao início. No exemplo, a chamada para `doc.iterfind('canal/item')` procura todos os elementos “item” sob um elemento “canal”. doc representa a parte superior do documento (o elemento “rss” de nível superior). As últimas chamadas para `item.findtext()` ocorrem em relação aos elementos “item” encontrados.\n",
    "\n",
    "Cada elemento representado pelo módulo `ElementTree` tem alguns atributos e métodos essenciais que são úteis ao analisar. O atributo tag contém o nome da tag, o atributo text contém texto incluído e o método `get()` pode ser usado para extrair atributos (se houver). Por exemplo:"
   ]
  },
  {
   "cell_type": "code",
   "execution_count": null,
   "metadata": {},
   "outputs": [
    {
     "data": {
      "text/plain": "<xml.etree.ElementTree.ElementTree at 0x1daae54f3a0>"
     },
     "execution_count": 34,
     "metadata": {},
     "output_type": "execute_result"
    }
   ],
   "source": [
    "doc"
   ]
  },
  {
   "cell_type": "code",
   "execution_count": null,
   "metadata": {},
   "outputs": [
    {
     "data": {
      "text/plain": "<Element 'title' at 0x000001DAAE53FB30>"
     },
     "execution_count": 35,
     "metadata": {},
     "output_type": "execute_result"
    }
   ],
   "source": [
    "e = doc.find('channel/title')\n",
    "e"
   ]
  },
  {
   "cell_type": "code",
   "execution_count": null,
   "metadata": {},
   "outputs": [
    {
     "data": {
      "text/plain": "'title'"
     },
     "execution_count": 36,
     "metadata": {},
     "output_type": "execute_result"
    }
   ],
   "source": [
    "e.tag"
   ]
  },
  {
   "cell_type": "code",
   "execution_count": null,
   "metadata": {},
   "outputs": [
    {
     "data": {
      "text/plain": "'Planet Python'"
     },
     "execution_count": 37,
     "metadata": {},
     "output_type": "execute_result"
    }
   ],
   "source": [
    "e.text"
   ]
  },
  {
   "cell_type": "code",
   "execution_count": null,
   "metadata": {},
   "outputs": [],
   "source": [
    "e.get('some_attribute')"
   ]
  },
  {
   "cell_type": "markdown",
   "metadata": {},
   "source": [
    "Deve-se notar que `xml.etree.ElementTree` não é a única opção para análise XML. Para aplicativos mais avançados, você pode considerar `lxml`. Ele usa a mesma interface de programação do `ElementTree`, então o exemplo mostrado nesta receita funciona da mesma maneira. Você simplesmente precisa alterar a primeira importação `from lxml.etree import parse.lxml` oferece o benefício de ser totalmente compatível com os padrões XML. Também é extremamente **rápido** e oferece suporte para recursos como validação, XSLT e XPath.\n",
    "\n",
    "## 6.4. Analisando arquivos XML enormes de forma incremental\n",
    "\n",
    "**Problema**\n",
    "\n",
    "Você precisa extrair dados de um documento XML enorme usando o mínimo de memória possível.\n",
    "\n",
    "**Solução**\n",
    "\n",
    "Sempre que você se deparar com o problema do processamento incremental de dados, você deve pensar em iteradores e geradores. Aqui está uma função simples que pode ser usada para processar de forma incremental arquivos XML enormes usando uma pegada de memória muito pequena:"
   ]
  },
  {
   "cell_type": "code",
   "execution_count": null,
   "metadata": {},
   "outputs": [],
   "source": [
    "from xml.etree.ElementTree import iterparse\n",
    "def parse_and_remove(filename, path):\n",
    "    path_parts = path.split('/')\n",
    "    doc = iterparse(filename, ('start', 'end'))\n",
    "    # Skip the root element\n",
    "    next(doc)\n",
    "    tag_stack = []\n",
    "    elem_stack = []\n",
    "    for event, elem in doc:\n",
    "        if event == 'start':\n",
    "            tag_stack.append(elem.tag)\n",
    "            elem_stack.append(elem)\n",
    "        elif event == 'end':\n",
    "            if tag_stack == path_parts:\n",
    "                yield elem\n",
    "                elem_stack[-2].remove(elem)\n",
    "            try:\n",
    "                tag_stack.pop()\n",
    "                elem_stack.pop()\n",
    "            except IndexError:\n",
    "                pass"
   ]
  },
  {
   "cell_type": "markdown",
   "metadata": {},
   "source": [
    "Para testar a função, agora você precisa encontrar um arquivo XML grande para trabalhar. Muitas vezes você pode encontrar esses arquivos em sites governamentais e de dados abertos. Por exemplo, você pode baixar o banco de dados de buracos de Chicago como XML. No momento da redação deste artigo, o arquivo baixado consiste em mais de 100.000 linhas de dados, que são codificados assim:"
   ]
  },
  {
   "cell_type": "raw",
   "metadata": {},
   "source": [
    "<response>\n",
    "<row>\n",
    "<row ...>\n",
    "<creation_date>2012-11-18T00:00:00</creation_date>\n",
    "        <status>Completed</status>\n",
    "        <completion_date>2012-11-18T00:00:00</completion_date>\n",
    "                <service_request_number>12-01906549</service_request_number>\n",
    "                <type_of_service_request>Pot Hole in Street</type_of_service_request>\n",
    "                <current_activity>Final Outcome</current_activity>\n",
    "                <most_recent_action>CDOT Street Cut ... Outcome</most_recent_action>\n",
    "                <street_address>4714 S TALMAN AVE</street_address>\n",
    "                <zip>60632</zip>\n",
    "                <x_coordinate>1159494.68618856</x_coordinate>\n",
    "                <y_coordinate>1873313.83503384</y_coordinate>\n",
    "                <ward>14</ward>\n",
    "                <police_district>9</police_district>\n",
    "                <community_area>58</community_area>\n",
    "                <latitude>41.808090232127896</latitude>\n",
    "                <longitude>-87.69053684711305</longitude>\n",
    "                <location latitude=\"41.808090232127896\"\n",
    "                longitude=\"-87.69053684711305\" />\n",
    "                </row>\n",
    "                <row ...>\n",
    "                <creation_date>2012-11-18T00:00:00</creation_date>\n",
    "                        <status>Completed</status>\n",
    "                        <completion_date>2012-11-18T00:00:00</completion_date>\n",
    "                                <service_request_number>12-01906695</service_request_number>\n",
    "                                <type_of_service_request>Pot Hole in Street</type_of_service_request>\n",
    "                                <current_activity>Final Outcome</current_activity>\n",
    "                                <most_recent_action>CDOT Street Cut ... Outcome</most_recent_action>\n",
    "                                <street_address>3510 W NORTH AVE</street_address>\n",
    "                                <zip>60647</zip>\n",
    "                                <x_coordinate>1152732.14127696</x_coordinate>\n",
    "                                <y_coordinate>1910409.38979075</y_coordinate>\n",
    "                                <ward>26</ward>\n",
    "                                <police_district>14</police_district>\n",
    "                                <community_area>23</community_area>\n",
    "                                <latitude>41.91002084292946</latitude>\n",
    "                                <longitude>-87.71435952353961</longitude>\n",
    "                                <location latitude=\"41.91002084292946\" longitude=\"-87.71435952353961\" />\n",
    "                                </row>\n",
    "                                </row>\n",
    "                                </response>"
   ]
  },
  {
   "cell_type": "markdown",
   "metadata": {},
   "source": [
    "Suponha que você queira escrever um script que classifique os CEPs pelo número de relatórios de buracos. Para fazer isso, você poderia escrever um código como este:"
   ]
  },
  {
   "cell_type": "code",
   "execution_count": 41,
   "metadata": {},
   "outputs": [
    {
     "name": "stdout",
     "output_type": "stream",
     "text": [
      "60632 1\n",
      "60647 1\n"
     ]
    }
   ],
   "source": [
    "from xml.etree.ElementTree import parse\n",
    "from collections import Counter\n",
    "potholes_by_zip = Counter()\n",
    "doc = parse('potholes.xml')\n",
    "for pothole in doc.iterfind('row/row'):\n",
    "    potholes_by_zip[pothole.findtext('zip')] += 1\n",
    "for zipcode, num in potholes_by_zip.most_common():\n",
    "    print(zipcode, num)"
   ]
  },
  {
   "cell_type": "markdown",
   "metadata": {},
   "source": [
    "Esta versão do código é executada com uma pegada de memória de apenas 7 MB—uma enorme economia!\n",
    "\n",
    "**Discussão**\n",
    "\n",
    "Esta receita se baseia em dois recursos principais do módulo ElementTree. Primeiro, o método iterparse() permite o processamento incremental de documentos XML. Para usá-lo, você fornece o nome do arquivo junto com uma lista de eventos que consiste em um ou mais dos seguintes:**start**, **end**, **start-ns** e **end-ns**. O iterador criado por `iterparse()` produz tuplas no form(event, elem), onde event é um dos eventos listados e elem é o elemento XML resultante. Por exemplo:"
   ]
  },
  {
   "cell_type": "code",
   "execution_count": 42,
   "metadata": {},
   "outputs": [],
   "source": [
    "data = iterparse('potholes.xml',('start','end'))"
   ]
  },
  {
   "cell_type": "code",
   "execution_count": 43,
   "metadata": {},
   "outputs": [
    {
     "data": {
      "text/plain": "('start', <Element 'response' at 0x000001DAAF679E50>)"
     },
     "execution_count": 43,
     "metadata": {},
     "output_type": "execute_result"
    }
   ],
   "source": [
    "next(data)"
   ]
  },
  {
   "cell_type": "code",
   "execution_count": 44,
   "metadata": {},
   "outputs": [
    {
     "data": {
      "text/plain": "('start', <Element 'row' at 0x000001DAB08FBBD0>)"
     },
     "execution_count": 44,
     "metadata": {},
     "output_type": "execute_result"
    }
   ],
   "source": [
    "next(data)"
   ]
  },
  {
   "cell_type": "code",
   "execution_count": 45,
   "metadata": {},
   "outputs": [
    {
     "data": {
      "text/plain": "('start', <Element 'row' at 0x000001DAB08FBB80>)"
     },
     "execution_count": 45,
     "metadata": {},
     "output_type": "execute_result"
    }
   ],
   "source": [
    "next(data)"
   ]
  },
  {
   "cell_type": "code",
   "execution_count": 46,
   "metadata": {},
   "outputs": [
    {
     "data": {
      "text/plain": "('start', <Element 'creation_date' at 0x000001DAB08FB6D0>)"
     },
     "execution_count": 46,
     "metadata": {},
     "output_type": "execute_result"
    }
   ],
   "source": [
    "next(data)"
   ]
  },
  {
   "cell_type": "code",
   "execution_count": 47,
   "metadata": {},
   "outputs": [
    {
     "data": {
      "text/plain": "('end', <Element 'creation_date' at 0x000001DAB08FB6D0>)"
     },
     "execution_count": 47,
     "metadata": {},
     "output_type": "execute_result"
    }
   ],
   "source": [
    "next(data)"
   ]
  },
  {
   "cell_type": "code",
   "execution_count": 48,
   "metadata": {},
   "outputs": [
    {
     "data": {
      "text/plain": "('start', <Element 'status' at 0x000001DAAE53F040>)"
     },
     "execution_count": 48,
     "metadata": {},
     "output_type": "execute_result"
    }
   ],
   "source": [
    "next(data)"
   ]
  },
  {
   "cell_type": "code",
   "execution_count": 49,
   "metadata": {},
   "outputs": [
    {
     "data": {
      "text/plain": "('end', <Element 'status' at 0x000001DAAE53F040>)"
     },
     "execution_count": 49,
     "metadata": {},
     "output_type": "execute_result"
    }
   ],
   "source": [
    "next(data)"
   ]
  },
  {
   "cell_type": "markdown",
   "metadata": {},
   "source": [
    "Os eventos **start** são criados quando um elemento é criado pela primeira vez, mas ainda não é preenchido com nenhum outro dado (por exemplo, elementos filho). eventos **end** são criados quando um elemento é concluído.\n",
    "\n",
    "Embora não sejam mostrados nesta receita, os eventos **start-ns** e **end-ns** são usados para manipular declarações de namespace XML.\n",
    "\n",
    "Nesta receita, os eventos de **start** e **end** são usados para gerenciar pilhas de elementos e tags. As pilhas representam a estrutura hierárquica atual do documento conforme ele está sendo analisado e também são usadas para determinar se um elemento corresponde ao caminho solicitado fornecido à função **parse_and_remove()** . Se uma correspondência for feita, o rendimento é usado para emiti-lo de volta para o chamador.\n",
    "\n",
    "A seguinte declaração após o **yield** é o recurso principal do **ElementTree** que faz com que essa receita economize memória:\n",
    "~~~python\n",
    "elem_stack[-2].remove(elem)\n",
    "~~~"
   ]
  },
  {
   "cell_type": "markdown",
   "metadata": {},
   "source": [
    "Essa instrução faz com que o elemento gerado anteriormente seja removido de seu pai.Supondo que nenhuma referência seja deixada a ele em nenhum outro lugar, o elemento é destruído e a memória recuperada.\n",
    "\n",
    "O efeito **end** da análise iterativa e a remoção de nós é uma varredura incremental altamente eficiente sobre o documento. Em nenhum momento uma árvore de documentos completa é construída. No entanto, ainda é possível escrever código que processe os dados XML de maneira direta.\n",
    "\n",
    "A principal desvantagem dessa receita é seu desempenho em tempo de execução. Quando testada, a versão do código que lê o documento inteiro na memória primeiro é executada aproximadamente duas vezes mais rápido que a versão que o processa de forma incremental. No entanto, requer mais de 60 vezes mais memória. Portanto, se o uso de memória é uma preocupação maior, a versão incremental é uma grande vitória.\n",
    "\n",
    "## 6.5. Transformando um dicionário em XML\n",
    "#### Problema\n",
    "Você deseja pegar os dados em um dicionário Python e transformá-los em XML.\n",
    "#### Solução\n",
    "Embora a biblioteca `xml.etree.ElementTree` seja comumente usada para análise, ela também pode ser usada para criar documentos XML. Por exemplo, considere esta função:"
   ]
  },
  {
   "cell_type": "code",
   "execution_count": 50,
   "outputs": [],
   "source": [
    "from xml.etree.ElementTree import Element\n",
    "def dict_to_xml(tag, d):\n",
    "    '''\n",
    "    Turn a simple dict of key/value pairs into XML\n",
    "    '''\n",
    "    elem = Element(tag)\n",
    "    for key, val in d.items():\n",
    "        child = Element(key)\n",
    "        child.text = str(val)\n",
    "        elem.append(child)\n",
    "        return elem"
   ],
   "metadata": {
    "collapsed": false
   }
  },
  {
   "cell_type": "markdown",
   "source": [
    "Aqui está um exemplo:"
   ],
   "metadata": {
    "collapsed": false
   }
  },
  {
   "cell_type": "code",
   "execution_count": 51,
   "outputs": [
    {
     "data": {
      "text/plain": "<Element 'stock' at 0x000001DAB090DA40>"
     },
     "execution_count": 51,
     "metadata": {},
     "output_type": "execute_result"
    }
   ],
   "source": [
    "s = { 'name': 'GOOG', 'shares': 100, 'price':490.1 }\n",
    "e = dict_to_xml('stock', s)\n",
    "e"
   ],
   "metadata": {
    "collapsed": false
   }
  },
  {
   "cell_type": "markdown",
   "source": [
    "O resultado dessa conversão é uma ocorrência de Element. Para I/O, é fácil converter isso em uma string de bytes usando a função `tostring()` em `xml.etree.ElementTree`. Por exemplo:"
   ],
   "metadata": {
    "collapsed": false
   }
  },
  {
   "cell_type": "code",
   "execution_count": 52,
   "outputs": [
    {
     "data": {
      "text/plain": "b'<stock><name>GOOG</name></stock>'"
     },
     "execution_count": 52,
     "metadata": {},
     "output_type": "execute_result"
    }
   ],
   "source": [
    "from xml.etree.ElementTree import tostring\n",
    "tostring(e)"
   ],
   "metadata": {
    "collapsed": false
   }
  },
  {
   "cell_type": "markdown",
   "source": [
    "Se você deseja anexar atributos a um elemento, use seu método `set()`:"
   ],
   "metadata": {
    "collapsed": false
   }
  },
  {
   "cell_type": "code",
   "execution_count": 53,
   "outputs": [
    {
     "data": {
      "text/plain": "b'<stock _id=\"1234\"><name>GOOG</name></stock>'"
     },
     "execution_count": 53,
     "metadata": {},
     "output_type": "execute_result"
    }
   ],
   "source": [
    "e.set('_id', '1234')\n",
    "tostring(e)"
   ],
   "metadata": {
    "collapsed": false
   }
  },
  {
   "cell_type": "markdown",
   "source": [
    "Se a ordem dos elementos for importante, considere fazer um `OrderedDict` em vez de um dicionário normal. Ver Receita 1.7.\n",
    "#### Discussão\n",
    "Ao criar XML, você pode estar inclinado a criar apenas strings. Por exemplo:"
   ],
   "metadata": {
    "collapsed": false
   }
  },
  {
   "cell_type": "code",
   "execution_count": 55,
   "outputs": [],
   "source": [
    "def dict_to_xml_str(tag, d):\n",
    "     '''\n",
    "     Turn a simple dict of key/value pairs into XML\n",
    "     '''\n",
    "     parts = ['<{}>'.format(tag)]\n",
    "     for key, val in d.items():\n",
    "         parts.append('<{0}>{1}</{0}>'.format(key,val))\n",
    "         parts.append('</{}>'.format(tag))\n",
    "         return ''.join(parts)"
   ],
   "metadata": {
    "collapsed": false
   }
  },
  {
   "cell_type": "markdown",
   "source": [
    "O problema é que você vai fazer uma verdadeira bagunça para si mesmo se tentar fazer as coisas manualmente. Por exemplo, o que acontece se os valores do dicionário contiverem caracteres especiais como este?"
   ],
   "metadata": {
    "collapsed": false
   }
  },
  {
   "cell_type": "code",
   "execution_count": 56,
   "outputs": [
    {
     "data": {
      "text/plain": "'<item><name><spam></name></item>'"
     },
     "execution_count": 56,
     "metadata": {},
     "output_type": "execute_result"
    }
   ],
   "source": [
    "d = { 'name' : '<spam>' }\n",
    "# String creation\n",
    "dict_to_xml_str('item',d)"
   ],
   "metadata": {
    "collapsed": false
   }
  },
  {
   "cell_type": "code",
   "execution_count": 57,
   "outputs": [
    {
     "data": {
      "text/plain": "b'<item><name>&lt;spam&gt;</name></item>'"
     },
     "execution_count": 57,
     "metadata": {},
     "output_type": "execute_result"
    }
   ],
   "source": [
    "# Proper XML creation\n",
    "e = dict_to_xml('item',d)\n",
    "tostring(e)"
   ],
   "metadata": {
    "collapsed": false
   }
  },
  {
   "cell_type": "markdown",
   "source": [
    "Observe como no último exemplo, os caracteres < e > foram substituídos por  **&lt** e  **&gt**.\n",
    "\n",
    "Apenas para referência, se você precisar escapar manualmente ou remover esses caracteres, poderá usar as funções escape() e unescape() em `xml.sax.saxutils`. Por exemplo:"
   ],
   "metadata": {
    "collapsed": false
   }
  },
  {
   "cell_type": "code",
   "execution_count": 58,
   "outputs": [
    {
     "data": {
      "text/plain": "'&lt;spam&gt;'"
     },
     "execution_count": 58,
     "metadata": {},
     "output_type": "execute_result"
    }
   ],
   "source": [
    "from xml.sax.saxutils import escape, unescape\n",
    "escape('<spam>')"
   ],
   "metadata": {
    "collapsed": false
   }
  },
  {
   "cell_type": "code",
   "execution_count": 59,
   "outputs": [
    {
     "data": {
      "text/plain": "'<spam>'"
     },
     "execution_count": 59,
     "metadata": {},
     "output_type": "execute_result"
    }
   ],
   "source": [
    "unescape('<spam>')"
   ],
   "metadata": {
    "collapsed": false
   }
  },
  {
   "cell_type": "markdown",
   "source": [
    "Além de criar a saída correta, a outra razão pela qual é uma boa ideia criar instâncias de *Element* em vez de strings é que elas podem ser mais facilmente combinadas para criar um documento maior. As instâncias de *Element* resultantes também podem ser processadas de várias maneiras sem a necessidade de se preocupar com a análise do texto XML. Essencialmente, você pode fazer todo o processamento dos dados em um formulário de nível mais alto e, em seguida, exibi-los como uma string no final.\n",
    "\n",
    "## 6.6. Analisando, modificando e reescrevendo XML\n",
    "#### Problema\n",
    "Você deseja ler um documento XML, fazer alterações nele e, em seguida, escrevê-lo novamente como XML.\n",
    "#### Solução\n",
    "O módulo xml.etree.ElementTree facilita a execução dessas tarefas. Essencialmente, você começa analisando o documento da maneira usual. Por exemplo, suponha que você tenha um documento chamado pred.xml semelhante a este:\n",
    "~~~xml\n",
    "<?xml version=\"1.0\"?>\n",
    "<stop>\n",
    "     <id>14791</id>\n",
    "    <nm>Clark &amp; Balmoral</nm>\n",
    "    <sri>\n",
    "        <rt>22</rt>\n",
    "        <d>North Bound</d>\n",
    "        <dd>North Bound</dd>\n",
    "    </sri>\n",
    "    <cr>22</cr>\n",
    "    <pre>\n",
    "        <pt>5 MIN</pt>\n",
    "        <fd>Howard</fd>\n",
    "        <v>1378</v>\n",
    "        <rn>22</rn>\n",
    "    </pre>\n",
    "    <pre>\n",
    "        <pt>15 MIN</pt>\n",
    "        <fd>Howard</fd>\n",
    "        <v>1867</v>\n",
    "        <rn>22</rn>\n",
    "    </pre>\n",
    "</stop>\n",
    "~~~\n"
   ],
   "metadata": {
    "collapsed": false
   }
  },
  {
   "cell_type": "markdown",
   "source": [
    "Aqui está um exemplo de uso do ElementTree para lê-lo e fazer alterações na estrutura:"
   ],
   "metadata": {
    "collapsed": false
   }
  },
  {
   "cell_type": "code",
   "execution_count": 76,
   "outputs": [
    {
     "data": {
      "text/plain": "<Element 'stop' at 0x000001DAB0A0A270>"
     },
     "execution_count": 76,
     "metadata": {},
     "output_type": "execute_result"
    }
   ],
   "source": [
    "from xml.etree.ElementTree import parse, Element\n",
    "doc = parse('pred.xml')\n",
    "root = doc.getroot()\n",
    "root"
   ],
   "metadata": {
    "collapsed": false
   }
  },
  {
   "cell_type": "code",
   "execution_count": 77,
   "outputs": [
    {
     "name": "stderr",
     "output_type": "stream",
     "text": [
      "C:\\Users\\dell\\AppData\\Local\\Temp\\ipykernel_2488\\3972933619.py:6: DeprecationWarning: This method will be removed in future versions.  Use 'list(elem)' or iteration over elem instead.\n",
      "  root.getchildren().index(root.find('nm'))\n"
     ]
    },
    {
     "data": {
      "text/plain": "1"
     },
     "execution_count": 77,
     "metadata": {},
     "output_type": "execute_result"
    }
   ],
   "source": [
    "# Remove a few elements\n",
    "root.remove(root.find('sri'))\n",
    "root.remove(root.find('cr'))\n",
    "\n",
    "# Insert a new element after <nm>...</nm>\n",
    "root.getchildren().index(root.find('nm'))"
   ],
   "metadata": {
    "collapsed": false
   }
  },
  {
   "cell_type": "code",
   "execution_count": 79,
   "outputs": [],
   "source": [
    "e = Element('spam')\n",
    "e.text = 'This is a test'\n",
    "root.insert(2, e)\n",
    "\n",
    "# Write back to a file\n",
    "doc.write('newpred.xml', xml_declaration=True)"
   ],
   "metadata": {
    "collapsed": false
   }
  },
  {
   "cell_type": "markdown",
   "source": [
    "O resultado dessas operações é um novo arquivo XML com a seguinte aparência:\n",
    "~~~xml\n",
    "<?xml version='1.0' encoding='us-ascii'?>\n",
    "<stop>\n",
    "     <id>14791</id>\n",
    "    <nm>Clark &amp; Balmoral</nm>\n",
    "    <spam>This is a test</spam><spam>This is a test</spam><pre>\n",
    "        <pt>5 MIN</pt>\n",
    "        <fd>Howard</fd>\n",
    "        <v>1378</v>\n",
    "        <rn>22</rn>\n",
    "    </pre>\n",
    "    <pre>\n",
    "        <pt>15 MIN</pt>\n",
    "        <fd>Howard</fd>\n",
    "        <v>1867</v>\n",
    "        <rn>22</rn>\n",
    "    </pre>\n",
    "</stop>\n",
    "~~~\n",
    "\n",
    "#### Discussão\n",
    "Modificar a estrutura de um documento XML é simples, mas lembre-se que todas as modificações são geralmente feitas no elemento pai, tratando-o como se fosse uma lista. Por exemplo, se você remover um elemento, ele será removido de seu pai imediato usando o método `remove()` do pai. Se você inserir ou anexar novos elementos, também usará os métodos `insert()` e `append()` no pai. Os elementos também podem ser manipulados usando operações de indexação e divisão, como element[i] ou element[i:j].\n",
    "\n",
    "Se você precisar criar novos elementos, use a classe Element, conforme mostrado na solução desta receita. Isso é descrito mais adiante na Receita 6.5.\n",
    "\n",
    "## 6.7. Analisando documentos XML com namespaces\n",
    "#### Problema\n",
    "Você precisa analisar um documento XML, mas está usando namespaces XML.\n",
    "#### Solução\n",
    "Considere um documento que usa namespaces como este:\n",
    "~~~xml\n",
    "<?xml version=\"1.0\" encoding=\"utf-8\"?>\n",
    "<top>\n",
    "    <author>David Beazley</author>\n",
    "    <content>\n",
    "        <html xmlns=\"http://www.w3.org/1999/xhtml\">\n",
    "            <head>\n",
    "                <title>Hello World</title>\n",
    "            </head>\n",
    "            <body>\n",
    "                <h1>Hello World!</h1>]\n",
    "            </body>\n",
    "        </html>\n",
    "    </content>\n",
    "</top>\n",
    "~~~"
   ],
   "metadata": {
    "collapsed": false
   }
  },
  {
   "cell_type": "code",
   "execution_count": 82,
   "outputs": [
    {
     "data": {
      "text/plain": "'David Beazley'"
     },
     "execution_count": 82,
     "metadata": {},
     "output_type": "execute_result"
    }
   ],
   "source": [
    "from xml.etree.ElementTree import parse, Element\n",
    "\n",
    "doc = parse('file.xml')\n",
    "\n",
    "doc.findtext('author')"
   ],
   "metadata": {
    "collapsed": false
   }
  },
  {
   "cell_type": "code",
   "execution_count": 83,
   "outputs": [
    {
     "data": {
      "text/plain": "<Element 'content' at 0x000001DAB0A3B400>"
     },
     "execution_count": 83,
     "metadata": {},
     "output_type": "execute_result"
    }
   ],
   "source": [
    "doc.find('content')"
   ],
   "metadata": {
    "collapsed": false
   }
  },
  {
   "cell_type": "code",
   "execution_count": 84,
   "outputs": [],
   "source": [
    "# A query involving a namespace (doesn't work)\n",
    "doc.find('content/html')"
   ],
   "metadata": {
    "collapsed": false
   }
  },
  {
   "cell_type": "code",
   "execution_count": 85,
   "outputs": [
    {
     "data": {
      "text/plain": "<Element '{http://www.w3.org/1999/xhtml}html' at 0x000001DAB0A3B5E0>"
     },
     "execution_count": 85,
     "metadata": {},
     "output_type": "execute_result"
    }
   ],
   "source": [
    "# Works if fully qualified\n",
    "doc.find('content/{http://www.w3.org/1999/xhtml}html')"
   ],
   "metadata": {
    "collapsed": false
   }
  },
  {
   "cell_type": "code",
   "execution_count": 87,
   "outputs": [],
   "source": [
    "# Doesn't work\n",
    "doc.findtext('content/{http://www.w3.org/1999/xhtml}html/head/title')"
   ],
   "metadata": {
    "collapsed": false
   }
  },
  {
   "cell_type": "code",
   "execution_count": 88,
   "outputs": [
    {
     "data": {
      "text/plain": "'Hello World'"
     },
     "execution_count": 88,
     "metadata": {},
     "output_type": "execute_result"
    }
   ],
   "source": [
    "# Fully qualified\n",
    "doc.findtext('content/{http://www.w3.org/1999/xhtml}html/{http://www.w3.org/1999/xhtml}head/{http://www.w3.org/1999/xhtml}title')"
   ],
   "metadata": {
    "collapsed": false
   }
  },
  {
   "cell_type": "markdown",
   "source": [
    "Muitas vezes, você pode simplificar as coisas para si mesmo agrupando a manipulação de namespace em uma classe de utilitário."
   ],
   "metadata": {
    "collapsed": false
   }
  },
  {
   "cell_type": "code",
   "execution_count": 90,
   "outputs": [],
   "source": [
    "class XMLNamespaces:\n",
    "    def __init__(self, **kwargs):\n",
    "        self.namespaces = {}\n",
    "        for name, uri in kwargs.items():\n",
    "            self.register(name, uri)\n",
    "    def register(self, name, uri):\n",
    "        self.namespaces[name] = '{'+uri+'}'\n",
    "\n",
    "    def __call__(self, path):\n",
    "        return path.format_map(self.namespaces)"
   ],
   "metadata": {
    "collapsed": false
   }
  },
  {
   "cell_type": "markdown",
   "source": [
    "Para usar esta classe, você faz o seguinte:"
   ],
   "metadata": {
    "collapsed": false
   }
  },
  {
   "cell_type": "code",
   "execution_count": 91,
   "outputs": [
    {
     "data": {
      "text/plain": "<Element '{http://www.w3.org/1999/xhtml}html' at 0x000001DAB0A3B5E0>"
     },
     "execution_count": 91,
     "metadata": {},
     "output_type": "execute_result"
    }
   ],
   "source": [
    "ns = XMLNamespaces(html='http://www.w3.org/1999/xhtml')\n",
    "doc.find(ns('content/{html}html'))"
   ],
   "metadata": {
    "collapsed": false
   }
  },
  {
   "cell_type": "code",
   "execution_count": 92,
   "outputs": [
    {
     "data": {
      "text/plain": "'Hello World'"
     },
     "execution_count": 92,
     "metadata": {},
     "output_type": "execute_result"
    }
   ],
   "source": [
    "doc.findtext(ns('content/{html}html/{html}head/{html}title'))"
   ],
   "metadata": {
    "collapsed": false
   }
  },
  {
   "cell_type": "markdown",
   "source": [
    "#### Discussão\n",
    "A análise de documentos XML que contêm namespaces pode ser complicada. A classe XMLNamespaces destina-se apenas a limpá-la um pouco, permitindo que você use os nomes de namespace abreviados em operações subsequentes, em vez de URIs totalmente qualificados.\n",
    "\n",
    "Infelizmente, não há nenhum mecanismo no analisador ElementTree básico para obter mais informações sobre namespaces. No entanto, você pode obter um pouco mais de informação sobre o escopo do processamento de namespace se estiver disposto a usar a função `iterparse()`. Por exemplo:"
   ],
   "metadata": {
    "collapsed": false
   }
  },
  {
   "cell_type": "code",
   "execution_count": 94,
   "outputs": [
    {
     "name": "stdout",
     "output_type": "stream",
     "text": [
      "end <Element 'author' at 0x000001DAB0A3C810>\n",
      "start-ns ('', 'http://www.w3.org/1999/xhtml')\n",
      "end <Element '{http://www.w3.org/1999/xhtml}title' at 0x000001DAB0A22D10>\n",
      "end <Element '{http://www.w3.org/1999/xhtml}head' at 0x000001DAB0A22E00>\n",
      "end <Element '{http://www.w3.org/1999/xhtml}h1' at 0x000001DAB0A22400>\n",
      "end <Element '{http://www.w3.org/1999/xhtml}body' at 0x000001DAB0A22A40>\n",
      "end <Element '{http://www.w3.org/1999/xhtml}html' at 0x000001DAB0A22D60>\n",
      "end-ns None\n",
      "end <Element 'content' at 0x000001DAB0A3CBD0>\n",
      "end <Element 'top' at 0x000001DAB0A3C6D0>\n"
     ]
    }
   ],
   "source": [
    "from xml.etree.ElementTree import iterparse\n",
    "for evt, elem in iterparse('file.xml', ('end', 'start-ns', 'end-ns')):\n",
    "    print(evt, elem)"
   ],
   "metadata": {
    "collapsed": false
   }
  },
  {
   "cell_type": "code",
   "execution_count": 95,
   "outputs": [
    {
     "data": {
      "text/plain": "<Element 'top' at 0x000001DAB0A3C6D0>"
     },
     "execution_count": 95,
     "metadata": {},
     "output_type": "execute_result"
    }
   ],
   "source": [
    "elem"
   ],
   "metadata": {
    "collapsed": false
   }
  },
  {
   "cell_type": "markdown",
   "source": [
    "Como observação final, se o texto que você está analisando fizer uso de namespaces além de outros recursos avançados de XML, é realmente melhor usar a biblioteca `lxml` em vez de ElementTree. Por exemplo, lxml oferece melhor suporte para validação de documentos em um DTD, suporte XPath mais completo e outros recursos XML avançados. Esta receita é realmente apenas uma correção simples para tornar a análise um pouco mais fácil.\n",
    "## 6.8. Interagindo com um problema de banco de dados relacional\n",
    "Você precisa selecionar, inserir ou excluir linhas em um banco de dados relacional.\n",
    "#### Solução\n",
    "Uma forma padrão de representar linhas de dados em Python é como uma sequência de tuplas. Por exemplo:"
   ],
   "metadata": {
    "collapsed": false
   }
  },
  {
   "cell_type": "code",
   "execution_count": 96,
   "outputs": [],
   "source": [
    "stocks = [\n",
    " ('GOOG', 100, 490.1),\n",
    " ('AAPL', 50, 545.75),\n",
    " ('FB', 150, 7.45),\n",
    " ('HPQ', 75, 33.2),\n",
    "]"
   ],
   "metadata": {
    "collapsed": false
   }
  },
  {
   "cell_type": "markdown",
   "source": [
    "Com os dados neste formato, é relativamente simples interagir com um banco de dados relacional usando a API de banco de dados padrão do Python, conforme descrito em PEP 249. A essência da API é que todas as operações no banco de dados são executadas por consultas SQL. Cada linha de dados de entrada ou saída é representada por uma tupla.\n",
    "\n",
    "Para ilustrar, você pode usar o módulo `sqlite3` que vem com o Python. Se você estiver usando um banco de dados diferente (por exemplo, MySql, Postgres ou ODBC), será necessário instalar uma versão para apoiá-lo. No entanto, a interface de programação subjacente será praticamente a mesma, se não for idêntica.\n",
    "\n",
    "O primeiro passo é se conectar ao banco de dados. Normalmente, você executa uma função `connect()`, fornecendo parâmetros como o nome do banco de dados, hostname, nome de usuário, senha e outros detalhes conforme necessário. Por exemplo:"
   ],
   "metadata": {
    "collapsed": false
   }
  },
  {
   "cell_type": "code",
   "execution_count": 97,
   "outputs": [],
   "source": [
    "import sqlite3\n",
    "db = sqlite3.connect('database.db')"
   ],
   "metadata": {
    "collapsed": false
   }
  },
  {
   "cell_type": "markdown",
   "source": [
    "Para fazer qualquer coisa com os dados, você cria um cursor. Depois de ter um cursor, você pode começar a executar consultas SQL. Por exemplo:"
   ],
   "metadata": {
    "collapsed": false
   }
  },
  {
   "cell_type": "code",
   "execution_count": 98,
   "outputs": [
    {
     "data": {
      "text/plain": "<sqlite3.Cursor at 0x1dab0a777a0>"
     },
     "execution_count": 98,
     "metadata": {},
     "output_type": "execute_result"
    }
   ],
   "source": [
    "c= db.cursor()\n",
    "c.execute('create table portfolio (symbol text, shares integer, price real)')"
   ],
   "metadata": {
    "collapsed": false
   }
  },
  {
   "cell_type": "code",
   "execution_count": 99,
   "outputs": [],
   "source": [
    "db.commit()"
   ],
   "metadata": {
    "collapsed": false
   }
  },
  {
   "cell_type": "markdown",
   "source": [
    "Para inserir uma sequência de linhas nos dados, use uma instrução como esta:"
   ],
   "metadata": {
    "collapsed": false
   }
  },
  {
   "cell_type": "code",
   "execution_count": 100,
   "outputs": [
    {
     "data": {
      "text/plain": "<sqlite3.Cursor at 0x1dab0a777a0>"
     },
     "execution_count": 100,
     "metadata": {},
     "output_type": "execute_result"
    }
   ],
   "source": [
    "c.executemany('insert into portfolio values (?,?,?)', stocks)"
   ],
   "metadata": {
    "collapsed": false
   }
  },
  {
   "cell_type": "markdown",
   "source": [
    "Para realizar uma consulta, use uma instrução como esta:"
   ],
   "metadata": {
    "collapsed": false
   }
  },
  {
   "cell_type": "code",
   "execution_count": 101,
   "outputs": [
    {
     "name": "stdout",
     "output_type": "stream",
     "text": [
      "('GOOG', 100, 490.1)\n",
      "('AAPL', 50, 545.75)\n",
      "('FB', 150, 7.45)\n",
      "('HPQ', 75, 33.2)\n"
     ]
    }
   ],
   "source": [
    "for row in db.execute('select * from portfolio'):\n",
    "    print(row)"
   ],
   "metadata": {
    "collapsed": false
   }
  },
  {
   "cell_type": "markdown",
   "source": [
    "Se você deseja executar consultas que aceitam parâmetros de entrada fornecidos pelo usuário, certifique-se de escapar dos parâmetros usando **?** assim:"
   ],
   "metadata": {
    "collapsed": false
   }
  },
  {
   "cell_type": "code",
   "execution_count": 102,
   "outputs": [
    {
     "name": "stdout",
     "output_type": "stream",
     "text": [
      "('GOOG', 100, 490.1)\n",
      "('AAPL', 50, 545.75)\n"
     ]
    }
   ],
   "source": [
    "min_price = 100\n",
    "for row in db.execute('select * from portfolio where price >= ?', (min_price,)):\n",
    "    print(row)"
   ],
   "metadata": {
    "collapsed": false
   }
  },
  {
   "cell_type": "markdown",
   "source": [
    "#### Discussão\n",
    "Em um nível baixo, interagir com um banco de dados é uma coisa extremamente simples de se fazer. Você simplesmente forma instruções SQL e as alimenta no módulo subjacente para atualizar o banco de dados ou recuperar dados. Dito isso, ainda existem alguns detalhes complicados que você precisará resolver caso a caso.\n",
    "\n",
    "Uma complicação é o mapeamento de dados do banco de dados em tipos Python. Para entradas como datas, é mais comum usar instâncias de data e hora do módulo de data e hora, ou possivelmente carimbos de data e hora do sistema, conforme usado no módulo de hora. Para dados numéricos, especialmente dados financeiros envolvendo decimais, os números podem ser representados como instâncias Decimais do módulo decimal. Infelizmente, o mapeamento exato varia de acordo com o back-end do banco de dados, então você terá que ler a documentação associada.\n",
    "\n",
    "Outra complicação extremamente crítica diz respeito à formação de strings de instrução SQL. Você nunca deve usar operadores de formatação de string do Python (por exemplo, %) ou o método .format() para criar tais strings. Se os valores fornecidos a esses operadores de formatação forem derivados da entrada do usuário, isso abrirá seu programa para um ataque de injeção de SQL (consulte http://xkcd.com/327). O especial ? curinga em consultas instrui o back-end do banco de dados a usar seu próprio mecanismo de substituição de string, o que (espero) fará isso com segurança.\n",
    "\n",
    "Infelizmente, há alguma inconsistência nos back-ends do banco de dados em relação ao curinga. Muitos módulos usam ? ou %s, enquanto outros podem usar um símbolo diferente, como :0 ou :1, para se referir aos parâmetros. Novamente, você terá que consultar a documentação do módulo de banco de dados que está usando. O atributo paramstyle de um módulo de banco de dados também contém informações sobre o estilo de citação.\n",
    "\n",
    "Para simplesmente puxar dados para dentro e para fora de uma tabela de banco de dados, usar a API de banco de dados geralmente é bastante simples. Se você estiver fazendo algo mais complicado, pode fazer sentido usar uma interface de nível superior, como a fornecida por um mapeador objeto-relacional. Bibliotecas como SQLAlchemy permitem que tabelas de banco de dados sejam descritas como classes Python e que operações de banco de dados sejam executadas enquanto ocultam a maior parte do SQL subjacente.\n",
    "\n",
    "## 6.9. Decodificação e Codificação de Dígitos Hexadecimais\n",
    "#### Problema\n",
    "Você precisa decodificar uma string de dígitos hexadecimais em uma string de bytes ou codificar uma string de bytes como hexadecimal.\n",
    "#### Solução\n",
    "Se você simplesmente precisa decodificar ou codificar uma string bruta de dígitos hexadecimais, use o módulo binascii. Por exemplo:"
   ],
   "metadata": {
    "collapsed": false
   }
  },
  {
   "cell_type": "code",
   "execution_count": 103,
   "outputs": [
    {
     "data": {
      "text/plain": "b'68656c6c6f'"
     },
     "execution_count": 103,
     "metadata": {},
     "output_type": "execute_result"
    }
   ],
   "source": [
    "# Initial byte string\n",
    "s = b'hello'\n",
    "\n",
    "# Encode as hex\n",
    "import binascii\n",
    "h = binascii.b2a_hex(s)\n",
    "h"
   ],
   "metadata": {
    "collapsed": false
   }
  },
  {
   "cell_type": "code",
   "execution_count": 104,
   "outputs": [
    {
     "data": {
      "text/plain": "b'hello'"
     },
     "execution_count": 104,
     "metadata": {},
     "output_type": "execute_result"
    }
   ],
   "source": [
    "# Decode back to bytes\n",
    "binascii.a2b_hex(h)"
   ],
   "metadata": {
    "collapsed": false
   }
  },
  {
   "cell_type": "markdown",
   "source": [
    "Funcionalidade semelhante também pode ser encontrada no módulo `base64`. Por exemplo:"
   ],
   "metadata": {
    "collapsed": false
   }
  },
  {
   "cell_type": "code",
   "execution_count": 105,
   "outputs": [
    {
     "data": {
      "text/plain": "b'68656C6C6F'"
     },
     "execution_count": 105,
     "metadata": {},
     "output_type": "execute_result"
    }
   ],
   "source": [
    "import base64\n",
    "h = base64.b16encode(s)\n",
    "h"
   ],
   "metadata": {
    "collapsed": false
   }
  },
  {
   "cell_type": "code",
   "execution_count": 106,
   "outputs": [
    {
     "data": {
      "text/plain": "b'hello'"
     },
     "execution_count": 106,
     "metadata": {},
     "output_type": "execute_result"
    }
   ],
   "source": [
    "base64.b16decode(h)"
   ],
   "metadata": {
    "collapsed": false
   }
  },
  {
   "cell_type": "markdown",
   "source": [
    "#### Discussão\n",
    "Na maioria das vezes, a conversão de e para hex é direta usando as funções mostradas. A principal diferença entre as duas técnicas está na dobragem de caixas. As funções `base64.b16decode()` e `base64.b16encode()` operam apenas com letras hexadecimais maiúsculas, enquanto as funções em `binascii` funcionam com qualquer uma das letras.\n",
    "\n",
    "Também é importante observar que a saída produzida pelas funções de codificação é sempre uma string de bytes. Para coagi-lo para Unicode para saída, pode ser necessário adicionar uma etapa extra de decodificação. Por exemplo:"
   ],
   "metadata": {
    "collapsed": false
   }
  },
  {
   "cell_type": "code",
   "execution_count": 108,
   "outputs": [
    {
     "name": "stdout",
     "output_type": "stream",
     "text": [
      "b'68656C6C6F'\n"
     ]
    }
   ],
   "source": [
    "h == base64.b16encode(s)\n",
    "print(h)"
   ],
   "metadata": {
    "collapsed": false
   }
  },
  {
   "cell_type": "code",
   "execution_count": 109,
   "outputs": [
    {
     "name": "stdout",
     "output_type": "stream",
     "text": [
      "68656C6C6F\n"
     ]
    }
   ],
   "source": [
    "print(h.decode('ascii'))"
   ],
   "metadata": {
    "collapsed": false
   }
  },
  {
   "cell_type": "markdown",
   "source": [
    "Ao decodificar dígitos hexadecimais, as funções b16decode() e a2b_hex() aceitam bytes ou strings unicode. No entanto, essas strings devem conter apenas dígitos hexadecimais codificados em ASCII."
   ],
   "metadata": {
    "collapsed": false
   }
  },
  {
   "cell_type": "markdown",
   "source": [
    "## 6.10. Base de Decodificação e Codificação64\n",
    "#### Problema\n",
    "Você precisa decodificar ou codificar dados binários usando a codificação Base64.\n",
    "#### Solução\n",
    "O módulo base64 tem duas funções — b64encode() e b64decode() — que fazem exatamente o que você deseja. Por exemplo:"
   ],
   "metadata": {
    "collapsed": false
   }
  },
  {
   "cell_type": "code",
   "execution_count": 110,
   "outputs": [
    {
     "data": {
      "text/plain": "b'aGVsbG8='"
     },
     "execution_count": 110,
     "metadata": {},
     "output_type": "execute_result"
    }
   ],
   "source": [
    "# Some byte data\n",
    "s = b'hello'\n",
    "import base64\n",
    "\n",
    "# Encode as Base64\n",
    "a = base64.b64encode(s)\n",
    "a"
   ],
   "metadata": {
    "collapsed": false
   }
  },
  {
   "cell_type": "code",
   "execution_count": 111,
   "outputs": [
    {
     "data": {
      "text/plain": "b'hello'"
     },
     "execution_count": 111,
     "metadata": {},
     "output_type": "execute_result"
    }
   ],
   "source": [
    "# Decode from Base64\n",
    "base64.b64decode(a)"
   ],
   "metadata": {
    "collapsed": false
   }
  },
  {
   "cell_type": "markdown",
   "source": [
    "#### Discussão\n",
    "A codificação Base64 destina-se apenas a ser usada em dados orientados a bytes, como strings de bytes e matrizes de bytes. Além disso, a saída do processo de codificação é sempre uma string de bytes. Se você estiver misturando dados codificados em Base64 com texto Unicode, talvez seja necessário realizar uma etapa extra de decodificação. Por exemplo:"
   ],
   "metadata": {
    "collapsed": false
   }
  },
  {
   "cell_type": "code",
   "execution_count": 112,
   "outputs": [
    {
     "data": {
      "text/plain": "'aGVsbG8='"
     },
     "execution_count": 112,
     "metadata": {},
     "output_type": "execute_result"
    }
   ],
   "source": [
    "a = base64.b64encode(s).decode('ascii')\n",
    "a"
   ],
   "metadata": {
    "collapsed": false
   }
  },
  {
   "cell_type": "markdown",
   "source": [
    "Ao decodificar Base64, tanto strings de bytes quanto strings de texto Unicode podem ser fornecidas. No entanto, strings Unicode podem conter apenas caracteres ASCII.\n",
    "\n",
    "## 6.11. Lendo e escrevendo matrizes binárias de estruturas\n",
    "#### Problema\n",
    "Você deseja ler ou gravar dados codificados como uma matriz binária de estruturas uniformes em tuplas do Python.\n",
    "#### Solução\n",
    "Para trabalhar com dados binários, use o módulo `struct`. Aqui está um exemplo de código que escreve uma lista de tuplas Python em um arquivo binário, codificando cada tupla como uma estrutura usando struct:"
   ],
   "metadata": {
    "collapsed": false
   }
  },
  {
   "cell_type": "code",
   "execution_count": 113,
   "outputs": [],
   "source": [
    "from struct import Struct\n",
    "def write_records(records, format, f):\n",
    "    '''\n",
    "    Write a sequence of tuples to a binary file of structures.\n",
    "     '''\n",
    "    record_struct = Struct(format)\n",
    "    for r in records:\n",
    "        f.write(record_struct.pack(*r))\n",
    "        # Example\n",
    "        if __name__ == '__main__':\n",
    "            records = [ (1, 2.3, 4.5),\n",
    "                        (6, 7.8, 9.0),\n",
    "                        (12, 13.4, 56.7) ]\n",
    "            with open('data.b', 'wb') as f:\n",
    "                write_records(records, '<idd', f)"
   ],
   "metadata": {
    "collapsed": false
   }
  },
  {
   "cell_type": "markdown",
   "source": [
    "Existem várias abordagens para ler esse arquivo de volta em uma lista de tuplas. Primeiro, se você for ler o arquivo de forma incremental em partes, poderá escrever um código como este:\n",
    "\n",
    "~~~python\n",
    "from struct import Struct\n",
    "def read_records(format, f):\n",
    "    record_struct = Struct(format)\n",
    "    chunks = iter(lambda: f.read(record_struct.size), b'')\n",
    "    return (record_struct.unpack(chunk) for chunk in chunks)\n",
    "    # Example\n",
    "\n",
    "# Example\n",
    "if __name__ == '__main__':\n",
    "    with open('data.b', 'rb') as f:\n",
    "        data = f.read()\n",
    "        for rec in unpack_records('<idd', data):\n",
    "    # Process rec\n",
    "    # ...\n",
    "~~~\n",
    "\n",
    "Em ambos os casos, o resultado é um iterável que produz as tuplas originalmente armazenadas quando o arquivo foi criado.\n",
    "\n",
    "#### Discussão"
   ],
   "metadata": {
    "collapsed": false
   }
  }
 ],
 "metadata": {
  "kernelspec": {
   "display_name": "Python 3",
   "language": "python",
   "name": "python3"
  },
  "language_info": {
   "codemirror_mode": {
    "name": "ipython",
    "version": 3
   },
   "file_extension": ".py",
   "mimetype": "text/x-python",
   "name": "python",
   "nbconvert_exporter": "python",
   "pygments_lexer": "ipython3",
   "version": "3.8.5"
  }
 },
 "nbformat": 4,
 "nbformat_minor": 4
}
