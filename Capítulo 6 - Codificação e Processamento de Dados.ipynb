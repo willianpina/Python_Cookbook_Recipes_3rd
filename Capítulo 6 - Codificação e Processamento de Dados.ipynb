{
 "cells": [
  {
   "cell_type": "markdown",
   "metadata": {},
   "source": [
    "<h1 align=center>Capítulo 6</h1>\n",
    "<h2 align=center>Codificação e Processamento de Dados</h2>\n",
    "<p align=center><img src=https://energiainteligenteufjf.com.br/wp-content/uploads/2021/02/curso-insofti-introducao-ao-processamento-de-dados-ipd.jpg width=500></p>"
   ]
  },
  {
   "cell_type": "markdown",
   "metadata": {},
   "source": [
    "O foco principal deste capítulo é usar o Python para processar dados apresentados em diferentes tipos de codificações comuns, como arquivos CSV, JSON, XML e registros compactados em binários. Ao contrário do capítulo sobre estruturas de dados, este capítulo não se concentra em algoritmos específicos, mas no problema de obter e retirar dados de um programa.\n",
    "\n",
    "## 6.1. Lendo e gravando dados CSV\n",
    "\n",
    "**Problema**\n",
    "\n",
    "Você deseja ler ou gravar dados codificados como um arquivo CSV.\n",
    "\n",
    "**Solução**\n",
    "\n",
    "Para a maioria dos tipos de dados CSV, use a biblioteca `csv`. Por exemplo, suponha que você tenha alguns dados do mercado de ações em um arquivo chamado *stocks.csv* assim:\n",
    "~~~python\n",
    " Symbol,Price,Date,Time,Change,Volume\n",
    " \"AA\",39.48,\"6/11/2007\",\"9:36am\",-0.18,181800\n",
    " \"AIG\",71.38,\"6/11/2007\",\"9:36am\",-0.15,195500\n",
    " \"AXP\",62.58,\"6/11/2007\",\"9:36am\",-0.46,935000\n",
    " \"BA\",98.31,\"6/11/2007\",\"9:36am\",+0.12,104800\n",
    " \"C\",53.08,\"6/11/2007\",\"9:36am\",-0.25,360900\n",
    " \"CAT\",78.29,\"6/11/2007\",\"9:36am\",-0.23,225400\n",
    "~~~\n"
   ]
  },
  {
   "cell_type": "code",
   "execution_count": 18,
   "metadata": {},
   "outputs": [
    {
     "name": "stdout",
     "output_type": "stream",
     "text": [
      "[' \"AIG\",71.38,\"6/11/2007\",\"9:36am\",-0.15,195500']\n",
      "[' \"AXP\",62.58,\"6/11/2007\",\"9:36am\",-0.46,935000']\n",
      "[' \"BA\",98.31,\"6/11/2007\",\"9:36am\",+0.12,104800']\n",
      "[' \"C\",53.08,\"6/11/2007\",\"9:36am\",-0.25,360900']\n",
      "[' \"CAT\",78.29,\"6/11/2007\",\"9:36am\",-0.23,225400']\n"
     ]
    }
   ],
   "source": [
    "import csv\n",
    "with open('stocks.csv') as f:\n",
    "    f_csv = csv.reader(f)\n",
    "    headers = next(f_csv)\n",
    "    for row in f_csv:\n",
    "        print(row)"
   ]
  },
  {
   "cell_type": "markdown",
   "metadata": {},
   "source": [
    "No código anterior, *row* será uma tupla. Assim, para acessar determinados campos, você precisará usar indexação, como row[0] (Símbolo) e row[4] (Alterar).\n",
    "Como essa indexação geralmente pode ser confusa, este é um lugar onde você pode querer considerar o uso de tuplas nomeadas. Por exemplo:\n",
    "~~~python\n",
    "from collections import namedtuple\n",
    "with open('stock.csv') as f:\n",
    " f_csv = csv.reader(f)\n",
    " headings = next(f_csv)\n",
    " Row = namedtuple('Row', headings)\n",
    " for r in f_csv:\n",
    " row = Row(*r)\n",
    " # Process row\n",
    " ...\n",
    "~~~\n"
   ]
  },
  {
   "cell_type": "markdown",
   "metadata": {},
   "source": [
    "Isso permitiria que você usasse os cabeçalhos das colunas, como `row.Symbol` e `row.Change`, em vez de índices. Deve-se notar que isso só funciona se os cabeçalhos das colunas forem identificadores Python válidos. Caso contrário, talvez seja necessário massagear os títulos iniciais (por exemplo, substituindo caracteres não identificadores por sublinhados ou similares).\n",
    "\n",
    "Outra alternativa é ler os dados como uma sequência de dicionários. Para isso, use este código:"
   ]
  },
  {
   "cell_type": "code",
   "execution_count": 20,
   "metadata": {},
   "outputs": [
    {
     "name": "stdout",
     "output_type": "stream",
     "text": [
      "Reading as dicts\n",
      "     {'\"AA\",39.48,\"6/11/2007\",\"9:36am\",-0.18,181800': ' \"AIG\",71.38,\"6/11/2007\",\"9:36am\",-0.15,195500'}\n",
      "     {'\"AA\",39.48,\"6/11/2007\",\"9:36am\",-0.18,181800': ' \"AXP\",62.58,\"6/11/2007\",\"9:36am\",-0.46,935000'}\n",
      "     {'\"AA\",39.48,\"6/11/2007\",\"9:36am\",-0.18,181800': ' \"BA\",98.31,\"6/11/2007\",\"9:36am\",+0.12,104800'}\n",
      "     {'\"AA\",39.48,\"6/11/2007\",\"9:36am\",-0.18,181800': ' \"C\",53.08,\"6/11/2007\",\"9:36am\",-0.25,360900'}\n",
      "     {'\"AA\",39.48,\"6/11/2007\",\"9:36am\",-0.18,181800': ' \"CAT\",78.29,\"6/11/2007\",\"9:36am\",-0.23,225400'}\n"
     ]
    }
   ],
   "source": [
    "print('Reading as dicts')\n",
    "with open('stocks.csv') as f:\n",
    "    f_csv = csv.DictReader(f)\n",
    "    for row in f_csv:\n",
    "        # process row\n",
    "        print('    ', row)"
   ]
  },
  {
   "cell_type": "markdown",
   "metadata": {},
   "source": [
    "Nesta versão, você acessaria os elementos de cada linha usando os cabeçalhos de linha. Por exemplo, row['Symbol'] ou row['Change']. \n",
    "\n",
    "Para gravar dados CSV, você também usa o módulo `csv`, mas cria um objeto de gravação. Por exemplo:"
   ]
  },
  {
   "cell_type": "code",
   "execution_count": 21,
   "metadata": {},
   "outputs": [],
   "source": [
    "headers = ['Symbol','Price','Date','Time','Change','Volume']\n",
    "rows = [('AA', 39.48, '6/11/2007', '9:36am', -0.18, 181800),\n",
    "        ('AIG', 71.38, '6/11/2007', '9:36am', -0.15, 195500),\n",
    "        ('AXP', 62.58, '6/11/2007', '9:36am', -0.46, 935000),\n",
    "       ]\n",
    "with open('stocks.csv','w') as f:\n",
    "    f_csv = csv.writer(f)\n",
    "    f_csv.writerow(headers)\n",
    "    f_csv.writerows(rows)"
   ]
  },
  {
   "cell_type": "markdown",
   "metadata": {},
   "source": [
    "Se você tiver os dados como uma sequência de dicionários, faça o seguinte:"
   ]
  },
  {
   "cell_type": "code",
   "execution_count": 22,
   "metadata": {},
   "outputs": [],
   "source": [
    "headers = ['Symbol', 'Price', 'Date', 'Time', 'Change', 'Volume']\n",
    "rows = [{'Symbol':'AA', 'Price':39.48, 'Date':'6/11/2007','Time':'9:36am', 'Change':-0.18, 'Volume':181800},\n",
    "        {'Symbol':'AIG', 'Price': 71.38, 'Date':'6/11/2007','Time':'9:36am', 'Change':-0.15, 'Volume': 195500},\n",
    "        {'Symbol':'AXP', 'Price': 62.58, 'Date':'6/11/2007','Time':'9:36am', 'Change':-0.46, 'Volume': 935000},\n",
    "       ]\n",
    "\n",
    "with open('stocks.csv','w') as f:\n",
    "    f_csv = csv.DictWriter(f, headers)\n",
    "    f_csv.writeheader()\n",
    "    f_csv.writerows(rows)"
   ]
  },
  {
   "cell_type": "markdown",
   "metadata": {},
   "source": [
    "**Discussão**\n",
    "\n",
    "Você quase sempre deve preferir o uso do módulo `csv` em vez de tentar manualmente dividir e analisar os dados CSV. Por exemplo, você pode estar inclinado a apenas escrever algum código como este:"
   ]
  },
  {
   "cell_type": "code",
   "execution_count": 28,
   "metadata": {},
   "outputs": [
    {
     "name": "stdout",
     "output_type": "stream",
     "text": [
      "['Symbol', 'Price', 'Date', 'Time', 'Change', 'Volume\\n']\n",
      "['\\n']\n",
      "['AA', '39.48', '6/11/2007', '9:36am', '-0.18', '181800\\n']\n",
      "['\\n']\n",
      "['AIG', '71.38', '6/11/2007', '9:36am', '-0.15', '195500\\n']\n",
      "['\\n']\n",
      "['AXP', '62.58', '6/11/2007', '9:36am', '-0.46', '935000\\n']\n",
      "['\\n']\n"
     ]
    }
   ],
   "source": [
    "with open('stocks.csv') as f:\n",
    "    for line in f:\n",
    "        row = line.split(',')\n",
    "        print(row)\n",
    "        # process row\n"
   ]
  },
  {
   "cell_type": "markdown",
   "metadata": {},
   "source": [
    "O problema com essa abordagem é que você ainda precisará lidar com alguns detalhes desagradáveis. Por exemplo, se algum dos campos estiver entre aspas, você terá que remover as aspas. Além disso, se um campo entre aspas contiver uma vírgula, o código será interrompido produzindo uma linha com o tamanho errado.\n",
    "\n",
    "Por padrão, a biblioteca `csv` é programada para entender as regras de codificação CSV usadas pelo Microsoft Excel. Esta é provavelmente a variante mais comum e provavelmente lhe dará a melhor compatibilidade. No entanto, se você consultar a documentação do `csv`, verá algumas maneiras de ajustar a codificação para diferentes formatos (por exemplo, alterando o caractere separador etc.). Por exemplo, se você quiser ler dados delimitados por tabulação, use isto:"
   ]
  },
  {
   "cell_type": "code",
   "execution_count": 32,
   "metadata": {},
   "outputs": [
    {
     "name": "stdout",
     "output_type": "stream",
     "text": [
      "['Symbol', 'Price', 'Date', 'Time', 'Change', 'Volume']\n",
      "['AA', '39.48', '6/11/2007', '9:36am', '-0.18', '181800']\n",
      "['AIG', '71.38', '6/11/2007', '9:36am', '-0.15', '195500']\n",
      "['AXP', '62.58', '6/11/2007', '9:36am', '-0.46', '935000']\n",
      "['BA', '98.31', '6/11/2007', '9:36am', '+0.12', '104800']\n",
      "['C', '53.08', '6/11/2007', '9:36am', '-0.25', '360900']\n",
      "['CAT', '78.29', '6/11/2007', '9:36am', '-0.23', '225400']\n"
     ]
    }
   ],
   "source": [
    "# Example of reading tab-separated values\n",
    "with open('stocks.tsv') as f:\n",
    "    f_tsv = csv.reader(f, delimiter='\\t')\n",
    "    for row in f_tsv:\n",
    "        # Process row\n",
    "        print(row)\n"
   ]
  },
  {
   "cell_type": "markdown",
   "metadata": {},
   "source": [
    "Se você estiver lendo dados CSV e convertendo-os em tuplas nomeadas, precisará ter um pouco de cuidado ao validar os cabeçalhos das colunas. Por exemplo, um arquivo CSV pode ter uma linha de cabeçalho contendo caracteres identificadores inválidos como este:\n",
    "~~~python\n",
    "Street Address,Num-Premises,Latitude,Longitude\n",
    "5412 N CLARK,10,41.980262,-87.668452\n",
    "~~~\n",
    "\n",
    "Isso fará com que a criação de uma tupla nomeada falhe com uma exceção `ValueError`. Para contornar isso, talvez seja necessário esfregar os cabeçalhos primeiro. Por exemplo, carregando uma substituição regex em caracteres identificadores inválidos como este:"
   ]
  },
  {
   "cell_type": "code",
   "execution_count": 37,
   "metadata": {},
   "outputs": [],
   "source": [
    "import re\n",
    "with open('stocks.tsv') as f:\n",
    "    f_csv = csv.reader(f, delimiter='\\t')\n",
    "    headers = [ re.sub('[^a-zA-Z_]', '_', h) for h in next(f_csv) ]\n",
    "    Row = namedtuple('Row', headers)\n",
    "    for r in f_csv:\n",
    "        row = Row(*r)"
   ]
  },
  {
   "cell_type": "markdown",
   "metadata": {},
   "source": [
    "Também é importante enfatizar que o `csv` não tenta interpretar os dados ou convertê-los para um tipo diferente de uma *string*. Se essas conversões forem importantes, isso é algo que você precisará fazer sozinho. Aqui está um exemplo de como realizar conversões de tipo extra em dados CSV:"
   ]
  },
  {
   "cell_type": "code",
   "execution_count": 52,
   "metadata": {},
   "outputs": [
    {
     "name": "stdout",
     "output_type": "stream",
     "text": [
      "()\n",
      "('AA', 39.48, '6/11/2007', '9:36am', -0.18, 181800)\n",
      "()\n",
      "('AIG', 71.38, '6/11/2007', '9:36am', -0.15, 195500)\n",
      "()\n",
      "('AXP', 62.58, '6/11/2007', '9:36am', -0.46, 935000)\n",
      "()\n"
     ]
    }
   ],
   "source": [
    "col_types = [str, float, str, str, float, int]\n",
    "with open('stocks.csv') as f:\n",
    "    f_csv = csv.reader(f)\n",
    "    headers = next(f_csv)\n",
    "    for row in f_csv:\n",
    "        # Apply conversions to the row items\n",
    "        row = tuple(convert(value) for convert, value in zip(col_types, row))\n",
    "        print(row)"
   ]
  },
  {
   "cell_type": "markdown",
   "metadata": {},
   "source": [
    "Alternativamente, aqui está um exemplo de conversão de campos selecionados de dicionários:"
   ]
  },
  {
   "cell_type": "code",
   "execution_count": 53,
   "metadata": {},
   "outputs": [
    {
     "name": "stdout",
     "output_type": "stream",
     "text": [
      "Reading as dicts with type conversion\n",
      "{'Symbol': 'AA', 'Price': 39.48, 'Date': '6/11/2007', 'Time': '9:36am', 'Change': -0.18, 'Volume': 181800}\n",
      "{'Symbol': 'AIG', 'Price': 71.38, 'Date': '6/11/2007', 'Time': '9:36am', 'Change': -0.15, 'Volume': 195500}\n",
      "{'Symbol': 'AXP', 'Price': 62.58, 'Date': '6/11/2007', 'Time': '9:36am', 'Change': -0.46, 'Volume': 935000}\n"
     ]
    }
   ],
   "source": [
    "print('Reading as dicts with type conversion')\n",
    "field_types = [ ('Price', float),('Change', float), ('Volume', int)]\n",
    "with open('stocks.csv') as f:\n",
    "    for row in csv.DictReader(f):\n",
    "        row.update((key, conversion(row[key]))\n",
    "                   for key, conversion in field_types)\n",
    "        print(row)"
   ]
  },
  {
   "cell_type": "markdown",
   "metadata": {},
   "source": [
    "Em geral, você provavelmente vai querer ter um pouco de cuidado com essas conversões. No mundo real, é comum que os arquivos CSV tenham valores ausentes, dados corrompidos e outros problemas que interromperiam as conversões de tipo. Portanto, a menos que seus dados sejam garantidos como livres de erros, isso é algo que você precisará considerar (talvez seja necessário adicionar tratamento de exceção adequado).\n",
    "\n",
    "Por fim, se seu objetivo ao ler dados CSV é realizar análises e estatísticas de dados, convém examinar o pacote Pandas. Pandas inclui uma função conveniente `pandas.read_csv()` que carregará dados CSV em um objeto DataFrame. A partir daí, você pode gerar várias estatísticas resumidas, filtrar os dados e realizar outros tipos de operações de alto nível. Um exemplo é dado na Receita 6.13.\n",
    "\n",
    "## 6.2. Lendo e gravando dados JSON\n",
    "\n",
    "**Problema**\n",
    "\n",
    "Você deseja ler ou gravar dados codificados como JSON (JavaScript Object Notation).\n",
    "\n",
    "**Solução**\n",
    "\n",
    "O módulo `json` fornece uma maneira fácil de codificar e decodificar dados em JSON. As duas funções principais são `json.dumps()` e `json.loads()`, espelhando a interface usada em outras bibliotecas de serialização, como `pickle`. Veja como você transforma uma estrutura de dados Python em JSON:"
   ]
  },
  {
   "cell_type": "code",
   "execution_count": 54,
   "metadata": {},
   "outputs": [],
   "source": [
    "import json\n",
    "data = {\n",
    "    'name' : 'ACME',\n",
    "    'shares' : 100,\n",
    "    'price' : 542.23\n",
    "}\n",
    "\n",
    "json_str = json.dumps(data)"
   ]
  },
  {
   "cell_type": "markdown",
   "metadata": {},
   "source": [
    "Veja como você transforma uma string codificada em JSON de volta em uma estrutura de dados Python:"
   ]
  },
  {
   "cell_type": "code",
   "execution_count": 55,
   "metadata": {},
   "outputs": [],
   "source": [
    "data = json.loads(json_str)"
   ]
  },
  {
   "cell_type": "markdown",
   "metadata": {},
   "source": [
    "Se estiver trabalhando com arquivos em vez de strings, você pode usar alternativamente `json.dump()` e `json.load()` para codificar e decodificar dados JSON. Por exemplo:"
   ]
  },
  {
   "cell_type": "code",
   "execution_count": 56,
   "metadata": {},
   "outputs": [],
   "source": [
    "# Writing JSON data\n",
    "with open('data.json', 'w') as f:\n",
    "    json.dump(data, f)"
   ]
  },
  {
   "cell_type": "code",
   "execution_count": 57,
   "metadata": {},
   "outputs": [],
   "source": [
    "# Reading data back\n",
    "with open('data.json', 'r') as f:\n",
    "    data = json.load(f)"
   ]
  },
  {
   "cell_type": "markdown",
   "metadata": {},
   "source": [
    "**Discussão**\n",
    "\n",
    "A codificação JSON oferece suporte aos tipos básicos de **None**, **bool**, **int**, **float** e **str**, bem como listas, tuplas e dicionários que contêm esses tipos. Para dicionários, as chaves são consideradas strings (qualquer chave não string em um dicionário é convertida em strings durante a codificação).Para estar em conformidade com a especificação JSON, você deve codificar apenas listas e dicionários do Python. Além disso, em aplicativos da Web, é prática padrão que o objeto de nível superior seja um dicionário.\n",
    "\n",
    "O formato da codificação JSON é quase idêntico à sintaxe do Python, exceto por algumas pequenas alterações. Por exemplo, `True` é mapeado para **true**, `False` é mapeado para **false** e `None` é mapeado para **null**. Aqui está um exemplo que mostra como a codificação se parece:"
   ]
  },
  {
   "cell_type": "code",
   "execution_count": 58,
   "metadata": {},
   "outputs": [
    {
     "data": {
      "text/plain": [
       "'false'"
      ]
     },
     "execution_count": 58,
     "metadata": {},
     "output_type": "execute_result"
    }
   ],
   "source": [
    "json.dumps(False)"
   ]
  },
  {
   "cell_type": "code",
   "execution_count": 59,
   "metadata": {},
   "outputs": [
    {
     "data": {
      "text/plain": [
       "'{\"a\": true, \"b\": \"Hello\", \"c\": null}'"
      ]
     },
     "execution_count": 59,
     "metadata": {},
     "output_type": "execute_result"
    }
   ],
   "source": [
    "d = {'a': True,\n",
    "     'b': 'Hello',\n",
    "     'c': None}\n",
    "json.dumps(d)"
   ]
  },
  {
   "cell_type": "markdown",
   "metadata": {},
   "source": [
    "Se você estiver tentando examinar os dados que decodificou do JSON, muitas vezes pode ser difícil determinar sua estrutura simplesmente imprimindo-os, especialmente se os dados contiverem um nível profundo de estruturas aninhadas ou muitos campos. Para ajudar com isso, considere usar a função `pprint()` no módulo `pprint`. Isso alfabetizará as chaves e produzirá um dicionário de uma maneira mais sã. Aqui está um exemplo que ilustra como você imprimiria os resultados de uma pesquisa no Twitter:"
   ]
  },
  {
   "cell_type": "code",
   "execution_count": 63,
   "metadata": {},
   "outputs": [
    {
     "name": "stdout",
     "output_type": "stream",
     "text": [
      "[{'boundingbox': ['-3.222', '-1.924', '-60.801', '-59.16'],\n",
      "  'category': 'boundary',\n",
      "  'display_name': 'Manaus, Região Geográfica Imediata de Manaus, Região '\n",
      "                  'Geográfica Intermediária de Manaus, Amazonas, Região Norte, '\n",
      "                  '69000-000, Brasil',\n",
      "  'icon': 'https://nominatim.openstreetmap.org/ui/mapicons/poi_boundary_administrative.p.20.png',\n",
      "  'importance': 0.6822901469283741,\n",
      "  'lat': '-3.1316333',\n",
      "  'licence': 'Data © OpenStreetMap contributors, ODbL 1.0. '\n",
      "             'https://osm.org/copyright',\n",
      "  'lon': '-59.9825041',\n",
      "  'osm_id': 332493,\n",
      "  'osm_type': 'relation',\n",
      "  'place_id': 297367104,\n",
      "  'place_rank': 16,\n",
      "  'type': 'administrative'},\n",
      " {'boundingbox': ['-3.222', '-1.924', '-60.801', '-59.16'],\n",
      "  'category': 'boundary',\n",
      "  'display_name': 'Manaus, Região Geográfica Imediata de Manaus, Região '\n",
      "                  'Geográfica Intermediária de Manaus, Amazonas, Região Norte, '\n",
      "                  '69000-000, Brasil',\n",
      "  'icon': 'https://nominatim.openstreetmap.org/ui/mapicons/poi_boundary_administrative.p.20.png',\n",
      "  'importance': 0.41000000000000003,\n",
      "  'lat': '-2.573',\n",
      "  'licence': 'Data © OpenStreetMap contributors, ODbL 1.0. '\n",
      "             'https://osm.org/copyright',\n",
      "  'lon': '-60.372468061674006',\n",
      "  'osm_id': 6255880,\n",
      "  'osm_type': 'relation',\n",
      "  'place_id': 298883723,\n",
      "  'place_rank': 18,\n",
      "  'type': 'administrative'},\n",
      " {'boundingbox': ['-1.5410701', '-1.5010701', '-46.0290779', '-45.9890779'],\n",
      "  'category': 'place',\n",
      "  'display_name': 'Manaus, Luís Domingues, Região Geográfica Imediata de '\n",
      "                  'Governador Nunes Freire, Região Geográfica Intermediária de '\n",
      "                  'Santa Inês-Bacabal, Maranhão, Região Nordeste, Brasil',\n",
      "  'icon': 'https://nominatim.openstreetmap.org/ui/mapicons/poi_place_village.p.20.png',\n",
      "  'importance': 0.385,\n",
      "  'lat': '-1.5210701',\n",
      "  'licence': 'Data © OpenStreetMap contributors, ODbL 1.0. '\n",
      "             'https://osm.org/copyright',\n",
      "  'lon': '-46.0090779',\n",
      "  'osm_id': 4647841617,\n",
      "  'osm_type': 'node',\n",
      "  'place_id': 53172257,\n",
      "  'place_rank': 19,\n",
      "  'type': 'village'},\n",
      " {'boundingbox': ['-11.1329897', '-11.0929897', '-68.6230167', '-68.5830167'],\n",
      "  'category': 'place',\n",
      "  'display_name': 'Manaus, Epitaciolândia, Região Geográfica Imediata de '\n",
      "                  'Brasiléia, Região Geográfica Intermediária de Rio Branco, '\n",
      "                  'Acre, Região Norte, Brasil',\n",
      "  'icon': 'https://nominatim.openstreetmap.org/ui/mapicons/poi_place_village.p.20.png',\n",
      "  'importance': 0.36,\n",
      "  'lat': '-11.1129897',\n",
      "  'licence': 'Data © OpenStreetMap contributors, ODbL 1.0. '\n",
      "             'https://osm.org/copyright',\n",
      "  'lon': '-68.6030167',\n",
      "  'osm_id': 3809552513,\n",
      "  'osm_type': 'node',\n",
      "  'place_id': 45564349,\n",
      "  'place_rank': 20,\n",
      "  'type': 'hamlet'},\n",
      " {'boundingbox': ['-9.373781', '-9.333781', '-69.934744', '-69.894744'],\n",
      "  'category': 'place',\n",
      "  'display_name': 'Manaus, Manoel Urbano, Região Geográfica Imediata de Sena '\n",
      "                  'Madureira, Região Geográfica Intermediária de Rio Branco, '\n",
      "                  'Acre, Região Norte, Brasil',\n",
      "  'icon': 'https://nominatim.openstreetmap.org/ui/mapicons/poi_place_village.p.20.png',\n",
      "  'importance': 0.36,\n",
      "  'lat': '-9.353781',\n",
      "  'licence': 'Data © OpenStreetMap contributors, ODbL 1.0. '\n",
      "             'https://osm.org/copyright',\n",
      "  'lon': '-69.914744',\n",
      "  'osm_id': 416760249,\n",
      "  'osm_type': 'node',\n",
      "  'place_id': 3139193,\n",
      "  'place_rank': 20,\n",
      "  'type': 'hamlet'},\n",
      " {'boundingbox': ['54.8125528', '54.8450191', '52.9462608', '53.0729952'],\n",
      "  'category': 'waterway',\n",
      "  'display_name': 'Маняус, Агерзе, Агерзинское сельское поселение, '\n",
      "                  'Азнакаевский район, Татарстан, Приволжский федеральный '\n",
      "                  'округ, 423332, Россия',\n",
      "  'importance': 0.282582546755277,\n",
      "  'lat': '54.8288816',\n",
      "  'licence': 'Data © OpenStreetMap contributors, ODbL 1.0. '\n",
      "             'https://osm.org/copyright',\n",
      "  'lon': '53.0160573',\n",
      "  'osm_id': 192219914,\n",
      "  'osm_type': 'way',\n",
      "  'place_id': 150443725,\n",
      "  'place_rank': 19,\n",
      "  'type': 'river'},\n",
      " {'boundingbox': ['25.2035461', '25.2060466', '55.1627647', '55.1659216'],\n",
      "  'category': 'place',\n",
      "  'display_name': 'ماناوس, دبي, الإمارات العربية المتحدة',\n",
      "  'importance': 0.25,\n",
      "  'lat': '25.204849199999998',\n",
      "  'licence': 'Data © OpenStreetMap contributors, ODbL 1.0. '\n",
      "             'https://osm.org/copyright',\n",
      "  'lon': '55.16389272585206',\n",
      "  'osm_id': 9641826,\n",
      "  'osm_type': 'relation',\n",
      "  'place_id': 299102404,\n",
      "  'place_rank': 20,\n",
      "  'type': 'islet'},\n",
      " {'boundingbox': ['-33.8157766', '-33.8155161', '-70.7416601', '-70.7403156'],\n",
      "  'category': 'highway',\n",
      "  'display_name': 'Manaus, Colonia San Pablo, Paine, Provincia de Maipo, '\n",
      "                  'Región Metropolitana de Santiago, Chile',\n",
      "  'importance': 0.21,\n",
      "  'lat': '-33.8156207',\n",
      "  'licence': 'Data © OpenStreetMap contributors, ODbL 1.0. '\n",
      "             'https://osm.org/copyright',\n",
      "  'lon': '-70.7411199',\n",
      "  'osm_id': 85509942,\n",
      "  'osm_type': 'way',\n",
      "  'place_id': 124473038,\n",
      "  'place_rank': 26,\n",
      "  'type': 'residential'},\n",
      " {'boundingbox': ['-3.0418864', '-3.0417864', '-60.0521299', '-60.0520299'],\n",
      "  'category': 'man_made',\n",
      "  'display_name': 'Manaus, Rua Maracanã, Redenção, Manaus, Região Geográfica '\n",
      "                  'Imediata de Manaus, Região Geográfica Intermediária de '\n",
      "                  'Manaus, Amazonas, Região Norte, 69000-000, Brasil',\n",
      "  'importance': 0.11010000000000002,\n",
      "  'lat': '-3.0418364',\n",
      "  'licence': 'Data © OpenStreetMap contributors, ODbL 1.0. '\n",
      "             'https://osm.org/copyright',\n",
      "  'lon': '-60.0520799',\n",
      "  'osm_id': 4792611159,\n",
      "  'osm_type': 'node',\n",
      "  'place_id': 55421930,\n",
      "  'place_rank': 30,\n",
      "  'type': 'tower'},\n",
      " {'boundingbox': ['4.704509', '4.704609', '-74.124304', '-74.124204'],\n",
      "  'category': 'amenity',\n",
      "  'display_name': 'Manaus, Calle 70, UPZs Localidad Engativá, Localidad '\n",
      "                  'Engativá, Bogotá, Bogotá, Distrito Capital, 111041, '\n",
      "                  'Colombia',\n",
      "  'icon': 'https://nominatim.openstreetmap.org/ui/mapicons/food_restaurant.p.20.png',\n",
      "  'importance': 0.11010000000000002,\n",
      "  'lat': '4.704559',\n",
      "  'licence': 'Data © OpenStreetMap contributors, ODbL 1.0. '\n",
      "             'https://osm.org/copyright',\n",
      "  'lon': '-74.124254',\n",
      "  'osm_id': 5186319381,\n",
      "  'osm_type': 'node',\n",
      "  'place_id': 57801650,\n",
      "  'place_rank': 30,\n",
      "  'type': 'restaurant'}]\n"
     ]
    }
   ],
   "source": [
    "from urllib.request import urlopen\n",
    "import json\n",
    "u = urlopen('https://nominatim.openstreetmap.org/search.php?q=Manaus&format=jsonv2')\n",
    "resp = json.loads(u.read().decode('utf-8'))\n",
    "from pprint import pprint\n",
    "pprint(resp)"
   ]
  },
  {
   "cell_type": "markdown",
   "metadata": {},
   "source": [
    "Normalmente, a decodificação JSON criará dicts ou listas a partir dos dados fornecidos. Se você deseja criar diferentes tipos de objetos, forneça o *object_pairs_hook* ou *object_hook* para `json.loads()`. Por exemplo, aqui está como você decodificaria dados JSON, preservando sua ordem em um `OrderedDict`:"
   ]
  },
  {
   "cell_type": "code",
   "execution_count": 64,
   "metadata": {},
   "outputs": [
    {
     "data": {
      "text/plain": [
       "OrderedDict([('name', 'ACME'), ('shares', 50), ('price', 490.1)])"
      ]
     },
     "execution_count": 64,
     "metadata": {},
     "output_type": "execute_result"
    }
   ],
   "source": [
    "s = '{\"name\": \"ACME\", \"shares\": 50, \"price\": 490.1}'\n",
    "from collections import OrderedDict\n",
    "data = json.loads(s, object_pairs_hook=OrderedDict)\n",
    "data"
   ]
  },
  {
   "cell_type": "markdown",
   "metadata": {},
   "source": [
    "Aqui está como você pode transformar um dicionário JSON em um objeto Python:"
   ]
  },
  {
   "cell_type": "code",
   "execution_count": 65,
   "metadata": {},
   "outputs": [],
   "source": [
    "class JSONObject:\n",
    "    def __init__(self, d):\n",
    "        self.__dict__ = d"
   ]
  },
  {
   "cell_type": "code",
   "execution_count": 66,
   "metadata": {},
   "outputs": [],
   "source": [
    "data = json.loads(s, object_hook=JSONObject)"
   ]
  },
  {
   "cell_type": "code",
   "execution_count": 67,
   "metadata": {},
   "outputs": [
    {
     "data": {
      "text/plain": [
       "'ACME'"
      ]
     },
     "execution_count": 67,
     "metadata": {},
     "output_type": "execute_result"
    }
   ],
   "source": [
    " data.name"
   ]
  },
  {
   "cell_type": "code",
   "execution_count": 68,
   "metadata": {},
   "outputs": [
    {
     "data": {
      "text/plain": [
       "50"
      ]
     },
     "execution_count": 68,
     "metadata": {},
     "output_type": "execute_result"
    }
   ],
   "source": [
    " data.shares"
   ]
  },
  {
   "cell_type": "code",
   "execution_count": 69,
   "metadata": {},
   "outputs": [
    {
     "data": {
      "text/plain": [
       "490.1"
      ]
     },
     "execution_count": 69,
     "metadata": {},
     "output_type": "execute_result"
    }
   ],
   "source": [
    "data.price"
   ]
  },
  {
   "cell_type": "markdown",
   "metadata": {},
   "source": [
    "Neste último exemplo, o dicionário criado pela decodificação dos dados JSON é passado como um único argumento para `__init__()`. A partir daí, você está livre para usá-lo como quiser, como usá-lo diretamente como o dicionário de instância do objeto.\n",
    "Existem algumas opções que podem ser úteis para codificar JSON. Se você quiser que a saída seja bem formatada, você pode usar o argumento `indent` para `json.dumps()`. Isso faz com que a saída seja bem impressa em um formato semelhante ao da função `pprint()`. Por exemplo:"
   ]
  },
  {
   "cell_type": "code",
   "execution_count": 71,
   "metadata": {},
   "outputs": [
    {
     "name": "stdout",
     "output_type": "stream",
     "text": [
      "{\"name\": \"ACME\", \"shares\": 100, \"price\": 542.23}\n"
     ]
    }
   ],
   "source": [
    "data = {\n",
    "    'name' : 'ACME',\n",
    "    'shares' : 100,\n",
    "    'price' : 542.23\n",
    "}\n",
    "\n",
    "print(json.dumps(data))"
   ]
  },
  {
   "cell_type": "code",
   "execution_count": 72,
   "metadata": {},
   "outputs": [
    {
     "name": "stdout",
     "output_type": "stream",
     "text": [
      "{\n",
      "    \"name\": \"ACME\",\n",
      "    \"shares\": 100,\n",
      "    \"price\": 542.23\n",
      "}\n"
     ]
    }
   ],
   "source": [
    "print(json.dumps(data, indent=4))"
   ]
  },
  {
   "cell_type": "markdown",
   "metadata": {},
   "source": [
    "Se você quiser que as chaves sejam classificadas na saída, use o argumento `sort_keys`:"
   ]
  },
  {
   "cell_type": "code",
   "execution_count": 73,
   "metadata": {},
   "outputs": [
    {
     "name": "stdout",
     "output_type": "stream",
     "text": [
      "{\"name\": \"ACME\", \"price\": 542.23, \"shares\": 100}\n"
     ]
    }
   ],
   "source": [
    "print(json.dumps(data, sort_keys=True))"
   ]
  },
  {
   "cell_type": "markdown",
   "metadata": {},
   "source": [
    "As instâncias normalmente não são serializáveis como JSON. Por exemplo:"
   ]
  },
  {
   "cell_type": "code",
   "execution_count": 74,
   "metadata": {},
   "outputs": [],
   "source": [
    "class Point:\n",
    "    def __init__(self, x, y):\n",
    "        self.x = x\n",
    "        self.y = y\n",
    "        \n",
    "p = Point(2, 3)"
   ]
  },
  {
   "cell_type": "markdown",
   "metadata": {},
   "source": [
    "~~~python\n",
    "json.dumps(p)\n",
    "Traceback (most recent call last):\n",
    " File \"<stdin>\", line 1, in <module>\n",
    " File \"/usr/local/lib/python3.3/json/__init__.py\", line 226, in dumps\n",
    " return _default_encoder.encode(obj)\n",
    " File \"/usr/local/lib/python3.3/json/encoder.py\", line 187, in encode\n",
    " chunks = self.iterencode(o, _one_shot=True)\n",
    " File \"/usr/local/lib/python3.3/json/encoder.py\", line 245, in iterencode\n",
    " return _iterencode(o, 0)\n",
    " File \"/usr/local/lib/python3.3/json/encoder.py\", line 169, in default\n",
    " raise TypeError(repr(o) + \" is not JSON serializable\")\n",
    "TypeError: <__main__.Point object at 0x1006f2650> is not JSON serializable\n",
    ">>>\n",
    "~~~"
   ]
  },
  {
   "cell_type": "markdown",
   "metadata": {},
   "source": [
    "Se você deseja serializar instâncias, pode fornecer uma função que recebe uma instância como entrada e retorna um dicionário que pode ser serializado. Por exemplo:"
   ]
  },
  {
   "cell_type": "code",
   "execution_count": 77,
   "metadata": {},
   "outputs": [],
   "source": [
    "def serialize_instance(obj):\n",
    "    d = { '__classname__' : type(obj).__name__ }\n",
    "    d.update(vars(obj))\n",
    "    return d"
   ]
  },
  {
   "cell_type": "markdown",
   "metadata": {},
   "source": [
    "Se você quiser obter uma instância de volta, você pode escrever um código como este:"
   ]
  },
  {
   "cell_type": "code",
   "execution_count": 78,
   "metadata": {},
   "outputs": [],
   "source": [
    "# Dictionary mapping names to known classes\n",
    "classes = {\n",
    "    'Point' : Point\n",
    "}\n",
    "\n",
    "def unserialize_object(d):\n",
    "    clsname = d.pop('__classname__', None)\n",
    "    if clsname:\n",
    "        cls = classes[clsname]\n",
    "        obj = cls.__new__(cls) # Make instance without calling __init__\n",
    "        for key, value in d.items():\n",
    "            setattr(obj, key, value)\n",
    "            return obj\n",
    "        else:\n",
    "            return d\n"
   ]
  },
  {
   "cell_type": "markdown",
   "metadata": {},
   "source": [
    "Aqui está um exemplo de como essas funções são usadas:"
   ]
  },
  {
   "cell_type": "code",
   "execution_count": 80,
   "metadata": {},
   "outputs": [
    {
     "data": {
      "text/plain": [
       "'{\"__classname__\": \"Point\", \"x\": 2, \"y\": 3}'"
      ]
     },
     "execution_count": 80,
     "metadata": {},
     "output_type": "execute_result"
    }
   ],
   "source": [
    "p = Point(2,3)\n",
    "s = json.dumps(p, default=serialize_instance)\n",
    "s"
   ]
  },
  {
   "cell_type": "code",
   "execution_count": 82,
   "metadata": {},
   "outputs": [
    {
     "data": {
      "text/plain": [
       "<__main__.Point at 0x15098cb6520>"
      ]
     },
     "execution_count": 82,
     "metadata": {},
     "output_type": "execute_result"
    }
   ],
   "source": [
    "a = json.loads(s, object_hook=unserialize_object)\n",
    "a"
   ]
  },
  {
   "cell_type": "code",
   "execution_count": 83,
   "metadata": {},
   "outputs": [
    {
     "data": {
      "text/plain": [
       "2"
      ]
     },
     "execution_count": 83,
     "metadata": {},
     "output_type": "execute_result"
    }
   ],
   "source": [
    "a.x"
   ]
  },
  {
   "cell_type": "code",
   "execution_count": 85,
   "metadata": {},
   "outputs": [
    {
     "ename": "AttributeError",
     "evalue": "'Point' object has no attribute 'y'",
     "output_type": "error",
     "traceback": [
      "\u001b[1;31m---------------------------------------------------------------------------\u001b[0m",
      "\u001b[1;31mAttributeError\u001b[0m                            Traceback (most recent call last)",
      "\u001b[1;32m<ipython-input-85-59a3db86364c>\u001b[0m in \u001b[0;36m<module>\u001b[1;34m\u001b[0m\n\u001b[1;32m----> 1\u001b[1;33m \u001b[0ma\u001b[0m\u001b[1;33m.\u001b[0m\u001b[0my\u001b[0m\u001b[1;33m\u001b[0m\u001b[1;33m\u001b[0m\u001b[0m\n\u001b[0m",
      "\u001b[1;31mAttributeError\u001b[0m: 'Point' object has no attribute 'y'"
     ]
    }
   ],
   "source": [
    "a.y"
   ]
  },
  {
   "cell_type": "code",
   "execution_count": null,
   "metadata": {},
   "outputs": [],
   "source": []
  },
  {
   "cell_type": "code",
   "execution_count": null,
   "metadata": {},
   "outputs": [],
   "source": []
  },
  {
   "cell_type": "code",
   "execution_count": null,
   "metadata": {},
   "outputs": [],
   "source": []
  }
 ],
 "metadata": {
  "kernelspec": {
   "display_name": "Python 3",
   "language": "python",
   "name": "python3"
  },
  "language_info": {
   "codemirror_mode": {
    "name": "ipython",
    "version": 3
   },
   "file_extension": ".py",
   "mimetype": "text/x-python",
   "name": "python",
   "nbconvert_exporter": "python",
   "pygments_lexer": "ipython3",
   "version": "3.8.5"
  }
 },
 "nbformat": 4,
 "nbformat_minor": 4
}
