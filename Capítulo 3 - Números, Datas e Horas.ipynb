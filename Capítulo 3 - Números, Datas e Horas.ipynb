{
 "cells": [
  {
   "cell_type": "markdown",
   "metadata": {
    "pycharm": {
     "name": ""
    }
   },
   "source": [
    "<h1 align=center>Capítulo 3</h1>\n",
    "<h2 align=center>Número, Datas e Horas</h2>\n",
    "<p align=center><img src=https://www.korntraducoes.com.br/wp-content/uploads/2019/07/Numeros_horarios_datas_endere%C3%A7os_tradu%C3%A7%C3%B5es_korn_traducoes.jpg width=500></p>"
   ]
  },
  {
   "cell_type": "markdown",
   "metadata": {},
   "source": [
    "Realizar cálculos matemáticos com números inteiros e de ponto flutuante é fácil em Python. No entanto, se você precisar realizar cálculos com frações, matrizes ou datas e horas, será necessário um pouco mais de trabalho. O foco deste capítulo são esses tópicos.\n",
    "\n",
    "## 3.1. Arredondando Valores Numéricos\n",
    "\n",
    "**Problema**\n",
    "Você deseja arredondar um número de ponto flutuante para um número fixo de casas decimais.\n",
    "\n",
    "**Solução**\n",
    "Para arredondamento simples, use a função `round(value, ndigits)` embutida. Por exemplo:"
   ]
  },
  {
   "cell_type": "code",
   "execution_count": 1,
   "metadata": {},
   "outputs": [
    {
     "data": {
      "text/plain": [
       "1.2"
      ]
     },
     "execution_count": 1,
     "metadata": {},
     "output_type": "execute_result"
    }
   ],
   "source": [
    "round(1.23, 1)"
   ]
  },
  {
   "cell_type": "code",
   "execution_count": 2,
   "metadata": {},
   "outputs": [
    {
     "data": {
      "text/plain": [
       "1.3"
      ]
     },
     "execution_count": 2,
     "metadata": {},
     "output_type": "execute_result"
    }
   ],
   "source": [
    "round(1.27, 1)"
   ]
  },
  {
   "cell_type": "code",
   "execution_count": 3,
   "metadata": {},
   "outputs": [
    {
     "data": {
      "text/plain": [
       "-1.3"
      ]
     },
     "execution_count": 3,
     "metadata": {},
     "output_type": "execute_result"
    }
   ],
   "source": [
    "round(-1.27, 1)"
   ]
  },
  {
   "cell_type": "code",
   "execution_count": 4,
   "metadata": {},
   "outputs": [
    {
     "data": {
      "text/plain": [
       "1.254"
      ]
     },
     "execution_count": 4,
     "metadata": {},
     "output_type": "execute_result"
    }
   ],
   "source": [
    "round(1.25361,3)"
   ]
  },
  {
   "cell_type": "markdown",
   "metadata": {},
   "source": [
    "Quando um valor está exatamente na metade entre duas opções, o comportamento de arredondar é arredondar para o dígito par mais próximo. Ou seja, valores como 1.5 ou 2.5 são arredondados para 2.\n",
    "\n",
    "O número de dígitos dado a `round()` pode ser negativo, caso em que o arredondamento ocorre para dezenas, centenas, milhares e assim por diante. Por exemplo:"
   ]
  },
  {
   "cell_type": "code",
   "execution_count": 5,
   "metadata": {},
   "outputs": [
    {
     "data": {
      "text/plain": [
       "1627730"
      ]
     },
     "execution_count": 5,
     "metadata": {},
     "output_type": "execute_result"
    }
   ],
   "source": [
    "a = 1627731\n",
    "round(a, -1)"
   ]
  },
  {
   "cell_type": "code",
   "execution_count": 6,
   "metadata": {},
   "outputs": [
    {
     "data": {
      "text/plain": [
       "1627700"
      ]
     },
     "execution_count": 6,
     "metadata": {},
     "output_type": "execute_result"
    }
   ],
   "source": [
    "round(a, -2)"
   ]
  },
  {
   "cell_type": "code",
   "execution_count": 7,
   "metadata": {},
   "outputs": [
    {
     "data": {
      "text/plain": [
       "1628000"
      ]
     },
     "execution_count": 7,
     "metadata": {},
     "output_type": "execute_result"
    }
   ],
   "source": [
    "round(a, -3)"
   ]
  },
  {
   "cell_type": "markdown",
   "metadata": {},
   "source": [
    "**Discussão**\n",
    "\n",
    "Não confunda arredondamento com formatação de um valor para saída. Se seu objetivo é simplesmente produzir um valor numérico com um certo número de casas decimais, você normalmente não precisa usar `round()`. Em vez disso, basta especificar a precisão desejada ao formatar. Por exemplo:"
   ]
  },
  {
   "cell_type": "code",
   "execution_count": 8,
   "metadata": {},
   "outputs": [
    {
     "data": {
      "text/plain": [
       "'1.23'"
      ]
     },
     "execution_count": 8,
     "metadata": {},
     "output_type": "execute_result"
    }
   ],
   "source": [
    "x = 1.23456\n",
    "format(x, '0.2f')"
   ]
  },
  {
   "cell_type": "code",
   "execution_count": 9,
   "metadata": {},
   "outputs": [
    {
     "data": {
      "text/plain": [
       "'1.235'"
      ]
     },
     "execution_count": 9,
     "metadata": {},
     "output_type": "execute_result"
    }
   ],
   "source": [
    "format(x, '0.3f')"
   ]
  },
  {
   "cell_type": "code",
   "execution_count": 10,
   "metadata": {},
   "outputs": [
    {
     "data": {
      "text/plain": [
       "'value is 1.235'"
      ]
     },
     "execution_count": 10,
     "metadata": {},
     "output_type": "execute_result"
    }
   ],
   "source": [
    "'value is {:0.3f}'.format(x)"
   ]
  },
  {
   "cell_type": "markdown",
   "metadata": {},
   "source": [
    "Além disso, resista ao desejo de arredondar números de ponto flutuante para “corrigir” problemas de precisão percebidos. Por exemplo, você pode estar inclinado a fazer isso:"
   ]
  },
  {
   "cell_type": "code",
   "execution_count": 11,
   "metadata": {},
   "outputs": [
    {
     "data": {
      "text/plain": [
       "6.300000000000001"
      ]
     },
     "execution_count": 11,
     "metadata": {},
     "output_type": "execute_result"
    }
   ],
   "source": [
    "a = 2.1\n",
    "b = 4.2\n",
    "c = a + b\n",
    "c"
   ]
  },
  {
   "cell_type": "code",
   "execution_count": 12,
   "metadata": {},
   "outputs": [
    {
     "data": {
      "text/plain": [
       "6.3"
      ]
     },
     "execution_count": 12,
     "metadata": {},
     "output_type": "execute_result"
    }
   ],
   "source": [
    "c = round(c, 2) # \"Fix\" result (???)\n",
    "c"
   ]
  },
  {
   "cell_type": "markdown",
   "metadata": {},
   "source": [
    "Para a maioria dos aplicativos que envolvem ponto flutuante, simplesmente não é necessário (ou recomendado) fazer isso. Embora existam pequenos erros introduzidos nos cálculos, o comportamento desses erros é compreendido e tolerado. Se evitar tais erros for importante (por exemplo, em aplicações financeiras, talvez), considere o uso do módulo `decimal`, que é discutido na próxima receita."
   ]
  },
  {
   "cell_type": "markdown",
   "metadata": {},
   "source": [
    "## 3.2. Executando Cálculos Decimais Precisos\n",
    "\n",
    "**Problema**\n",
    "\n",
    "Você precisa realizar cálculos precisos com números decimais e não quer os pequenos erros que ocorrem naturalmente com floats.\n",
    "\n",
    "**Solução**\n",
    "\n",
    "Um problema bem conhecido com números de ponto flutuante é que eles não podem representar com precisão todos os decimais de base 10. Além disso, mesmo cálculos matemáticos simples introduzem pequenos erros. Por exemplo:"
   ]
  },
  {
   "cell_type": "code",
   "execution_count": 13,
   "metadata": {},
   "outputs": [
    {
     "data": {
      "text/plain": [
       "6.300000000000001"
      ]
     },
     "execution_count": 13,
     "metadata": {},
     "output_type": "execute_result"
    }
   ],
   "source": [
    "a = 4.2\n",
    "b = 2.1\n",
    "a + b"
   ]
  },
  {
   "cell_type": "code",
   "execution_count": 14,
   "metadata": {},
   "outputs": [
    {
     "data": {
      "text/plain": [
       "False"
      ]
     },
     "execution_count": 14,
     "metadata": {},
     "output_type": "execute_result"
    }
   ],
   "source": [
    "(a + b) == 6.3"
   ]
  },
  {
   "cell_type": "markdown",
   "metadata": {},
   "source": [
    "Esses erros são um “recurso” da CPU subjacente e da aritmética IEEE 754 realizada por sua unidade de ponto flutuante. Como o tipo de dados float do Python armazena dados usando a representação nativa, não há nada que você possa fazer para evitar esses erros se escrever seu código usando instâncias float.\n",
    "\n",
    "Se você deseja mais precisão (e está disposto a desistir de algum desempenho), pode usar o módulo `decimal`:"
   ]
  },
  {
   "cell_type": "code",
   "execution_count": 15,
   "metadata": {},
   "outputs": [
    {
     "data": {
      "text/plain": [
       "Decimal('6.3')"
      ]
     },
     "execution_count": 15,
     "metadata": {},
     "output_type": "execute_result"
    }
   ],
   "source": [
    "from decimal import Decimal\n",
    "a = Decimal('4.2')\n",
    "b = Decimal('2.1')\n",
    "a + b"
   ]
  },
  {
   "cell_type": "code",
   "execution_count": 16,
   "metadata": {},
   "outputs": [
    {
     "name": "stdout",
     "output_type": "stream",
     "text": [
      "6.3\n"
     ]
    }
   ],
   "source": [
    "print(a + b)"
   ]
  },
  {
   "cell_type": "code",
   "execution_count": 17,
   "metadata": {},
   "outputs": [
    {
     "data": {
      "text/plain": [
       "True"
      ]
     },
     "execution_count": 17,
     "metadata": {},
     "output_type": "execute_result"
    }
   ],
   "source": [
    "(a + b) == Decimal('6.3')"
   ]
  },
  {
   "cell_type": "markdown",
   "metadata": {},
   "source": [
    "À primeira vista, pode parecer um pouco estranho (ou seja, especificar números como strings). No entanto, os objetos `Decimal` funcionam de todas as maneiras que você esperaria (suportando todas as operações matemáticas usuais, etc.). Se você imprimi-los ou usá-los em funções de formatação de strings, eles se parecerão com números normais.\n",
    "\n",
    "Uma característica importante do `decimal` é que ele permite controlar diferentes aspectos dos cálculos, incluindo número de dígitos e arredondamento. Para fazer isso, você cria um contexto local e altera suas configurações. Por exemplo:"
   ]
  },
  {
   "cell_type": "code",
   "execution_count": 18,
   "metadata": {},
   "outputs": [
    {
     "name": "stdout",
     "output_type": "stream",
     "text": [
      "0.7647058823529411764705882353\n"
     ]
    }
   ],
   "source": [
    "from decimal import localcontext\n",
    "a = Decimal('1.3')\n",
    "b = Decimal('1.7')\n",
    "print(a / b)"
   ]
  },
  {
   "cell_type": "code",
   "execution_count": 19,
   "metadata": {},
   "outputs": [
    {
     "name": "stdout",
     "output_type": "stream",
     "text": [
      "0.765\n"
     ]
    }
   ],
   "source": [
    "with localcontext() as ctx:\n",
    "    ctx.prec = 3\n",
    "    print(a / b)"
   ]
  },
  {
   "cell_type": "code",
   "execution_count": 20,
   "metadata": {},
   "outputs": [
    {
     "name": "stdout",
     "output_type": "stream",
     "text": [
      "0.76470588235294117647058823529411764705882352941176\n"
     ]
    }
   ],
   "source": [
    "with localcontext() as ctx:\n",
    "    ctx.prec = 50\n",
    "    print(a / b)"
   ]
  },
  {
   "cell_type": "markdown",
   "metadata": {},
   "source": [
    "**Discussão**\n",
    "\n",
    "O módulo `decimal` implementa a “Especificação Aritmética Decimal Geral” da IBM. Desnecessário dizer que há um grande número de opções de configuração que estão além do escopo deste livro.\n",
    "\n",
    "Os recém-chegados ao Python podem estar inclinados a usar o módulo `decimal` para solucionar problemas de precisão percebidos com o tipo de dados `float`. No entanto, é muito importante entender o domínio do seu aplicativo. Se você estiver trabalhando com problemas de ciência ou engenharia, computação gráfica ou a maioria das coisas de natureza científica, é simplesmente mais comum usar o tipo normal de ponto flutuante. Por um lado, muito poucas coisas no mundo real são medidas com os 17 dígitos de precisão que os flutuadores fornecem. Assim, pequenos erros introduzidos nos cálculos simplesmente não importam. Em segundo lugar, o desempenho de floats nativos é significativamente mais rápido - algo importante se você estiver realizando um grande número de cálculos.\n",
    "\n",
    "Dito isso, você não pode ignorar os erros completamente. Os matemáticos passaram muito tempo estudando vários algoritmos, e alguns lidam com erros melhor do que outros. Você também precisa ter um pouco de cuidado com os efeitos devido a coisas como cancelamento subtrativo e adição de números grandes e pequenos. Por exemplo:"
   ]
  },
  {
   "cell_type": "code",
   "execution_count": 21,
   "metadata": {},
   "outputs": [
    {
     "data": {
      "text/plain": [
       "0.0"
      ]
     },
     "execution_count": 21,
     "metadata": {},
     "output_type": "execute_result"
    }
   ],
   "source": [
    "nums = [1.23e+18, 1, -1.23e+18]\n",
    "sum(nums) # Notice how 1 disappears"
   ]
  },
  {
   "cell_type": "markdown",
   "metadata": {},
   "source": [
    "Este último exemplo pode ser resolvido usando uma implementação mais precisa em `math.fsum()`:"
   ]
  },
  {
   "cell_type": "code",
   "execution_count": 22,
   "metadata": {},
   "outputs": [
    {
     "data": {
      "text/plain": [
       "1.0"
      ]
     },
     "execution_count": 22,
     "metadata": {},
     "output_type": "execute_result"
    }
   ],
   "source": [
    "import math\n",
    "math.fsum(nums)"
   ]
  },
  {
   "cell_type": "markdown",
   "metadata": {},
   "source": [
    "No entanto, para outros algoritmos, você realmente precisa estudar o algoritmo e entender suas propriedades de propagação de erro.\n",
    "\n",
    "Tudo isso dito, o principal uso do módulo decimal é em programas que envolvem coisas como finanças. Nesses programas, é extremamente irritante ter pequenos erros no cálculo. Assim, decimal fornece uma maneira de evitar isso. Também é comum encontrar objetos Decimal quando o Python faz interface com bancos de dados – novamente, especialmente ao acessar dados financeiros.\n",
    "\n",
    "## 3.3. Formatando Números para Saída\n",
    "\n",
    "**Problema**\n",
    "\n",
    "Você precisa formatar um número para saída, controlando o número de dígitos, alinhamento, inclusão de um separador de milhares e outros detalhes.\n",
    "\n",
    "**Solução**\n",
    "\n",
    "Para formatar um único número para saída, use a função `format()` integrada. Por exemplo:"
   ]
  },
  {
   "cell_type": "code",
   "execution_count": 23,
   "metadata": {},
   "outputs": [
    {
     "data": {
      "text/plain": [
       "'1234.57'"
      ]
     },
     "execution_count": 23,
     "metadata": {},
     "output_type": "execute_result"
    }
   ],
   "source": [
    "x = 1234.56789\n",
    "# Dois decimais\n",
    "format(x, '0.2f')"
   ]
  },
  {
   "cell_type": "code",
   "execution_count": 24,
   "metadata": {},
   "outputs": [
    {
     "data": {
      "text/plain": [
       "'    1234.6'"
      ]
     },
     "execution_count": 24,
     "metadata": {},
     "output_type": "execute_result"
    }
   ],
   "source": [
    "# Justificado Direita 10 caracteres\n",
    "format(x, '>10.1f')"
   ]
  },
  {
   "cell_type": "code",
   "execution_count": 25,
   "metadata": {},
   "outputs": [
    {
     "data": {
      "text/plain": [
       "'1234.6    '"
      ]
     },
     "execution_count": 25,
     "metadata": {},
     "output_type": "execute_result"
    }
   ],
   "source": [
    "# Esquerda justificado \n",
    "format(x, '<10.1f')"
   ]
  },
  {
   "cell_type": "code",
   "execution_count": 26,
   "metadata": {},
   "outputs": [
    {
     "data": {
      "text/plain": [
       "'  1234.6  '"
      ]
     },
     "execution_count": 26,
     "metadata": {},
     "output_type": "execute_result"
    }
   ],
   "source": [
    "# Centralizado\n",
    "format(x, '^10.1f')"
   ]
  },
  {
   "cell_type": "code",
   "execution_count": 27,
   "metadata": {},
   "outputs": [
    {
     "data": {
      "text/plain": [
       "'1,234.56789'"
      ]
     },
     "execution_count": 27,
     "metadata": {},
     "output_type": "execute_result"
    }
   ],
   "source": [
    "# Inclusão de milhar\n",
    "format(x, ',')"
   ]
  },
  {
   "cell_type": "code",
   "execution_count": 28,
   "metadata": {},
   "outputs": [
    {
     "data": {
      "text/plain": [
       "'1,234.6'"
      ]
     },
     "execution_count": 28,
     "metadata": {},
     "output_type": "execute_result"
    }
   ],
   "source": [
    ">>> format(x, '0,.1f')"
   ]
  },
  {
   "cell_type": "markdown",
   "metadata": {},
   "source": [
    "Se você quiser usar a notação exponencial, altere o `f` para um `e` ou `E`, dependendo do caso que deseja usar para o especificador exponencial. Por exemplo:"
   ]
  },
  {
   "cell_type": "code",
   "execution_count": 29,
   "metadata": {},
   "outputs": [
    {
     "data": {
      "text/plain": [
       "'1.234568e+03'"
      ]
     },
     "execution_count": 29,
     "metadata": {},
     "output_type": "execute_result"
    }
   ],
   "source": [
    "format(x, 'e')"
   ]
  },
  {
   "cell_type": "code",
   "execution_count": 30,
   "metadata": {},
   "outputs": [
    {
     "data": {
      "text/plain": [
       "'1.23E+03'"
      ]
     },
     "execution_count": 30,
     "metadata": {},
     "output_type": "execute_result"
    }
   ],
   "source": [
    "format(x, '0.2E')"
   ]
  },
  {
   "cell_type": "markdown",
   "metadata": {},
   "source": [
    "A forma geral de largura e precisão em ambos os casos é **'\\[<>^\\]?width\\[,\\]?(.digits)?'** onde largura e dígitos são inteiros e `?` significa peças opcionais. Os mesmos códigos de formato também são usados no método `.format()` de strings. Por exemplo:"
   ]
  },
  {
   "cell_type": "code",
   "execution_count": 31,
   "metadata": {},
   "outputs": [
    {
     "data": {
      "text/plain": [
       "'The value is 1,234.57'"
      ]
     },
     "execution_count": 31,
     "metadata": {},
     "output_type": "execute_result"
    }
   ],
   "source": [
    "'The value is {:0,.2f}'.format(x)"
   ]
  },
  {
   "cell_type": "markdown",
   "metadata": {},
   "source": [
    "**Discussão**\n",
    "\n",
    "A formatação de números para saída geralmente é simples. A técnica mostrada funciona tanto para números de ponto flutuante quanto para números decimais no módulo decimal. Quando o número de dígitos é restrito, os valores são arredondados de acordo com as mesmas regras da função `round()`. Por exemplo:"
   ]
  },
  {
   "cell_type": "code",
   "execution_count": 32,
   "metadata": {},
   "outputs": [
    {
     "data": {
      "text/plain": [
       "1234.56789"
      ]
     },
     "execution_count": 32,
     "metadata": {},
     "output_type": "execute_result"
    }
   ],
   "source": [
    "x"
   ]
  },
  {
   "cell_type": "code",
   "execution_count": 33,
   "metadata": {},
   "outputs": [
    {
     "data": {
      "text/plain": [
       "'1234.6'"
      ]
     },
     "execution_count": 33,
     "metadata": {},
     "output_type": "execute_result"
    }
   ],
   "source": [
    "format(x, '0.1f')"
   ]
  },
  {
   "cell_type": "code",
   "execution_count": 34,
   "metadata": {},
   "outputs": [
    {
     "data": {
      "text/plain": [
       "'-1234.6'"
      ]
     },
     "execution_count": 34,
     "metadata": {},
     "output_type": "execute_result"
    }
   ],
   "source": [
    "format(-x, '0.1f')"
   ]
  },
  {
   "cell_type": "markdown",
   "metadata": {},
   "source": [
    "A formatação de valores com um separador de milhares não reconhece a localidade. Se você precisar levar isso em consideração, poderá investigar funções no módulo `locale`. Você também pode trocar caracteres separadores usando o método `translate()` de strings. Por exemplo:"
   ]
  },
  {
   "cell_type": "code",
   "execution_count": 35,
   "metadata": {},
   "outputs": [
    {
     "data": {
      "text/plain": [
       "'1.234,56789'"
      ]
     },
     "execution_count": 35,
     "metadata": {},
     "output_type": "execute_result"
    }
   ],
   "source": [
    "swap_separators = { ord('.'):',', ord(','):'.' }\n",
    "format(x, ',').translate(swap_separators)"
   ]
  },
  {
   "cell_type": "markdown",
   "metadata": {},
   "source": [
    "Em muitos códigos Python, os números são formatados usando o operador `%`. Por exemplo:"
   ]
  },
  {
   "cell_type": "code",
   "execution_count": 36,
   "metadata": {},
   "outputs": [
    {
     "data": {
      "text/plain": [
       "'1234.57'"
      ]
     },
     "execution_count": 36,
     "metadata": {},
     "output_type": "execute_result"
    }
   ],
   "source": [
    "'%0.2f' % x"
   ]
  },
  {
   "cell_type": "code",
   "execution_count": 37,
   "metadata": {},
   "outputs": [
    {
     "data": {
      "text/plain": [
       "'    1234.6'"
      ]
     },
     "execution_count": 37,
     "metadata": {},
     "output_type": "execute_result"
    }
   ],
   "source": [
    "'%10.1f' % x"
   ]
  },
  {
   "cell_type": "code",
   "execution_count": 38,
   "metadata": {},
   "outputs": [
    {
     "data": {
      "text/plain": [
       "'1234.6    '"
      ]
     },
     "execution_count": 38,
     "metadata": {},
     "output_type": "execute_result"
    }
   ],
   "source": [
    "'%-10.1f' % x"
   ]
  },
  {
   "cell_type": "markdown",
   "metadata": {},
   "source": [
    "Essa formatação ainda é aceitável, mas menos poderosa que o método `format()` mais moderno. Por exemplo, alguns recursos (por exemplo, adicionar separadores de milhares) não são suportados ao usar o operador `%` para formatar números."
   ]
  },
  {
   "cell_type": "markdown",
   "metadata": {},
   "source": [
    "## 3.4. Trabalhando com números inteiros binários, octais e hexadecimais\n",
    "\n",
    "**Problema**\n",
    "\n",
    "Você precisa converter ou gerar números inteiros representados por dígitos binários, octais ou hexadecimais.\n",
    "\n",
    "**Solução**\n",
    "\n",
    "Para converter um inteiro em uma string de texto binária, octal ou hexadecimal, use as funções `bin()`, `oct()` ou `hex()`, respectivamente:"
   ]
  },
  {
   "cell_type": "code",
   "execution_count": 39,
   "metadata": {},
   "outputs": [],
   "source": [
    "x = 1234"
   ]
  },
  {
   "cell_type": "code",
   "execution_count": 40,
   "metadata": {},
   "outputs": [
    {
     "data": {
      "text/plain": [
       "'0b10011010010'"
      ]
     },
     "execution_count": 40,
     "metadata": {},
     "output_type": "execute_result"
    }
   ],
   "source": [
    "bin(x)"
   ]
  },
  {
   "cell_type": "code",
   "execution_count": 41,
   "metadata": {},
   "outputs": [
    {
     "data": {
      "text/plain": [
       "'0o2322'"
      ]
     },
     "execution_count": 41,
     "metadata": {},
     "output_type": "execute_result"
    }
   ],
   "source": [
    "oct(x)"
   ]
  },
  {
   "cell_type": "code",
   "execution_count": 42,
   "metadata": {},
   "outputs": [
    {
     "data": {
      "text/plain": [
       "'0x4d2'"
      ]
     },
     "execution_count": 42,
     "metadata": {},
     "output_type": "execute_result"
    }
   ],
   "source": [
    "hex(x)"
   ]
  },
  {
   "cell_type": "markdown",
   "metadata": {},
   "source": [
    "Como alternativa, você pode usar a função `format()` se não quiser que os prefixos 0b, 0o ou 0x apareçam. Por exemplo:"
   ]
  },
  {
   "cell_type": "code",
   "execution_count": 43,
   "metadata": {},
   "outputs": [
    {
     "data": {
      "text/plain": [
       "'10011010010'"
      ]
     },
     "execution_count": 43,
     "metadata": {},
     "output_type": "execute_result"
    }
   ],
   "source": [
    "format(x, 'b')"
   ]
  },
  {
   "cell_type": "code",
   "execution_count": 44,
   "metadata": {},
   "outputs": [
    {
     "data": {
      "text/plain": [
       "'2322'"
      ]
     },
     "execution_count": 44,
     "metadata": {},
     "output_type": "execute_result"
    }
   ],
   "source": [
    "format(x, 'o')"
   ]
  },
  {
   "cell_type": "code",
   "execution_count": 45,
   "metadata": {},
   "outputs": [
    {
     "data": {
      "text/plain": [
       "'4d2'"
      ]
     },
     "execution_count": 45,
     "metadata": {},
     "output_type": "execute_result"
    }
   ],
   "source": [
    "format(x, 'x')"
   ]
  },
  {
   "cell_type": "markdown",
   "metadata": {},
   "source": [
    "Os inteiros são assinados, portanto, se você estiver trabalhando com números negativos, a saída também incluirá um sinal. Por exemplo:"
   ]
  },
  {
   "cell_type": "code",
   "execution_count": 46,
   "metadata": {},
   "outputs": [
    {
     "data": {
      "text/plain": [
       "'-10011010010'"
      ]
     },
     "execution_count": 46,
     "metadata": {},
     "output_type": "execute_result"
    }
   ],
   "source": [
    "x = -1234\n",
    "format(x, 'b')"
   ]
  },
  {
   "cell_type": "code",
   "execution_count": 47,
   "metadata": {},
   "outputs": [
    {
     "data": {
      "text/plain": [
       "'-4d2'"
      ]
     },
     "execution_count": 47,
     "metadata": {},
     "output_type": "execute_result"
    }
   ],
   "source": [
    "format(x, 'x')"
   ]
  },
  {
   "cell_type": "markdown",
   "metadata": {},
   "source": [
    "Se você precisar produzir um valor sem sinal, precisará adicionar o valor máximo para definir o comprimento do bit. Por exemplo, para mostrar um valor de 32 bits, use o seguinte:"
   ]
  },
  {
   "cell_type": "code",
   "execution_count": 48,
   "metadata": {},
   "outputs": [
    {
     "data": {
      "text/plain": [
       "'11111111111111111111101100101110'"
      ]
     },
     "execution_count": 48,
     "metadata": {},
     "output_type": "execute_result"
    }
   ],
   "source": [
    "x = -1234\n",
    "format(2**32 + x, 'b')"
   ]
  },
  {
   "cell_type": "code",
   "execution_count": 49,
   "metadata": {},
   "outputs": [
    {
     "data": {
      "text/plain": [
       "'fffffb2e'"
      ]
     },
     "execution_count": 49,
     "metadata": {},
     "output_type": "execute_result"
    }
   ],
   "source": [
    "format(2**32 + x, 'x')"
   ]
  },
  {
   "cell_type": "markdown",
   "metadata": {},
   "source": [
    "Para converter strings inteiras em bases diferentes, basta usar a função `int()` com uma base apropriada. Por exemplo:"
   ]
  },
  {
   "cell_type": "code",
   "execution_count": 50,
   "metadata": {},
   "outputs": [
    {
     "data": {
      "text/plain": [
       "1234"
      ]
     },
     "execution_count": 50,
     "metadata": {},
     "output_type": "execute_result"
    }
   ],
   "source": [
    "int('4d2', 16)"
   ]
  },
  {
   "cell_type": "code",
   "execution_count": 51,
   "metadata": {},
   "outputs": [
    {
     "data": {
      "text/plain": [
       "1234"
      ]
     },
     "execution_count": 51,
     "metadata": {},
     "output_type": "execute_result"
    }
   ],
   "source": [
    "int('10011010010', 2)"
   ]
  },
  {
   "cell_type": "markdown",
   "metadata": {},
   "source": [
    "**Discussão**\n",
    "\n",
    "Na maioria das vezes, trabalhar com inteiros binários, octais e hexadecimais é simples. Apenas lembre-se de que essas conversões dizem respeito apenas à conversão de inteiros de e para uma representação textual. Nos bastidores, há apenas um tipo inteiro. Finalmente, há um cuidado para os programadores que usam octal. A sintaxe do Python para especificar valores octais é um pouco diferente de muitas outras linguagens. Por exemplo, se você tentar algo assim, receberá um erro de sintaxe:\n",
    "~~~python\n",
    "import os\n",
    "os.chmod('script.py', 0755)\n",
    "    File \"<stdin>\", line 1\n",
    "      os.chmod('script.py', 0755)\n",
    " SyntaxError: invalid token                            ^\n",
    "~~~\n",
    "Certifique-se de prefixar o valor octal com `0o`, conforme mostrado aqui:"
   ]
  },
  {
   "cell_type": "code",
   "execution_count": 52,
   "metadata": {},
   "outputs": [],
   "source": [
    "import os\n",
    "os.chmod('somefile.txt', 0o755)"
   ]
  },
  {
   "cell_type": "markdown",
   "metadata": {},
   "source": [
    "## 3.5. Empacotando e desempacotando grandes números inteiros de bytes\n",
    "\n",
    "**Problema**\n",
    "\n",
    "Você tem uma string de bytes e precisa descompactá-la em um valor inteiro. Como alternativa, você precisa converter um número inteiro grande de volta em uma string de bytes.\n",
    "\n",
    "**Solução**\n",
    "\n",
    "Suponha que seu programa precise trabalhar com uma cadeia de bytes de 16 elementos que contenha um valor inteiro de 128 bits. Por exemplo:"
   ]
  },
  {
   "cell_type": "code",
   "execution_count": 53,
   "metadata": {},
   "outputs": [],
   "source": [
    "data = b'\\x00\\x124V\\x00x\\x90\\xab\\x00\\xcd\\xef\\x01\\x00#\\x004'"
   ]
  },
  {
   "cell_type": "markdown",
   "metadata": {},
   "source": [
    "Para interpretar os bytes como um inteiro, use `int.from_bytes()` e especifique a ordem dos bytes assim:"
   ]
  },
  {
   "cell_type": "code",
   "execution_count": 54,
   "metadata": {},
   "outputs": [
    {
     "data": {
      "text/plain": [
       "16"
      ]
     },
     "execution_count": 54,
     "metadata": {},
     "output_type": "execute_result"
    }
   ],
   "source": [
    "len(data)"
   ]
  },
  {
   "cell_type": "code",
   "execution_count": 55,
   "metadata": {},
   "outputs": [
    {
     "data": {
      "text/plain": [
       "69120565665751139577663547927094891008"
      ]
     },
     "execution_count": 55,
     "metadata": {},
     "output_type": "execute_result"
    }
   ],
   "source": [
    "int.from_bytes(data, 'little')"
   ]
  },
  {
   "cell_type": "code",
   "execution_count": 56,
   "metadata": {},
   "outputs": [
    {
     "data": {
      "text/plain": [
       "94522842520747284487117727783387188"
      ]
     },
     "execution_count": 56,
     "metadata": {},
     "output_type": "execute_result"
    }
   ],
   "source": [
    "int.from_bytes(data,'big')"
   ]
  },
  {
   "cell_type": "markdown",
   "metadata": {},
   "source": [
    "Para converter um valor inteiro grande de volta em uma string de bytes, use o método `int.to_bytes()`, especificando o número de bytes e a ordem dos bytes. Por exemplo:"
   ]
  },
  {
   "cell_type": "code",
   "execution_count": 57,
   "metadata": {},
   "outputs": [
    {
     "data": {
      "text/plain": [
       "b'\\x00\\x124V\\x00x\\x90\\xab\\x00\\xcd\\xef\\x01\\x00#\\x004'"
      ]
     },
     "execution_count": 57,
     "metadata": {},
     "output_type": "execute_result"
    }
   ],
   "source": [
    "x = 94522842520747284487117727783387188\n",
    "x.to_bytes(16,'big')"
   ]
  },
  {
   "cell_type": "code",
   "execution_count": 58,
   "metadata": {},
   "outputs": [
    {
     "data": {
      "text/plain": [
       "b'4\\x00#\\x00\\x01\\xef\\xcd\\x00\\xab\\x90x\\x00V4\\x12\\x00'"
      ]
     },
     "execution_count": 58,
     "metadata": {},
     "output_type": "execute_result"
    }
   ],
   "source": [
    "x.to_bytes(16,'little')"
   ]
  },
  {
   "cell_type": "markdown",
   "metadata": {},
   "source": [
    "**Discussão**\n",
    "\n",
    "Converter valores inteiros grandes de e para strings de bytes não é uma operação comum. No entanto, às vezes surge em certos domínios de aplicativos, como criptografia ou rede. Por exemplo, os endereços de rede IPv6 são representados como inteiros de 128 bits. Se você estiver escrevendo um código que precisa extrair esses valores de um registro de dados, poderá enfrentar esse problema.\n",
    "\n",
    "Como alternativa a esta receita, você pode estar inclinado a descompactar valores usando o módulo `struct`, conforme descrito na Receita 6.11. Isso funciona, mas o tamanho dos inteiros que podem ser descompactados com `struct` é limitado. Assim, você precisaria descompactar vários valores e combiná-los para criar o valor final. Por exemplo:"
   ]
  },
  {
   "cell_type": "code",
   "execution_count": 59,
   "metadata": {},
   "outputs": [
    {
     "data": {
      "text/plain": [
       "b'\\x00\\x124V\\x00x\\x90\\xab\\x00\\xcd\\xef\\x01\\x00#\\x004'"
      ]
     },
     "execution_count": 59,
     "metadata": {},
     "output_type": "execute_result"
    }
   ],
   "source": [
    "data"
   ]
  },
  {
   "cell_type": "code",
   "execution_count": 60,
   "metadata": {},
   "outputs": [],
   "source": [
    "import struct\n",
    "hi, lo = struct.unpack('>QQ',data)"
   ]
  },
  {
   "cell_type": "code",
   "execution_count": 61,
   "metadata": {},
   "outputs": [
    {
     "data": {
      "text/plain": [
       "94522842520747284487117727783387188"
      ]
     },
     "execution_count": 61,
     "metadata": {},
     "output_type": "execute_result"
    }
   ],
   "source": [
    "(hi<<64) + lo"
   ]
  },
  {
   "cell_type": "markdown",
   "metadata": {},
   "source": [
    "A especificação da ordem dos bytes (**little** ou **big**) apenas indica se os bytes que compõem o valor inteiro estão listados do menos para o mais significativo ou vice-versa. Isso é fácil de visualizar usando um valor hexadecimal cuidadosamente elaborado:"
   ]
  },
  {
   "cell_type": "code",
   "execution_count": 62,
   "metadata": {},
   "outputs": [
    {
     "data": {
      "text/plain": [
       "b'\\x01\\x02\\x03\\x04'"
      ]
     },
     "execution_count": 62,
     "metadata": {},
     "output_type": "execute_result"
    }
   ],
   "source": [
    "x = 0x01020304\n",
    "x.to_bytes(4, 'big')"
   ]
  },
  {
   "cell_type": "code",
   "execution_count": 63,
   "metadata": {},
   "outputs": [
    {
     "data": {
      "text/plain": [
       "b'\\x04\\x03\\x02\\x01'"
      ]
     },
     "execution_count": 63,
     "metadata": {},
     "output_type": "execute_result"
    }
   ],
   "source": [
    "x.to_bytes(4, 'little')"
   ]
  },
  {
   "cell_type": "markdown",
   "metadata": {},
   "source": [
    "Se você tentar empacotar um inteiro em uma string de bytes, mas não caber, você receberá um erro. Você pode usar o método `int.bit_length()` para determinar quantos bits são necessários para armazenar um valor, se necessário:"
   ]
  },
  {
   "cell_type": "code",
   "execution_count": 64,
   "metadata": {},
   "outputs": [
    {
     "data": {
      "text/plain": [
       "335381300113661875107536852714019056160355655333978849017944067"
      ]
     },
     "execution_count": 64,
     "metadata": {},
     "output_type": "execute_result"
    }
   ],
   "source": [
    "x = 523 ** 23\n",
    "x"
   ]
  },
  {
   "cell_type": "markdown",
   "metadata": {},
   "source": [
    "~~~python\n",
    "x.to_bytes(16, 'little')\n",
    "Traceback (most recent call last):\n",
    "    File \"<stdin>\", line 1, in <module>\n",
    " OverflowError: int too big to convert\n",
    "~~~"
   ]
  },
  {
   "cell_type": "code",
   "execution_count": 65,
   "metadata": {},
   "outputs": [
    {
     "data": {
      "text/plain": [
       "208"
      ]
     },
     "execution_count": 65,
     "metadata": {},
     "output_type": "execute_result"
    }
   ],
   "source": [
    "x.bit_length()"
   ]
  },
  {
   "cell_type": "code",
   "execution_count": 66,
   "metadata": {},
   "outputs": [
    {
     "data": {
      "text/plain": [
       "b'\\x03X\\xf1\\x82iT\\x96\\xac\\xc7c\\x16\\xf3\\xb9\\xcf\\x18\\xee\\xec\\x91\\xd1\\x98\\xa2\\xc8\\xd9R\\xb5\\xd0'"
      ]
     },
     "execution_count": 66,
     "metadata": {},
     "output_type": "execute_result"
    }
   ],
   "source": [
    "nbytes, rem = divmod(x.bit_length(), 8)\n",
    "if rem:\n",
    "    nbytes += 1\n",
    "\n",
    "x.to_bytes(nbytes, 'little')"
   ]
  },
  {
   "cell_type": "markdown",
   "metadata": {},
   "source": [
    "## 3.6. Executando matemática de valor complexo\n",
    "\n",
    "**Problema**\n",
    "\n",
    "Seu código para interagir com o esquema de autenticação da Web mais recente encontrou uma singularidade e sua única solução é contorná-lo no plano complexo. Ou talvez você só precise realizar alguns cálculos usando números complexos.\n",
    "\n",
    "**Solução**\n",
    "\n",
    "Números complexos podem ser especificados usando a função `complex(real, imag)` ou por números de ponto flutuante com um sufixo j. Por exemplo:"
   ]
  },
  {
   "cell_type": "code",
   "execution_count": 67,
   "metadata": {},
   "outputs": [
    {
     "data": {
      "text/plain": [
       "(2+4j)"
      ]
     },
     "execution_count": 67,
     "metadata": {},
     "output_type": "execute_result"
    }
   ],
   "source": [
    "a = complex(2, 4)\n",
    "b = 3 - 5j\n",
    "a"
   ]
  },
  {
   "cell_type": "code",
   "execution_count": 68,
   "metadata": {},
   "outputs": [
    {
     "data": {
      "text/plain": [
       "(3-5j)"
      ]
     },
     "execution_count": 68,
     "metadata": {},
     "output_type": "execute_result"
    }
   ],
   "source": [
    "b"
   ]
  },
  {
   "cell_type": "markdown",
   "metadata": {},
   "source": [
    "Os valores reais, imaginários e conjugados são fáceis de obter, como mostrado aqui:"
   ]
  },
  {
   "cell_type": "code",
   "execution_count": 69,
   "metadata": {},
   "outputs": [
    {
     "data": {
      "text/plain": [
       "2.0"
      ]
     },
     "execution_count": 69,
     "metadata": {},
     "output_type": "execute_result"
    }
   ],
   "source": [
    "a.real"
   ]
  },
  {
   "cell_type": "code",
   "execution_count": 70,
   "metadata": {},
   "outputs": [
    {
     "data": {
      "text/plain": [
       "4.0"
      ]
     },
     "execution_count": 70,
     "metadata": {},
     "output_type": "execute_result"
    }
   ],
   "source": [
    "a.imag"
   ]
  },
  {
   "cell_type": "code",
   "execution_count": 71,
   "metadata": {},
   "outputs": [
    {
     "data": {
      "text/plain": [
       "(2-4j)"
      ]
     },
     "execution_count": 71,
     "metadata": {},
     "output_type": "execute_result"
    }
   ],
   "source": [
    "a.conjugate()"
   ]
  },
  {
   "cell_type": "markdown",
   "metadata": {},
   "source": [
    "Além disso, todos os operadores matemáticos usuais funcionam:"
   ]
  },
  {
   "cell_type": "code",
   "execution_count": 72,
   "metadata": {},
   "outputs": [
    {
     "data": {
      "text/plain": [
       "(5-1j)"
      ]
     },
     "execution_count": 72,
     "metadata": {},
     "output_type": "execute_result"
    }
   ],
   "source": [
    "a + b"
   ]
  },
  {
   "cell_type": "code",
   "execution_count": 73,
   "metadata": {},
   "outputs": [
    {
     "data": {
      "text/plain": [
       "(26+2j)"
      ]
     },
     "execution_count": 73,
     "metadata": {},
     "output_type": "execute_result"
    }
   ],
   "source": [
    "a * b"
   ]
  },
  {
   "cell_type": "code",
   "execution_count": 74,
   "metadata": {},
   "outputs": [
    {
     "data": {
      "text/plain": [
       "(-0.4117647058823529+0.6470588235294118j)"
      ]
     },
     "execution_count": 74,
     "metadata": {},
     "output_type": "execute_result"
    }
   ],
   "source": [
    "a / b"
   ]
  },
  {
   "cell_type": "code",
   "execution_count": 75,
   "metadata": {},
   "outputs": [
    {
     "data": {
      "text/plain": [
       "4.47213595499958"
      ]
     },
     "execution_count": 75,
     "metadata": {},
     "output_type": "execute_result"
    }
   ],
   "source": [
    "abs(a)"
   ]
  },
  {
   "cell_type": "markdown",
   "metadata": {},
   "source": [
    "Para executar funções adicionais de valor complexo, como senos, cossenos ou raízes quadradas, use o módulo `cmath`:"
   ]
  },
  {
   "cell_type": "code",
   "execution_count": 76,
   "metadata": {},
   "outputs": [
    {
     "data": {
      "text/plain": [
       "(24.83130584894638-11.356612711218174j)"
      ]
     },
     "execution_count": 76,
     "metadata": {},
     "output_type": "execute_result"
    }
   ],
   "source": [
    "import cmath\n",
    "cmath.sin(a)"
   ]
  },
  {
   "cell_type": "code",
   "execution_count": 77,
   "metadata": {},
   "outputs": [
    {
     "data": {
      "text/plain": [
       "(-11.36423470640106-24.814651485634187j)"
      ]
     },
     "execution_count": 77,
     "metadata": {},
     "output_type": "execute_result"
    }
   ],
   "source": [
    "cmath.cos(a)"
   ]
  },
  {
   "cell_type": "code",
   "execution_count": 78,
   "metadata": {},
   "outputs": [
    {
     "data": {
      "text/plain": [
       "(-4.829809383269385-5.5920560936409816j)"
      ]
     },
     "execution_count": 78,
     "metadata": {},
     "output_type": "execute_result"
    }
   ],
   "source": [
    "cmath.exp(a)"
   ]
  },
  {
   "cell_type": "markdown",
   "metadata": {},
   "source": [
    "**Discussão**\n",
    "\n",
    "A maioria dos módulos relacionados à matemática do Python estão cientes de valores complexos. Por exemplo, se você usar `numpy`, é simples criar arrays de valores complexos e realizar operações neles:"
   ]
  },
  {
   "cell_type": "code",
   "execution_count": 79,
   "metadata": {},
   "outputs": [
    {
     "data": {
      "text/plain": [
       "array([2.+3.j, 4.+5.j, 6.-7.j, 8.+9.j])"
      ]
     },
     "execution_count": 79,
     "metadata": {},
     "output_type": "execute_result"
    }
   ],
   "source": [
    "import numpy as np\n",
    "a = np.array([2+3j, 4+5j, 6-7j, 8+9j])\n",
    "a"
   ]
  },
  {
   "cell_type": "code",
   "execution_count": 80,
   "metadata": {},
   "outputs": [
    {
     "data": {
      "text/plain": [
       "array([ 4.+3.j,  6.+5.j,  8.-7.j, 10.+9.j])"
      ]
     },
     "execution_count": 80,
     "metadata": {},
     "output_type": "execute_result"
    }
   ],
   "source": [
    "a + 2"
   ]
  },
  {
   "cell_type": "code",
   "execution_count": 81,
   "metadata": {},
   "outputs": [
    {
     "data": {
      "text/plain": [
       "array([   9.15449915  -4.16890696j,  -56.16227422 -48.50245524j,\n",
       "       -153.20827755-526.47684926j, 4008.42651446-589.49948373j])"
      ]
     },
     "execution_count": 81,
     "metadata": {},
     "output_type": "execute_result"
    }
   ],
   "source": [
    "np.sin(a)"
   ]
  },
  {
   "cell_type": "markdown",
   "metadata": {},
   "source": [
    "As funções matemáticas padrão do Python não produzem valores complexos por padrão, portanto, é improvável que tal valor apareça acidentalmente em seu código. Por exemplo:\n",
    "~~~python\n",
    "import math\n",
    "math.sqrt(-1)\n",
    "Traceback (most recent call last):\n",
    "    File \"<stdin>\", line 1, in <module>\n",
    " ValueError: math domain error\n",
    "~~~"
   ]
  },
  {
   "cell_type": "markdown",
   "metadata": {},
   "source": [
    "Se você deseja que números complexos sejam produzidos como resultado, você deve usar `cmath` explicitamente ou declarar o uso de um tipo complexo em bibliotecas que os conhecem. Por exemplo:"
   ]
  },
  {
   "cell_type": "code",
   "execution_count": 82,
   "metadata": {},
   "outputs": [
    {
     "data": {
      "text/plain": [
       "1j"
      ]
     },
     "execution_count": 82,
     "metadata": {},
     "output_type": "execute_result"
    }
   ],
   "source": [
    "import cmath\n",
    "cmath.sqrt(-1)"
   ]
  },
  {
   "cell_type": "markdown",
   "metadata": {},
   "source": [
    "## 3.7. Trabalhando com Infinity e NaNs\n",
    "\n",
    "**Problema**\n",
    "\n",
    "Você precisa criar ou testar os valores de ponto flutuante de infinito, infinito negativo ou NaN (não um número).\n",
    "\n",
    "**Solução**\n",
    "\n",
    "Python não tem sintaxe especial para representar esses valores especiais de ponto flutuante, mas eles podem ser criados usando `float()`. Por exemplo:"
   ]
  },
  {
   "cell_type": "code",
   "execution_count": 83,
   "metadata": {},
   "outputs": [
    {
     "data": {
      "text/plain": [
       "inf"
      ]
     },
     "execution_count": 83,
     "metadata": {},
     "output_type": "execute_result"
    }
   ],
   "source": [
    "a = float('inf')\n",
    "b = float('-inf')\n",
    "c = float('nan')\n",
    "a"
   ]
  },
  {
   "cell_type": "code",
   "execution_count": 84,
   "metadata": {},
   "outputs": [
    {
     "data": {
      "text/plain": [
       "-inf"
      ]
     },
     "execution_count": 84,
     "metadata": {},
     "output_type": "execute_result"
    }
   ],
   "source": [
    "b"
   ]
  },
  {
   "cell_type": "code",
   "execution_count": 85,
   "metadata": {},
   "outputs": [
    {
     "data": {
      "text/plain": [
       "nan"
      ]
     },
     "execution_count": 85,
     "metadata": {},
     "output_type": "execute_result"
    }
   ],
   "source": [
    "c"
   ]
  },
  {
   "cell_type": "markdown",
   "metadata": {},
   "source": [
    "Para testar a presença desses valores, use as funções `math.isinf()` e `math.isnan()`. Por exemplo:"
   ]
  },
  {
   "cell_type": "code",
   "execution_count": 86,
   "metadata": {},
   "outputs": [
    {
     "data": {
      "text/plain": [
       "True"
      ]
     },
     "execution_count": 86,
     "metadata": {},
     "output_type": "execute_result"
    }
   ],
   "source": [
    "math.isinf(a)"
   ]
  },
  {
   "cell_type": "code",
   "execution_count": 87,
   "metadata": {},
   "outputs": [
    {
     "data": {
      "text/plain": [
       "True"
      ]
     },
     "execution_count": 87,
     "metadata": {},
     "output_type": "execute_result"
    }
   ],
   "source": [
    "math.isnan(c)"
   ]
  },
  {
   "cell_type": "markdown",
   "metadata": {},
   "source": [
    "**Discussão**\n",
    "\n",
    "Para obter informações mais detalhadas sobre esses valores especiais de ponto flutuante, consulte a especificação IEEE 754. No entanto, existem alguns detalhes complicados a serem observados, especialmente relacionados a comparações e operadores.\n",
    "\n",
    "Valores infinitos se propagarão em cálculos de maneira matemática. Por exemplo:"
   ]
  },
  {
   "cell_type": "code",
   "execution_count": 88,
   "metadata": {},
   "outputs": [
    {
     "data": {
      "text/plain": [
       "inf"
      ]
     },
     "execution_count": 88,
     "metadata": {},
     "output_type": "execute_result"
    }
   ],
   "source": [
    "a = float('inf')\n",
    "a + 45"
   ]
  },
  {
   "cell_type": "code",
   "execution_count": 89,
   "metadata": {},
   "outputs": [
    {
     "data": {
      "text/plain": [
       "inf"
      ]
     },
     "execution_count": 89,
     "metadata": {},
     "output_type": "execute_result"
    }
   ],
   "source": [
    "a * 10"
   ]
  },
  {
   "cell_type": "code",
   "execution_count": 90,
   "metadata": {},
   "outputs": [
    {
     "data": {
      "text/plain": [
       "0.0"
      ]
     },
     "execution_count": 90,
     "metadata": {},
     "output_type": "execute_result"
    }
   ],
   "source": [
    "10 / a"
   ]
  },
  {
   "cell_type": "markdown",
   "metadata": {},
   "source": [
    "No entanto, certas operações são indefinidas e resultarão em um resultado `NaN`. Por exemplo:"
   ]
  },
  {
   "cell_type": "code",
   "execution_count": 91,
   "metadata": {},
   "outputs": [
    {
     "data": {
      "text/plain": [
       "nan"
      ]
     },
     "execution_count": 91,
     "metadata": {},
     "output_type": "execute_result"
    }
   ],
   "source": [
    "a = float('inf')\n",
    "a/a"
   ]
  },
  {
   "cell_type": "code",
   "execution_count": 92,
   "metadata": {},
   "outputs": [
    {
     "data": {
      "text/plain": [
       "nan"
      ]
     },
     "execution_count": 92,
     "metadata": {},
     "output_type": "execute_result"
    }
   ],
   "source": [
    "b = float('-inf')\n",
    "a + b"
   ]
  },
  {
   "cell_type": "markdown",
   "metadata": {},
   "source": [
    "Os valores **NaN** se propagam por todas as operações sem gerar uma exceção. Por exemplo:"
   ]
  },
  {
   "cell_type": "code",
   "execution_count": 93,
   "metadata": {},
   "outputs": [
    {
     "data": {
      "text/plain": [
       "nan"
      ]
     },
     "execution_count": 93,
     "metadata": {},
     "output_type": "execute_result"
    }
   ],
   "source": [
    "c = float('nan')\n",
    "c + 23"
   ]
  },
  {
   "cell_type": "code",
   "execution_count": 94,
   "metadata": {},
   "outputs": [
    {
     "data": {
      "text/plain": [
       "nan"
      ]
     },
     "execution_count": 94,
     "metadata": {},
     "output_type": "execute_result"
    }
   ],
   "source": [
    "c / 2"
   ]
  },
  {
   "cell_type": "code",
   "execution_count": 95,
   "metadata": {},
   "outputs": [
    {
     "data": {
      "text/plain": [
       "nan"
      ]
     },
     "execution_count": 95,
     "metadata": {},
     "output_type": "execute_result"
    }
   ],
   "source": [
    "math.sqrt(c)"
   ]
  },
  {
   "cell_type": "markdown",
   "metadata": {},
   "source": [
    "Uma característica sutil dos valores NaN é que eles nunca se comparam como iguais. Por exemplo:"
   ]
  },
  {
   "cell_type": "code",
   "execution_count": 96,
   "metadata": {},
   "outputs": [
    {
     "data": {
      "text/plain": [
       "False"
      ]
     },
     "execution_count": 96,
     "metadata": {},
     "output_type": "execute_result"
    }
   ],
   "source": [
    "c = float('nan')\n",
    "d = float('nan')\n",
    "c == d"
   ]
  },
  {
   "cell_type": "code",
   "execution_count": 97,
   "metadata": {},
   "outputs": [
    {
     "data": {
      "text/plain": [
       "False"
      ]
     },
     "execution_count": 97,
     "metadata": {},
     "output_type": "execute_result"
    }
   ],
   "source": [
    "c is d"
   ]
  },
  {
   "cell_type": "markdown",
   "metadata": {},
   "source": [
    "Por causa disso, a única maneira segura de testar um valor `NaN` é usar `math.isnan()`, conforme mostrado nesta receita.\n",
    "\n",
    "Às vezes, os programadores desejam alterar o comportamento do Python para gerar exceções quando as operações resultam em um resultado infinito ou NaN. O módulo `fpectl` pode ser usado para ajustar esse comportamento, mas não está habilitado em uma compilação padrão do Python, é dependente da plataforma e realmente destinado apenas a programadores de nível especialista. Consulte a documentação on-line do Python para obter mais detalhes."
   ]
  },
  {
   "cell_type": "markdown",
   "metadata": {},
   "source": [
    "## 3.8. Calculando com frações\n",
    "\n",
    "**Problema**\n",
    "\n",
    "Você entrou em uma máquina do tempo e de repente se viu trabalhando em problemas de lição de casa de nível elementar envolvendo frações. Ou talvez você esteja escrevendo um código para fazer cálculos envolvendo medições feitas em sua marcenaria.\n",
    "\n",
    "**Solução**\n",
    "\n",
    "O módulo de frações pode ser usado para realizar cálculos matemáticos envolvendo frações. Por exemplo:"
   ]
  },
  {
   "cell_type": "code",
   "execution_count": 98,
   "metadata": {},
   "outputs": [
    {
     "name": "stdout",
     "output_type": "stream",
     "text": [
      "27/16\n"
     ]
    }
   ],
   "source": [
    "from fractions import Fraction\n",
    "a = Fraction(5, 4)\n",
    "b = Fraction(7, 16)\n",
    "print(a + b)"
   ]
  },
  {
   "cell_type": "code",
   "execution_count": 99,
   "metadata": {},
   "outputs": [
    {
     "name": "stdout",
     "output_type": "stream",
     "text": [
      "35/64\n"
     ]
    }
   ],
   "source": [
    "print(a * b)"
   ]
  },
  {
   "cell_type": "code",
   "execution_count": 100,
   "metadata": {},
   "outputs": [
    {
     "data": {
      "text/plain": [
       "35"
      ]
     },
     "execution_count": 100,
     "metadata": {},
     "output_type": "execute_result"
    }
   ],
   "source": [
    "# Getting numerator/denominator\n",
    "c = a * b\n",
    "c.numerator"
   ]
  },
  {
   "cell_type": "code",
   "execution_count": 101,
   "metadata": {},
   "outputs": [
    {
     "data": {
      "text/plain": [
       "64"
      ]
     },
     "execution_count": 101,
     "metadata": {},
     "output_type": "execute_result"
    }
   ],
   "source": [
    "c.denominator"
   ]
  },
  {
   "cell_type": "code",
   "execution_count": 102,
   "metadata": {},
   "outputs": [
    {
     "data": {
      "text/plain": [
       "0.546875"
      ]
     },
     "execution_count": 102,
     "metadata": {},
     "output_type": "execute_result"
    }
   ],
   "source": [
    "# Converting to a float\n",
    "float(c)"
   ]
  },
  {
   "cell_type": "code",
   "execution_count": 103,
   "metadata": {},
   "outputs": [
    {
     "name": "stdout",
     "output_type": "stream",
     "text": [
      "4/7\n"
     ]
    }
   ],
   "source": [
    "# Limiting the denominator of a value\n",
    "print(c.limit_denominator(8))"
   ]
  },
  {
   "cell_type": "code",
   "execution_count": 104,
   "metadata": {},
   "outputs": [
    {
     "data": {
      "text/plain": [
       "Fraction(15, 4)"
      ]
     },
     "execution_count": 104,
     "metadata": {},
     "output_type": "execute_result"
    }
   ],
   "source": [
    "# Converting a float to a fraction\n",
    "x = 3.75\n",
    "y = Fraction(*x.as_integer_ratio())\n",
    "y"
   ]
  },
  {
   "cell_type": "markdown",
   "metadata": {},
   "source": [
    "**Discussão**\n",
    "Calcular com frações não ocorre com frequência na maioria dos programas, mas há situações em que pode fazer sentido usá-las. Por exemplo, permitir que um programa aceite unidades de medida em frações e realizar cálculos com elas nesse formato pode aliviar a necessidade de um usuário fazer conversões manualmente para decimais ou floats.\n",
    "\n",
    "## 3.9. Calculando com grandes matrizes numéricas\n",
    "\n",
    "**Problema**\n",
    "\n",
    "Você precisa realizar cálculos em grandes conjuntos de dados numéricos, como matrizes ou grades.\n",
    "\n",
    "**Solução**\n",
    "\n",
    "Para qualquer computação pesada envolvendo arrays, use a biblioteca `NumPy`. O principal recurso do `NumPy` é que ele fornece ao Python um objeto de matriz que é muito mais eficiente e mais adequado para cálculos matemáticos do que uma lista padrão do Python. Aqui está um pequeno exemplo que ilustra diferenças comportamentais importantes entre listas e matrizes `NumPy`:"
   ]
  },
  {
   "cell_type": "code",
   "execution_count": 105,
   "metadata": {},
   "outputs": [
    {
     "data": {
      "text/plain": [
       "[1, 2, 3, 4, 1, 2, 3, 4]"
      ]
     },
     "execution_count": 105,
     "metadata": {},
     "output_type": "execute_result"
    }
   ],
   "source": [
    "# Python lists\n",
    "x = [1, 2, 3, 4]\n",
    "y = [5, 6, 7, 8]\n",
    "x * 2"
   ]
  },
  {
   "cell_type": "markdown",
   "metadata": {},
   "source": [
    "~~~python\n",
    "x + 10\n",
    "Traceback (most recent call last):\n",
    "    File \"<stdin>\", line 1, in <module>\n",
    " TypeError: can only concatenate list (not \"int\") to list\n",
    "~~~"
   ]
  },
  {
   "cell_type": "code",
   "execution_count": 106,
   "metadata": {},
   "outputs": [
    {
     "data": {
      "text/plain": [
       "[1, 2, 3, 4, 5, 6, 7, 8]"
      ]
     },
     "execution_count": 106,
     "metadata": {},
     "output_type": "execute_result"
    }
   ],
   "source": [
    "x + y"
   ]
  },
  {
   "cell_type": "code",
   "execution_count": 107,
   "metadata": {},
   "outputs": [
    {
     "data": {
      "text/plain": [
       "array([2, 4, 6, 8])"
      ]
     },
     "execution_count": 107,
     "metadata": {},
     "output_type": "execute_result"
    }
   ],
   "source": [
    "# Numpy arrays\n",
    "import numpy as np\n",
    "ax = np.array([1, 2, 3, 4])\n",
    "ay = np.array([5, 6, 7, 8])\n",
    "ax * 2"
   ]
  },
  {
   "cell_type": "code",
   "execution_count": 108,
   "metadata": {},
   "outputs": [
    {
     "data": {
      "text/plain": [
       "array([11, 12, 13, 14])"
      ]
     },
     "execution_count": 108,
     "metadata": {},
     "output_type": "execute_result"
    }
   ],
   "source": [
    "ax + 10"
   ]
  },
  {
   "cell_type": "code",
   "execution_count": 109,
   "metadata": {},
   "outputs": [
    {
     "data": {
      "text/plain": [
       "array([ 6,  8, 10, 12])"
      ]
     },
     "execution_count": 109,
     "metadata": {},
     "output_type": "execute_result"
    }
   ],
   "source": [
    "ax + ay"
   ]
  },
  {
   "cell_type": "code",
   "execution_count": 110,
   "metadata": {},
   "outputs": [
    {
     "data": {
      "text/plain": [
       "array([ 5, 12, 21, 32])"
      ]
     },
     "execution_count": 110,
     "metadata": {},
     "output_type": "execute_result"
    }
   ],
   "source": [
    "ax * ay"
   ]
  },
  {
   "cell_type": "markdown",
   "metadata": {},
   "source": [
    "Como você pode ver, as operações matemáticas básicas envolvendo arrays se comportam de maneira diferente.\n",
    "\n",
    "Especificamente, as operações escalares (por exemplo, `ax * 2` ou `ax + 10`) aplicam a operação elemento a elemento. Além disso, a execução de operações matemáticas quando ambos os operandos são matrizes aplica a operação a todos os elementos e produz uma nova matriz.\n",
    "\n",
    "O fato de que as operações matemáticas se aplicam a todos os elementos simultaneamente torna muito fácil e rápido calcular funções em uma matriz inteira. Por exemplo, se você quiser calcular o valor de um polinômio:"
   ]
  },
  {
   "cell_type": "code",
   "execution_count": 111,
   "metadata": {},
   "outputs": [],
   "source": [
    "def f(x):\n",
    "    return 3*x**2 - 2*x + 7"
   ]
  },
  {
   "cell_type": "code",
   "execution_count": 112,
   "metadata": {},
   "outputs": [
    {
     "data": {
      "text/plain": [
       "array([ 8, 15, 28, 47])"
      ]
     },
     "execution_count": 112,
     "metadata": {},
     "output_type": "execute_result"
    }
   ],
   "source": [
    "f(ax)"
   ]
  },
  {
   "cell_type": "markdown",
   "metadata": {},
   "source": [
    "O `NumPy` fornece uma coleção de “funções universais” que também permitem operações de matriz. Estas são substituições para funções similares normalmente encontradas no módulo matemático. Por exemplo:"
   ]
  },
  {
   "cell_type": "code",
   "execution_count": 113,
   "metadata": {},
   "outputs": [
    {
     "data": {
      "text/plain": [
       "array([1.        , 1.41421356, 1.73205081, 2.        ])"
      ]
     },
     "execution_count": 113,
     "metadata": {},
     "output_type": "execute_result"
    }
   ],
   "source": [
    "np.sqrt(ax)"
   ]
  },
  {
   "cell_type": "code",
   "execution_count": 114,
   "metadata": {},
   "outputs": [
    {
     "data": {
      "text/plain": [
       "array([ 0.54030231, -0.41614684, -0.9899925 , -0.65364362])"
      ]
     },
     "execution_count": 114,
     "metadata": {},
     "output_type": "execute_result"
    }
   ],
   "source": [
    "np.cos(ax)"
   ]
  },
  {
   "cell_type": "markdown",
   "metadata": {},
   "source": [
    "O uso de funções universais pode ser centenas de vezes mais rápido do que fazer um loop sobre os elementos da matriz um de cada vez e realizar cálculos usando funções no módulo `math`. Assim, você deve preferir seu uso sempre que possível.\n",
    "\n",
    "Nos bastidores, os arrays `NumPy` são alocados da mesma maneira que em C ou Fortran. Ou seja, são regiões de memória grandes e contíguas que consistem em um tipo de dados homogêneo. Por causa disso, é possível fazer arrays muito maiores do que qualquer coisa que você normalmente colocaria em uma lista Python. Por exemplo, se você quiser fazer uma grade bidimensional de 10.000 por 10.000 floats, isso não é um problema:"
   ]
  },
  {
   "cell_type": "code",
   "execution_count": 115,
   "metadata": {},
   "outputs": [
    {
     "data": {
      "text/plain": [
       "array([[0., 0., 0., ..., 0., 0., 0.],\n",
       "       [0., 0., 0., ..., 0., 0., 0.],\n",
       "       [0., 0., 0., ..., 0., 0., 0.],\n",
       "       ...,\n",
       "       [0., 0., 0., ..., 0., 0., 0.],\n",
       "       [0., 0., 0., ..., 0., 0., 0.],\n",
       "       [0., 0., 0., ..., 0., 0., 0.]])"
      ]
     },
     "execution_count": 115,
     "metadata": {},
     "output_type": "execute_result"
    }
   ],
   "source": [
    "grid = np.zeros(shape=(10000,10000), dtype=float)\n",
    "grid"
   ]
  },
  {
   "cell_type": "markdown",
   "metadata": {},
   "source": [
    "Todas as operações usuais ainda se aplicam a todos os elementos simultaneamente:"
   ]
  },
  {
   "cell_type": "code",
   "execution_count": 116,
   "metadata": {},
   "outputs": [
    {
     "data": {
      "text/plain": [
       "array([[10., 10., 10., ..., 10., 10., 10.],\n",
       "       [10., 10., 10., ..., 10., 10., 10.],\n",
       "       [10., 10., 10., ..., 10., 10., 10.],\n",
       "       ...,\n",
       "       [10., 10., 10., ..., 10., 10., 10.],\n",
       "       [10., 10., 10., ..., 10., 10., 10.],\n",
       "       [10., 10., 10., ..., 10., 10., 10.]])"
      ]
     },
     "execution_count": 116,
     "metadata": {},
     "output_type": "execute_result"
    }
   ],
   "source": [
    "grid += 10\n",
    "grid"
   ]
  },
  {
   "cell_type": "code",
   "execution_count": 117,
   "metadata": {},
   "outputs": [
    {
     "data": {
      "text/plain": [
       "array([[-0.54402111, -0.54402111, -0.54402111, ..., -0.54402111,\n",
       "        -0.54402111, -0.54402111],\n",
       "       [-0.54402111, -0.54402111, -0.54402111, ..., -0.54402111,\n",
       "        -0.54402111, -0.54402111],\n",
       "       [-0.54402111, -0.54402111, -0.54402111, ..., -0.54402111,\n",
       "        -0.54402111, -0.54402111],\n",
       "       ...,\n",
       "       [-0.54402111, -0.54402111, -0.54402111, ..., -0.54402111,\n",
       "        -0.54402111, -0.54402111],\n",
       "       [-0.54402111, -0.54402111, -0.54402111, ..., -0.54402111,\n",
       "        -0.54402111, -0.54402111],\n",
       "       [-0.54402111, -0.54402111, -0.54402111, ..., -0.54402111,\n",
       "        -0.54402111, -0.54402111]])"
      ]
     },
     "execution_count": 117,
     "metadata": {},
     "output_type": "execute_result"
    }
   ],
   "source": [
    "np.sin(grid)"
   ]
  },
  {
   "cell_type": "markdown",
   "metadata": {},
   "source": [
    "Um aspecto extremamente notável do NumPy é a maneira como ele estende a funcionalidade de indexação de lista do Python - especialmente com matrizes multidimensionais. Para ilustrar, faça um array bidimensional simples e tente alguns experimentos:"
   ]
  },
  {
   "cell_type": "code",
   "execution_count": 118,
   "metadata": {},
   "outputs": [
    {
     "data": {
      "text/plain": [
       "array([[ 1,  2,  3,  4],\n",
       "       [ 5,  6,  7,  8],\n",
       "       [ 9, 10, 11, 12]])"
      ]
     },
     "execution_count": 118,
     "metadata": {},
     "output_type": "execute_result"
    }
   ],
   "source": [
    "a = np.array([[1, 2, 3, 4], [5, 6, 7, 8], [9, 10, 11, 12]])\n",
    "a"
   ]
  },
  {
   "cell_type": "code",
   "execution_count": 119,
   "metadata": {},
   "outputs": [
    {
     "data": {
      "text/plain": [
       "array([5, 6, 7, 8])"
      ]
     },
     "execution_count": 119,
     "metadata": {},
     "output_type": "execute_result"
    }
   ],
   "source": [
    "# Select row 1\n",
    "a[1]"
   ]
  },
  {
   "cell_type": "code",
   "execution_count": 120,
   "metadata": {},
   "outputs": [
    {
     "data": {
      "text/plain": [
       "array([ 2,  6, 10])"
      ]
     },
     "execution_count": 120,
     "metadata": {},
     "output_type": "execute_result"
    }
   ],
   "source": [
    "# Select column 1\n",
    "a[:,1]"
   ]
  },
  {
   "cell_type": "code",
   "execution_count": 121,
   "metadata": {},
   "outputs": [
    {
     "data": {
      "text/plain": [
       "array([[ 6,  7],\n",
       "       [10, 11]])"
      ]
     },
     "execution_count": 121,
     "metadata": {},
     "output_type": "execute_result"
    }
   ],
   "source": [
    "# Select a subregion and change it\n",
    "a[1:3, 1:3]"
   ]
  },
  {
   "cell_type": "code",
   "execution_count": 122,
   "metadata": {},
   "outputs": [
    {
     "data": {
      "text/plain": [
       "array([[ 1,  2,  3,  4],\n",
       "       [ 5, 16, 17,  8],\n",
       "       [ 9, 20, 21, 12]])"
      ]
     },
     "execution_count": 122,
     "metadata": {},
     "output_type": "execute_result"
    }
   ],
   "source": [
    "a[1:3, 1:3] += 10\n",
    "a"
   ]
  },
  {
   "cell_type": "code",
   "execution_count": 123,
   "metadata": {},
   "outputs": [
    {
     "data": {
      "text/plain": [
       "array([[101, 103, 105, 107],\n",
       "       [105, 117, 119, 111],\n",
       "       [109, 121, 123, 115]])"
      ]
     },
     "execution_count": 123,
     "metadata": {},
     "output_type": "execute_result"
    }
   ],
   "source": [
    "# Broadcast a row vector across an operation on all rows\n",
    "a + [100, 101, 102, 103]"
   ]
  },
  {
   "cell_type": "code",
   "execution_count": 124,
   "metadata": {},
   "outputs": [
    {
     "data": {
      "text/plain": [
       "array([[ 1,  2,  3,  4],\n",
       "       [ 5, 16, 17,  8],\n",
       "       [ 9, 20, 21, 12]])"
      ]
     },
     "execution_count": 124,
     "metadata": {},
     "output_type": "execute_result"
    }
   ],
   "source": [
    "a"
   ]
  },
  {
   "cell_type": "code",
   "execution_count": 125,
   "metadata": {},
   "outputs": [
    {
     "data": {
      "text/plain": [
       "array([[ 1,  2,  3,  4],\n",
       "       [ 5, 10, 10,  8],\n",
       "       [ 9, 10, 10, 10]])"
      ]
     },
     "execution_count": 125,
     "metadata": {},
     "output_type": "execute_result"
    }
   ],
   "source": [
    "# Conditional assignment on an array\n",
    "np.where(a < 10, a, 10)"
   ]
  },
  {
   "cell_type": "markdown",
   "metadata": {},
   "source": [
    "**Discussão**\n",
    "\n",
    "O NumPy é a base para um grande número de bibliotecas de ciência e engenharia em Python. É também um dos módulos maiores e mais complicados em uso generalizado.\n",
    "Dito isso, ainda é possível realizar coisas úteis com o NumPy começando com exemplos simples e brincando.\n",
    "Uma observação sobre o uso é que é relativamente comum usar a instrução import numpy como np, conforme mostrado na solução. Isso simplesmente encurta o nome para algo que é mais conveniente para digitar repetidamente em seu programa.\n",
    "Para obter mais informações, você definitivamente precisa visitar http://www.numpy.org.\n",
    "\n",
    "## 3.10. Executando cálculos de matriz e álgebra linear\n",
    "\n",
    "**Problema**\n",
    "\n",
    "Você precisa realizar operações de matriz e álgebra linear, como multiplicação de matrizes, encontrar determinantes, resolver equações lineares e assim por diante.\n",
    "\n",
    "**Solução**\n",
    "\n",
    "A biblioteca NumPy possui um objeto de matriz que pode ser usado para essa finalidade. As matrizes são um pouco semelhantes aos objetos de matriz descritos na Receita 3.9, mas seguem regras de álgebra linear para computação. Aqui está um exemplo que ilustra alguns recursos essenciais:"
   ]
  },
  {
   "cell_type": "code",
   "execution_count": 126,
   "metadata": {},
   "outputs": [
    {
     "data": {
      "text/plain": [
       "matrix([[ 1, -2,  3],\n",
       "        [ 0,  4,  5],\n",
       "        [ 7,  8, -9]])"
      ]
     },
     "execution_count": 126,
     "metadata": {},
     "output_type": "execute_result"
    }
   ],
   "source": [
    "import numpy as np\n",
    "m = np.matrix([[1,-2,3],[0,4,5],[7,8,-9]])\n",
    "m"
   ]
  },
  {
   "cell_type": "code",
   "execution_count": 127,
   "metadata": {},
   "outputs": [
    {
     "data": {
      "text/plain": [
       "matrix([[ 1,  0,  7],\n",
       "        [-2,  4,  8],\n",
       "        [ 3,  5, -9]])"
      ]
     },
     "execution_count": 127,
     "metadata": {},
     "output_type": "execute_result"
    }
   ],
   "source": [
    "# Return transpose\n",
    "m.T"
   ]
  },
  {
   "cell_type": "code",
   "execution_count": 128,
   "metadata": {},
   "outputs": [
    {
     "data": {
      "text/plain": [
       "matrix([[ 0.33043478, -0.02608696,  0.09565217],\n",
       "        [-0.15217391,  0.13043478,  0.02173913],\n",
       "        [ 0.12173913,  0.09565217, -0.0173913 ]])"
      ]
     },
     "execution_count": 128,
     "metadata": {},
     "output_type": "execute_result"
    }
   ],
   "source": [
    "# Return inverse\n",
    "m.I"
   ]
  },
  {
   "cell_type": "code",
   "execution_count": 129,
   "metadata": {},
   "outputs": [
    {
     "data": {
      "text/plain": [
       "matrix([[2],\n",
       "        [3],\n",
       "        [4]])"
      ]
     },
     "execution_count": 129,
     "metadata": {},
     "output_type": "execute_result"
    }
   ],
   "source": [
    "# Create a vector and multiply\n",
    "v = np.matrix([[2],[3],[4]])\n",
    "v"
   ]
  },
  {
   "cell_type": "code",
   "execution_count": 130,
   "metadata": {},
   "outputs": [
    {
     "data": {
      "text/plain": [
       "matrix([[ 8],\n",
       "        [32],\n",
       "        [ 2]])"
      ]
     },
     "execution_count": 130,
     "metadata": {},
     "output_type": "execute_result"
    }
   ],
   "source": [
    "m * v"
   ]
  },
  {
   "cell_type": "markdown",
   "metadata": {},
   "source": [
    "Mais operações podem ser encontradas no subpacote `numpy.linalg`. Por exemplo:"
   ]
  },
  {
   "cell_type": "code",
   "execution_count": 131,
   "metadata": {},
   "outputs": [
    {
     "data": {
      "text/plain": [
       "-229.99999999999983"
      ]
     },
     "execution_count": 131,
     "metadata": {},
     "output_type": "execute_result"
    }
   ],
   "source": [
    "import numpy.linalg\n",
    "\n",
    "# Determinant\n",
    "numpy.linalg.det(m)"
   ]
  },
  {
   "cell_type": "code",
   "execution_count": 132,
   "metadata": {},
   "outputs": [
    {
     "data": {
      "text/plain": [
       "array([-13.11474312,   2.75956154,   6.35518158])"
      ]
     },
     "execution_count": 132,
     "metadata": {},
     "output_type": "execute_result"
    }
   ],
   "source": [
    "# Eigenvalues\n",
    "numpy.linalg.eigvals(m)"
   ]
  },
  {
   "cell_type": "code",
   "execution_count": 133,
   "metadata": {},
   "outputs": [
    {
     "data": {
      "text/plain": [
       "matrix([[0.96521739],\n",
       "        [0.17391304],\n",
       "        [0.46086957]])"
      ]
     },
     "execution_count": 133,
     "metadata": {},
     "output_type": "execute_result"
    }
   ],
   "source": [
    "# Solve for x in mx = v\n",
    "x = numpy.linalg.solve(m, v)\n",
    "x"
   ]
  },
  {
   "cell_type": "code",
   "execution_count": 134,
   "metadata": {},
   "outputs": [
    {
     "data": {
      "text/plain": [
       "matrix([[2.],\n",
       "        [3.],\n",
       "        [4.]])"
      ]
     },
     "execution_count": 134,
     "metadata": {},
     "output_type": "execute_result"
    }
   ],
   "source": [
    "m * x"
   ]
  },
  {
   "cell_type": "code",
   "execution_count": 135,
   "metadata": {},
   "outputs": [
    {
     "data": {
      "text/plain": [
       "matrix([[2],\n",
       "        [3],\n",
       "        [4]])"
      ]
     },
     "execution_count": 135,
     "metadata": {},
     "output_type": "execute_result"
    }
   ],
   "source": [
    "v"
   ]
  },
  {
   "cell_type": "markdown",
   "metadata": {},
   "source": [
    "**Discussão**\n",
    "\n",
    "A álgebra linear é obviamente um tópico enorme que está muito além do escopo deste livro de receitas. No entanto, se você precisar manipular matrizes e vetores, o NumPy é um bom ponto de partida. Visite http://www.numpy.org para obter informações mais detalhadas."
   ]
  },
  {
   "cell_type": "markdown",
   "metadata": {},
   "source": [
    "## 3.11. Escolhendo coisas ao acaso\n",
    "\n",
    "**Problema**\n",
    "\n",
    "Você deseja escolher itens aleatórios de uma sequência ou gerar números aleatórios.\n",
    "\n",
    "**Solução**\n",
    "\n",
    "O módulo aleatório tem várias funções para números aleatórios e escolha de itens aleatórios. Por exemplo, para escolher um item aleatório de uma sequência, use `random.choice()`:"
   ]
  },
  {
   "cell_type": "code",
   "execution_count": 136,
   "metadata": {},
   "outputs": [
    {
     "data": {
      "text/plain": [
       "6"
      ]
     },
     "execution_count": 136,
     "metadata": {},
     "output_type": "execute_result"
    }
   ],
   "source": [
    "import random\n",
    "values = [1, 2, 3, 4, 5, 6]\n",
    "random.choice(values)"
   ]
  },
  {
   "cell_type": "code",
   "execution_count": 137,
   "metadata": {},
   "outputs": [
    {
     "data": {
      "text/plain": [
       "6"
      ]
     },
     "execution_count": 137,
     "metadata": {},
     "output_type": "execute_result"
    }
   ],
   "source": [
    "random.choice(values)"
   ]
  },
  {
   "cell_type": "code",
   "execution_count": 138,
   "metadata": {},
   "outputs": [
    {
     "data": {
      "text/plain": [
       "4"
      ]
     },
     "execution_count": 138,
     "metadata": {},
     "output_type": "execute_result"
    }
   ],
   "source": [
    "random.choice(values)"
   ]
  },
  {
   "cell_type": "markdown",
   "metadata": {},
   "source": [
    "Para obter uma amostra de N itens em que os itens selecionados são removidos de consideração adicional, use `random.sample()`:"
   ]
  },
  {
   "cell_type": "code",
   "execution_count": 139,
   "metadata": {},
   "outputs": [
    {
     "data": {
      "text/plain": [
       "[4, 1]"
      ]
     },
     "execution_count": 139,
     "metadata": {},
     "output_type": "execute_result"
    }
   ],
   "source": [
    "random.sample(values, 2)"
   ]
  },
  {
   "cell_type": "code",
   "execution_count": 140,
   "metadata": {},
   "outputs": [
    {
     "data": {
      "text/plain": [
       "[5, 6]"
      ]
     },
     "execution_count": 140,
     "metadata": {},
     "output_type": "execute_result"
    }
   ],
   "source": [
    "random.sample(values, 2)"
   ]
  },
  {
   "cell_type": "code",
   "execution_count": 141,
   "metadata": {},
   "outputs": [
    {
     "data": {
      "text/plain": [
       "[5, 2, 1]"
      ]
     },
     "execution_count": 141,
     "metadata": {},
     "output_type": "execute_result"
    }
   ],
   "source": [
    "random.sample(values, 3)"
   ]
  },
  {
   "cell_type": "markdown",
   "metadata": {},
   "source": [
    "Se você simplesmente deseja embaralhar itens em uma sequência no local, use `random.shuffle()`:"
   ]
  },
  {
   "cell_type": "code",
   "execution_count": 142,
   "metadata": {},
   "outputs": [
    {
     "data": {
      "text/plain": [
       "[6, 2, 4, 1, 3, 5]"
      ]
     },
     "execution_count": 142,
     "metadata": {},
     "output_type": "execute_result"
    }
   ],
   "source": [
    "random.shuffle(values)\n",
    "values"
   ]
  },
  {
   "cell_type": "code",
   "execution_count": 143,
   "metadata": {},
   "outputs": [
    {
     "data": {
      "text/plain": [
       "[5, 3, 2, 4, 1, 6]"
      ]
     },
     "execution_count": 143,
     "metadata": {},
     "output_type": "execute_result"
    }
   ],
   "source": [
    "random.shuffle(values)\n",
    "values"
   ]
  },
  {
   "cell_type": "markdown",
   "metadata": {},
   "source": [
    "Para produzir números inteiros aleatórios, use  `random.randint()´:"
   ]
  },
  {
   "cell_type": "code",
   "execution_count": 144,
   "metadata": {},
   "outputs": [
    {
     "data": {
      "text/plain": [
       "7"
      ]
     },
     "execution_count": 144,
     "metadata": {},
     "output_type": "execute_result"
    }
   ],
   "source": [
    "random.randint(0,10)"
   ]
  },
  {
   "cell_type": "code",
   "execution_count": 145,
   "metadata": {},
   "outputs": [
    {
     "data": {
      "text/plain": [
       "1"
      ]
     },
     "execution_count": 145,
     "metadata": {},
     "output_type": "execute_result"
    }
   ],
   "source": [
    "random.randint(0,10)"
   ]
  },
  {
   "cell_type": "code",
   "execution_count": 146,
   "metadata": {},
   "outputs": [
    {
     "data": {
      "text/plain": [
       "1"
      ]
     },
     "execution_count": 146,
     "metadata": {},
     "output_type": "execute_result"
    }
   ],
   "source": [
    "random.randint(0,10)"
   ]
  },
  {
   "cell_type": "markdown",
   "metadata": {},
   "source": [
    "Para produzir valores de ponto flutuante uniformes no intervalo de 0 a 1, use `random.random()`:"
   ]
  },
  {
   "cell_type": "code",
   "execution_count": 147,
   "metadata": {},
   "outputs": [
    {
     "data": {
      "text/plain": [
       "0.35460875074004705"
      ]
     },
     "execution_count": 147,
     "metadata": {},
     "output_type": "execute_result"
    }
   ],
   "source": [
    "random.random()"
   ]
  },
  {
   "cell_type": "code",
   "execution_count": 148,
   "metadata": {},
   "outputs": [
    {
     "data": {
      "text/plain": [
       "0.6896370029982141"
      ]
     },
     "execution_count": 148,
     "metadata": {},
     "output_type": "execute_result"
    }
   ],
   "source": [
    "random.random()"
   ]
  },
  {
   "cell_type": "markdown",
   "metadata": {},
   "source": [
    "Para obter N bits aleatórios expressos como um inteiro, use `random.getrandbits()`:"
   ]
  },
  {
   "cell_type": "code",
   "execution_count": 149,
   "metadata": {},
   "outputs": [
    {
     "data": {
      "text/plain": [
       "566910195002179899826530369386363487786647547187755713302946"
      ]
     },
     "execution_count": 149,
     "metadata": {},
     "output_type": "execute_result"
    }
   ],
   "source": [
    "random.getrandbits(200)"
   ]
  },
  {
   "cell_type": "markdown",
   "metadata": {},
   "source": [
    "**Discussão**\n",
    "\n",
    "O módulo aleatório calcula números aleatórios usando o algoritmo Mersenne Twister.\n",
    "\n",
    "Este é um algoritmo determinístico, mas você pode alterar a semente inicial usando a função `random.seed()`. Por exemplo:\n",
    "\n",
    "~~~python\n",
    "random.seed() # Seed based on system time or os.urandom()\n",
    "random.seed(12345) # Seed based on integer given\n",
    "random.seed(b'bytedata') # Seed based on byte data\n",
    "~~~"
   ]
  },
  {
   "cell_type": "markdown",
   "metadata": {},
   "source": [
    "Além da funcionalidade mostrada, `random()` inclui funções para distribuições uniformes, gaussianas e outras distribuições de probabilidade. Por exemplo, `random.uniform()` calcula números distribuídos uniformemente e `random.gauss()` calcula números distribuídos normalmente. Consulte a documentação para obter informações sobre outras distribuições suportadas.\n",
    "\n",
    "Funções em `random()` não devem ser usadas em programas relacionados à criptografia. Se você precisar dessa funcionalidade, considere usar funções no módulo ssl. Por exemplo, `ssl.RAND_bytes()` pode ser usado para gerar uma sequência criptograficamente segura de bytes aleatórios.\n",
    "\n",
    "## 3.12. Conversão de dias para segundos e outras conversões básicas de tempo\n",
    "\n",
    "**Problema**\n",
    "\n",
    "Você tem um código que precisa realizar conversões de tempo simples, como dias para segundos, horas para minutos e assim por diante.\n",
    "\n",
    "**Solução**\n",
    "\n",
    "Para realizar conversões e aritméticas envolvendo diferentes unidades de tempo, utilize o módulo de data e hora. Por exemplo, para representar um intervalo de tempo, crie uma instância timedelta, assim:"
   ]
  },
  {
   "cell_type": "code",
   "execution_count": 150,
   "metadata": {},
   "outputs": [
    {
     "data": {
      "text/plain": [
       "2"
      ]
     },
     "execution_count": 150,
     "metadata": {},
     "output_type": "execute_result"
    }
   ],
   "source": [
    "from datetime import timedelta\n",
    "a = timedelta(days=2, hours=6)\n",
    "b = timedelta(hours=4.5)\n",
    "c = a + b\n",
    "c.days"
   ]
  },
  {
   "cell_type": "code",
   "execution_count": 151,
   "metadata": {},
   "outputs": [
    {
     "data": {
      "text/plain": [
       "37800"
      ]
     },
     "execution_count": 151,
     "metadata": {},
     "output_type": "execute_result"
    }
   ],
   "source": [
    "c.seconds"
   ]
  },
  {
   "cell_type": "code",
   "execution_count": 152,
   "metadata": {},
   "outputs": [
    {
     "data": {
      "text/plain": [
       "10.5"
      ]
     },
     "execution_count": 152,
     "metadata": {},
     "output_type": "execute_result"
    }
   ],
   "source": [
    "c.seconds / 3600"
   ]
  },
  {
   "cell_type": "code",
   "execution_count": 153,
   "metadata": {},
   "outputs": [
    {
     "data": {
      "text/plain": [
       "58.5"
      ]
     },
     "execution_count": 153,
     "metadata": {},
     "output_type": "execute_result"
    }
   ],
   "source": [
    "c.total_seconds() / 3600"
   ]
  },
  {
   "cell_type": "markdown",
   "metadata": {},
   "source": [
    "Se você precisar representar datas e horas específicas, crie instâncias de data e hora e use as operações matemáticas padrão para manipulá-las. Por exemplo:"
   ]
  },
  {
   "cell_type": "code",
   "execution_count": 154,
   "metadata": {},
   "outputs": [
    {
     "name": "stdout",
     "output_type": "stream",
     "text": [
      "2012-10-03 00:00:00\n"
     ]
    }
   ],
   "source": [
    "from datetime import datetime\n",
    "a = datetime(2012, 9, 23)\n",
    "print(a + timedelta(days=10))"
   ]
  },
  {
   "cell_type": "code",
   "execution_count": 155,
   "metadata": {},
   "outputs": [
    {
     "data": {
      "text/plain": [
       "89"
      ]
     },
     "execution_count": 155,
     "metadata": {},
     "output_type": "execute_result"
    }
   ],
   "source": [
    "b = datetime(2012, 12, 21)\n",
    "d = b - a\n",
    "d.days"
   ]
  },
  {
   "cell_type": "code",
   "execution_count": 156,
   "metadata": {},
   "outputs": [
    {
     "name": "stdout",
     "output_type": "stream",
     "text": [
      "2022-10-29 19:38:03.133736\n"
     ]
    }
   ],
   "source": [
    "now = datetime.today()\n",
    "print(now)"
   ]
  },
  {
   "cell_type": "code",
   "execution_count": 157,
   "metadata": {},
   "outputs": [
    {
     "name": "stdout",
     "output_type": "stream",
     "text": [
      "2022-10-29 19:48:03.133736\n"
     ]
    }
   ],
   "source": [
    "print(now + timedelta(minutes=10))"
   ]
  },
  {
   "cell_type": "markdown",
   "metadata": {},
   "source": [
    "Ao fazer cálculos, deve-se notar que `datetime` está ciente dos anos bissextos. Por exemplo:"
   ]
  },
  {
   "cell_type": "code",
   "execution_count": 158,
   "metadata": {},
   "outputs": [
    {
     "data": {
      "text/plain": [
       "datetime.timedelta(days=2)"
      ]
     },
     "execution_count": 158,
     "metadata": {},
     "output_type": "execute_result"
    }
   ],
   "source": [
    "a = datetime(2012, 3, 1)\n",
    "b = datetime(2012, 2, 28)\n",
    "a - b"
   ]
  },
  {
   "cell_type": "code",
   "execution_count": 159,
   "metadata": {},
   "outputs": [
    {
     "data": {
      "text/plain": [
       "2"
      ]
     },
     "execution_count": 159,
     "metadata": {},
     "output_type": "execute_result"
    }
   ],
   "source": [
    "(a - b).days"
   ]
  },
  {
   "cell_type": "code",
   "execution_count": 160,
   "metadata": {},
   "outputs": [
    {
     "data": {
      "text/plain": [
       "1"
      ]
     },
     "execution_count": 160,
     "metadata": {},
     "output_type": "execute_result"
    }
   ],
   "source": [
    "c = datetime(2013, 3, 1)\n",
    "d = datetime(2013, 2, 28)\n",
    "(c - d).days"
   ]
  },
  {
   "cell_type": "markdown",
   "metadata": {},
   "source": [
    "**Discussão**\n",
    "\n",
    "Para a maioria dos problemas básicos de manipulação de data e hora, o módulo datetime será suficiente. Se você precisar realizar manipulações de data mais complexas, como lidar com fusos horários, intervalos de tempo difusos, calcular as datas de feriados e assim por diante, consulte o módulo `dateutil`.\n",
    "\n",
    "Para ilustrar, muitos cálculos de tempo semelhantes podem ser executados com a função `dateutil.relativedelta()`. No entanto, uma característica notável é que ele preenche algumas lacunas relacionadas ao manuseio de meses (e seu número diferente de dias). Por exemplo:"
   ]
  },
  {
   "cell_type": "code",
   "execution_count": 161,
   "metadata": {},
   "outputs": [],
   "source": [
    "a = datetime(2012, 9, 23)"
   ]
  },
  {
   "cell_type": "markdown",
   "metadata": {},
   "source": [
    "~~~python\n",
    "a + timedelta(months=1)\n",
    "Traceback (most recent call last):\n",
    "    File \"<stdin>\", line 1, in <module>\n",
    "  TypeError: 'months' is an invalid keyword argument for this function\n",
    "~~~"
   ]
  },
  {
   "cell_type": "code",
   "execution_count": 162,
   "metadata": {},
   "outputs": [
    {
     "data": {
      "text/plain": [
       "datetime.datetime(2012, 10, 23, 0, 0)"
      ]
     },
     "execution_count": 162,
     "metadata": {},
     "output_type": "execute_result"
    }
   ],
   "source": [
    "from dateutil.relativedelta import relativedelta\n",
    "a + relativedelta(months=+1)"
   ]
  },
  {
   "cell_type": "code",
   "execution_count": 163,
   "metadata": {},
   "outputs": [
    {
     "data": {
      "text/plain": [
       "datetime.datetime(2013, 1, 23, 0, 0)"
      ]
     },
     "execution_count": 163,
     "metadata": {},
     "output_type": "execute_result"
    }
   ],
   "source": [
    "a + relativedelta(months=+4)"
   ]
  },
  {
   "cell_type": "code",
   "execution_count": 164,
   "metadata": {},
   "outputs": [
    {
     "data": {
      "text/plain": [
       "datetime.timedelta(days=89)"
      ]
     },
     "execution_count": 164,
     "metadata": {},
     "output_type": "execute_result"
    }
   ],
   "source": [
    "# Time between two dates\n",
    "b = datetime(2012, 12, 21)\n",
    "d = b - a\n",
    "d"
   ]
  },
  {
   "cell_type": "code",
   "execution_count": 165,
   "metadata": {},
   "outputs": [
    {
     "data": {
      "text/plain": [
       "relativedelta(months=+2, days=+28)"
      ]
     },
     "execution_count": 165,
     "metadata": {},
     "output_type": "execute_result"
    }
   ],
   "source": [
    "d = relativedelta(b, a)\n",
    "d"
   ]
  },
  {
   "cell_type": "code",
   "execution_count": 166,
   "metadata": {},
   "outputs": [
    {
     "data": {
      "text/plain": [
       "2"
      ]
     },
     "execution_count": 166,
     "metadata": {},
     "output_type": "execute_result"
    }
   ],
   "source": [
    "d.months"
   ]
  },
  {
   "cell_type": "code",
   "execution_count": 167,
   "metadata": {},
   "outputs": [
    {
     "data": {
      "text/plain": [
       "28"
      ]
     },
     "execution_count": 167,
     "metadata": {},
     "output_type": "execute_result"
    }
   ],
   "source": [
    "d.days"
   ]
  },
  {
   "cell_type": "markdown",
   "metadata": {},
   "source": [
    "## 3.13. Determinando a data da última sexta-feira\n",
    "\n",
    "**Problema**\n",
    "\n",
    "Você quer uma solução geral para encontrar uma data para a última ocorrência de um dia da semana. Sexta-feira passada, por exemplo.\n",
    "\n",
    "**Solução**\n",
    "\n",
    "O módulo datetime do Python possui funções e classes utilitárias para ajudar a realizar cálculos como este. Uma solução genérica e decente para esse problema se parece com isso:"
   ]
  },
  {
   "cell_type": "code",
   "execution_count": 168,
   "metadata": {},
   "outputs": [],
   "source": [
    "from datetime import datetime, timedelta\n",
    "\n",
    "weekdays = ['Monday', 'Tuesday', 'Wednesday', 'Thursday','Friday', 'Saturday', 'Sunday']\n",
    "\n",
    "def get_previous_byday(dayname, start_date=None):\n",
    "    if start_date is None:\n",
    "        start_date = datetime.today()\n",
    "        day_num = start_date.weekday()\n",
    "        day_num_target = weekdays.index(dayname)\n",
    "        days_ago = (7 + day_num - day_num_target) % 7\n",
    "        if days_ago == 0:\n",
    "            days_ago = 7\n",
    "        target_date = start_date - timedelta(days=days_ago)\n",
    "        return target_date"
   ]
  },
  {
   "cell_type": "markdown",
   "metadata": {},
   "source": [
    "Usando isso em uma sessão de intérprete ficaria assim:"
   ]
  },
  {
   "cell_type": "code",
   "execution_count": 169,
   "metadata": {},
   "outputs": [
    {
     "data": {
      "text/plain": [
       "datetime.datetime(2022, 10, 29, 19, 38, 3, 528373)"
      ]
     },
     "execution_count": 169,
     "metadata": {},
     "output_type": "execute_result"
    }
   ],
   "source": [
    "datetime.today() # For reference"
   ]
  },
  {
   "cell_type": "code",
   "execution_count": 170,
   "metadata": {},
   "outputs": [
    {
     "data": {
      "text/plain": [
       "datetime.datetime(2022, 10, 24, 19, 38, 3, 569566)"
      ]
     },
     "execution_count": 170,
     "metadata": {},
     "output_type": "execute_result"
    }
   ],
   "source": [
    "get_previous_byday('Monday')"
   ]
  },
  {
   "cell_type": "code",
   "execution_count": 171,
   "metadata": {},
   "outputs": [
    {
     "data": {
      "text/plain": [
       "datetime.datetime(2022, 10, 25, 19, 38, 3, 601480)"
      ]
     },
     "execution_count": 171,
     "metadata": {},
     "output_type": "execute_result"
    }
   ],
   "source": [
    "get_previous_byday('Tuesday') # Previous week, not today"
   ]
  },
  {
   "cell_type": "code",
   "execution_count": 172,
   "metadata": {},
   "outputs": [
    {
     "data": {
      "text/plain": [
       "datetime.datetime(2022, 10, 28, 19, 38, 3, 632398)"
      ]
     },
     "execution_count": 172,
     "metadata": {},
     "output_type": "execute_result"
    }
   ],
   "source": [
    "get_previous_byday('Friday')"
   ]
  },
  {
   "cell_type": "markdown",
   "metadata": {},
   "source": [
    "O `start_date` opcional pode ser fornecido usando outra instância de `datetime`. Por exemplo:"
   ]
  },
  {
   "cell_type": "code",
   "execution_count": 173,
   "metadata": {},
   "outputs": [],
   "source": [
    "get_previous_byday('Sunday', datetime(2012, 12, 21))"
   ]
  },
  {
   "cell_type": "markdown",
   "metadata": {},
   "source": [
    "**Discussão**\n",
    "\n",
    "Essa receita funciona mapeando a data de início e a data de destino para sua posição numérica na semana (com segunda-feira como dia 0). A aritmética modular é então usada para descobrir há quantos dias a data de destino ocorreu pela última vez. A partir daí, a data desejada é calculada a partir da data de início, subtraindo uma instância de timedelta apropriada.\n",
    "\n",
    "Se você estiver realizando muitos cálculos de data como este, talvez seja melhor instalar o pacote python-dateutil. Por exemplo, aqui está um exemplo de como realizar o mesmo cálculo usando a função `relativedelta()` do `dateutil`:"
   ]
  },
  {
   "cell_type": "code",
   "execution_count": 174,
   "metadata": {},
   "outputs": [
    {
     "name": "stdout",
     "output_type": "stream",
     "text": [
      "2022-10-29 19:38:03.700004\n"
     ]
    }
   ],
   "source": [
    "from datetime import datetime\n",
    "from dateutil.relativedelta import relativedelta\n",
    "from dateutil.rrule import *\n",
    "d = datetime.now()\n",
    "print(d)"
   ]
  },
  {
   "cell_type": "code",
   "execution_count": 175,
   "metadata": {},
   "outputs": [
    {
     "name": "stdout",
     "output_type": "stream",
     "text": [
      "2022-11-04 19:38:03.700004\n"
     ]
    }
   ],
   "source": [
    "# Next Friday\n",
    "print(d + relativedelta(weekday=FR))"
   ]
  },
  {
   "cell_type": "code",
   "execution_count": 176,
   "metadata": {},
   "outputs": [
    {
     "name": "stdout",
     "output_type": "stream",
     "text": [
      "2022-10-28 19:38:03.700004\n"
     ]
    }
   ],
   "source": [
    "# Last Friday\n",
    "print(d + relativedelta(weekday=FR(-1)))"
   ]
  },
  {
   "cell_type": "markdown",
   "metadata": {},
   "source": [
    "## 3.14. Encontrando o intervalo de datas para o mês atual\n",
    "\n",
    "**Problema**\n",
    "\n",
    "Você tem algum código que precisa percorrer cada data no mês atual e deseja uma maneira eficiente de calcular esse intervalo de datas.\n",
    "\n",
    "**Solução**\n",
    "\n",
    "Fazer um loop sobre as datas não requer a construção de uma lista de todas as datas com antecedência. Você pode apenas calcular a data inicial e final no intervalo e, em seguida, usar objetos datetime.timedelta para incrementar a data à medida que avança. Aqui está uma função que pega qualquer objeto datetime e retorna uma tupla contendo a primeira data do mês e a data inicial do próximo mês:"
   ]
  },
  {
   "cell_type": "code",
   "execution_count": 177,
   "metadata": {},
   "outputs": [],
   "source": [
    "from datetime import datetime, date, timedelta\n",
    "import calendar\n",
    "\n",
    "def get_month_range(start_date=None):\n",
    "    if start_date is None:\n",
    "        start_date = date.today().replace(day=1)\n",
    "    _,days_in_month = calendar.monthrange(start_date.year, start_date.month)\n",
    "    end_date = start_date + timedelta(days= days_in_month)\n",
    "    return (start_date, end_date)   \n",
    "        "
   ]
  },
  {
   "cell_type": "markdown",
   "metadata": {},
   "source": [
    "Com isso em vigor, é bem simples fazer um loop no intervalo de datas:"
   ]
  },
  {
   "cell_type": "code",
   "execution_count": 178,
   "metadata": {},
   "outputs": [
    {
     "name": "stdout",
     "output_type": "stream",
     "text": [
      "2022-10-01\n",
      "2022-10-02\n",
      "2022-10-03\n",
      "2022-10-04\n",
      "2022-10-05\n",
      "2022-10-06\n",
      "2022-10-07\n",
      "2022-10-08\n",
      "2022-10-09\n",
      "2022-10-10\n",
      "2022-10-11\n",
      "2022-10-12\n",
      "2022-10-13\n",
      "2022-10-14\n",
      "2022-10-15\n",
      "2022-10-16\n",
      "2022-10-17\n",
      "2022-10-18\n",
      "2022-10-19\n",
      "2022-10-20\n",
      "2022-10-21\n",
      "2022-10-22\n",
      "2022-10-23\n",
      "2022-10-24\n",
      "2022-10-25\n",
      "2022-10-26\n",
      "2022-10-27\n",
      "2022-10-28\n",
      "2022-10-29\n",
      "2022-10-30\n",
      "2022-10-31\n"
     ]
    }
   ],
   "source": [
    "a_day = timedelta(days=1)\n",
    "first_day, last_day = get_month_range()\n",
    "while first_day < last_day:\n",
    "    print(first_day)\n",
    "    first_day +=a_day"
   ]
  },
  {
   "cell_type": "markdown",
   "metadata": {},
   "source": [
    "**Discussão**\n",
    "\n",
    "Esta receita funciona primeiro calculando um dado correspondente ao primeiro dia do mês. Uma maneira rápida de fazer isso é usar o método **replace()** de um objeto date ou datetime para definir simplesmente ou atribuir dias como **1**. Uma coisa legal sobre o método **replace()** é que ele cria o mesmo tipo de objeto que você iniciou com o método. Assim, se uma entrada for uma instância de dados, o resultado será um dado. Da mesma forma, se a entrada for uma instância de dados e hora, você obterá uma instância de dados e hora.\n",
    "\n",
    "Depois disso, a função **calendar.monthrange()** é usada para descobrir quantos dias há no mês em questão. Sempre que você precisar obter informações sobre calendários, ou módulo de calendário pode ser útil. **monthrange()** é apenas uma dessas funções que retorna uma tupla contendo o dia da semana junto com o número de dias do mês.\n",
    "\n",
    "Uma vez que o número de dias do mês é conhecido, os dados finais são compatíveis com os dados iniciais de um tempodelta. É sutil, mas um aspecto importante dessa receita final não deve ser definido no período (na verdade, é o primeiro dia do próximo). Isso espelha o comportamento das operações de fatias e intervalos do Python, que também nunca inclui o ponto final.\n",
    "Para fazer um loop no intervalo de dados, são usados cálculos matemáticos e de comparação padrão. Por exemplo, as instâncias timedelta podem ser usadas para incrementar dados. O operador **<** é usado para verificar se um dado vem antes da data final.\n",
    "\n",
    "Idealmente, seria bom criar uma função que funcionasse como a função **range()** integrada, mas para datas. Felizmente, isso é extremamente fácil de implementar usando um gerador:"
   ]
  },
  {
   "cell_type": "code",
   "execution_count": 179,
   "metadata": {},
   "outputs": [],
   "source": [
    "def date_range(start, stop, step):\n",
    "    while start < stop:\n",
    "        yield start\n",
    "        start +=step"
   ]
  },
  {
   "cell_type": "markdown",
   "metadata": {},
   "source": [
    "Aqui está um exemplo dele em uso:"
   ]
  },
  {
   "cell_type": "code",
   "execution_count": 180,
   "metadata": {},
   "outputs": [
    {
     "name": "stdout",
     "output_type": "stream",
     "text": [
      "2012-09-01 00:00:00\n",
      "2012-09-01 06:00:00\n",
      "2012-09-01 12:00:00\n",
      "2012-09-01 18:00:00\n",
      "2012-09-02 00:00:00\n",
      "2012-09-02 06:00:00\n",
      "2012-09-02 12:00:00\n",
      "2012-09-02 18:00:00\n",
      "2012-09-03 00:00:00\n",
      "2012-09-03 06:00:00\n",
      "2012-09-03 12:00:00\n",
      "2012-09-03 18:00:00\n",
      "2012-09-04 00:00:00\n",
      "2012-09-04 06:00:00\n",
      "2012-09-04 12:00:00\n",
      "2012-09-04 18:00:00\n",
      "2012-09-05 00:00:00\n",
      "2012-09-05 06:00:00\n",
      "2012-09-05 12:00:00\n",
      "2012-09-05 18:00:00\n",
      "2012-09-06 00:00:00\n",
      "2012-09-06 06:00:00\n",
      "2012-09-06 12:00:00\n",
      "2012-09-06 18:00:00\n",
      "2012-09-07 00:00:00\n",
      "2012-09-07 06:00:00\n",
      "2012-09-07 12:00:00\n",
      "2012-09-07 18:00:00\n",
      "2012-09-08 00:00:00\n",
      "2012-09-08 06:00:00\n",
      "2012-09-08 12:00:00\n",
      "2012-09-08 18:00:00\n",
      "2012-09-09 00:00:00\n",
      "2012-09-09 06:00:00\n",
      "2012-09-09 12:00:00\n",
      "2012-09-09 18:00:00\n",
      "2012-09-10 00:00:00\n",
      "2012-09-10 06:00:00\n",
      "2012-09-10 12:00:00\n",
      "2012-09-10 18:00:00\n",
      "2012-09-11 00:00:00\n",
      "2012-09-11 06:00:00\n",
      "2012-09-11 12:00:00\n",
      "2012-09-11 18:00:00\n",
      "2012-09-12 00:00:00\n",
      "2012-09-12 06:00:00\n",
      "2012-09-12 12:00:00\n",
      "2012-09-12 18:00:00\n",
      "2012-09-13 00:00:00\n",
      "2012-09-13 06:00:00\n",
      "2012-09-13 12:00:00\n",
      "2012-09-13 18:00:00\n",
      "2012-09-14 00:00:00\n",
      "2012-09-14 06:00:00\n",
      "2012-09-14 12:00:00\n",
      "2012-09-14 18:00:00\n",
      "2012-09-15 00:00:00\n",
      "2012-09-15 06:00:00\n",
      "2012-09-15 12:00:00\n",
      "2012-09-15 18:00:00\n",
      "2012-09-16 00:00:00\n",
      "2012-09-16 06:00:00\n",
      "2012-09-16 12:00:00\n",
      "2012-09-16 18:00:00\n",
      "2012-09-17 00:00:00\n",
      "2012-09-17 06:00:00\n",
      "2012-09-17 12:00:00\n",
      "2012-09-17 18:00:00\n",
      "2012-09-18 00:00:00\n",
      "2012-09-18 06:00:00\n",
      "2012-09-18 12:00:00\n",
      "2012-09-18 18:00:00\n",
      "2012-09-19 00:00:00\n",
      "2012-09-19 06:00:00\n",
      "2012-09-19 12:00:00\n",
      "2012-09-19 18:00:00\n",
      "2012-09-20 00:00:00\n",
      "2012-09-20 06:00:00\n",
      "2012-09-20 12:00:00\n",
      "2012-09-20 18:00:00\n",
      "2012-09-21 00:00:00\n",
      "2012-09-21 06:00:00\n",
      "2012-09-21 12:00:00\n",
      "2012-09-21 18:00:00\n",
      "2012-09-22 00:00:00\n",
      "2012-09-22 06:00:00\n",
      "2012-09-22 12:00:00\n",
      "2012-09-22 18:00:00\n",
      "2012-09-23 00:00:00\n",
      "2012-09-23 06:00:00\n",
      "2012-09-23 12:00:00\n",
      "2012-09-23 18:00:00\n",
      "2012-09-24 00:00:00\n",
      "2012-09-24 06:00:00\n",
      "2012-09-24 12:00:00\n",
      "2012-09-24 18:00:00\n",
      "2012-09-25 00:00:00\n",
      "2012-09-25 06:00:00\n",
      "2012-09-25 12:00:00\n",
      "2012-09-25 18:00:00\n",
      "2012-09-26 00:00:00\n",
      "2012-09-26 06:00:00\n",
      "2012-09-26 12:00:00\n",
      "2012-09-26 18:00:00\n",
      "2012-09-27 00:00:00\n",
      "2012-09-27 06:00:00\n",
      "2012-09-27 12:00:00\n",
      "2012-09-27 18:00:00\n",
      "2012-09-28 00:00:00\n",
      "2012-09-28 06:00:00\n",
      "2012-09-28 12:00:00\n",
      "2012-09-28 18:00:00\n",
      "2012-09-29 00:00:00\n",
      "2012-09-29 06:00:00\n",
      "2012-09-29 12:00:00\n",
      "2012-09-29 18:00:00\n",
      "2012-09-30 00:00:00\n",
      "2012-09-30 06:00:00\n",
      "2012-09-30 12:00:00\n",
      "2012-09-30 18:00:00\n"
     ]
    }
   ],
   "source": [
    "for d in date_range(datetime(2012, 9, 1), datetime(2012,10,1), timedelta(hours=6)):\n",
    "    print(d)"
   ]
  },
  {
   "cell_type": "markdown",
   "metadata": {},
   "source": [
    "Novamente, uma parte importante da facilidade de implementação é que datas e horas podem ser manipuladas usando operadores matemáticos e de comparação padrão.\n",
    "\n",
    "## 3.15. Convertendo Strings em DateTimes\n",
    "\n",
    "**Problema**\n",
    "\n",
    "Seu aplicativo recebe dados temporais em formato de string, mas você deseja converter essas strings em objetos de data e hora para realizar operações não string neles.\n",
    "\n",
    "**Solução**\n",
    "\n",
    "O módulo datetime padrão do Python é normalmente a solução fácil para isso. Por exemplo:"
   ]
  },
  {
   "cell_type": "code",
   "execution_count": 181,
   "metadata": {},
   "outputs": [
    {
     "data": {
      "text/plain": [
       "datetime.timedelta(days=3691, seconds=70683, microseconds=916057)"
      ]
     },
     "execution_count": 181,
     "metadata": {},
     "output_type": "execute_result"
    }
   ],
   "source": [
    "from datetime import datetime\n",
    "text = '2012-09-20'\n",
    "y = datetime.strptime(text, '%Y-%m-%d')\n",
    "z = datetime.now()\n",
    "diff = z - y\n",
    "diff"
   ]
  },
  {
   "cell_type": "markdown",
   "metadata": {},
   "source": [
    "**Discussão**\n",
    "O método `datetime.strptime()` suporta vários códigos de formatação, como `%Y` para o ano de quatro dígitos e `%m` para o mês de dois dígitos. Também vale a pena notar que esses espaços reservados de formatação também funcionam ao contrário, caso você precise representar um objeto de data e hora na saída de string e torná-lo bonito.\n",
    "\n",
    "Por exemplo, digamos que você tenha algum código que gere um objeto **datetime**, mas você precisa formatar uma data legal e legível para colocar no cabeçalho de uma carta ou relatório gerado automaticamente:"
   ]
  },
  {
   "cell_type": "code",
   "execution_count": 182,
   "metadata": {},
   "outputs": [
    {
     "data": {
      "text/plain": [
       "datetime.datetime(2022, 10, 29, 19, 38, 3, 916057)"
      ]
     },
     "execution_count": 182,
     "metadata": {},
     "output_type": "execute_result"
    }
   ],
   "source": [
    "z"
   ]
  },
  {
   "cell_type": "code",
   "execution_count": 183,
   "metadata": {},
   "outputs": [
    {
     "data": {
      "text/plain": [
       "'Saturday October 29, 2022'"
      ]
     },
     "execution_count": 183,
     "metadata": {},
     "output_type": "execute_result"
    }
   ],
   "source": [
    "nice_z = datetime.strftime(z, '%A %B %d, %Y')\n",
    "nice_z"
   ]
  },
  {
   "cell_type": "markdown",
   "metadata": {},
   "source": [
    "Vale a pena notar que o desempenho de `strptime()` geralmente é muito pior do que você poderia esperar, devido ao fato de ser escrito em Python puro e ter que lidar com todos os tipos de configurações de localidade do sistema. Se você estiver analisando muitas datas em seu código e souber o formato preciso, provavelmente obterá um desempenho muito melhor preparando uma solução personalizada. Por exemplo, se você soubesse que as datas estavam no formato **“AAAA-MM-DD”**, você poderia escrever uma função como esta:"
   ]
  },
  {
   "cell_type": "code",
   "execution_count": 184,
   "metadata": {},
   "outputs": [],
   "source": [
    "from datetime import datetime\n",
    "def parse_ymd(s):\n",
    "    year_s,mon_s, day_s = s.split('-')\n",
    "    return datetime(int(year_s), int(mon_s), int(day_s))"
   ]
  },
  {
   "cell_type": "markdown",
   "metadata": {},
   "source": [
    "Quando testada, esta função é executada sete vezes mais rápido que `datetime.strptime()`. Isso provavelmente é algo a ser considerado se você estiver processando grandes quantidades de dados envolvendo datas."
   ]
  },
  {
   "cell_type": "markdown",
   "metadata": {},
   "source": [
    "## 3.16. Manipulando datas envolvendo fusos horários\n",
    "\n",
    "**Problema**\n",
    "\n",
    "Você tinha uma teleconferência agendada para 21 de dezembro de 2012, às 9h30 em Chicago. Em que horário local seu amigo em Bangalore, na Índia, teve que comparecer?\n",
    "\n",
    "**Solução**\n",
    "\n",
    "Para quase qualquer problema envolvendo fusos horários, você deve usar o módulo `pytz`. Este pacote fornece o banco de dados de fuso horário Olson, que é o padrão de fato para informações de fuso horário encontradas em muitos idiomas e sistemas operacionais.\n",
    "\n",
    "Um dos principais usos do `pytz` é localizar datas simples criadas com a biblioteca `datetime`. Por exemplo, veja como você representaria uma data no horário de Chicago:"
   ]
  },
  {
   "cell_type": "code",
   "execution_count": 185,
   "metadata": {},
   "outputs": [
    {
     "name": "stdout",
     "output_type": "stream",
     "text": [
      "2012-12-21 09:30:00\n"
     ]
    }
   ],
   "source": [
    "from datetime import datetime\n",
    "from pytz import timezone\n",
    "\n",
    "d = datetime(2012, 12, 21, 9, 30, 0)\n",
    "print(d)"
   ]
  },
  {
   "cell_type": "code",
   "execution_count": 186,
   "metadata": {},
   "outputs": [
    {
     "name": "stdout",
     "output_type": "stream",
     "text": [
      "2012-12-21 09:30:00-06:00\n"
     ]
    }
   ],
   "source": [
    "# Localize the date for Chicago\n",
    "central = timezone('US/Central')\n",
    "loc_d = central.localize(d)\n",
    "print(loc_d)"
   ]
  },
  {
   "cell_type": "markdown",
   "metadata": {},
   "source": [
    "Uma vez localizada a data, ela pode ser convertida para outros fusos horários. Para encontrar a mesma hora em Bangalore, você faria isso:"
   ]
  },
  {
   "cell_type": "code",
   "execution_count": 187,
   "metadata": {},
   "outputs": [
    {
     "name": "stdout",
     "output_type": "stream",
     "text": [
      "2012-12-21 21:00:00+05:30\n"
     ]
    }
   ],
   "source": [
    "# Convert to Bangalore time\n",
    "bang_d = loc_d.astimezone(timezone('Asia/Kolkata'))\n",
    "print(bang_d)"
   ]
  },
  {
   "cell_type": "markdown",
   "metadata": {},
   "source": [
    "Se você for realizar aritmética com datas localizadas, precisará estar particularmente atento às transições de horário de verão e outros detalhes. Por exemplo, em 2013, o horário de verão padrão dos EUA começou em 13 de março, às 2h, horário local (nesse ponto, o horário saltou uma hora). Se você estiver executando aritmética ingênua, você errará. Por exemplo:"
   ]
  },
  {
   "cell_type": "code",
   "execution_count": 188,
   "metadata": {},
   "outputs": [
    {
     "name": "stdout",
     "output_type": "stream",
     "text": [
      "2013-03-10 01:45:00-06:00\n"
     ]
    }
   ],
   "source": [
    "d = datetime(2013, 3, 10, 1, 45)\n",
    "loc_d = central.localize(d)\n",
    "print(loc_d)\n"
   ]
  },
  {
   "cell_type": "code",
   "execution_count": 189,
   "metadata": {},
   "outputs": [
    {
     "name": "stdout",
     "output_type": "stream",
     "text": [
      "2013-03-10 02:15:00-06:00\n"
     ]
    }
   ],
   "source": [
    "later = loc_d + timedelta(minutes=30)\n",
    "print(later)"
   ]
  },
  {
   "cell_type": "markdown",
   "metadata": {},
   "source": [
    "A resposta está errada porque não leva em conta o salto de uma hora na hora local. Para corrigir isso, use o método `normalize()` do fuso horário. Por exemplo:"
   ]
  },
  {
   "cell_type": "code",
   "execution_count": 190,
   "metadata": {},
   "outputs": [
    {
     "name": "stdout",
     "output_type": "stream",
     "text": [
      "2013-03-10 03:15:00-05:00\n"
     ]
    }
   ],
   "source": [
    "from datetime import timedelta\n",
    "later = central.normalize(loc_d + timedelta(minutes=30))\n",
    "print(later)"
   ]
  },
  {
   "cell_type": "markdown",
   "metadata": {},
   "source": [
    "**Discussão**\n",
    "\n",
    "Para evitar que sua cabeça exploda completamente, uma estratégia comum para manipulação de data localizada é converter todas as datas para o horário UTC e usá-lo para todo armazenamento interno e manipulação. Por exemplo:"
   ]
  },
  {
   "cell_type": "code",
   "execution_count": 191,
   "metadata": {},
   "outputs": [
    {
     "name": "stdout",
     "output_type": "stream",
     "text": [
      "2013-03-10 01:45:00-06:00\n"
     ]
    }
   ],
   "source": [
    "print(loc_d)"
   ]
  },
  {
   "cell_type": "code",
   "execution_count": 192,
   "metadata": {},
   "outputs": [
    {
     "name": "stdout",
     "output_type": "stream",
     "text": [
      "2013-03-10 07:45:00+00:00\n"
     ]
    }
   ],
   "source": [
    "import pytz\n",
    "utc_d = loc_d.astimezone(pytz.utc)\n",
    "print(utc_d)"
   ]
  },
  {
   "cell_type": "markdown",
   "metadata": {},
   "source": [
    "Uma vez no UTC, você não precisa se preocupar com problemas relacionados ao horário de verão e outros assuntos. Assim, você pode simplesmente executar a aritmética de data normal como antes. Se você quiser exibir a data no horário localizado, basta convertê-la para o fuso horário apropriado posteriormente. Por exemplo:"
   ]
  },
  {
   "cell_type": "code",
   "execution_count": 193,
   "metadata": {},
   "outputs": [
    {
     "name": "stdout",
     "output_type": "stream",
     "text": [
      "2013-03-10 03:15:00-05:00\n"
     ]
    }
   ],
   "source": [
    "later_utc = utc_d + timedelta(minutes=30)\n",
    "print(later_utc.astimezone(central))"
   ]
  },
  {
   "cell_type": "markdown",
   "metadata": {},
   "source": [
    "Um problema ao trabalhar com fusos horários é simplesmente descobrir quais nomes de fuso horário usar. Por exemplo, nesta receita, como se sabia que “Asia/Kolkata” era o nome de fuso horário correto para a Índia? Para descobrir, você pode consultar o dicionário `pytz.country_timezones` usando o código do país ISO 3166 como chave. Por exemplo:"
   ]
  },
  {
   "cell_type": "code",
   "execution_count": 194,
   "metadata": {},
   "outputs": [
    {
     "data": {
      "text/plain": [
       "['Asia/Kolkata']"
      ]
     },
     "execution_count": 194,
     "metadata": {},
     "output_type": "execute_result"
    }
   ],
   "source": [
    "pytz.country_timezones['IN']"
   ]
  },
  {
   "cell_type": "markdown",
   "metadata": {},
   "source": [
    "No momento em que você ler isso, é possível que o módulo `pytz` seja preterido em favor do suporte aprimorado ao fuso horário, conforme descrito no PEP 431. No entanto, muitos dos mesmos problemas ainda serão aplicados (por exemplo, conselhos usando datas UTC etc. )."
   ]
  }
 ],
 "metadata": {
  "hide_input": false,
  "kernelspec": {
   "display_name": "Python 3",
   "language": "python",
   "name": "python3"
  },
  "language_info": {
   "codemirror_mode": {
    "name": "ipython",
    "version": 3
   },
   "file_extension": ".py",
   "mimetype": "text/x-python",
   "name": "python",
   "nbconvert_exporter": "python",
   "pygments_lexer": "ipython3",
   "version": "3.8.5"
  }
 },
 "nbformat": 4,
 "nbformat_minor": 4
}
