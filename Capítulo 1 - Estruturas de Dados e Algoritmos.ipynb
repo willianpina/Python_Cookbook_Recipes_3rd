{
 "cells": [
  {
   "cell_type": "markdown",
   "metadata": {},
   "source": [
    "<h1 align=center>Capítulo 1</h1>\n",
    "<h2 align=center>Estutura de Dados e Algoritmos</h2>\n",
    "<p align=center><img src=https://capiremov.org/wp-content/uploads/2021/07/algoritmo.jpg width=500</p>"
   ]
  },
  {
   "cell_type": "markdown",
   "metadata": {},
   "source": [
    "O Python fornece uma variedade de estruturas de dados internas úteis, como listas, conjuntos e dicionários. Na maioria das vezes, o uso dessas estruturas é simples. No entanto, muitas vezes surgem perguntas comuns sobre pesquisa, classificação, ordenação e filtragem. Assim, o objetivo deste capítulo é discutir estruturas de dados e algoritmos comuns envolvendo dados. Além disso, é dado tratamento às diversas estruturas de dados contidas no módulo de coleções.\n",
    "\n",
    "## 1.1. Desempacotando uma sequência em variáveis separadas\n",
    "**Problema**\n",
    "Você tem uma tupla ou sequência de N elementos que gostaria de descompactar em uma coleção de N variáveis.\n",
    "\n",
    "**Solução**\n",
    "Qualquer sequência (ou iterável) pode ser descompactada em variáveis usando uma simples operação de atribuição. O único requisito é que o número de variáveis e a estrutura correspondam à sequência. Por exemplo:"
   ]
  },
  {
   "cell_type": "code",
   "execution_count": 30,
   "metadata": {},
   "outputs": [
    {
     "data": {
      "text/plain": "4"
     },
     "execution_count": 30,
     "metadata": {},
     "output_type": "execute_result"
    }
   ],
   "source": [
    "p=(4,5)\n",
    "x,y = p\n",
    "x"
   ]
  },
  {
   "cell_type": "code",
   "execution_count": 31,
   "metadata": {},
   "outputs": [
    {
     "data": {
      "text/plain": "5"
     },
     "execution_count": 31,
     "metadata": {},
     "output_type": "execute_result"
    }
   ],
   "source": [
    "y"
   ]
  },
  {
   "cell_type": "code",
   "execution_count": 32,
   "metadata": {},
   "outputs": [
    {
     "name": "stdout",
     "output_type": "stream",
     "text": [
      "ACME\n",
      "50\n",
      "91.1\n",
      "(2012, 12, 21)\n"
     ]
    }
   ],
   "source": [
    "data = [ 'ACME', 50, 91.1, (2012, 12, 21) ]\n",
    "name, shares, price, date = data\n",
    "print(name)\n",
    "print(shares)\n",
    "print(price)\n",
    "print(date)"
   ]
  },
  {
   "cell_type": "code",
   "execution_count": 33,
   "metadata": {},
   "outputs": [
    {
     "name": "stdout",
     "output_type": "stream",
     "text": [
      "ACME\n",
      "21\n",
      "12\n",
      "2012\n"
     ]
    }
   ],
   "source": [
    "name, shares, price, (year, mon, day) = data # Tem que ser a mesma quantidade de elementos. Senão dá erro!!\n",
    "print(name)\n",
    "print(day)\n",
    "print(mon)\n",
    "print(year)"
   ]
  },
  {
   "cell_type": "markdown",
   "metadata": {},
   "source": [
    "**Discussão**\n",
    "\n",
    "A descompactação realmente funciona com qualquer objeto que seja iterável, não apenas tuplas ou listas. Isso inclui strings, arquivos, iteradores e geradores. Por exemplo:"
   ]
  },
  {
   "cell_type": "code",
   "execution_count": 34,
   "metadata": {},
   "outputs": [
    {
     "name": "stdout",
     "output_type": "stream",
     "text": [
      "H\n",
      "e\n",
      "l\n",
      "l\n",
      "o\n"
     ]
    }
   ],
   "source": [
    "s = 'Hello'\n",
    "a, b, c, d, e = s\n",
    "print(a)\n",
    "print(b)\n",
    "print(c)\n",
    "print(d)\n",
    "print(e)"
   ]
  },
  {
   "cell_type": "markdown",
   "metadata": {},
   "source": [
    "Ao descompactar, às vezes você pode querer descartar certos valores. Python não tem sintaxe especial para isso, mas muitas vezes você pode simplesmente escolher um nome de variável descartável para ele. Por exemplo:"
   ]
  },
  {
   "cell_type": "code",
   "execution_count": 35,
   "metadata": {},
   "outputs": [
    {
     "name": "stdout",
     "output_type": "stream",
     "text": [
      "55\n",
      "97\n"
     ]
    }
   ],
   "source": [
    "data = [ 'ACME', 55, 97, (2012, 12, 21) ]\n",
    "_, shares, price, _ = data\n",
    "print(shares)\n",
    "print(price)"
   ]
  },
  {
   "cell_type": "markdown",
   "metadata": {},
   "source": [
    "No entanto, certifique-se de que o nome da variável que você escolher não esteja sendo usado para outra coisa.\n",
    "\n",
    "## 1.2. Descompactando Elementos de Iteráveis de Comprimento Arbitrário\n",
    "\n",
    "**Problema**\n",
    "\n",
    "Você precisa descompactar N elementos de um iterável, mas o iterável pode ser maior que N elementos, causando uma exceção de “muitos valores para descompactar”.\n",
    "\n",
    "**Solução**\n",
    "\n",
    "As “expressões em estrela” do Python podem ser usadas para resolver esse problema. Por exemplo, suponha que você faça um curso e decida no final do semestre que vai tirar a primeira e a última notas da lição de casa e apenas tirar a média do restante delas. Se houver apenas quatro tarefas, talvez você simplesmente descompacte todas as quatro, mas e se houver 24? Uma expressão de estrela facilita:"
   ]
  },
  {
   "cell_type": "code",
   "execution_count": 36,
   "metadata": {},
   "outputs": [],
   "source": [
    "from statistics import mean\n",
    "\n",
    "def drop_first_last(grades):\n",
    "\tfirst, *middle, last = grades\n",
    "\treturn mean(middle)"
   ]
  },
  {
   "cell_type": "markdown",
   "metadata": {},
   "source": [
    "Como outro caso de uso, suponha que você tenha registros de usuário que consistem em um nome e endereço de e-mail, seguidos por um número arbitrário de números de telefone. Você pode descompactar os registros assim:"
   ]
  },
  {
   "cell_type": "code",
   "execution_count": 37,
   "metadata": {},
   "outputs": [
    {
     "name": "stdout",
     "output_type": "stream",
     "text": [
      "Dave\n",
      "dave@example.com\n",
      "['773-555-1212', '847-555-1212']\n"
     ]
    }
   ],
   "source": [
    "user_record = ('Dave', 'dave@example.com', '773-555-1212', '847-555-1212')\n",
    "name, email, *phone_numbers = user_record\n",
    "print(name)\n",
    "print(email)\n",
    "print(phone_numbers)"
   ]
  },
  {
   "cell_type": "markdown",
   "metadata": {},
   "source": [
    "Vale a pena notar que a variável `phone_numbers` sempre será uma lista, independentemente de quantos números de telefone forem descompactados (incluindo nenhum). Assim, qualquer código que use `phone_numbers` não terá que levar em conta a possibilidade de não ser uma lista ou realizar qualquer tipo de verificação de tipo adicional.\n",
    "\n",
    "A variável com estrela também pode ser a primeira da lista. Por exemplo, digamos que você tenha uma sequência de valores representando os números de vendas da sua empresa nos últimos oito trimestres. Se você quiser ver como o trimestre mais recente se compara à média dos sete primeiros, você pode fazer algo assim:\n",
    "<code>\n",
    "*trailing_qtrs, current_qtr = sales_record\n",
    "trailing_avg = sum(trailing_qtrs) / len(trailing_qtrs)\n",
    "return avg_comparison(trailing_avg, current_qtr)\n",
    "</code>"
   ]
  },
  {
   "cell_type": "code",
   "execution_count": 38,
   "metadata": {},
   "outputs": [
    {
     "name": "stdout",
     "output_type": "stream",
     "text": [
      "[10, 8, 7, 1, 9, 5, 10]\n"
     ]
    }
   ],
   "source": [
    "# Aqui está uma visão da operação do interpretador Python:\n",
    "*trailing, current = [10, 8, 7, 1, 9, 5, 10, 3]\n",
    "\n",
    "print(trailing)"
   ]
  },
  {
   "cell_type": "code",
   "execution_count": 39,
   "metadata": {},
   "outputs": [
    {
     "name": "stdout",
     "output_type": "stream",
     "text": [
      "3\n"
     ]
    }
   ],
   "source": [
    "print(current)"
   ]
  },
  {
   "cell_type": "markdown",
   "metadata": {},
   "source": [
    "**Discussão**\n",
    "\n",
    "A descompactação iterável estendida é feita sob medida para descompactar iteráveis de comprimento desconhecido ou arbitrário. Muitas vezes, esses iteráveis têm algum componente ou padrão conhecido em sua construção (por exemplo, “tudo após o elemento 1 é um número de telefone”), e a descompactação em estrela permite que o desenvolvedor aproveite esses padrões facilmente em vez de realizar acrobacias para obter os elementos relevantes no iterável.\n",
    "\n",
    "Vale a pena notar que a sintaxe estrela pode ser especialmente útil ao iterar sobre uma sequência de tuplas de comprimento variável. Por exemplo, talvez uma sequência de tuplas marcadas:"
   ]
  },
  {
   "cell_type": "code",
   "execution_count": 40,
   "metadata": {},
   "outputs": [
    {
     "name": "stdout",
     "output_type": "stream",
     "text": [
      "foo 1 2\n",
      "bar hello\n",
      "foo 3 4\n"
     ]
    }
   ],
   "source": [
    "records = [\n",
    "    ('foo', 1, 2),\n",
    "    ('bar', 'hello'),\n",
    "    ('foo', 3, 4),\n",
    "]\n",
    "def do_foo(x, y):\n",
    "    print('foo', x, y)\n",
    "def do_bar(s):\n",
    "    print('bar', s)\n",
    "for tag, *args in records:\n",
    "\tif tag == 'foo':\n",
    "\t\tdo_foo(*args)\n",
    "\telif tag == 'bar':\n",
    "\t\tdo_bar(*args)"
   ]
  },
  {
   "cell_type": "markdown",
   "metadata": {},
   "source": [
    "A descompactação em estrela também pode ser útil quando combinada com certos tipos de operações de processamento de string, como divisão. Por exemplo:"
   ]
  },
  {
   "cell_type": "code",
   "execution_count": 41,
   "metadata": {},
   "outputs": [
    {
     "name": "stdout",
     "output_type": "stream",
     "text": [
      "nobody\n",
      "/var/empty\n",
      "/usr/bin/false\n"
     ]
    }
   ],
   "source": [
    "line = 'nobody:*:-2:-2:Unprivileged User:/var/empty:/usr/bin/false'\n",
    "uname, *fields, homedir, sh = line.split(':')\n",
    "print(uname)\n",
    "print(homedir)\n",
    "print(sh)"
   ]
  },
  {
   "cell_type": "markdown",
   "metadata": {},
   "source": [
    "Às vezes você pode querer descompactar valores e jogá-los fora. Você não pode simplesmente especificar um `*` ao descompactar, mas pode usar um nome de variável descartável comum, como `_` ou `ign` (ignorado). Por exemplo:"
   ]
  },
  {
   "cell_type": "code",
   "execution_count": 42,
   "metadata": {},
   "outputs": [
    {
     "name": "stdout",
     "output_type": "stream",
     "text": [
      "ACME\n",
      "2012\n"
     ]
    }
   ],
   "source": [
    "record = ('ACME', 50, 123.45, (12, 18, 2012))\n",
    "name, *_, (*_, year) = record\n",
    "print(name)\n",
    "print(year)"
   ]
  },
  {
   "cell_type": "markdown",
   "metadata": {},
   "source": [
    "Há uma certa semelhança entre a descompactação em estrela e os recursos de processamento de lista de várias linguagens funcionais. Por exemplo, se você tiver uma lista, poderá dividi-la facilmente em componentes `head` e `tail` como este:"
   ]
  },
  {
   "cell_type": "code",
   "execution_count": 43,
   "metadata": {},
   "outputs": [
    {
     "name": "stdout",
     "output_type": "stream",
     "text": [
      "1\n",
      "[10, 7, 4, 5, 9]\n"
     ]
    }
   ],
   "source": [
    "items = [1, 10, 7, 4, 5, 9]\n",
    "head, *tail = items\n",
    "print(head)\n",
    "print(tail)"
   ]
  },
  {
   "cell_type": "markdown",
   "metadata": {},
   "source": [
    "Pode-se imaginar escrever funções que realizam tal divisão para realizar algum tipo de algoritmo recursivo inteligente. Por exemplo:"
   ]
  },
  {
   "cell_type": "code",
   "execution_count": 44,
   "metadata": {},
   "outputs": [
    {
     "data": {
      "text/plain": "36"
     },
     "execution_count": 44,
     "metadata": {},
     "output_type": "execute_result"
    }
   ],
   "source": [
    "def sum(items):\n",
    "\thead, *tail = items\n",
    "\treturn head + sum(tail) if tail else head\n",
    "\n",
    "sum(items)"
   ]
  },
  {
   "cell_type": "markdown",
   "metadata": {},
   "source": [
    "No entanto, esteja ciente de que a recursão realmente não é um recurso forte do Python devido ao limite de recursão inerente. Assim, este último exemplo pode ser nada mais do que uma curiosidade acadêmica na prática."
   ]
  },
  {
   "cell_type": "markdown",
   "metadata": {},
   "source": [
    "## 1.3. Mantendo os últimos N itens\n",
    "\n",
    "**Problema**\n",
    "\n",
    "Você deseja manter um histórico limitado dos últimos itens vistos durante a iteração ou durante algum outro tipo de processamento.\n",
    "\n",
    "**Solução**\n",
    "\n",
    "Manter um histórico limitado é um uso perfeito para um `collections.deque`. Por exemplo, o código a seguir executa uma correspondência de texto simples em uma sequência de linhas e produz a linha correspondente junto com as N linhas anteriores de contexto quando encontradas:"
   ]
  },
  {
   "cell_type": "code",
   "execution_count": 45,
   "metadata": {},
   "outputs": [
    {
     "name": "stdout",
     "output_type": "stream",
     "text": [
      "Eu te amo porque te amo,\n",
      "e com amor não se paga.\n",
      "--------------------\n",
      "Não precisas ser amante,\n",
      "e com amor não se paga.\n",
      "--------------------\n",
      "e nem sempre sabes sê-lo.\n",
      "e com amor não se paga.\n",
      "--------------------\n",
      "Eu te amo porque te amo.\n",
      "e com amor não se paga.\n",
      "--------------------\n",
      "Amor é estado de graça\n",
      "e com amor não se paga.\n",
      "--------------------\n",
      "Amor foge a dicionários\n",
      "Porque amor não se troca,\n",
      "--------------------\n",
      "e a regulamentos vários.\n",
      "Porque amor não se troca,\n",
      "--------------------\n",
      "\n",
      "Porque amor não se troca,\n",
      "--------------------\n",
      "Eu te amo porque não amo\n",
      "Porque amor não se troca,\n",
      "--------------------\n",
      "bastante ou demais a mim.\n",
      "Porque amor não se troca,\n",
      "--------------------\n",
      "\n",
      "Porque amor é amor a nada,\n",
      "--------------------\n",
      "Eu te amo porque não amo\n",
      "Porque amor é amor a nada,\n",
      "--------------------\n",
      "bastante ou demais a mim.\n",
      "Porque amor é amor a nada,\n",
      "--------------------\n",
      "Porque amor não se troca,\n",
      "Porque amor é amor a nada,\n",
      "--------------------\n",
      "não se conjuga nem se ama.\n",
      "Porque amor é amor a nada,\n",
      "--------------------\n",
      "feliz e forte em si mesmo.\n",
      "a cada instante de amor.--------------------\n",
      "\n",
      "a cada instante de amor.--------------------\n",
      "Amor é primo da morte,\n",
      "a cada instante de amor.--------------------\n",
      "e da morte vencedor,\n",
      "a cada instante de amor.--------------------\n",
      "por mais que o matem (e matam)\n",
      "a cada instante de amor.--------------------\n"
     ]
    }
   ],
   "source": [
    "from collections import deque\n",
    "def search(lines, pattern, history=5):\n",
    "\tprevious_lines = deque(maxlen=history)\n",
    "\tfor line in lines:\n",
    "\t\tif pattern in line:\n",
    "\t\t\tyield line, previous_lines\n",
    "\t\tprevious_lines.append(line)\n",
    "\n",
    "with open('somefile.txt', encoding='utf-8') as f:\n",
    "    for line, prevlines in search(f, 'amor', 5):\n",
    "\t    for pline in prevlines:\n",
    "\t\t    print(pline, end='')\n",
    "\t\t    print(line, end='')\n",
    "\t\t    print('-'*20)"
   ]
  },
  {
   "cell_type": "markdown",
   "metadata": {},
   "source": [
    "**Discussão**\n",
    "\n",
    "Ao escrever código para pesquisar itens, é comum usar uma função geradora envolvendo rendimento, conforme mostrado na solução desta receita. Isso dissocia o processo de pesquisa do código que usa os resultados. Se você é novo em geradores, veja a Receita 4.3.\n",
    "\n",
    "Usar **deque(maxlen=N)** cria uma fila de tamanho fixo. Quando novos itens são adicionados e a fila está cheia, o item mais antigo é removido automaticamente. Por exemplo:"
   ]
  },
  {
   "cell_type": "code",
   "execution_count": 46,
   "metadata": {},
   "outputs": [
    {
     "data": {
      "text/plain": "deque([1, 2, 3])"
     },
     "execution_count": 46,
     "metadata": {},
     "output_type": "execute_result"
    }
   ],
   "source": [
    "q = deque(maxlen=3)\n",
    "q.append(1)\n",
    "q.append(2)\n",
    "q.append(3)\n",
    "q"
   ]
  },
  {
   "cell_type": "code",
   "execution_count": 47,
   "metadata": {},
   "outputs": [
    {
     "data": {
      "text/plain": "deque([2, 3, 4])"
     },
     "execution_count": 47,
     "metadata": {},
     "output_type": "execute_result"
    }
   ],
   "source": [
    "q.append(4)\n",
    "q"
   ]
  },
  {
   "cell_type": "code",
   "execution_count": 48,
   "metadata": {},
   "outputs": [
    {
     "data": {
      "text/plain": "deque([3, 4, 5])"
     },
     "execution_count": 48,
     "metadata": {},
     "output_type": "execute_result"
    }
   ],
   "source": [
    "q.append(5)\n",
    "q"
   ]
  },
  {
   "cell_type": "markdown",
   "metadata": {},
   "source": [
    "Embora você possa executar manualmente essas operações em uma lista (por exemplo, anexar, excluir etc.), a solução de fila é muito mais elegante e é executada muito mais rapidamente.\n",
    "\n",
    "De maneira mais geral, um `deque` pode ser usado sempre que você precisar de uma estrutura de fila simples. Se você não der um tamanho máximo, obterá uma fila ilimitada que permite anexar e destacar itens em ambas as extremidades. Por exemplo:"
   ]
  },
  {
   "cell_type": "code",
   "execution_count": 49,
   "metadata": {},
   "outputs": [
    {
     "data": {
      "text/plain": "deque([1, 2, 3])"
     },
     "execution_count": 49,
     "metadata": {},
     "output_type": "execute_result"
    }
   ],
   "source": [
    "q = deque()\n",
    "q.append(1)\n",
    "q.append(2)\n",
    "q.append(3)\n",
    "q"
   ]
  },
  {
   "cell_type": "code",
   "execution_count": 50,
   "metadata": {},
   "outputs": [
    {
     "data": {
      "text/plain": "deque([4, 1, 2, 3])"
     },
     "execution_count": 50,
     "metadata": {},
     "output_type": "execute_result"
    }
   ],
   "source": [
    "q.appendleft(4)\n",
    "q"
   ]
  },
  {
   "cell_type": "code",
   "execution_count": 51,
   "metadata": {},
   "outputs": [
    {
     "data": {
      "text/plain": "3"
     },
     "execution_count": 51,
     "metadata": {},
     "output_type": "execute_result"
    }
   ],
   "source": [
    "q.pop() # Retira o último valor."
   ]
  },
  {
   "cell_type": "code",
   "execution_count": 52,
   "metadata": {},
   "outputs": [
    {
     "data": {
      "text/plain": "deque([4, 1, 2])"
     },
     "execution_count": 52,
     "metadata": {},
     "output_type": "execute_result"
    }
   ],
   "source": [
    "q"
   ]
  },
  {
   "cell_type": "code",
   "execution_count": 53,
   "metadata": {},
   "outputs": [
    {
     "data": {
      "text/plain": "4"
     },
     "execution_count": 53,
     "metadata": {},
     "output_type": "execute_result"
    }
   ],
   "source": [
    "q.popleft() # Retira o valor à esquerda"
   ]
  },
  {
   "cell_type": "code",
   "execution_count": 54,
   "metadata": {},
   "outputs": [
    {
     "data": {
      "text/plain": "deque([1, 2])"
     },
     "execution_count": 54,
     "metadata": {},
     "output_type": "execute_result"
    }
   ],
   "source": [
    "q"
   ]
  },
  {
   "cell_type": "markdown",
   "metadata": {},
   "source": [
    "Adicionar ou remover itens de qualquer extremidade de uma fila tem complexidade O(1). Isso é diferente de uma lista em que inserir ou remover itens da frente da lista é O(N)."
   ]
  },
  {
   "cell_type": "markdown",
   "metadata": {},
   "source": [
    "## 1.4. Encontrando os maiores ou menores N itens\n",
    "\n",
    "**Problema**\n",
    "\n",
    "Você deseja fazer uma lista dos maiores ou menores N itens em uma coleção.\n",
    "\n",
    "**Solução**\n",
    "\n",
    "O módulo `heapq` tem duas funções - `nlargest()` e `nsmallest()` - que fazem exatamente o que você quer. Por exemplo:"
   ]
  },
  {
   "cell_type": "code",
   "execution_count": 55,
   "metadata": {},
   "outputs": [
    {
     "name": "stdout",
     "output_type": "stream",
     "text": [
      "[42, 37, 23]\n",
      "[-4, 1, 2]\n"
     ]
    }
   ],
   "source": [
    "import heapq\n",
    "nums = [1, 8, 2, 23, 7, -4, 18, 23, 42, 37, 2]\n",
    "print(heapq.nlargest(3, nums))\n",
    "print(heapq.nsmallest(3, nums))"
   ]
  },
  {
   "cell_type": "markdown",
   "metadata": {},
   "source": [
    "Ambas as funções também aceitam um parâmetro chave que permite que sejam usadas com estruturas de dados mais complicadas. Por exemplo:"
   ]
  },
  {
   "cell_type": "code",
   "execution_count": 56,
   "metadata": {},
   "outputs": [
    {
     "name": "stdout",
     "output_type": "stream",
     "text": [
      "[{'name': 'YHOO', 'shares': 45, 'price': 16.35}, {'name': 'FB', 'shares': 200, 'price': 21.09}, {'name': 'HPQ', 'shares': 35, 'price': 31.75}]\n",
      "\n",
      "[{'name': 'AAPL', 'shares': 50, 'price': 543.22}, {'name': 'ACME', 'shares': 75, 'price': 115.65}, {'name': 'IBM', 'shares': 100, 'price': 91.1}]\n"
     ]
    }
   ],
   "source": [
    "portfolio = [\n",
    "    {'name': 'IBM', 'shares': 100, 'price': 91.1},\n",
    "    {'name': 'AAPL', 'shares': 50, 'price': 543.22},\n",
    "    {'name': 'FB', 'shares': 200, 'price': 21.09},\n",
    "    {'name': 'HPQ', 'shares': 35, 'price': 31.75},\n",
    "    {'name': 'YHOO', 'shares': 45, 'price': 16.35},\n",
    "    {'name': 'ACME', 'shares': 75, 'price': 115.65}\n",
    "]\n",
    "\n",
    "cheap = heapq.nsmallest(3, portfolio, key=lambda s: s['price'])\n",
    "expensive = heapq.nlargest(3, portfolio, key=lambda s: s['price'])\n",
    "print(cheap)\n",
    "print(\"\")\n",
    "print(expensive)"
   ]
  },
  {
   "cell_type": "markdown",
   "metadata": {},
   "source": [
    "**Discussão**\n",
    "\n",
    "Se você estiver procurando os N itens menores ou maiores e N for pequeno em comparação com o tamanho geral da coleção, essas funções oferecem desempenho superior. \n",
    "\n",
    "Por baixo dos panos, eles trabalham primeiro convertendo os dados em uma lista onde os itens são ordenados como um `heap`. Por exemplo:"
   ]
  },
  {
   "cell_type": "code",
   "execution_count": 57,
   "metadata": {},
   "outputs": [
    {
     "data": {
      "text/plain": "[-4, 2, 1, 23, 7, 2, 18, 23, 42, 37, 8]"
     },
     "execution_count": 57,
     "metadata": {},
     "output_type": "execute_result"
    }
   ],
   "source": [
    "nums = [1, 8, 2, 23, 7, -4, 18, 23, 42, 37, 2]\n",
    "heap = list(nums)\n",
    "heapq.heapify(heap)\n",
    "heap"
   ]
  },
  {
   "cell_type": "markdown",
   "metadata": {},
   "source": [
    "A característica mais importante de um heap é que `heap[0]` é sempre o menor item. Além disso, os itens subsequentes podem ser facilmente encontrados usando o método `heapq.heappop()`, que retira o primeiro item e o substitui pelo próximo menor item (uma operação que requer operações O(log N) onde N é o tamanho do heap ). Por exemplo, para encontrar os três menores itens, você faria o seguinte:"
   ]
  },
  {
   "cell_type": "code",
   "execution_count": 58,
   "metadata": {},
   "outputs": [
    {
     "data": {
      "text/plain": "-4"
     },
     "execution_count": 58,
     "metadata": {},
     "output_type": "execute_result"
    }
   ],
   "source": [
    "heapq.heappop(heap)"
   ]
  },
  {
   "cell_type": "code",
   "execution_count": 59,
   "metadata": {},
   "outputs": [
    {
     "data": {
      "text/plain": "1"
     },
     "execution_count": 59,
     "metadata": {},
     "output_type": "execute_result"
    }
   ],
   "source": [
    "heapq.heappop(heap)"
   ]
  },
  {
   "cell_type": "code",
   "execution_count": 60,
   "metadata": {},
   "outputs": [
    {
     "data": {
      "text/plain": "2"
     },
     "execution_count": 60,
     "metadata": {},
     "output_type": "execute_result"
    }
   ],
   "source": [
    "heapq.heappop(heap)"
   ]
  },
  {
   "cell_type": "markdown",
   "metadata": {},
   "source": [
    "As funções `nlargest()` e `nsmallest()` são mais apropriadas se você estiver tentando encontrar um número relativamente pequeno de itens. \n",
    "\n",
    "Se você está simplesmente tentando encontrar o menor ou o maior item (N=1), é mais rápido usar `min()` e `max()`. \n",
    "\n",
    "Da mesma forma, se N tiver aproximadamente o mesmo tamanho que a própria coleção, geralmente é mais rápido classificá-lo primeiro e obter uma fatia (ou seja, use `sorted(items)[:N]` ou `sorted(items)[-N:]`).\n",
    "\n",
    "Deve-se notar que a implementação real de `nlargest()` e `nsmallest()` é adaptável em como ela opera e realizará algumas dessas otimizações em seu nome (por exemplo, usando classificação se N estiver próximo do mesmo tamanho que a entrada). Embora não seja necessário usar esta receita, a implementação de um `heap` é um assunto de estudo interessante e que vale a pena.\n",
    "\n",
    "Isso geralmente pode ser encontrado em qualquer livro decente sobre algoritmos e estruturas de dados. A documentação do módulo `heapq` também discute os detalhes de implementação subjacentes."
   ]
  },
  {
   "cell_type": "markdown",
   "metadata": {},
   "source": [
    "## 1.5. Implementando uma fila de prioridade\n",
    "\n",
    "**Problema**\n",
    "\n",
    "Você deseja implementar uma fila que classifica os itens por uma determinada prioridade e sempre retorna o item com a prioridade mais alta em cada operação `pop`.\n",
    "\n",
    "**Solução**\n",
    "\n",
    "A classe a seguir usa o módulo `heapq` para implementar uma fila de prioridade simples:"
   ]
  },
  {
   "cell_type": "code",
   "execution_count": 61,
   "metadata": {},
   "outputs": [],
   "source": [
    "import heapq\n",
    "class PriorityQueue:\n",
    "    def __init__(self):\n",
    "        self._queue = []\n",
    "        self._index = 0\n",
    "    \n",
    "    def push(self, item, priority):\n",
    "        heapq.heappush(self._queue, (-priority, self._index, item))\n",
    "        self._index += 1\n",
    "\n",
    "    def pop(self):\n",
    "        return heapq.heappop(self._queue)[-1]"
   ]
  },
  {
   "cell_type": "markdown",
   "metadata": {},
   "source": [
    "Aqui está um exemplo de como ele pode ser usado:"
   ]
  },
  {
   "cell_type": "code",
   "execution_count": 62,
   "metadata": {},
   "outputs": [],
   "source": [
    "class Item:\n",
    "    def __init__(self, name):\n",
    "        self.name = name\n",
    "    \n",
    "    def __repr__(self):\n",
    "        return 'Item({!r})'.format(self.name)"
   ]
  },
  {
   "cell_type": "code",
   "execution_count": 63,
   "metadata": {},
   "outputs": [
    {
     "data": {
      "text/plain": "Item('bar')"
     },
     "execution_count": 63,
     "metadata": {},
     "output_type": "execute_result"
    }
   ],
   "source": [
    "q = PriorityQueue()\n",
    "q.push(Item('foo'), 1)\n",
    "q.push(Item('bar'), 5)\n",
    "q.push(Item('spam'), 4)\n",
    "q.push(Item('grok'), 1)\n",
    "q.pop()"
   ]
  },
  {
   "cell_type": "code",
   "execution_count": 64,
   "metadata": {},
   "outputs": [
    {
     "data": {
      "text/plain": "Item('spam')"
     },
     "execution_count": 64,
     "metadata": {},
     "output_type": "execute_result"
    }
   ],
   "source": [
    "q.pop()"
   ]
  },
  {
   "cell_type": "code",
   "execution_count": 65,
   "metadata": {},
   "outputs": [
    {
     "data": {
      "text/plain": "Item('foo')"
     },
     "execution_count": 65,
     "metadata": {},
     "output_type": "execute_result"
    }
   ],
   "source": [
    "q.pop()"
   ]
  },
  {
   "cell_type": "code",
   "execution_count": 66,
   "metadata": {},
   "outputs": [
    {
     "data": {
      "text/plain": "Item('grok')"
     },
     "execution_count": 66,
     "metadata": {},
     "output_type": "execute_result"
    }
   ],
   "source": [
    "q.pop()"
   ]
  },
  {
   "cell_type": "markdown",
   "metadata": {},
   "source": [
    "Observe como a primeira operação `pop()` retornou o item com a prioridade mais alta. Observe também como os dois itens com a mesma prioridade (foo e grok) foram retornados na mesma ordem em que foram inseridos na fila.\n",
    "\n",
    "**Discussão**\n",
    "\n",
    "O núcleo desta receita diz respeito ao uso do módulo `heapq`. As funções `heapq.heappush()` e `heapq.heapppop()` inserem e removem itens de uma `lista _queue` de forma que o primeiro item da lista tenha a menor prioridade (como discutido na Receita 1.4). O método `heappop()` sempre retorna o item “menor”, então essa é a chave para fazer a fila exibir os itens corretos. Além disso, como as operações `push` e `pop` têm complexidade O(log N) onde N é o número de itens no `heap`, elas são bastante eficientes mesmo para valores razoavelmente grandes de N.\n",
    "\n",
    "Nesta receita, a fila consiste em tuplas do formato (-prioridade, índice, item). O valor de prioridade é negado para que a fila classifique os itens da prioridade mais alta para a mais baixa. Isso é o oposto da ordenação de `heap` normal, que classifica do valor mais baixo para o mais alto.\n",
    "\n",
    "A função da variável de índice é ordenar corretamente os itens com o mesmo nível de prioridade. Mantendo um índice cada vez maior, os itens serão classificados de acordo com a ordem em que foram inseridos. No entanto, o índice também desempenha um papel importante ao fazer as operações de comparação funcionarem para itens que têm o mesmo nível de prioridade.\n",
    "\n",
    "Para detalhar isso, as instâncias de `Item` no exemplo não podem ser ordenadas. Por exemplo:\n",
    "<code>\n",
    "a = Item('foo')\n",
    "b = Item('bar')\n",
    "a < b\n",
    "\n",
    "Traceback (most recent call last):\n",
    "File \"\\<stdin\\>\", line 1, in \\<module\\>\n",
    "TypeError: unorderable types: Item() < Item()\n",
    "</code>\n",
    "    \n",
    "Se você fizer tuplas (prioridade, item), elas podem ser comparadas desde que as prioridades sejam diferentes. No entanto, se duas tuplas com prioridades iguais forem comparadas, a comparação falhará como antes. Por exemplo:"
   ]
  },
  {
   "cell_type": "code",
   "execution_count": 67,
   "metadata": {},
   "outputs": [
    {
     "data": {
      "text/plain": "True"
     },
     "execution_count": 67,
     "metadata": {},
     "output_type": "execute_result"
    }
   ],
   "source": [
    "a = (1, Item('foo'))\n",
    "b = (5, Item('bar'))\n",
    "a < b"
   ]
  },
  {
   "cell_type": "markdown",
   "metadata": {},
   "source": [
    "<code>\n",
    "c = (1, Item('grok'))\n",
    "a < c\n",
    "Traceback (most recent call last):\n",
    "File \"\\<stdin\\>\", line 1, in \\<module\\>\n",
    "TypeError: unorderable types: Item() < Item()\n",
    "</code>\n",
    "\n",
    "Ao introduzir o índice extra e fazer tuplas (prioridade, índice, item), você evita esse problema inteiramente, já que duas tuplas nunca terão o mesmo valor para índice (e o *Python* nunca se preocupa em comparar os valores restantes da tupla uma vez que o resultado da comparação pode seja determinado):"
   ]
  },
  {
   "cell_type": "code",
   "execution_count": 68,
   "metadata": {},
   "outputs": [
    {
     "data": {
      "text/plain": "True"
     },
     "execution_count": 68,
     "metadata": {},
     "output_type": "execute_result"
    }
   ],
   "source": [
    "a = (1, 0, Item('foo'))\n",
    "b = (5, 1, Item('bar'))\n",
    "c = (1, 2, Item('grok'))\n",
    "a < b"
   ]
  },
  {
   "cell_type": "code",
   "execution_count": 69,
   "metadata": {},
   "outputs": [
    {
     "data": {
      "text/plain": "True"
     },
     "execution_count": 69,
     "metadata": {},
     "output_type": "execute_result"
    }
   ],
   "source": [
    "a < c"
   ]
  },
  {
   "cell_type": "markdown",
   "metadata": {},
   "source": [
    "Se você quiser usar essa fila para comunicação entre `threads`, precisará adicionar bloqueio e sinalização apropriados. Veja a Receita 12.3 para um exemplo de como fazer isso.\n",
    "A documentação do módulo `heapq` contém mais exemplos e discussões sobre a teoria e implementação de heaps.\n",
    "\n",
    "## 1.6. Mapeando Chaves para Vários Valores em um Problema de Dicionário\n",
    "\n",
    "Você quer fazer um dicionário que mapeie chaves para mais de um valor (o chamado “multidict”).\n",
    "\n",
    "**Solução**\n",
    "\n",
    "Um dicionário é um mapeamento em que cada chave é mapeada para um único valor. Se você quiser mapear chaves para vários valores, precisará armazenar os vários valores em outro contêiner, como uma lista ou conjunto. Por exemplo, você pode fazer dicionários como este:"
   ]
  },
  {
   "cell_type": "code",
   "execution_count": 70,
   "metadata": {},
   "outputs": [],
   "source": [
    "d = {\n",
    "    'a' : [1, 2, 3],\n",
    "    'b' : [4, 5]\n",
    "}\n",
    "\n",
    "e = {\n",
    "    'a' : {1, 2, 3},\n",
    "    'b' : {4, 5}\n",
    "}"
   ]
  },
  {
   "cell_type": "markdown",
   "metadata": {},
   "source": [
    "A escolha de usar ou não listas ou conjuntos depende do uso pretendido. Use uma lista se desejar preservar a ordem de inserção dos itens. Use um conjunto se quiser eliminar duplicatas (e não se preocupe com o pedido).\n",
    "\n",
    "Para construir facilmente esses dicionários, você pode usar `defaultdict` no módulo `collections`. Um recurso do `defaultdict` é que ele inicializa automaticamente o primeiro valor para que você possa simplesmente se concentrar em adicionar itens. Por exemplo:"
   ]
  },
  {
   "cell_type": "code",
   "execution_count": 71,
   "metadata": {},
   "outputs": [
    {
     "data": {
      "text/plain": "defaultdict(list, {'a': [1, 2], 'b': [4]})"
     },
     "execution_count": 71,
     "metadata": {},
     "output_type": "execute_result"
    }
   ],
   "source": [
    "from collections import defaultdict\n",
    "d = defaultdict(list)\n",
    "d['a'].append(1)\n",
    "d['a'].append(2)\n",
    "d['b'].append(4)\n",
    "\n",
    "d"
   ]
  },
  {
   "cell_type": "code",
   "execution_count": 72,
   "metadata": {},
   "outputs": [
    {
     "data": {
      "text/plain": "defaultdict(set, {'a': {1, 2}, 'b': {4}})"
     },
     "execution_count": 72,
     "metadata": {},
     "output_type": "execute_result"
    }
   ],
   "source": [
    "e = defaultdict(set)\n",
    "e['a'].add(1)\n",
    "e['a'].add(2)\n",
    "e['b'].add(4)\n",
    "\n",
    "e"
   ]
  },
  {
   "cell_type": "markdown",
   "metadata": {},
   "source": [
    "Um cuidado com `defaultdict` é que ele criará automaticamente entradas de dicionário para chaves acessadas posteriormente (mesmo que não sejam encontradas atualmente no dicionário). Se você não quiser esse comportamento, você pode usar `setdefault()` em um dicionário comum. Por exemplo:"
   ]
  },
  {
   "cell_type": "code",
   "execution_count": 73,
   "metadata": {},
   "outputs": [
    {
     "data": {
      "text/plain": "{'a': [1, 2], 'b': [4]}"
     },
     "execution_count": 73,
     "metadata": {},
     "output_type": "execute_result"
    }
   ],
   "source": [
    "d = {} # A regular dictionary\n",
    "d.setdefault('a', []).append(1)\n",
    "d.setdefault('a', []).append(2)\n",
    "d.setdefault('b', []).append(4)\n",
    "d"
   ]
  },
  {
   "cell_type": "markdown",
   "metadata": {},
   "source": [
    "No entanto, muitos programadores acham que `setdefault()` não é natural—sem mencionar o fato de que ele sempre cria uma nova instância do valor inicial em cada chamada (a lista vazia [] no exemplo).\n",
    "\n",
    "**Discussão**\n",
    "\n",
    "Em princípio, construir um dicionário multivalorado é simples. No entanto, a inicialização do primeiro valor pode ser confusa se você tentar fazer isso sozinho. Por exemplo, você pode ter um código parecido com este:\n",
    "<code>\n",
    "d = {}\n",
    "for key, value in pairs:\n",
    "    if key not in d:\n",
    "        d[key] = []\n",
    "    d[key].append(value)\n",
    "</code>"
   ]
  },
  {
   "cell_type": "markdown",
   "metadata": {},
   "source": [
    "Usar um `defaultdict` simplesmente leva a um código muito mais limpo:\n",
    "\n",
    "<code>\n",
    "d = defaultdict(list)\n",
    "for key, value in pairs:\n",
    "    d[key].append(value)\n",
    "</code>\n",
    "\n",
    "Essa receita está fortemente relacionada ao problema de agrupar registros em problemas de processamento de dados. Veja a Receita 1.15 para um exemplo.\n",
    "\n",
    "## 1.7. Mantendo os dicionários em ordem\n",
    "\n",
    "**Problema**\n",
    "\n",
    "Você deseja criar um dicionário e também deseja controlar a ordem dos itens ao iterar ou serializar.\n",
    "\n",
    "**Solução**\n",
    "\n",
    "Para controlar a ordem dos itens em um dicionário, você pode usar um `OrderedDict` do módulo de coleções. Ele preserva exatamente a ordem de inserção original dos dados ao iterar. Por exemplo:"
   ]
  },
  {
   "cell_type": "code",
   "execution_count": 74,
   "metadata": {},
   "outputs": [
    {
     "name": "stdout",
     "output_type": "stream",
     "text": [
      "foo 1\n",
      "bar 2\n",
      "spam 3\n",
      "grok 4\n"
     ]
    }
   ],
   "source": [
    "from collections import OrderedDict\n",
    "d = OrderedDict()\n",
    "d['foo'] = 1\n",
    "d['bar'] = 2\n",
    "d['spam'] = 3\n",
    "d['grok'] = 4\n",
    "\n",
    "for key in d:\n",
    "    print(key, d[key])"
   ]
  },
  {
   "cell_type": "markdown",
   "metadata": {},
   "source": [
    "Um `OrderedDict` pode ser particularmente útil quando você deseja criar um mapeamento que poderá posteriormente serializar ou codificar em um formato diferente. Por exemplo, se você deseja controlar com precisão a ordem dos campos que aparecem em uma codificação JSON, primeiro construir os dados em um `OrderedDict` fará o truque:"
   ]
  },
  {
   "cell_type": "code",
   "execution_count": 75,
   "metadata": {},
   "outputs": [
    {
     "data": {
      "text/plain": "'{\"foo\": 1, \"bar\": 2, \"spam\": 3, \"grok\": 4}'"
     },
     "execution_count": 75,
     "metadata": {},
     "output_type": "execute_result"
    }
   ],
   "source": [
    "import json\n",
    "json.dumps(d)"
   ]
  },
  {
   "cell_type": "markdown",
   "metadata": {},
   "source": [
    "**Discussão**\n",
    "\n",
    "Um `OrderedDict` mantém internamente uma lista duplamente vinculada que ordena as chaves de acordo com a ordem de inserção. Quando um novo item é inserido pela primeira vez, ele é colocado no final desta lista. A reatribuição subsequente de uma chave existente não altera a ordem.\n",
    "\n",
    "Esteja ciente de que o tamanho de um `OrderedDict` é mais que o dobro do tamanho de um dicionário normal devido à lista vinculada extra que é criada. Assim, se você for construir uma estrutura de dados envolvendo um grande número de instâncias `OrderedDict` (por exemplo, lendo 100.000 linhas de um arquivo CSV em uma lista de instâncias `OrderedDict`), você precisa estudar os requisitos do seu aplicativo para determinar se o os benefícios de usar um `OrderedDict` superaram a sobrecarga de memória extra.\n",
    "\n",
    "## 1.8. Calculando com dicionários\n",
    "\n",
    "**Problema**\n",
    "\n",
    "Você deseja realizar vários cálculos (por exemplo, valor mínimo, valor máximo, classificação etc.) em um dicionário de dados.\n",
    "\n",
    "**Solução**\n",
    "\n",
    "Considere um dicionário que mapeia nomes de ações para preços:"
   ]
  },
  {
   "cell_type": "code",
   "execution_count": 76,
   "metadata": {},
   "outputs": [],
   "source": [
    "prices = {\n",
    "    'ACME': 45.23,\n",
    "    'AAPL': 612.78,\n",
    "    'IBM': 205.55,\n",
    "    'HPQ': 37.20,\n",
    "    'FB': 10.75\n",
    "}"
   ]
  },
  {
   "cell_type": "markdown",
   "metadata": {},
   "source": [
    "Para realizar cálculos úteis no conteúdo do dicionário, muitas vezes é útil inverter as chaves e os valores do dicionário usando `zip()`. Por exemplo, aqui está como encontrar o preço mínimo e máximo e o nome da ação:"
   ]
  },
  {
   "cell_type": "code",
   "execution_count": 77,
   "metadata": {},
   "outputs": [
    {
     "data": {
      "text/plain": "(10.75, 'FB')"
     },
     "execution_count": 77,
     "metadata": {},
     "output_type": "execute_result"
    }
   ],
   "source": [
    "min_price = min(zip(prices.values(),prices.keys()))\n",
    "min_price"
   ]
  },
  {
   "cell_type": "code",
   "execution_count": 78,
   "metadata": {},
   "outputs": [
    {
     "data": {
      "text/plain": "(612.78, 'AAPL')"
     },
     "execution_count": 78,
     "metadata": {},
     "output_type": "execute_result"
    }
   ],
   "source": [
    "max_price = max(zip(prices.values(), prices.keys()))\n",
    "max_price"
   ]
  },
  {
   "cell_type": "markdown",
   "metadata": {},
   "source": [
    "Da mesma forma, para classificar os dados, use `zip()` com `sorted()`, como a seguir:"
   ]
  },
  {
   "cell_type": "code",
   "execution_count": 79,
   "metadata": {},
   "outputs": [
    {
     "data": {
      "text/plain": "[(10.75, 'FB'),\n (37.2, 'HPQ'),\n (45.23, 'ACME'),\n (205.55, 'IBM'),\n (612.78, 'AAPL')]"
     },
     "execution_count": 79,
     "metadata": {},
     "output_type": "execute_result"
    }
   ],
   "source": [
    "prices_sorted = sorted(zip(prices.values(), prices.keys()))\n",
    "prices_sorted"
   ]
  },
  {
   "cell_type": "markdown",
   "metadata": {},
   "source": [
    "Ao fazer esses cálculos, saiba que `zip()` cria um iterador que só pode ser consumido uma vez. Por exemplo, o código a seguir é um erro:"
   ]
  },
  {
   "cell_type": "code",
   "execution_count": 80,
   "metadata": {},
   "outputs": [
    {
     "name": "stdout",
     "output_type": "stream",
     "text": [
      "(10.75, 'FB')\n"
     ]
    }
   ],
   "source": [
    "prices_and_names = zip(prices.values(), prices.keys())\n",
    "print(min(prices_and_names))\n",
    "\n",
    "# print(max(prices_and_names)) # ValueError: max() arg is an empty sequence"
   ]
  },
  {
   "cell_type": "markdown",
   "metadata": {},
   "source": [
    "**Discussão**\n",
    "\n",
    "Se você tentar realizar reduções de dados comuns em um dicionário, descobrirá que eles processam apenas as chaves, não os valores. Por exemplo:"
   ]
  },
  {
   "cell_type": "code",
   "execution_count": 81,
   "metadata": {},
   "outputs": [
    {
     "data": {
      "text/plain": "'AAPL'"
     },
     "execution_count": 81,
     "metadata": {},
     "output_type": "execute_result"
    }
   ],
   "source": [
    "min(prices) # Returns 'AAPL'"
   ]
  },
  {
   "cell_type": "code",
   "execution_count": 82,
   "metadata": {},
   "outputs": [
    {
     "data": {
      "text/plain": "'IBM'"
     },
     "execution_count": 82,
     "metadata": {},
     "output_type": "execute_result"
    }
   ],
   "source": [
    "max(prices) # Returns 'IBM'"
   ]
  },
  {
   "cell_type": "markdown",
   "metadata": {},
   "source": [
    "Isso provavelmente não é o que você quer porque você está realmente tentando realizar um cálculo envolvendo os valores do dicionário. Você pode tentar corrigir isso usando o método `values()` de um dicionário:"
   ]
  },
  {
   "cell_type": "code",
   "execution_count": 83,
   "metadata": {},
   "outputs": [
    {
     "data": {
      "text/plain": "10.75"
     },
     "execution_count": 83,
     "metadata": {},
     "output_type": "execute_result"
    }
   ],
   "source": [
    "min(prices.values()) # Returns 10.75"
   ]
  },
  {
   "cell_type": "code",
   "execution_count": 84,
   "metadata": {},
   "outputs": [
    {
     "data": {
      "text/plain": "612.78"
     },
     "execution_count": 84,
     "metadata": {},
     "output_type": "execute_result"
    }
   ],
   "source": [
    "max(prices.values()) # Returns 612.78"
   ]
  },
  {
   "cell_type": "markdown",
   "metadata": {},
   "source": [
    "Infelizmente, isso muitas vezes não é exatamente o que você quer. Por exemplo, você pode querer saber informações sobre as chaves correspondentes (por exemplo, qual ação tem o menor preço?).\n",
    "\n",
    "Você pode obter a chave correspondente ao valor mínimo ou máximo se fornecer uma função de chave para `min()` e `max()`. Por exemplo:"
   ]
  },
  {
   "cell_type": "code",
   "execution_count": 85,
   "metadata": {},
   "outputs": [
    {
     "data": {
      "text/plain": "'FB'"
     },
     "execution_count": 85,
     "metadata": {},
     "output_type": "execute_result"
    }
   ],
   "source": [
    "min(prices, key=lambda k: prices[k])"
   ]
  },
  {
   "cell_type": "code",
   "execution_count": 86,
   "metadata": {},
   "outputs": [
    {
     "data": {
      "text/plain": "'AAPL'"
     },
     "execution_count": 86,
     "metadata": {},
     "output_type": "execute_result"
    }
   ],
   "source": [
    "max(prices, key=lambda k: prices[k])"
   ]
  },
  {
   "cell_type": "markdown",
   "metadata": {},
   "source": [
    "No entanto, para obter o valor mínimo, você precisará realizar uma etapa de pesquisa extra. Por exemplo:"
   ]
  },
  {
   "cell_type": "code",
   "execution_count": 87,
   "metadata": {},
   "outputs": [
    {
     "data": {
      "text/plain": "10.75"
     },
     "execution_count": 87,
     "metadata": {},
     "output_type": "execute_result"
    }
   ],
   "source": [
    "min_value = prices[min(prices, key=lambda k: prices[k])]\n",
    "min_value"
   ]
  },
  {
   "cell_type": "markdown",
   "metadata": {},
   "source": [
    "A solução envolvendo `zip()` resolve o problema “invertendo” o dicionário em uma sequência de pares (valor, chave). Ao realizar comparações em tais tuplas, o elemento `value` é comparado primeiro, seguido pela chave. Isso fornece exatamente o comportamento que você deseja e permite que reduções e ordenações sejam facilmente executadas no conteúdo do dicionário usando uma única instrução.\n",
    "\n",
    "Deve-se notar que em cálculos envolvendo pares (valor, chave), a chave será usada para determinar o resultado em instâncias em que várias entradas tenham o mesmo valor. Por exemplo, em cálculos como `min()` e `max()`, a entrada com a chave menor ou maior será retornada se houver valores duplicados. Por exemplo:"
   ]
  },
  {
   "cell_type": "code",
   "execution_count": 88,
   "metadata": {},
   "outputs": [
    {
     "data": {
      "text/plain": "(45.23, 'AAA')"
     },
     "execution_count": 88,
     "metadata": {},
     "output_type": "execute_result"
    }
   ],
   "source": [
    "prices = { 'AAA' : 45.23, 'ZZZ': 45.23 }\n",
    "min(zip(prices.values(), prices.keys()))"
   ]
  },
  {
   "cell_type": "code",
   "execution_count": 89,
   "metadata": {},
   "outputs": [
    {
     "data": {
      "text/plain": "(45.23, 'ZZZ')"
     },
     "execution_count": 89,
     "metadata": {},
     "output_type": "execute_result"
    }
   ],
   "source": [
    "max(zip(prices.values(), prices.keys()))"
   ]
  },
  {
   "cell_type": "markdown",
   "metadata": {},
   "source": [
    "## 1.9. Encontrando semelhanças em dois dicionários\n",
    "\n",
    "**Problema**\n",
    "\n",
    "Você tem dois dicionários e deseja descobrir o que eles podem ter em comum (mesmas chaves, mesmos valores, etc.).\n",
    "\n",
    "**Solução**\n",
    "\n",
    "Considere dois dicionários:"
   ]
  },
  {
   "cell_type": "code",
   "execution_count": 90,
   "metadata": {},
   "outputs": [],
   "source": [
    "a = {\n",
    "    'x' : 1,\n",
    "    'y' : 2,\n",
    "    'z' : 3\n",
    "}\n",
    "\n",
    "b = {\n",
    "    'w' : 10,\n",
    "    'x' : 11,\n",
    "    'y' : 2\n",
    "}"
   ]
  },
  {
   "cell_type": "markdown",
   "metadata": {},
   "source": [
    "Para descobrir o que os dois dicionários têm em comum, simplesmente execute operações comuns de conjunto usando os métodos `keys()` ou `items()`. Por exemplo:"
   ]
  },
  {
   "cell_type": "code",
   "execution_count": 91,
   "metadata": {},
   "outputs": [
    {
     "data": {
      "text/plain": "{'x', 'y'}"
     },
     "execution_count": 91,
     "metadata": {},
     "output_type": "execute_result"
    }
   ],
   "source": [
    "# Encontrar chaves em comum\n",
    "a.keys() & b.keys()"
   ]
  },
  {
   "cell_type": "code",
   "execution_count": 92,
   "metadata": {},
   "outputs": [
    {
     "data": {
      "text/plain": "{'z'}"
     },
     "execution_count": 92,
     "metadata": {},
     "output_type": "execute_result"
    }
   ],
   "source": [
    "# Encontrar o que está em <a> e não está em <b>\n",
    "a.keys() - b.keys()"
   ]
  },
  {
   "cell_type": "code",
   "execution_count": 93,
   "metadata": {},
   "outputs": [
    {
     "data": {
      "text/plain": "{('y', 2)}"
     },
     "execution_count": 93,
     "metadata": {},
     "output_type": "execute_result"
    }
   ],
   "source": [
    "# Encontrar o par(chave/valor) em comum.\n",
    "a.items() & b.items()"
   ]
  },
  {
   "cell_type": "markdown",
   "metadata": {},
   "source": [
    "Esses tipos de operações também podem ser usados para alterar ou filtrar o conteúdo do dicionário. Por exemplo, suponha que você queira criar um novo dicionário com as chaves selecionadas removidas. Aqui está um código de exemplo usando uma compreensão de dicionário:"
   ]
  },
  {
   "cell_type": "code",
   "execution_count": 94,
   "metadata": {},
   "outputs": [
    {
     "data": {
      "text/plain": "{'y': 2, 'x': 1}"
     },
     "execution_count": 94,
     "metadata": {},
     "output_type": "execute_result"
    }
   ],
   "source": [
    "# Fazer um novo dicionário com certas chaves removidas\n",
    "c = {key:a[key] for key in a.keys() - {'z', 'w'}}\n",
    "c"
   ]
  },
  {
   "cell_type": "markdown",
   "metadata": {},
   "source": [
    "**Discussão**\n",
    "\n",
    "Um dicionário é um mapeamento entre um conjunto de chaves e valores. O método `keys()` de um dicionário retorna um objeto *keys-view* que expõe as chaves. Um recurso pouco conhecido das visualizações de chaves é que elas também suportam operações de conjunto comuns, como uniões, interseções e diferenças. Assim, se você precisar realizar operações comuns de conjunto com chaves de dicionário, muitas vezes você pode usar os objetos keys-view diretamente sem primeiro convertê-los em um conjunto.\n",
    "\n",
    "O método `items()` de um dicionário retorna um objeto *items-view* que consiste em pares (chave, valor). Esse objeto suporta operações de conjunto semelhantes e pode ser usado para realizar operações como descobrir quais pares de chave-valor dois dicionários têm em comum.\n",
    "\n",
    "Embora semelhante, o método `values()` de um dicionário não suporta as operações de conjunto descritas nesta receita. Em parte, isso se deve ao fato de que, diferentemente das chaves, os itens contidos em uma visualização de valores não são garantidos como exclusivos. Isso por si só torna certas operações de conjunto de utilidade questionável. No entanto, se você precisar realizar esses cálculos, eles podem ser realizados simplesmente convertendo os valores em um conjunto primeiro.\n",
    "\n",
    "## 1.10. Removendo duplicatas de uma sequência enquanto mantém a ordem\n",
    "\n",
    "**Problema**\n",
    "\n",
    "Você deseja eliminar os valores duplicados em uma sequência, mas preserva a ordem dos itens restantes.\n",
    "\n",
    "**Solução**\n",
    "\n",
    "Se os valores na sequência forem hashable, o problema pode ser facilmente resolvido usando um conjunto e um gerador. Por exemplo:"
   ]
  },
  {
   "cell_type": "code",
   "execution_count": 95,
   "metadata": {},
   "outputs": [],
   "source": [
    "def dedupe(items):\n",
    "    seen = set()\n",
    "    for item in items:\n",
    "        if item not in seen:\n",
    "            yield item\n",
    "            seen.add(item)"
   ]
  },
  {
   "cell_type": "markdown",
   "metadata": {},
   "source": [
    "Aqui está um exemplo de como usar sua função:"
   ]
  },
  {
   "cell_type": "code",
   "execution_count": 96,
   "metadata": {},
   "outputs": [
    {
     "data": {
      "text/plain": "[1, 5, 2, 9, 10]"
     },
     "execution_count": 96,
     "metadata": {},
     "output_type": "execute_result"
    }
   ],
   "source": [
    "a = [1, 5, 2, 1, 9, 1, 5, 10]\n",
    "list(dedupe(a))"
   ]
  },
  {
   "cell_type": "markdown",
   "metadata": {},
   "source": [
    "Isso só funciona se os itens na sequência forem passíveis de `hash`. Se você estiver tentando eliminar duplicatas em uma sequência de tipos que não podem ser compartilhados (como `dicts`), você pode fazer uma pequena alteração nesta receita, da seguinte forma:"
   ]
  },
  {
   "cell_type": "code",
   "execution_count": 97,
   "metadata": {},
   "outputs": [],
   "source": [
    "def dedupe(items, key=None):\n",
    "    seen = set()\n",
    "    for item in items:\n",
    "        val = item if key is None else key(item)\n",
    "        if val not in seen:\n",
    "            yield item\n",
    "            seen.add(val)"
   ]
  },
  {
   "cell_type": "markdown",
   "metadata": {},
   "source": [
    "Aqui, o objetivo do argumento `key` é especificar uma função que converte itens de sequência em um tipo hashable para fins de detecção de duplicatas. Veja como funciona:"
   ]
  },
  {
   "cell_type": "code",
   "execution_count": 98,
   "metadata": {},
   "outputs": [
    {
     "data": {
      "text/plain": "[{'x': 1, 'y': 2}, {'x': 1, 'y': 3}, {'x': 2, 'y': 4}]"
     },
     "execution_count": 98,
     "metadata": {},
     "output_type": "execute_result"
    }
   ],
   "source": [
    "a = [ {'x':1, 'y':2}, {'x':1, 'y':3}, {'x':1, 'y':2}, {'x':2, 'y':4}]\n",
    "list(dedupe(a, key=lambda d: (d['x'],d['y'])))"
   ]
  },
  {
   "cell_type": "code",
   "execution_count": 99,
   "metadata": {},
   "outputs": [
    {
     "data": {
      "text/plain": "[{'x': 1, 'y': 2}, {'x': 2, 'y': 4}]"
     },
     "execution_count": 99,
     "metadata": {},
     "output_type": "execute_result"
    }
   ],
   "source": [
    "list(dedupe(a, key=lambda d: d['x']))"
   ]
  },
  {
   "cell_type": "markdown",
   "metadata": {},
   "source": [
    "Esta última solução também funciona bem se você deseja eliminar duplicatas com base no valor de um único campo ou atributo ou uma estrutura de dados maior.\n",
    "\n",
    "**Discussão**\n",
    "\n",
    "Se tudo o que você quer fazer é eliminar duplicatas, geralmente é fácil fazer um conjunto. Por exemplo:"
   ]
  },
  {
   "cell_type": "code",
   "execution_count": 100,
   "metadata": {},
   "outputs": [
    {
     "data": {
      "text/plain": "[1, 5, 2, 1, 9, 1, 5, 10]"
     },
     "execution_count": 100,
     "metadata": {},
     "output_type": "execute_result"
    }
   ],
   "source": [
    "a = [1, 5, 2, 1, 9, 1, 5, 10]\n",
    "a"
   ]
  },
  {
   "cell_type": "code",
   "execution_count": 101,
   "metadata": {},
   "outputs": [
    {
     "data": {
      "text/plain": "{1, 2, 5, 9, 10}"
     },
     "execution_count": 101,
     "metadata": {},
     "output_type": "execute_result"
    }
   ],
   "source": [
    "set(a)"
   ]
  },
  {
   "cell_type": "markdown",
   "metadata": {},
   "source": [
    "No entanto, essa abordagem não preserva nenhum tipo de ordenação. Assim, os dados resultantes serão embaralhados posteriormente. A solução mostrada evita isso.\n",
    "\n",
    "O uso de uma função geradora nesta receita reflete o fato de que você pode querer que a função seja de propósito extremamente geral – não necessariamente vinculada diretamente ao processamento de listas. Por exemplo, se você quiser ler um arquivo, eliminando linhas duplicadas, você pode simplesmente fazer isso:\n",
    "\n",
    "<code>\n",
    "with open(somefile,'r') as f:\n",
    "    for line in dedupe(f):\n",
    "</code>\n",
    "    \n",
    "A especificação de uma função chave imita uma funcionalidade semelhante em funções internas, como `sorted()`, `min()` e `max()`. Por exemplo, veja Receitas 1.8 e 1.13.\n"
   ]
  },
  {
   "cell_type": "markdown",
   "metadata": {},
   "source": [
    "## 1.11. Nomeando uma fatia\n",
    "\n",
    "**Problema**\n",
    "\n",
    "Seu programa se tornou uma bagunça ilegível de índices de fatia codificados e você deseja limpá-lo.\n",
    "\n",
    "**Solução**\n",
    "\n",
    "Suponha que você tenha algum código que está extraindo campos de dados específicos de uma string de registro com campos fixos (por exemplo, de um arquivo simples ou formato similar):"
   ]
  },
  {
   "cell_type": "code",
   "execution_count": 102,
   "metadata": {},
   "outputs": [
    {
     "data": {
      "text/plain": "51325.0"
     },
     "execution_count": 102,
     "metadata": {},
     "output_type": "execute_result"
    }
   ],
   "source": [
    "###### 0123456789012345678901234567890123456789012345678901234567890'\n",
    "record = '....................100         ........513.25  ..........'\n",
    "cost = int(record[20:32]) * float(record[40:48])\n",
    "cost"
   ]
  },
  {
   "cell_type": "markdown",
   "metadata": {},
   "source": [
    "Em vez de fazer isso, por que não nomear as fatias assim?"
   ]
  },
  {
   "cell_type": "code",
   "execution_count": 103,
   "metadata": {},
   "outputs": [
    {
     "data": {
      "text/plain": "51325.0"
     },
     "execution_count": 103,
     "metadata": {},
     "output_type": "execute_result"
    }
   ],
   "source": [
    "SHARES = slice(20,32)\n",
    "PRICE = slice(40,48)\n",
    "\n",
    "cost = int(record[SHARES]) * float(record[PRICE])\n",
    "cost"
   ]
  },
  {
   "cell_type": "markdown",
   "metadata": {},
   "source": [
    "Na última versão, você evita ter muitos índices misteriosos codificados, e o que você está fazendo fica muito mais claro.\n",
    "\n",
    "**Discussão**\n",
    "\n",
    "Como regra geral, escrever código com muitos valores de índice codificados leva a uma confusão de legibilidade e manutenção. Por exemplo, se você voltar ao código um ano depois, olhará para ele e se perguntará o que estava pensando quando o escreveu. A solução mostrada é simplesmente uma forma de declarar mais claramente o que seu código está realmente fazendo.\n",
    "\n",
    "Em geral, o *built-in* `slice()` cria um objeto slice que pode ser usado em qualquer lugar que um slice seja permitido. Por exemplo:"
   ]
  },
  {
   "cell_type": "code",
   "execution_count": 104,
   "metadata": {},
   "outputs": [
    {
     "data": {
      "text/plain": "[2, 3]"
     },
     "execution_count": 104,
     "metadata": {},
     "output_type": "execute_result"
    }
   ],
   "source": [
    "items = [0, 1, 2, 3, 4, 5, 6]\n",
    "a = slice(2, 4)\n",
    "items[2:4]"
   ]
  },
  {
   "cell_type": "code",
   "execution_count": 105,
   "metadata": {},
   "outputs": [
    {
     "data": {
      "text/plain": "[2, 3]"
     },
     "execution_count": 105,
     "metadata": {},
     "output_type": "execute_result"
    }
   ],
   "source": [
    "items[a]"
   ]
  },
  {
   "cell_type": "code",
   "execution_count": 106,
   "metadata": {},
   "outputs": [
    {
     "data": {
      "text/plain": "[0, 1, 10, 11, 4, 5, 6]"
     },
     "execution_count": 106,
     "metadata": {},
     "output_type": "execute_result"
    }
   ],
   "source": [
    "items[a] = [10,11]\n",
    "items"
   ]
  },
  {
   "cell_type": "code",
   "execution_count": 107,
   "metadata": {},
   "outputs": [
    {
     "data": {
      "text/plain": "[0, 1, 4, 5, 6]"
     },
     "execution_count": 107,
     "metadata": {},
     "output_type": "execute_result"
    }
   ],
   "source": [
    "del items[a]\n",
    "items"
   ]
  },
  {
   "cell_type": "markdown",
   "metadata": {},
   "source": [
    "Se você tiver uma instância de slice `s`, poderá obter mais informações sobre ela examinando seus atributos `s.start`, `s.stop` e `s.step`, respectivamente. Por exemplo:"
   ]
  },
  {
   "cell_type": "code",
   "execution_count": 108,
   "metadata": {},
   "outputs": [
    {
     "data": {
      "text/plain": "10"
     },
     "execution_count": 108,
     "metadata": {},
     "output_type": "execute_result"
    }
   ],
   "source": [
    "a = slice(10, 50, 2)\n",
    "a.start"
   ]
  },
  {
   "cell_type": "code",
   "execution_count": 109,
   "metadata": {},
   "outputs": [
    {
     "data": {
      "text/plain": "50"
     },
     "execution_count": 109,
     "metadata": {},
     "output_type": "execute_result"
    }
   ],
   "source": [
    "a.stop"
   ]
  },
  {
   "cell_type": "code",
   "execution_count": 110,
   "metadata": {},
   "outputs": [
    {
     "data": {
      "text/plain": "2"
     },
     "execution_count": 110,
     "metadata": {},
     "output_type": "execute_result"
    }
   ],
   "source": [
    "a.step"
   ]
  },
  {
   "cell_type": "markdown",
   "metadata": {},
   "source": [
    "Além disso, você pode mapear uma fatia em uma sequência de um tamanho específico usando seu método `indices(size)` \\[índices(tamanho)\\]. Isso retorna uma tupla (`start`, `stop`, `step`) onde todos os valores foram adequadamente limitados para caber dentro dos limites (para evitar exceções `IndexError` ao indexar). Por exemplo:"
   ]
  },
  {
   "cell_type": "code",
   "execution_count": 111,
   "metadata": {},
   "outputs": [
    {
     "data": {
      "text/plain": "(5, 10, 2)"
     },
     "execution_count": 111,
     "metadata": {},
     "output_type": "execute_result"
    }
   ],
   "source": [
    "a =slice(5, 10, 2)\n",
    "s = 'HelloWorld'\n",
    "a.indices(len(s))"
   ]
  },
  {
   "cell_type": "code",
   "execution_count": 112,
   "metadata": {},
   "outputs": [
    {
     "name": "stdout",
     "output_type": "stream",
     "text": [
      "W\n",
      "r\n",
      "d\n"
     ]
    }
   ],
   "source": [
    "for i in range(*a.indices(len(s))):\n",
    "    print(s[i])"
   ]
  },
  {
   "cell_type": "markdown",
   "metadata": {},
   "source": [
    "## 1.12. Determinando os itens que ocorrem com mais frequência em uma sequência\n",
    "\n",
    "**Problema**\n",
    "\n",
    "Você tem uma sequência de itens e gostaria de determinar os itens que ocorrem com mais frequência na sequência.\n",
    "\n",
    "**Solução**\n",
    "\n",
    "A classe `collections.Counter` foi projetada exatamente para esse problema. Ele ainda vem com um prático método most_common() que lhe dará a resposta.\n",
    "Para ilustrar, digamos que você tenha uma lista de palavras e queira descobrir quais palavras ocorrem com mais frequência. Veja como você faria:"
   ]
  },
  {
   "cell_type": "code",
   "execution_count": 113,
   "metadata": {},
   "outputs": [
    {
     "name": "stdout",
     "output_type": "stream",
     "text": [
      "[('eyes', 8), ('the', 5), ('look', 4)]\n"
     ]
    }
   ],
   "source": [
    "words = [\n",
    "    'look', 'into', 'my', 'eyes', 'look', 'into', 'my', 'eyes',\n",
    "    'the', 'eyes', 'the', 'eyes', 'the', 'eyes', 'not', 'around', 'the',\n",
    "    'eyes', \"don't\", 'look', 'around', 'the', 'eyes', 'look', 'into',\n",
    "    'my', 'eyes', \"you're\", 'under'\n",
    "]\n",
    "\n",
    "from collections import Counter\n",
    "\n",
    "word_counts = Counter(words)\n",
    "top_three = word_counts.most_common(3)\n",
    "print(top_three)"
   ]
  },
  {
   "cell_type": "markdown",
   "metadata": {},
   "source": [
    "**Discussão**\n",
    "\n",
    "Como entrada, os objetos `Counter` podem ser alimentados com qualquer sequência de itens de entrada hashable. Nos bastidores, um contador é um dicionário que mapeia os itens para o número de ocorrências. Por exemplo:"
   ]
  },
  {
   "cell_type": "code",
   "execution_count": 114,
   "metadata": {},
   "outputs": [
    {
     "data": {
      "text/plain": "1"
     },
     "execution_count": 114,
     "metadata": {},
     "output_type": "execute_result"
    }
   ],
   "source": [
    "word_counts['not']"
   ]
  },
  {
   "cell_type": "code",
   "execution_count": 115,
   "metadata": {},
   "outputs": [
    {
     "data": {
      "text/plain": "8"
     },
     "execution_count": 115,
     "metadata": {},
     "output_type": "execute_result"
    }
   ],
   "source": [
    "word_counts['eyes']"
   ]
  },
  {
   "cell_type": "markdown",
   "metadata": {},
   "source": [
    "Se você quiser incrementar a contagem manualmente, basta usar a adição:"
   ]
  },
  {
   "cell_type": "code",
   "execution_count": 116,
   "metadata": {},
   "outputs": [
    {
     "data": {
      "text/plain": "9"
     },
     "execution_count": 116,
     "metadata": {},
     "output_type": "execute_result"
    }
   ],
   "source": [
    "morewords = ['why','are','you','not','looking','in','my','eyes']\n",
    "for word in morewords:\n",
    "    word_counts[word] += 1\n",
    "\n",
    "word_counts['eyes']"
   ]
  },
  {
   "cell_type": "markdown",
   "metadata": {},
   "source": [
    "Ou, alternativamente, você pode usar o método `update()`:"
   ]
  },
  {
   "cell_type": "code",
   "execution_count": 117,
   "metadata": {},
   "outputs": [
    {
     "data": {
      "text/plain": "Counter({'look': 4,\n         'into': 3,\n         'my': 5,\n         'eyes': 10,\n         'the': 5,\n         'not': 3,\n         'around': 2,\n         \"don't\": 1,\n         \"you're\": 1,\n         'under': 1,\n         'why': 2,\n         'are': 2,\n         'you': 2,\n         'looking': 2,\n         'in': 2})"
     },
     "execution_count": 117,
     "metadata": {},
     "output_type": "execute_result"
    }
   ],
   "source": [
    "word_counts.update(morewords)\n",
    "word_counts"
   ]
  },
  {
   "cell_type": "markdown",
   "metadata": {},
   "source": [
    "Um recurso pouco conhecido das instâncias `Counter` é que elas podem ser facilmente combinadas usando várias operações matemáticas. Por exemplo:"
   ]
  },
  {
   "cell_type": "code",
   "execution_count": 118,
   "metadata": {},
   "outputs": [
    {
     "data": {
      "text/plain": "Counter({'look': 4,\n         'into': 3,\n         'my': 3,\n         'eyes': 8,\n         'the': 5,\n         'not': 1,\n         'around': 2,\n         \"don't\": 1,\n         \"you're\": 1,\n         'under': 1})"
     },
     "execution_count": 118,
     "metadata": {},
     "output_type": "execute_result"
    }
   ],
   "source": [
    "a = Counter(words)\n",
    "b = Counter(morewords)\n",
    "a"
   ]
  },
  {
   "cell_type": "code",
   "execution_count": 119,
   "metadata": {},
   "outputs": [
    {
     "data": {
      "text/plain": "Counter({'why': 1,\n         'are': 1,\n         'you': 1,\n         'not': 1,\n         'looking': 1,\n         'in': 1,\n         'my': 1,\n         'eyes': 1})"
     },
     "execution_count": 119,
     "metadata": {},
     "output_type": "execute_result"
    }
   ],
   "source": [
    "b"
   ]
  },
  {
   "cell_type": "code",
   "execution_count": 120,
   "metadata": {},
   "outputs": [
    {
     "data": {
      "text/plain": "Counter({'look': 4,\n         'into': 3,\n         'my': 4,\n         'eyes': 9,\n         'the': 5,\n         'not': 2,\n         'around': 2,\n         \"don't\": 1,\n         \"you're\": 1,\n         'under': 1,\n         'why': 1,\n         'are': 1,\n         'you': 1,\n         'looking': 1,\n         'in': 1})"
     },
     "execution_count": 120,
     "metadata": {},
     "output_type": "execute_result"
    }
   ],
   "source": [
    "# Combinar as contagens\n",
    "a + b"
   ]
  },
  {
   "cell_type": "code",
   "execution_count": 121,
   "metadata": {},
   "outputs": [
    {
     "data": {
      "text/plain": "Counter({'look': 4,\n         'into': 3,\n         'my': 2,\n         'eyes': 7,\n         'the': 5,\n         'around': 2,\n         \"don't\": 1,\n         \"you're\": 1,\n         'under': 1})"
     },
     "execution_count": 121,
     "metadata": {},
     "output_type": "execute_result"
    }
   ],
   "source": [
    "# Subtrair as contagens\n",
    "a - b"
   ]
  },
  {
   "cell_type": "markdown",
   "metadata": {},
   "source": [
    "Desnecessário dizer que os objetos `Counter` são uma ferramenta tremendamente útil para quase qualquer tipo de problema em que você precise tabular e contar dados. Você deve preferir isso a soluções escritas manualmente envolvendo dicionários.\n",
    "\n",
    "## 1.13. Classificando uma lista de dicionários por uma chave comum\n",
    "\n",
    "**Problema**\n",
    "\n",
    "Você tem uma lista de dicionários e gostaria de classificar as entradas de acordo com um ou mais valores do dicionário.\n",
    "\n",
    "**Solução**\n",
    "\n",
    "Classificar este tipo de estrutura é fácil usando a função `itemgetter` do módulo `operator`. Digamos que você tenha consultado uma tabela de banco de dados para obter uma lista dos membros em seu site e receba a seguinte estrutura de dados em troca:"
   ]
  },
  {
   "cell_type": "code",
   "execution_count": 122,
   "metadata": {},
   "outputs": [],
   "source": [
    "rows = [\n",
    "    {'fname': 'Brian', 'lname': 'Jones', 'uid': 1003},\n",
    "    {'fname': 'David', 'lname': 'Beazley', 'uid': 1002},\n",
    "    {'fname': 'John', 'lname': 'Cleese', 'uid': 1001},\n",
    "    {'fname': 'Big', 'lname': 'Jones', 'uid': 1004}\n",
    "]"
   ]
  },
  {
   "cell_type": "markdown",
   "metadata": {},
   "source": [
    "É bastante fácil produzir essas linhas ordenadas por qualquer um dos campos comuns a todos os dicionários. Por exemplo:"
   ]
  },
  {
   "cell_type": "code",
   "execution_count": 123,
   "metadata": {},
   "outputs": [
    {
     "name": "stdout",
     "output_type": "stream",
     "text": [
      "[{'fname': 'Big', 'lname': 'Jones', 'uid': 1004}, {'fname': 'Brian', 'lname': 'Jones', 'uid': 1003}, {'fname': 'David', 'lname': 'Beazley', 'uid': 1002}, {'fname': 'John', 'lname': 'Cleese', 'uid': 1001}]\n",
      "\n",
      "[{'fname': 'John', 'lname': 'Cleese', 'uid': 1001}, {'fname': 'David', 'lname': 'Beazley', 'uid': 1002}, {'fname': 'Brian', 'lname': 'Jones', 'uid': 1003}, {'fname': 'Big', 'lname': 'Jones', 'uid': 1004}]\n"
     ]
    }
   ],
   "source": [
    "from operator import itemgetter\n",
    "\n",
    "rows_by_fname = sorted(rows, key=itemgetter('fname'))\n",
    "rows_by_uid = sorted(rows, key=itemgetter('uid'))\n",
    "\n",
    "print(rows_by_fname)\n",
    "print('')\n",
    "print(rows_by_uid)"
   ]
  },
  {
   "cell_type": "markdown",
   "metadata": {},
   "source": [
    "A função `itemgetter()` também pode aceitar várias chaves. Por exemplo, este código:"
   ]
  },
  {
   "cell_type": "code",
   "execution_count": 124,
   "metadata": {},
   "outputs": [
    {
     "name": "stdout",
     "output_type": "stream",
     "text": [
      "[{'fname': 'David', 'lname': 'Beazley', 'uid': 1002}, {'fname': 'John', 'lname': 'Cleese', 'uid': 1001}, {'fname': 'Big', 'lname': 'Jones', 'uid': 1004}, {'fname': 'Brian', 'lname': 'Jones', 'uid': 1003}]\n"
     ]
    }
   ],
   "source": [
    "rows_by_lfname = sorted(rows, key=itemgetter('lname','fname'))\n",
    "print(rows_by_lfname)"
   ]
  },
  {
   "cell_type": "markdown",
   "metadata": {},
   "source": [
    "**Discussão**\n",
    "\n",
    "Neste exemplo, as linhas são passadas para a função integrada `sorted()`, que aceita uma chave de argumento de palavra-chave. Espera-se que esse argumento seja um `callable` que aceite um único item de linhas como entrada e retorne um valor que será usado como base para classificação. A função `itemgetter()` cria exatamente esse callable.\n",
    "\n",
    "A função `operator.itemgetter()` recebe como argumentos os índices de pesquisa usados para extrair os valores desejados dos registros em linhas. Pode ser um nome de chave de dicionário, um elemento de lista numérica ou qualquer valor que possa ser alimentado ao método `__getitem__()` de um objeto. Se você fornecer vários índices para `itemgetter()`, o callable que ele produz retornará uma tupla com todos os elementos nela, e `sorted()` ordenará a saída de acordo com a ordem classificada das tuplas. Isso pode ser útil se você quiser classificar simultaneamente em vários campos (como sobrenome e nome, conforme mostrado no exemplo).\n",
    "\n",
    "A funcionalidade de `itemgetter()` às vezes é substituída por expressões lambda. Por exemplo:"
   ]
  },
  {
   "cell_type": "code",
   "execution_count": 125,
   "metadata": {},
   "outputs": [
    {
     "name": "stdout",
     "output_type": "stream",
     "text": [
      "[{'fname': 'Big', 'lname': 'Jones', 'uid': 1004}, {'fname': 'Brian', 'lname': 'Jones', 'uid': 1003}, {'fname': 'David', 'lname': 'Beazley', 'uid': 1002}, {'fname': 'John', 'lname': 'Cleese', 'uid': 1001}]\n",
      "\n",
      "[{'fname': 'David', 'lname': 'Beazley', 'uid': 1002}, {'fname': 'John', 'lname': 'Cleese', 'uid': 1001}, {'fname': 'Big', 'lname': 'Jones', 'uid': 1004}, {'fname': 'Brian', 'lname': 'Jones', 'uid': 1003}]\n"
     ]
    }
   ],
   "source": [
    "rows_by_fname = sorted(rows, key=lambda r: r['fname'])\n",
    "rows_by_lfname = sorted(rows, key=lambda r: (r['lname'],r['fname']))\n",
    "\n",
    "print(rows_by_fname)\n",
    "print(\"\")\n",
    "print(rows_by_lfname)"
   ]
  },
  {
   "cell_type": "markdown",
   "metadata": {},
   "source": [
    "Essa solução geralmente funciona bem. No entanto, a solução envolvendo `itemgetter()` normalmente é executada um pouco mais rápido. Assim, você pode preferir se o desempenho for uma preocupação. Por último, mas não menos importante, não esqueça que a técnica mostrada nesta receita pode ser aplicada a funções como `min()` e `max()`. Por exemplo:"
   ]
  },
  {
   "cell_type": "code",
   "execution_count": 126,
   "metadata": {},
   "outputs": [
    {
     "data": {
      "text/plain": "{'fname': 'John', 'lname': 'Cleese', 'uid': 1001}"
     },
     "execution_count": 126,
     "metadata": {},
     "output_type": "execute_result"
    }
   ],
   "source": [
    "min(rows, key=itemgetter('uid'))"
   ]
  },
  {
   "cell_type": "code",
   "execution_count": 127,
   "metadata": {},
   "outputs": [
    {
     "data": {
      "text/plain": "{'fname': 'Big', 'lname': 'Jones', 'uid': 1004}"
     },
     "execution_count": 127,
     "metadata": {},
     "output_type": "execute_result"
    }
   ],
   "source": [
    "max(rows, key=itemgetter('uid'))"
   ]
  },
  {
   "cell_type": "markdown",
   "metadata": {},
   "source": [
    "## 1.14. Classificando objetos sem suporte de comparação nativa\n",
    "\n",
    "**Problema**\n",
    "\n",
    "Você deseja classificar objetos da mesma classe, mas eles não oferecem suporte nativo a operações de comparação.\n",
    "\n",
    "**Solução**\n",
    "\n",
    "A função built-in `sorted()` recebe um argumento chave que pode receber um callable que retornará algum valor no objeto que `sorted` usará para comparar os objetos. Por exemplo, se você tiver uma sequência de instâncias de usuário em seu aplicativo e desejar classificá-las pelo atributo `user_id`, forneça um callable que receba uma instância de usuário como entrada e retorne o `user_id`. Por exemplo:"
   ]
  },
  {
   "cell_type": "code",
   "execution_count": 128,
   "metadata": {},
   "outputs": [
    {
     "data": {
      "text/plain": "[User(23), User(3), User(99)]"
     },
     "execution_count": 128,
     "metadata": {},
     "output_type": "execute_result"
    }
   ],
   "source": [
    "class User:\n",
    "    def __init__(self, user_id):\n",
    "        self.user_id = user_id\n",
    "    \n",
    "    def __repr__(self):\n",
    "        return 'User({})'.format(self.user_id)\n",
    "users = [User(23), User(3), User(99)]\n",
    "users"
   ]
  },
  {
   "cell_type": "code",
   "execution_count": 129,
   "metadata": {},
   "outputs": [
    {
     "data": {
      "text/plain": "[User(3), User(23), User(99)]"
     },
     "execution_count": 129,
     "metadata": {},
     "output_type": "execute_result"
    }
   ],
   "source": [
    "sorted(users, key=lambda u: u.user_id)"
   ]
  },
  {
   "cell_type": "markdown",
   "metadata": {},
   "source": [
    "Em vez de usar `lambda`, uma abordagem alternativa é usar `operator.attrgetter()`:"
   ]
  },
  {
   "cell_type": "code",
   "execution_count": 130,
   "metadata": {},
   "outputs": [
    {
     "data": {
      "text/plain": "[User(3), User(23), User(99)]"
     },
     "execution_count": 130,
     "metadata": {},
     "output_type": "execute_result"
    }
   ],
   "source": [
    "from operator import attrgetter\n",
    "\n",
    "sorted(users, key=attrgetter('user_id'))"
   ]
  },
  {
   "cell_type": "markdown",
   "metadata": {},
   "source": [
    "**Discussão**\n",
    "\n",
    "A escolha de usar ou não `lambda` ou `attrgetter()` pode ser uma preferência pessoal. No entanto, `attrgetter()` geralmente é um pouco mais rápido e também possui o recurso adicional de permitir que vários campos sejam extraídos simultaneamente. Isso é análogo ao uso de `operator.itemgetter()` para dicionários (veja a Receita 1.13). Por exemplo, se as instâncias de usuário também tivessem um atributo `first_name` e `last_name`, você poderia executar um ordenar assim:\n",
    "<code>\n",
    "by_name = sorted(users, key=attrgetter('last_name', 'first_name'))\n",
    "</code>"
   ]
  },
  {
   "cell_type": "markdown",
   "metadata": {},
   "source": [
    "Também vale a pena notar que a técnica usada nesta receita pode ser aplicada a funções como `min()` e `max()`. Por exemplo:"
   ]
  },
  {
   "cell_type": "code",
   "execution_count": 131,
   "metadata": {},
   "outputs": [
    {
     "data": {
      "text/plain": "User(3)"
     },
     "execution_count": 131,
     "metadata": {},
     "output_type": "execute_result"
    }
   ],
   "source": [
    "min(users, key=attrgetter('user_id'))"
   ]
  },
  {
   "cell_type": "code",
   "execution_count": 132,
   "metadata": {},
   "outputs": [
    {
     "data": {
      "text/plain": "User(99)"
     },
     "execution_count": 132,
     "metadata": {},
     "output_type": "execute_result"
    }
   ],
   "source": [
    "max(users, key=attrgetter('user_id'))"
   ]
  },
  {
   "cell_type": "markdown",
   "metadata": {},
   "source": [
    "## 1.15. Agrupando registros com base em um campo\n",
    "\n",
    "**Problema**\n",
    "\n",
    "Você tem uma sequência de dicionários ou instâncias e deseja iterar os dados em grupos com base no valor de um campo específico, como data.\n",
    "\n",
    "**Solução**\n",
    "\n",
    "A função `itertools.groupby()` é particularmente útil para agrupar dados assim. Para ilustrar, suponha que você tenha a seguinte lista de dicionários:"
   ]
  },
  {
   "cell_type": "code",
   "execution_count": 133,
   "metadata": {},
   "outputs": [],
   "source": [
    "rows = [\n",
    "    {'address': '5412 N CLARK', 'date': '07/01/2012'},\n",
    "    {'address': '5148 N CLARK', 'date': '07/04/2012'},\n",
    "    {'address': '5800 E 58TH', 'date': '07/02/2012'},\n",
    "    {'address': '2122 N CLARK', 'date': '07/03/2012'},\n",
    "    {'address': '5645 N RAVENSWOOD', 'date': '07/02/2012'},\n",
    "    {'address': '1060 W ADDISON', 'date': '07/02/2012'},\n",
    "    {'address': '4801 N BROADWAY', 'date': '07/01/2012'},\n",
    "    {'address': '1039 W GRANVILLE', 'date': '07/04/2012'},\n",
    "]"
   ]
  },
  {
   "cell_type": "markdown",
   "metadata": {},
   "source": [
    "Agora suponha que você queira iterar sobre os dados em pedaços agrupados por data. Para fazer isso, primeiro classifique pelo campo desejado (neste caso, data) e depois use `itertools.groupby()`:"
   ]
  },
  {
   "cell_type": "code",
   "execution_count": 134,
   "metadata": {},
   "outputs": [
    {
     "name": "stdout",
     "output_type": "stream",
     "text": [
      "07/01/2012\n",
      "  {'address': '5412 N CLARK', 'date': '07/01/2012'}\n",
      "  {'address': '4801 N BROADWAY', 'date': '07/01/2012'}\n",
      "07/02/2012\n",
      "  {'address': '5800 E 58TH', 'date': '07/02/2012'}\n",
      "  {'address': '5645 N RAVENSWOOD', 'date': '07/02/2012'}\n",
      "  {'address': '1060 W ADDISON', 'date': '07/02/2012'}\n",
      "07/03/2012\n",
      "  {'address': '2122 N CLARK', 'date': '07/03/2012'}\n",
      "07/04/2012\n",
      "  {'address': '5148 N CLARK', 'date': '07/04/2012'}\n",
      "  {'address': '1039 W GRANVILLE', 'date': '07/04/2012'}\n"
     ]
    }
   ],
   "source": [
    "from operator import itemgetter\n",
    "from itertools import groupby\n",
    "\n",
    "# Ordenado pelo primeiro campo desejado\n",
    "rows.sort(key=itemgetter('date'))\n",
    "\n",
    "# Iterando em grupos\n",
    "for date, items in groupby(rows, key=itemgetter('date')):\n",
    "    print(date)\n",
    "    for i in items:\n",
    "        print(' ', i)"
   ]
  },
  {
   "cell_type": "markdown",
   "metadata": {},
   "source": [
    "**Discussão**\n",
    "\n",
    "A função `groupby()` funciona varrendo uma sequência e encontrando “execuções” sequenciais de valores idênticos (ou valores retornados pela função de chave fornecida). Em cada iteração, ele retorna o valor junto com um iterador que produz todos os itens de um grupo com o mesmo valor.\n",
    "\n",
    "Um passo preliminar importante é classificar os dados de acordo com o campo de interesse. Como `groupby()` examina apenas itens consecutivos, não classificar primeiro não agrupará os registros como você deseja.\n",
    "\n",
    "Se seu objetivo é simplesmente agrupar os dados por datas em uma grande estrutura de dados que permite acesso aleatório, você pode ter mais sorte usando `defaultdict()` para construir um `multidict`, conforme descrito na Receita 1.6. Por exemplo:"
   ]
  },
  {
   "cell_type": "code",
   "execution_count": 135,
   "metadata": {},
   "outputs": [],
   "source": [
    "from collections import defaultdict\n",
    "\n",
    "row_by_date = defaultdict(list)\n",
    "for row in rows:\n",
    "    row_by_date[row['date']].append(row)"
   ]
  },
  {
   "cell_type": "markdown",
   "metadata": {},
   "source": [
    "Isso permite que os registros de cada data sejam acessados facilmente assim:\n",
    "<code>\n",
    "for r in rows_by_date['07/01/2012']:\n",
    "    print(r)    \n",
    "</code>"
   ]
  },
  {
   "cell_type": "markdown",
   "metadata": {},
   "source": [
    "Para este último exemplo, não é necessário classificar os registros primeiro. Assim, se a memória não for preocupação, pode ser mais rápido fazer isso do que primeiro classificar os registros e iterar usando `groupby()`."
   ]
  },
  {
   "cell_type": "markdown",
   "metadata": {},
   "source": [
    "## 1.16. Filtrando Elementos de Sequência\n",
    "\n",
    "**Problema**\n",
    "\n",
    "Você tem dados dentro de uma sequência e precisa extrair valores ou reduzir a sequência usando alguns critérios.\n",
    "\n",
    "**Solução**\n",
    "\n",
    "A maneira mais fácil de filtrar dados de sequência geralmente é usar uma *List Comprehension*. Por exemplo:"
   ]
  },
  {
   "cell_type": "code",
   "execution_count": 136,
   "metadata": {},
   "outputs": [
    {
     "data": {
      "text/plain": "[1, 4, 10, 2, 3]"
     },
     "execution_count": 136,
     "metadata": {},
     "output_type": "execute_result"
    }
   ],
   "source": [
    "mylist = [1, 4, -5, 10, -7, 2, 3, -1]\n",
    "[n for n in mylist if n > 0]"
   ]
  },
  {
   "cell_type": "code",
   "execution_count": 137,
   "metadata": {},
   "outputs": [
    {
     "data": {
      "text/plain": "[-5, -7, -1]"
     },
     "execution_count": 137,
     "metadata": {},
     "output_type": "execute_result"
    }
   ],
   "source": [
    "[n for n in mylist if n <0]"
   ]
  },
  {
   "cell_type": "markdown",
   "metadata": {},
   "source": [
    "Uma desvantagem potencial de usar uma compreensão de lista é que ela pode produzir um grande resultado se a entrada original for grande. Se isso for uma preocupação, você pode usar expressões geradoras para produzir os valores filtrados de forma iterativa. Por exemplo:"
   ]
  },
  {
   "cell_type": "code",
   "execution_count": 138,
   "metadata": {},
   "outputs": [
    {
     "data": {
      "text/plain": "<generator object <genexpr> at 0x000001EA46D22CE0>"
     },
     "execution_count": 138,
     "metadata": {},
     "output_type": "execute_result"
    }
   ],
   "source": [
    "pos = (n for n in mylist if n > 0)\n",
    "pos"
   ]
  },
  {
   "cell_type": "code",
   "execution_count": 139,
   "metadata": {},
   "outputs": [
    {
     "name": "stdout",
     "output_type": "stream",
     "text": [
      "1\n",
      "4\n",
      "10\n",
      "2\n",
      "3\n"
     ]
    }
   ],
   "source": [
    "for x in pos:\n",
    "    print(x)"
   ]
  },
  {
   "cell_type": "markdown",
   "metadata": {},
   "source": [
    "Às vezes, os critérios de filtragem não podem ser expressos facilmente em uma *List Comprehension* ou expressão geradora. Por exemplo, suponha que o processo de filtragem envolva tratamento de exceção ou algum outro detalhe complicado. Para isso, coloque o código de filtragem em sua própria função e use a função `filter()` integrada. Por exemplo:"
   ]
  },
  {
   "cell_type": "code",
   "execution_count": 140,
   "metadata": {},
   "outputs": [
    {
     "name": "stdout",
     "output_type": "stream",
     "text": [
      "['1', '2', '-3', '4', '5']\n"
     ]
    }
   ],
   "source": [
    "values = ['1', '2', '-3', '-', '4', 'N/A', '5']\n",
    "def is_int(val):\n",
    "    try:\n",
    "        x = int(val)\n",
    "        return True\n",
    "    except ValueError:\n",
    "        return False\n",
    "\n",
    "ivals = list(filter(is_int, values))\n",
    "print(ivals)"
   ]
  },
  {
   "cell_type": "markdown",
   "metadata": {},
   "source": [
    "`filter()` cria um iterador, portanto, se você quiser criar uma lista de resultados, certifique-se de usar também `list()` conforme mostrado.\n",
    "\n",
    "**Discussão**\n",
    "\n",
    "As *List Comprehension* e as expressões geradoras geralmente são as maneiras mais fáceis e diretas de filtrar dados simples. Eles também têm o poder adicional de transformar os dados ao mesmo tempo. Por exemplo:"
   ]
  },
  {
   "cell_type": "code",
   "execution_count": 141,
   "metadata": {},
   "outputs": [
    {
     "data": {
      "text/plain": "[1.0, 2.0, 3.1622776601683795, 1.4142135623730951, 1.7320508075688772]"
     },
     "execution_count": 141,
     "metadata": {},
     "output_type": "execute_result"
    }
   ],
   "source": [
    "mylist = [1, 4, -5, 10, -7, 2, 3, -1]\n",
    "import math\n",
    "\n",
    "[math.sqrt(n) for n in mylist if n > 0]"
   ]
  },
  {
   "cell_type": "markdown",
   "metadata": {},
   "source": [
    "Uma variação na filtragem envolve substituir os valores que não atendem aos critérios por um novo valor em vez de descartá-los. Por exemplo, talvez em vez de apenas encontrar valores positivos, você também queira recortar valores ruins para caber em um intervalo especificado. Isso geralmente é feito facilmente movendo o critério de filtro para uma expressão condicional como esta:"
   ]
  },
  {
   "cell_type": "code",
   "execution_count": 142,
   "metadata": {},
   "outputs": [
    {
     "data": {
      "text/plain": "[1, 4, 0, 10, 0, 2, 3, 0]"
     },
     "execution_count": 142,
     "metadata": {},
     "output_type": "execute_result"
    }
   ],
   "source": [
    "clip_neg = [n if n > 0 else 0 for n in mylist]\n",
    "clip_neg"
   ]
  },
  {
   "cell_type": "code",
   "execution_count": 143,
   "metadata": {},
   "outputs": [
    {
     "data": {
      "text/plain": "[0, 0, -5, 0, -7, 0, 0, -1]"
     },
     "execution_count": 143,
     "metadata": {},
     "output_type": "execute_result"
    }
   ],
   "source": [
    "clip_pos = [n if n < 0 else 0 for n in mylist]\n",
    "clip_pos"
   ]
  },
  {
   "cell_type": "markdown",
   "metadata": {},
   "source": [
    "Outra ferramenta de filtragem notável é `itertools.compress()`, que recebe um iterável e uma sequência seletora booleana como entrada. Como saída, ele fornece todos os itens no iterável onde o elemento correspondente no seletor é `True`. Isso pode ser útil se você estiver tentando aplicar os resultados da filtragem de uma sequência a outra sequência relacionada. Por exemplo, suponha que você tenha as duas colunas de dados a seguir:"
   ]
  },
  {
   "cell_type": "code",
   "execution_count": 144,
   "metadata": {},
   "outputs": [],
   "source": [
    "addresses = [ \n",
    "    '5412 N CLARK',\n",
    "    '5148 N CLARK',\n",
    "    '5800 E 58TH',\n",
    "    '2122 N CLARK',\n",
    "    '5645 N RAVENSWOOD',\n",
    "    '1060 W ADDISON',\n",
    "    '4801 N BROADWAY',\n",
    "    '1039 W GRANVILLE',\n",
    "]\n",
    "\n",
    "counts = [ 0, 3, 10, 4, 1, 7, 6, 1]"
   ]
  },
  {
   "cell_type": "markdown",
   "metadata": {},
   "source": [
    "Agora suponha que você queira fazer uma lista de todos os endereços em que o valor de contagem correspondente seja maior que 5. Veja como você pode fazer isso:"
   ]
  },
  {
   "cell_type": "code",
   "execution_count": 145,
   "metadata": {},
   "outputs": [
    {
     "data": {
      "text/plain": "[False, False, True, False, False, True, True, False]"
     },
     "execution_count": 145,
     "metadata": {},
     "output_type": "execute_result"
    }
   ],
   "source": [
    "from itertools import compress\n",
    "more5 = [n > 5 for n in counts]\n",
    "more5"
   ]
  },
  {
   "cell_type": "code",
   "execution_count": 146,
   "metadata": {},
   "outputs": [
    {
     "data": {
      "text/plain": "['5800 E 58TH', '1060 W ADDISON', '4801 N BROADWAY']"
     },
     "execution_count": 146,
     "metadata": {},
     "output_type": "execute_result"
    }
   ],
   "source": [
    "list(compress(addresses,more5))"
   ]
  },
  {
   "cell_type": "markdown",
   "metadata": {},
   "source": [
    "A chave aqui é primeiro criar uma sequência de booleanos que indique quais elementos satisfazem a condição desejada. A função `compress()` então seleciona os itens correspondentes aos valores `True`.\n",
    "\n",
    "Como `filter()`, `compress()` normalmente retorna um iterador. Assim, você precisa usar `list()` para transformar os resultados em uma lista, se desejar.\n",
    "\n",
    "## 1.17. Extraindo um subconjunto de um dicionário\n",
    "\n",
    "**Problema**\n",
    "\n",
    "Você deseja criar um dicionário que seja um subconjunto de outro dicionário.\n",
    "\n",
    "**Solução**\n",
    "\n",
    "Isso é facilmente realizado usando uma compreensão de dicionário. Por exemplo:"
   ]
  },
  {
   "cell_type": "code",
   "execution_count": 147,
   "metadata": {},
   "outputs": [
    {
     "data": {
      "text/plain": "{'AAPL': 612.78, 'IBM': 205.55, 'HPQ': 37.2}"
     },
     "execution_count": 147,
     "metadata": {},
     "output_type": "execute_result"
    }
   ],
   "source": [
    "prices = {\n",
    "    'ACME': 45.23,\n",
    "    'AAPL': 612.78,\n",
    "    'IBM': 205.55,\n",
    "    'HPQ': 37.20,\n",
    "    'FB': 10.75\n",
    "}\n",
    "\n",
    "# Faz um dicionário com todos os preços acima de 200\n",
    "p1 = { key:value for key, value in prices.items() if value > 200 }\n",
    "\n",
    "# Faz um dicionário de Ações de Empresas Tech\n",
    "tech_names = { 'AAPL', 'IBM', 'HPQ', 'MSFT' } \n",
    "p2 = { key:value for key,value in prices.items() if key in tech_names }\n",
    "p2"
   ]
  },
  {
   "cell_type": "markdown",
   "metadata": {},
   "source": [
    "**Discussão**\n",
    "\n",
    "Muito do que pode ser feito com uma *Dict Comprehension* também pode ser feito criando uma sequência de tuplas e passando-as para a função `dict()`. Por exemplo:"
   ]
  },
  {
   "cell_type": "code",
   "execution_count": 148,
   "metadata": {},
   "outputs": [
    {
     "data": {
      "text/plain": "{'AAPL': 612.78, 'IBM': 205.55}"
     },
     "execution_count": 148,
     "metadata": {},
     "output_type": "execute_result"
    }
   ],
   "source": [
    "p1 = dict((key, value) for key, value in prices.items() if value > 200)\n",
    "p1"
   ]
  },
  {
   "cell_type": "markdown",
   "metadata": {},
   "source": [
    "No entanto, a solução de *Dict Comprehension* é um pouco mais clara e realmente funciona um pouco mais rápido (mais de duas vezes mais rápido quando testado no dicionário de preços usado no exemplo). Às vezes, existem várias maneiras de realizar a mesma coisa. Por exemplo, o segundo exemplo poderia ser reescrito como:"
   ]
  },
  {
   "cell_type": "code",
   "execution_count": 149,
   "metadata": {},
   "outputs": [
    {
     "data": {
      "text/plain": "{'HPQ': 37.2, 'IBM': 205.55, 'AAPL': 612.78}"
     },
     "execution_count": 149,
     "metadata": {},
     "output_type": "execute_result"
    }
   ],
   "source": [
    "# Faz um dicionário de ações de empresas tech\n",
    "tech_names = {'AAPL', 'IBM', 'HPQ', 'MSFT'}\n",
    "p2 = { key:prices[key] for key in prices.keys() & tech_names}\n",
    "p2"
   ]
  },
  {
   "cell_type": "markdown",
   "metadata": {},
   "source": [
    "No entanto, um estudo de tempo revela que esta solução é quase 1,6 vezes mais lenta que a primeira solução. Se o desempenho importa, geralmente vale a pena gastar um pouco de tempo estudando-o. Consulte a Receita 14.13 para obter informações específicas sobre tempo e perfil.\n",
    "\n",
    "## 1.18. Mapeando Nomes para Elementos de Sequência\n",
    "\n",
    "**Problema**\n",
    "\n",
    "Você tem código que acessa elementos de lista ou tupla por posição, mas isso torna o código um pouco difícil de ler às vezes. Você também gostaria de ser menos dependente da posição na estrutura, acessando os elementos pelo nome.\n",
    "\n",
    "**Solução**\n",
    "\n",
    "`collections.namedtuple()` fornece esses benefícios, enquanto adiciona sobrecarga mínima sobre o uso de um objeto de tupla normal. `collections.namedtuple()` é na verdade um método de fábrica que retorna uma subclasse do tipo de tupla padrão do Python. Você o alimenta com um nome de tipo e os campos que ele deve ter, e ele retorna uma classe que você pode instanciar, passando valores para os campos que você definiu e assim por diante. Por exemplo:"
   ]
  },
  {
   "cell_type": "code",
   "execution_count": 150,
   "metadata": {},
   "outputs": [
    {
     "data": {
      "text/plain": "Subscriber(addr='jonesy@example.com', joined='2012-10-19')"
     },
     "execution_count": 150,
     "metadata": {},
     "output_type": "execute_result"
    }
   ],
   "source": [
    "from collections import namedtuple\n",
    "Subscriber = namedtuple('Subscriber', ['addr', 'joined'])\n",
    "sub = Subscriber('jonesy@example.com', '2012-10-19')\n",
    "sub"
   ]
  },
  {
   "cell_type": "code",
   "execution_count": 151,
   "metadata": {},
   "outputs": [
    {
     "data": {
      "text/plain": "'jonesy@example.com'"
     },
     "execution_count": 151,
     "metadata": {},
     "output_type": "execute_result"
    }
   ],
   "source": [
    "sub.addr"
   ]
  },
  {
   "cell_type": "code",
   "execution_count": 152,
   "metadata": {},
   "outputs": [
    {
     "data": {
      "text/plain": "'2012-10-19'"
     },
     "execution_count": 152,
     "metadata": {},
     "output_type": "execute_result"
    }
   ],
   "source": [
    "sub.joined"
   ]
  },
  {
   "cell_type": "markdown",
   "metadata": {},
   "source": [
    "Embora uma instância de uma tupla nomeada pareça uma instância de classe normal, ela é intercambiável com uma tupla e suporta todas as operações usuais de tupla, como indexação e descompactação. Por exemplo:"
   ]
  },
  {
   "cell_type": "code",
   "execution_count": 153,
   "metadata": {},
   "outputs": [
    {
     "data": {
      "text/plain": "2"
     },
     "execution_count": 153,
     "metadata": {},
     "output_type": "execute_result"
    }
   ],
   "source": [
    "len(sub)"
   ]
  },
  {
   "cell_type": "code",
   "execution_count": 154,
   "metadata": {},
   "outputs": [
    {
     "data": {
      "text/plain": "'jonesy@example.com'"
     },
     "execution_count": 154,
     "metadata": {},
     "output_type": "execute_result"
    }
   ],
   "source": [
    "addr, joined = sub\n",
    "addr"
   ]
  },
  {
   "cell_type": "code",
   "execution_count": 155,
   "metadata": {},
   "outputs": [
    {
     "data": {
      "text/plain": "'2012-10-19'"
     },
     "execution_count": 155,
     "metadata": {},
     "output_type": "execute_result"
    }
   ],
   "source": [
    "joined"
   ]
  },
  {
   "cell_type": "markdown",
   "metadata": {},
   "source": [
    "Um caso de uso importante para tuplas nomeadas é desacoplar seu código da posição dos elementos que ele manipula. Portanto, se você receber de volta uma grande lista de tuplas de uma chamada de banco de dados e manipulá-las acessando os elementos posicionais, seu código poderá quebrar se, digamos, você adicionar uma nova coluna à sua tabela. Não é assim se você primeiro converter as tuplas retornadas em tuplas nomeadas.\n",
    "Para ilustrar, aqui está algum código usando tuplas comuns:\n",
    "\n",
    "<code>\n",
    "def compute_cost(records):\n",
    "    total = 0.0\n",
    "    for rec in records:\n",
    "        total += rec[1] * rec[2]\n",
    "    return total</code>\n",
    "    \n",
    "Referências a elementos posicionais geralmente tornam o código um pouco menos expressivo e mais dependente da estrutura dos registros. Aqui está uma versão que usa um `namedtuple`:"
   ]
  },
  {
   "cell_type": "code",
   "execution_count": 156,
   "metadata": {},
   "outputs": [],
   "source": [
    "from collections import namedtuple\n",
    "\n",
    "Stock = namedtuple('Stock', ['name', 'shares', 'price'])\n",
    "\n",
    "def compute_cost(records):\n",
    "    total = 0.0\n",
    "    for rec in records:\n",
    "        s = Stock(*rec)\n",
    "        total += s.shares * s.price\n",
    "    return total"
   ]
  },
  {
   "cell_type": "markdown",
   "metadata": {},
   "source": [
    "Naturalmente, você pode evitar a conversão explícita para a tupla nomeada *Stock* se a sequência de registros no exemplo já contiver tais instâncias."
   ]
  },
  {
   "cell_type": "markdown",
   "metadata": {},
   "source": [
    "**Discussão**\n",
    "\n",
    "Um uso possível de um `namedtuple` é como um substituto para um dicionário, que requer mais espaço para armazenamento. Assim, se você estiver construindo grandes estruturas de dados envolvendo dicionários, o uso de um `namedtuple` será mais eficiente. No entanto, esteja ciente de que, diferentemente de um dicionário, uma tupla nomeada é imutável. Por exemplo:"
   ]
  },
  {
   "cell_type": "code",
   "execution_count": 157,
   "metadata": {},
   "outputs": [
    {
     "data": {
      "text/plain": "Stock(name='ACME', shares=100, price=123.45)"
     },
     "execution_count": 157,
     "metadata": {},
     "output_type": "execute_result"
    }
   ],
   "source": [
    "s = Stock('ACME', 100, 123.45)\n",
    "s"
   ]
  },
  {
   "cell_type": "markdown",
   "metadata": {},
   "source": [
    "<code>\n",
    "s.shares = 75\n",
    "Traceback (most recent call last):\n",
    "File \"<stdin>\", line 1, in <module>\n",
    "AttributeError: can't set attribute\n",
    "</code>"
   ]
  },
  {
   "cell_type": "markdown",
   "metadata": {},
   "source": [
    "Se você precisar alterar qualquer um dos atributos, isso pode ser feito usando o método `_replace()` de uma instância `namedtuple`, que cria uma `namedtuple` inteiramente nova com valores especificados substituídos. Por exemplo:"
   ]
  },
  {
   "cell_type": "code",
   "execution_count": 158,
   "metadata": {},
   "outputs": [
    {
     "data": {
      "text/plain": "Stock(name='ACME', shares=75, price=123.45)"
     },
     "execution_count": 158,
     "metadata": {},
     "output_type": "execute_result"
    }
   ],
   "source": [
    "s = s._replace(shares=75)\n",
    "s"
   ]
  },
  {
   "cell_type": "markdown",
   "metadata": {},
   "source": [
    "Um uso sutil do método `_replace()` é que ele pode ser uma maneira conveniente de preencher tuplas nomeadas que possuem campos opcionais ou ausentes. Para fazer isso, você cria uma tupla protótipo contendo os valores padrão e, em seguida, usa `_replace()` para criar novas instâncias com valores substituídos. Por exemplo:"
   ]
  },
  {
   "cell_type": "code",
   "execution_count": 159,
   "metadata": {},
   "outputs": [],
   "source": [
    "from collections import namedtuple\n",
    "Stock = namedtuple('Stock', ['name', 'shares', 'price', 'date', 'time'])\n",
    "\n",
    "# Criando uma instância prototipada\n",
    "stock_prototype = Stock('', 0, 0.0, None, None)\n",
    "\n",
    "# Função para converter um dicionário para a Stock\n",
    "def dict_to_stock(s):\n",
    "    return stock_prototype._replace(**s)"
   ]
  },
  {
   "cell_type": "markdown",
   "metadata": {},
   "source": [
    "Aqui está um exemplo de como esse código funcionaria:"
   ]
  },
  {
   "cell_type": "code",
   "execution_count": 160,
   "metadata": {},
   "outputs": [
    {
     "data": {
      "text/plain": "Stock(name='ACME', shares=100, price=123.45, date=None, time=None)"
     },
     "execution_count": 160,
     "metadata": {},
     "output_type": "execute_result"
    }
   ],
   "source": [
    "a = {'name': 'ACME', 'shares': 100, 'price': 123.45}\n",
    "dict_to_stock(a)"
   ]
  },
  {
   "cell_type": "code",
   "execution_count": 161,
   "metadata": {},
   "outputs": [
    {
     "data": {
      "text/plain": "Stock(name='ACME', shares=100, price=123.45, date='12/17/2012', time=None)"
     },
     "execution_count": 161,
     "metadata": {},
     "output_type": "execute_result"
    }
   ],
   "source": [
    "b = {'name': 'ACME', 'shares': 100, 'price': 123.45, 'date': '12/17/2012'}\n",
    "dict_to_stock(b)"
   ]
  },
  {
   "cell_type": "markdown",
   "metadata": {},
   "source": [
    "Por último, mas não menos importante, deve-se notar que, se seu objetivo é definir uma estrutura de dados eficiente onde você estará alterando vários atributos de instância, usar `namedtuple` não é sua melhor escolha. Em vez disso, considere definir uma classe usando `__slots__` (consulte a Receita 8.4).\n",
    "\n",
    "## 1.19. Transformando e reduzindo dados ao mesmo tempo\n",
    "\n",
    "**Problema**\n",
    "\n",
    "Você precisa executar uma função de redução (por exemplo, `sum()`, `min()`, `max()`), mas primeiro precisa transformar ou filtrar os dados.\n",
    "\n",
    "**Solução**\n",
    "\n",
    "Uma maneira muito elegante de combinar uma redução de dados e uma transformação é usar um argumento gerador de expressão. Por exemplo, se você quiser calcular a soma dos quadrados, faça o seguinte:"
   ]
  },
  {
   "cell_type": "code",
   "execution_count": 162,
   "outputs": [
    {
     "data": {
      "text/plain": "55"
     },
     "execution_count": 162,
     "metadata": {},
     "output_type": "execute_result"
    }
   ],
   "source": [
    "nums = [1, 2, 3, 4, 5]\n",
    "s = sum(x * x for x in nums)\n",
    "s"
   ],
   "metadata": {
    "collapsed": false
   }
  },
  {
   "cell_type": "markdown",
   "source": [
    "Aqui estão alguns outros exemplos:"
   ],
   "metadata": {
    "collapsed": false
   }
  },
  {
   "cell_type": "code",
   "execution_count": 163,
   "outputs": [
    {
     "name": "stdout",
     "output_type": "stream",
     "text": [
      "Sorry, no python.\n",
      "ACME,50,123.45\n",
      "20\n"
     ]
    }
   ],
   "source": [
    "# Determina se qualquer arquivo <.py> existe em um diretório\n",
    "\n",
    "import os\n",
    "files = os.listdir(r'..\\Python_Cookbook_Recipes_3rd')\n",
    "if any(name.endswith('.py') for name in files):\n",
    "    print('There be python!')\n",
    "else:\n",
    "\tprint('Sorry, no python.')\n",
    "\n",
    "# Saída é uma tupla como CSV\n",
    "s = ('ACME', 50, 123.45)\n",
    "print(','.join(str(x) for x in s))\n",
    "\n",
    "# Redução de dados através dos campos de uma Estrutura de Dados.\n",
    "portfolio = [\n",
    "\t{'name':'GOOG', 'shares': 50},\n",
    "\t{'name':'YHOO', 'shares': 75},\n",
    "\t{'name':'AOL', 'shares': 20},\n",
    "\t{'name':'SCOX', 'shares': 65}\n",
    "]\n",
    "\n",
    "min_shares = min(s['shares'] for s in portfolio)\n",
    "print(min_shares)"
   ],
   "metadata": {
    "collapsed": false
   }
  },
  {
   "cell_type": "markdown",
   "source": [
    "**Discussão**\n",
    "A solução mostra um aspecto sintático sutil das expressões geradoras quando fornecidas como argumento único para uma função (ou seja, você não precisa de parênteses repetidos). Por exemplo, essas declarações são as mesmas:"
   ],
   "metadata": {
    "collapsed": false
   }
  },
  {
   "cell_type": "code",
   "execution_count": 164,
   "outputs": [],
   "source": [
    "s = sum((x * x for x in nums)) # Passa uma expressão geradora como argumento\n",
    "s = sum(x * x for x in nums) # Mais elegante."
   ],
   "metadata": {
    "collapsed": false
   }
  },
  {
   "cell_type": "markdown",
   "source": [
    "Usar um argumento gerador geralmente é uma abordagem mais eficiente e elegante do que criar primeiro uma lista temporária. Por exemplo, se você não usou uma expressão geradora, considere esta implementação alternativa:"
   ],
   "metadata": {
    "collapsed": false
   }
  },
  {
   "cell_type": "code",
   "execution_count": 165,
   "outputs": [
    {
     "data": {
      "text/plain": "55"
     },
     "execution_count": 165,
     "metadata": {},
     "output_type": "execute_result"
    }
   ],
   "source": [
    "nums = [1, 2, 3, 4, 5]\n",
    "s = sum([x * x for x in nums])\n",
    "s"
   ],
   "metadata": {
    "collapsed": false
   }
  },
  {
   "cell_type": "markdown",
   "source": [
    "Isso funciona, mas introduz uma etapa extra e cria uma lista extra. Para uma lista tão pequena, pode não importar, mas se `nums` fosse enorme, você acabaria criando uma grande estrutura de dados temporária para ser usada apenas uma vez e descartada. A solução do gerador transforma os dados de forma iterativa e, portanto, é muito mais eficiente em termos de memória.\n",
    "\n",
    "Certas funções de redução, como `min()` e `max()`, aceitam um argumento de chave que pode ser útil em situações em que você pode estar inclinado a usar um gerador. Por exemplo, no exemplo do portfólio, você pode considerar esta alternativa:"
   ],
   "metadata": {
    "collapsed": false
   }
  },
  {
   "cell_type": "code",
   "execution_count": 166,
   "outputs": [
    {
     "name": "stdout",
     "output_type": "stream",
     "text": [
      "Original: 20\n",
      "\n",
      "Alternativa: {'name': 'AOL', 'shares': 20}\n"
     ]
    }
   ],
   "source": [
    "# Original: retorna 20\n",
    "min_shares = min(s['shares'] for s in portfolio)\n",
    "print(f\"Original: {min_shares}\")\n",
    "# Alternativa: retorna {'name': 'AOL', 'shares': 20}\n",
    "min_shares = min(portfolio, key=lambda s: s['shares'])\n",
    "print(f\"\\nAlternativa: {min_shares}\")"
   ],
   "metadata": {
    "collapsed": false
   }
  },
  {
   "cell_type": "markdown",
   "source": [
    "## 1.20. Combinando vários mapeamentos em um único mapeamento\n",
    "\n",
    "**Problema**\n",
    "\n",
    "Você tem vários dicionários ou mapeamentos que deseja combinar logicamente em um único mapeamento para executar determinadas operações, como pesquisar valores ou verificar a existência de chaves.\n",
    "\n",
    "**Solução**\n",
    "\n",
    "Suponha que você tenha dois dicionários:"
   ],
   "metadata": {
    "collapsed": false
   }
  },
  {
   "cell_type": "code",
   "execution_count": 167,
   "outputs": [],
   "source": [
    "a = {'x': 1, 'z': 3 }\n",
    "b = {'y': 2, 'z': 4 }\n"
   ],
   "metadata": {
    "collapsed": false
   }
  },
  {
   "cell_type": "markdown",
   "source": [
    "Agora suponha que você queira realizar pesquisas onde você tenha que verificar ambos os dicionários (por exemplo, primeiro verificando em a e depois em b se não for encontrado). Uma maneira fácil de fazer isso é usar a classe `ChainMap` do módulo `collections`. Por exemplo:"
   ],
   "metadata": {
    "collapsed": false
   }
  },
  {
   "cell_type": "code",
   "execution_count": 168,
   "outputs": [
    {
     "name": "stdout",
     "output_type": "stream",
     "text": [
      "1\n",
      "2\n",
      "3\n"
     ]
    }
   ],
   "source": [
    "from collections import ChainMap\n",
    "c = ChainMap(a,b)\n",
    "print(c['x']) # Outputs 1 (from a)\n",
    "print(c['y']) # Outputs 2 (from b)\n",
    "print(c['z']) # Outputs 3 (from a)"
   ],
   "metadata": {
    "collapsed": false
   }
  },
  {
   "cell_type": "markdown",
   "source": [
    "**Discussão**\n",
    "\n",
    "Um `ChainMap` pega vários mapeamentos e os faz aparecer logicamente como um. No entanto, os mapeamentos **não são literalmente mesclados**. Em vez disso, um `ChainMap` simplesmente mantém uma lista dos mapeamentos subjacentes e redefine as operações comuns do dicionário para varrer a lista. A maioria das operações funcionará. Por exemplo:"
   ],
   "metadata": {
    "collapsed": false
   }
  },
  {
   "cell_type": "code",
   "execution_count": 169,
   "outputs": [
    {
     "data": {
      "text/plain": "3"
     },
     "execution_count": 169,
     "metadata": {},
     "output_type": "execute_result"
    }
   ],
   "source": [
    "len(c)"
   ],
   "metadata": {
    "collapsed": false
   }
  },
  {
   "cell_type": "code",
   "execution_count": 170,
   "outputs": [
    {
     "data": {
      "text/plain": "['y', 'z', 'x']"
     },
     "execution_count": 170,
     "metadata": {},
     "output_type": "execute_result"
    }
   ],
   "source": [
    "list(c.keys())"
   ],
   "metadata": {
    "collapsed": false
   }
  },
  {
   "cell_type": "code",
   "execution_count": 171,
   "outputs": [
    {
     "data": {
      "text/plain": "[2, 3, 1]"
     },
     "execution_count": 171,
     "metadata": {},
     "output_type": "execute_result"
    }
   ],
   "source": [
    "list(c.values())"
   ],
   "metadata": {
    "collapsed": false
   }
  },
  {
   "cell_type": "markdown",
   "source": [
    "Se houver chaves duplicadas, os valores do primeiro mapeamento serão usados. Assim, a entrada `c['z']` no exemplo sempre se referiria ao valor no dicionário `a`, não ao valor no dicionário `b`.\n",
    "\n",
    "As operações que alteram o mapeamento sempre afetam o primeiro mapeamento listado. Por exemplo:"
   ],
   "metadata": {
    "collapsed": false
   }
  },
  {
   "cell_type": "code",
   "execution_count": 172,
   "outputs": [],
   "source": [
    "c['z'] = 10\n",
    "c['w'] = 40\n",
    "del c['x']"
   ],
   "metadata": {
    "collapsed": false
   }
  },
  {
   "cell_type": "code",
   "execution_count": 173,
   "outputs": [
    {
     "data": {
      "text/plain": "{'z': 10, 'w': 40}"
     },
     "execution_count": 173,
     "metadata": {},
     "output_type": "execute_result"
    }
   ],
   "source": [
    "a"
   ],
   "metadata": {
    "collapsed": false
   }
  },
  {
   "cell_type": "code",
   "execution_count": null,
   "outputs": [],
   "source": [
    "del c['y']\n",
    "# KeyError: \"Key not found in the first mapping: 'y'\""
   ],
   "metadata": {
    "collapsed": false,
    "pycharm": {
     "is_executing": true
    }
   }
  },
  {
   "cell_type": "markdown",
   "source": [
    "Um `ChainMap` é particularmente útil ao trabalhar com valores com escopo, como variáveis em uma linguagem de programação (ou seja, globais, locais, etc.). Na verdade, existem métodos que facilitam isso:"
   ],
   "metadata": {
    "collapsed": false
   }
  },
  {
   "cell_type": "code",
   "execution_count": 175,
   "outputs": [
    {
     "data": {
      "text/plain": "ChainMap({'x': 3}, {'x': 2}, {'x': 1})"
     },
     "execution_count": 175,
     "metadata": {},
     "output_type": "execute_result"
    }
   ],
   "source": [
    "values = ChainMap()\n",
    "values['x'] = 1\n",
    "\n",
    "# Adicionando um novo mapeamento\n",
    "\n",
    "values = values.new_child()\n",
    "values['x'] = 2\n",
    "\n",
    "values = values.new_child()\n",
    "values['x'] = 3\n",
    "values"
   ],
   "metadata": {
    "collapsed": false
   }
  },
  {
   "cell_type": "code",
   "execution_count": 176,
   "outputs": [
    {
     "data": {
      "text/plain": "3"
     },
     "execution_count": 176,
     "metadata": {},
     "output_type": "execute_result"
    }
   ],
   "source": [
    "values['x']"
   ],
   "metadata": {
    "collapsed": false
   }
  },
  {
   "cell_type": "code",
   "execution_count": 177,
   "outputs": [
    {
     "data": {
      "text/plain": "2"
     },
     "execution_count": 177,
     "metadata": {},
     "output_type": "execute_result"
    }
   ],
   "source": [
    "# Descartando o último mapeamento\n",
    "values =values.parents\n",
    "values['x']"
   ],
   "metadata": {
    "collapsed": false
   }
  },
  {
   "cell_type": "code",
   "execution_count": 178,
   "outputs": [
    {
     "data": {
      "text/plain": "1"
     },
     "execution_count": 178,
     "metadata": {},
     "output_type": "execute_result"
    }
   ],
   "source": [
    "# Descartando o último mapeamento\n",
    "values =values.parents\n",
    "values['x']"
   ],
   "metadata": {
    "collapsed": false
   }
  },
  {
   "cell_type": "code",
   "execution_count": 179,
   "outputs": [
    {
     "data": {
      "text/plain": "ChainMap({'x': 1})"
     },
     "execution_count": 179,
     "metadata": {},
     "output_type": "execute_result"
    }
   ],
   "source": [
    "values"
   ],
   "metadata": {
    "collapsed": false
   }
  },
  {
   "cell_type": "markdown",
   "source": [
    "Como alternativa ao `ChainMap`, você pode considerar mesclar dicionários usando o método `update()`. Por exemplo:"
   ],
   "metadata": {
    "collapsed": false
   }
  },
  {
   "cell_type": "code",
   "execution_count": 180,
   "outputs": [
    {
     "data": {
      "text/plain": "{'y': 2, 'z': 4}"
     },
     "execution_count": 180,
     "metadata": {},
     "output_type": "execute_result"
    }
   ],
   "source": [
    "a = {'x': 1, 'z': 3 }\n",
    "b = {'y': 2, 'z': 4 }\n",
    "\n",
    "merged = dict(b)\n",
    "merged"
   ],
   "metadata": {
    "collapsed": false
   }
  },
  {
   "cell_type": "code",
   "execution_count": 181,
   "outputs": [],
   "source": [
    "merged.update(a)"
   ],
   "metadata": {
    "collapsed": false
   }
  },
  {
   "cell_type": "code",
   "execution_count": 182,
   "outputs": [
    {
     "data": {
      "text/plain": "1"
     },
     "execution_count": 182,
     "metadata": {},
     "output_type": "execute_result"
    }
   ],
   "source": [
    "merged['x']"
   ],
   "metadata": {
    "collapsed": false
   }
  },
  {
   "cell_type": "code",
   "execution_count": 184,
   "outputs": [
    {
     "data": {
      "text/plain": "2"
     },
     "execution_count": 184,
     "metadata": {},
     "output_type": "execute_result"
    }
   ],
   "source": [
    "merged['y']"
   ],
   "metadata": {
    "collapsed": false
   }
  },
  {
   "cell_type": "code",
   "execution_count": 183,
   "outputs": [
    {
     "data": {
      "text/plain": "3"
     },
     "execution_count": 183,
     "metadata": {},
     "output_type": "execute_result"
    }
   ],
   "source": [
    "merged['z']"
   ],
   "metadata": {
    "collapsed": false
   }
  },
  {
   "cell_type": "markdown",
   "source": [
    "Isso funciona, mas requer que você crie um objeto de dicionário completamente separado (ou altere destrutivamente um dos dicionários existentes). Além disso, se algum dos dicionários originais sofrer mutação, as alterações não serão refletidas no dicionário mesclado. Por exemplo:"
   ],
   "metadata": {
    "collapsed": false
   }
  },
  {
   "cell_type": "code",
   "execution_count": 185,
   "outputs": [
    {
     "data": {
      "text/plain": "1"
     },
     "execution_count": 185,
     "metadata": {},
     "output_type": "execute_result"
    }
   ],
   "source": [
    "a['x'] = 13\n",
    "merged['x']"
   ],
   "metadata": {
    "collapsed": false
   }
  },
  {
   "cell_type": "markdown",
   "source": [
    "Um `ChainMap` usa os dicionários originais, então não tem esse comportamento. Por exemplo:"
   ],
   "metadata": {
    "collapsed": false
   }
  },
  {
   "cell_type": "code",
   "execution_count": 187,
   "outputs": [
    {
     "data": {
      "text/plain": "ChainMap({'x': 1, 'z': 3}, {'y': 2, 'z': 4})"
     },
     "execution_count": 187,
     "metadata": {},
     "output_type": "execute_result"
    }
   ],
   "source": [
    "a = {'x': 1, 'z': 3 }\n",
    "b = {'y': 2, 'z': 4 }\n",
    "merged = ChainMap(a, b)\n",
    "merged"
   ],
   "metadata": {
    "collapsed": false
   }
  },
  {
   "cell_type": "code",
   "execution_count": 188,
   "outputs": [
    {
     "data": {
      "text/plain": "1"
     },
     "execution_count": 188,
     "metadata": {},
     "output_type": "execute_result"
    }
   ],
   "source": [
    "merged['x']"
   ],
   "metadata": {
    "collapsed": false
   }
  },
  {
   "cell_type": "code",
   "execution_count": 192,
   "outputs": [
    {
     "data": {
      "text/plain": "42"
     },
     "execution_count": 192,
     "metadata": {},
     "output_type": "execute_result"
    }
   ],
   "source": [
    "a['x'] = 42\n",
    "merged['x'] # Note que ele mudou o dicionário no <merged>"
   ],
   "metadata": {
    "collapsed": false
   }
  }
 ],
 "metadata": {
  "kernelspec": {
   "display_name": "Python 3",
   "language": "python",
   "name": "python3"
  },
  "language_info": {
   "codemirror_mode": {
    "name": "ipython",
    "version": 3
   },
   "file_extension": ".py",
   "mimetype": "text/x-python",
   "name": "python",
   "nbconvert_exporter": "python",
   "pygments_lexer": "ipython3",
   "version": "3.8.5"
  }
 },
 "nbformat": 4,
 "nbformat_minor": 1
}
