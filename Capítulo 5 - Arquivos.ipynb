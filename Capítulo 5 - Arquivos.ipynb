{
 "cells": [
  {
   "cell_type": "markdown",
   "metadata": {},
   "source": [
    "<h1 align=center>Capítulo 5</h1>\n",
    "<h2 align=center>Arquivos e I/O</h2>\n",
    "<p align= center><img src=https://t.ctcdn.com.br/RhgceU3jDPpm_52ctxpo1RRZ3AQ=/0x36:799x486/512x288/smart/filters:format(webp)/i333320.jpeg width=500</p>"
   ]
  },
  {
   "cell_type": "markdown",
   "metadata": {},
   "source": [
    "Todos os programas precisam executar entrada e saída. Este capítulo abrange idiomas comuns para trabalhar com diferentes tipos de arquivos, incluindo arquivos de texto e binários, codificações de arquivos e outros assuntos relacionados. Técnicas para manipular nomes de arquivos e diretórios também são cobertas.\n",
    "\n",
    "## 5.1. Lendo e escrevendo dados de texto\n",
    "\n",
    "**Problema**\n",
    "\n",
    "Você precisa ler ou gravar dados de texto, possivelmente em diferentes codificações de texto, como ASCII, UTF-8 ou UTF-16.\n",
    "\n",
    "**Solução**\n",
    "\n",
    "Use a função `open()` com o modo **rt** para ler um arquivo de texto. Por exemplo:"
   ]
  },
  {
   "cell_type": "code",
   "execution_count": 2,
   "metadata": {},
   "outputs": [
    {
     "name": "stdout",
     "output_type": "stream",
     "text": [
      "As sem-razões do amor\n",
      "\n",
      "Eu te amo porque te amo,\n",
      "Não precisas ser amante,\n",
      "e nem sempre sabes sê-lo.\n",
      "Eu te amo porque te amo.\n",
      "Amor é estado de graça\n",
      "e com amor não se paga.\n",
      "\n",
      "Amor é dado de graça,\n",
      "é semeado no vento,\n",
      "na cachoeira, no eclipse.\n",
      "Amor foge a dicionários\n",
      "e a regulamentos vários.\n",
      "\n",
      "Eu te amo porque não amo\n",
      "bastante ou demais a mim.\n",
      "Porque amor não se troca,\n",
      "não se conjuga nem se ama.\n",
      "Porque amor é amor a nada,\n",
      "feliz e forte em si mesmo.\n",
      "\n",
      "Amor é primo da morte,\n",
      "e da morte vencedor,\n",
      "por mais que o matem (e matam)\n",
      "a cada instante de amor.\n"
     ]
    }
   ],
   "source": [
    "# Read the entire file as a single string\n",
    "with open('somefile.txt', 'rt', encoding='utf8') as f:\n",
    "    data = f.read()\n",
    "    print(data)"
   ]
  },
  {
   "cell_type": "code",
   "execution_count": 5,
   "metadata": {},
   "outputs": [
    {
     "name": "stdout",
     "output_type": "stream",
     "text": [
      "As sem-razões do amor\n",
      "\n",
      "\n",
      "\n",
      "Eu te amo porque te amo,\n",
      "\n",
      "Não precisas ser amante,\n",
      "\n",
      "e nem sempre sabes sê-lo.\n",
      "\n",
      "Eu te amo porque te amo.\n",
      "\n",
      "Amor é estado de graça\n",
      "\n",
      "e com amor não se paga.\n",
      "\n",
      "\n",
      "\n",
      "Amor é dado de graça,\n",
      "\n",
      "é semeado no vento,\n",
      "\n",
      "na cachoeira, no eclipse.\n",
      "\n",
      "Amor foge a dicionários\n",
      "\n",
      "e a regulamentos vários.\n",
      "\n",
      "\n",
      "\n",
      "Eu te amo porque não amo\n",
      "\n",
      "bastante ou demais a mim.\n",
      "\n",
      "Porque amor não se troca,\n",
      "\n",
      "não se conjuga nem se ama.\n",
      "\n",
      "Porque amor é amor a nada,\n",
      "\n",
      "feliz e forte em si mesmo.\n",
      "\n",
      "\n",
      "\n",
      "Amor é primo da morte,\n",
      "\n",
      "e da morte vencedor,\n",
      "\n",
      "por mais que o matem (e matam)\n",
      "\n",
      "a cada instante de amor.\n"
     ]
    }
   ],
   "source": [
    "# Iterate over the lines of the file\n",
    "with open('somefile.txt', 'rt', encoding='utf8') as f:\n",
    "    for line in f:\n",
    "        # process line\n",
    "        print(line)\n"
   ]
  },
  {
   "cell_type": "markdown",
   "metadata": {},
   "source": [
    "Da mesma forma, para escrever um arquivo de texto, use `open()` com o modo **wt** para escrever um arquivo, limpando e sobrescrevendo o conteúdo anterior (se houver). Por exemplo:"
   ]
  },
  {
   "cell_type": "code",
   "execution_count": 7,
   "metadata": {},
   "outputs": [],
   "source": [
    "# Write chunks of text data\n",
    "text1 = 'Esse é um texto para teste.'\n",
    "text2 = 'Esse é um outro texto para teste'\n",
    "with open('otherfile.txt', 'wt') as f:\n",
    "    f.write(text1)\n",
    "    f.write(text2)"
   ]
  },
  {
   "cell_type": "markdown",
   "metadata": {},
   "source": [
    "~~~python\n",
    "# Redirected print statement\n",
    "with open('otherfile.txt', 'wt') as f:\n",
    "    print(line1, file=f)\n",
    "    print(line2, file=f)\n",
    "    ...\n",
    "~~~\n",
    "\n",
    "Para anexar ao final de um arquivo existente, use `open()` com mode **at**. Por padrão, os arquivos são lidos/gravados usando a codificação de texto padrão do sistema, como pode ser encontrado em `sys.getdefaultencoding()`. Na maioria das máquinas, isso é definido como utf-8. Se você sabe que o texto que está lendo ou escrevendo está em uma codificação diferente, forneça o parâmetro de codificação opcional para `open()`. Por exemplo:\n",
    "\n",
    "~~~python\n",
    "with open('somefile.txt', 'rt', encoding='latin-1') as f:\n",
    "    ...\n",
    "~~~"
   ]
  },
  {
   "cell_type": "code",
   "execution_count": 9,
   "metadata": {},
   "outputs": [
    {
     "data": {
      "text/plain": [
       "'utf-8'"
      ]
     },
     "execution_count": 9,
     "metadata": {},
     "output_type": "execute_result"
    }
   ],
   "source": [
    "import sys\n",
    "sys.getdefaultencoding()"
   ]
  },
  {
   "cell_type": "markdown",
   "metadata": {},
   "source": [
    "Python entende várias centenas de codificações de texto possíveis. No entanto, algumas das codificações mais comuns são **ascii, latin-1, utf-8 e utf-16**. O **UTF-8** geralmente é uma aposta segura se estiver trabalhando com aplicativos da web. **ascii** corresponde aos caracteres de 7 bits no intervalo U+0000 a U+007F. **latin-1** é um mapeamento direto de bytes 0-255 para caracteres Unicode U+0000 para U+00FF. A codificação **latin-1** é notável por nunca produzir um erro de decodificação ao ler o texto de uma codificação possivelmente desconhecida. Ler um arquivo como **latin-1** pode não produzir uma decodificação de texto completamente correta, mas ainda pode ser suficiente para extrair dados úteis dele. Além disso, se você gravar os dados posteriormente, os dados de entrada originais serão preservados.\n",
    "\n",
    "**Discussão**\n",
    "\n",
    "Ler e escrever arquivos de texto normalmente é muito simples. No entanto, há uma série de aspectos sutis para manter em mente. Primeiro, o uso da instrução `with` nos exemplos estabelece um contexto no qual o arquivo será usado. Quando o controle sai do bloco com, o arquivo será fechado automaticamente. Você não precisa usar a instrução `with`, mas se não usá-la, lembre-se de fechar o arquivo:"
   ]
  },
  {
   "cell_type": "code",
   "execution_count": 10,
   "metadata": {},
   "outputs": [],
   "source": [
    "f = open('somefile.txt', 'rt')\n",
    "data = f.read()\n",
    "f.close()"
   ]
  },
  {
   "cell_type": "markdown",
   "metadata": {},
   "source": [
    "Outra complicação menor diz respeito ao reconhecimento de novas linhas, que são diferentes no Unix e no Windows (ou seja, **\\n** versus **\\r\\n**). Por padrão, o Python opera no que é conhecido como modo “nova linha universal”. Nesse modo, todas as convenções comuns de nova linha são reconhecidas e os caracteres de nova linha são convertidos em um único caractere **\\n** durante a leitura.\n",
    "\n",
    "Da mesma forma, o caractere de nova linha **\\n** é convertido no caractere de nova linha padrão do sistema na saída. Se você não quiser essa tradução, forneça o argumento `newline=''` para `open()`, assim:\n",
    "~~~python\n",
    "# Read with disabled newline translation\n",
    "with open('somefile.txt', 'rt', newline='') as f:\n",
    "    ...\n",
    "~~~\n",
    "\n",
    "Para ilustrar a diferença, aqui está o que você verá em uma máquina Unix se ler o conteúdo de um arquivo de texto codificado pelo Windows contendo os dados brutos `hello world!\\r\\n`:"
   ]
  },
  {
   "cell_type": "code",
   "execution_count": 17,
   "metadata": {},
   "outputs": [
    {
     "data": {
      "text/plain": [
       "'Olá Mundo!!\\n'"
      ]
     },
     "execution_count": 17,
     "metadata": {},
     "output_type": "execute_result"
    }
   ],
   "source": [
    "# Newline translation enabled (the default)\n",
    "f = open('hello.txt', 'rt', encoding='utf8')\n",
    "f.read()"
   ]
  },
  {
   "cell_type": "code",
   "execution_count": 18,
   "metadata": {},
   "outputs": [
    {
     "data": {
      "text/plain": [
       "'Olá Mundo!!\\r\\n'"
      ]
     },
     "execution_count": 18,
     "metadata": {},
     "output_type": "execute_result"
    }
   ],
   "source": [
    "# Newline translation disabled\n",
    "g = open('hello.txt', 'rt', newline='', encoding='utf8')\n",
    "g.read()"
   ]
  },
  {
   "cell_type": "markdown",
   "metadata": {},
   "source": [
    "Uma questão final diz respeito a possíveis erros de codificação em arquivos de texto. Ao ler ou gravar um arquivo de texto, você pode encontrar um erro de codificação ou decodificação. Por exemplo:\n",
    "~~~python\n",
    "f = open('sample.txt', 'rt', encoding='ascii')\n",
    "f.read()\n",
    "Traceback (most recent call last):\n",
    "    File \"<stdin>\", line 1, in <module>\n",
    "    File \"/usr/local/lib/python3.3/encodings/ascii.py\", line 26, in decode\n",
    "        return codecs.ascii_decode(input, self.errors)[0]\n",
    " UnicodeDecodeError: 'ascii' codec can't decode byte 0xc3 in position\n",
    "12: ordinal not in range(128)\n",
    ">>>\n",
    "~~~\n",
    "\n",
    "Se você receber esse erro, geralmente significa que você não está lendo o arquivo na codificação correta. Você deve ler cuidadosamente a especificação do que quer que esteja lendo e verificar se está fazendo certo (por exemplo, lendo dados como UTF-8 em vez de Latin-1 ou o que for necessário). Se erros de codificação ainda são uma possibilidade, você pode fornecer um argumento opcional errors para open() para lidar com os erros. Aqui estão alguns exemplos de esquemas comuns de tratamento de erros:"
   ]
  },
  {
   "cell_type": "code",
   "execution_count": 20,
   "metadata": {},
   "outputs": [
    {
     "data": {
      "text/plain": [
       "'Spicy Jalape��o'"
      ]
     },
     "execution_count": 20,
     "metadata": {},
     "output_type": "execute_result"
    }
   ],
   "source": [
    ">>> # Replace bad chars with Unicode U+fffd replacement char\n",
    ">>> f = open('sample.txt', 'rt', encoding='ascii', errors='replace')\n",
    ">>> f.read()"
   ]
  },
  {
   "cell_type": "code",
   "execution_count": 21,
   "metadata": {},
   "outputs": [
    {
     "data": {
      "text/plain": [
       "'Spicy Jalapeo'"
      ]
     },
     "execution_count": 21,
     "metadata": {},
     "output_type": "execute_result"
    }
   ],
   "source": [
    ">>> # Ignore bad chars entirely\n",
    ">>> g = open('sample.txt', 'rt', encoding='ascii', errors='ignore')\n",
    ">>> g.read()"
   ]
  },
  {
   "cell_type": "markdown",
   "metadata": {},
   "source": [
    "Se você está constantemente mexendo nos argumentos de codificação e erros para `open()` e fazendo muitos hacks, provavelmente está tornando a vida mais difícil do que precisa. A regra número um com o texto é que você simplesmente precisa ter certeza de que está sempre usando a codificação de texto adequada. Em caso de dúvida, use a configuração padrão (normalmente UTF-8)."
   ]
  },
  {
   "cell_type": "code",
   "execution_count": null,
   "metadata": {},
   "outputs": [],
   "source": []
  }
 ],
 "metadata": {
  "kernelspec": {
   "display_name": "Python 3",
   "language": "python",
   "name": "python3"
  },
  "language_info": {
   "codemirror_mode": {
    "name": "ipython",
    "version": 3
   },
   "file_extension": ".py",
   "mimetype": "text/x-python",
   "name": "python",
   "nbconvert_exporter": "python",
   "pygments_lexer": "ipython3",
   "version": "3.8.5"
  }
 },
 "nbformat": 4,
 "nbformat_minor": 4
}
