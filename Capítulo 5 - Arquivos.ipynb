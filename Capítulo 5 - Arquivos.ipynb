{
 "cells": [
  {
   "cell_type": "markdown",
   "metadata": {},
   "source": [
    "<h1 align=center>Capítulo 5</h1>\n",
    "<h2 align=center>Arquivos e I/O</h2>\n",
    "<p align= center><img src=https://t.ctcdn.com.br/RhgceU3jDPpm_52ctxpo1RRZ3AQ=/0x36:799x486/512x288/smart/filters:format(webp)/i333320.jpeg width=500</p>"
   ]
  },
  {
   "cell_type": "markdown",
   "metadata": {},
   "source": [
    "Todos os programas precisam executar entrada e saída. Este capítulo abrange idiomas comuns para trabalhar com diferentes tipos de arquivos, incluindo arquivos de texto e binários, codificações de arquivos e outros assuntos relacionados. Técnicas para manipular nomes de arquivos e diretórios também são cobertas.\n",
    "\n",
    "## 5.1. Lendo e escrevendo dados de texto\n",
    "\n",
    "**Problema**\n",
    "\n",
    "Você precisa ler ou gravar dados de texto, possivelmente em diferentes codificações de texto, como ASCII, UTF-8 ou UTF-16.\n",
    "\n",
    "**Solução**\n",
    "\n",
    "Use a função `open()` com o modo **rt** para ler um arquivo de texto. Por exemplo:"
   ]
  },
  {
   "cell_type": "code",
   "execution_count": 2,
   "metadata": {},
   "outputs": [
    {
     "name": "stdout",
     "output_type": "stream",
     "text": [
      "As sem-razões do amor\n",
      "\n",
      "Eu te amo porque te amo,\n",
      "Não precisas ser amante,\n",
      "e nem sempre sabes sê-lo.\n",
      "Eu te amo porque te amo.\n",
      "Amor é estado de graça\n",
      "e com amor não se paga.\n",
      "\n",
      "Amor é dado de graça,\n",
      "é semeado no vento,\n",
      "na cachoeira, no eclipse.\n",
      "Amor foge a dicionários\n",
      "e a regulamentos vários.\n",
      "\n",
      "Eu te amo porque não amo\n",
      "bastante ou demais a mim.\n",
      "Porque amor não se troca,\n",
      "não se conjuga nem se ama.\n",
      "Porque amor é amor a nada,\n",
      "feliz e forte em si mesmo.\n",
      "\n",
      "Amor é primo da morte,\n",
      "e da morte vencedor,\n",
      "por mais que o matem (e matam)\n",
      "a cada instante de amor.\n"
     ]
    }
   ],
   "source": [
    "# Read the entire file as a single string\n",
    "with open('somefile.txt', 'rt', encoding='utf8') as f:\n",
    "    data = f.read()\n",
    "    print(data)"
   ]
  },
  {
   "cell_type": "code",
   "execution_count": 5,
   "metadata": {},
   "outputs": [
    {
     "name": "stdout",
     "output_type": "stream",
     "text": [
      "As sem-razões do amor\n",
      "\n",
      "\n",
      "\n",
      "Eu te amo porque te amo,\n",
      "\n",
      "Não precisas ser amante,\n",
      "\n",
      "e nem sempre sabes sê-lo.\n",
      "\n",
      "Eu te amo porque te amo.\n",
      "\n",
      "Amor é estado de graça\n",
      "\n",
      "e com amor não se paga.\n",
      "\n",
      "\n",
      "\n",
      "Amor é dado de graça,\n",
      "\n",
      "é semeado no vento,\n",
      "\n",
      "na cachoeira, no eclipse.\n",
      "\n",
      "Amor foge a dicionários\n",
      "\n",
      "e a regulamentos vários.\n",
      "\n",
      "\n",
      "\n",
      "Eu te amo porque não amo\n",
      "\n",
      "bastante ou demais a mim.\n",
      "\n",
      "Porque amor não se troca,\n",
      "\n",
      "não se conjuga nem se ama.\n",
      "\n",
      "Porque amor é amor a nada,\n",
      "\n",
      "feliz e forte em si mesmo.\n",
      "\n",
      "\n",
      "\n",
      "Amor é primo da morte,\n",
      "\n",
      "e da morte vencedor,\n",
      "\n",
      "por mais que o matem (e matam)\n",
      "\n",
      "a cada instante de amor.\n"
     ]
    }
   ],
   "source": [
    "# Iterate over the lines of the file\n",
    "with open('somefile.txt', 'rt', encoding='utf8') as f:\n",
    "    for line in f:\n",
    "        # process line\n",
    "        print(line)\n"
   ]
  },
  {
   "cell_type": "markdown",
   "metadata": {},
   "source": [
    "Da mesma forma, para escrever um arquivo de texto, use `open()` com o modo **wt** para escrever um arquivo, limpando e sobrescrevendo o conteúdo anterior (se houver). Por exemplo:"
   ]
  },
  {
   "cell_type": "code",
   "execution_count": 7,
   "metadata": {},
   "outputs": [],
   "source": [
    "# Write chunks of text data\n",
    "text1 = 'Esse é um texto para teste.'\n",
    "text2 = 'Esse é um outro texto para teste'\n",
    "with open('otherfile.txt', 'wt') as f:\n",
    "    f.write(text1)\n",
    "    f.write(text2)"
   ]
  },
  {
   "cell_type": "markdown",
   "metadata": {},
   "source": [
    "~~~python\n",
    "# Redirected print statement\n",
    "with open('otherfile.txt', 'wt') as f:\n",
    "    print(line1, file=f)\n",
    "    print(line2, file=f)\n",
    "    ...\n",
    "~~~\n",
    "\n",
    "Para anexar ao final de um arquivo existente, use `open()` com mode **at**. Por padrão, os arquivos são lidos/gravados usando a codificação de texto padrão do sistema, como pode ser encontrado em `sys.getdefaultencoding()`. Na maioria das máquinas, isso é definido como utf-8. Se você sabe que o texto que está lendo ou escrevendo está em uma codificação diferente, forneça o parâmetro de codificação opcional para `open()`. Por exemplo:\n",
    "\n",
    "~~~python\n",
    "with open('somefile.txt', 'rt', encoding='latin-1') as f:\n",
    "    ...\n",
    "~~~"
   ]
  },
  {
   "cell_type": "code",
   "execution_count": 9,
   "metadata": {},
   "outputs": [
    {
     "data": {
      "text/plain": [
       "'utf-8'"
      ]
     },
     "execution_count": 9,
     "metadata": {},
     "output_type": "execute_result"
    }
   ],
   "source": [
    "import sys\n",
    "sys.getdefaultencoding()"
   ]
  },
  {
   "cell_type": "markdown",
   "metadata": {},
   "source": [
    "Python entende várias centenas de codificações de texto possíveis. No entanto, algumas das codificações mais comuns são **ascii, latin-1, utf-8 e utf-16**. O **UTF-8** geralmente é uma aposta segura se estiver trabalhando com aplicativos da web. **ascii** corresponde aos caracteres de 7 bits no intervalo U+0000 a U+007F. **latin-1** é um mapeamento direto de bytes 0-255 para caracteres Unicode U+0000 para U+00FF. A codificação **latin-1** é notável por nunca produzir um erro de decodificação ao ler o texto de uma codificação possivelmente desconhecida. Ler um arquivo como **latin-1** pode não produzir uma decodificação de texto completamente correta, mas ainda pode ser suficiente para extrair dados úteis dele. Além disso, se você gravar os dados posteriormente, os dados de entrada originais serão preservados.\n",
    "\n",
    "**Discussão**\n",
    "\n",
    "Ler e escrever arquivos de texto normalmente é muito simples. No entanto, há uma série de aspectos sutis para manter em mente. Primeiro, o uso da instrução `with` nos exemplos estabelece um contexto no qual o arquivo será usado. Quando o controle sai do bloco com, o arquivo será fechado automaticamente. Você não precisa usar a instrução `with`, mas se não usá-la, lembre-se de fechar o arquivo:"
   ]
  },
  {
   "cell_type": "code",
   "execution_count": 10,
   "metadata": {},
   "outputs": [],
   "source": [
    "f = open('somefile.txt', 'rt')\n",
    "data = f.read()\n",
    "f.close()"
   ]
  },
  {
   "cell_type": "markdown",
   "metadata": {},
   "source": [
    "Outra complicação menor diz respeito ao reconhecimento de novas linhas, que são diferentes no Unix e no Windows (ou seja, **\\n** versus **\\r\\n**). Por padrão, o Python opera no que é conhecido como modo “nova linha universal”. Nesse modo, todas as convenções comuns de nova linha são reconhecidas e os caracteres de nova linha são convertidos em um único caractere **\\n** durante a leitura.\n",
    "\n",
    "Da mesma forma, o caractere de nova linha **\\n** é convertido no caractere de nova linha padrão do sistema na saída. Se você não quiser essa tradução, forneça o argumento `newline=''` para `open()`, assim:\n",
    "~~~python\n",
    "# Read with disabled newline translation\n",
    "with open('somefile.txt', 'rt', newline='') as f:\n",
    "    ...\n",
    "~~~\n",
    "\n",
    "Para ilustrar a diferença, aqui está o que você verá em uma máquina Unix se ler o conteúdo de um arquivo de texto codificado pelo Windows contendo os dados brutos `hello world!\\r\\n`:"
   ]
  },
  {
   "cell_type": "code",
   "execution_count": 17,
   "metadata": {},
   "outputs": [
    {
     "data": {
      "text/plain": [
       "'Olá Mundo!!\\n'"
      ]
     },
     "execution_count": 17,
     "metadata": {},
     "output_type": "execute_result"
    }
   ],
   "source": [
    "# Newline translation enabled (the default)\n",
    "f = open('hello.txt', 'rt', encoding='utf8')\n",
    "f.read()"
   ]
  },
  {
   "cell_type": "code",
   "execution_count": 18,
   "metadata": {},
   "outputs": [
    {
     "data": {
      "text/plain": [
       "'Olá Mundo!!\\r\\n'"
      ]
     },
     "execution_count": 18,
     "metadata": {},
     "output_type": "execute_result"
    }
   ],
   "source": [
    "# Newline translation disabled\n",
    "g = open('hello.txt', 'rt', newline='', encoding='utf8')\n",
    "g.read()"
   ]
  },
  {
   "cell_type": "markdown",
   "metadata": {},
   "source": [
    "Uma questão final diz respeito a possíveis erros de codificação em arquivos de texto. Ao ler ou gravar um arquivo de texto, você pode encontrar um erro de codificação ou decodificação. Por exemplo:\n",
    "~~~python\n",
    "f = open('sample.txt', 'rt', encoding='ascii')\n",
    "f.read()\n",
    "Traceback (most recent call last):\n",
    "    File \"<stdin>\", line 1, in <module>\n",
    "    File \"/usr/local/lib/python3.3/encodings/ascii.py\", line 26, in decode\n",
    "        return codecs.ascii_decode(input, self.errors)[0]\n",
    " UnicodeDecodeError: 'ascii' codec can't decode byte 0xc3 in position\n",
    "12: ordinal not in range(128)\n",
    ">>>\n",
    "~~~\n",
    "\n",
    "Se você receber esse erro, geralmente significa que você não está lendo o arquivo na codificação correta. Você deve ler cuidadosamente a especificação do que quer que esteja lendo e verificar se está fazendo certo (por exemplo, lendo dados como UTF-8 em vez de Latin-1 ou o que for necessário). Se erros de codificação ainda são uma possibilidade, você pode fornecer um argumento opcional errors para open() para lidar com os erros. Aqui estão alguns exemplos de esquemas comuns de tratamento de erros:"
   ]
  },
  {
   "cell_type": "code",
   "execution_count": 20,
   "metadata": {},
   "outputs": [
    {
     "data": {
      "text/plain": [
       "'Spicy Jalape��o'"
      ]
     },
     "execution_count": 20,
     "metadata": {},
     "output_type": "execute_result"
    }
   ],
   "source": [
    ">>> # Replace bad chars with Unicode U+fffd replacement char\n",
    ">>> f = open('sample.txt', 'rt', encoding='ascii', errors='replace')\n",
    ">>> f.read()"
   ]
  },
  {
   "cell_type": "code",
   "execution_count": 21,
   "metadata": {},
   "outputs": [
    {
     "data": {
      "text/plain": [
       "'Spicy Jalapeo'"
      ]
     },
     "execution_count": 21,
     "metadata": {},
     "output_type": "execute_result"
    }
   ],
   "source": [
    ">>> # Ignore bad chars entirely\n",
    ">>> g = open('sample.txt', 'rt', encoding='ascii', errors='ignore')\n",
    ">>> g.read()"
   ]
  },
  {
   "cell_type": "markdown",
   "metadata": {},
   "source": [
    "Se você está constantemente mexendo nos argumentos de codificação e erros para `open()` e fazendo muitos hacks, provavelmente está tornando a vida mais difícil do que precisa. A regra número um com o texto é que você simplesmente precisa ter certeza de que está sempre usando a codificação de texto adequada. Em caso de dúvida, use a configuração padrão (normalmente UTF-8)."
   ]
  },
  {
   "cell_type": "markdown",
   "metadata": {},
   "source": [
    "## 5.2. Imprimindo em um arquivo\n",
    "\n",
    "**Problema**\n",
    "\n",
    "Você deseja redirecionar a saída da função `print()` para um arquivo.\n",
    "\n",
    "**Solução**\n",
    "\n",
    "Use o argumento da palavra-chave do arquivo para `print()`, assim:"
   ]
  },
  {
   "cell_type": "code",
   "execution_count": 3,
   "metadata": {},
   "outputs": [],
   "source": [
    "with open('otherfile.txt', 'r+') as f:\n",
    "    print('Hello World!', file=f)"
   ]
  },
  {
   "cell_type": "markdown",
   "metadata": {},
   "source": [
    "**Discussão**\n",
    "\n",
    "Não há muito mais para imprimir em um arquivo além disso. No entanto, certifique-se de que o arquivo seja aberto no modo de texto. A impressão falhará se o arquivo subjacente estiver no modo binário."
   ]
  },
  {
   "cell_type": "markdown",
   "metadata": {},
   "source": [
    "## 5.3. Imprimindo com um separador ou final de linha diferente\n",
    "\n",
    "**Problema**\n",
    "\n",
    "Você deseja gerar dados usando `print()`, mas também deseja alterar o caractere separador ou o final da linha.\n",
    "\n",
    "**Solução**\n",
    "\n",
    "Use os argumentos das palavras-chave **sep** e **end** para `print()` para alterar a saída como desejar. Por exemplo:"
   ]
  },
  {
   "cell_type": "code",
   "execution_count": 4,
   "metadata": {},
   "outputs": [
    {
     "name": "stdout",
     "output_type": "stream",
     "text": [
      "ACME 50 91.5\n"
     ]
    }
   ],
   "source": [
    "print('ACME', 50, 91.5)"
   ]
  },
  {
   "cell_type": "code",
   "execution_count": 5,
   "metadata": {},
   "outputs": [
    {
     "name": "stdout",
     "output_type": "stream",
     "text": [
      "ACME,50,91.5\n"
     ]
    }
   ],
   "source": [
    "print('ACME', 50, 91.5, sep=',')"
   ]
  },
  {
   "cell_type": "code",
   "execution_count": 6,
   "metadata": {},
   "outputs": [
    {
     "name": "stdout",
     "output_type": "stream",
     "text": [
      "ACME,50,91.5!!\n"
     ]
    }
   ],
   "source": [
    "print('ACME', 50, 91.5, sep=',', end='!!\\n')"
   ]
  },
  {
   "cell_type": "markdown",
   "metadata": {},
   "source": [
    "O uso do argumento final também é como você suprime a saída de novas linhas na saída. Por exemplo:"
   ]
  },
  {
   "cell_type": "code",
   "execution_count": 7,
   "metadata": {},
   "outputs": [
    {
     "name": "stdout",
     "output_type": "stream",
     "text": [
      "0\n",
      "1\n",
      "2\n",
      "3\n",
      "4\n"
     ]
    }
   ],
   "source": [
    "for i in range(5):\n",
    "    print(i)"
   ]
  },
  {
   "cell_type": "code",
   "execution_count": 9,
   "metadata": {},
   "outputs": [
    {
     "name": "stdout",
     "output_type": "stream",
     "text": [
      "0 1 2 3 4 "
     ]
    }
   ],
   "source": [
    "for i in range(5):\n",
    "    print(i, end=' ')"
   ]
  },
  {
   "cell_type": "markdown",
   "metadata": {},
   "source": [
    "**Discussão**\n",
    "\n",
    "Usar `print()` com um separador de item diferente geralmente é a maneira mais fácil de gerar dados quando você precisa de algo diferente de um espaço separando os itens. Às vezes você verá programadores usando `str.join()` para realizar a mesma coisa. Por exemplo:"
   ]
  },
  {
   "cell_type": "code",
   "execution_count": 21,
   "metadata": {},
   "outputs": [
    {
     "name": "stdout",
     "output_type": "stream",
     "text": [
      "ACME, 50, 91.5\n"
     ]
    }
   ],
   "source": [
    "print(', '.join(['ACME', '50','91.5']))"
   ]
  },
  {
   "cell_type": "markdown",
   "metadata": {},
   "source": [
    "O problema com `str.join()` é que ele só funciona com strings. Isso significa que muitas vezes é necessário realizar várias acrobacias para que funcione. Por exemplo:\n",
    "~~~python\n",
    "row = ('ACME', 50, 91.5)\n",
    "print(','.join(row))\n",
    "Traceback (most recent call last):\n",
    "    File \"<stdin>\", line 1, in <module>\n",
    " TypeError: sequence item 1: expected str instance, int found\n",
    "~~~"
   ]
  },
  {
   "cell_type": "code",
   "execution_count": 22,
   "metadata": {},
   "outputs": [
    {
     "name": "stdout",
     "output_type": "stream",
     "text": [
      "ACME,50,91.5\n"
     ]
    }
   ],
   "source": [
    "row = ('ACME', 50, 91.5)\n",
    "print(','.join(str(x) for x in row))"
   ]
  },
  {
   "cell_type": "markdown",
   "metadata": {},
   "source": [
    "Em vez de fazer isso, você poderia simplesmente escrever o seguinte:"
   ]
  },
  {
   "cell_type": "code",
   "execution_count": 25,
   "metadata": {},
   "outputs": [
    {
     "name": "stdout",
     "output_type": "stream",
     "text": [
      "ACME,50,91.5\n"
     ]
    }
   ],
   "source": [
    "print(*row, sep=',')"
   ]
  },
  {
   "cell_type": "markdown",
   "metadata": {},
   "source": [
    "## 5.4. Lendo e gravando dados binários\n",
    "\n",
    "**Problema**\n",
    "\n",
    "Você precisa ler ou gravar dados binários, como os encontrados em imagens, arquivos de som e assim por diante.\n",
    "\n",
    "**Solução**\n",
    "\n",
    "Use a função `open()` com o modo **rb** ou **wb** para ler ou gravar dados binários. Por exemplo:"
   ]
  },
  {
   "cell_type": "code",
   "execution_count": 30,
   "metadata": {},
   "outputs": [],
   "source": [
    "# Read the entire file as a single byte string\n",
    "with open('somefile.bin', 'rb') as f:\n",
    "    data = f.read()"
   ]
  },
  {
   "cell_type": "code",
   "execution_count": 31,
   "metadata": {},
   "outputs": [],
   "source": [
    "# Write binary data to a file\n",
    "with open('somefile.bin', 'wb') as f:\n",
    "    f.write(b'Hello World')"
   ]
  },
  {
   "cell_type": "markdown",
   "metadata": {},
   "source": [
    "Ao ler o binário, é importante enfatizar que todos os dados retornados estarão na forma de strings de bytes, não em strings de texto. Da mesma forma, ao escrever, você deve fornecer dados na forma de objetos que expõem dados como bytes (por exemplo, strings de bytes, objetos bytearray etc.).\n",
    "\n",
    "**Discussão**\n",
    "\n",
    "Ao ler dados binários, as sutis diferenças semânticas entre strings de bytes e strings de texto representam uma pegadinha em potencial. Em particular, esteja ciente de que a indexação e a iteração retornam valores de bytes inteiros em vez de strings de bytes. Por exemplo:"
   ]
  },
  {
   "cell_type": "code",
   "execution_count": 32,
   "metadata": {},
   "outputs": [
    {
     "data": {
      "text/plain": [
       "'H'"
      ]
     },
     "execution_count": 32,
     "metadata": {},
     "output_type": "execute_result"
    }
   ],
   "source": [
    "# Text string\n",
    "t = 'Hello World'\n",
    "t[0]"
   ]
  },
  {
   "cell_type": "code",
   "execution_count": 33,
   "metadata": {},
   "outputs": [
    {
     "name": "stdout",
     "output_type": "stream",
     "text": [
      "H\n",
      "e\n",
      "l\n",
      "l\n",
      "o\n",
      " \n",
      "W\n",
      "o\n",
      "r\n",
      "l\n",
      "d\n"
     ]
    }
   ],
   "source": [
    "for c in t:\n",
    "    print(c)"
   ]
  },
  {
   "cell_type": "code",
   "execution_count": 34,
   "metadata": {},
   "outputs": [
    {
     "data": {
      "text/plain": [
       "72"
      ]
     },
     "execution_count": 34,
     "metadata": {},
     "output_type": "execute_result"
    }
   ],
   "source": [
    "# Byte string\n",
    "b = b'Hello World'\n",
    "b[0]"
   ]
  },
  {
   "cell_type": "code",
   "execution_count": 35,
   "metadata": {},
   "outputs": [
    {
     "name": "stdout",
     "output_type": "stream",
     "text": [
      "72\n",
      "101\n",
      "108\n",
      "108\n",
      "111\n",
      "32\n",
      "87\n",
      "111\n",
      "114\n",
      "108\n",
      "100\n"
     ]
    }
   ],
   "source": [
    "for c in b:\n",
    "    print(c)"
   ]
  },
  {
   "cell_type": "markdown",
   "metadata": {},
   "source": [
    "Se você precisar ler ou escrever texto de um arquivo em modo binário, lembre-se de decodificá-lo ou codificá-lo. Por exemplo:"
   ]
  },
  {
   "cell_type": "code",
   "execution_count": 36,
   "metadata": {},
   "outputs": [],
   "source": [
    "with open('somefile.bin', 'rb') as f:\n",
    "    data = f.read(16)\n",
    "    text = data.decode('utf-8')"
   ]
  },
  {
   "cell_type": "code",
   "execution_count": 37,
   "metadata": {},
   "outputs": [],
   "source": [
    "with open('somefile.bin', 'wb') as f:\n",
    "    text = 'Hello World'\n",
    "    f.write(text.encode('utf-8'))"
   ]
  },
  {
   "cell_type": "markdown",
   "metadata": {},
   "source": [
    "Um aspecto menos conhecido da I/O binária é que objetos como arrays e estruturas C podem ser usados para escrita sem nenhum tipo de conversão intermediária para um objeto bytes. Por exemplo:"
   ]
  },
  {
   "cell_type": "code",
   "execution_count": 2,
   "metadata": {},
   "outputs": [],
   "source": [
    "import array\n",
    "nums = array.array('i', [1, 2, 3, 4])\n",
    "with open('data.bin','wb') as f:\n",
    "    f.write(nums)"
   ]
  },
  {
   "cell_type": "markdown",
   "metadata": {},
   "source": [
    "Isso se aplica a qualquer objeto que implemente a chamada “interface de buffer”, que expõe diretamente um buffer de memória subjacente a operações que podem funcionar com ele. Escrever dados binários é uma dessas operações.\n",
    "\n",
    "Muitos objetos também permitem que dados binários sejam lidos diretamente em sua memória subjacente usando o método `readinto()` de arquivos. Por exemplo:"
   ]
  },
  {
   "cell_type": "code",
   "execution_count": 3,
   "metadata": {},
   "outputs": [],
   "source": [
    "import array\n",
    "a = array.array('i', [0, 0, 0, 0, 0, 0, 0, 0])\n",
    "with open('data.bin', 'rb') as f:\n",
    "    f.readinto(a)"
   ]
  },
  {
   "cell_type": "code",
   "execution_count": 4,
   "metadata": {},
   "outputs": [
    {
     "data": {
      "text/plain": [
       "array('i', [1, 2, 3, 4, 0, 0, 0, 0])"
      ]
     },
     "execution_count": 4,
     "metadata": {},
     "output_type": "execute_result"
    }
   ],
   "source": [
    "a"
   ]
  },
  {
   "cell_type": "markdown",
   "metadata": {},
   "source": [
    "No entanto, muito cuidado deve ser tomado ao usar essa técnica, pois geralmente é específica da plataforma e pode depender de coisas como o tamanho da palavra e a ordenação dos bytes (ou seja, big endian versus little endian). Veja a Receita 5.9 para outro exemplo de leitura de dados binários em um buffer mutável.\n",
    "\n",
    "## 5.5. Gravando em um arquivo que ainda não existe\n",
    "\n",
    "**Problema**\n",
    "\n",
    "Você deseja gravar dados em um arquivo, mas somente se ele ainda não existir no sistema de arquivos.\n",
    "\n",
    "**Solução**\n",
    "\n",
    "Este problema é facilmente resolvido usando o modo **x** pouco conhecido para `open()` em vez do modo **w** usual. Por exemplo:"
   ]
  },
  {
   "cell_type": "code",
   "execution_count": 5,
   "metadata": {},
   "outputs": [],
   "source": [
    "with open('somefile', 'wt') as f:\n",
    "    f.write('Hello\\n')"
   ]
  },
  {
   "cell_type": "markdown",
   "metadata": {},
   "source": [
    "~~~python\n",
    "with open('somefile', 'xt') as f:\n",
    "    f.write('Hello\\n')\n",
    "    ...\n",
    "Traceback (most recent call last):\n",
    "    File \"<stdin>\", line 1, in <module>\n",
    " FileExistsError: [Errno 17] File exists: 'somefile'\n",
    "~~~\n",
    "Se o arquivo estiver no modo binário, use o modo **xb** em vez de **xt**.\n",
    "\n",
    "**Discussão**\n",
    "\n",
    "Esta receita ilustra uma solução extremamente elegante para um problema que às vezes surge ao escrever arquivos (ou seja, substituir acidentalmente um arquivo existente). Uma solução alternativa é primeiro testar o arquivo assim:"
   ]
  },
  {
   "cell_type": "code",
   "execution_count": 7,
   "metadata": {},
   "outputs": [
    {
     "name": "stdout",
     "output_type": "stream",
     "text": [
      "Arquivo já existe!\n"
     ]
    }
   ],
   "source": [
    "import os\n",
    "if not os.path.exists('somefile'):\n",
    "    with open('somefile', 'wt') as f:\n",
    "        f.write('Hello\\n')\n",
    "else:\n",
    "    print('Arquivo já existe!')"
   ]
  },
  {
   "cell_type": "markdown",
   "metadata": {},
   "source": [
    "Claramente, usar o modo de arquivo **x** é muito mais direto. É importante notar que o modo **x** é uma extensão específica do Python 3 para a função `open()`. Em particular, esse modo não existe nas versões anteriores do Python ou nas bibliotecas C subjacentes usadas na implementação do Python.\n",
    "\n",
    "## 5.6. Executando operações de I/O em uma string\n",
    "\n",
    "**Problema**\n",
    "\n",
    "Você deseja alimentar um texto ou uma string binária no código que foi escrito para operar em objetos semelhantes a arquivos.\n",
    "\n",
    "**Solução**\n",
    "\n",
    "Use as classes `io.StringIO()` e `io.BytesIO()` para criar objetos semelhantes a arquivos que operam em dados de string. Por exemplo:"
   ]
  },
  {
   "cell_type": "code",
   "execution_count": 9,
   "metadata": {},
   "outputs": [
    {
     "data": {
      "text/plain": [
       "12"
      ]
     },
     "execution_count": 9,
     "metadata": {},
     "output_type": "execute_result"
    }
   ],
   "source": [
    "import io\n",
    "s = io.StringIO()\n",
    "s.write('Hello World\\n')"
   ]
  },
  {
   "cell_type": "code",
   "execution_count": 11,
   "metadata": {},
   "outputs": [],
   "source": [
    "s = io.StringIO()\n",
    "s.write('Hello World\\n')\n",
    "print('This is a test', file=s)"
   ]
  },
  {
   "cell_type": "code",
   "execution_count": 12,
   "metadata": {},
   "outputs": [
    {
     "data": {
      "text/plain": [
       "'Hello World\\nThis is a test\\n'"
      ]
     },
     "execution_count": 12,
     "metadata": {},
     "output_type": "execute_result"
    }
   ],
   "source": [
    "# Get all of the data written so far\n",
    "s.getvalue()"
   ]
  },
  {
   "cell_type": "code",
   "execution_count": 13,
   "metadata": {},
   "outputs": [
    {
     "data": {
      "text/plain": [
       "'Hell'"
      ]
     },
     "execution_count": 13,
     "metadata": {},
     "output_type": "execute_result"
    }
   ],
   "source": [
    "# Wrap a file interface around an existing string\n",
    "s = io.StringIO('Hello\\nWorld\\n')\n",
    "s.read(4)"
   ]
  },
  {
   "cell_type": "code",
   "execution_count": 14,
   "metadata": {},
   "outputs": [
    {
     "data": {
      "text/plain": [
       "'o\\nWorld\\n'"
      ]
     },
     "execution_count": 14,
     "metadata": {},
     "output_type": "execute_result"
    }
   ],
   "source": [
    "s.read()"
   ]
  },
  {
   "cell_type": "markdown",
   "metadata": {},
   "source": [
    "A classe `io.StringIO` deve ser usada apenas para texto. Se você estiver operando com dados binários, use a classe `io.BytesIO`. Por exemplo:"
   ]
  },
  {
   "cell_type": "code",
   "execution_count": 15,
   "metadata": {},
   "outputs": [
    {
     "data": {
      "text/plain": [
       "b'binary data'"
      ]
     },
     "execution_count": 15,
     "metadata": {},
     "output_type": "execute_result"
    }
   ],
   "source": [
    "s = io.BytesIO()\n",
    "s.write(b'binary data')\n",
    "s.getvalue()"
   ]
  },
  {
   "cell_type": "markdown",
   "metadata": {},
   "source": [
    "**Discussão**\n",
    "\n",
    "As classes `StringIO` e `BytesIO` são mais úteis em cenários em que você precisa imitar um arquivo normal por algum motivo. Por exemplo, em testes de unidade, você pode usar `StringIO` para criar um objeto semelhante a um arquivo contendo dados de teste que são alimentados em uma função que, de outra forma, funcionaria com um arquivo normal.\n",
    "\n",
    "Esteja ciente de que as instâncias StringIO e BytesIO não possuem um descritor de arquivo inteiro adequado. Assim, eles não funcionam com código que requer o uso de um arquivo de nível de sistema real, como um arquivo, pipe ou soquete.\n",
    "\n",
    "## 5.7. Lendo e gravando arquivos de dados compactados\n",
    "\n",
    "**Problema**\n",
    "\n",
    "Você precisa ler ou gravar dados em um arquivo com compactação **gzip** ou **bz2**.\n",
    "\n",
    "**Solução**\n",
    "\n",
    "Os módulos `gzip` e `bz2` facilitam o trabalho com esses arquivos. Ambos os módulos fornecem uma implementação alternativa de `open()` que pode ser usada para esta finalidade. Por exemplo, para ler arquivos compactados como texto, faça o seguinte:"
   ]
  },
  {
   "cell_type": "code",
   "execution_count": 19,
   "metadata": {},
   "outputs": [],
   "source": [
    "# gzip compression\n",
    "import gzip\n",
    "with gzip.open('somefile.gz', 'rt') as f:\n",
    "    text = f.read()"
   ]
  },
  {
   "cell_type": "code",
   "execution_count": 23,
   "metadata": {},
   "outputs": [],
   "source": [
    "# bz2 compression\n",
    "import bz2\n",
    "with bz2.open('somefile.bz2', 'rt') as f:\n",
    "    text = f.read()"
   ]
  },
  {
   "cell_type": "markdown",
   "metadata": {},
   "source": [
    "Da mesma forma, para gravar dados compactados, faça o seguinte:"
   ]
  },
  {
   "cell_type": "code",
   "execution_count": 24,
   "metadata": {},
   "outputs": [],
   "source": [
    "# gzip compression\n",
    "import gzip\n",
    "with gzip.open('somefile.gz', 'wt') as f:\n",
    "    f.write(text)"
   ]
  },
  {
   "cell_type": "code",
   "execution_count": 25,
   "metadata": {},
   "outputs": [],
   "source": [
    "# bz2 compression\n",
    "import bz2\n",
    "with bz2.open('somefile.bz2', 'wt') as f:\n",
    "    f.write(text)"
   ]
  },
  {
   "cell_type": "markdown",
   "metadata": {},
   "source": [
    "Conforme mostrado, todas as I/O usarão texto e realizarão codificação/decodificação Unicode. Se você quiser trabalhar com dados binários, use um modo de arquivo de rb ou wb.\n",
    "\n",
    "**Discussão**\n",
    "\n",
    "Na maioria das vezes, ler ou gravar dados compactados é simples. No entanto, esteja ciente de que escolher o modo de arquivo correto é extremamente importante. Se você não especificar um modo, o modo padrão será binário, o que interromperá os programas que esperam receber texto. Ambos `gzip.open()` e `bz2.open()` aceitam os mesmos parâmetros que a função `open()` integrada, incluindo codificação, erros, nova linha e assim por diante.\n",
    "\n",
    "Ao gravar dados compactados, o nível de compactação pode ser opcionalmente especificado usando o argumento de palavra-chave `compresslevel`. Por exemplo:"
   ]
  },
  {
   "cell_type": "code",
   "execution_count": 26,
   "metadata": {},
   "outputs": [],
   "source": [
    "with gzip.open('somefile.gz', 'wt', compresslevel=5) as f:\n",
    "    f.write(text)"
   ]
  },
  {
   "cell_type": "markdown",
   "metadata": {},
   "source": [
    "O nível padrão é **9**, que fornece o nível mais alto de compactação. Níveis mais baixos oferecem melhor desempenho, mas não tanta compressão.\n",
    "\n",
    "Finalmente, um recurso pouco conhecido de `gzip.open()` e `bz2.open()` é que eles podem ser colocados em cima de um arquivo existente aberto em modo binário. Por exemplo, isso funciona:"
   ]
  },
  {
   "cell_type": "code",
   "execution_count": 27,
   "metadata": {},
   "outputs": [],
   "source": [
    "import gzip\n",
    "f = open('somefile.gz', 'rb')\n",
    "with gzip.open(f, 'rt') as g:\n",
    "    text = g.read()"
   ]
  },
  {
   "cell_type": "markdown",
   "metadata": {},
   "source": [
    "Isso permite que os módulos `gzip` e `bz2` funcionem com vários objetos semelhantes a arquivos, como soquetes, pipes e arquivos na memória.\n",
    "\n",
    "## 5.8. Iterando sobre registros de tamanho fixo\n",
    "\n",
    "**Problema**\n",
    "\n",
    "Em vez de iterar sobre um arquivo por linhas, você deseja iterar sobre uma coleção de registros ou blocos de tamanho fixo.\n",
    "\n",
    "**Solução**\n",
    "\n",
    "Use a função `iter()` e `functools.partial()` usando este truque legal:"
   ]
  },
  {
   "cell_type": "code",
   "execution_count": 29,
   "metadata": {},
   "outputs": [
    {
     "name": "stdout",
     "output_type": "stream",
     "text": [
      "b'Em lingu\\xc3\\xadstica, a no\\xc3\\xa7\\xc3\\xa3o de te'\n",
      "b'xto \\xc3\\xa9 ampla e ainda aberta a um'\n",
      "b'a defini\\xc3\\xa7\\xc3\\xa3o mais precisa. Gros'\n",
      "b'so modo, pode ser entendido como'\n",
      "b' manifesta\\xc3\\xa7\\xc3\\xa3o lingu\\xc3\\xadstica das'\n",
      "b' ideias de um autor, que ser\\xc3\\xa3o '\n",
      "b'interpretadas pelo leitor de aco'\n",
      "b'rdo com seus conhecimentos lingu'\n",
      "b'\\xc3\\xadsticos e culturais. Seu tamanh'\n",
      "b'o \\xc3\\xa9 vari\\xc3\\xa1vel.\\r\\n\\r\\n\\xe2\\x80\\x9cConjunto d'\n",
      "b'e palavras e frases articuladas,'\n",
      "b' escritas sobre qualquer suporte'\n",
      "b'\\xe2\\x80\\x9d.[1]\\r\\n\\r\\n\\xe2\\x80\\x9cObra escrita consi'\n",
      "b'derada na sua reda\\xc3\\xa7\\xc3\\xa3o original'\n",
      "b' e aut\\xc3\\xaantica (por oposi\\xc3\\xa7\\xc3\\xa3o a '\n",
      "b'sum\\xc3\\xa1rio, tradu\\xc3\\xa7\\xc3\\xa3o, notas, com'\n",
      "b'ent\\xc3\\xa1rios, etc.)\\xe2\\x80\\x9d.[2]\\r\\n\\r\\n\"Um t'\n",
      "b'exto \\xc3\\xa9 uma ocorr\\xc3\\xaancia lingu\\xc3\\xads'\n",
      "b'tica, escrita ou falada de qualq'\n",
      "b'uer extens\\xc3\\xa3o, dotada de unidade'\n",
      "b' sociocomunicativa, sem\\xc3\\xa2ntica e'\n",
      "b' formal. \\xc3\\x89 uma unidade de lingu'\n",
      "b'agem em uso.\"[3]\\r\\n\\r\\nO interesse '\n",
      "b'pelo texto como objeto de estudo'\n",
      "b' gerou v\\xc3\\xa1rios trabalhos importa'\n",
      "b'ntes de te\\xc3\\xb3ricos da Lingu\\xc3\\xadstic'\n",
      "b'a Textual, que percorreram fases'\n",
      "b' diversas cujas caracter\\xc3\\xadsticas'\n",
      "b' principais eram transpor os lim'\n",
      "b'ites da frase descontextualizada'\n",
      "b' da gram\\xc3\\xa1tica tradicional e ain'\n",
      "b'da incluir os relevantes pap\\xc3\\xa9is'\n",
      "b' do autor e do leitor na constru'\n",
      "b'\\xc3\\xa7\\xc3\\xa3o de textos.\\r\\n\\r\\nUm texto pod'\n",
      "b'e ser escrito ou oral e, em sent'\n",
      "b'ido lato, pode ser tamb\\xc3\\xa9m n\\xc3\\xa3o '\n",
      "b'verbal.\\r\\n\\r\\nTexto cr\\xc3\\xadtico \\xc3\\xa9 uma'\n",
      "b' produ\\xc3\\xa7\\xc3\\xa3o textual que parte de'\n",
      "b' um processo reflexivo e anal\\xc3\\xadt'\n",
      "b'ico gerando um conte\\xc3\\xbado com cr\\xc3'\n",
      "b'\\xadtica construtiva e bem fundamen'\n",
      "b'tada.\\r\\n\\r\\nEm artes gr\\xc3\\xa1ficas, o t'\n",
      "b'exto \\xc3\\xa9 a parte verbal, lingu\\xc3\\xads'\n",
      "b'tica, por oposi\\xc3\\xa7\\xc3\\xa3o \\xc3\\xa0s ilustra'\n",
      "b'\\xc3\\xa7\\xc3\\xb5es.\\r\\n\\r\\nTodo texto tem que te'\n",
      "b'r alguns aspectos formais, ou se'\n",
      "b'ja, tem que ter estrutura, eleme'\n",
      "b'ntos que estabelecem rela\\xc3\\xa7\\xc3\\xa3o e'\n",
      "b'ntre si. Dentro dos aspectos for'\n",
      "b'mais temos a coes\\xc3\\xa3o e a coer\\xc3\\xaan'\n",
      "b'cia, que d\\xc3\\xa3o sentido e forma ao'\n",
      "b' texto. \"A coes\\xc3\\xa3o textual \\xc3\\xa9 a '\n",
      "b'rela\\xc3\\xa7\\xc3\\xa3o, a liga\\xc3\\xa7\\xc3\\xa3o, a conex\\xc3'\n",
      "b'\\xa3o entre as palavras, express\\xc3\\xb5e'\n",
      "b's ou frases do texto\\xe2\\x80\\x9d.[4] A co'\n",
      "b'er\\xc3\\xaancia est\\xc3\\xa1 relacionada com a'\n",
      "b' compreens\\xc3\\xa3o, a interpreta\\xc3\\xa7\\xc3\\xa3o'\n",
      "b' do que se diz ou escreve. Um te'\n",
      "b'xto precisa ter sentido, isto \\xc3\\xa9'\n",
      "b', precisa ter coer\\xc3\\xaancia. Embora'\n",
      "b' a coes\\xc3\\xa3o n\\xc3\\xa3o seja condi\\xc3\\xa7\\xc3\\xa3o '\n",
      "b'suficiente para que enunciados s'\n",
      "b'e constituam em textos, s\\xc3\\xa3o os '\n",
      "b'elementos coesivos que lhes d\\xc3\\xa3o'\n",
      "b' maior legibilidade e evidenciam'\n",
      "b' as rela\\xc3\\xa7\\xc3\\xb5es entre seus divers'\n",
      "b'os componentes, a coer\\xc3\\xaancia dep'\n",
      "b'ende da coes\\xc3\\xa3o.\\r\\n\\r\\n'\n"
     ]
    }
   ],
   "source": [
    "from functools import partial\n",
    "RECORD_SIZE = 32\n",
    "with open('somefile.data', 'rb') as f:\n",
    "    records = iter(partial(f.read, RECORD_SIZE), b'')\n",
    "    for r in records:\n",
    "        print(r)"
   ]
  },
  {
   "cell_type": "markdown",
   "metadata": {},
   "source": [
    "O objeto de registros neste exemplo é um iterável que produzirá pedaços de tamanho fixo até que o final do arquivo seja alcançado. No entanto, esteja ciente de que o **último item** pode ter menos bytes do que o esperado se o tamanho do arquivo não for um múltiplo exato do tamanho do registro.\n",
    "\n",
    "**Discussão**\n",
    "\n",
    "Um recurso pouco conhecido da função `iter()` é que ela pode criar um iterador se você passar um valor callable e um valor sentinela. O iterador resultante simplesmente chama o callable fornecido repetidamente até retornar o sentinela, ponto em que a iteração é interrompida.\n",
    "\n",
    "Na solução, o `functools.partial` é usado para criar um callable que lê um número fixo de bytes de um arquivo cada vez que é chamado. A sentinela de b'' é o que é retornado quando um arquivo é lido, mas o final do arquivo foi atingido.\n",
    "\n",
    "Por último, mas não menos importante, a solução mostra o arquivo sendo aberto no modo binário. Para ler registros de tamanho fixo, esse provavelmente seria o caso mais comum. Para arquivos de texto, a leitura linha por linha (o comportamento de iteração padrão) é mais comum.\n",
    "\n",
    "## 5.9. Lendo dados binários em um buffer mutável\n",
    "\n",
    "**Problema**\n",
    "\n",
    "Você deseja ler dados binários diretamente em um buffer mutável sem nenhuma cópia intermediária. Talvez você queira alterar os dados no local e gravá-los de volta em um arquivo.\n",
    "\n",
    "**Solução**\n",
    "\n",
    "Para ler dados em uma matriz mutável, use o método `readinto()` de arquivos. Por exemplo:"
   ]
  },
  {
   "cell_type": "code",
   "execution_count": 30,
   "metadata": {},
   "outputs": [],
   "source": [
    "import os.path\n",
    "def read_into_buffer(filename): \n",
    "    buf = bytearray(os.path.getsize(filename))\n",
    "    with open(filename, 'rb') as f:\n",
    "        f.readinto(buf)\n",
    "    return buf"
   ]
  },
  {
   "cell_type": "markdown",
   "metadata": {},
   "source": [
    "Aqui está um exemplo que ilustra o uso:"
   ]
  },
  {
   "cell_type": "code",
   "execution_count": 31,
   "metadata": {},
   "outputs": [
    {
     "data": {
      "text/plain": [
       "bytearray(b'Hello World')"
      ]
     },
     "execution_count": 31,
     "metadata": {},
     "output_type": "execute_result"
    }
   ],
   "source": [
    "# Write a sample file\n",
    "with open('sample.bin', 'wb') as f:\n",
    "    f.write(b'Hello World')\n",
    "\n",
    "buf = read_into_buffer('sample.bin')\n",
    "buf"
   ]
  },
  {
   "cell_type": "code",
   "execution_count": 32,
   "metadata": {},
   "outputs": [
    {
     "data": {
      "text/plain": [
       "bytearray(b'Hallo World')"
      ]
     },
     "execution_count": 32,
     "metadata": {},
     "output_type": "execute_result"
    }
   ],
   "source": [
    "buf[0:5] = b'Hallo'\n",
    "buf"
   ]
  },
  {
   "cell_type": "code",
   "execution_count": 33,
   "metadata": {},
   "outputs": [],
   "source": [
    "with open('newsample.bin', 'wb') as f:\n",
    "    f.write(buf)"
   ]
  },
  {
   "cell_type": "markdown",
   "metadata": {},
   "source": [
    "**Discussão**\n",
    "\n",
    "O método `readinto()` de arquivos pode ser usado para preencher qualquer array pré-alocado com dados. Isso inclui até mesmo arrays criados a partir do módulo `array` ou bibliotecas como `numpy`. Ao contrário do método `read()` normal, `readinto()` preenche o conteúdo de um buffer existente em vez de alocar novos objetos e retorná-los. Assim, você poderá usá-lo para evitar alocações extras de memória. Por exemplo, se você estiver lendo um arquivo binário que consiste em registros de tamanhos iguais, poderá escrever um código como este:"
   ]
  },
  {
   "cell_type": "code",
   "execution_count": 34,
   "metadata": {},
   "outputs": [],
   "source": [
    "record_size = 32 # Size of each record (adjust value)\n",
    "buf = bytearray(record_size)\n",
    "with open('somefile', 'rb') as f:\n",
    "    while True:\n",
    "        n = f.readinto(buf)\n",
    "        if n < record_size:\n",
    "            break\n",
    "            # Use the contents of buf\n",
    "            ...\n",
    "    "
   ]
  },
  {
   "cell_type": "markdown",
   "metadata": {},
   "source": [
    "Outro recurso interessante para usar aqui pode ser um `memoryview`, que permite fazer fatias de cópia zero de um buffer existente e até mesmo alterar seu conteúdo. Por exemplo:"
   ]
  },
  {
   "cell_type": "code",
   "execution_count": 35,
   "metadata": {},
   "outputs": [
    {
     "data": {
      "text/plain": [
       "bytearray(b'Hello\\r\\n\\x00\\x00\\x00\\x00\\x00\\x00\\x00\\x00\\x00\\x00\\x00\\x00\\x00\\x00\\x00\\x00\\x00\\x00\\x00\\x00\\x00\\x00\\x00\\x00\\x00')"
      ]
     },
     "execution_count": 35,
     "metadata": {},
     "output_type": "execute_result"
    }
   ],
   "source": [
    "buf"
   ]
  },
  {
   "cell_type": "code",
   "execution_count": 37,
   "metadata": {},
   "outputs": [
    {
     "data": {
      "text/plain": [
       "<memory at 0x0000023FEFDFDE80>"
      ]
     },
     "execution_count": 37,
     "metadata": {},
     "output_type": "execute_result"
    }
   ],
   "source": [
    "m1 = memoryview(buf)\n",
    "m2 = m1[-5:]\n",
    "m2"
   ]
  },
  {
   "cell_type": "code",
   "execution_count": 39,
   "metadata": {},
   "outputs": [
    {
     "data": {
      "text/plain": [
       "bytearray(b'Hello\\r\\n\\x00\\x00\\x00\\x00\\x00\\x00\\x00\\x00\\x00\\x00\\x00\\x00\\x00\\x00\\x00\\x00\\x00\\x00\\x00\\x00WORLD')"
      ]
     },
     "execution_count": 39,
     "metadata": {},
     "output_type": "execute_result"
    }
   ],
   "source": [
    "m2[:] = b'WORLD'\n",
    "buf"
   ]
  },
  {
   "cell_type": "markdown",
   "metadata": {},
   "source": [
    "Um cuidado ao usar `f.readinto()` é que você deve sempre verificar seu código de retorno, que é o número de bytes realmente lidos.\n",
    "\n",
    "Se o número de bytes for menor que o tamanho do buffer fornecido, isso pode indicar dados truncados ou corrompidos (por exemplo, se você esperava que um número exato de bytes fosse lido).\n",
    "\n",
    "Finalmente, fique atento a outras funções relacionadas “into” em vários módulos de biblioteca (por exemplo, `recv_into()`, `pack_into()`, etc.). Muitas outras partes do Python têm suporte para I/O direta ou acesso a dados que podem ser usados para preencher ou alterar o conteúdo de arrays e buffers.\n",
    "\n",
    "Consulte a Receita 6.12 para obter um exemplo significativamente mais avançado de interpretação de estruturas binárias e uso de visualizações de memória.\n",
    "\n",
    "## 5.10. Arquivos binários de mapeamento de memória\n",
    "\n",
    "**Problema**\n",
    "\n",
    "Você deseja mapear a memória de um arquivo binário em uma matriz de bytes mutável, possivelmente para acesso aleatório ao seu conteúdo ou para fazer modificações no local.\n",
    "\n",
    "**Solução**\n",
    "\n",
    "Use o módulo `mmap` para arquivos de mapa de memória. Aqui está uma função de utilitário que mostra como abrir um arquivo e mapeá-lo na memória de maneira portátil:"
   ]
  },
  {
   "cell_type": "code",
   "execution_count": 40,
   "metadata": {},
   "outputs": [],
   "source": [
    "import os\n",
    "import mmap\n",
    "def memory_map(filename, access=mmap.ACCESS_WRITE):\n",
    "    size = os.path.getsize(filename)\n",
    "    fd = os.open(filename, os.O_RDWR)\n",
    "    return mmap.mmap(fd, size, access=access)"
   ]
  },
  {
   "cell_type": "markdown",
   "metadata": {},
   "source": [
    "Para utilizar esta função, você precisaria ter um arquivo já criado e preenchido com dados. Aqui está um exemplo de como você pode inicialmente criar um arquivo e expandi-lo para um tamanho desejado:"
   ]
  },
  {
   "cell_type": "code",
   "execution_count": 41,
   "metadata": {},
   "outputs": [],
   "source": [
    "size = 1000000\n",
    "with open('data', 'wb') as f:\n",
    "    f.seek(size-1)\n",
    "    f.write(b'\\x00')"
   ]
  },
  {
   "cell_type": "markdown",
   "metadata": {},
   "source": [
    "Agora aqui está um exemplo de mapeamento de memória do conteúdo usando a função `memory_map()`:"
   ]
  },
  {
   "cell_type": "code",
   "execution_count": 42,
   "metadata": {},
   "outputs": [
    {
     "data": {
      "text/plain": [
       "1000000"
      ]
     },
     "execution_count": 42,
     "metadata": {},
     "output_type": "execute_result"
    }
   ],
   "source": [
    "m = memory_map('data')\n",
    "len(m)"
   ]
  },
  {
   "cell_type": "code",
   "execution_count": 43,
   "metadata": {},
   "outputs": [
    {
     "data": {
      "text/plain": [
       "b'\\x00\\x00\\x00\\x00\\x00\\x00\\x00\\x00\\x00\\x00'"
      ]
     },
     "execution_count": 43,
     "metadata": {},
     "output_type": "execute_result"
    }
   ],
   "source": [
    "m[0:10]"
   ]
  },
  {
   "cell_type": "code",
   "execution_count": 44,
   "metadata": {},
   "outputs": [
    {
     "data": {
      "text/plain": [
       "0"
      ]
     },
     "execution_count": 44,
     "metadata": {},
     "output_type": "execute_result"
    }
   ],
   "source": [
    "m[0]"
   ]
  },
  {
   "cell_type": "code",
   "execution_count": 45,
   "metadata": {},
   "outputs": [],
   "source": [
    "# Reassign a slice\n",
    "m[0:11] = b'Hello World'\n",
    "m.close()"
   ]
  },
  {
   "cell_type": "code",
   "execution_count": 46,
   "metadata": {},
   "outputs": [
    {
     "name": "stdout",
     "output_type": "stream",
     "text": [
      "b'Hello World'\n"
     ]
    }
   ],
   "source": [
    "# Verify that changes were made\n",
    "with open('data', 'rb') as f:\n",
    "    print(f.read(11))"
   ]
  },
  {
   "cell_type": "markdown",
   "metadata": {},
   "source": [
    "O objeto mmap retornado por `mmap()` também pode ser usado como gerenciador de contexto, caso em que o arquivo subjacente é fechado automaticamente. Por exemplo:"
   ]
  },
  {
   "cell_type": "code",
   "execution_count": 47,
   "metadata": {},
   "outputs": [
    {
     "name": "stdout",
     "output_type": "stream",
     "text": [
      "1000000\n",
      "b'Hello Worl'\n"
     ]
    }
   ],
   "source": [
    "with memory_map('data') as m:\n",
    "    print(len(m))\n",
    "    print(m[0:10])"
   ]
  },
  {
   "cell_type": "code",
   "execution_count": 48,
   "metadata": {},
   "outputs": [
    {
     "data": {
      "text/plain": [
       "True"
      ]
     },
     "execution_count": 48,
     "metadata": {},
     "output_type": "execute_result"
    }
   ],
   "source": [
    "m.closed"
   ]
  },
  {
   "cell_type": "markdown",
   "metadata": {},
   "source": [
    "Por padrão, a função `memory_map()` mostrada abre um arquivo para leitura e escrita. Quaisquer modificações feitas nos dados são copiadas de volta para o arquivo original. Se o acesso somente leitura for necessário, forneça `map.ACCESS_READ` para o argumento de acesso. Por exemplo:\n",
    "~~~python\n",
    "m = memory_map(filename, mmap.ACCESS_READ)\n",
    "~~~"
   ]
  },
  {
   "cell_type": "markdown",
   "metadata": {},
   "source": [
    "Se você pretende modificar os dados localmente, mas não deseja que essas alterações sejam gravadas no arquivo original, use `mmap.ACCESS_COPY`:\n",
    "~~~python\n",
    "m = memory_map(filename, mmap.ACCESS_COPY)\n",
    "~~~\n",
    "\n",
    "**Discussão**\n",
    "\n",
    "Usar `mmap` para mapear arquivos na memória pode ser um meio eficiente e elegante de acessar aleatoriamente o conteúdo de um arquivo. Por exemplo, em vez de abrir um arquivo e executar várias combinações de chamadas `seek()`, `read()` e `write()`, você pode simplesmente mapear o arquivo e acessar os dados usando operações de fatiamento. Normalmente, a memória exposta por `mmap()` se parece com um objeto `bytearray`. No entanto, você pode interpretar os dados de maneira diferente usando uma visualização de memória. Por exemplo:"
   ]
  },
  {
   "cell_type": "code",
   "execution_count": 50,
   "metadata": {},
   "outputs": [
    {
     "data": {
      "text/plain": [
       "b'\\x07\\x00\\x00\\x00'"
      ]
     },
     "execution_count": 50,
     "metadata": {},
     "output_type": "execute_result"
    }
   ],
   "source": [
    "m = memory_map('data')\n",
    "# Memoryview of unsigned integers\n",
    "v = memoryview(m).cast('I')\n",
    "v[0] = 7\n",
    "m[0:4]"
   ]
  },
  {
   "cell_type": "code",
   "execution_count": 51,
   "metadata": {},
   "outputs": [
    {
     "data": {
      "text/plain": [
       "263"
      ]
     },
     "execution_count": 51,
     "metadata": {},
     "output_type": "execute_result"
    }
   ],
   "source": [
    "m[0:4] = b'\\x07\\x01\\x00\\x00'\n",
    "v[0]"
   ]
  },
  {
   "cell_type": "markdown",
   "metadata": {},
   "source": [
    "Deve-se enfatizar que o mapeamento de memória de um arquivo não faz com que o arquivo inteiro seja lido na memória. Ou seja, não é copiado em algum tipo de buffer de memória ou array.\n",
    "\n",
    "Em vez disso, o sistema operacional apenas reserva uma seção de memória virtual para o conteúdo do arquivo. Conforme você acessa diferentes regiões, essas partes do arquivo serão lidas e mapeadas na região de memória conforme necessário. No entanto, partes do arquivo que nunca são acessadas simplesmente permanecem no disco. Tudo isso acontece de forma transparente, nos bastidores.\n",
    "\n",
    "Se mais de uma memória do interpretador Python mapear o mesmo arquivo, o objeto `mmap` resultante poderá ser usado para trocar dados entre os interpretadores. Ou seja, todos os intérpretes podem ler/gravar dados simultaneamente, e as alterações feitas nos dados de um intérprete aparecerão automaticamente nos outros. Obviamente, alguns cuidados extras são necessários para sincronizar as coisas, mas esse tipo de abordagem às vezes é usado como uma alternativa à transmissão de dados em mensagens por pipes ou sockets.\n",
    "\n",
    "Como mostrado, esta receita foi escrita para ser o mais geral possível, funcionando tanto no Unix quanto no Windows. Esteja ciente de que existem algumas diferenças de plataforma em relação ao uso da chamada `mmap()` oculta nos bastidores. Além disso, há opções para criar regiões de memória mapeadas anonimamente. Se isso for do seu interesse, certifique-se de ler atentamente a documentação do Python sobre o assunto.\n",
    "\n",
    "## 5.11. Manipulando nomes de caminho\n",
    "\n",
    "**Problema**\n",
    "\n",
    "Você precisa manipular os nomes de caminho para encontrar o nome do arquivo base, o nome do diretório, o caminho absoluto e assim por diante.\n",
    "\n",
    "**Solução**\n",
    "\n",
    "Para manipular nomes de caminhos, use as funções no módulo `os.path`. Aqui está um exemplo interativo que ilustra alguns recursos principais:"
   ]
  },
  {
   "cell_type": "code",
   "execution_count": 54,
   "metadata": {},
   "outputs": [],
   "source": [
    "import os\n",
    "path = r'\\Users\\dell\\OneDrive\\Documentos\\4. GitHub\\Python_Cookbook_Recipes_3rd\\somefile.txt'"
   ]
  },
  {
   "cell_type": "code",
   "execution_count": 55,
   "metadata": {},
   "outputs": [
    {
     "data": {
      "text/plain": [
       "'somefile.txt'"
      ]
     },
     "execution_count": 55,
     "metadata": {},
     "output_type": "execute_result"
    }
   ],
   "source": [
    "# Pegando o último componente do caminho\n",
    "os.path.basename(path)"
   ]
  },
  {
   "cell_type": "code",
   "execution_count": 56,
   "metadata": {},
   "outputs": [
    {
     "data": {
      "text/plain": [
       "'\\\\Users\\\\dell\\\\OneDrive\\\\Documentos\\\\4. GitHub\\\\Python_Cookbook_Recipes_3rd'"
      ]
     },
     "execution_count": 56,
     "metadata": {},
     "output_type": "execute_result"
    }
   ],
   "source": [
    "# Pegando o nome do diretório\n",
    "os.path.dirname(path)"
   ]
  },
  {
   "cell_type": "code",
   "execution_count": 57,
   "metadata": {},
   "outputs": [
    {
     "data": {
      "text/plain": [
       "'tmp\\\\data\\\\somefile.txt'"
      ]
     },
     "execution_count": 57,
     "metadata": {},
     "output_type": "execute_result"
    }
   ],
   "source": [
    "# Juntando os componentes\n",
    "os.path.join('tmp','data',os.path.basename(path))"
   ]
  },
  {
   "cell_type": "code",
   "execution_count": 59,
   "metadata": {},
   "outputs": [
    {
     "data": {
      "text/plain": [
       "'C:\\\\Users\\\\dell/Python_Cookbook_Recipes_3rd/somefile.txt'"
      ]
     },
     "execution_count": 59,
     "metadata": {},
     "output_type": "execute_result"
    }
   ],
   "source": [
    "# Expand the user's home directory\n",
    "path = '~/Python_Cookbook_Recipes_3rd/somefile.txt'\n",
    "os.path.expanduser(path)"
   ]
  },
  {
   "cell_type": "code",
   "execution_count": 60,
   "metadata": {},
   "outputs": [
    {
     "data": {
      "text/plain": [
       "('~/Python_Cookbook_Recipes_3rd/somefile', '.txt')"
      ]
     },
     "execution_count": 60,
     "metadata": {},
     "output_type": "execute_result"
    }
   ],
   "source": [
    "# Split the file extension\n",
    "os.path.splitext(path)"
   ]
  },
  {
   "cell_type": "markdown",
   "metadata": {},
   "source": [
    "**Discussão**\n",
    "\n",
    "Para qualquer manipulação de nomes de arquivos, você deve usar o módulo `os.path` em vez de tentar criar seu próprio código usando as operações de string padrão. Em parte, isso é para portabilidade. O módulo `os.path` conhece as diferenças entre Unix e Windows e pode lidar de forma confiável com nomes de arquivos como **Data/data.csv** e **Data\\data.csv**. Em segundo lugar, você realmente não deve gastar seu tempo reinventando a roda. Geralmente, é melhor usar a funcionalidade que já foi fornecida para você.\n",
    "\n",
    "Deve-se notar que o módulo `os.path` possui muitos outros recursos não mostrados nesta receita. Consulte a documentação para obter mais funções relacionadas ao teste de arquivos, links simbólicos e assim por diante.\n",
    "\n",
    "## 5.12. Testando a existência de um arquivo\n",
    "\n",
    "**Problema**\n",
    "\n",
    "Você precisa testar se existe ou não um arquivo ou diretório.\n",
    "\n",
    "**Solução**\n",
    "\n",
    "Use o módulo `os.path` para testar a existência de um arquivo ou diretório. Por exemplo:"
   ]
  },
  {
   "cell_type": "code",
   "execution_count": 62,
   "metadata": {},
   "outputs": [
    {
     "data": {
      "text/plain": [
       "True"
      ]
     },
     "execution_count": 62,
     "metadata": {},
     "output_type": "execute_result"
    }
   ],
   "source": [
    "import os\n",
    "os.path.exists('somefile.txt')"
   ]
  },
  {
   "cell_type": "code",
   "execution_count": 63,
   "metadata": {},
   "outputs": [
    {
     "data": {
      "text/plain": [
       "False"
      ]
     },
     "execution_count": 63,
     "metadata": {},
     "output_type": "execute_result"
    }
   ],
   "source": [
    "os.path.exists('spam')"
   ]
  },
  {
   "cell_type": "markdown",
   "metadata": {},
   "source": [
    "Você pode realizar mais testes para ver que tipo de arquivo pode ser. Esses testes retornam `False` se o arquivo em questão não existir:"
   ]
  },
  {
   "cell_type": "code",
   "execution_count": 64,
   "metadata": {},
   "outputs": [
    {
     "data": {
      "text/plain": [
       "True"
      ]
     },
     "execution_count": 64,
     "metadata": {},
     "output_type": "execute_result"
    }
   ],
   "source": [
    "# Is a regular file\n",
    "os.path.isfile('somefile.txt')"
   ]
  },
  {
   "cell_type": "code",
   "execution_count": 65,
   "metadata": {},
   "outputs": [
    {
     "data": {
      "text/plain": [
       "False"
      ]
     },
     "execution_count": 65,
     "metadata": {},
     "output_type": "execute_result"
    }
   ],
   "source": [
    "# Is a directory\n",
    "os.path.isdir('somefile.txt')"
   ]
  },
  {
   "cell_type": "code",
   "execution_count": 66,
   "metadata": {},
   "outputs": [
    {
     "data": {
      "text/plain": [
       "False"
      ]
     },
     "execution_count": 66,
     "metadata": {},
     "output_type": "execute_result"
    }
   ],
   "source": [
    "# Is a symbolic link\n",
    "os.path.islink('/usr/local/bin/python3')"
   ]
  },
  {
   "cell_type": "code",
   "execution_count": 67,
   "metadata": {},
   "outputs": [
    {
     "data": {
      "text/plain": [
       "'C:\\\\usr\\\\local\\\\bin\\\\python3'"
      ]
     },
     "execution_count": 67,
     "metadata": {},
     "output_type": "execute_result"
    }
   ],
   "source": [
    "# Get the file linked to\n",
    "os.path.realpath('/usr/local/bin/python3')"
   ]
  },
  {
   "cell_type": "markdown",
   "metadata": {},
   "source": [
    "Se você precisar obter metadados (por exemplo, o tamanho do arquivo ou a data de modificação), isso também está disponível no módulo `os.path`."
   ]
  },
  {
   "cell_type": "code",
   "execution_count": 69,
   "metadata": {},
   "outputs": [
    {
     "data": {
      "text/plain": [
       "589"
      ]
     },
     "execution_count": 69,
     "metadata": {},
     "output_type": "execute_result"
    }
   ],
   "source": [
    "os.path.getsize('somefile.txt')"
   ]
  },
  {
   "cell_type": "code",
   "execution_count": 70,
   "metadata": {},
   "outputs": [
    {
     "data": {
      "text/plain": [
       "1667214399.0"
      ]
     },
     "execution_count": 70,
     "metadata": {},
     "output_type": "execute_result"
    }
   ],
   "source": [
    "os.path.getmtime('somefile.txt')"
   ]
  },
  {
   "cell_type": "code",
   "execution_count": 71,
   "metadata": {},
   "outputs": [
    {
     "data": {
      "text/plain": [
       "'Mon Oct 31 07:06:39 2022'"
      ]
     },
     "execution_count": 71,
     "metadata": {},
     "output_type": "execute_result"
    }
   ],
   "source": [
    "import time\n",
    "time.ctime(os.path.getmtime('somefile.txt'))"
   ]
  },
  {
   "cell_type": "markdown",
   "metadata": {},
   "source": [
    "**Discussão**\n",
    "\n",
    "O teste de arquivos é uma operação direta usando `os.path`. Provavelmente, a única coisa que você deve estar ciente ao escrever scripts é que talvez você precise se preocupar com permissões, especialmente para operações que obtêm metadados. Por exemplo:\n",
    "~~~python\n",
    "os.path.getsize('/Users/guido/Desktop/foo.txt')\n",
    "Traceback (most recent call last):\n",
    "    File \"<stdin>\", line 1, in <module>\n",
    "    File \"/usr/local/lib/python3.3/genericpath.py\", line 49, in getsize\n",
    "      return os.stat(filename).st_size\n",
    " PermissionError: [Errno 13] Permission denied: '/Users/guido/Desktop/foo.txt'\n",
    "~~~"
   ]
  },
  {
   "cell_type": "code",
   "execution_count": null,
   "metadata": {},
   "outputs": [],
   "source": []
  }
 ],
 "metadata": {
  "kernelspec": {
   "display_name": "Python 3",
   "language": "python",
   "name": "python3"
  },
  "language_info": {
   "codemirror_mode": {
    "name": "ipython",
    "version": 3
   },
   "file_extension": ".py",
   "mimetype": "text/x-python",
   "name": "python",
   "nbconvert_exporter": "python",
   "pygments_lexer": "ipython3",
   "version": "3.8.5"
  }
 },
 "nbformat": 4,
 "nbformat_minor": 4
}
