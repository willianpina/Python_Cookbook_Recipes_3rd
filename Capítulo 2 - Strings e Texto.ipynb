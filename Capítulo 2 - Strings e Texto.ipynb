{
 "cells": [
  {
   "cell_type": "markdown",
   "metadata": {},
   "source": [
    "<h1 align=center>Capítulo 2</h1>\n",
    "<h2 align=center>Strings e Texto</h2>\n",
    "<p align=center><img src=https://www.otempo.com.br/image/contentid/policy:1.2743412:1664665976/uso-de-smartphone-e-celular050720211240-jpg.jpg?f=3x2&w=1224 width=500</p>"
   ]
  },
  {
   "cell_type": "markdown",
   "metadata": {},
   "source": [
    "Quase todo programa útil envolve algum tipo de processamento de texto, seja analisando dados ou gerando saída. Este capítulo se concentra em problemas comuns envolvendo manipulação de texto, como separar strings, pesquisar, substituir, lexing e parsing. Muitas dessas tarefas podem ser facilmente resolvidas usando métodos integrados de strings. No entanto, operações mais complicadas podem exigir o uso de expressões regulares ou a criação de um analisador completo. Todos esses tópicos são abordados. Além disso, alguns aspectos complicados de trabalhar com *Unicode* são abordados."
   ]
  },
  {
   "cell_type": "markdown",
   "metadata": {},
   "source": [
    "## 2.1. Dividindo strings em qualquer um dos vários delimitadores\n",
    "\n",
    "**Problema**\n",
    "\n",
    "Você precisa dividir uma string em campos, mas os delimitadores (e o espaçamento entre eles) não são consistentes em toda a string.\n",
    "\n",
    "**Solução**\n",
    "\n",
    "O método `split()` de objetos string é realmente destinado a casos muito simples e não permite vários delimitadores ou conta para possíveis espaços em branco ao redor dos delimitadores. Nos casos em que você precisa de um pouco mais de flexibilidade, use o método `re.split()`:"
   ]
  },
  {
   "cell_type": "code",
   "execution_count": 185,
   "metadata": {},
   "outputs": [
    {
     "data": {
      "text/plain": [
       "['asdf', 'fjdk;', 'afed', 'fjek', 'asdf', 'foo']"
      ]
     },
     "execution_count": 185,
     "metadata": {},
     "output_type": "execute_result"
    }
   ],
   "source": [
    "line = 'asdf fjdk; afed, fjek,asdf, foo'\n",
    "\n",
    "import re\n",
    "re.split(r'[:,\\s]\\s*', line)"
   ]
  },
  {
   "cell_type": "markdown",
   "metadata": {},
   "source": [
    "**Discussão**\n",
    "\n",
    "A função `re.split()` é útil porque você pode especificar vários padrões para o separador. Por exemplo, conforme mostrado na solução, o separador é uma vírgula (,), ponto e vírgula (;) ou espaço em branco seguido por qualquer quantidade de espaço em branco extra. Sempre que esse padrão é encontrado, a correspondência inteira se torna o delimitador entre quaisquer campos que estejam em ambos os lados da correspondência. O resultado é uma lista de campos, assim como com `str.split()`.\n",
    "\n",
    "Ao usar `re.split()`, você precisa ter um pouco de cuidado caso o padrão de expressão regular envolva um grupo de captura entre parênteses. Se forem usados grupos de captura, o texto correspondente também será incluído no resultado. Por exemplo, observe o que acontece aqui:"
   ]
  },
  {
   "cell_type": "code",
   "execution_count": 186,
   "metadata": {},
   "outputs": [
    {
     "data": {
      "text/plain": [
       "['asdf', ' ', 'fjdk', ';', 'afed', ',', 'fjek', ',', 'asdf', ',', 'foo']"
      ]
     },
     "execution_count": 186,
     "metadata": {},
     "output_type": "execute_result"
    }
   ],
   "source": [
    "fields = re.split(r'(;|,|\\s)\\s*', line)\n",
    "fields"
   ]
  },
  {
   "cell_type": "markdown",
   "metadata": {},
   "source": [
    "Obter os caracteres divididos pode ser útil em determinados contextos. Por exemplo, talvez você precise dos caracteres divididos posteriormente para reformar uma string de saída:"
   ]
  },
  {
   "cell_type": "code",
   "execution_count": 187,
   "metadata": {},
   "outputs": [
    {
     "data": {
      "text/plain": [
       "['asdf', 'fjdk', 'afed', 'fjek', 'asdf', 'foo']"
      ]
     },
     "execution_count": 187,
     "metadata": {},
     "output_type": "execute_result"
    }
   ],
   "source": [
    "values = fields[::2]\n",
    "delimiters = fields[1::2] + ['']\n",
    "values"
   ]
  },
  {
   "cell_type": "code",
   "execution_count": 188,
   "metadata": {},
   "outputs": [
    {
     "data": {
      "text/plain": [
       "[' ', ';', ',', ',', ',', '']"
      ]
     },
     "execution_count": 188,
     "metadata": {},
     "output_type": "execute_result"
    }
   ],
   "source": [
    "delimiters"
   ]
  },
  {
   "cell_type": "code",
   "execution_count": 189,
   "metadata": {},
   "outputs": [
    {
     "data": {
      "text/plain": [
       "'asdf fjdk;afed,fjek,asdf,foo'"
      ]
     },
     "execution_count": 189,
     "metadata": {},
     "output_type": "execute_result"
    }
   ],
   "source": [
    "# Reforma a linha usando os mesmos delimitadores\n",
    "''.join(v+d for v,d in zip(values, delimiters))"
   ]
  },
  {
   "cell_type": "markdown",
   "metadata": {},
   "source": [
    "Se você não quiser os caracteres separadores no resultado, mas ainda precisar usar parênteses para agrupar partes do padrão de expressão regular, certifique-se de usar um grupo sem captura, especificado como (?:...). Por exemplo:"
   ]
  },
  {
   "cell_type": "code",
   "execution_count": 190,
   "metadata": {},
   "outputs": [
    {
     "data": {
      "text/plain": [
       "['asdf fjdk; afed, fjek,asdf, foo']"
      ]
     },
     "execution_count": 190,
     "metadata": {},
     "output_type": "execute_result"
    }
   ],
   "source": [
    "re.split(r'(?:,|;|\\s)\\*',line)"
   ]
  },
  {
   "cell_type": "markdown",
   "metadata": {},
   "source": [
    "## 2.2. Texto correspondente no início ou no final de uma string\n",
    "\n",
    "**Problema**\n",
    "\n",
    "Você precisa verificar o início ou o fim de uma string para padrões de texto específicos, como extensões de nome de arquivo, esquemas de URL e assim por diante.\n",
    "\n",
    "**Solução**\n",
    "\n",
    "Uma maneira simples de verificar o início ou o fim de uma string é usar os métodos `str.startswith()` ou `str.endswith()`. Por exemplo:"
   ]
  },
  {
   "cell_type": "code",
   "execution_count": 191,
   "metadata": {},
   "outputs": [
    {
     "data": {
      "text/plain": [
       "True"
      ]
     },
     "execution_count": 191,
     "metadata": {},
     "output_type": "execute_result"
    }
   ],
   "source": [
    "filename ='spam.txt'\n",
    "filename.endswith('.txt')"
   ]
  },
  {
   "cell_type": "code",
   "execution_count": 192,
   "metadata": {},
   "outputs": [
    {
     "data": {
      "text/plain": [
       "False"
      ]
     },
     "execution_count": 192,
     "metadata": {},
     "output_type": "execute_result"
    }
   ],
   "source": [
    "filename.startswith('file:')"
   ]
  },
  {
   "cell_type": "code",
   "execution_count": 193,
   "metadata": {},
   "outputs": [
    {
     "data": {
      "text/plain": [
       "True"
      ]
     },
     "execution_count": 193,
     "metadata": {},
     "output_type": "execute_result"
    }
   ],
   "source": [
    "url = 'http://python.org'\n",
    "url.startswith('http')"
   ]
  },
  {
   "cell_type": "markdown",
   "metadata": {},
   "source": [
    "Se você precisar verificar várias opções, simplesmente forneça uma tupla de possibilidades para `startswith()` ou `endswith()`:"
   ]
  },
  {
   "cell_type": "code",
   "execution_count": 194,
   "metadata": {},
   "outputs": [
    {
     "data": {
      "text/plain": [
       "['.git',\n",
       " '.idea',\n",
       " '.ipynb_checkpoints',\n",
       " 'Capítulo 1 - Estruturas de Dados e Algoritmos.ipynb',\n",
       " 'Capítulo 2 - Strings e Texto.ipynb',\n",
       " 'LICENSE',\n",
       " 'README.md',\n",
       " 'somefile.txt']"
      ]
     },
     "execution_count": 194,
     "metadata": {},
     "output_type": "execute_result"
    }
   ],
   "source": [
    "import os\n",
    "filenames = os.listdir('.')\n",
    "filenames"
   ]
  },
  {
   "cell_type": "code",
   "execution_count": 195,
   "metadata": {},
   "outputs": [
    {
     "data": {
      "text/plain": [
       "['.git', 'LICENSE', 'somefile.txt']"
      ]
     },
     "execution_count": 195,
     "metadata": {},
     "output_type": "execute_result"
    }
   ],
   "source": [
    "[name for name in filenames if name.endswith(('E', 't'))]"
   ]
  },
  {
   "cell_type": "code",
   "execution_count": 196,
   "metadata": {},
   "outputs": [
    {
     "data": {
      "text/plain": [
       "True"
      ]
     },
     "execution_count": 196,
     "metadata": {},
     "output_type": "execute_result"
    }
   ],
   "source": [
    "any(name.startswith('.ipynb') for name in filenames)"
   ]
  },
  {
   "cell_type": "code",
   "execution_count": 197,
   "metadata": {},
   "outputs": [],
   "source": [
    "# Aqui outro exemplo\n",
    "\n",
    "from urllib.request import urlopen\n",
    "\n",
    "def read_data(name):\n",
    "    if name.startswith(('http:', 'https:', 'ftp:')):\n",
    "        return urlopen(name).read()\n",
    "    else:\n",
    "        with open(name) as f:\n",
    "            return f.read()\n"
   ]
  },
  {
   "cell_type": "markdown",
   "metadata": {},
   "source": [
    "Estranhamente, essa é uma parte do Python em que uma tupla é realmente necessária como entrada. Se você tiver as opções especificadas em uma lista ou conjunto, apenas certifique-se de convertê-las usando `tuple()` primeiro. Por exemplo:"
   ]
  },
  {
   "cell_type": "code",
   "execution_count": 198,
   "metadata": {},
   "outputs": [],
   "source": [
    "choices = ['http:', 'ftp:']\n",
    "url = 'http://www.python.org'"
   ]
  },
  {
   "cell_type": "code",
   "execution_count": 199,
   "metadata": {},
   "outputs": [],
   "source": [
    "# url.startswith(choices)\n",
    "\n",
    "#TypeError: startswith first arg must be str or a tuple of str, not list"
   ]
  },
  {
   "cell_type": "code",
   "execution_count": 200,
   "metadata": {},
   "outputs": [
    {
     "data": {
      "text/plain": [
       "True"
      ]
     },
     "execution_count": 200,
     "metadata": {},
     "output_type": "execute_result"
    }
   ],
   "source": [
    "url.startswith(tuple(choices))"
   ]
  },
  {
   "cell_type": "markdown",
   "metadata": {},
   "source": [
    "**Discussão**\n",
    "\n",
    "Os métodos `startswith()` e `endswith()` fornecem uma maneira muito conveniente de realizar a verificação básica de prefixos e sufixos. Operações semelhantes podem ser realizadas com fatias, mas são muito menos elegantes. Por exemplo:"
   ]
  },
  {
   "cell_type": "code",
   "execution_count": 201,
   "metadata": {},
   "outputs": [
    {
     "data": {
      "text/plain": [
       "True"
      ]
     },
     "execution_count": 201,
     "metadata": {},
     "output_type": "execute_result"
    }
   ],
   "source": [
    "filename = 'spam.txt'\n",
    "filename[-4:] == '.txt'"
   ]
  },
  {
   "cell_type": "code",
   "execution_count": 202,
   "metadata": {},
   "outputs": [
    {
     "data": {
      "text/plain": [
       "True"
      ]
     },
     "execution_count": 202,
     "metadata": {},
     "output_type": "execute_result"
    }
   ],
   "source": [
    "url = 'http://www.python.org'\n",
    "url[:5] == 'http:' or url[:6] == 'https:' or url[:4] == 'ftp:'"
   ]
  },
  {
   "cell_type": "markdown",
   "metadata": {},
   "source": [
    "Você também pode estar inclinado a usar expressões regulares como alternativa. Por exemplo:"
   ]
  },
  {
   "cell_type": "code",
   "execution_count": 203,
   "metadata": {},
   "outputs": [
    {
     "data": {
      "text/plain": [
       "<re.Match object; span=(0, 5), match='http:'>"
      ]
     },
     "execution_count": 203,
     "metadata": {},
     "output_type": "execute_result"
    }
   ],
   "source": [
    "import re\n",
    "url = 'http://www.python.org'\n",
    "re.match('http:|https:|ftp:',url)"
   ]
  },
  {
   "cell_type": "markdown",
   "metadata": {},
   "source": [
    "Isso funciona, mas geralmente é **um exagero para correspondência simples**. Usar esta receita é mais simples e funciona mais rápido.\n",
    "\n",
    "Por último, mas não menos importante, os métodos `startswith()` e `endswith()` ficam bonitos quando combinados com outras operações, como reduções de dados comuns. Por exemplo, esta declaração que verifica um diretório quanto à presença de certos tipos de arquivos:\n",
    "\n",
    "<code>\n",
    "if any(name.endswith(('.c', '.h')) for name in listdir(dirname)):\n",
    "    ...\n",
    "</code>"
   ]
  },
  {
   "cell_type": "markdown",
   "metadata": {},
   "source": [
    "## 2.3. Correspondência de strings usando padrões de caractere curinga do Shell\n",
    "\n",
    "**Problema**\n",
    "\n",
    "Você deseja corresponder o texto usando os mesmos padrões curinga que são comumente usados ao trabalhar em *shells Unix* (por exemplo, *.py, Dat\\[0-9\\]*.csv, etc.).\n",
    "\n",
    "**Solução**\n",
    "\n",
    "O módulo `fnmatch` fornece duas funções— `fnmatch()` e `fnmatchcase()` — que podem ser usadas para realizar tal correspondência. O uso é simples:"
   ]
  },
  {
   "cell_type": "code",
   "execution_count": 204,
   "metadata": {},
   "outputs": [
    {
     "data": {
      "text/plain": [
       "True"
      ]
     },
     "execution_count": 204,
     "metadata": {},
     "output_type": "execute_result"
    }
   ],
   "source": [
    "from fnmatch import fnmatch, fnmatchcase\n",
    "fnmatch('foo.txt', '*.txt')"
   ]
  },
  {
   "cell_type": "code",
   "execution_count": 205,
   "metadata": {},
   "outputs": [
    {
     "data": {
      "text/plain": [
       "True"
      ]
     },
     "execution_count": 205,
     "metadata": {},
     "output_type": "execute_result"
    }
   ],
   "source": [
    "fnmatch('foo.txt', '?oo.txt')"
   ]
  },
  {
   "cell_type": "code",
   "execution_count": 206,
   "metadata": {},
   "outputs": [
    {
     "data": {
      "text/plain": [
       "False"
      ]
     },
     "execution_count": 206,
     "metadata": {},
     "output_type": "execute_result"
    }
   ],
   "source": [
    "fnmatch('Dat45.csv', 'Data[0-9]*')"
   ]
  },
  {
   "cell_type": "code",
   "execution_count": 207,
   "metadata": {},
   "outputs": [
    {
     "data": {
      "text/plain": [
       "['Dat1.csv', 'Dat2.csv']"
      ]
     },
     "execution_count": 207,
     "metadata": {},
     "output_type": "execute_result"
    }
   ],
   "source": [
    "names = ['Dat1.csv', 'Dat2.csv', 'config.ini', 'foo.py']\n",
    "[name for name in names if fnmatch(name, 'Dat*.csv')]"
   ]
  },
  {
   "cell_type": "markdown",
   "metadata": {},
   "source": [
    "Normalmente, `fnmatch()` corresponde a padrões usando as mesmas regras de distinção entre maiúsculas e minúsculas que o sistema de arquivos subjacente do sistema (que varia de acordo com o sistema operacional). Por exemplo:"
   ]
  },
  {
   "cell_type": "code",
   "execution_count": 208,
   "metadata": {},
   "outputs": [
    {
     "data": {
      "text/plain": [
       "True"
      ]
     },
     "execution_count": 208,
     "metadata": {},
     "output_type": "execute_result"
    }
   ],
   "source": [
    "# Em MacOs\n",
    "fnmatch('foo.txt','*.TXT')\n",
    "\n",
    "# Retornaria False"
   ]
  },
  {
   "cell_type": "code",
   "execution_count": 209,
   "metadata": {},
   "outputs": [
    {
     "data": {
      "text/plain": [
       "True"
      ]
     },
     "execution_count": 209,
     "metadata": {},
     "output_type": "execute_result"
    }
   ],
   "source": [
    "# Em Windows\n",
    "fnmatch('foo.txt','*.TXT')"
   ]
  },
  {
   "cell_type": "markdown",
   "metadata": {},
   "source": [
    "Se essa distinção for importante, use `fnmatchcase()` em vez disso. Ele corresponde exatamente com base nas convenções de letras minúsculas e maiúsculas que você fornece:"
   ]
  },
  {
   "cell_type": "code",
   "execution_count": 210,
   "metadata": {},
   "outputs": [
    {
     "data": {
      "text/plain": [
       "False"
      ]
     },
     "execution_count": 210,
     "metadata": {},
     "output_type": "execute_result"
    }
   ],
   "source": [
    "fnmatchcase('foo.txt', '*.TXT')"
   ]
  },
  {
   "cell_type": "markdown",
   "metadata": {},
   "source": [
    "Um recurso muitas vezes esquecido dessas funções é seu uso potencial com processamento de dados de strings que não sejam nomes de arquivo. Por exemplo, suponha que você tenha uma lista de endereços como esta:"
   ]
  },
  {
   "cell_type": "code",
   "execution_count": 211,
   "metadata": {},
   "outputs": [],
   "source": [
    "addresses = [\n",
    "    '5412 N CLARK ST',\n",
    "    '1060 W ADDISON ST',\n",
    "    '1039 W GRANVILLE AVE',\n",
    "    '2122 N CLARK ST',\n",
    "    '4802 N BROADWAY',\n",
    "]"
   ]
  },
  {
   "cell_type": "code",
   "execution_count": 212,
   "metadata": {},
   "outputs": [
    {
     "data": {
      "text/plain": [
       "['5412 N CLARK ST', '1060 W ADDISON ST', '2122 N CLARK ST']"
      ]
     },
     "execution_count": 212,
     "metadata": {},
     "output_type": "execute_result"
    }
   ],
   "source": [
    "# Você poderia escrever compreensões de lista como esta:\n",
    "from fnmatch import fnmatchcase\n",
    "[addr for addr in addresses if fnmatchcase(addr, '*ST')]"
   ]
  },
  {
   "cell_type": "code",
   "execution_count": 213,
   "metadata": {},
   "outputs": [
    {
     "data": {
      "text/plain": [
       "['5412 N CLARK ST']"
      ]
     },
     "execution_count": 213,
     "metadata": {},
     "output_type": "execute_result"
    }
   ],
   "source": [
    "[addr for addr in addresses if fnmatchcase(addr, '54[0-9][0-9] * CLARK *')]"
   ]
  },
  {
   "cell_type": "markdown",
   "metadata": {},
   "source": [
    "**Discussão**\n",
    "\n",
    "A correspondência realizada pelo `fnmatch` fica em algum lugar entre a funcionalidade dos métodos de string simples e o poder total das expressões regulares. Se você está apenas tentando fornecer um mecanismo simples para permitir curingas nas operações de processamento de dados, geralmente é uma solução razoável.\n",
    "\n",
    "Se você está realmente tentando escrever um código que corresponda a nomes de arquivos, use o módulo `glob`. Veja a Receita 5.13.\n",
    "\n",
    "## 2.4. Correspondência e pesquisa de padrões de texto\n",
    "\n",
    "**Problema**\n",
    "\n",
    "Você deseja corresponder ou pesquisar texto para um padrão específico.\n",
    "\n",
    "**Solução**\n",
    "\n",
    "Se o texto que você está tentando corresponder for um literal simples, muitas vezes você pode usar apenas os métodos básicos de string, como `str.find()`, `str.endswith()`, `str.startswith()` ou similares. Por exemplo:"
   ]
  },
  {
   "cell_type": "code",
   "execution_count": 214,
   "metadata": {},
   "outputs": [
    {
     "data": {
      "text/plain": [
       "False"
      ]
     },
     "execution_count": 214,
     "metadata": {},
     "output_type": "execute_result"
    }
   ],
   "source": [
    "text = 'yeah, but no, but yeah, but no, but yeah'\n",
    "\n",
    "# Combinação exata\n",
    "text == 'yeah'\n"
   ]
  },
  {
   "cell_type": "code",
   "execution_count": 215,
   "metadata": {},
   "outputs": [
    {
     "data": {
      "text/plain": [
       "True"
      ]
     },
     "execution_count": 215,
     "metadata": {},
     "output_type": "execute_result"
    }
   ],
   "source": [
    "# Combina no começo ou no final\n",
    "text.startswith('yeah')"
   ]
  },
  {
   "cell_type": "code",
   "execution_count": 216,
   "metadata": {},
   "outputs": [
    {
     "data": {
      "text/plain": [
       "False"
      ]
     },
     "execution_count": 216,
     "metadata": {},
     "output_type": "execute_result"
    }
   ],
   "source": [
    "text.endswith('no')"
   ]
  },
  {
   "cell_type": "code",
   "execution_count": 217,
   "metadata": {},
   "outputs": [
    {
     "data": {
      "text/plain": [
       "10"
      ]
     },
     "execution_count": 217,
     "metadata": {},
     "output_type": "execute_result"
    }
   ],
   "source": [
    "# Procura a localização da primeira ocorrência\n",
    "text.find('no')"
   ]
  },
  {
   "cell_type": "markdown",
   "metadata": {},
   "source": [
    "Para correspondências mais complicadas, use expressões regulares e o módulo `re`. Para ilustrar a mecânica básica do uso de expressões regulares, suponha que você queira corresponder datas especificadas como dígitos, como “27/11/2012”. Aqui está uma amostra de como você faria isso:"
   ]
  },
  {
   "cell_type": "code",
   "execution_count": 218,
   "metadata": {},
   "outputs": [
    {
     "name": "stdout",
     "output_type": "stream",
     "text": [
      "Yes\n"
     ]
    }
   ],
   "source": [
    "text1 = '27/11/2012'\n",
    "text2 = '27 Nov, 2012'\n",
    "\n",
    "import re\n",
    "# Combinação simple: \\d+ significa um ou mais dígitos\n",
    "\n",
    "if re.match(r'\\d+/\\d+/\\d+', text1):\n",
    "    print('Yes')\n",
    "\n",
    "else:\n",
    "    print('No')"
   ]
  },
  {
   "cell_type": "code",
   "execution_count": 219,
   "metadata": {},
   "outputs": [
    {
     "name": "stdout",
     "output_type": "stream",
     "text": [
      "No\n"
     ]
    }
   ],
   "source": [
    "if re.match(r'\\d+/\\d+/\\d+', text2):\n",
    "    print('Yes')\n",
    "\n",
    "else:\n",
    "    print('No')"
   ]
  },
  {
   "cell_type": "markdown",
   "metadata": {},
   "source": [
    "Se você for realizar muitas correspondências usando o mesmo padrão, geralmente vale a pena pré-compilar o padrão de expressão regular em um objeto de padrão primeiro. Por exemplo:"
   ]
  },
  {
   "cell_type": "code",
   "execution_count": 220,
   "metadata": {},
   "outputs": [
    {
     "name": "stdout",
     "output_type": "stream",
     "text": [
      "yes\n"
     ]
    }
   ],
   "source": [
    "datepat = re.compile(r'\\d+/\\d+/\\d+')\n",
    "if datepat.match(text1):\n",
    "    print('yes')\n",
    "else:\n",
    "    print('no')"
   ]
  },
  {
   "cell_type": "code",
   "execution_count": 221,
   "metadata": {},
   "outputs": [
    {
     "name": "stdout",
     "output_type": "stream",
     "text": [
      "no\n"
     ]
    }
   ],
   "source": [
    "if datepat.match(text2):\n",
    "    print('yes')\n",
    "else:\n",
    "    print('no')"
   ]
  },
  {
   "cell_type": "markdown",
   "metadata": {},
   "source": [
    "`match()` sempre tenta encontrar a correspondência no início de uma string. Se você quiser pesquisar texto para todas as ocorrências de um padrão, use o método `findall()`. Por exemplo:"
   ]
  },
  {
   "cell_type": "code",
   "execution_count": 222,
   "metadata": {},
   "outputs": [
    {
     "data": {
      "text/plain": [
       "['11/27/2012', '3/13/2013']"
      ]
     },
     "execution_count": 222,
     "metadata": {},
     "output_type": "execute_result"
    }
   ],
   "source": [
    "text = 'Today is 11/27/2012. PyCon starts 3/13/2013.'\n",
    "datepat.findall(text)"
   ]
  },
  {
   "cell_type": "markdown",
   "metadata": {},
   "source": [
    "Ao definir expressões regulares, é comum introduzir grupos de captura colocando partes do padrão entre parênteses. Por exemplo:"
   ]
  },
  {
   "cell_type": "code",
   "execution_count": 223,
   "metadata": {},
   "outputs": [],
   "source": [
    "datepat = re.compile(r'(\\d+)/(\\d+)/(\\d+)')"
   ]
  },
  {
   "cell_type": "markdown",
   "metadata": {},
   "source": [
    "Os grupos de captura geralmente simplificam o processamento subsequente do texto correspondente porque o conteúdo de cada grupo pode ser extraído individualmente. Por exemplo:"
   ]
  },
  {
   "cell_type": "code",
   "execution_count": 224,
   "metadata": {},
   "outputs": [
    {
     "data": {
      "text/plain": [
       "<re.Match object; span=(0, 10), match='11/27/2012'>"
      ]
     },
     "execution_count": 224,
     "metadata": {},
     "output_type": "execute_result"
    }
   ],
   "source": [
    "m = datepat.match('11/27/2012')\n",
    "m"
   ]
  },
  {
   "cell_type": "code",
   "execution_count": 225,
   "metadata": {},
   "outputs": [
    {
     "data": {
      "text/plain": [
       "'11/27/2012'"
      ]
     },
     "execution_count": 225,
     "metadata": {},
     "output_type": "execute_result"
    }
   ],
   "source": [
    "# Extraindo o conteúdo de cada grupo\n",
    "m.group(0)"
   ]
  },
  {
   "cell_type": "code",
   "execution_count": 226,
   "metadata": {},
   "outputs": [
    {
     "data": {
      "text/plain": [
       "'11'"
      ]
     },
     "execution_count": 226,
     "metadata": {},
     "output_type": "execute_result"
    }
   ],
   "source": [
    "m.group(1)"
   ]
  },
  {
   "cell_type": "code",
   "execution_count": 227,
   "metadata": {},
   "outputs": [
    {
     "data": {
      "text/plain": [
       "'27'"
      ]
     },
     "execution_count": 227,
     "metadata": {},
     "output_type": "execute_result"
    }
   ],
   "source": [
    "m.group(2)"
   ]
  },
  {
   "cell_type": "code",
   "execution_count": 228,
   "metadata": {},
   "outputs": [
    {
     "data": {
      "text/plain": [
       "'2012'"
      ]
     },
     "execution_count": 228,
     "metadata": {},
     "output_type": "execute_result"
    }
   ],
   "source": [
    "m.group(3)"
   ]
  },
  {
   "cell_type": "code",
   "execution_count": 229,
   "metadata": {},
   "outputs": [
    {
     "data": {
      "text/plain": [
       "('11', '27', '2012')"
      ]
     },
     "execution_count": 229,
     "metadata": {},
     "output_type": "execute_result"
    }
   ],
   "source": [
    "m.groups()"
   ]
  },
  {
   "cell_type": "code",
   "execution_count": 230,
   "metadata": {},
   "outputs": [],
   "source": [
    "mes, dia, ano = m.groups() # Empacotando"
   ]
  },
  {
   "cell_type": "code",
   "execution_count": 231,
   "metadata": {},
   "outputs": [
    {
     "data": {
      "text/plain": [
       "'Today is 11/27/2012. PyCon starts 3/13/2013.'"
      ]
     },
     "execution_count": 231,
     "metadata": {},
     "output_type": "execute_result"
    }
   ],
   "source": [
    "text"
   ]
  },
  {
   "cell_type": "code",
   "execution_count": 232,
   "metadata": {},
   "outputs": [
    {
     "data": {
      "text/plain": [
       "[('11', '27', '2012'), ('3', '13', '2013')]"
      ]
     },
     "execution_count": 232,
     "metadata": {},
     "output_type": "execute_result"
    }
   ],
   "source": [
    "datepat.findall(text)"
   ]
  },
  {
   "cell_type": "code",
   "execution_count": 233,
   "metadata": {},
   "outputs": [
    {
     "name": "stdout",
     "output_type": "stream",
     "text": [
      "2012-11-27\n",
      "2013-3-13\n"
     ]
    }
   ],
   "source": [
    "for mes, dia, ano in datepat.findall(text):\n",
    "    print(f\"{ano}-{mes}-{dia}\")"
   ]
  },
  {
   "cell_type": "markdown",
   "metadata": {},
   "source": [
    "O método `findall()` pesquisa o texto e encontra todas as correspondências, retornando-as como uma lista. Se você quiser encontrar correspondências iterativamente, use o método `finditer()`. Por exemplo:"
   ]
  },
  {
   "cell_type": "code",
   "execution_count": 234,
   "metadata": {},
   "outputs": [
    {
     "name": "stdout",
     "output_type": "stream",
     "text": [
      "('11', '27', '2012')\n",
      "('3', '13', '2013')\n"
     ]
    }
   ],
   "source": [
    "for m in datepat.finditer(text):\n",
    "    print(m.groups())"
   ]
  },
  {
   "cell_type": "markdown",
   "metadata": {},
   "source": [
    "**Discussão**\n",
    "\n",
    "No entanto, esta receita ilustra o básico absoluto do uso do módulo `re` para combinar e pesquisar texto. A funcionalidade essencial é primeiro compilar um padrão usando `re.compile()` e depois usar métodos como `match()`, `findall()` ou `finditer()`.\n",
    "\n",
    "Ao especificar padrões, é relativamente comum usar strings brutas como `r'(\\d+)/(\\d+)/(\\d+)'`. Essas strings deixam o caractere de barra invertida sem interpretação, o que pode ser útil no contexto de expressões regulares. Caso contrário, você precisará usar barras invertidas duplas, como `'(\\\\d+)/(\\\\d+)/(\\\\d+)'`.\n",
    "\n",
    "Esteja ciente de que o método `match()` verifica apenas o início de uma string. É possível que corresponda a coisas que você não está esperando. Por exemplo:"
   ]
  },
  {
   "cell_type": "code",
   "execution_count": 235,
   "metadata": {},
   "outputs": [
    {
     "data": {
      "text/plain": [
       "<re.Match object; span=(0, 10), match='11/27/2012'>"
      ]
     },
     "execution_count": 235,
     "metadata": {},
     "output_type": "execute_result"
    }
   ],
   "source": [
    "m = datepat.match('11/27/2012abcdef')\n",
    "m"
   ]
  },
  {
   "cell_type": "code",
   "execution_count": 236,
   "metadata": {},
   "outputs": [
    {
     "data": {
      "text/plain": [
       "'11/27/2012'"
      ]
     },
     "execution_count": 236,
     "metadata": {},
     "output_type": "execute_result"
    }
   ],
   "source": [
    "m.group()"
   ]
  },
  {
   "cell_type": "markdown",
   "metadata": {},
   "source": [
    "Se você quiser uma correspondência exata, certifique-se de que o padrão inclua o marcador final (`$`), como a seguir:"
   ]
  },
  {
   "cell_type": "code",
   "execution_count": 237,
   "metadata": {},
   "outputs": [],
   "source": [
    "datepat = re.compile(r'(\\d+)/(\\d+)/(\\d+)$')"
   ]
  },
  {
   "cell_type": "code",
   "execution_count": 238,
   "metadata": {},
   "outputs": [],
   "source": [
    "datepat.match('11/27/2012abcdef')"
   ]
  },
  {
   "cell_type": "code",
   "execution_count": 239,
   "metadata": {},
   "outputs": [
    {
     "data": {
      "text/plain": [
       "<re.Match object; span=(0, 10), match='11/27/2012'>"
      ]
     },
     "execution_count": 239,
     "metadata": {},
     "output_type": "execute_result"
    }
   ],
   "source": [
    "datepat.match('11/27/2012')"
   ]
  },
  {
   "cell_type": "markdown",
   "metadata": {},
   "source": [
    "Por último, se você está apenas fazendo uma operação simples de correspondência/pesquisa de texto, muitas vezes você pode pular a etapa de compilação e usar funções de nível de módulo no módulo `re`. Por exemplo:"
   ]
  },
  {
   "cell_type": "code",
   "execution_count": 240,
   "metadata": {},
   "outputs": [
    {
     "data": {
      "text/plain": [
       "[('11', '27', '2012'), ('3', '13', '2013')]"
      ]
     },
     "execution_count": 240,
     "metadata": {},
     "output_type": "execute_result"
    }
   ],
   "source": [
    "re.findall(r'(\\d+)/(\\d+)/(\\d+)', text)"
   ]
  },
  {
   "cell_type": "markdown",
   "metadata": {},
   "source": [
    "Esteja ciente, porém, de que, se você for realizar muitas correspondências ou pesquisas, geralmente vale a pena compilar o padrão primeiro e usá-lo repetidamente. As funções de nível de módulo mantêm um cache de padrões compilados recentemente, portanto, não há um grande impacto no desempenho, mas você economizará algumas pesquisas e processamento extra usando seu próprio padrão compilado."
   ]
  },
  {
   "cell_type": "markdown",
   "metadata": {},
   "source": [
    "## 2.5. Pesquisando e substituindo texto\n",
    "\n",
    "**Problema**\n",
    "\n",
    "Você deseja pesquisar e substituir um padrão de texto em uma string.\n",
    "\n",
    "**Solução**\n",
    "\n",
    "Para padrões literais simples, use o método `str.replace()`. Por exemplo:"
   ]
  },
  {
   "cell_type": "code",
   "execution_count": 241,
   "metadata": {},
   "outputs": [
    {
     "data": {
      "text/plain": [
       "'sim, but no, but sim, but no, but sim'"
      ]
     },
     "execution_count": 241,
     "metadata": {},
     "output_type": "execute_result"
    }
   ],
   "source": [
    "text = 'yeah, but no, but yeah, but no, but yeah'\n",
    "text.replace('yeah', 'sim')"
   ]
  },
  {
   "cell_type": "markdown",
   "metadata": {},
   "source": [
    "Para padrões mais complicados, use as funções/métodos `sub()` no módulo `re`. Para ilustrar, suponha que você queira reescrever datas no formato “27/11/2012” como “2012-11-27”. Aqui está uma amostra de como fazê-lo:"
   ]
  },
  {
   "cell_type": "code",
   "execution_count": 242,
   "metadata": {},
   "outputs": [
    {
     "data": {
      "text/plain": [
       "'Today is 2012-11-27. PyCon starts 2013-3-13.'"
      ]
     },
     "execution_count": 242,
     "metadata": {},
     "output_type": "execute_result"
    }
   ],
   "source": [
    "text = 'Today is 11/27/2012. PyCon starts 3/13/2013.'\n",
    "\n",
    "import re\n",
    "re.sub(r'(\\d+)/(\\d+)/(\\d+)', r'\\3-\\1-\\2', text)"
   ]
  },
  {
   "cell_type": "markdown",
   "metadata": {},
   "source": [
    "O primeiro argumento para `sub()` é o padrão a ser correspondido e o segundo argumento é o padrão de substituição. Dígitos com barra invertida, como **\\3**, referem-se aos números do grupo de captura no padrão.\n",
    "\n",
    "Se você for realizar substituições repetidas do mesmo padrão, considere compilá-lo primeiro para obter um melhor desempenho. Por exemplo:"
   ]
  },
  {
   "cell_type": "code",
   "execution_count": 243,
   "metadata": {},
   "outputs": [
    {
     "data": {
      "text/plain": [
       "'Today is 11/27/2012. PyCon starts 3/13/2013.'"
      ]
     },
     "execution_count": 243,
     "metadata": {},
     "output_type": "execute_result"
    }
   ],
   "source": [
    "from calendar import month_abbr\n",
    "def change_date(m):\n",
    "    mon_name = month_abbr[int(m.group(1))]\n",
    "    return f\"{m.group(2)} {mon_name} {m.group(3)}\"\n",
    "\n",
    "datepat.sub(change_date, text)"
   ]
  },
  {
   "cell_type": "markdown",
   "metadata": {},
   "source": [
    "Como entrada, o argumento para o retorno de chamada de substituição é um objeto de correspondência, conforme retornado por `match()` ou `find()`. Use o método `.group()` para extrair partes específicas da correspondência. A função deve retornar o texto de substituição. Se você quiser saber quantas substituições foram feitas além de obter o texto de substituição, use `re.subn()`. Por exemplo:"
   ]
  },
  {
   "cell_type": "code",
   "execution_count": 244,
   "metadata": {},
   "outputs": [
    {
     "data": {
      "text/plain": [
       "'Today is 11/27/2012. PyCon starts 3/13/2013.'"
      ]
     },
     "execution_count": 244,
     "metadata": {},
     "output_type": "execute_result"
    }
   ],
   "source": [
    "newtext, n = datepat.subn(r'\\3-\\1-\\2', text)\n",
    "newtext"
   ]
  },
  {
   "cell_type": "code",
   "execution_count": 245,
   "metadata": {},
   "outputs": [
    {
     "data": {
      "text/plain": [
       "0"
      ]
     },
     "execution_count": 245,
     "metadata": {},
     "output_type": "execute_result"
    }
   ],
   "source": [
    "n"
   ]
  },
  {
   "cell_type": "markdown",
   "metadata": {},
   "source": [
    "**Discussão**\n",
    "\n",
    "Não há muito mais para pesquisar e substituir expressões regulares do que os métodos `sub()` mostrados. A parte mais complicada é especificar o padrão de expressão regular – algo que é melhor deixar como exercício para o leitor.\n",
    "\n",
    "## 2.6. Pesquisando e substituindo texto que não diferencia maiúsculas de minúsculas\n",
    "\n",
    "**Problema**\n",
    "\n",
    "Você precisa pesquisar e possivelmente substituir o texto sem diferenciar maiúsculas de minúsculas.\n",
    "\n",
    "**Solução**\n",
    "\n",
    "Para executar operações de texto que não diferenciam maiúsculas de minúsculas, você precisa usar o módulo `re` e fornecer o sinalizador `re.IGNORECASE` para várias operações. Por exemplo:"
   ]
  },
  {
   "cell_type": "code",
   "execution_count": 246,
   "metadata": {},
   "outputs": [
    {
     "data": {
      "text/plain": [
       "['PYTHON', 'python', 'Python']"
      ]
     },
     "execution_count": 246,
     "metadata": {},
     "output_type": "execute_result"
    }
   ],
   "source": [
    "text = 'UPPER PYTHON, lower python, Mixed Python'\n",
    "re.findall('python', text, flags=re.I) #re.I ou re.IGNORECASE"
   ]
  },
  {
   "cell_type": "code",
   "execution_count": 247,
   "metadata": {},
   "outputs": [
    {
     "data": {
      "text/plain": [
       "'UPPER snake, lower snake, Mixed snake'"
      ]
     },
     "execution_count": 247,
     "metadata": {},
     "output_type": "execute_result"
    }
   ],
   "source": [
    "re.sub('python', 'snake', text, flags = re.IGNORECASE)"
   ]
  },
  {
   "cell_type": "markdown",
   "metadata": {},
   "source": [
    "O último exemplo revela uma limitação de que a substituição de texto não corresponderá ao caso do texto correspondente. Se você precisar corrigir isso, talvez seja necessário usar uma função de suporte, como a seguir:"
   ]
  },
  {
   "cell_type": "code",
   "execution_count": 248,
   "metadata": {},
   "outputs": [],
   "source": [
    "def matchcase(word):\n",
    "    def replace(m):\n",
    "        text = m.group()\n",
    "        if text.isupper():\n",
    "            return word.upper()\n",
    "        elif text.islower():\n",
    "            return word.lower()\n",
    "        elif text[0].isupper():\n",
    "            return word.capitalize()\n",
    "        else:\n",
    "            return word\n",
    "    return replace"
   ]
  },
  {
   "cell_type": "markdown",
   "metadata": {},
   "source": [
    "Aqui está um exemplo de uso desta última função:"
   ]
  },
  {
   "cell_type": "code",
   "execution_count": 249,
   "metadata": {},
   "outputs": [
    {
     "data": {
      "text/plain": [
       "'UPPER SNAKE, lower snake, Mixed Snake'"
      ]
     },
     "execution_count": 249,
     "metadata": {},
     "output_type": "execute_result"
    }
   ],
   "source": [
    "re.sub('python', matchcase('snake'), text, flags=re.IGNORECASE)"
   ]
  },
  {
   "cell_type": "markdown",
   "metadata": {},
   "source": [
    "**Discussão**\n",
    "\n",
    "Para casos simples, basta fornecer o `re.IGNORECASE` para realizar a correspondência que não diferencia maiúsculas de minúsculas. No entanto, esteja ciente de que isso pode não ser suficiente para certos tipos de correspondência Unicode envolvendo dobragem de maiúsculas e minúsculas. Veja a Receita 2.10 para mais detalhes.\n",
    "\n",
    "## 2.7. Especificando uma expressão regular para a correspondência mais curta\n",
    "\n",
    "**Problema**\n",
    "\n",
    "Você está tentando corresponder a um padrão de texto usando expressões regulares, mas está identificando as correspondências mais longas possíveis de um padrão. Em vez disso, você gostaria de alterá-lo para encontrar a correspondência mais curta possível.\n",
    "\n",
    "**Solução**\n",
    "\n",
    "Esse problema geralmente surge em padrões que tentam corresponder o texto dentro de um par de delimitadores inicial e final (por exemplo, uma string entre aspas). Para ilustrar, considere este exemplo:"
   ]
  },
  {
   "cell_type": "code",
   "execution_count": 250,
   "metadata": {},
   "outputs": [
    {
     "data": {
      "text/plain": [
       "['no.']"
      ]
     },
     "execution_count": 250,
     "metadata": {},
     "output_type": "execute_result"
    }
   ],
   "source": [
    "str_pat = re.compile(r'\\\"(.*)\\\"')\n",
    "text1 = 'Computer says \"no.\"'\n",
    "\n",
    "str_pat.findall(text1)"
   ]
  },
  {
   "cell_type": "code",
   "execution_count": 251,
   "metadata": {},
   "outputs": [
    {
     "data": {
      "text/plain": [
       "['no.\" Phone says \"yes.']"
      ]
     },
     "execution_count": 251,
     "metadata": {},
     "output_type": "execute_result"
    }
   ],
   "source": [
    "text2 = 'Computer says \"no.\" Phone says \"yes.\"'\n",
    "str_pat.findall(text2)"
   ]
  },
  {
   "cell_type": "markdown",
   "metadata": {},
   "source": [
    "Neste exemplo, o padrão `r'\\\"(.*)\\\"'` está tentando corresponder ao texto entre aspas. No entanto, o operador * em uma expressão regular é ganancioso, portanto, a correspondência é baseada em encontrar a correspondência mais longa possível. \n",
    "\n",
    "Assim, no segundo exemplo envolvendo **text2**, ele corresponde incorretamente às duas strings entre aspas. Para corrigir isso, adicione o **?** modificador após o operador **\\*** no padrão, assim:"
   ]
  },
  {
   "cell_type": "code",
   "execution_count": 252,
   "metadata": {},
   "outputs": [
    {
     "data": {
      "text/plain": [
       "['no.', 'yes.']"
      ]
     },
     "execution_count": 252,
     "metadata": {},
     "output_type": "execute_result"
    }
   ],
   "source": [
    "str_pat = re.compile(r'\\\"(.*?)\\\"')\n",
    "str_pat.findall(text2)"
   ]
  },
  {
   "cell_type": "markdown",
   "metadata": {},
   "source": [
    "Isso torna a correspondência não gananciosa e produz a correspondência mais curta."
   ]
  },
  {
   "cell_type": "markdown",
   "metadata": {},
   "source": [
    "**Discussão**\n",
    "\n",
    "Esta receita aborda um dos problemas mais comuns encontrados ao escrever expressões regulares envolvendo o caractere ponto (.). Em um padrão, o ponto corresponde a qualquer caractere, exceto uma nova linha. No entanto, se você colocar entre parênteses o ponto com texto inicial e final (como uma citação), a correspondência tentará encontrar a correspondência mais longa possível para o padrão. Isso faz com que várias ocorrências do texto inicial ou final sejam ignoradas e incluídas nos resultados da correspondência mais longa. Adicionando o **?** logo após operadores como **\\*** ou **+** força o algoritmo de correspondência a procurar a correspondência mais curta possível.\n",
    "\n",
    "## 2.8. Escrevendo uma expressão regular para padrões de várias linhas\n",
    "\n",
    "**Problema**\n",
    "\n",
    "Você está tentando corresponder a um bloco de texto usando uma expressão regular, mas precisa que a correspondência abranja várias linhas.\n",
    "\n",
    "**Solução**\n",
    "\n",
    "Esse problema geralmente surge em padrões que usam o ponto **(.)** para corresponder a qualquer caractere, mas esquecem de levar em conta o fato de que ele não corresponde a novas linhas. Por exemplo, suponha que você esteja tentando corresponder comentários no estilo C:"
   ]
  },
  {
   "cell_type": "code",
   "execution_count": 253,
   "metadata": {},
   "outputs": [
    {
     "data": {
      "text/plain": [
       "[' this is a comment ']"
      ]
     },
     "execution_count": 253,
     "metadata": {},
     "output_type": "execute_result"
    }
   ],
   "source": [
    "comment = re.compile(r'/\\*(.*?)\\*/')\n",
    "text1 = '/* this is a comment */'\n",
    "text2 = '''/* this is a\n",
    "            multiline comment */\n",
    "            '''\n",
    "\n",
    "comment.findall(text1)"
   ]
  },
  {
   "cell_type": "code",
   "execution_count": 254,
   "metadata": {},
   "outputs": [
    {
     "data": {
      "text/plain": [
       "[]"
      ]
     },
     "execution_count": 254,
     "metadata": {},
     "output_type": "execute_result"
    }
   ],
   "source": [
    "comment.findall(text2)"
   ]
  },
  {
   "cell_type": "markdown",
   "metadata": {},
   "source": [
    "Para corrigir o problema, você pode adicionar suporte para novas linhas. Por exemplo:"
   ]
  },
  {
   "cell_type": "code",
   "execution_count": 255,
   "metadata": {},
   "outputs": [
    {
     "data": {
      "text/plain": [
       "[' this is a\\n            multiline comment ']"
      ]
     },
     "execution_count": 255,
     "metadata": {},
     "output_type": "execute_result"
    }
   ],
   "source": [
    "comment = re.compile(r'/\\*((?:.|\\n)*?)\\*/')\n",
    "comment.findall(text2)"
   ]
  },
  {
   "cell_type": "markdown",
   "metadata": {},
   "source": [
    "Nesse padrão, (?:.|\\n) especifica um grupo de não captura (ou seja, define um grupo para fins de correspondência, mas esse grupo não é capturado separadamente ou numerado).\n",
    "\n",
    "**Discussão**\n",
    "\n",
    "A função `re.compile()` aceita um sinalizador, `re.DOTALL`, que é útil aqui. Faz o `.` em uma expressão regular corresponde a todos os caracteres, incluindo novas linhas. Por exemplo:"
   ]
  },
  {
   "cell_type": "code",
   "execution_count": 256,
   "metadata": {},
   "outputs": [
    {
     "data": {
      "text/plain": [
       "[' this is a\\n            multiline comment ']"
      ]
     },
     "execution_count": 256,
     "metadata": {},
     "output_type": "execute_result"
    }
   ],
   "source": [
    "comment = re.compile(r'/\\*(.*?)\\*/', re.DOTALL)\n",
    "comment.findall(text2)"
   ]
  },
  {
   "cell_type": "markdown",
   "metadata": {},
   "source": [
    "Usar o sinalizador `re.DOTALL` funciona bem para casos simples, mas pode ser problemático se você estiver trabalhando com padrões extremamente complicados ou uma mistura de expressões regulares separadas que foram combinadas para fins de tokenização, conforme descrito na Receita 2.18. Se for dada uma escolha, geralmente é melhor definir seu padrão de expressão regular para que ele funcione corretamente sem a necessidade de sinalizadores extras.\n",
    "\n",
    "## 2.9. Normalizando texto Unicode para uma representação padrão\n",
    "\n",
    "**Problema**\n",
    "\n",
    "Você está trabalhando com strings Unicode, mas precisa garantir que todas as strings tenham a mesma representação subjacente.\n",
    "\n",
    "**Solução**\n",
    "\n",
    "Em Unicode, certos caracteres podem ser representados por mais de uma sequência válida de pontos de código. Para ilustrar, considere o seguinte exemplo:"
   ]
  },
  {
   "cell_type": "code",
   "execution_count": 257,
   "metadata": {},
   "outputs": [],
   "source": [
    "s1 = 'Spicy Jalape\\u00f1o'\n",
    "s2 = 'Spicy Jalapen\\u0303o'"
   ]
  },
  {
   "cell_type": "code",
   "execution_count": 258,
   "metadata": {},
   "outputs": [
    {
     "data": {
      "text/plain": [
       "'Spicy Jalapeño'"
      ]
     },
     "execution_count": 258,
     "metadata": {},
     "output_type": "execute_result"
    }
   ],
   "source": [
    "s1"
   ]
  },
  {
   "cell_type": "code",
   "execution_count": 259,
   "metadata": {},
   "outputs": [
    {
     "data": {
      "text/plain": [
       "'Spicy Jalapeño'"
      ]
     },
     "execution_count": 259,
     "metadata": {},
     "output_type": "execute_result"
    }
   ],
   "source": [
    "s2"
   ]
  },
  {
   "cell_type": "code",
   "execution_count": 260,
   "metadata": {},
   "outputs": [
    {
     "data": {
      "text/plain": [
       "False"
      ]
     },
     "execution_count": 260,
     "metadata": {},
     "output_type": "execute_result"
    }
   ],
   "source": [
    "s1 == s2"
   ]
  },
  {
   "cell_type": "code",
   "execution_count": 261,
   "metadata": {},
   "outputs": [
    {
     "data": {
      "text/plain": [
       "14"
      ]
     },
     "execution_count": 261,
     "metadata": {},
     "output_type": "execute_result"
    }
   ],
   "source": [
    "len(s1)"
   ]
  },
  {
   "cell_type": "code",
   "execution_count": 262,
   "metadata": {},
   "outputs": [
    {
     "data": {
      "text/plain": [
       "15"
      ]
     },
     "execution_count": 262,
     "metadata": {},
     "output_type": "execute_result"
    }
   ],
   "source": [
    "len(s2)"
   ]
  },
  {
   "cell_type": "markdown",
   "metadata": {},
   "source": [
    "Aqui o texto “Spicy Jalapeño” foi apresentado em duas formas. O primeiro usa o caractere “ñ” totalmente composto (U+00F1). O segundo usa a letra latina “n” seguida por um caractere de combinação “~” (U+0303).\n",
    "\n",
    "Ter múltiplas representações é um problema para programas que comparam strings. Para corrigir isso, você deve primeiro normalizar o texto em uma representação padrão usando o módulo `unicodedata`:"
   ]
  },
  {
   "cell_type": "code",
   "execution_count": 263,
   "metadata": {},
   "outputs": [],
   "source": [
    "import unicodedata\n",
    "\n",
    "t1 = unicodedata.normalize('NFC', s1)\n",
    "t2 = unicodedata.normalize('NFC', s2)"
   ]
  },
  {
   "cell_type": "code",
   "execution_count": 264,
   "metadata": {},
   "outputs": [
    {
     "data": {
      "text/plain": [
       "True"
      ]
     },
     "execution_count": 264,
     "metadata": {},
     "output_type": "execute_result"
    }
   ],
   "source": [
    "t1 == t2"
   ]
  },
  {
   "cell_type": "code",
   "execution_count": 265,
   "metadata": {},
   "outputs": [
    {
     "name": "stdout",
     "output_type": "stream",
     "text": [
      "'Spicy Jalape\\xf1o'\n"
     ]
    }
   ],
   "source": [
    "print(ascii(t1))"
   ]
  },
  {
   "cell_type": "code",
   "execution_count": 266,
   "metadata": {},
   "outputs": [
    {
     "data": {
      "text/plain": [
       "True"
      ]
     },
     "execution_count": 266,
     "metadata": {},
     "output_type": "execute_result"
    }
   ],
   "source": [
    "t3 = unicodedata.normalize('NFD', s1)\n",
    "t4 = unicodedata.normalize('NFD', s2)\n",
    "\n",
    "t3 == t4"
   ]
  },
  {
   "cell_type": "code",
   "execution_count": 267,
   "metadata": {},
   "outputs": [
    {
     "name": "stdout",
     "output_type": "stream",
     "text": [
      "'Spicy Jalapen\\u0303o'\n"
     ]
    }
   ],
   "source": [
    "print(ascii(t3))"
   ]
  },
  {
   "cell_type": "markdown",
   "metadata": {},
   "source": [
    "O primeiro argumento para `normalize()` especifica como você deseja que a string seja normalizada. **NFC** significa que os caracteres devem ser totalmente compostos (ou seja, use um único ponto de código, se possível).\n",
    "**NFD** significa que os caracteres devem ser totalmente decompostos com o uso de caracteres combinados.\n",
    "\n",
    "Python também suporta os formulários de normalização **NFKC** e **NFKD**, que adicionam recursos extras de compatibilidade para lidar com certos tipos de caracteres. Por exemplo:"
   ]
  },
  {
   "cell_type": "code",
   "execution_count": 268,
   "metadata": {},
   "outputs": [
    {
     "data": {
      "text/plain": [
       "'ﬁ'"
      ]
     },
     "execution_count": 268,
     "metadata": {},
     "output_type": "execute_result"
    }
   ],
   "source": [
    "s = '\\ufb01' # Caracter simples\n",
    "s"
   ]
  },
  {
   "cell_type": "code",
   "execution_count": 269,
   "metadata": {},
   "outputs": [
    {
     "data": {
      "text/plain": [
       "'ﬁ'"
      ]
     },
     "execution_count": 269,
     "metadata": {},
     "output_type": "execute_result"
    }
   ],
   "source": [
    "unicodedata.normalize('NFD', s)"
   ]
  },
  {
   "cell_type": "code",
   "execution_count": 270,
   "metadata": {},
   "outputs": [
    {
     "data": {
      "text/plain": [
       "'fi'"
      ]
     },
     "execution_count": 270,
     "metadata": {},
     "output_type": "execute_result"
    }
   ],
   "source": [
    "# Observe como as letras combinadas são separadas aqui\n",
    "unicodedata.normalize('NFKD', s)"
   ]
  },
  {
   "cell_type": "code",
   "execution_count": 271,
   "metadata": {},
   "outputs": [
    {
     "data": {
      "text/plain": [
       "'fi'"
      ]
     },
     "execution_count": 271,
     "metadata": {},
     "output_type": "execute_result"
    }
   ],
   "source": [
    "unicodedata.normalize('NFKC', s)"
   ]
  },
  {
   "cell_type": "markdown",
   "metadata": {},
   "source": [
    "**Discussão**\n",
    "\n",
    "A normalização é uma parte importante de qualquer código que precise garantir que processe texto Unicode de maneira sã e consistente. Isso é especialmente verdadeiro ao processar strings recebidas como parte da entrada do usuário, onde você tem pouco controle da codificação.\n",
    "\n",
    "A normalização também pode ser uma parte importante da limpeza e filtragem de texto. Por exemplo, suponha que você queira remover todos os sinais diacríticos de algum texto (possivelmente para fins de pesquisa ou correspondência):"
   ]
  },
  {
   "cell_type": "code",
   "execution_count": 272,
   "metadata": {},
   "outputs": [
    {
     "data": {
      "text/plain": [
       "'Spicy Jalapeno'"
      ]
     },
     "execution_count": 272,
     "metadata": {},
     "output_type": "execute_result"
    }
   ],
   "source": [
    "t1 = unicodedata.normalize('NFD', s1)\n",
    "''.join(c for c in t1 if not unicodedata.combining(c))"
   ]
  },
  {
   "cell_type": "markdown",
   "metadata": {},
   "source": [
    "Este último exemplo mostra outro aspecto importante do módulo `unicodedata` — ou seja, funções utilitárias para testar caracteres contra classes de caracteres. A função de `combining()` testa um caractere para ver se é um caractere de combinação. \n",
    "\n",
    "Existem outras funções no módulo para encontrar categorias de caracteres, testar dígitos e assim por diante. Unicode é obviamente um grande tópico.\n",
    "\n",
    "## 2.10. Trabalhando com caracteres Unicode em expressões regulares\n",
    "\n",
    "**Problema**\n",
    "\n",
    "Você está usando expressões regulares para processar texto, mas está preocupado com o manuseio de caracteres Unicode.\n",
    "\n",
    "**Solução**\n",
    "\n",
    "Por padrão, o módulo `re` já está programado com conhecimento rudimentar de certas classes de caracteres Unicode. Por exemplo, `\\d` já corresponde a qualquer caractere de dígito unicode:"
   ]
  },
  {
   "cell_type": "code",
   "execution_count": 273,
   "metadata": {},
   "outputs": [
    {
     "data": {
      "text/plain": [
       "<re.Match object; span=(0, 3), match='123'>"
      ]
     },
     "execution_count": 273,
     "metadata": {},
     "output_type": "execute_result"
    }
   ],
   "source": [
    "import re\n",
    "num = re.compile('\\d+')\n",
    "\n",
    "# Digitos ASCII\n",
    "num.match('123')"
   ]
  },
  {
   "cell_type": "code",
   "execution_count": 274,
   "metadata": {},
   "outputs": [
    {
     "data": {
      "text/plain": [
       "<re.Match object; span=(0, 3), match='١٢٣'>"
      ]
     },
     "execution_count": 274,
     "metadata": {},
     "output_type": "execute_result"
    }
   ],
   "source": [
    "# Digitos Arábicos\n",
    "num.match('\\u0661\\u0662\\u0663')"
   ]
  },
  {
   "cell_type": "markdown",
   "metadata": {},
   "source": [
    "Se você precisar incluir caracteres Unicode específicos em padrões, poderá usar a sequência de escape usual para caracteres Unicode (por exemplo, *\\uFFFF* ou *\\UFFFFFFF*). Por exemplo, aqui está um regex que corresponde a todos os caracteres em algumas páginas de código árabe diferentes:"
   ]
  },
  {
   "cell_type": "code",
   "execution_count": 275,
   "metadata": {},
   "outputs": [],
   "source": [
    "arabic = re.compile('[\\u0600-\\u06ff\\u0750-\\u077f\\u08a0-\\u08ff]+')"
   ]
  },
  {
   "cell_type": "markdown",
   "metadata": {},
   "source": [
    "Ao realizar operações de correspondência e pesquisa, é uma boa ideia normalizar e possivelmente sanear todo o texto para um formulário padrão primeiro (consulte a Receita 2.9). No entanto, também é importante estar atento a casos especiais. Por exemplo, considere o comportamento da correspondência sem distinção entre maiúsculas e minúsculas combinada com a dobragem de maiúsculas:"
   ]
  },
  {
   "cell_type": "code",
   "execution_count": 276,
   "metadata": {},
   "outputs": [
    {
     "data": {
      "text/plain": [
       "<re.Match object; span=(0, 6), match='straße'>"
      ]
     },
     "execution_count": 276,
     "metadata": {},
     "output_type": "execute_result"
    }
   ],
   "source": [
    "pat = re.compile('stra\\u00dfe', re.IGNORECASE)\n",
    "s = 'straße'\n",
    "\n",
    "pat.match(s)"
   ]
  },
  {
   "cell_type": "code",
   "execution_count": 277,
   "metadata": {},
   "outputs": [],
   "source": [
    "pat.match(s.upper()) # Não combina"
   ]
  },
  {
   "cell_type": "code",
   "execution_count": 278,
   "metadata": {},
   "outputs": [
    {
     "data": {
      "text/plain": [
       "'STRASSE'"
      ]
     },
     "execution_count": 278,
     "metadata": {},
     "output_type": "execute_result"
    }
   ],
   "source": [
    "s.upper()"
   ]
  },
  {
   "cell_type": "markdown",
   "metadata": {},
   "source": [
    "**Discussão**\n",
    "\n",
    "Misturar Unicode e expressões regulares geralmente é uma boa maneira de fazer sua cabeça explodir. Se você for fazer isso com seriedade, considere instalar a biblioteca regex de terceiros, que fornece suporte completo para dobra de maiúsculas e minúsculas Unicode, bem como uma variedade de outros recursos interessantes, incluindo correspondência aproximada.\n",
    "\n",
    "## 2.11. Tirando caracteres indesejados de strings\n",
    "\n",
    "**Problema**\n",
    "\n",
    "Você deseja remover caracteres indesejados, como espaços em branco, do início, fim ou meio de uma sequência de texto.\n",
    "\n",
    "**Solução**\n",
    "\n",
    "O método `strip()` pode ser usado para remover caracteres do início ou do final de uma string. `lstrip()` e `rstrip()` executam a remoção do lado esquerdo ou direito, respectivamente. Por padrão, esses métodos removem os espaços em branco, mas outros caracteres podem ser fornecidos. Por exemplo:\n"
   ]
  },
  {
   "cell_type": "code",
   "execution_count": 279,
   "metadata": {},
   "outputs": [
    {
     "data": {
      "text/plain": [
       "'olá povo'"
      ]
     },
     "execution_count": 279,
     "metadata": {},
     "output_type": "execute_result"
    }
   ],
   "source": [
    "# Retirando espaços em branco\n",
    "s = '    olá povo  \\n'\n",
    "\n",
    "s.strip()"
   ]
  },
  {
   "cell_type": "code",
   "execution_count": 280,
   "metadata": {},
   "outputs": [
    {
     "data": {
      "text/plain": [
       "'olá povo  \\n'"
      ]
     },
     "execution_count": 280,
     "metadata": {},
     "output_type": "execute_result"
    }
   ],
   "source": [
    "s.lstrip()"
   ]
  },
  {
   "cell_type": "code",
   "execution_count": 281,
   "metadata": {},
   "outputs": [
    {
     "data": {
      "text/plain": [
       "'    olá povo'"
      ]
     },
     "execution_count": 281,
     "metadata": {},
     "output_type": "execute_result"
    }
   ],
   "source": [
    "s.rstrip()"
   ]
  },
  {
   "cell_type": "code",
   "execution_count": 282,
   "metadata": {},
   "outputs": [
    {
     "data": {
      "text/plain": [
       "'Olá-----'"
      ]
     },
     "execution_count": 282,
     "metadata": {},
     "output_type": "execute_result"
    }
   ],
   "source": [
    "# Retirando um caracter específico\n",
    "t = '----Olá-----'\n",
    "\n",
    "t.lstrip('-')"
   ]
  },
  {
   "cell_type": "code",
   "execution_count": 283,
   "metadata": {},
   "outputs": [
    {
     "data": {
      "text/plain": [
       "'Olá'"
      ]
     },
     "execution_count": 283,
     "metadata": {},
     "output_type": "execute_result"
    }
   ],
   "source": [
    "t.strip('-')"
   ]
  },
  {
   "cell_type": "code",
   "execution_count": 284,
   "metadata": {},
   "outputs": [
    {
     "data": {
      "text/plain": [
       "'hello====='"
      ]
     },
     "execution_count": 284,
     "metadata": {},
     "output_type": "execute_result"
    }
   ],
   "source": [
    "# Cortando o caracter\n",
    "t = '-----hello====='\n",
    "t.lstrip('-')"
   ]
  },
  {
   "cell_type": "code",
   "execution_count": 285,
   "metadata": {},
   "outputs": [
    {
     "data": {
      "text/plain": [
       "'hello'"
      ]
     },
     "execution_count": 285,
     "metadata": {},
     "output_type": "execute_result"
    }
   ],
   "source": [
    "t.strip('-=')"
   ]
  },
  {
   "cell_type": "markdown",
   "metadata": {},
   "source": [
    "**Discussão**\n"
   ]
  },
  {
   "cell_type": "markdown",
   "metadata": {},
   "source": [
    "Os vários métodos `strip()`' são comumente usados ao ler e limpar dados para processamento posterior. Por exemplo, você pode usá-los para se livrar de espaços em branco, remover citações e outras tarefas.\n",
    "\n",
    "Esteja ciente de que a remoção não se aplica a nenhum texto no meio de uma string. Por exemplo:"
   ]
  },
  {
   "cell_type": "code",
   "execution_count": 286,
   "metadata": {},
   "outputs": [
    {
     "data": {
      "text/plain": [
       "'olá    pessoal'"
      ]
     },
     "execution_count": 286,
     "metadata": {},
     "output_type": "execute_result"
    }
   ],
   "source": [
    "s = '     olá    pessoal    \\n'\n",
    "s = s.strip()\n",
    "s"
   ]
  },
  {
   "cell_type": "markdown",
   "metadata": {},
   "source": [
    "Se você precisasse fazer algo no espaço interno, precisaria usar outra técnica, como usar o método `replace()` ou uma substituição de expressão regular. Por exemplo:"
   ]
  },
  {
   "cell_type": "code",
   "execution_count": 287,
   "metadata": {},
   "outputs": [
    {
     "data": {
      "text/plain": [
       "'olápessoal'"
      ]
     },
     "execution_count": 287,
     "metadata": {},
     "output_type": "execute_result"
    }
   ],
   "source": [
    "s.replace(' ','')"
   ]
  },
  {
   "cell_type": "code",
   "execution_count": 288,
   "metadata": {},
   "outputs": [
    {
     "data": {
      "text/plain": [
       "'olá pessoal'"
      ]
     },
     "execution_count": 288,
     "metadata": {},
     "output_type": "execute_result"
    }
   ],
   "source": [
    "import re\n",
    "re.sub('\\s+', ' ', s)"
   ]
  },
  {
   "cell_type": "markdown",
   "metadata": {},
   "source": [
    "Geralmente, você deseja combinar operações de remoção de strings com algum outro tipo de processamento iterativo, como ler linhas de dados de um arquivo. Se sim, esta é uma área onde uma expressão geradora pode ser útil. Por exemplo:\n",
    "<code>\n",
    "with open(filename) as f:\n",
    "    lines = (line.strip() for line in f)\n",
    "    for line in lines:\n",
    "        ...\n",
    "</code>\n",
    "\n",
    "Aqui, a expressão `lines = (line.strip() for line in f)` atua como um tipo de transformação de dados. É eficiente porque não lê os dados em nenhum tipo de lista temporária primeiro. Ele apenas cria um iterador onde todas as linhas produzidas têm a operação de remoção aplicada a elas.\n",
    "\n",
    "Para uma remoção ainda mais avançada, você pode recorrer ao método `translate()`.\n",
    "\n",
    "## 2.12. Sanitização e limpeza de texto\n",
    "\n",
    "**Problema**\n",
    "\n",
    "Algum script kiddie entediado inseriu o texto **“pýtĥöñ”** em um formulário em sua página da web e você gostaria de limpá-lo de alguma forma.\n",
    "\n",
    "**Solução**\n",
    "\n",
    "O problema de sanitização e limpeza de texto se aplica a uma ampla variedade de problemas envolvendo análise de texto e manipulação de dados. Em um nível muito simples, você pode usar funções básicas de string (por exemplo, `str.upper()` e `str.lower()`) para converter texto em um caso padrão. Substituições simples usando `str.replace()` ou `re.sub()` podem se concentrar na remoção ou alteração de sequências de caracteres muito específicas. Você também pode normalizar o texto usando unicode `data.normalize()`, conforme mostrado na Receita 2.9.\n",
    "\n",
    "No entanto, você pode querer levar o processo de saneamento um passo adiante. Talvez, por exemplo, você queira eliminar intervalos inteiros de caracteres ou retirar marcas diacríticas. Para fazer isso, você pode recorrer ao método `str.translate()` muitas vezes esquecido. Para ilustrar, suponha que você tenha uma string confusa como a seguinte:"
   ]
  },
  {
   "cell_type": "code",
   "execution_count": 289,
   "metadata": {},
   "outputs": [
    {
     "data": {
      "text/plain": [
       "'pýtĥöñ\\x0cis\\tawesome\\r\\n'"
      ]
     },
     "execution_count": 289,
     "metadata": {},
     "output_type": "execute_result"
    }
   ],
   "source": [
    "s = 'pýtĥöñ\\fis\\tawesome\\r\\n'\n",
    "s"
   ]
  },
  {
   "cell_type": "markdown",
   "metadata": {},
   "source": [
    "O primeiro passo é limpar o espaço em branco. Para fazer isso, faça uma pequena tabela de tradução e use `translate()`:"
   ]
  },
  {
   "cell_type": "code",
   "execution_count": 290,
   "metadata": {},
   "outputs": [
    {
     "data": {
      "text/plain": [
       "'pýtĥöñ is awesome\\n'"
      ]
     },
     "execution_count": 290,
     "metadata": {},
     "output_type": "execute_result"
    }
   ],
   "source": [
    "remap = {\n",
    "    ord('\\t') : ' ',\n",
    "    ord('\\f') : ' ',\n",
    "    ord('\\r') : None # Deletado\n",
    "}\n",
    "\n",
    "a = s.translate(remap)\n",
    "a"
   ]
  },
  {
   "cell_type": "markdown",
   "metadata": {},
   "source": [
    "Como você pode ver aqui, caracteres de espaço em branco como **\\t** e **\\f** foram remapeados para um único espaço. O retorno de **\\r** foi excluído completamente. Você pode levar essa ideia de remapeamento um passo adiante e construir tabelas muito maiores. Por exemplo, vamos remover todos os caracteres combinados:"
   ]
  },
  {
   "cell_type": "code",
   "execution_count": 291,
   "metadata": {},
   "outputs": [
    {
     "data": {
      "text/plain": [
       "'pýtĥöñ is awesome\\n'"
      ]
     },
     "execution_count": 291,
     "metadata": {},
     "output_type": "execute_result"
    }
   ],
   "source": [
    "import unicodedata\n",
    "import sys\n",
    "\n",
    "cmb_chrs = dict.fromkeys(c for c in range(sys.maxunicode)\n",
    "                         if unicodedata.combining(chr(c)))\n",
    "\n",
    "b = unicodedata.normalize('NFD', a)\n",
    "b"
   ]
  },
  {
   "cell_type": "code",
   "execution_count": 292,
   "metadata": {},
   "outputs": [
    {
     "data": {
      "text/plain": [
       "'python is awesome\\n'"
      ]
     },
     "execution_count": 292,
     "metadata": {},
     "output_type": "execute_result"
    }
   ],
   "source": [
    "b.translate(cmb_chrs)"
   ]
  },
  {
   "cell_type": "markdown",
   "metadata": {},
   "source": [
    "Neste último exemplo, um dicionário mapeando cada caractere de combinação Unicode para **None** é criado usando `dict.fromkeys()`.\n",
    "\n",
    "A entrada original é então normalizada em uma forma decomposta usando `unicodedata.normalize()`. A partir daí, a função de tradução é usada para excluir todos os acentos. Técnicas semelhantes podem ser usadas para remover outros tipos de caracteres (por exemplo, caracteres de controle, etc.).\n",
    "\n",
    "Como outro exemplo, aqui está uma tabela de tradução que mapeia todos os caracteres de dígitos decimais Unicode para seu equivalente em ASCII:"
   ]
  },
  {
   "cell_type": "code",
   "execution_count": 293,
   "metadata": {},
   "outputs": [
    {
     "data": {
      "text/plain": [
       "630"
      ]
     },
     "execution_count": 293,
     "metadata": {},
     "output_type": "execute_result"
    }
   ],
   "source": [
    "digitmap = { c: ord('0') + unicodedata.digit(chr(c)) for c in range(sys.maxunicode)\n",
    "            if unicodedata.category(chr(c)) == 'Nd' }\n",
    "len(digitmap)"
   ]
  },
  {
   "cell_type": "code",
   "execution_count": 294,
   "metadata": {},
   "outputs": [
    {
     "data": {
      "text/plain": [
       "'123'"
      ]
     },
     "execution_count": 294,
     "metadata": {},
     "output_type": "execute_result"
    }
   ],
   "source": [
    "# Dígitos arábicos\n",
    "\n",
    "x = '\\u0661\\u0662\\u0663'\n",
    "x.translate(digitmap)"
   ]
  },
  {
   "cell_type": "markdown",
   "metadata": {},
   "source": [
    "Ainda outra técnica para limpar texto envolve funções de decodificação e codificação de I/O. A idéia aqui é primeiro fazer uma limpeza preliminar do texto e, em seguida, executá-lo através de uma combinação de operações `encode()` ou `decode()` para remover ou alterá-lo. Por exemplo:"
   ]
  },
  {
   "cell_type": "code",
   "execution_count": 295,
   "metadata": {},
   "outputs": [
    {
     "data": {
      "text/plain": [
       "'pýtĥöñ is awesome\\n'"
      ]
     },
     "execution_count": 295,
     "metadata": {},
     "output_type": "execute_result"
    }
   ],
   "source": [
    "a"
   ]
  },
  {
   "cell_type": "code",
   "execution_count": 296,
   "metadata": {},
   "outputs": [
    {
     "data": {
      "text/plain": [
       "'python is awesome\\n'"
      ]
     },
     "execution_count": 296,
     "metadata": {},
     "output_type": "execute_result"
    }
   ],
   "source": [
    "b = unicodedata.normalize('NFD', a)\n",
    "b.encode('ascii', 'ignore').decode('ascii')"
   ]
  },
  {
   "cell_type": "markdown",
   "metadata": {},
   "source": [
    "Aqui o processo de normalização decompôs o texto original em caracteres juntamente com caracteres de combinação separados. A codificação/decodificação ASCII subsequente simplesmente descartou todos esses caracteres de uma só vez. Naturalmente, isso só funcionaria se obter uma representação ASCII fosse o objetivo final.\n",
    "\n",
    "**Discussão**\n",
    "\n",
    "Um grande problema com a limpeza de texto pode ser o desempenho do tempo de execução. *Como regra geral, quanto mais simples, mais rápido será executado*. Para substituições simples, o método `str.replace()` geralmente é a abordagem mais rápida, mesmo que você precise chamá-lo várias vezes. Por exemplo, para limpar o espaço em branco, você pode usar um código como este:"
   ]
  },
  {
   "cell_type": "code",
   "execution_count": 297,
   "metadata": {},
   "outputs": [],
   "source": [
    "def clean_spaces(s):\n",
    "    s = s.replace('\\r', '')\n",
    "    s = s.replace('\\t', ' ')\n",
    "    s = s.replace('\\f', ' ')\n",
    "    return s"
   ]
  },
  {
   "cell_type": "markdown",
   "metadata": {},
   "source": [
    "Se você tentar, verá que é um pouco mais rápido do que usar `translate()` ou uma abordagem usando uma expressão regular.\n",
    "\n",
    "Por outro lado, o método `translate()` é muito rápido se você precisar executar qualquer tipo de remapeamento ou exclusão não trivial de caractere para caractere.\n",
    "\n",
    "No quadro geral, o desempenho é algo que você terá que estudar mais em sua aplicação específica. Infelizmente, é impossível sugerir uma técnica específica que funcione melhor para todos os casos, então tente diferentes abordagens e meça-a.\n",
    "\n",
    "Embora o foco desta receita tenha sido o texto, técnicas semelhantes podem ser aplicadas a bytes, incluindo substituições simples, tradução e expressões regulares.\n",
    "\n",
    "## 2.13. Alinhando Strings de Texto\n",
    "\n",
    "**Problema**\n",
    "\n",
    "Você precisa formatar o texto com algum tipo de alinhamento aplicado.\n",
    "\n",
    "**Solução**\n",
    "\n",
    "Para alinhamento básico de strings, os métodos `ljust()`, `rjust()` e `center()` de strings podem ser usados. Por exemplo:"
   ]
  },
  {
   "cell_type": "code",
   "execution_count": 298,
   "metadata": {},
   "outputs": [
    {
     "data": {
      "text/plain": [
       "'Olá Pessoal         '"
      ]
     },
     "execution_count": 298,
     "metadata": {},
     "output_type": "execute_result"
    }
   ],
   "source": [
    "text = 'Olá Pessoal'\n",
    "text.ljust(20)"
   ]
  },
  {
   "cell_type": "code",
   "execution_count": 299,
   "metadata": {},
   "outputs": [
    {
     "data": {
      "text/plain": [
       "'         Olá Pessoal'"
      ]
     },
     "execution_count": 299,
     "metadata": {},
     "output_type": "execute_result"
    }
   ],
   "source": [
    "text.rjust(20)"
   ]
  },
  {
   "cell_type": "code",
   "execution_count": 300,
   "metadata": {},
   "outputs": [
    {
     "data": {
      "text/plain": [
       "'    Olá Pessoal     '"
      ]
     },
     "execution_count": 300,
     "metadata": {},
     "output_type": "execute_result"
    }
   ],
   "source": [
    "text.center(20)"
   ]
  },
  {
   "cell_type": "markdown",
   "metadata": {},
   "source": [
    "Todos esses métodos também aceitam um caractere de preenchimento opcional. Por exemplo:"
   ]
  },
  {
   "cell_type": "code",
   "execution_count": 301,
   "metadata": {},
   "outputs": [
    {
     "data": {
      "text/plain": [
       "'=========Olá Pessoal'"
      ]
     },
     "execution_count": 301,
     "metadata": {},
     "output_type": "execute_result"
    }
   ],
   "source": [
    "text.rjust(20, '=')"
   ]
  },
  {
   "cell_type": "code",
   "execution_count": 302,
   "metadata": {},
   "outputs": [
    {
     "data": {
      "text/plain": [
       "'====Olá Pessoal====='"
      ]
     },
     "execution_count": 302,
     "metadata": {},
     "output_type": "execute_result"
    }
   ],
   "source": [
    "text.center(20, '=')"
   ]
  },
  {
   "cell_type": "markdown",
   "metadata": {},
   "source": [
    "A função `format()` também pode ser usada para alinhar facilmente as coisas. Tudo o que você precisa fazer é usar os caracteres <, > ou ^ junto com a largura desejada. Por exemplo:"
   ]
  },
  {
   "cell_type": "code",
   "execution_count": 303,
   "metadata": {},
   "outputs": [
    {
     "data": {
      "text/plain": [
       "'         Olá Pessoal'"
      ]
     },
     "execution_count": 303,
     "metadata": {},
     "output_type": "execute_result"
    }
   ],
   "source": [
    "format(text, '>20')"
   ]
  },
  {
   "cell_type": "code",
   "execution_count": 304,
   "metadata": {},
   "outputs": [
    {
     "data": {
      "text/plain": [
       "'Olá Pessoal         '"
      ]
     },
     "execution_count": 304,
     "metadata": {},
     "output_type": "execute_result"
    }
   ],
   "source": [
    "format(text, '<20')"
   ]
  },
  {
   "cell_type": "code",
   "execution_count": 305,
   "metadata": {},
   "outputs": [
    {
     "data": {
      "text/plain": [
       "'    Olá Pessoal     '"
      ]
     },
     "execution_count": 305,
     "metadata": {},
     "output_type": "execute_result"
    }
   ],
   "source": [
    "format(text, '^20')"
   ]
  },
  {
   "cell_type": "markdown",
   "metadata": {},
   "source": [
    "Se você quiser incluir um caractere de preenchimento diferente de um espaço, especifique-o antes do caractere de alinhamento:"
   ]
  },
  {
   "cell_type": "code",
   "execution_count": 306,
   "metadata": {},
   "outputs": [
    {
     "data": {
      "text/plain": [
       "'=========Olá Pessoal'"
      ]
     },
     "execution_count": 306,
     "metadata": {},
     "output_type": "execute_result"
    }
   ],
   "source": [
    "format(text, '=>20s')"
   ]
  },
  {
   "cell_type": "code",
   "execution_count": 307,
   "metadata": {},
   "outputs": [
    {
     "data": {
      "text/plain": [
       "'****Olá Pessoal*****'"
      ]
     },
     "execution_count": 307,
     "metadata": {},
     "output_type": "execute_result"
    }
   ],
   "source": [
    "format(text, '*^20s')"
   ]
  },
  {
   "cell_type": "markdown",
   "metadata": {},
   "source": [
    "Esses códigos de formato também podem ser usados no método `format()` ao formatar vários valores. Por exemplo:"
   ]
  },
  {
   "cell_type": "code",
   "execution_count": 308,
   "metadata": {},
   "outputs": [
    {
     "data": {
      "text/plain": [
       "'       Olá    Pessoal'"
      ]
     },
     "execution_count": 308,
     "metadata": {},
     "output_type": "execute_result"
    }
   ],
   "source": [
    "'{:>10s} {:>10s}'.format('Olá', 'Pessoal')"
   ]
  },
  {
   "cell_type": "markdown",
   "metadata": {},
   "source": [
    "Um benefício de `format()` é que ele não é específico para strings. Funciona com qualquer valor, tornando-o mais geral. Por exemplo, você pode usá-lo com números:"
   ]
  },
  {
   "cell_type": "code",
   "execution_count": 309,
   "metadata": {},
   "outputs": [
    {
     "data": {
      "text/plain": [
       "'    1.2345'"
      ]
     },
     "execution_count": 309,
     "metadata": {},
     "output_type": "execute_result"
    }
   ],
   "source": [
    "x = 1.2345\n",
    "format(x, '>10')"
   ]
  },
  {
   "cell_type": "code",
   "execution_count": 310,
   "metadata": {},
   "outputs": [
    {
     "data": {
      "text/plain": [
       "'   1.23   '"
      ]
     },
     "execution_count": 310,
     "metadata": {},
     "output_type": "execute_result"
    }
   ],
   "source": [
    "format(x, '^10.2f')"
   ]
  },
  {
   "cell_type": "markdown",
   "metadata": {},
   "source": [
    "**Discussão**\n",
    "\n",
    "No código mais antigo, você também verá o operador `%` usado para formatar o texto. Por exemplo:"
   ]
  },
  {
   "cell_type": "code",
   "execution_count": 311,
   "metadata": {},
   "outputs": [
    {
     "data": {
      "text/plain": [
       "'         Olá Pessoal'"
      ]
     },
     "execution_count": 311,
     "metadata": {},
     "output_type": "execute_result"
    }
   ],
   "source": [
    "'%20s' % text"
   ]
  },
  {
   "cell_type": "code",
   "execution_count": 312,
   "metadata": {},
   "outputs": [
    {
     "data": {
      "text/plain": [
       "'Olá Pessoal         '"
      ]
     },
     "execution_count": 312,
     "metadata": {},
     "output_type": "execute_result"
    }
   ],
   "source": [
    "'%-20s' % text"
   ]
  },
  {
   "cell_type": "markdown",
   "metadata": {},
   "source": [
    "No entanto, em um novo código, você provavelmente deve preferir o uso da função ou método `format()`. `format()` é muito mais poderoso do que o fornecido com o operador `%`.\n",
    "\n",
    "Além disso, `format()` tem um propósito mais geral do que usar o método `jlust()`, `rjust()` ou `center()` de strings, pois funciona com qualquer tipo de objeto.\n",
    "\n",
    "Para obter uma lista completa de recursos disponíveis com a função `format()`, consulte a documentação online do Python.\n",
    "\n",
    "## 2.14. Combinando e Concatenando Strings\n",
    "\n",
    "**Problema**\n",
    "\n",
    "Você deseja combinar várias pequenas strings em uma string maior.\n",
    "\n",
    "**Solução**\n",
    "\n",
    "Se as strings que você deseja combinar forem encontradas em uma sequência ou iterável, a maneira mais rápida de combiná-las é usar o método `join()`. Por exemplo:"
   ]
  },
  {
   "cell_type": "code",
   "execution_count": 313,
   "metadata": {},
   "outputs": [
    {
     "data": {
      "text/plain": [
       "'Is Chicago Not Chicago?'"
      ]
     },
     "execution_count": 313,
     "metadata": {},
     "output_type": "execute_result"
    }
   ],
   "source": [
    "parts = ['Is', 'Chicago', 'Not', 'Chicago?']\n",
    "' '.join(parts)"
   ]
  },
  {
   "cell_type": "code",
   "execution_count": 314,
   "metadata": {},
   "outputs": [
    {
     "data": {
      "text/plain": [
       "'Is,Chicago,Not,Chicago?'"
      ]
     },
     "execution_count": 314,
     "metadata": {},
     "output_type": "execute_result"
    }
   ],
   "source": [
    "','.join(parts)"
   ]
  },
  {
   "cell_type": "code",
   "execution_count": 315,
   "metadata": {},
   "outputs": [
    {
     "data": {
      "text/plain": [
       "'IsChicagoNotChicago?'"
      ]
     },
     "execution_count": 315,
     "metadata": {},
     "output_type": "execute_result"
    }
   ],
   "source": [
    "''.join(parts)"
   ]
  },
  {
   "cell_type": "markdown",
   "metadata": {},
   "source": [
    "À primeira vista, essa sintaxe pode parecer muito estranha, mas a operação `join()` é especificada como um método em strings. Em parte, isso ocorre porque os objetos que você deseja unir podem vir de qualquer número de sequências de dados diferentes (por exemplo, listas, tuplas, dicts, arquivos, conjuntos ou geradores), e seria redundante ter `join()` implementado como um método em todos esses objetos separadamente. Então, você apenas especifica a string separadora que deseja e usa o método `join()` nela para colar os fragmentos de texto.\n",
    "\n",
    "Se você está combinando apenas algumas strings, usar `+` geralmente funciona bem o suficiente:"
   ]
  },
  {
   "cell_type": "code",
   "execution_count": 316,
   "metadata": {},
   "outputs": [
    {
     "data": {
      "text/plain": [
       "'Is Chicago Not Chicago?'"
      ]
     },
     "execution_count": 316,
     "metadata": {},
     "output_type": "execute_result"
    }
   ],
   "source": [
    "a = 'Is Chicago'\n",
    "b = 'Not Chicago?'\n",
    "a + ' ' + b"
   ]
  },
  {
   "cell_type": "markdown",
   "metadata": {},
   "source": [
    "O operador `+` também funciona bem como substituto para operações de formatação de strings mais complicadas. Por exemplo:"
   ]
  },
  {
   "cell_type": "code",
   "execution_count": 317,
   "metadata": {},
   "outputs": [
    {
     "name": "stdout",
     "output_type": "stream",
     "text": [
      "Is Chicago Not Chicago?\n"
     ]
    }
   ],
   "source": [
    "print('{} {}'.format(a,b))"
   ]
  },
  {
   "cell_type": "code",
   "execution_count": 318,
   "metadata": {},
   "outputs": [
    {
     "name": "stdout",
     "output_type": "stream",
     "text": [
      "Is Chicago Not Chicago?\n"
     ]
    }
   ],
   "source": [
    "print(a + ' ' + b )"
   ]
  },
  {
   "cell_type": "markdown",
   "metadata": {},
   "source": [
    "Se você estiver tentando combinar literais de string no código-fonte, basta colocá-los adjacentes um ao outro sem o operador `+`. Por exemplo:"
   ]
  },
  {
   "cell_type": "code",
   "execution_count": 319,
   "metadata": {},
   "outputs": [
    {
     "data": {
      "text/plain": [
       "'OláPessoal'"
      ]
     },
     "execution_count": 319,
     "metadata": {},
     "output_type": "execute_result"
    }
   ],
   "source": [
    "a = 'Olá' 'Pessoal'\n",
    "a"
   ]
  },
  {
   "cell_type": "markdown",
   "metadata": {},
   "source": [
    "**Discussão**\n",
    "\n",
    "Unir strings pode não parecer avançado o suficiente para garantir uma receita inteira, mas geralmente é uma área em que os programadores fazem escolhas de programação que afetam severamente o desempenho de seu código.\n",
    "\n",
    "A coisa mais importante a saber é que usar o operador `+` para juntar muitas strings é extremamente ineficiente devido às cópias de memória e coleta de lixo que ocorre. Em particular, você nunca quer escrever código que una strings assim:"
   ]
  },
  {
   "cell_type": "code",
   "execution_count": 320,
   "metadata": {},
   "outputs": [],
   "source": [
    "parts = ['Is', 'Chicago', 'Not', 'Chicago?']\n",
    "s = ''\n",
    "for p in parts:\n",
    "    s +=p"
   ]
  },
  {
   "cell_type": "markdown",
   "metadata": {},
   "source": [
    "Isso é um pouco mais lento do que usar o método `join()`, principalmente porque cada operação `+=` cria um novo objeto string. É melhor apenas coletar todas as partes primeiro e depois juntá-las no final.\n",
    "\n",
    "Um truque relacionado (e bem legal) é a conversão de dados em strings e concatenação ao mesmo tempo usando uma expressão geradora, conforme descrito na Receita 1.19. Por exemplo:"
   ]
  },
  {
   "cell_type": "code",
   "execution_count": 321,
   "metadata": {},
   "outputs": [
    {
     "data": {
      "text/plain": [
       "'ACME,50,91.1'"
      ]
     },
     "execution_count": 321,
     "metadata": {},
     "output_type": "execute_result"
    }
   ],
   "source": [
    "data = ['ACME', 50, 91.1]\n",
    "','.join(str(d) for d in data)"
   ]
  },
  {
   "cell_type": "markdown",
   "metadata": {},
   "source": [
    "Fique atento também a concatenações de strings desnecessárias. Às vezes, os programadores se empolgam com a concatenação quando não é tecnicamente necessário. Por exemplo, ao imprimir:"
   ]
  },
  {
   "cell_type": "code",
   "execution_count": 322,
   "metadata": {},
   "outputs": [
    {
     "name": "stdout",
     "output_type": "stream",
     "text": [
      "João:Carlos:Pedro\n",
      "\n",
      "João:Carlos:Pedro\n",
      "\n",
      "João:Carlos:Pedro\n"
     ]
    }
   ],
   "source": [
    "a = 'João'\n",
    "b = 'Carlos'\n",
    "c = 'Pedro'\n",
    "print(a + ':' + b + ':' + c) # Feio \n",
    "print('')\n",
    "print(':'.join([a, b, c])) # Ainda feio\n",
    "print('')\n",
    "print(a, b, c, sep=':') # Melhor um pouco!!!"
   ]
  },
  {
   "cell_type": "markdown",
   "metadata": {},
   "source": [
    "Misturar operações de I/O e concatenação de strings é algo que pode exigir estudo em sua aplicação. Por exemplo, considere os dois fragmentos de código a seguir:\n",
    "\n",
    "<code>\n",
    "\\# Versão 1 (concatenação de strings)\n",
    "f.write(chunk1 + chunk2)\n",
    "    \n",
    "\\# Versão 2 (operações de E/S separadas)\n",
    "f.write(chunk1)\n",
    "f.write(chunk2)\n",
    "</code>\n",
    "\n",
    "Se as duas strings forem pequenas, a primeira versão poderá oferecer um desempenho muito melhor devido ao custo inerente de realizar uma chamada de sistema de I/O. Por outro lado, se as duas strings forem grandes, a segunda versão pode ser mais eficiente, pois evita fazer um grande resultado temporário e copiar grandes blocos de memória. Novamente, deve-se enfatizar que isso é algo que você teria que estudar em relação aos seus próprios dados para determinar qual tem o melhor desempenho.\n",
    "\n",
    "Por último, mas não menos importante, se você estiver escrevendo código que está construindo saída de muitas pequenas strings, considere escrever esse código como uma função geradora, usando `yield` para emitir fragmentos. Por exemplo:"
   ]
  },
  {
   "cell_type": "code",
   "execution_count": 323,
   "metadata": {},
   "outputs": [],
   "source": [
    "def sample():\n",
    "    yield 'Is'\n",
    "    yield 'Chicago'\n",
    "    yield 'Not'\n",
    "    yield 'Chicago?'"
   ]
  },
  {
   "cell_type": "markdown",
   "metadata": {},
   "source": [
    "O interessante dessa abordagem é que ela não faz nenhuma suposição sobre como os fragmentos devem ser reunidos. Por exemplo, você pode simplesmente juntar os fragmentos usando `join()`:"
   ]
  },
  {
   "cell_type": "code",
   "execution_count": 324,
   "metadata": {},
   "outputs": [
    {
     "data": {
      "text/plain": [
       "'Is Chicago Not Chicago?'"
      ]
     },
     "execution_count": 324,
     "metadata": {},
     "output_type": "execute_result"
    }
   ],
   "source": [
    "' '.join(sample())"
   ]
  },
  {
   "cell_type": "markdown",
   "metadata": {},
   "source": [
    "Ou você pode redirecionar os fragmentos para I/O:\n",
    "<code>\n",
    "for part in sample():\n",
    "    f.write(part)\n",
    "</code>\n",
    "\n",
    "Ou você pode criar algum tipo de esquema híbrido que seja inteligente para combinar operações de I/O:\n",
    "\n",
    "<code>\n",
    "def combine(source, maxsize):\n",
    "    parts = []\n",
    "    size = 0\n",
    "    for part in source:\n",
    "        parts.append(part)\n",
    "        size += len(part)\n",
    "        if size > maxsize:\n",
    "            yield ''.join(parts)\n",
    "            parts = []\n",
    "            size = 0\n",
    "    yield ''.join(parts)\n",
    "\n",
    "for part in combine(sample(), 32768):\n",
    "    f.write(part)   \n",
    "</code>\n",
    "\n",
    "O ponto chave é que a função geradora original não precisa conhecer os detalhes precisos. Ele apenas cede as partes.\n",
    "\n",
    "## 2.15. Interpolando Variáveis em Strings\n",
    "\n",
    "**Problema**\n",
    "\n",
    "Você deseja criar uma string na qual os nomes das variáveis incorporadas sejam substituídos por uma representação em string do valor de uma variável.\n",
    "\n",
    "**Solução**\n",
    "\n",
    "Python não tem suporte direto para simplesmente substituir valores de variáveis em strings. No entanto, esse recurso pode ser aproximado usando o método `format()` de strings. Por exemplo:"
   ]
  },
  {
   "cell_type": "code",
   "execution_count": 325,
   "metadata": {},
   "outputs": [
    {
     "data": {
      "text/plain": [
       "'João has 40 mensages.'"
      ]
     },
     "execution_count": 325,
     "metadata": {},
     "output_type": "execute_result"
    }
   ],
   "source": [
    "s = '{name} has {n} mensages.'\n",
    "s.format(name='João', n=40)"
   ]
  },
  {
   "cell_type": "markdown",
   "metadata": {},
   "source": [
    "Alternativamente, se os valores a serem substituídos forem realmente encontrados em variáveis, você pode usar a combinação de `format_map()` e `vars()`, como a seguir:"
   ]
  },
  {
   "cell_type": "code",
   "execution_count": 326,
   "metadata": {},
   "outputs": [
    {
     "data": {
      "text/plain": [
       "'João has 40 mensages.'"
      ]
     },
     "execution_count": 326,
     "metadata": {},
     "output_type": "execute_result"
    }
   ],
   "source": [
    "name = 'João'\n",
    "n = 40\n",
    "\n",
    "s.format_map(vars())"
   ]
  },
  {
   "cell_type": "markdown",
   "metadata": {},
   "source": [
    "Um recurso sutil de `vars()` é que ele também funciona com instâncias. Por exemplo:"
   ]
  },
  {
   "cell_type": "code",
   "execution_count": 327,
   "metadata": {},
   "outputs": [
    {
     "data": {
      "text/plain": [
       "'João has 40 mensages.'"
      ]
     },
     "execution_count": 327,
     "metadata": {},
     "output_type": "execute_result"
    }
   ],
   "source": [
    "class Info:\n",
    "    def __init__(self, name, n):\n",
    "        self.name = name\n",
    "        self.n = n\n",
    "\n",
    "a = Info('João',40)\n",
    "s.format_map(vars(a))"
   ]
  },
  {
   "cell_type": "markdown",
   "metadata": {},
   "source": [
    "Uma desvantagem de `format()` e `format_map()` é que eles não lidam bem com valores ausentes. Por exemplo:\n",
    "\n",
    "<code>\n",
    ">>> s.format(name='Guido')\n",
    "Traceback (most recent call last):\n",
    "    File \"<stdin>\", line 1, in <module>\n",
    "KeyError: 'n'\n",
    ">>>\n",
    "</code>"
   ]
  },
  {
   "cell_type": "markdown",
   "metadata": {},
   "source": [
    "Uma maneira de evitar isso é definir uma classe de dicionário alternativa com um método `__missing__()`, como no seguinte:"
   ]
  },
  {
   "cell_type": "code",
   "execution_count": 328,
   "metadata": {},
   "outputs": [],
   "source": [
    "class safesub(dict):\n",
    "    def __missing__(self, key):\n",
    "        return '{' + key + '}'\n"
   ]
  },
  {
   "cell_type": "markdown",
   "metadata": {},
   "source": [
    "Agora use esta classe para envolver as entradas para `format_map()`:"
   ]
  },
  {
   "cell_type": "code",
   "execution_count": 329,
   "metadata": {},
   "outputs": [],
   "source": [
    "del n # Tenha certeza que <n> está indefinido"
   ]
  },
  {
   "cell_type": "code",
   "execution_count": 330,
   "metadata": {},
   "outputs": [
    {
     "data": {
      "text/plain": [
       "'João has {n} mensages.'"
      ]
     },
     "execution_count": 330,
     "metadata": {},
     "output_type": "execute_result"
    }
   ],
   "source": [
    "s.format_map(safesub(vars()))"
   ]
  },
  {
   "cell_type": "markdown",
   "metadata": {},
   "source": [
    "Se você estiver executando essas etapas com frequência em seu código, poderá ocultar o processo de substituição de variável por trás de uma pequena função de utilitário que emprega o chamado “hack de quadro”. Por exemplo:"
   ]
  },
  {
   "cell_type": "code",
   "execution_count": 331,
   "metadata": {},
   "outputs": [],
   "source": [
    "import sys\n",
    "\n",
    "def sub(text):\n",
    "    return text.format_map(safesub(sys._getframe(1).f_locals))"
   ]
  },
  {
   "cell_type": "markdown",
   "metadata": {},
   "source": [
    "Agora você pode digitar coisas assim:"
   ]
  },
  {
   "cell_type": "code",
   "execution_count": 332,
   "metadata": {},
   "outputs": [
    {
     "name": "stdout",
     "output_type": "stream",
     "text": [
      "Hello João\n"
     ]
    }
   ],
   "source": [
    "name = 'João'\n",
    "n = 37\n",
    "\n",
    "print(sub('Hello {name}'))"
   ]
  },
  {
   "cell_type": "code",
   "execution_count": 333,
   "metadata": {},
   "outputs": [
    {
     "name": "stdout",
     "output_type": "stream",
     "text": [
      "Sua cor favorita é {color}\n"
     ]
    }
   ],
   "source": [
    "print(sub('Sua cor favorita é {color}'))"
   ]
  },
  {
   "cell_type": "markdown",
   "metadata": {},
   "source": [
    "**Discussão**\n",
    "\n",
    "A falta de interpolação de variáveis verdadeiras no *Python* levou a uma variedade de soluções ao longo dos anos. Você também pode ver o uso de strings de modelo:"
   ]
  },
  {
   "cell_type": "code",
   "execution_count": 334,
   "metadata": {},
   "outputs": [
    {
     "data": {
      "text/plain": [
       "'João has 40 messages.'"
      ]
     },
     "execution_count": 334,
     "metadata": {},
     "output_type": "execute_result"
    }
   ],
   "source": [
    "name = 'João'\n",
    "n = 40\n",
    "import string\n",
    "s = string.Template('$name has $n messages.')\n",
    "s.substitute(vars())"
   ]
  },
  {
   "cell_type": "markdown",
   "metadata": {},
   "source": [
    "No entanto, os métodos `format()` e `format_map()` são mais modernos que qualquer uma dessas alternativas e devem ser preferidos. Um benefício de usar `format()` é que você também obtém todos os recursos relacionados à formatação de string (alinhamento, preenchimento, formatação numérica etc.), o que simplesmente não é possível com alternativas como objetos de string de modelo.\n",
    "\n",
    "Partes desta receita também ilustram alguns recursos avançados interessantes. O método pouco conhecido `__missing__()` de classes de mapeamento/dict é um método que você pode definir para lidar com valores ausentes. Na classe `safesub`, esse método foi definido para retornar valores ausentes como um espaço reservado. Em vez de obter uma exceção `KeyError`, você veria os valores ausentes aparecendo na string resultante (potencialmente útil para depuração).\n",
    "\n",
    "A função `sub()` usa `sys._getframe(1)` para retornar o quadro de pilha do chamador. A partir disso, o atributo `f_locals` é acessado para obter as variáveis locais. Isso sem dizer que, com quadros de pilha provavelmente deve ser evitado na maioria dos códigos. No entanto, para funções utilitárias, como um recurso de substituição de string, pode ser útil. Como um aparte, provavelmente vale a pena notar que `f_locals` é um dicionário que é uma cópia das variáveis locais na função de chamada. Embora você possa modificar o conteúdo de `f_locals`, as modificações não têm nenhum efeito duradouro. Assim, mesmo que acessar um frame de pilha diferente possa parecer ruim, não é possível sobrescrever variáveis acidentalmente ou alterar o ambiente local do chamador.\n",
    "\n",
    "## 2.16. Reformatando o texto para um número fixo de colunas\n",
    "\n",
    "**Problema**\n",
    "\n",
    "Você tem strings longas que deseja reformatar para que elas preencham um número de colunas especificado pelo usuário.\n",
    "\n",
    "**Solução**\n",
    "\n",
    "Use o módulo `textwrap` para reformatar o texto para saída. Por exemplo, suponha que você tenha a seguinte string longa:"
   ]
  },
  {
   "cell_type": "code",
   "execution_count": 335,
   "metadata": {},
   "outputs": [],
   "source": [
    "s = \"Look into my eyes, look into my eyes, the eyes, the eyes, \\\n",
    "the eyes, not around the eyes, don't look around the eyes, \\\n",
    "look into my eyes, you're under.\""
   ]
  },
  {
   "cell_type": "markdown",
   "metadata": {},
   "source": [
    "Veja como você pode usar o módulo `textwrap` para reformatá-lo de várias maneiras:"
   ]
  },
  {
   "cell_type": "code",
   "execution_count": 336,
   "metadata": {},
   "outputs": [
    {
     "name": "stdout",
     "output_type": "stream",
     "text": [
      "Look into my eyes, look into my eyes, the eyes, the eyes, the eyes,\n",
      "not around the eyes, don't look around the eyes, look into my eyes,\n",
      "you're under.\n"
     ]
    }
   ],
   "source": [
    "import textwrap\n",
    "print(textwrap.fill(s, 70))"
   ]
  },
  {
   "cell_type": "code",
   "execution_count": 337,
   "metadata": {},
   "outputs": [
    {
     "name": "stdout",
     "output_type": "stream",
     "text": [
      "Look into my eyes, look into my eyes,\n",
      "the eyes, the eyes, the eyes, not around\n",
      "the eyes, don't look around the eyes,\n",
      "look into my eyes, you're under.\n"
     ]
    }
   ],
   "source": [
    "print(textwrap.fill(s, 40))"
   ]
  },
  {
   "cell_type": "code",
   "execution_count": 338,
   "metadata": {},
   "outputs": [
    {
     "name": "stdout",
     "output_type": "stream",
     "text": [
      "  Look into my eyes, look into my eyes,\n",
      "the eyes, the eyes, the eyes, not around\n",
      "the eyes, don't look around the eyes,\n",
      "look into my eyes, you're under.\n"
     ]
    }
   ],
   "source": [
    "print(textwrap.fill(s, 40, initial_indent='  '))"
   ]
  },
  {
   "cell_type": "code",
   "execution_count": 339,
   "metadata": {},
   "outputs": [
    {
     "name": "stdout",
     "output_type": "stream",
     "text": [
      "Look into my eyes, look into my eyes,\n",
      " the eyes, the eyes, the eyes, not\n",
      " around the eyes, don't look around the\n",
      " eyes, look into my eyes, you're under.\n"
     ]
    }
   ],
   "source": [
    "print(textwrap.fill(s, 40, subsequent_indent=' '))"
   ]
  },
  {
   "cell_type": "markdown",
   "metadata": {},
   "source": [
    "**Discussão**\n",
    "\n",
    "O módulo `textwrap` é uma maneira direta de limpar o texto para impressão, especialmente, se você quiser que a saída caiba bem no terminal. Sobre o tamanho do terminal, você pode obtê-lo usando `os.get_terminal_size()`. Por exemplo:"
   ]
  },
  {
   "cell_type": "code",
   "execution_count": 340,
   "metadata": {},
   "outputs": [
    {
     "data": {
      "text/plain": [
       "120"
      ]
     },
     "execution_count": 340,
     "metadata": {},
     "output_type": "execute_result"
    }
   ],
   "source": [
    "import os\n",
    "os.get_terminal_size().columns"
   ]
  },
  {
   "cell_type": "code",
   "execution_count": 341,
   "metadata": {},
   "outputs": [
    {
     "name": "stdout",
     "output_type": "stream",
     "text": [
      "Look into my eyes, look into my eyes, the eyes, the eyes, the eyes, not around the eyes, don't look around the eyes,\n",
      "look into my eyes, you're under.\n"
     ]
    }
   ],
   "source": [
    "n = os.get_terminal_size().columns\n",
    "print(textwrap.fill(s, n))"
   ]
  },
  {
   "cell_type": "markdown",
   "metadata": {},
   "source": [
    "O método `fill()` tem algumas opções adicionais que controlam como ele lida com tabulações, terminações de frases e assim por diante. Consulte a documentação da classe `textwrap.TextWrapper` para obter mais detalhes."
   ]
  },
  {
   "cell_type": "markdown",
   "metadata": {},
   "source": [
    "## 2.17. Manipulando Entidades HTML e XML em Texto\n",
    "\n",
    "**Problema**\n",
    "\n",
    "Você deseja substituir entidades HTML ou XML como **&entity**; ou **&code**; com o texto correspondente. Como alternativa, você precisa produzir texto, mas escapar de certos caracteres (por exemplo, <, > ou &).\n",
    "\n",
    "**Solução**\n",
    "\n",
    "Se você estiver produzindo texto, substituir caracteres especiais como < ou > é relativamente fácil se você usar a função `html.escape()`. Por exemplo:"
   ]
  },
  {
   "cell_type": "code",
   "execution_count": 342,
   "metadata": {},
   "outputs": [
    {
     "name": "stdout",
     "output_type": "stream",
     "text": [
      "Elements are written as \"<tag>text</tag>\".\n"
     ]
    }
   ],
   "source": [
    "s = 'Elements are written as \"<tag>text</tag>\".'\n",
    "print(s)"
   ]
  },
  {
   "cell_type": "code",
   "execution_count": 343,
   "metadata": {},
   "outputs": [
    {
     "name": "stdout",
     "output_type": "stream",
     "text": [
      "Elements are written as &quot;&lt;tag&gt;text&lt;/tag&gt;&quot;.\n"
     ]
    }
   ],
   "source": [
    "import html\n",
    "print(html.escape(s))"
   ]
  },
  {
   "cell_type": "code",
   "execution_count": 344,
   "metadata": {},
   "outputs": [
    {
     "name": "stdout",
     "output_type": "stream",
     "text": [
      "Elements are written as \"&lt;tag&gt;text&lt;/tag&gt;\".\n"
     ]
    }
   ],
   "source": [
    "# Disabilitar o escape das Quotes\n",
    "print(html.escape(s,quote=False))"
   ]
  },
  {
   "cell_type": "markdown",
   "metadata": {},
   "source": [
    "Se você está tentando emitir texto como ASCII e deseja incorporar entidades de código de caracteres para caracteres não ASCII, você pode usar o argumento `errors='xmlcharrefreplace'` para várias funções relacionadas a I/O para fazer isso. Por exemplo:"
   ]
  },
  {
   "cell_type": "code",
   "execution_count": 345,
   "metadata": {},
   "outputs": [
    {
     "data": {
      "text/plain": [
       "b'Spicy Jalape&#241;o'"
      ]
     },
     "execution_count": 345,
     "metadata": {},
     "output_type": "execute_result"
    }
   ],
   "source": [
    "s = 'Spicy Jalapeño'\n",
    "s.encode('ascii', errors='xmlcharrefreplace')"
   ]
  },
  {
   "cell_type": "markdown",
   "metadata": {},
   "source": [
    "Para substituir entidades no texto, é necessária uma abordagem diferente. Se você estiver realmente processando HTML ou XML, tente primeiro usar um analisador HTML ou XML adequado. Normalmente, essas ferramentas cuidarão automaticamente da substituição dos valores para você durante a análise e você não precisa se preocupar com isso.\n",
    "\n",
    "Se, por algum motivo, você recebeu um texto simples com algumas entidades e deseja que elas sejam substituídas manualmente, geralmente você pode fazer isso usando várias funções/métodos de utilitários associados a analisadores HTML ou XML. Por exemplo:"
   ]
  },
  {
   "cell_type": "code",
   "execution_count": 346,
   "metadata": {},
   "outputs": [
    {
     "data": {
      "text/plain": [
       "'Spicy \"Jalapeño\".'"
      ]
     },
     "execution_count": 346,
     "metadata": {},
     "output_type": "execute_result"
    }
   ],
   "source": [
    "s = 'Spicy &quot;Jalape&#241;o&quot.'\n",
    "\n",
    "from html import unescape\n",
    "\n",
    "unescape(s)"
   ]
  },
  {
   "cell_type": "code",
   "execution_count": 347,
   "metadata": {},
   "outputs": [
    {
     "data": {
      "text/plain": [
       "'The prompt is >>>'"
      ]
     },
     "execution_count": 347,
     "metadata": {},
     "output_type": "execute_result"
    }
   ],
   "source": [
    "t = 'The prompt is &gt;&gt;&gt;'\n",
    "\n",
    "from xml.sax.saxutils import unescape\n",
    "unescape(t)"
   ]
  },
  {
   "cell_type": "markdown",
   "metadata": {},
   "source": [
    "**Discussão**\n",
    "\n",
    "O escape adequado de caracteres especiais é um detalhe facilmente esquecido na geração de HTML ou XML. Isso é especialmente verdadeiro se você estiver gerando essa saída usando `print()` ou outros recursos básicos de formatação de string. Usar uma função utilitária como `html.escape()` é uma solução fácil.\n",
    "\n",
    "Se você precisar processar texto em outra direção, várias funções de utilitário, como `xml.sax.saxutils.unescape()`, podem ajudar. No entanto, você realmente precisa investigar o uso de um analisador adequado. Por exemplo, se estiver processando HTML ou XML, usar um módulo de análise como `html.parser` ou `xml.etree.ElementTree` já deve cuidar dos detalhes relacionados à substituição de entidades no texto de entrada para você.\n",
    "\n",
    "## 2.18. Texto de tokenização\n",
    "\n",
    "**Problema**\n",
    "\n",
    "Você tem uma string que deseja analisar da esquerda para a direita em um fluxo de tokens.\n",
    "\n",
    "**Solução**\n",
    "\n",
    "Suponha que você tenha uma string de texto como esta:"
   ]
  },
  {
   "cell_type": "code",
   "execution_count": 348,
   "metadata": {},
   "outputs": [],
   "source": [
    "text = 'foo = 23 + 42 * 10'"
   ]
  },
  {
   "cell_type": "markdown",
   "metadata": {},
   "source": [
    "Para tokenizar a string, você precisa fazer mais do que apenas combinar padrões. Você precisa ter alguma maneira de identificar o tipo de padrão também. Por exemplo, você pode querer transformar a string em uma sequência de pares como esta:"
   ]
  },
  {
   "cell_type": "code",
   "execution_count": 349,
   "metadata": {},
   "outputs": [],
   "source": [
    "tokens = [\n",
    "    ('NAME', 'foo'),\n",
    "    ('EQ','='),\n",
    "    ('NUM', '23'),\n",
    "    ('PLUS','+'),\n",
    "    ('NUM', '42'),\n",
    "    ('TIMES', '*'),\n",
    "    ('NUM', 10)\n",
    "]"
   ]
  },
  {
   "cell_type": "markdown",
   "metadata": {},
   "source": [
    "Para fazer esse tipo de divisão, o primeiro passo é definir todos os tokens possíveis, incluindo espaços em branco, por padrões de expressão regular usando grupos de captura nomeados como este:"
   ]
  },
  {
   "cell_type": "code",
   "execution_count": 350,
   "metadata": {},
   "outputs": [],
   "source": [
    "import re\n",
    "\n",
    "NAME = r'(?P<NAME>[a-zA-Z_][a-zA-Z_0-9]*)'\n",
    "NUM = r'(?P<NUM>\\d+)'\n",
    "PLUS = r'(?P<PLUS>\\+)'\n",
    "TIMES = r'(?P<TIMES>\\*)'\n",
    "EQ = r'(?P<EQ>=)'\n",
    "WS = r'(?P<WS>\\s+)'"
   ]
  },
  {
   "cell_type": "code",
   "execution_count": 351,
   "metadata": {},
   "outputs": [],
   "source": [
    "master_pat = re.compile('|'.join([NAME, NUM, PLUS, TIMES, EQ, WS]))"
   ]
  },
  {
   "cell_type": "markdown",
   "metadata": {},
   "source": [
    "Nesses padrões, a convenção **\\?P\\<TOKENNAME>** é usada para atribuir um nome ao padrão. Isso será usado mais tarde.\n",
    "Em seguida, para tokenizar, use o método pouco conhecido `scanner()` de objetos padrão. Esse método cria um objeto scanner no qual chamadas repetidas para `match()` percorrem o texto fornecido, uma correspondência por vez. Aqui está um exemplo interativo de como um objeto scanner funciona:"
   ]
  },
  {
   "cell_type": "code",
   "execution_count": 352,
   "metadata": {},
   "outputs": [
    {
     "data": {
      "text/plain": [
       "<re.Match object; span=(0, 3), match='foo'>"
      ]
     },
     "execution_count": 352,
     "metadata": {},
     "output_type": "execute_result"
    }
   ],
   "source": [
    "scanner = master_pat.scanner('foo = 42')\n",
    "scanner.match()"
   ]
  },
  {
   "cell_type": "code",
   "execution_count": 353,
   "metadata": {},
   "outputs": [
    {
     "data": {
      "text/plain": [
       "('NAME', 'foo')"
      ]
     },
     "execution_count": 353,
     "metadata": {},
     "output_type": "execute_result"
    }
   ],
   "source": [
    "_.lastgroup, _.group()"
   ]
  },
  {
   "cell_type": "code",
   "execution_count": 354,
   "metadata": {},
   "outputs": [
    {
     "data": {
      "text/plain": [
       "<re.Match object; span=(3, 4), match=' '>"
      ]
     },
     "execution_count": 354,
     "metadata": {},
     "output_type": "execute_result"
    }
   ],
   "source": [
    "scanner.match()"
   ]
  },
  {
   "cell_type": "code",
   "execution_count": 355,
   "metadata": {},
   "outputs": [
    {
     "data": {
      "text/plain": [
       "('WS', ' ')"
      ]
     },
     "execution_count": 355,
     "metadata": {},
     "output_type": "execute_result"
    }
   ],
   "source": [
    "_.lastgroup, _.group()"
   ]
  },
  {
   "cell_type": "code",
   "execution_count": 356,
   "metadata": {},
   "outputs": [
    {
     "data": {
      "text/plain": [
       "<re.Match object; span=(4, 5), match='='>"
      ]
     },
     "execution_count": 356,
     "metadata": {},
     "output_type": "execute_result"
    }
   ],
   "source": [
    "scanner.match()"
   ]
  },
  {
   "cell_type": "code",
   "execution_count": 357,
   "metadata": {},
   "outputs": [
    {
     "data": {
      "text/plain": [
       "('EQ', '=')"
      ]
     },
     "execution_count": 357,
     "metadata": {},
     "output_type": "execute_result"
    }
   ],
   "source": [
    "_.lastgroup, _.group()"
   ]
  },
  {
   "cell_type": "code",
   "execution_count": 358,
   "metadata": {},
   "outputs": [
    {
     "data": {
      "text/plain": [
       "<re.Match object; span=(5, 6), match=' '>"
      ]
     },
     "execution_count": 358,
     "metadata": {},
     "output_type": "execute_result"
    }
   ],
   "source": [
    "scanner.match()"
   ]
  },
  {
   "cell_type": "code",
   "execution_count": 359,
   "metadata": {},
   "outputs": [
    {
     "data": {
      "text/plain": [
       "('WS', ' ')"
      ]
     },
     "execution_count": 359,
     "metadata": {},
     "output_type": "execute_result"
    }
   ],
   "source": [
    "_.lastgroup, _.group()"
   ]
  },
  {
   "cell_type": "code",
   "execution_count": 360,
   "metadata": {},
   "outputs": [
    {
     "data": {
      "text/plain": [
       "<re.Match object; span=(6, 8), match='42'>"
      ]
     },
     "execution_count": 360,
     "metadata": {},
     "output_type": "execute_result"
    }
   ],
   "source": [
    "scanner.match()"
   ]
  },
  {
   "cell_type": "code",
   "execution_count": 361,
   "metadata": {},
   "outputs": [
    {
     "data": {
      "text/plain": [
       "('NUM', '42')"
      ]
     },
     "execution_count": 361,
     "metadata": {},
     "output_type": "execute_result"
    }
   ],
   "source": [
    "_.lastgroup, _.group()"
   ]
  },
  {
   "cell_type": "code",
   "execution_count": 362,
   "metadata": {},
   "outputs": [],
   "source": [
    "scanner.match()"
   ]
  },
  {
   "cell_type": "markdown",
   "metadata": {},
   "source": [
    "Para pegar essa técnica e colocá-la em código, ela pode ser limpa e facilmente empacotada em um gerador como este:"
   ]
  },
  {
   "cell_type": "code",
   "execution_count": 363,
   "metadata": {},
   "outputs": [
    {
     "name": "stdout",
     "output_type": "stream",
     "text": [
      "Token(type='NAME', value='foo')\n",
      "Token(type='WS', value=' ')\n",
      "Token(type='EQ', value='=')\n",
      "Token(type='WS', value=' ')\n",
      "Token(type='NUM', value='42')\n"
     ]
    }
   ],
   "source": [
    "from collections import namedtuple\n",
    "\n",
    "Token = namedtuple('Token', ['type','value'])\n",
    "\n",
    "def generate_tokens(pat, text):\n",
    "    scanner = pat.scanner(text)\n",
    "    for m in iter(scanner.match, None):\n",
    "        yield Token(m.lastgroup, m.group())\n",
    "        \n",
    "# Examplo de uso \n",
    "for tok in generate_tokens(master_pat, 'foo = 42'):\n",
    "    print(tok)"
   ]
  },
  {
   "cell_type": "markdown",
   "metadata": {},
   "source": [
    "Se você deseja filtrar o fluxo de tokens de alguma forma, você pode definir mais funções geradoras ou usar uma expressão geradora. Por exemplo, aqui está como você pode filtrar todos os tokens de espaço em branco."
   ]
  },
  {
   "cell_type": "code",
   "execution_count": 364,
   "metadata": {},
   "outputs": [
    {
     "name": "stdout",
     "output_type": "stream",
     "text": [
      "Token(type='NAME', value='foo')\n",
      "Token(type='EQ', value='=')\n",
      "Token(type='NUM', value='23')\n",
      "Token(type='PLUS', value='+')\n",
      "Token(type='NUM', value='42')\n",
      "Token(type='TIMES', value='*')\n",
      "Token(type='NUM', value='10')\n"
     ]
    }
   ],
   "source": [
    "tokens = (tok for tok in generate_tokens(master_pat, text) if tok.type != 'WS')\n",
    "for tok in tokens:\n",
    "    print(tok)"
   ]
  },
  {
   "cell_type": "markdown",
   "metadata": {},
   "source": [
    "**Discussão**\n",
    "\n",
    "A tokenização geralmente é o primeiro passo para tipos mais avançados de análise e manipulação de texto. Para usar a técnica de digitalização mostrada, há alguns detalhes importantes a serem lembrados. Primeiro, você deve certificar-se de identificar todas as sequências de texto possíveis que possam aparecer na entrada com um padrão `re` correspondente. Se algum texto não correspondente for encontrado, a varredura simplesmente será interrompida. É por isso que foi necessário especificar o token de espaço em branco (WS) no exemplo.\n",
    "\n",
    "A ordem dos tokens na expressão regular mestre também importa. Ao fazer a correspondência, tenta corresponder os padrões na ordem especificada. Assim, se um padrão for uma subcadeia de um padrão mais longo, você precisa garantir que o padrão mais longo seja o primeiro. Por exemplo:"
   ]
  },
  {
   "cell_type": "code",
   "execution_count": 365,
   "metadata": {},
   "outputs": [],
   "source": [
    "LT = r'(?P<LT><)'\n",
    "LE = r'(?P<LE><=)'\n",
    "EQ = r'(?P<EQ>=)'"
   ]
  },
  {
   "cell_type": "code",
   "execution_count": 366,
   "metadata": {},
   "outputs": [],
   "source": [
    "master_pat = re.compile('|'.join([LE, LT, EQ])) # Correct\n",
    "# master_pat = re.compile('|'.join([LT, LE, EQ])) # Incorrect"
   ]
  },
  {
   "cell_type": "code",
   "execution_count": 367,
   "metadata": {},
   "outputs": [
    {
     "data": {
      "text/plain": [
       "re.compile(r'(?P<LE><=)|(?P<LT><)|(?P<EQ>=)', re.UNICODE)"
      ]
     },
     "execution_count": 367,
     "metadata": {},
     "output_type": "execute_result"
    }
   ],
   "source": [
    "master_pat"
   ]
  },
  {
   "cell_type": "markdown",
   "metadata": {},
   "source": [
    "O segundo padrão está errado porque corresponderia ao texto **<=** como o token LT seguido pelo token EQ, não o token único LE, como provavelmente foi desejado.\n",
    "\n",
    "Por último, mas não menos importante, você precisa ficar atento aos padrões que formam substrings. Por exemplo, suponha que você tenha dois padrões como este:"
   ]
  },
  {
   "cell_type": "code",
   "execution_count": 368,
   "metadata": {},
   "outputs": [],
   "source": [
    "PRINT = r'(P<PRINT>print)'\n",
    "NAME = r'(P<NAME>[a-zA-Z_][a-zA-Z_0-9]*)'\n",
    "\n",
    "master_pat = re.compile('|'.join([PRINT, NAME]))\n",
    "\n",
    "for tok in generate_tokens(master_pat, 'printer'):\n",
    "    print(tok)"
   ]
  },
  {
   "cell_type": "markdown",
   "metadata": {},
   "source": [
    "Para tipos mais avançados de tokenização, você pode verificar pacotes como PyParsing ou PLY. Um exemplo envolvendo PLY aparece na próxima receita.\n",
    "\n",
    "## 2.19. Escrevendo um analisador de descida recursiva simples\n",
    "\n",
    "**Problema**\n",
    "\n",
    "Você precisa analisar o texto de acordo com um conjunto de regras gramaticais e executar ações ou construir uma árvore de sintaxe abstrata representando a entrada. A gramática é pequena, então você prefere apenas escrever o analisador em vez de usar algum tipo de estrutura.\n",
    "\n",
    "**Solução**\n",
    "\n",
    "Neste problema, estamos focados no problema de analisar o texto de acordo com uma gramática específica. Para fazer isso, você provavelmente deve começar por ter uma especificação formal da gramática na forma de uma BNF ou EBNF. Por exemplo, uma gramática para expressões aritméticas simples pode ser assim:\n",
    "\n",
    "<code>\n",
    "expr ::= expr + term\n",
    "     | expr - term\n",
    "     | term\n",
    "term ::= term * factor\n",
    "     | term / factor\n",
    "     | factor\n",
    "factor ::= ( expr )\n",
    "       | NUM\n",
    "</code>\n",
    "\n",
    "Ou, alternativamente, na forma EBNF:\n",
    "\n",
    "<code>\n",
    "expr ::= term { (+|-) term }*\n",
    "\n",
    "term ::= factor { (*|/) factor }*\n",
    "\n",
    "factor ::= ( expr )\n",
    "        | NUM\n",
    "</code>\n",
    "\n",
    "Em uma EBNF, partes de uma regra entre { ... }* são opcionais. O * significa zero ou mais repetições (o mesmo significado que em uma expressão regular).\n",
    "\n",
    "Agora, se você não estiver familiarizado com a mecânica de trabalhar com uma BNF, pense nisso como uma especificação de substituição ou regras de substituição onde os símbolos do lado esquerdo podem ser substituídos pelos símbolos do lado direito (ou vice-versa). Geralmente, o que acontece durante a análise é que você tenta combinar o texto de entrada com a gramática fazendo várias substituições e expansões usando o BNF. Para ilustrar, suponha que você esteja analisando uma expressão como **3 + 4 * 5**. Essa expressão precisaria primeiro ser dividida em um fluxo de token, usando as técnicas descritas na Receita 2.18. O resultado pode ser uma sequência de tokens como esta:\n",
    "<code>\n",
    "    NUM + NUM * NUM\n",
    "</code>\n",
    "\n",
    "A partir daí, a análise envolve tentar combinar a gramática com os tokens de entrada fazendo substituições:\n",
    "<code>\n",
    "exp\n",
    "expr ::= termo { (+|-) termo }*\n",
    "expr ::= fator { (*|/) fator }* { (+|-) termo }*\n",
    "expr ::= NUM { (*|/) fator }* { (+|-) termo }*\n",
    "expr ::= NUM { (+|-) termo }*\n",
    "expr ::= NUM + termo { (+|-) termo }*\n",
    "expr ::= NUM + fator { (*|/) fator }* { (+|-) termo }*\n",
    "expr ::= NUM + NUM { (*|/) fator}* { (+|-) termo }*\n",
    "expr ::= NUM + NUM * fator { (*|/) fator }* { (+|-) termo }*\n",
    "expr ::= NUM + NUM * NUM { (*|/) fator }* { (+|-) termo }*\n",
    "expr ::= NUM + NUM * NUM { (+|-) termo }*\n",
    "expr ::= NUM + NUM * NUM\n",
    "</code>\n",
    "\n",
    "Seguir todas as etapas de substituição exige um pouco de café, mas eles são orientados pela observação da entrada e pela tentativa de combiná-la com as regras gramaticais. O primeiro token de entrada é um NUM, portanto, as substituições primeiro se concentram na correspondência dessa parte. Uma vez correspondido, a atenção se move para o próximo token de + e assim por diante. Certas partes do lado direito (por exemplo, **{ (\\*/) factor }*)** desaparecem quando é determinado que não podem corresponder ao próximo token. Em uma análise bem-sucedida, todo o lado direito é expandido completamente para corresponder ao fluxo de token de entrada.\n",
    "\n",
    "Com todos os antecedentes anteriores no lugar, aqui está uma receita simples que mostra como construir um avaliador de expressão descendente recursiva:"
   ]
  },
  {
   "cell_type": "code",
   "execution_count": 371,
   "metadata": {},
   "outputs": [],
   "source": [
    "import re\n",
    "import collections\n",
    "\n",
    "# Token specification\n",
    "NUM = r'(?P<NUM>\\d+)'\n",
    "PLUS = r'(?P<PLUS>\\+)'\n",
    "MINUS = r'(?P<MINUS>-)'\n",
    "TIMES = r'(?P<TIMES>\\*)'\n",
    "DIVIDE = r'(?P<DIVIDE>/)'\n",
    "LPAREN = r'(?P<LPAREN>\\()'\n",
    "RPAREN = r'(?P<RPAREN>\\))'\n",
    "WS = r'(?P<WS>\\s+)'\n",
    "\n",
    "master_pat = re.compile('|'.join([NUM, PLUS, MINUS, TIMES,DIVIDE, LPAREN, RPAREN, WS]))\n",
    "\n",
    "# Tokenizer\n",
    "Token = collections.namedtuple('Token', ['type','value'])\n",
    "\n",
    "def generate_tokens(text):\n",
    "    scanner = master_pat.scanner(text)\n",
    "    for m in iter(scanner.match, None):\n",
    "        tok = Token(m.lastgroup, m.group())\n",
    "        if tok.type != 'WS':\n",
    "            yield tok\n",
    "\n",
    "# Parser\n",
    "class ExpressionEvaluator:\n",
    "        '''\n",
    "        Implementation of a recursive descent parser. Each method\n",
    "        implements a single grammar rule. Use the ._accept() method\n",
    "        to test and accept the current lookahead token. Use the ._expect()\n",
    "        method to exactly match and discard the next token on on the input\n",
    "        (or raise a SyntaxError if it doesn't match).\n",
    "        '''\n",
    "        def parse(self,text):\n",
    "            self.tokens = generate_tokens(text)\n",
    "            self.tok = None                    # Last symbol consumed\n",
    "            self.nexttok = None                # Next symbol tokenized\n",
    "            self._advance()                    # Load first lookahead token\n",
    "            return self.expr()\n",
    "        \n",
    "        def _advance(self):\n",
    "            'Advance one token ahead'\n",
    "            self.tok, self.nexttok = self.nexttok, next(self.tokens, None)\n",
    "        \n",
    "        def _accept(self,toktype):\n",
    "            'Test and consume the next token if it matches toktype'\n",
    "            if self.nexttok and self.nexttok.type == toktype:\n",
    "                self._advance()\n",
    "                return True            \n",
    "            else:\n",
    "                return False\n",
    "    \n",
    "        def _expect(self,toktype):\n",
    "            'Consume next token if it matches toktype or raise SyntaxError'\n",
    "            if not self._accept(toktype):\n",
    "                raise SyntaxError('Expected ' + toktype)\n",
    "\n",
    "    # Grammar rules follow\n",
    "        def expr(self):\n",
    "            \"expression ::= term { ('+'|'-') term }*\"\n",
    "            exprval = self.term()\n",
    "            while self._accept('PLUS') or self._accept('MINUS'):\n",
    "                op = self.tok.type\n",
    "                right = self.term()\n",
    "                if op == 'PLUS':\n",
    "                    exprval += right\n",
    "                elif op == 'MINUS':\n",
    "                    exprval -= right\n",
    "            return exprval\n",
    "    \n",
    "        def term(self):\n",
    "            \"term ::= factor { ('*'|'/') factor }*\"\n",
    "            termval = self.factor()\n",
    "            while self._accept('TIMES') or self._accept('DIVIDE'):\n",
    "                op = self.tok.type\n",
    "                right = self.factor()\n",
    "                if op == 'TIMES':\n",
    "                    termval *= right\n",
    "                elif op == 'DIVIDE':\n",
    "                    termval /= right\n",
    "            return termval\n",
    "\n",
    "        def factor(self):\n",
    "            \"factor ::= NUM | ( expr )\"\n",
    "            if self._accept('NUM'):\n",
    "                return int(self.tok.value)\n",
    "            elif self._accept('LPAREN'):\n",
    "                exprval = self.expr()\n",
    "                self._expect('RPAREN')\n",
    "                return exprval\n",
    "            else:\n",
    "                raise SyntaxError('Expected NUMBER or LPAREN')            "
   ]
  },
  {
   "cell_type": "markdown",
   "metadata": {},
   "source": [
    "Aqui está um exemplo de uso da classe `ExpressionEvaluator` interativamente:"
   ]
  },
  {
   "cell_type": "code",
   "execution_count": 373,
   "metadata": {},
   "outputs": [
    {
     "data": {
      "text/plain": [
       "2"
      ]
     },
     "execution_count": 373,
     "metadata": {},
     "output_type": "execute_result"
    }
   ],
   "source": [
    "e = ExpressionEvaluator()\n",
    "e.parse('2')\n"
   ]
  },
  {
   "cell_type": "code",
   "execution_count": 374,
   "metadata": {},
   "outputs": [
    {
     "data": {
      "text/plain": [
       "5"
      ]
     },
     "execution_count": 374,
     "metadata": {},
     "output_type": "execute_result"
    }
   ],
   "source": [
    "e.parse('2 + 3')"
   ]
  },
  {
   "cell_type": "code",
   "execution_count": 375,
   "metadata": {},
   "outputs": [
    {
     "data": {
      "text/plain": [
       "14"
      ]
     },
     "execution_count": 375,
     "metadata": {},
     "output_type": "execute_result"
    }
   ],
   "source": [
    "e.parse('2 + 3 * 4')"
   ]
  },
  {
   "cell_type": "code",
   "execution_count": 376,
   "metadata": {},
   "outputs": [
    {
     "data": {
      "text/plain": [
       "37"
      ]
     },
     "execution_count": 376,
     "metadata": {},
     "output_type": "execute_result"
    }
   ],
   "source": [
    "e.parse('2 + (3 +4) * 5')"
   ]
  },
  {
   "cell_type": "markdown",
   "metadata": {},
   "source": [
    "Se você quiser fazer algo diferente da avaliação pura, precisará alterar a classe `ExpressionEvaluator` para fazer outra coisa. Por exemplo, aqui está uma implementação alternativa que constrói uma árvore de análise simples:"
   ]
  },
  {
   "cell_type": "code",
   "execution_count": 377,
   "metadata": {},
   "outputs": [],
   "source": [
    "class ExpressionTreeBuilder(ExpressionEvaluator):\n",
    "    def expr(self):\n",
    "        \"expression ::= term { ('+'|'-') term }\"\n",
    "        exprval = self.term()\n",
    "        while self._accept('PLUS') or self._accept('MINUS'):\n",
    "            op = self.tok.type\n",
    "            right = self.term()\n",
    "            if op == 'PLUS':\n",
    "                exprval = ('+', exprval, right)\n",
    "            elif op == 'MINUS':\n",
    "                exprval = ('-', exprval, right)\n",
    "        return exprval\n",
    "    \n",
    "    def term(self):\n",
    "        \"term ::= factor { ('*'|'/') factor }\"\n",
    "        termval = self.factor()\n",
    "        while self._accept('TIMES') or self._accept('DIVIDE'):\n",
    "            op = self.tok.type\n",
    "            right = self.factor()\n",
    "            if op == 'TIMES':\n",
    "                termval = ('*', termval, right)\n",
    "            elif op == 'DIVIDE':\n",
    "                termval = ('/', termval, right)\n",
    "        return termval\n",
    "    \n",
    "    def factor(self):\n",
    "        'factor ::= NUM | ( expr )'\n",
    "        if self._accept('NUM'):\n",
    "            return int(self.tok.value)\n",
    "        elif self._accept('LPAREN'):\n",
    "            exprval = self.expr()\n",
    "            self._expect('RPAREN')\n",
    "            return exprval\n",
    "        else:\n",
    "            raise SyntaxError('Expected NUMBER or LPAREN')"
   ]
  },
  {
   "cell_type": "markdown",
   "metadata": {},
   "source": [
    "O exemplo a seguir mostra como funciona:"
   ]
  },
  {
   "cell_type": "code",
   "execution_count": 379,
   "metadata": {},
   "outputs": [],
   "source": [
    "e = ExpressionTreeBuilder()"
   ]
  },
  {
   "cell_type": "code",
   "execution_count": 380,
   "metadata": {},
   "outputs": [
    {
     "data": {
      "text/plain": [
       "('+', 2, 3)"
      ]
     },
     "execution_count": 380,
     "metadata": {},
     "output_type": "execute_result"
    }
   ],
   "source": [
    "e.parse('2 + 3')"
   ]
  },
  {
   "cell_type": "code",
   "execution_count": 381,
   "metadata": {},
   "outputs": [
    {
     "data": {
      "text/plain": [
       "('+', 2, ('*', 3, 4))"
      ]
     },
     "execution_count": 381,
     "metadata": {},
     "output_type": "execute_result"
    }
   ],
   "source": [
    "e.parse('2 + 3 * 4')"
   ]
  },
  {
   "cell_type": "code",
   "execution_count": 382,
   "metadata": {},
   "outputs": [
    {
     "data": {
      "text/plain": [
       "('+', 2, ('*', ('+', 3, 4), 5))"
      ]
     },
     "execution_count": 382,
     "metadata": {},
     "output_type": "execute_result"
    }
   ],
   "source": [
    "e.parse('2 + (3 + 4) * 5')"
   ]
  },
  {
   "cell_type": "code",
   "execution_count": 383,
   "metadata": {},
   "outputs": [
    {
     "data": {
      "text/plain": [
       "('+', ('+', 2, 3), 4)"
      ]
     },
     "execution_count": 383,
     "metadata": {},
     "output_type": "execute_result"
    }
   ],
   "source": [
    "e.parse('2 + 3 +4')"
   ]
  },
  {
   "cell_type": "markdown",
   "metadata": {},
   "source": [
    "**Discussão**\n",
    "\n",
    "*Parsing* é um tópico enorme que geralmente ocupa os alunos nas primeiras três semanas de um curso de compiladores. Se você está procurando conhecimento básico sobre gramáticas, algoritmos de análise e outras informações, um livro de compiladores é o que você deve procurar. \n",
    "\n",
    "No entanto, a ideia geral de escrever um analisador descendente recursivo é geralmente simples. Para começar, você pega todas as regras gramaticais e as transforma em uma função ou método. Assim, se sua gramática se parece com isso:\n",
    "\n",
    "<code>\n",
    "expr ::= termo { ('+'|'-') term }*\n",
    "termo ::= fator { ('*'|'/') factor }*\n",
    "fator ::= '('expr')' \n",
    "      |  NUM\n",
    "</code>\n",
    "\n",
    "Você começa transformando-o em um conjunto de métodos como este:\n",
    "\n",
    "<code>\n",
    "class ExpressionEvaluator:\n",
    "    ...\n",
    "    def expr(self):\n",
    "        ...\n",
    "    def term (self):\n",
    "        ... \n",
    "    def factor(self):\n",
    "        ...\n",
    "</code>\n",
    "\n",
    "A tarefa de cada método é simples – ele deve andar da esquerda para a direita sobre cada parte da regra gramatical, consumindo tokens no processo. De certa forma, o objetivo do método é consumir a regra ou gerar um erro de sintaxe se ela travar. Para fazer isso, as seguintes técnicas de implementação são aplicadas:\n",
    "\n",
    "* Se o próximo símbolo na regra for o nome de outra regra gramatical (por exemplo, termo ou fator), basta chamar o método com o mesmo nome. Esta é a parte “descendente” do algoritmo – o controle desce para outra regra gramatical. Às vezes, as regras envolvem chamadas para métodos que já estão em execução (por exemplo, a chamada para expr na regra fator ::= '(' expr ')'). Esta é a parte “recursiva” do algoritmo.\n",
    "* Se o próximo símbolo na regra tiver que ser um símbolo específico (por exemplo, (), você olha para o próximo token e verifica se há uma correspondência exata. Se não corresponder, é um erro de sintaxe. O método `_expect()` nesta receita é usado para executar essas etapas.\n",
    "* Se o próximo símbolo na regra puder ser algumas escolhas possíveis (por exemplo, + ou -), você deve verificar o próximo símbolo para cada possibilidade e avançar apenas se houver uma correspondência. Este é o propósito do método `_accept()` nesta receita. É como uma versão mais fraca do método `_expect()` na medida em que avançará se uma correspondência for feita, mas se não for, simplesmente recuará sem gerar um erro (permitindo assim que outras verificações sejam feitas).\n",
    "* Para regras gramaticais onde há partes repetidas (por exemplo, como na regra expr ::= term { ('+'|'-') term }\\*), a repetição é implementada por um loop while. O corpo do loop geralmente coleta ou processa todos os itens repetidos até não são mais encontrados.\n",
    "* Uma vez que uma regra gramatical inteira foi consumida, cada método retorna algum tipo do resultado de volta para o chamador. É assim que os valores se propagam durante a análise. Por exemplo, no avaliador de expressão, os valores de retorno representarão resultados parciais da expressão que está sendo analisada. Eventualmente, todos eles são combinados no mais alto método de regra gramatical que é executado.\n",
    "\n",
    "Embora um exemplo simples tenha sido mostrado, analisadores de descida recursiva podem ser usados para implementar analisadores bastante complicados. Por exemplo, o próprio código Python é interpretado por um analisador descendente recursivo. Se você estiver tão inclinado, você pode olhar para a gramática subjacente inspecionando o arquivo *Grammar/Grammar* na fonte Python. Dito isso, há ainda existem inúmeras armadilhas e limitações com a criação de um analisador à mão.\n",
    "\n",
    "\n",
    "Uma dessas limitações dos analisadores de descendência recursiva é que eles não podem ser escritos para gramática regras envolvendo qualquer tipo de recursão à esquerda. Por exemplo, suponha que você precise traduzir um regra assim:\n",
    "\n",
    "<code>\n",
    "itens ::= itens ',' item\n",
    "       | item\n",
    "</code>\n",
    "\n",
    "Para fazer isso, você pode tentar usar o método `items()` assim:"
   ]
  },
  {
   "cell_type": "code",
   "execution_count": 384,
   "metadata": {},
   "outputs": [],
   "source": [
    "def items(self):\n",
    "    itemsval = self.items()\n",
    "    if itemsval and self._accept(','):\n",
    "        itemsval.append(self.item())\n",
    "    else:\n",
    "        itemsval = [ self.item() ]"
   ]
  },
  {
   "cell_type": "markdown",
   "metadata": {},
   "source": [
    "O único problema é que não funciona. Na verdade, ele explode com um erro de recursão infinito.\n",
    "\n",
    "Você também pode se deparar com problemas complicados relacionados às próprias regras gramaticais. Por exemplo, você pode ter se perguntado se as expressões poderiam ou não ter sido descritas por esta gramática mais simples:\n",
    "\n",
    "<code>\n",
    "expr ::= factor { ('+'|'-'|'*'|'/') factor }*\n",
    "    \n",
    "fator ::= '(' expressão ')'\n",
    "    | NUM\n",
    "</code>\n",
    "\n",
    "Essa gramática tecnicamente “funciona”, mas não observa as regras aritméticas padrão relativas à ordem de avaliação. Por exemplo, a expressão “3 + 4 * 5” seria avaliada como “35” em vez do resultado esperado de “23”. O uso de regras separadas “expr” e “term” existe para que a avaliação funcione corretamente.\n",
    "\n",
    "Para gramáticas realmente complicadas, geralmente é melhor usar ferramentas de análise sintática, como PyParsing ou PLY."
   ]
  },
  {
   "cell_type": "markdown",
   "metadata": {},
   "source": [
    "## 2.20. Executando operações de texto em strings de bytes\n",
    "\n",
    "**Problema**\n",
    "\n",
    "Você deseja realizar operações de texto comuns (por exemplo, remoção, pesquisa e substituição) em cadeias de bytes.\n",
    "\n",
    "**Solução**\n",
    "\n",
    "Cadeias de bytes já suportam a maioria das mesmas operações internas que cadeias de texto. Por exemplo:"
   ]
  },
  {
   "cell_type": "code",
   "execution_count": 399,
   "metadata": {},
   "outputs": [
    {
     "data": {
      "text/plain": [
       "b'Hello'"
      ]
     },
     "execution_count": 399,
     "metadata": {},
     "output_type": "execute_result"
    }
   ],
   "source": [
    "data = b'Hello World'\n",
    "data[0:5]"
   ]
  },
  {
   "cell_type": "code",
   "execution_count": 400,
   "metadata": {},
   "outputs": [
    {
     "data": {
      "text/plain": [
       "True"
      ]
     },
     "execution_count": 400,
     "metadata": {},
     "output_type": "execute_result"
    }
   ],
   "source": [
    "data.startswith(b'Hello')"
   ]
  },
  {
   "cell_type": "code",
   "execution_count": 401,
   "metadata": {},
   "outputs": [
    {
     "data": {
      "text/plain": [
       "[b'Hello', b'World']"
      ]
     },
     "execution_count": 401,
     "metadata": {},
     "output_type": "execute_result"
    }
   ],
   "source": [
    "data.split()"
   ]
  },
  {
   "cell_type": "code",
   "execution_count": 405,
   "metadata": {},
   "outputs": [
    {
     "data": {
      "text/plain": [
       "b'Hello Big World'"
      ]
     },
     "execution_count": 405,
     "metadata": {},
     "output_type": "execute_result"
    }
   ],
   "source": [
    "data.replace(b'Hello', b'Hello Big')"
   ]
  },
  {
   "cell_type": "markdown",
   "metadata": {},
   "source": [
    "Essas operações também funcionam com matrizes de bytes. Por exemplo:"
   ]
  },
  {
   "cell_type": "code",
   "execution_count": 406,
   "metadata": {},
   "outputs": [
    {
     "data": {
      "text/plain": [
       "bytearray(b'Hello')"
      ]
     },
     "execution_count": 406,
     "metadata": {},
     "output_type": "execute_result"
    }
   ],
   "source": [
    "data = bytearray(b'Hello World')\n",
    "data[0:5]"
   ]
  },
  {
   "cell_type": "code",
   "execution_count": 408,
   "metadata": {},
   "outputs": [
    {
     "data": {
      "text/plain": [
       "True"
      ]
     },
     "execution_count": 408,
     "metadata": {},
     "output_type": "execute_result"
    }
   ],
   "source": [
    "data.startswith(b'Hello')"
   ]
  },
  {
   "cell_type": "code",
   "execution_count": 410,
   "metadata": {},
   "outputs": [
    {
     "data": {
      "text/plain": [
       "[bytearray(b'Hello'), bytearray(b'World')]"
      ]
     },
     "execution_count": 410,
     "metadata": {},
     "output_type": "execute_result"
    }
   ],
   "source": [
    "data.split()"
   ]
  },
  {
   "cell_type": "code",
   "execution_count": 411,
   "metadata": {},
   "outputs": [
    {
     "data": {
      "text/plain": [
       "bytearray(b'Hello Big World')"
      ]
     },
     "execution_count": 411,
     "metadata": {},
     "output_type": "execute_result"
    }
   ],
   "source": [
    "data.replace(b'Hello', b'Hello Big')"
   ]
  },
  {
   "cell_type": "markdown",
   "metadata": {},
   "source": [
    "Você pode aplicar a correspondência de padrões de expressão regular a cadeias de bytes, mas os próprios padrões precisam ser especificados como bytes. Por exemplo:"
   ]
  },
  {
   "cell_type": "code",
   "execution_count": 412,
   "metadata": {},
   "outputs": [],
   "source": [
    "data = b'FOO:BAR,SPAM'"
   ]
  },
  {
   "cell_type": "code",
   "execution_count": 413,
   "metadata": {},
   "outputs": [
    {
     "ename": "TypeError",
     "evalue": "cannot use a string pattern on a bytes-like object",
     "output_type": "error",
     "traceback": [
      "\u001b[1;31m---------------------------------------------------------------------------\u001b[0m",
      "\u001b[1;31mTypeError\u001b[0m                                 Traceback (most recent call last)",
      "\u001b[1;32m<ipython-input-413-d126811582ed>\u001b[0m in \u001b[0;36m<module>\u001b[1;34m\u001b[0m\n\u001b[0;32m      1\u001b[0m \u001b[1;32mimport\u001b[0m \u001b[0mre\u001b[0m\u001b[1;33m\u001b[0m\u001b[1;33m\u001b[0m\u001b[0m\n\u001b[1;32m----> 2\u001b[1;33m \u001b[0mre\u001b[0m\u001b[1;33m.\u001b[0m\u001b[0msplit\u001b[0m\u001b[1;33m(\u001b[0m\u001b[1;34m'[:,]'\u001b[0m\u001b[1;33m,\u001b[0m \u001b[0mdata\u001b[0m\u001b[1;33m)\u001b[0m\u001b[1;33m\u001b[0m\u001b[1;33m\u001b[0m\u001b[0m\n\u001b[0m",
      "\u001b[1;32m~\\anaconda3\\lib\\re.py\u001b[0m in \u001b[0;36msplit\u001b[1;34m(pattern, string, maxsplit, flags)\u001b[0m\n\u001b[0;32m    229\u001b[0m     \u001b[1;32mand\u001b[0m \u001b[0mthe\u001b[0m \u001b[0mremainder\u001b[0m \u001b[0mof\u001b[0m \u001b[0mthe\u001b[0m \u001b[0mstring\u001b[0m \u001b[1;32mis\u001b[0m \u001b[0mreturned\u001b[0m \u001b[1;32mas\u001b[0m \u001b[0mthe\u001b[0m \u001b[0mfinal\u001b[0m \u001b[0melement\u001b[0m\u001b[1;33m\u001b[0m\u001b[1;33m\u001b[0m\u001b[0m\n\u001b[0;32m    230\u001b[0m     of the list.\"\"\"\n\u001b[1;32m--> 231\u001b[1;33m     \u001b[1;32mreturn\u001b[0m \u001b[0m_compile\u001b[0m\u001b[1;33m(\u001b[0m\u001b[0mpattern\u001b[0m\u001b[1;33m,\u001b[0m \u001b[0mflags\u001b[0m\u001b[1;33m)\u001b[0m\u001b[1;33m.\u001b[0m\u001b[0msplit\u001b[0m\u001b[1;33m(\u001b[0m\u001b[0mstring\u001b[0m\u001b[1;33m,\u001b[0m \u001b[0mmaxsplit\u001b[0m\u001b[1;33m)\u001b[0m\u001b[1;33m\u001b[0m\u001b[1;33m\u001b[0m\u001b[0m\n\u001b[0m\u001b[0;32m    232\u001b[0m \u001b[1;33m\u001b[0m\u001b[0m\n\u001b[0;32m    233\u001b[0m \u001b[1;32mdef\u001b[0m \u001b[0mfindall\u001b[0m\u001b[1;33m(\u001b[0m\u001b[0mpattern\u001b[0m\u001b[1;33m,\u001b[0m \u001b[0mstring\u001b[0m\u001b[1;33m,\u001b[0m \u001b[0mflags\u001b[0m\u001b[1;33m=\u001b[0m\u001b[1;36m0\u001b[0m\u001b[1;33m)\u001b[0m\u001b[1;33m:\u001b[0m\u001b[1;33m\u001b[0m\u001b[1;33m\u001b[0m\u001b[0m\n",
      "\u001b[1;31mTypeError\u001b[0m: cannot use a string pattern on a bytes-like object"
     ]
    }
   ],
   "source": [
    "import re\n",
    "re.split('[:,]', data)"
   ]
  },
  {
   "cell_type": "code",
   "execution_count": 415,
   "metadata": {},
   "outputs": [
    {
     "data": {
      "text/plain": [
       "[b'FOO', b'BAR', b'SPAM']"
      ]
     },
     "execution_count": 415,
     "metadata": {},
     "output_type": "execute_result"
    }
   ],
   "source": [
    "re.split(b'[:,]', data) # Padrão em Bytes"
   ]
  },
  {
   "cell_type": "markdown",
   "metadata": {},
   "source": [
    "**Discussão**\n",
    "\n",
    "Na maioria das vezes, quase todas as operações disponíveis em strings de texto funcionarão em strings de bytes. No entanto, existem algumas diferenças notáveis a serem observadas. Primeiro, a indexação de strings de bytes produz inteiros, não caracteres individuais. Por exemplo:"
   ]
  },
  {
   "cell_type": "code",
   "execution_count": 416,
   "metadata": {},
   "outputs": [
    {
     "data": {
      "text/plain": [
       "'H'"
      ]
     },
     "execution_count": 416,
     "metadata": {},
     "output_type": "execute_result"
    }
   ],
   "source": [
    "a = 'Hello World' # Text string\n",
    "a[0]"
   ]
  },
  {
   "cell_type": "code",
   "execution_count": 417,
   "metadata": {},
   "outputs": [
    {
     "data": {
      "text/plain": [
       "'e'"
      ]
     },
     "execution_count": 417,
     "metadata": {},
     "output_type": "execute_result"
    }
   ],
   "source": [
    "a[1]"
   ]
  },
  {
   "cell_type": "code",
   "execution_count": 418,
   "metadata": {},
   "outputs": [
    {
     "data": {
      "text/plain": [
       "72"
      ]
     },
     "execution_count": 418,
     "metadata": {},
     "output_type": "execute_result"
    }
   ],
   "source": [
    "b = b'Hello World' # String em Byte\n",
    "b[0]\n"
   ]
  },
  {
   "cell_type": "code",
   "execution_count": 419,
   "metadata": {},
   "outputs": [
    {
     "data": {
      "text/plain": [
       "101"
      ]
     },
     "execution_count": 419,
     "metadata": {},
     "output_type": "execute_result"
    }
   ],
   "source": [
    "b[1]"
   ]
  },
  {
   "cell_type": "markdown",
   "metadata": {},
   "source": [
    "Essa diferença na semântica pode afetar programas que tentam processar dados orientados a byte caractere por caractere.\n",
    "\n",
    "Em segundo lugar, as strings de bytes não fornecem uma boa representação de string e não são impressas de forma limpa, a menos que primeiro sejam decodificadas em uma string de texto. Por exemplo:"
   ]
  },
  {
   "cell_type": "code",
   "execution_count": 421,
   "metadata": {},
   "outputs": [
    {
     "name": "stdout",
     "output_type": "stream",
     "text": [
      "b'Hello World'\n"
     ]
    }
   ],
   "source": [
    "s = b'Hello World'\n",
    "print(s)"
   ]
  },
  {
   "cell_type": "code",
   "execution_count": 422,
   "metadata": {},
   "outputs": [
    {
     "name": "stdout",
     "output_type": "stream",
     "text": [
      "Hello World\n"
     ]
    }
   ],
   "source": [
    "print(s.decode('ascii'))"
   ]
  },
  {
   "cell_type": "markdown",
   "metadata": {},
   "source": [
    "Realizando a formatação de strings disponíveis para strings de bytes:"
   ]
  },
  {
   "cell_type": "code",
   "execution_count": 423,
   "metadata": {},
   "outputs": [
    {
     "data": {
      "text/plain": [
       "b'      ACME        100     490.10'"
      ]
     },
     "execution_count": 423,
     "metadata": {},
     "output_type": "execute_result"
    }
   ],
   "source": [
    "b'%10s %10d %10.2f' % (b'ACME', 100, 490.1)"
   ]
  },
  {
   "cell_type": "code",
   "execution_count": 424,
   "metadata": {},
   "outputs": [
    {
     "ename": "AttributeError",
     "evalue": "'bytes' object has no attribute 'format'",
     "output_type": "error",
     "traceback": [
      "\u001b[1;31m---------------------------------------------------------------------------\u001b[0m",
      "\u001b[1;31mAttributeError\u001b[0m                            Traceback (most recent call last)",
      "\u001b[1;32m<ipython-input-424-3611a4819462>\u001b[0m in \u001b[0;36m<module>\u001b[1;34m\u001b[0m\n\u001b[1;32m----> 1\u001b[1;33m \u001b[1;34mb'{} {} {}'\u001b[0m\u001b[1;33m.\u001b[0m\u001b[0mformat\u001b[0m\u001b[1;33m(\u001b[0m\u001b[1;34mb'ACME'\u001b[0m\u001b[1;33m,\u001b[0m \u001b[1;36m100\u001b[0m\u001b[1;33m,\u001b[0m \u001b[1;36m490.1\u001b[0m\u001b[1;33m)\u001b[0m\u001b[1;33m\u001b[0m\u001b[1;33m\u001b[0m\u001b[0m\n\u001b[0m",
      "\u001b[1;31mAttributeError\u001b[0m: 'bytes' object has no attribute 'format'"
     ]
    }
   ],
   "source": [
    "# Este o Python não suporta por ser bytes.\n",
    "b'{} {} {}'.format(b'ACME', 100, 490.1)"
   ]
  },
  {
   "cell_type": "markdown",
   "metadata": {},
   "source": [
    "Se você deseja fazer qualquer tipo de formatação aplicada a strings de bytes, isso deve ser feito usando strings de texto e codificação normais. Por exemplo:"
   ]
  },
  {
   "cell_type": "code",
   "execution_count": 425,
   "metadata": {},
   "outputs": [
    {
     "data": {
      "text/plain": [
       "b'ACME              100     490.10'"
      ]
     },
     "execution_count": 425,
     "metadata": {},
     "output_type": "execute_result"
    }
   ],
   "source": [
    "'{:10s} {:10d} {:10.2f}'.format('ACME', 100, 490.1).encode('ascii')"
   ]
  },
  {
   "cell_type": "markdown",
   "metadata": {},
   "source": [
    "Finalmente, você precisa estar ciente de que usar uma string de bytes pode alterar a semântica de certas operações—especialmente aquelas relacionadas ao sistema de arquivos. Por exemplo, se você fornecer um nome de arquivo codificado como bytes em vez de uma string de texto, geralmente desativa a codificação/decodificação de nome de arquivo. Por exemplo:"
   ]
  },
  {
   "cell_type": "code",
   "execution_count": 428,
   "metadata": {},
   "outputs": [
    {
     "data": {
      "text/plain": [
       "['.git',\n",
       " '.idea',\n",
       " '.ipynb_checkpoints',\n",
       " 'Capítulo 1 - Estruturas de Dados e Algoritmos.ipynb',\n",
       " 'Capítulo 2 - Strings e Texto.ipynb',\n",
       " 'jalapeño.txt',\n",
       " 'LICENSE',\n",
       " 'README.md',\n",
       " 'somefile.txt']"
      ]
     },
     "execution_count": 428,
     "metadata": {},
     "output_type": "execute_result"
    }
   ],
   "source": [
    "# Write a UTF-8 filename\n",
    "with open('jalape\\xf1o.txt', 'w') as f:\n",
    "    f.write('spicy')\n",
    "\n",
    "# Get a directory listing\n",
    "import os\n",
    "os.listdir('.') # Text string (names are decoded)"
   ]
  },
  {
   "cell_type": "code",
   "execution_count": 429,
   "metadata": {},
   "outputs": [
    {
     "data": {
      "text/plain": [
       "[b'.git',\n",
       " b'.idea',\n",
       " b'.ipynb_checkpoints',\n",
       " b'Cap\\xc3\\xadtulo 1 - Estruturas de Dados e Algoritmos.ipynb',\n",
       " b'Cap\\xc3\\xadtulo 2 - Strings e Texto.ipynb',\n",
       " b'jalape\\xc3\\xb1o.txt',\n",
       " b'LICENSE',\n",
       " b'README.md',\n",
       " b'somefile.txt']"
      ]
     },
     "execution_count": 429,
     "metadata": {},
     "output_type": "execute_result"
    }
   ],
   "source": [
    "os.listdir(b'.')"
   ]
  },
  {
   "cell_type": "markdown",
   "metadata": {},
   "source": [
    "Observe na última parte deste exemplo como fornecer uma string de bytes como o nome do diretório fez com que os nomes de arquivos resultantes fossem retornados como bytes não codificados. O nome do arquivo mostrado na listagem de diretórios contém codificação UTF-8 bruta. Veja a Receita 5.15 para alguns problemas relacionados a nomes de arquivos. \n",
    "\n",
    "Como comentário final, alguns programadores podem estar inclinados a usar strings de bytes como alternativa às strings de texto devido a uma possível melhoria de desempenho. Embora seja verdade que a manipulação de bytes tende a ser um pouco mais eficiente que o texto (devido à sobrecarga inerente relacionada ao Unicode), isso geralmente leva a um código muito confuso e não idiomático. Muitas vezes você descobrirá que strings de bytes não funcionam bem com muitas outras partes do Python e que você acaba tendo que realizar todos os tipos de operações manuais de codificação/decodificação para fazer as coisas funcionarem corretamente. Francamente, se você estiver trabalhando com texto, use strings de texto normais em seu programa, não strings de bytes."
   ]
  }
 ],
 "metadata": {
  "kernelspec": {
   "display_name": "Python 3",
   "language": "python",
   "name": "python3"
  },
  "language_info": {
   "codemirror_mode": {
    "name": "ipython",
    "version": 3
   },
   "file_extension": ".py",
   "mimetype": "text/x-python",
   "name": "python",
   "nbconvert_exporter": "python",
   "pygments_lexer": "ipython3",
   "version": "3.8.5"
  }
 },
 "nbformat": 4,
 "nbformat_minor": 1
}
