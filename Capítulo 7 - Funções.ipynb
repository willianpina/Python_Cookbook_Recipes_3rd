{
 "cells": [
  {
   "cell_type": "markdown",
   "metadata": {
    "collapsed": false
   },
   "source": [
    "<h1 align=center>Capítulo 7</h1>\n",
    "<h2 align=center>Funções</h2>\n",
    "<p align=center><img src=https://g3i5r4x7.rocketcdn.me/wp-content/uploads/2020/11/funcoes-matematicas-conceito-definicao-e-propriedades-3.jpg width=500></p>"
   ]
  },
  {
   "cell_type": "markdown",
   "metadata": {
    "collapsed": false
   },
   "source": [
    "Definir funções usando a instrução **def** é a base de todos os programas. O objetivo deste capítulo é apresentar algumas definições de funções e padrões de uso mais avançados e incomuns. Os tópicos incluem argumentos padrão, funções que aceitam qualquer número de argumentos, argumentos somente de palavra-chave, anotações e encerramentos. Além disso, alguns problemas complicados de fluxo de controle e passagem de dados envolvendo funções de retorno de chamada são abordados.\n",
    "\n",
    "## 7.1. Escrevendo funções que aceitam qualquer número de argumentos\n",
    "#### Problema\n",
    "Você deseja escrever uma função que aceite qualquer número de argumentos de entrada.\n",
    "#### Solução\n",
    "Para escrever uma função que aceite qualquer número de argumentos posicionais, use um argumento *. Por exemplo:"
   ]
  },
  {
   "cell_type": "code",
   "execution_count": 30,
   "metadata": {
    "collapsed": false
   },
   "outputs": [],
   "source": [
    "def avg(first, *rest):\n",
    "    return (first + sum(rest)) / (1 + len(rest))"
   ]
  },
  {
   "cell_type": "code",
   "execution_count": 31,
   "metadata": {
    "collapsed": false
   },
   "outputs": [
    {
     "data": {
      "text/plain": [
       "1.5"
      ]
     },
     "execution_count": 31,
     "metadata": {},
     "output_type": "execute_result"
    }
   ],
   "source": [
    "# Sample use\n",
    "avg(1, 2)"
   ]
  },
  {
   "cell_type": "code",
   "execution_count": 32,
   "metadata": {
    "collapsed": false
   },
   "outputs": [
    {
     "data": {
      "text/plain": [
       "2.5"
      ]
     },
     "execution_count": 32,
     "metadata": {},
     "output_type": "execute_result"
    }
   ],
   "source": [
    "avg(1, 2, 3, 4)"
   ]
  },
  {
   "cell_type": "markdown",
   "metadata": {
    "collapsed": false
   },
   "source": [
    "Neste exemplo, **rest** é uma tupla de todos os argumentos posicionais extras passados. O código o trata como uma sequência na execução de cálculos subsequentes. Para aceitar qualquer número de argumentos de palavra-chave, use um argumento que comece com **. Por exemplo:"
   ]
  },
  {
   "cell_type": "code",
   "execution_count": 33,
   "metadata": {
    "collapsed": false
   },
   "outputs": [],
   "source": [
    "import html\n",
    "def make_element(name, value, **attrs):\n",
    "    keyvals = [' %s=\"%s\"' % item for item in attrs.items()]\n",
    "    attr_str = ''.join(keyvals)\n",
    "    element = '<{name}{attrs}>{value}</{name}>'.format(\n",
    "        name=name,\n",
    "        attrs=attr_str,\n",
    "        value=html.escape(value))\n",
    "    return element"
   ]
  },
  {
   "cell_type": "code",
   "execution_count": 34,
   "metadata": {
    "collapsed": false
   },
   "outputs": [
    {
     "data": {
      "text/plain": [
       "'<item size=\"large\" quantity=\"6\">Albatross</item>'"
      ]
     },
     "execution_count": 34,
     "metadata": {},
     "output_type": "execute_result"
    }
   ],
   "source": [
    "make_element('item', 'Albatross', size='large', quantity=6)"
   ]
  },
  {
   "cell_type": "code",
   "execution_count": 35,
   "metadata": {
    "collapsed": false
   },
   "outputs": [
    {
     "data": {
      "text/plain": [
       "'<p>&lt;spam&gt;</p>'"
      ]
     },
     "execution_count": 35,
     "metadata": {},
     "output_type": "execute_result"
    }
   ],
   "source": [
    "make_element('p', '<spam>')"
   ]
  },
  {
   "cell_type": "markdown",
   "metadata": {
    "collapsed": false
   },
   "source": [
    "Aqui, **attrs** é um dicionário que contém os argumentos de palavra-chave passados (se houver). Se você quiser uma função que possa aceitar qualquer número de argumentos posicionais e somente palavras-chave, use * e ** juntos. Por exemplo:"
   ]
  },
  {
   "cell_type": "code",
   "execution_count": 36,
   "metadata": {
    "collapsed": false
   },
   "outputs": [],
   "source": [
    "def anyargs(*args, **kwargs):\n",
    "    print(args) # A tuple\n",
    "    print(kwargs) # A dict"
   ]
  },
  {
   "cell_type": "markdown",
   "metadata": {
    "collapsed": false
   },
   "source": [
    "Com esta função, todos os argumentos posicionais são colocados em uma tupla **args** e todos os argumentos de palavra-chave são colocados em um dicionário **kwargs**.\n",
    "#### Discussão\n",
    "Um argumento * só pode aparecer como o último argumento posicional em uma definição de função. Um argumento ** só pode aparecer como o último argumento. Um aspecto sutil das definições de função é que os argumentos ainda podem aparecer após um argumento *."
   ]
  },
  {
   "cell_type": "code",
   "execution_count": 37,
   "metadata": {
    "collapsed": false
   },
   "outputs": [],
   "source": [
    "def a(x, *args, y):\n",
    "    pass\n",
    "\n",
    "def b(x, *args, y, **kwargs):\n",
    "    pass"
   ]
  },
  {
   "cell_type": "markdown",
   "metadata": {
    "collapsed": false
   },
   "source": [
    "Esses argumentos são conhecidos como argumentos apenas de palavra-chave e são discutidos mais adiante na Receita 7.2.\n",
    "\n",
    "## 7.2. Funções de escrita que aceitam apenas argumentos de palavra-chave\n",
    "#### Problema\n",
    "Você deseja que uma função aceite apenas determinados argumentos por palavra-chave.\n",
    "#### Solução\n",
    "Esse recurso é fácil de implementar se você colocar os argumentos de palavra-chave após um * argumento ou um único sem nome *. Por exemplo:"
   ]
  },
  {
   "cell_type": "code",
   "execution_count": 38,
   "metadata": {
    "collapsed": false
   },
   "outputs": [],
   "source": [
    "def recv(maxsize, *, block):\n",
    "    'Receives a message'\n",
    "    pass"
   ]
  },
  {
   "cell_type": "code",
   "execution_count": 39,
   "metadata": {
    "collapsed": false
   },
   "outputs": [
    {
     "ename": "TypeError",
     "evalue": "recv() takes 1 positional argument but 2 were given",
     "output_type": "error",
     "traceback": [
      "\u001b[1;31m---------------------------------------------------------------------------\u001b[0m",
      "\u001b[1;31mTypeError\u001b[0m                                 Traceback (most recent call last)",
      "\u001b[1;32m~\\AppData\\Local\\Temp/ipykernel_15320/1269700236.py\u001b[0m in \u001b[0;36m<module>\u001b[1;34m\u001b[0m\n\u001b[1;32m----> 1\u001b[1;33m \u001b[0mrecv\u001b[0m\u001b[1;33m(\u001b[0m\u001b[1;36m1024\u001b[0m\u001b[1;33m,\u001b[0m \u001b[1;32mTrue\u001b[0m\u001b[1;33m)\u001b[0m\u001b[1;33m\u001b[0m\u001b[1;33m\u001b[0m\u001b[0m\n\u001b[0m",
      "\u001b[1;31mTypeError\u001b[0m: recv() takes 1 positional argument but 2 were given"
     ]
    }
   ],
   "source": [
    "recv(1024, True)"
   ]
  },
  {
   "cell_type": "code",
   "execution_count": 40,
   "metadata": {
    "collapsed": false
   },
   "outputs": [],
   "source": [
    "recv(1024, block=True)"
   ]
  },
  {
   "cell_type": "markdown",
   "metadata": {
    "collapsed": false
   },
   "source": [
    "Essa técnica também pode ser usada para especificar argumentos de palavra-chave para funções que aceitam um número variável de argumentos posicionais. Por exemplo:"
   ]
  },
  {
   "cell_type": "code",
   "execution_count": 41,
   "metadata": {
    "collapsed": false
   },
   "outputs": [],
   "source": [
    "def mininum(*values, clip=None):\n",
    "    m = min(values)\n",
    "    if clip is not None:\n",
    "        m = clip if clip > m else m\n",
    "    return m"
   ]
  },
  {
   "cell_type": "code",
   "execution_count": 42,
   "metadata": {
    "collapsed": false
   },
   "outputs": [
    {
     "data": {
      "text/plain": [
       "-5"
      ]
     },
     "execution_count": 42,
     "metadata": {},
     "output_type": "execute_result"
    }
   ],
   "source": [
    "mininum(1,5,2,-5,10)"
   ]
  },
  {
   "cell_type": "code",
   "execution_count": 43,
   "metadata": {
    "collapsed": false
   },
   "outputs": [
    {
     "data": {
      "text/plain": [
       "0"
      ]
     },
     "execution_count": 43,
     "metadata": {},
     "output_type": "execute_result"
    }
   ],
   "source": [
    "mininum(1, 5, 2, -5, 10, clip=0)"
   ]
  },
  {
   "cell_type": "markdown",
   "metadata": {
    "collapsed": false
   },
   "source": [
    "#### Discussão\n",
    "Argumentos apenas de palavras-chave geralmente são uma boa maneira de impor maior clareza de código ao especificar argumentos de função opcionais. Por exemplo, considere uma chamada como esta:\n",
    "\n",
    "~~~python\n",
    "msg = recv(1024, False)\n",
    "~~~"
   ]
  },
  {
   "cell_type": "markdown",
   "metadata": {
    "collapsed": false
   },
   "source": [
    "Se alguém não estiver intimamente familiarizado com o funcionamento do `recv()`, pode não ter ideia do que o argumento **False** significa. Por outro lado, fica muito mais claro se a chamada for escrita assim:"
   ]
  },
  {
   "cell_type": "code",
   "execution_count": 44,
   "metadata": {
    "collapsed": false
   },
   "outputs": [],
   "source": [
    "msg = recv(1024, block=False)"
   ]
  },
  {
   "cell_type": "markdown",
   "metadata": {
    "collapsed": false
   },
   "source": [
    "O uso de argumentos apenas com palavras-chave também costuma ser preferível a truques envolvendo ****kwargs**, pois eles aparecem corretamente quando o usuário pede ajuda:"
   ]
  },
  {
   "cell_type": "code",
   "execution_count": 45,
   "metadata": {
    "collapsed": false
   },
   "outputs": [
    {
     "name": "stdout",
     "output_type": "stream",
     "text": [
      "Help on function recv in module __main__:\n",
      "\n",
      "recv(maxsize, *, block)\n",
      "    Receives a message\n",
      "\n"
     ]
    }
   ],
   "source": [
    "help(recv)"
   ]
  },
  {
   "cell_type": "markdown",
   "metadata": {
    "collapsed": false
   },
   "source": [
    "Argumentos apenas de palavra-chave também têm utilidade em contextos mais avançados. Por exemplo, eles podem ser usados para injetar argumentos em funções que usam a convenção *args e **kwargs para aceitar todas as entradas. Consulte a Receita 9.11 para obter um exemplo.\n",
    "## 7.3. Anexando metadados informativos a argumentos de função\n",
    "#### Problema\n",
    "Você escreveu uma função, mas gostaria de anexar algumas informações adicionais aos argumentos para que outros saibam mais sobre como uma função deve ser usada.\n",
    "#### Solução\n",
    "As anotações de argumento de função podem ser uma maneira útil de fornecer dicas aos programadores sobre como uma função deve ser usada. Por exemplo, considere a seguinte função anotada:"
   ]
  },
  {
   "cell_type": "code",
   "execution_count": 46,
   "metadata": {
    "collapsed": false
   },
   "outputs": [],
   "source": [
    "def add(x:int, y:int) -> int:\n",
    "    return x + y"
   ]
  },
  {
   "cell_type": "markdown",
   "metadata": {},
   "source": [
    "O interpretador Python não atribui nenhum significado semântico às anotações anexadas. Eles não são verificações de tipo, nem fazem o Python se comportar de maneira diferente do que antes. No entanto, eles podem dar dicas úteis para outras pessoas que estão lendo o código-fonte sobre o que você tem em mente. Ferramentas e estruturas de terceiros também podem anexar significado semântico às anotações. Eles também aparecem na documentação:"
   ]
  },
  {
   "cell_type": "code",
   "execution_count": 47,
   "metadata": {},
   "outputs": [
    {
     "name": "stdout",
     "output_type": "stream",
     "text": [
      "Help on function add in module __main__:\n",
      "\n",
      "add(x: int, y: int) -> int\n",
      "\n"
     ]
    }
   ],
   "source": [
    "help(add)"
   ]
  },
  {
   "cell_type": "markdown",
   "metadata": {},
   "source": [
    "Embora você possa anexar qualquer tipo de objeto a uma função como uma anotação (por exemplo, números, strings, instâncias, etc.), classes ou strings geralmente parecem fazer mais sentido.\n",
    "##### Discussão\n",
    "As anotações de função são meramente armazenadas no atributo \\_\\_annotations\\_\\_ de uma função. Por exemplo:"
   ]
  },
  {
   "cell_type": "code",
   "execution_count": 48,
   "metadata": {},
   "outputs": [
    {
     "data": {
      "text/plain": [
       "{'x': int, 'y': int, 'return': int}"
      ]
     },
     "execution_count": 48,
     "metadata": {},
     "output_type": "execute_result"
    }
   ],
   "source": [
    "add.__annotations__"
   ]
  },
  {
   "cell_type": "markdown",
   "metadata": {},
   "source": [
    "Embora existam muitos usos potenciais de anotações, sua principal utilidade provavelmente é apenas a documentação. Como o Python não tem declarações de tipo, muitas vezes pode ser difícil saber o que você deve passar para uma função se estiver simplesmente lendo seu código-fonte isoladamente. Uma anotação dá a alguém mais uma dica.\n",
    "\n",
    "Consulte a Receita 9.20 para obter um exemplo avançado que mostra como usar anotações para implementar despacho múltiplo (isto é, funções sobrecarregadas)."
   ]
  },
  {
   "cell_type": "markdown",
   "metadata": {},
   "source": [
    "## 7.4 Retornando múltiplos valores com uma Função\n",
    "#### Problema \n",
    "Você quer retornar multiplos valores de uma função.\n",
    "\n",
    "#### Solução\n",
    "Para retornar múltiplos valorres de uma função, simplesmente retorne uma tupla. Por exemplo:"
   ]
  },
  {
   "cell_type": "code",
   "execution_count": 49,
   "metadata": {},
   "outputs": [],
   "source": [
    "def myfun():\n",
    "    return 1, 2, 3"
   ]
  },
  {
   "cell_type": "code",
   "execution_count": 50,
   "metadata": {},
   "outputs": [
    {
     "data": {
      "text/plain": [
       "1"
      ]
     },
     "execution_count": 50,
     "metadata": {},
     "output_type": "execute_result"
    }
   ],
   "source": [
    "a, b, c = myfun()\n",
    "a"
   ]
  },
  {
   "cell_type": "code",
   "execution_count": 51,
   "metadata": {},
   "outputs": [
    {
     "data": {
      "text/plain": [
       "2"
      ]
     },
     "execution_count": 51,
     "metadata": {},
     "output_type": "execute_result"
    }
   ],
   "source": [
    "b"
   ]
  },
  {
   "cell_type": "code",
   "execution_count": 52,
   "metadata": {},
   "outputs": [
    {
     "data": {
      "text/plain": [
       "3"
      ]
     },
     "execution_count": 52,
     "metadata": {},
     "output_type": "execute_result"
    }
   ],
   "source": [
    "c"
   ]
  },
  {
   "cell_type": "markdown",
   "metadata": {},
   "source": [
    "#### Discussão\n",
    "Embora pareça que myfun() retorna múltiplos valores, a tupla está sendo criada. Parece um pouco peculiar, mas é na verdade a vírgula que forma a tupla e não os parênteses. Por exemplo:"
   ]
  },
  {
   "cell_type": "code",
   "execution_count": 53,
   "metadata": {},
   "outputs": [
    {
     "data": {
      "text/plain": [
       "(1, 2)"
      ]
     },
     "execution_count": 53,
     "metadata": {},
     "output_type": "execute_result"
    }
   ],
   "source": [
    "a = (1,2) # Com parêntesis\n",
    "a"
   ]
  },
  {
   "cell_type": "code",
   "execution_count": 54,
   "metadata": {},
   "outputs": [
    {
     "data": {
      "text/plain": [
       "(1, 2)"
      ]
     },
     "execution_count": 54,
     "metadata": {},
     "output_type": "execute_result"
    }
   ],
   "source": [
    "b = 1,2 # Sem parêntesis\n",
    "b"
   ]
  },
  {
   "cell_type": "markdown",
   "metadata": {},
   "source": [
    "Quando chamamos funções que retornam uma tupla, é comum atribuir o resultado a múltiplas variáveis, como apresentado. Isto é simplesmente o desempacotamento de tuplas, como descrito na Receita 1.1. O retorno de valores poderia também ter sido atribuído a uma simples variável:"
   ]
  },
  {
   "cell_type": "code",
   "execution_count": 55,
   "metadata": {},
   "outputs": [
    {
     "data": {
      "text/plain": [
       "(1, 2, 3)"
      ]
     },
     "execution_count": 55,
     "metadata": {},
     "output_type": "execute_result"
    }
   ],
   "source": [
    "x = myfun()\n",
    "x"
   ]
  },
  {
   "cell_type": "markdown",
   "metadata": {},
   "source": [
    "## 7.5 Definindo funções com argumentos padrões\n",
    "#### Problema\n",
    "Voce quer definir um função ou método onde um ou mais argumentos são opcionais que tem um valor padrão.\n",
    "\n",
    "#### Solução\n",
    "Na verdade, definir uma função com argumentos opcionais é apenas atribuir valores na definição ou assegurar que o valor padrão aparece como último. Por exemplo:"
   ]
  },
  {
   "cell_type": "code",
   "execution_count": 56,
   "metadata": {},
   "outputs": [],
   "source": [
    "def spam(a, b=42):\n",
    "    print(a, b)"
   ]
  },
  {
   "cell_type": "code",
   "execution_count": 57,
   "metadata": {},
   "outputs": [
    {
     "name": "stdout",
     "output_type": "stream",
     "text": [
      "1 42\n"
     ]
    }
   ],
   "source": [
    "spam(1) # Ok. a=1, b=42"
   ]
  },
  {
   "cell_type": "code",
   "execution_count": 58,
   "metadata": {},
   "outputs": [
    {
     "name": "stdout",
     "output_type": "stream",
     "text": [
      "1 2\n"
     ]
    }
   ],
   "source": [
    "spam(1, 2) # Ok. a=1, b=2"
   ]
  },
  {
   "cell_type": "markdown",
   "metadata": {},
   "source": [
    "Se o valor padrão é suposto ser um conteiner mutável, como uma lista, conjunto ou dicionário, utilize **None** como padrão e escreva o código assim:"
   ]
  },
  {
   "cell_type": "code",
   "execution_count": 59,
   "metadata": {},
   "outputs": [],
   "source": [
    "# Usando uma lista como valor padrão\n",
    "def spam(a, b=None):\n",
    "    if b is None:\n",
    "        b = []"
   ]
  },
  {
   "cell_type": "markdown",
   "metadata": {},
   "source": [
    "Se, ao invés de providenciar um valor padrão, você quiser escrever um código que simplesmente test se um argumento opciona foi dado um valor interessante ou não, use este idioma:"
   ]
  },
  {
   "cell_type": "code",
   "execution_count": 60,
   "metadata": {},
   "outputs": [],
   "source": [
    "_no_value = object()\n",
    "def spam(a, b=_no_value):\n",
    "    if b is _no_value:\n",
    "        print('No b value supplied')"
   ]
  },
  {
   "cell_type": "markdown",
   "metadata": {},
   "source": [
    "Aqui está como a função se comporta:"
   ]
  },
  {
   "cell_type": "code",
   "execution_count": 61,
   "metadata": {},
   "outputs": [
    {
     "name": "stdout",
     "output_type": "stream",
     "text": [
      "No b value supplied\n"
     ]
    }
   ],
   "source": [
    "spam(1)"
   ]
  },
  {
   "cell_type": "code",
   "execution_count": 62,
   "metadata": {},
   "outputs": [],
   "source": [
    "spam(1,2) # b = 2"
   ]
  },
  {
   "cell_type": "code",
   "execution_count": 63,
   "metadata": {},
   "outputs": [],
   "source": [
    "spam(1, None) # b = None"
   ]
  },
  {
   "cell_type": "markdown",
   "metadata": {},
   "source": [
    "Observe cuidadosamente que existe uma distinção entre passar nenhum valor e passar um valor **None**\n",
    "\n",
    "#### Discussão\n",
    "Definir funções com argumentos padrão é fácil, mas existem alguns probleminhas que fogem aos olhos.\n",
    "\n",
    "Primeiro, os valores atribuídos como padrão são arrolados na hora que da definição da função. Tente ver neste exemplo:"
   ]
  },
  {
   "cell_type": "code",
   "execution_count": 64,
   "metadata": {},
   "outputs": [],
   "source": [
    "x = 42\n",
    "def spam(a, b=x):\n",
    "    print(a, b)"
   ]
  },
  {
   "cell_type": "code",
   "execution_count": 65,
   "metadata": {},
   "outputs": [
    {
     "name": "stdout",
     "output_type": "stream",
     "text": [
      "1 42\n"
     ]
    }
   ],
   "source": [
    "spam(1)"
   ]
  },
  {
   "cell_type": "code",
   "execution_count": 66,
   "metadata": {},
   "outputs": [
    {
     "name": "stdout",
     "output_type": "stream",
     "text": [
      "1 42\n"
     ]
    }
   ],
   "source": [
    "x =23\n",
    "spam(1) # Não tem efeito algum."
   ]
  },
  {
   "cell_type": "markdown",
   "metadata": {},
   "source": [
    "Observe que mudar a variável x (que foi utilizada como valor padrão) não teve nenhuma efeito posterior. Isto é porque o valor padrão foi fixado na hora da definição da função.\n",
    "\n",
    "Segundo, os valores atribuídos como padrão deveriam sempre ser objetos imutáveis, como None, True, False, números ou strings. Especificamente, nunca escreva um cógido tipo assim:\n",
    "~~~python\n",
    "def spam(a, b=[]): # NÃO!\n",
    " ...\n",
    "~~~\n"
   ]
  },
  {
   "cell_type": "markdown",
   "metadata": {},
   "source": [
    "Se você fizer isto, você pode carregar todos os tipos de problemas se o valor já escapar a função e for modificado. Como as mudanças alterarão permanentemente o valor padrão nas chamadas da função for chamada. Por exemplo:"
   ]
  },
  {
   "cell_type": "code",
   "execution_count": 76,
   "metadata": {},
   "outputs": [],
   "source": [
    "def spam(a, b=[]):\n",
    "    print(b)\n",
    "    return b"
   ]
  },
  {
   "cell_type": "code",
   "execution_count": 77,
   "metadata": {},
   "outputs": [
    {
     "name": "stdout",
     "output_type": "stream",
     "text": [
      "[]\n"
     ]
    }
   ],
   "source": [
    "x = spam(1)"
   ]
  },
  {
   "cell_type": "code",
   "execution_count": 78,
   "metadata": {},
   "outputs": [
    {
     "data": {
      "text/plain": [
       "[99, 'Teste']"
      ]
     },
     "execution_count": 78,
     "metadata": {},
     "output_type": "execute_result"
    }
   ],
   "source": [
    "x.append(99)\n",
    "x.append('Teste')\n",
    "x "
   ]
  },
  {
   "cell_type": "code",
   "execution_count": 79,
   "metadata": {},
   "outputs": [
    {
     "name": "stdout",
     "output_type": "stream",
     "text": [
      "[99, 'Teste']\n"
     ]
    },
    {
     "data": {
      "text/plain": [
       "[99, 'Teste']"
      ]
     },
     "execution_count": 79,
     "metadata": {},
     "output_type": "execute_result"
    }
   ],
   "source": [
    "spam(1) # Modified list gets returned!"
   ]
  },
  {
   "cell_type": "markdown",
   "metadata": {},
   "source": [
    "Isto é provavelmente o que não quer que aconteça Para evitar isso, é melhor atribuir *None* como padrão e adicionar um check dentro da função para ele, como apresentado na solução.\n",
    "O uso do  operador `is` quando for testar o None é uma parte crítica desta receita. Algumas vezes as pessoas comentem esse erro:"
   ]
  },
  {
   "cell_type": "code",
   "execution_count": 80,
   "metadata": {},
   "outputs": [],
   "source": [
    "def spam(a, b=None):\n",
    "     if not b: # NO! Use 'b is None' instead\n",
    "         b = []\n"
   ]
  },
  {
   "cell_type": "markdown",
   "metadata": {},
   "source": [
    "O problema aqui é embora *None* avalie como *False*, muito outros objetos (por exemplo, string de tamanho zero, listas, tuplas, dicionários, etc.) fazem o mesmo. Então, o teste apresentado colocaria certos inputs como faltosos. Por exemplo:"
   ]
  },
  {
   "cell_type": "code",
   "execution_count": 85,
   "metadata": {},
   "outputs": [],
   "source": [
    "spam(1) # OK\n",
    "x = []\n",
    "spam(1, x)    # Erro silencioso. O valor de x sobrescrito no padrão.\n",
    "spam(1, 0)    # Erro silencioso. 0 ignorado\n",
    "spam(1, '')   # Erro silencioso. '' ignorado"
   ]
  },
  {
   "cell_type": "markdown",
   "metadata": {},
   "source": [
    "A última parte deste receita é algo que é melhor *subtle* - uma função que testa para ver se o valor (qualquer valor) foi informado como argumento opcional ou não. O truque aqui é que você não pode usar um valor padrão como None, 0 ou False para testar a presenta de um argumento suprido pelo usuário (uma vez que todos esses são perfeitamente valores válidos que o usuário pode inputar). Então, você precisa de algo então para testar contra.\n",
    "\n",
    "Para resolver este problema, voce pode criar uma instância única privada de objeto, como apresentada na solução (a variável *_no_value*). Na função, você pode checar a identidade do argumento informado como contra este valor especial para ver se o argumento foi informado ou não. A idéia aqui é que seria extremamente improvável pelo usuário passar a instância _no_value com um valor input. Entretanto, torna comum a classe que serve como classe base comum  para todos os objetos python. Você pode criar instancias de objetos, mas eles não são interessante, como eles não têm nenhum métodos notável e nem uma instância de dados (porque aqui é um dicionário instanciado por baixo dos panos, você não pode nem ajustar os atributos). Sobre a única coisa que você pode fazer é performar testes para identidade. Isto faz deles útil como valores especiais, como apresentado na solução."
   ]
  },
  {
   "cell_type": "markdown",
   "metadata": {},
   "source": [
    "## 7.6 Definindo funções anônimas ou Inline\n",
    "#### Problema\n",
    "Você precisã suprir uma curta função de *callback* para usar uma operação como sort(), mas você não quer escrever uma função online usando uma instrução *def*. Ao invés disso, você gostaria um atalho que permitisse especificar a função *In line*.\n",
    "#### Solução \n",
    "Funções simples fazem nada mais que avaliar uma expressão pode ser substituídas pela expressão `lambda`. Por exemplo:"
   ]
  },
  {
   "cell_type": "code",
   "execution_count": 86,
   "metadata": {},
   "outputs": [
    {
     "data": {
      "text/plain": [
       "5"
      ]
     },
     "execution_count": 86,
     "metadata": {},
     "output_type": "execute_result"
    }
   ],
   "source": [
    "add = lambda x, y: x + y\n",
    "add(2,3)"
   ]
  },
  {
   "cell_type": "code",
   "execution_count": 87,
   "metadata": {},
   "outputs": [
    {
     "data": {
      "text/plain": [
       "'helloworld'"
      ]
     },
     "execution_count": 87,
     "metadata": {},
     "output_type": "execute_result"
    }
   ],
   "source": [
    "add('hello', 'world')"
   ]
  },
  {
   "cell_type": "markdown",
   "metadata": {},
   "source": [
    "O uso do `lambda` aqui é o mesmo que ter digitado isto:\n"
   ]
  },
  {
   "cell_type": "code",
   "execution_count": 88,
   "metadata": {},
   "outputs": [],
   "source": [
    "def add(x, y):\n",
    "    return x + y"
   ]
  },
  {
   "cell_type": "markdown",
   "metadata": {},
   "source": [
    "Normalmente, `lambda` é usado no contexto de algumas outras operações, como ordenar ou reduzir dados."
   ]
  },
  {
   "cell_type": "code",
   "execution_count": 103,
   "metadata": {},
   "outputs": [],
   "source": [
    "nomes = ['Antonio Zulu', 'Zeca Amador', 'Beatriz Rodrigues', 'Ronaldo Barcelos']"
   ]
  },
  {
   "cell_type": "code",
   "execution_count": 104,
   "metadata": {},
   "outputs": [
    {
     "data": {
      "text/plain": [
       "['Antonio Zulu', 'Beatriz Rodrigues', 'Ronaldo Barcelos', 'Zeca Amador']"
      ]
     },
     "execution_count": 104,
     "metadata": {},
     "output_type": "execute_result"
    }
   ],
   "source": [
    "sorted(nomes)"
   ]
  },
  {
   "cell_type": "code",
   "execution_count": 105,
   "metadata": {},
   "outputs": [
    {
     "data": {
      "text/plain": [
       "['Zeca Amador', 'Ronaldo Barcelos', 'Beatriz Rodrigues', 'Antonio Zulu']"
      ]
     },
     "execution_count": 105,
     "metadata": {},
     "output_type": "execute_result"
    }
   ],
   "source": [
    "sorted(nomes, key=lambda name: name.split()[-1].lower())"
   ]
  },
  {
   "cell_type": "markdown",
   "metadata": {},
   "source": [
    "#### Discussão\n",
    "Embora `lambda` permite você definir funções simples, o uso é altamente restrito. Em particular, somente uma expressão simples pode ser especificada, o resultado do que é o valor retornado. Isto significa que nenhuma característica da linguagem, incluindo múltiplas proposições, condicionais, iterações, manipulação de exceções podem ser incluídas.\n",
    "\n",
    "Você pode felizmente escrever muitos códigos Python sem já usar `lambda`. Entretanto, você encontrará ocasionalmente ele em programas onde alguem está escrevendo um monte de pequenas funções para avaliar várias expressões, ou em programas que requer usuários para suprir funções callback."
   ]
  },
  {
   "cell_type": "markdown",
   "metadata": {},
   "source": [
    "## Capturando Variáveis em Funções Anônimas\n",
    "#### Problema\n",
    "Você definiu uma função anônima usando `lambda`, mas você também precisa capturar o valor de certas variáveis na hora da definicção.\n",
    "### Solução\n",
    "Considere o comportamento do código a seguir:"
   ]
  },
  {
   "cell_type": "code",
   "execution_count": 107,
   "metadata": {},
   "outputs": [],
   "source": [
    "x = 10\n",
    "a = lambda y: x + y\n",
    "x = 20\n",
    "b = lambda y: x + y"
   ]
  },
  {
   "cell_type": "markdown",
   "metadata": {},
   "source": [
    "Agora questione-se a si mesmo. Quis são os valores de a(10) e b(10)? Se você pensar o resultado pode ser 20 e 30, você estaria errado:"
   ]
  },
  {
   "cell_type": "code",
   "execution_count": 108,
   "metadata": {},
   "outputs": [
    {
     "data": {
      "text/plain": [
       "30"
      ]
     },
     "execution_count": 108,
     "metadata": {},
     "output_type": "execute_result"
    }
   ],
   "source": [
    "a(10)"
   ]
  },
  {
   "cell_type": "code",
   "execution_count": 109,
   "metadata": {},
   "outputs": [
    {
     "data": {
      "text/plain": [
       "30"
      ]
     },
     "execution_count": 109,
     "metadata": {},
     "output_type": "execute_result"
    }
   ],
   "source": [
    "b(10)"
   ]
  },
  {
   "cell_type": "markdown",
   "metadata": {},
   "source": [
    "O problema aqui é que o valor de *x* usado na expressão `lambda` é uma variável livre que pega na hora que está rodando (runtime) e não na hora da definição. Então, o valor de *x* na expressão `lambda` é seja lá qual for o valor da variável *x* que aparecer na hora da execução. Por exemplo:"
   ]
  },
  {
   "cell_type": "code",
   "execution_count": 110,
   "metadata": {},
   "outputs": [
    {
     "data": {
      "text/plain": [
       "25"
      ]
     },
     "execution_count": 110,
     "metadata": {},
     "output_type": "execute_result"
    }
   ],
   "source": [
    "x = 15\n",
    "a(10)"
   ]
  },
  {
   "cell_type": "code",
   "execution_count": 111,
   "metadata": {},
   "outputs": [
    {
     "data": {
      "text/plain": [
       "13"
      ]
     },
     "execution_count": 111,
     "metadata": {},
     "output_type": "execute_result"
    }
   ],
   "source": [
    "x = 3\n",
    "a(10)"
   ]
  },
  {
   "cell_type": "markdown",
   "metadata": {},
   "source": [
    "Se você quiser uma função anônima para capturar o valor no ponto da definição e mantê-la, inclua o valor como valor padrão, dessa forma:"
   ]
  },
  {
   "cell_type": "code",
   "execution_count": 112,
   "metadata": {},
   "outputs": [
    {
     "data": {
      "text/plain": [
       "20"
      ]
     },
     "execution_count": 112,
     "metadata": {},
     "output_type": "execute_result"
    }
   ],
   "source": [
    "x = 10\n",
    "a = lambda y, x=x: x + y\n",
    "x = 20\n",
    "b = lambda y, x=x: x + y\n",
    "a(10)"
   ]
  },
  {
   "cell_type": "code",
   "execution_count": 113,
   "metadata": {},
   "outputs": [
    {
     "data": {
      "text/plain": [
       "30"
      ]
     },
     "execution_count": 113,
     "metadata": {},
     "output_type": "execute_result"
    }
   ],
   "source": [
    "b(10)"
   ]
  },
  {
   "cell_type": "markdown",
   "metadata": {},
   "source": [
    "#### Discussão\n",
    "O problema apresentado nesta receita é algo que tende a surgir em códigos que tenta ser um pouco mais rápido com o uso das funções `lambda`. Por exemplo, criar uma lista de expressões `lambda` usando uma *list comprehension* ou um *loop* de algum tipo e esperar a função a função `lambda` lembrar a variável iterada na hora da definição. Por exemplo:"
   ]
  },
  {
   "cell_type": "code",
   "execution_count": 114,
   "metadata": {},
   "outputs": [
    {
     "name": "stdout",
     "output_type": "stream",
     "text": [
      "4\n",
      "4\n",
      "4\n",
      "4\n",
      "4\n"
     ]
    }
   ],
   "source": [
    "funcs = [lambda x: x+n for n in range(5)]\n",
    "for f in funcs:\n",
    "    print(f(0))"
   ]
  },
  {
   "cell_type": "markdown",
   "metadata": {},
   "source": [
    "Observe como todas as funções pensar que *n* tem o último valor durante a iteração. Agora comparece com o código seguinte:"
   ]
  },
  {
   "cell_type": "code",
   "execution_count": 115,
   "metadata": {},
   "outputs": [
    {
     "name": "stdout",
     "output_type": "stream",
     "text": [
      "0\n",
      "1\n",
      "2\n",
      "3\n",
      "4\n"
     ]
    }
   ],
   "source": [
    "funcs = [lambda x, n=n: x+n for n in range(5)]\n",
    "for f in funcs:\n",
    "    print(f(0))"
   ]
  },
  {
   "cell_type": "markdown",
   "metadata": {},
   "source": [
    "Como podemos ver, as funções agora capturam o valor de *n* na hora da definição."
   ]
  },
  {
   "cell_type": "markdown",
   "metadata": {},
   "source": [
    "## 7.8 Fazendo um Argumento-N Chamável Trabalhar como Chamável com Poucos Argumentos\n",
    "#### Problema\n",
    "Voce tem um *callable* que você gostaria de usar com algum outro código Python, possivelmente um função callback ou manipuladora, mas que pegue muitos argumentos e cause um excessão quando chamada.\n",
    "#### Solução\n",
    "Se você precisa reduzir o número de argumentos para a função, você deveria usar `functools.partial()`. A função `partial()` permite você atribuir valores fixados para ou um mais argumentos, de forma a reduzir o número de argumentos que precisãm ser suprimidos para a chamada subsequente. Para ilustrar, supomos que temos esta função:"
   ]
  },
  {
   "cell_type": "code",
   "execution_count": 116,
   "metadata": {},
   "outputs": [],
   "source": [
    "def spam(a, b, c, d):\n",
    "    print(a, b, c, d)"
   ]
  },
  {
   "cell_type": "markdown",
   "metadata": {},
   "source": [
    "Agora considere o uso de `partial()`para fixar valores de certos argumentos:"
   ]
  },
  {
   "cell_type": "code",
   "execution_count": 117,
   "metadata": {},
   "outputs": [
    {
     "name": "stdout",
     "output_type": "stream",
     "text": [
      "1 2 3 4\n"
     ]
    }
   ],
   "source": [
    "from functools import partial\n",
    "s1 = partial(spam, 1) # a = 1\n",
    "s1(2, 3, 4)"
   ]
  },
  {
   "cell_type": "code",
   "execution_count": 118,
   "metadata": {},
   "outputs": [
    {
     "name": "stdout",
     "output_type": "stream",
     "text": [
      "1 4 5 6\n"
     ]
    }
   ],
   "source": [
    "s1(4, 5, 6)"
   ]
  },
  {
   "cell_type": "code",
   "execution_count": 119,
   "metadata": {},
   "outputs": [],
   "source": [
    "s2 = partial(spam, d=42) # d = 42"
   ]
  },
  {
   "cell_type": "code",
   "execution_count": 121,
   "metadata": {},
   "outputs": [
    {
     "name": "stdout",
     "output_type": "stream",
     "text": [
      "1 2 3 42\n"
     ]
    }
   ],
   "source": [
    "s2(1, 2, 3)"
   ]
  },
  {
   "cell_type": "code",
   "execution_count": 122,
   "metadata": {},
   "outputs": [
    {
     "name": "stdout",
     "output_type": "stream",
     "text": [
      "4 5 5 42\n"
     ]
    }
   ],
   "source": [
    "s2(4, 5, 5)"
   ]
  },
  {
   "cell_type": "code",
   "execution_count": 123,
   "metadata": {},
   "outputs": [],
   "source": [
    "s3 = partial(spam, 1, 2, d=42) # a = 1, b = 2, d = 42"
   ]
  },
  {
   "cell_type": "code",
   "execution_count": 125,
   "metadata": {},
   "outputs": [
    {
     "name": "stdout",
     "output_type": "stream",
     "text": [
      "1 2 3 42\n"
     ]
    }
   ],
   "source": [
    "s3(3)"
   ]
  },
  {
   "cell_type": "code",
   "execution_count": 126,
   "metadata": {},
   "outputs": [
    {
     "name": "stdout",
     "output_type": "stream",
     "text": [
      "1 2 4 42\n"
     ]
    }
   ],
   "source": [
    "s3(4)"
   ]
  },
  {
   "cell_type": "code",
   "execution_count": 127,
   "metadata": {},
   "outputs": [
    {
     "name": "stdout",
     "output_type": "stream",
     "text": [
      "1 2 5 42\n"
     ]
    }
   ],
   "source": [
    "s3(5)"
   ]
  },
  {
   "cell_type": "markdown",
   "metadata": {},
   "source": [
    "Observe que `partial()`fixa os valores para certos argumentos e retorna um novo *callable* como um resultado Este novo *callable* aceita ainda argumentos não atribuídos, combinando-os com os argumentos dados ao `partial()`, e passa tudo para a função original."
   ]
  },
  {
   "cell_type": "markdown",
   "metadata": {},
   "source": [
    "#### Discussão\n",
    "Esta receita está realmente relacionada ao problema de transformar pedaços incompatíveis parecidos de código trabalharem juntos. Uma séries de exemplos ajudará ilustrar.\n",
    "\n",
    "Como um primeiro exemplo, suponha que você tenha uma lista de pontos de coordenadas representados como tuplas (x,y). Você poderia usar a função a seguir para calcular a distância entre dois pontos."
   ]
  },
  {
   "cell_type": "code",
   "execution_count": 128,
   "metadata": {},
   "outputs": [],
   "source": [
    "points = [ (1, 2), (3, 4), (5, 6), (7, 8) ]\n",
    "import math\n",
    "def distance(p1, p2):\n",
    "    x1, y1 = p1\n",
    "    x2, y2 = p2\n",
    "    return math.hypot(x2 - x1, y2 - y1)"
   ]
  },
  {
   "cell_type": "markdown",
   "metadata": {},
   "source": [
    "Agora supinha que você quer ordenar todos os pontos de acordo com suas distâncias de algum outro ponto. O método de lista sort() aceita um argumento *key* que pode ser usado para customizar a ordenação, mas ele somente funciona com funções que carregam um simples argumento (dessa forma, distance() não é ajustável). Aqui está como você pode usar `partial()`para corrigi-lo:"
   ]
  },
  {
   "cell_type": "code",
   "execution_count": 129,
   "metadata": {},
   "outputs": [
    {
     "data": {
      "text/plain": [
       "[(3, 4), (1, 2), (5, 6), (7, 8)]"
      ]
     },
     "execution_count": 129,
     "metadata": {},
     "output_type": "execute_result"
    }
   ],
   "source": [
    "pt = (4, 3)\n",
    "points.sort(key=partial(distance,pt))\n",
    "points\n"
   ]
  },
  {
   "cell_type": "markdown",
   "metadata": {},
   "source": [
    "## Substituindo Métodos de Classes Simples com Funções\n",
    "#### Problema\n",
    "Você tem uma classe que define apenas um único método além de \\_\\_init\\_\\_(). No entanto, para simplificar seu código, você preferiria ter apenas uma função simples.\n",
    "#### Solução\n",
    "Em muitos casos, classes de método único podem ser transformadas em funções usando encerramentos. Considere, como exemplo, a classe a seguir, que permite que um usuário busque URLs usando um tipo de esquema de modelo.\n"
   ]
  },
  {
   "cell_type": "code",
   "execution_count": 8,
   "metadata": {},
   "outputs": [
    {
     "name": "stdout",
     "output_type": "stream",
     "text": [
      "Date,Open,High,Low,Close,Adj Close,Volume\n",
      "\n",
      "2021-12-06,164.289993,167.880005,164.279999,165.320007,164.366074,107497000\n",
      "\n",
      "2021-12-07,169.080002,171.580002,168.339996,171.179993,170.192230,120405400\n",
      "\n",
      "2021-12-08,172.130005,175.960007,170.699997,175.080002,174.069733,116998900\n",
      "\n",
      "2021-12-09,174.910004,176.750000,173.919998,174.559998,173.552734,108923700\n",
      "\n",
      "2021-12-10,175.210007,179.630005,174.690002,179.449997,178.414536,115402700\n",
      "\n",
      "2021-12-13,181.119995,182.130005,175.529999,175.740005,174.725937,153237000\n",
      "\n",
      "2021-12-14,175.250000,177.740005,172.210007,174.330002,173.324066,139380400\n",
      "\n",
      "2021-12-15,175.110001,179.500000,172.309998,179.300003,178.265381,131063300\n",
      "\n",
      "2021-12-16,179.279999,181.139999,170.750000,172.259995,171.265991,150185800\n",
      "\n",
      "2021-12-17,169.929993,173.470001,169.690002,171.139999,170.152481,195432700\n",
      "\n",
      "2021-12-20,168.279999,170.580002,167.460007,169.750000,168.770477,107499100\n",
      "\n",
      "2021-12-21,171.559998,173.199997,169.119995,172.990005,171.991791,91185900\n",
      "\n",
      "2021-12-22,173.039993,175.860001,172.149994,175.639999,174.626495,92135300\n",
      "\n",
      "2021-12-23,175.850006,176.850006,175.270004,176.279999,175.262802,68356600\n",
      "\n",
      "2021-12-27,177.089996,180.419998,177.070007,180.330002,179.289459,74919600\n",
      "\n",
      "2021-12-28,180.160004,181.330002,178.529999,179.289993,178.255432,79144300\n",
      "\n",
      "2021-12-29,179.330002,180.630005,178.139999,179.380005,178.344925,62348900\n",
      "\n",
      "2021-12-30,179.470001,180.570007,178.089996,178.199997,177.171738,59773000\n",
      "\n",
      "2021-12-31,178.089996,179.229996,177.259995,177.570007,176.545364,64062300\n",
      "\n",
      "2022-01-03,177.830002,182.880005,177.710007,182.009995,180.959747,104487900\n",
      "\n",
      "2022-01-04,182.630005,182.940002,179.119995,179.699997,178.663086,99310400\n",
      "\n",
      "2022-01-05,179.610001,180.169998,174.639999,174.919998,173.910645,94537600\n",
      "\n",
      "2022-01-06,172.699997,175.300003,171.639999,172.000000,171.007507,96904000\n",
      "\n",
      "2022-01-07,172.889999,174.139999,171.029999,172.169998,171.176544,86709100\n",
      "\n",
      "2022-01-10,169.080002,172.500000,168.169998,172.190002,171.196411,106765600\n",
      "\n",
      "2022-01-11,172.320007,175.179993,170.820007,175.080002,174.069733,76138300\n",
      "\n",
      "2022-01-12,176.119995,177.179993,174.820007,175.529999,174.517136,74805200\n",
      "\n",
      "2022-01-13,175.779999,176.619995,171.789993,172.190002,171.196411,84505800\n",
      "\n",
      "2022-01-14,171.339996,173.779999,171.089996,173.070007,172.071350,80440800\n",
      "\n",
      "2022-01-18,171.509995,172.539993,169.410004,169.800003,168.820206,90956700\n",
      "\n",
      "2022-01-19,170.000000,171.080002,165.940002,166.229996,165.270813,94815000\n",
      "\n",
      "2022-01-20,166.979996,169.679993,164.179993,164.509995,163.560715,91420500\n",
      "\n",
      "2022-01-21,164.419998,166.330002,162.300003,162.410004,161.472855,122848900\n",
      "\n",
      "2022-01-24,160.020004,162.300003,154.699997,161.619995,160.687393,162294600\n",
      "\n",
      "2022-01-25,158.979996,162.759995,157.020004,159.779999,158.858017,115798400\n",
      "\n",
      "2022-01-26,163.500000,164.389999,157.820007,159.690002,158.768539,108275300\n",
      "\n",
      "2022-01-27,162.449997,163.839996,158.279999,159.220001,158.301254,121954600\n",
      "\n",
      "2022-01-28,165.710007,170.350006,162.800003,170.330002,169.347153,179935700\n",
      "\n",
      "2022-01-31,170.160004,175.000000,169.509995,174.779999,173.771469,115541600\n",
      "\n",
      "2022-02-01,174.009995,174.839996,172.309998,174.610001,173.602448,86213900\n",
      "\n",
      "2022-02-02,174.750000,175.880005,173.330002,175.839996,174.825348,84914300\n",
      "\n",
      "2022-02-03,174.479996,176.240005,172.119995,172.899994,171.902313,89418100\n",
      "\n",
      "2022-02-04,171.679993,174.100006,170.679993,172.389999,171.613632,82465400\n",
      "\n",
      "2022-02-07,172.860001,173.949997,170.949997,171.660004,170.886917,77251200\n",
      "\n",
      "2022-02-08,171.729996,175.350006,171.429993,174.830002,174.042648,74829200\n",
      "\n",
      "2022-02-09,176.050003,176.649994,174.899994,176.279999,175.486099,71285000\n",
      "\n",
      "2022-02-10,174.139999,175.479996,171.550003,172.119995,171.344833,90865900\n",
      "\n",
      "2022-02-11,172.330002,173.080002,168.039993,168.639999,167.880524,98670700\n",
      "\n",
      "2022-02-14,167.369995,169.580002,166.559998,168.880005,168.119446,86185500\n",
      "\n",
      "2022-02-15,170.970001,172.949997,170.250000,172.789993,172.011826,62527400\n",
      "\n",
      "2022-02-16,171.850006,173.339996,170.050003,172.550003,171.772919,61177400\n",
      "\n",
      "2022-02-17,171.029999,171.910004,168.470001,168.880005,168.119446,69589300\n",
      "\n",
      "2022-02-18,169.820007,170.539993,166.190002,167.300003,166.546555,82772700\n",
      "\n",
      "2022-02-22,164.979996,166.690002,162.149994,164.320007,163.579971,91162800\n",
      "\n",
      "2022-02-23,165.539993,166.149994,159.750000,160.070007,159.349121,90009200\n",
      "\n",
      "2022-02-24,152.580002,162.850006,152.000000,162.740005,162.007095,141147500\n",
      "\n",
      "2022-02-25,163.839996,165.119995,160.869995,164.850006,164.107590,91974200\n",
      "\n",
      "2022-02-28,163.059998,165.419998,162.429993,165.119995,164.376373,95056600\n",
      "\n",
      "2022-03-01,164.699997,166.600006,161.970001,163.199997,162.465012,83474400\n",
      "\n",
      "2022-03-02,164.389999,167.360001,162.949997,166.559998,165.809891,79724800\n",
      "\n",
      "2022-03-03,168.470001,168.910004,165.550003,166.229996,165.481369,76678400\n",
      "\n",
      "2022-03-04,164.490005,165.550003,162.100006,163.169998,162.435150,83737200\n",
      "\n",
      "2022-03-07,163.360001,165.020004,159.039993,159.300003,158.582596,96418800\n",
      "\n",
      "2022-03-08,158.820007,162.880005,155.800003,157.440002,156.730957,131148300\n",
      "\n",
      "2022-03-09,161.479996,163.410004,159.410004,162.949997,162.216141,91454900\n",
      "\n",
      "2022-03-10,160.199997,160.389999,155.979996,158.520004,157.806107,105342000\n",
      "\n",
      "2022-03-11,158.929993,159.279999,154.500000,154.729996,154.033157,96970100\n",
      "\n",
      "2022-03-14,151.449997,154.119995,150.100006,150.619995,149.941666,108732100\n",
      "\n",
      "2022-03-15,150.899994,155.570007,150.380005,155.089996,154.391525,92964300\n",
      "\n",
      "2022-03-16,157.050003,160.000000,154.460007,159.589996,158.871262,102300200\n",
      "\n",
      "2022-03-17,158.610001,161.000000,157.630005,160.619995,159.896637,75615400\n",
      "\n",
      "2022-03-18,160.509995,164.479996,159.759995,163.979996,163.241486,123511700\n",
      "\n",
      "2022-03-21,163.509995,166.350006,163.009995,165.380005,164.635208,95811400\n",
      "\n",
      "2022-03-22,165.509995,169.419998,164.910004,168.820007,168.059708,81532000\n",
      "\n",
      "2022-03-23,167.990005,172.639999,167.649994,170.210007,169.443451,98062700\n",
      "\n",
      "2022-03-24,171.059998,174.139999,170.210007,174.070007,173.286072,90131400\n",
      "\n",
      "2022-03-25,173.880005,175.279999,172.750000,174.720001,173.933136,80546200\n",
      "\n",
      "2022-03-28,172.169998,175.729996,172.000000,175.600006,174.809189,90371900\n",
      "\n",
      "2022-03-29,176.690002,179.009995,176.339996,178.960007,178.154037,100589400\n",
      "\n",
      "2022-03-30,178.550003,179.610001,176.699997,177.770004,176.969406,92633200\n",
      "\n",
      "2022-03-31,177.839996,178.029999,174.399994,174.610001,173.823639,103049300\n",
      "\n",
      "2022-04-01,174.029999,174.880005,171.940002,174.309998,173.524979,78751300\n",
      "\n",
      "2022-04-04,174.570007,178.490005,174.440002,178.440002,177.636383,76468400\n",
      "\n",
      "2022-04-05,177.500000,178.300003,174.419998,175.059998,174.271606,73401800\n",
      "\n",
      "2022-04-06,172.360001,173.630005,170.130005,171.830002,171.056168,89058800\n",
      "\n",
      "2022-04-07,171.160004,173.360001,169.850006,172.139999,171.364746,77594700\n",
      "\n",
      "2022-04-08,171.779999,171.779999,169.199997,170.089996,169.323990,76575500\n",
      "\n",
      "2022-04-11,168.710007,169.029999,165.500000,165.750000,165.003540,72246700\n",
      "\n",
      "2022-04-12,168.020004,169.869995,166.639999,167.660004,166.904938,79265200\n",
      "\n",
      "2022-04-13,167.389999,171.039993,166.770004,170.399994,169.632584,70618900\n",
      "\n",
      "2022-04-14,170.619995,171.270004,165.039993,165.289993,164.545593,75329400\n",
      "\n",
      "2022-04-18,163.919998,166.600006,163.570007,165.070007,164.326599,69023900\n",
      "\n",
      "2022-04-19,165.020004,167.820007,163.910004,167.399994,166.646088,67723800\n",
      "\n",
      "2022-04-20,168.759995,168.880005,166.100006,167.229996,166.476852,67929800\n",
      "\n",
      "2022-04-21,168.910004,171.529999,165.910004,166.419998,165.670502,87227800\n",
      "\n",
      "2022-04-22,166.460007,167.869995,161.500000,161.789993,161.061356,84882400\n",
      "\n",
      "2022-04-25,161.119995,163.169998,158.460007,162.880005,162.146454,96046400\n",
      "\n",
      "2022-04-26,162.250000,162.339996,156.720001,156.800003,156.093842,95623200\n",
      "\n",
      "2022-04-27,155.910004,159.789993,155.380005,156.570007,155.864883,88063200\n",
      "\n",
      "2022-04-28,159.250000,164.520004,158.929993,163.639999,162.903030,130216800\n",
      "\n",
      "2022-04-29,161.839996,166.199997,157.250000,157.649994,156.940002,131747600\n",
      "\n",
      "2022-05-02,156.710007,158.229996,153.270004,157.960007,157.248611,123055300\n",
      "\n",
      "2022-05-03,158.149994,160.710007,156.320007,159.479996,158.761765,88966500\n",
      "\n",
      "2022-05-04,159.669998,166.479996,159.259995,166.020004,165.272324,108256500\n",
      "\n",
      "2022-05-05,163.850006,164.080002,154.949997,156.770004,156.063980,130525300\n",
      "\n",
      "2022-05-06,156.009995,159.440002,154.179993,157.279999,156.801712,116124600\n",
      "\n",
      "2022-05-09,154.929993,155.830002,151.490005,152.059998,151.597595,131577900\n",
      "\n",
      "2022-05-10,155.520004,156.740005,152.929993,154.509995,154.040131,115366700\n",
      "\n",
      "2022-05-11,153.500000,155.449997,145.809998,146.500000,146.054504,142689800\n",
      "\n",
      "2022-05-12,142.770004,146.199997,138.800003,142.559998,142.126480,182602000\n",
      "\n",
      "2022-05-13,144.589996,148.100006,143.110001,147.110001,146.662659,113990900\n",
      "\n",
      "2022-05-16,145.550003,147.520004,144.179993,145.539993,145.097427,86643800\n",
      "\n",
      "2022-05-17,148.860001,149.770004,146.679993,149.240005,148.786179,78336300\n",
      "\n",
      "2022-05-18,146.850006,147.360001,139.899994,140.820007,140.391785,109742900\n",
      "\n",
      "2022-05-19,139.880005,141.660004,136.600006,137.350006,136.932327,136095600\n",
      "\n",
      "2022-05-20,139.089996,140.699997,132.610001,137.589996,137.171585,137426100\n",
      "\n",
      "2022-05-23,137.789993,143.259995,137.649994,143.110001,142.674805,117726300\n",
      "\n",
      "2022-05-24,140.809998,141.970001,137.330002,140.360001,139.933167,104132700\n",
      "\n",
      "2022-05-25,138.429993,141.789993,138.339996,140.520004,140.092697,92482700\n",
      "\n",
      "2022-05-26,137.389999,144.339996,137.139999,143.779999,143.342758,90601500\n",
      "\n",
      "2022-05-27,145.389999,149.679993,145.259995,149.639999,149.184952,90978500\n",
      "\n",
      "2022-05-31,149.070007,150.660004,146.839996,148.839996,148.387390,103718400\n",
      "\n",
      "2022-06-01,149.899994,151.740005,147.679993,148.710007,148.257782,74286600\n",
      "\n",
      "2022-06-02,147.830002,151.270004,146.860001,151.210007,150.750183,72348100\n",
      "\n",
      "2022-06-03,146.899994,147.970001,144.460007,145.380005,144.937912,88570300\n",
      "\n",
      "2022-06-06,147.029999,148.570007,144.899994,146.139999,145.695602,71598400\n",
      "\n",
      "2022-06-07,144.350006,149.000000,144.100006,148.710007,148.257782,67808200\n",
      "\n",
      "2022-06-08,148.580002,149.869995,147.460007,147.960007,147.510071,53950200\n",
      "\n",
      "2022-06-09,147.080002,147.949997,142.529999,142.639999,142.206238,69473000\n",
      "\n",
      "2022-06-10,140.279999,140.759995,137.059998,137.130005,136.712997,91437900\n",
      "\n",
      "2022-06-13,132.869995,135.199997,131.440002,131.880005,131.478958,122207100\n",
      "\n",
      "2022-06-14,133.130005,133.889999,131.479996,132.759995,132.356277,84784300\n",
      "\n",
      "2022-06-15,134.289993,137.339996,132.160004,135.429993,135.018158,91533000\n",
      "\n",
      "2022-06-16,132.080002,132.389999,129.039993,130.059998,129.664490,108123900\n",
      "\n",
      "2022-06-17,130.070007,133.080002,129.809998,131.559998,131.159927,134520300\n",
      "\n",
      "2022-06-21,133.419998,137.059998,133.320007,135.869995,135.456833,81000500\n",
      "\n",
      "2022-06-22,134.789993,137.759995,133.910004,135.350006,134.938416,73409200\n",
      "\n",
      "2022-06-23,136.820007,138.589996,135.630005,138.270004,137.849533,72433800\n",
      "\n",
      "2022-06-24,139.899994,141.910004,139.770004,141.660004,141.229218,89116800\n",
      "\n",
      "2022-06-27,142.699997,143.490005,140.970001,141.660004,141.229218,70207900\n",
      "\n",
      "2022-06-28,142.130005,143.419998,137.320007,137.440002,137.022064,67083400\n",
      "\n",
      "2022-06-29,137.460007,140.669998,136.669998,139.229996,138.806610,66242400\n",
      "\n",
      "2022-06-30,137.250000,138.369995,133.770004,136.720001,136.304245,98964500\n",
      "\n",
      "2022-07-01,136.039993,139.039993,135.660004,138.929993,138.507507,71051600\n",
      "\n",
      "2022-07-05,137.770004,141.610001,136.929993,141.559998,141.129517,73353800\n",
      "\n",
      "2022-07-06,141.350006,144.119995,141.080002,142.919998,142.485397,74064300\n",
      "\n",
      "2022-07-07,143.289993,146.550003,143.279999,146.350006,145.904968,66253700\n",
      "\n",
      "2022-07-08,145.259995,147.550003,145.000000,147.039993,146.592850,64547800\n",
      "\n",
      "2022-07-11,145.669998,146.639999,143.779999,144.869995,144.429443,63141600\n",
      "\n",
      "2022-07-12,145.759995,148.449997,145.050003,145.860001,145.416443,77588800\n",
      "\n",
      "2022-07-13,142.990005,146.449997,142.119995,145.490005,145.047577,71185600\n",
      "\n",
      "2022-07-14,144.080002,148.949997,143.250000,148.470001,148.018509,78140700\n",
      "\n",
      "2022-07-15,149.779999,150.860001,148.199997,150.169998,149.713348,76259900\n",
      "\n",
      "2022-07-18,150.740005,151.570007,146.699997,147.070007,146.622772,81420900\n",
      "\n",
      "2022-07-19,147.919998,151.229996,146.910004,151.000000,150.540817,82982400\n",
      "\n",
      "2022-07-20,151.119995,153.720001,150.369995,153.039993,152.574615,64823400\n",
      "\n",
      "2022-07-21,154.500000,155.570007,151.940002,155.350006,154.877594,65086600\n",
      "\n",
      "2022-07-22,155.389999,156.279999,153.410004,154.089996,153.621414,66675400\n",
      "\n",
      "2022-07-25,154.009995,155.039993,152.279999,152.949997,152.484894,53623900\n",
      "\n",
      "2022-07-26,152.259995,153.089996,150.800003,151.600006,151.139008,55138700\n",
      "\n",
      "2022-07-27,152.580002,157.330002,152.160004,156.789993,156.313202,78620700\n",
      "\n",
      "2022-07-28,156.979996,157.639999,154.410004,157.350006,156.871521,81378700\n",
      "\n",
      "2022-07-29,161.240005,163.630005,159.500000,162.509995,162.015808,101786900\n",
      "\n",
      "2022-08-01,161.009995,163.589996,160.889999,161.509995,161.018860,67829400\n",
      "\n",
      "2022-08-02,160.100006,162.410004,159.630005,160.009995,159.523407,59907000\n",
      "\n",
      "2022-08-03,160.839996,166.589996,160.750000,166.130005,165.624817,82507500\n",
      "\n",
      "2022-08-04,166.009995,167.190002,164.429993,165.809998,165.305786,55474100\n",
      "\n",
      "2022-08-05,163.210007,165.850006,163.000000,165.350006,165.076172,56697000\n",
      "\n",
      "2022-08-08,166.369995,167.809998,164.199997,164.869995,164.596954,60276900\n",
      "\n",
      "2022-08-09,164.020004,165.820007,163.250000,164.919998,164.646866,63135500\n",
      "\n",
      "2022-08-10,167.679993,169.339996,166.899994,169.240005,168.959732,70170500\n",
      "\n",
      "2022-08-11,170.059998,170.990005,168.190002,168.490005,168.210968,57149200\n",
      "\n",
      "2022-08-12,169.820007,172.169998,169.399994,172.100006,171.814987,68039400\n",
      "\n",
      "2022-08-15,171.520004,173.389999,171.350006,173.190002,172.903183,54091700\n",
      "\n",
      "2022-08-16,172.779999,173.710007,171.660004,173.029999,172.743439,56377100\n",
      "\n",
      "2022-08-17,172.770004,176.149994,172.570007,174.550003,174.260925,79542000\n",
      "\n",
      "2022-08-18,173.750000,174.899994,173.119995,174.149994,173.861588,62290100\n",
      "\n",
      "2022-08-19,173.029999,173.740005,171.309998,171.520004,171.235947,70346300\n",
      "\n",
      "2022-08-22,169.690002,169.860001,167.139999,167.570007,167.292496,69026800\n",
      "\n",
      "2022-08-23,167.080002,168.710007,166.649994,167.229996,166.953049,54147100\n",
      "\n",
      "2022-08-24,167.320007,168.110001,166.250000,167.529999,167.252548,53841500\n",
      "\n",
      "2022-08-25,168.779999,170.139999,168.350006,170.029999,169.748413,51218200\n",
      "\n",
      "2022-08-26,170.570007,171.050003,163.559998,163.619995,163.349014,78961000\n",
      "\n",
      "2022-08-29,161.149994,162.899994,159.820007,161.380005,161.112747,73314000\n",
      "\n",
      "2022-08-30,162.130005,162.559998,157.720001,158.910004,158.646835,77906200\n",
      "\n",
      "2022-08-31,160.309998,160.580002,157.139999,157.220001,156.959625,87991100\n",
      "\n",
      "2022-09-01,156.639999,158.419998,154.669998,157.960007,157.698410,74229900\n",
      "\n",
      "2022-09-02,159.750000,160.360001,154.970001,155.809998,155.551956,76957800\n",
      "\n",
      "2022-09-06,156.470001,157.089996,153.690002,154.529999,154.274078,73714800\n",
      "\n",
      "2022-09-07,154.820007,156.669998,153.610001,155.960007,155.701721,87449600\n",
      "\n",
      "2022-09-08,154.639999,156.360001,152.679993,154.460007,154.204208,84923800\n",
      "\n",
      "2022-09-09,155.470001,157.820007,154.750000,157.369995,157.109375,68028800\n",
      "\n",
      "2022-09-12,159.589996,164.259995,159.300003,163.429993,163.159332,104956000\n",
      "\n",
      "2022-09-13,159.899994,160.539993,153.369995,153.839996,153.585220,122656600\n",
      "\n",
      "2022-09-14,154.789993,157.100006,153.610001,155.309998,155.052780,87965400\n",
      "\n",
      "2022-09-15,154.649994,155.240005,151.380005,152.369995,152.117645,90481100\n",
      "\n",
      "2022-09-16,151.210007,151.350006,148.369995,150.699997,150.450424,162278800\n",
      "\n",
      "2022-09-19,149.309998,154.559998,149.100006,154.479996,154.224152,81474200\n",
      "\n",
      "2022-09-20,153.399994,158.080002,153.080002,156.899994,156.640152,107689800\n",
      "\n",
      "2022-09-21,157.339996,158.740005,153.600006,153.720001,153.465424,101696800\n",
      "\n",
      "2022-09-22,152.380005,154.470001,150.910004,152.740005,152.487045,86652500\n",
      "\n",
      "2022-09-23,151.190002,151.470001,148.559998,150.429993,150.180862,96029900\n",
      "\n",
      "2022-09-26,149.660004,153.770004,149.639999,150.770004,150.520309,93339400\n",
      "\n",
      "2022-09-27,152.740005,154.720001,149.949997,151.759995,151.508667,84442700\n",
      "\n",
      "2022-09-28,147.639999,150.639999,144.839996,149.839996,149.591843,146691400\n",
      "\n",
      "2022-09-29,146.100006,146.720001,140.679993,142.479996,142.244034,128138200\n",
      "\n",
      "2022-09-30,141.279999,143.100006,138.000000,138.199997,137.971115,124925300\n",
      "\n",
      "2022-10-03,138.210007,143.070007,137.690002,142.449997,142.214081,114311700\n",
      "\n",
      "2022-10-04,145.029999,146.220001,144.259995,146.100006,145.858047,87830100\n",
      "\n",
      "2022-10-05,144.070007,147.380005,143.009995,146.399994,146.157532,79471000\n",
      "\n",
      "2022-10-06,145.809998,147.539993,145.220001,145.429993,145.189148,68402200\n",
      "\n",
      "2022-10-07,142.539993,143.100006,139.449997,140.089996,139.857986,85925600\n",
      "\n",
      "2022-10-10,140.419998,141.889999,138.570007,140.419998,140.187439,74899000\n",
      "\n",
      "2022-10-11,139.899994,141.350006,138.220001,138.979996,138.749832,77033700\n",
      "\n",
      "2022-10-12,139.130005,140.360001,138.160004,138.339996,138.110886,70433700\n",
      "\n",
      "2022-10-13,134.990005,143.589996,134.369995,142.990005,142.753204,113224000\n",
      "\n",
      "2022-10-14,144.309998,144.520004,138.190002,138.380005,138.150833,88598000\n",
      "\n",
      "2022-10-17,141.070007,142.899994,140.270004,142.410004,142.174164,85250900\n",
      "\n",
      "2022-10-18,145.490005,146.699997,140.610001,143.750000,143.511932,99136600\n",
      "\n",
      "2022-10-19,141.690002,144.949997,141.500000,143.860001,143.621750,61758300\n",
      "\n",
      "2022-10-20,143.020004,145.889999,142.649994,143.389999,143.152527,64522000\n",
      "\n",
      "2022-10-21,142.869995,147.850006,142.649994,147.270004,147.026108,86548600\n",
      "\n",
      "2022-10-24,147.190002,150.229996,146.000000,149.449997,149.202484,75981900\n",
      "\n",
      "2022-10-25,150.089996,152.490005,149.360001,152.339996,152.087708,74732300\n",
      "\n",
      "2022-10-26,150.960007,151.990005,148.039993,149.350006,149.102661,88194300\n",
      "\n",
      "2022-10-27,148.070007,149.050003,144.130005,144.800003,144.560196,109180200\n",
      "\n",
      "2022-10-28,148.199997,157.500000,147.820007,155.740005,155.482086,164762400\n",
      "\n",
      "2022-10-31,153.160004,154.240005,151.919998,153.339996,153.086044,97943200\n",
      "\n",
      "2022-11-01,155.080002,155.449997,149.130005,150.649994,150.400497,80379300\n",
      "\n",
      "2022-11-02,148.949997,152.169998,145.000000,145.029999,144.789810,93604600\n",
      "\n",
      "2022-11-03,142.059998,142.800003,138.750000,138.880005,138.650009,97918500\n",
      "\n",
      "2022-11-04,142.089996,142.669998,134.380005,138.380005,138.380005,140716700\n",
      "\n",
      "2022-11-07,137.110001,139.149994,135.669998,138.919998,138.919998,83374600\n",
      "\n",
      "2022-11-08,140.410004,141.429993,137.490005,139.500000,139.500000,89908500\n",
      "\n",
      "2022-11-09,138.500000,138.550003,134.589996,134.869995,134.869995,74917800\n",
      "\n",
      "2022-11-10,141.240005,146.869995,139.500000,146.869995,146.869995,118854000\n",
      "\n",
      "2022-11-11,145.820007,150.009995,144.369995,149.699997,149.699997,93903800\n",
      "\n",
      "2022-11-14,148.970001,150.279999,147.429993,148.279999,148.279999,73374100\n",
      "\n",
      "2022-11-15,152.220001,153.589996,148.559998,150.039993,150.039993,89868300\n",
      "\n",
      "2022-11-16,149.130005,149.869995,147.289993,148.789993,148.789993,64218300\n",
      "\n",
      "2022-11-17,146.429993,151.479996,146.149994,150.720001,150.720001,80389400\n",
      "\n",
      "2022-11-18,152.309998,152.699997,149.970001,151.289993,151.289993,74794600\n",
      "\n",
      "2022-11-21,150.160004,150.369995,147.720001,148.009995,148.009995,58724100\n",
      "\n",
      "2022-11-22,148.130005,150.419998,146.929993,150.179993,150.179993,51804100\n",
      "\n",
      "2022-11-23,149.449997,151.830002,149.339996,151.070007,151.070007,58301400\n",
      "\n",
      "2022-11-25,148.309998,148.880005,147.119995,148.110001,148.110001,35195900\n",
      "\n",
      "2022-11-28,145.139999,146.639999,143.380005,144.220001,144.220001,69246000\n",
      "\n",
      "2022-11-29,144.289993,144.809998,140.350006,141.169998,141.169998,83763800\n",
      "\n",
      "2022-11-30,141.399994,148.720001,140.550003,148.029999,148.029999,111224400\n",
      "\n",
      "2022-12-01,148.210007,149.130005,146.610001,148.309998,148.309998,71250400\n",
      "\n",
      "2022-12-02,145.960007,148.000000,145.649994,147.809998,147.809998,65421400\n",
      "\n",
      "2022-12-05,147.770004,150.919998,145.770004,146.630005,146.630005,68732400\n"
     ]
    }
   ],
   "source": [
    "from urllib.request import urlopen\n",
    "class UrlTemplate:\n",
    "    def __init__(self, template):\n",
    "        self.template = template\n",
    "        \n",
    "    def open(self, **kwargs):\n",
    "        return urlopen(self.template.format_map(kwargs))\n",
    "    \n",
    "# Exemplo de uso. Baixar dados de ações do yahoo\n",
    "yahoo = UrlTemplate('https://query1.finance.yahoo.com/v7/finance/download/{names}?period1=1638784806&period2=1670320806&interval=1d&events={events}&includeAdjustedClose=true')\n",
    "for line in yahoo.open(names='AAPL', events='history'):\n",
    "    print(line.decode('utf-8'))\n",
    "\n"
   ]
  },
  {
   "cell_type": "markdown",
   "metadata": {},
   "source": [
    "A classe poderia ser substituída por uma função muito mais simples:"
   ]
  },
  {
   "cell_type": "code",
   "execution_count": 9,
   "metadata": {},
   "outputs": [],
   "source": [
    "def urltemplate(template):\n",
    "     def opener(**kwargs):\n",
    "         return urlopen(template.format_map(kwargs))\n",
    "     return opener"
   ]
  },
  {
   "cell_type": "code",
   "execution_count": 10,
   "metadata": {},
   "outputs": [
    {
     "name": "stdout",
     "output_type": "stream",
     "text": [
      "Date,Open,High,Low,Close,Adj Close,Volume\n",
      "\n",
      "2021-12-06,164.289993,167.880005,164.279999,165.320007,164.366058,107497000\n",
      "\n",
      "2021-12-07,169.080002,171.580002,168.339996,171.179993,170.192230,120405400\n",
      "\n",
      "2021-12-08,172.130005,175.960007,170.699997,175.080002,174.069748,116998900\n",
      "\n",
      "2021-12-09,174.910004,176.750000,173.919998,174.559998,173.552719,108923700\n",
      "\n",
      "2021-12-10,175.210007,179.630005,174.690002,179.449997,178.414505,115402700\n",
      "\n",
      "2021-12-13,181.119995,182.130005,175.529999,175.740005,174.725922,153237000\n",
      "\n",
      "2021-12-14,175.250000,177.740005,172.210007,174.330002,173.324066,139380400\n",
      "\n",
      "2021-12-15,175.110001,179.500000,172.309998,179.300003,178.265396,131063300\n",
      "\n",
      "2021-12-16,179.279999,181.139999,170.750000,172.259995,171.266006,150185800\n",
      "\n",
      "2021-12-17,169.929993,173.470001,169.690002,171.139999,170.152466,195432700\n",
      "\n",
      "2021-12-20,168.279999,170.580002,167.460007,169.750000,168.770493,107499100\n",
      "\n",
      "2021-12-21,171.559998,173.199997,169.119995,172.990005,171.991806,91185900\n",
      "\n",
      "2021-12-22,173.039993,175.860001,172.149994,175.639999,174.626511,92135300\n",
      "\n",
      "2021-12-23,175.850006,176.850006,175.270004,176.279999,175.262802,68356600\n",
      "\n",
      "2021-12-27,177.089996,180.419998,177.070007,180.330002,179.289444,74919600\n",
      "\n",
      "2021-12-28,180.160004,181.330002,178.529999,179.289993,178.255447,79144300\n",
      "\n",
      "2021-12-29,179.330002,180.630005,178.139999,179.380005,178.344925,62348900\n",
      "\n",
      "2021-12-30,179.470001,180.570007,178.089996,178.199997,177.171722,59773000\n",
      "\n",
      "2021-12-31,178.089996,179.229996,177.259995,177.570007,176.545380,64062300\n",
      "\n",
      "2022-01-03,177.830002,182.880005,177.710007,182.009995,180.959747,104487900\n",
      "\n",
      "2022-01-04,182.630005,182.940002,179.119995,179.699997,178.663086,99310400\n",
      "\n",
      "2022-01-05,179.610001,180.169998,174.639999,174.919998,173.910645,94537600\n",
      "\n",
      "2022-01-06,172.699997,175.300003,171.639999,172.000000,171.007523,96904000\n",
      "\n",
      "2022-01-07,172.889999,174.139999,171.029999,172.169998,171.176529,86709100\n",
      "\n",
      "2022-01-10,169.080002,172.500000,168.169998,172.190002,171.196426,106765600\n",
      "\n",
      "2022-01-11,172.320007,175.179993,170.820007,175.080002,174.069748,76138300\n",
      "\n",
      "2022-01-12,176.119995,177.179993,174.820007,175.529999,174.517136,74805200\n",
      "\n",
      "2022-01-13,175.779999,176.619995,171.789993,172.190002,171.196426,84505800\n",
      "\n",
      "2022-01-14,171.339996,173.779999,171.089996,173.070007,172.071335,80440800\n",
      "\n",
      "2022-01-18,171.509995,172.539993,169.410004,169.800003,168.820221,90956700\n",
      "\n",
      "2022-01-19,170.000000,171.080002,165.940002,166.229996,165.270798,94815000\n",
      "\n",
      "2022-01-20,166.979996,169.679993,164.179993,164.509995,163.560730,91420500\n",
      "\n",
      "2022-01-21,164.419998,166.330002,162.300003,162.410004,161.472855,122848900\n",
      "\n",
      "2022-01-24,160.020004,162.300003,154.699997,161.619995,160.687408,162294600\n",
      "\n",
      "2022-01-25,158.979996,162.759995,157.020004,159.779999,158.858017,115798400\n",
      "\n",
      "2022-01-26,163.500000,164.389999,157.820007,159.690002,158.768539,108275300\n",
      "\n",
      "2022-01-27,162.449997,163.839996,158.279999,159.220001,158.301254,121954600\n",
      "\n",
      "2022-01-28,165.710007,170.350006,162.800003,170.330002,169.347153,179935700\n",
      "\n",
      "2022-01-31,170.160004,175.000000,169.509995,174.779999,173.771454,115541600\n",
      "\n",
      "2022-02-01,174.009995,174.839996,172.309998,174.610001,173.602463,86213900\n",
      "\n",
      "2022-02-02,174.750000,175.880005,173.330002,175.839996,174.825348,84914300\n",
      "\n",
      "2022-02-03,174.479996,176.240005,172.119995,172.899994,171.902313,89418100\n",
      "\n",
      "2022-02-04,171.679993,174.100006,170.679993,172.389999,171.613632,82465400\n",
      "\n",
      "2022-02-07,172.860001,173.949997,170.949997,171.660004,170.886917,77251200\n",
      "\n",
      "2022-02-08,171.729996,175.350006,171.429993,174.830002,174.042633,74829200\n",
      "\n",
      "2022-02-09,176.050003,176.649994,174.899994,176.279999,175.486099,71285000\n",
      "\n",
      "2022-02-10,174.139999,175.479996,171.550003,172.119995,171.344833,90865900\n",
      "\n",
      "2022-02-11,172.330002,173.080002,168.039993,168.639999,167.880508,98670700\n",
      "\n",
      "2022-02-14,167.369995,169.580002,166.559998,168.880005,168.119446,86185500\n",
      "\n",
      "2022-02-15,170.970001,172.949997,170.250000,172.789993,172.011810,62527400\n",
      "\n",
      "2022-02-16,171.850006,173.339996,170.050003,172.550003,171.772903,61177400\n",
      "\n",
      "2022-02-17,171.029999,171.910004,168.470001,168.880005,168.119446,69589300\n",
      "\n",
      "2022-02-18,169.820007,170.539993,166.190002,167.300003,166.546555,82772700\n",
      "\n",
      "2022-02-22,164.979996,166.690002,162.149994,164.320007,163.579987,91162800\n",
      "\n",
      "2022-02-23,165.539993,166.149994,159.750000,160.070007,159.349121,90009200\n",
      "\n",
      "2022-02-24,152.580002,162.850006,152.000000,162.740005,162.007095,141147500\n",
      "\n",
      "2022-02-25,163.839996,165.119995,160.869995,164.850006,164.107590,91974200\n",
      "\n",
      "2022-02-28,163.059998,165.419998,162.429993,165.119995,164.376358,95056600\n",
      "\n",
      "2022-03-01,164.699997,166.600006,161.970001,163.199997,162.465012,83474400\n",
      "\n",
      "2022-03-02,164.389999,167.360001,162.949997,166.559998,165.809875,79724800\n",
      "\n",
      "2022-03-03,168.470001,168.910004,165.550003,166.229996,165.481369,76678400\n",
      "\n",
      "2022-03-04,164.490005,165.550003,162.100006,163.169998,162.435135,83737200\n",
      "\n",
      "2022-03-07,163.360001,165.020004,159.039993,159.300003,158.582581,96418800\n",
      "\n",
      "2022-03-08,158.820007,162.880005,155.800003,157.440002,156.730942,131148300\n",
      "\n",
      "2022-03-09,161.479996,163.410004,159.410004,162.949997,162.216141,91454900\n",
      "\n",
      "2022-03-10,160.199997,160.389999,155.979996,158.520004,157.806107,105342000\n",
      "\n",
      "2022-03-11,158.929993,159.279999,154.500000,154.729996,154.033157,96970100\n",
      "\n",
      "2022-03-14,151.449997,154.119995,150.100006,150.619995,149.941650,108732100\n",
      "\n",
      "2022-03-15,150.899994,155.570007,150.380005,155.089996,154.391525,92964300\n",
      "\n",
      "2022-03-16,157.050003,160.000000,154.460007,159.589996,158.871277,102300200\n",
      "\n",
      "2022-03-17,158.610001,161.000000,157.630005,160.619995,159.896622,75615400\n",
      "\n",
      "2022-03-18,160.509995,164.479996,159.759995,163.979996,163.241501,123511700\n",
      "\n",
      "2022-03-21,163.509995,166.350006,163.009995,165.380005,164.635193,95811400\n",
      "\n",
      "2022-03-22,165.509995,169.419998,164.910004,168.820007,168.059708,81532000\n",
      "\n",
      "2022-03-23,167.990005,172.639999,167.649994,170.210007,169.443451,98062700\n",
      "\n",
      "2022-03-24,171.059998,174.139999,170.210007,174.070007,173.286057,90131400\n",
      "\n",
      "2022-03-25,173.880005,175.279999,172.750000,174.720001,173.933136,80546200\n",
      "\n",
      "2022-03-28,172.169998,175.729996,172.000000,175.600006,174.809174,90371900\n",
      "\n",
      "2022-03-29,176.690002,179.009995,176.339996,178.960007,178.154053,100589400\n",
      "\n",
      "2022-03-30,178.550003,179.610001,176.699997,177.770004,176.969406,92633200\n",
      "\n",
      "2022-03-31,177.839996,178.029999,174.399994,174.610001,173.823624,103049300\n",
      "\n",
      "2022-04-01,174.029999,174.880005,171.940002,174.309998,173.524979,78751300\n",
      "\n",
      "2022-04-04,174.570007,178.490005,174.440002,178.440002,177.636383,76468400\n",
      "\n",
      "2022-04-05,177.500000,178.300003,174.419998,175.059998,174.271606,73401800\n",
      "\n",
      "2022-04-06,172.360001,173.630005,170.130005,171.830002,171.056137,89058800\n",
      "\n",
      "2022-04-07,171.160004,173.360001,169.850006,172.139999,171.364746,77594700\n",
      "\n",
      "2022-04-08,171.779999,171.779999,169.199997,170.089996,169.323975,76575500\n",
      "\n",
      "2022-04-11,168.710007,169.029999,165.500000,165.750000,165.003525,72246700\n",
      "\n",
      "2022-04-12,168.020004,169.869995,166.639999,167.660004,166.904922,79265200\n",
      "\n",
      "2022-04-13,167.389999,171.039993,166.770004,170.399994,169.632584,70618900\n",
      "\n",
      "2022-04-14,170.619995,171.270004,165.039993,165.289993,164.545593,75329400\n",
      "\n",
      "2022-04-18,163.919998,166.600006,163.570007,165.070007,164.326599,69023900\n",
      "\n",
      "2022-04-19,165.020004,167.820007,163.910004,167.399994,166.646088,67723800\n",
      "\n",
      "2022-04-20,168.759995,168.880005,166.100006,167.229996,166.476868,67929800\n",
      "\n",
      "2022-04-21,168.910004,171.529999,165.910004,166.419998,165.670517,87227800\n",
      "\n",
      "2022-04-22,166.460007,167.869995,161.500000,161.789993,161.061356,84882400\n",
      "\n",
      "2022-04-25,161.119995,163.169998,158.460007,162.880005,162.146454,96046400\n",
      "\n",
      "2022-04-26,162.250000,162.339996,156.720001,156.800003,156.093842,95623200\n",
      "\n",
      "2022-04-27,155.910004,159.789993,155.380005,156.570007,155.864883,88063200\n",
      "\n",
      "2022-04-28,159.250000,164.520004,158.929993,163.639999,162.903030,130216800\n",
      "\n",
      "2022-04-29,161.839996,166.199997,157.250000,157.649994,156.939987,131747600\n",
      "\n",
      "2022-05-02,156.710007,158.229996,153.270004,157.960007,157.248627,123055300\n",
      "\n",
      "2022-05-03,158.149994,160.710007,156.320007,159.479996,158.761780,88966500\n",
      "\n",
      "2022-05-04,159.669998,166.479996,159.259995,166.020004,165.272324,108256500\n",
      "\n",
      "2022-05-05,163.850006,164.080002,154.949997,156.770004,156.063980,130525300\n",
      "\n",
      "2022-05-06,156.009995,159.440002,154.179993,157.279999,156.801727,116124600\n",
      "\n",
      "2022-05-09,154.929993,155.830002,151.490005,152.059998,151.597595,131577900\n",
      "\n",
      "2022-05-10,155.520004,156.740005,152.929993,154.509995,154.040131,115366700\n",
      "\n",
      "2022-05-11,153.500000,155.449997,145.809998,146.500000,146.054504,142689800\n",
      "\n",
      "2022-05-12,142.770004,146.199997,138.800003,142.559998,142.126480,182602000\n",
      "\n",
      "2022-05-13,144.589996,148.100006,143.110001,147.110001,146.662643,113990900\n",
      "\n",
      "2022-05-16,145.550003,147.520004,144.179993,145.539993,145.097412,86643800\n",
      "\n",
      "2022-05-17,148.860001,149.770004,146.679993,149.240005,148.786179,78336300\n",
      "\n",
      "2022-05-18,146.850006,147.360001,139.899994,140.820007,140.391785,109742900\n",
      "\n",
      "2022-05-19,139.880005,141.660004,136.600006,137.350006,136.932343,136095600\n",
      "\n",
      "2022-05-20,139.089996,140.699997,132.610001,137.589996,137.171600,137426100\n",
      "\n",
      "2022-05-23,137.789993,143.259995,137.649994,143.110001,142.674820,117726300\n",
      "\n",
      "2022-05-24,140.809998,141.970001,137.330002,140.360001,139.933182,104132700\n",
      "\n",
      "2022-05-25,138.429993,141.789993,138.339996,140.520004,140.092697,92482700\n",
      "\n",
      "2022-05-26,137.389999,144.339996,137.139999,143.779999,143.342773,90601500\n",
      "\n",
      "2022-05-27,145.389999,149.679993,145.259995,149.639999,149.184952,90978500\n",
      "\n",
      "2022-05-31,149.070007,150.660004,146.839996,148.839996,148.387390,103718400\n",
      "\n",
      "2022-06-01,149.899994,151.740005,147.679993,148.710007,148.257797,74286600\n",
      "\n",
      "2022-06-02,147.830002,151.270004,146.860001,151.210007,150.750183,72348100\n",
      "\n",
      "2022-06-03,146.899994,147.970001,144.460007,145.380005,144.937912,88570300\n",
      "\n",
      "2022-06-06,147.029999,148.570007,144.899994,146.139999,145.695602,71598400\n",
      "\n",
      "2022-06-07,144.350006,149.000000,144.100006,148.710007,148.257797,67808200\n",
      "\n",
      "2022-06-08,148.580002,149.869995,147.460007,147.960007,147.510071,53950200\n",
      "\n",
      "2022-06-09,147.080002,147.949997,142.529999,142.639999,142.206253,69473000\n",
      "\n",
      "2022-06-10,140.279999,140.759995,137.059998,137.130005,136.713013,91437900\n",
      "\n",
      "2022-06-13,132.869995,135.199997,131.440002,131.880005,131.478958,122207100\n",
      "\n",
      "2022-06-14,133.130005,133.889999,131.479996,132.759995,132.356277,84784300\n",
      "\n",
      "2022-06-15,134.289993,137.339996,132.160004,135.429993,135.018158,91533000\n",
      "\n",
      "2022-06-16,132.080002,132.389999,129.039993,130.059998,129.664490,108123900\n",
      "\n",
      "2022-06-17,130.070007,133.080002,129.809998,131.559998,131.159927,134520300\n",
      "\n",
      "2022-06-21,133.419998,137.059998,133.320007,135.869995,135.456818,81000500\n",
      "\n",
      "2022-06-22,134.789993,137.759995,133.910004,135.350006,134.938416,73409200\n",
      "\n",
      "2022-06-23,136.820007,138.589996,135.630005,138.270004,137.849533,72433800\n",
      "\n",
      "2022-06-24,139.899994,141.910004,139.770004,141.660004,141.229233,89116800\n",
      "\n",
      "2022-06-27,142.699997,143.490005,140.970001,141.660004,141.229233,70207900\n",
      "\n",
      "2022-06-28,142.130005,143.419998,137.320007,137.440002,137.022064,67083400\n",
      "\n",
      "2022-06-29,137.460007,140.669998,136.669998,139.229996,138.806610,66242400\n",
      "\n",
      "2022-06-30,137.250000,138.369995,133.770004,136.720001,136.304245,98964500\n",
      "\n",
      "2022-07-01,136.039993,139.039993,135.660004,138.929993,138.507507,71051600\n",
      "\n",
      "2022-07-05,137.770004,141.610001,136.929993,141.559998,141.129532,73353800\n",
      "\n",
      "2022-07-06,141.350006,144.119995,141.080002,142.919998,142.485382,74064300\n",
      "\n",
      "2022-07-07,143.289993,146.550003,143.279999,146.350006,145.904968,66253700\n",
      "\n",
      "2022-07-08,145.259995,147.550003,145.000000,147.039993,146.592850,64547800\n",
      "\n",
      "2022-07-11,145.669998,146.639999,143.779999,144.869995,144.429459,63141600\n",
      "\n",
      "2022-07-12,145.759995,148.449997,145.050003,145.860001,145.416443,77588800\n",
      "\n",
      "2022-07-13,142.990005,146.449997,142.119995,145.490005,145.047577,71185600\n",
      "\n",
      "2022-07-14,144.080002,148.949997,143.250000,148.470001,148.018524,78140700\n",
      "\n",
      "2022-07-15,149.779999,150.860001,148.199997,150.169998,149.713333,76259900\n",
      "\n",
      "2022-07-18,150.740005,151.570007,146.699997,147.070007,146.622787,81420900\n",
      "\n",
      "2022-07-19,147.919998,151.229996,146.910004,151.000000,150.540817,82982400\n",
      "\n",
      "2022-07-20,151.119995,153.720001,150.369995,153.039993,152.574615,64823400\n",
      "\n",
      "2022-07-21,154.500000,155.570007,151.940002,155.350006,154.877594,65086600\n",
      "\n",
      "2022-07-22,155.389999,156.279999,153.410004,154.089996,153.621414,66675400\n",
      "\n",
      "2022-07-25,154.009995,155.039993,152.279999,152.949997,152.484894,53623900\n",
      "\n",
      "2022-07-26,152.259995,153.089996,150.800003,151.600006,151.138992,55138700\n",
      "\n",
      "2022-07-27,152.580002,157.330002,152.160004,156.789993,156.313202,78620700\n",
      "\n",
      "2022-07-28,156.979996,157.639999,154.410004,157.350006,156.871521,81378700\n",
      "\n",
      "2022-07-29,161.240005,163.630005,159.500000,162.509995,162.015808,101786900\n",
      "\n",
      "2022-08-01,161.009995,163.589996,160.889999,161.509995,161.018845,67829400\n",
      "\n",
      "2022-08-02,160.100006,162.410004,159.630005,160.009995,159.523407,59907000\n",
      "\n",
      "2022-08-03,160.839996,166.589996,160.750000,166.130005,165.624817,82507500\n",
      "\n",
      "2022-08-04,166.009995,167.190002,164.429993,165.809998,165.305786,55474100\n",
      "\n",
      "2022-08-05,163.210007,165.850006,163.000000,165.350006,165.076172,56697000\n",
      "\n",
      "2022-08-08,166.369995,167.809998,164.199997,164.869995,164.596954,60276900\n",
      "\n",
      "2022-08-09,164.020004,165.820007,163.250000,164.919998,164.646866,63135500\n",
      "\n",
      "2022-08-10,167.679993,169.339996,166.899994,169.240005,168.959732,70170500\n",
      "\n",
      "2022-08-11,170.059998,170.990005,168.190002,168.490005,168.210968,57149200\n",
      "\n",
      "2022-08-12,169.820007,172.169998,169.399994,172.100006,171.814987,68039400\n",
      "\n",
      "2022-08-15,171.520004,173.389999,171.350006,173.190002,172.903183,54091700\n",
      "\n",
      "2022-08-16,172.779999,173.710007,171.660004,173.029999,172.743439,56377100\n",
      "\n",
      "2022-08-17,172.770004,176.149994,172.570007,174.550003,174.260925,79542000\n",
      "\n",
      "2022-08-18,173.750000,174.899994,173.119995,174.149994,173.861588,62290100\n",
      "\n",
      "2022-08-19,173.029999,173.740005,171.309998,171.520004,171.235947,70346300\n",
      "\n",
      "2022-08-22,169.690002,169.860001,167.139999,167.570007,167.292496,69026800\n",
      "\n",
      "2022-08-23,167.080002,168.710007,166.649994,167.229996,166.953049,54147100\n",
      "\n",
      "2022-08-24,167.320007,168.110001,166.250000,167.529999,167.252548,53841500\n",
      "\n",
      "2022-08-25,168.779999,170.139999,168.350006,170.029999,169.748413,51218200\n",
      "\n",
      "2022-08-26,170.570007,171.050003,163.559998,163.619995,163.349014,78961000\n",
      "\n",
      "2022-08-29,161.149994,162.899994,159.820007,161.380005,161.112747,73314000\n",
      "\n",
      "2022-08-30,162.130005,162.559998,157.720001,158.910004,158.646835,77906200\n",
      "\n",
      "2022-08-31,160.309998,160.580002,157.139999,157.220001,156.959625,87991100\n",
      "\n",
      "2022-09-01,156.639999,158.419998,154.669998,157.960007,157.698410,74229900\n",
      "\n",
      "2022-09-02,159.750000,160.360001,154.970001,155.809998,155.551956,76957800\n",
      "\n",
      "2022-09-06,156.470001,157.089996,153.690002,154.529999,154.274078,73714800\n",
      "\n",
      "2022-09-07,154.820007,156.669998,153.610001,155.960007,155.701721,87449600\n",
      "\n",
      "2022-09-08,154.639999,156.360001,152.679993,154.460007,154.204208,84923800\n",
      "\n",
      "2022-09-09,155.470001,157.820007,154.750000,157.369995,157.109375,68028800\n",
      "\n",
      "2022-09-12,159.589996,164.259995,159.300003,163.429993,163.159332,104956000\n",
      "\n",
      "2022-09-13,159.899994,160.539993,153.369995,153.839996,153.585220,122656600\n",
      "\n",
      "2022-09-14,154.789993,157.100006,153.610001,155.309998,155.052780,87965400\n",
      "\n",
      "2022-09-15,154.649994,155.240005,151.380005,152.369995,152.117645,90481100\n",
      "\n",
      "2022-09-16,151.210007,151.350006,148.369995,150.699997,150.450424,162278800\n",
      "\n",
      "2022-09-19,149.309998,154.559998,149.100006,154.479996,154.224152,81474200\n",
      "\n",
      "2022-09-20,153.399994,158.080002,153.080002,156.899994,156.640152,107689800\n",
      "\n",
      "2022-09-21,157.339996,158.740005,153.600006,153.720001,153.465424,101696800\n",
      "\n",
      "2022-09-22,152.380005,154.470001,150.910004,152.740005,152.487045,86652500\n",
      "\n",
      "2022-09-23,151.190002,151.470001,148.559998,150.429993,150.180862,96029900\n",
      "\n",
      "2022-09-26,149.660004,153.770004,149.639999,150.770004,150.520309,93339400\n",
      "\n",
      "2022-09-27,152.740005,154.720001,149.949997,151.759995,151.508667,84442700\n",
      "\n",
      "2022-09-28,147.639999,150.639999,144.839996,149.839996,149.591843,146691400\n",
      "\n",
      "2022-09-29,146.100006,146.720001,140.679993,142.479996,142.244034,128138200\n",
      "\n",
      "2022-09-30,141.279999,143.100006,138.000000,138.199997,137.971115,124925300\n",
      "\n",
      "2022-10-03,138.210007,143.070007,137.690002,142.449997,142.214081,114311700\n",
      "\n",
      "2022-10-04,145.029999,146.220001,144.259995,146.100006,145.858047,87830100\n",
      "\n",
      "2022-10-05,144.070007,147.380005,143.009995,146.399994,146.157532,79471000\n",
      "\n",
      "2022-10-06,145.809998,147.539993,145.220001,145.429993,145.189148,68402200\n",
      "\n",
      "2022-10-07,142.539993,143.100006,139.449997,140.089996,139.857986,85925600\n",
      "\n",
      "2022-10-10,140.419998,141.889999,138.570007,140.419998,140.187439,74899000\n",
      "\n",
      "2022-10-11,139.899994,141.350006,138.220001,138.979996,138.749832,77033700\n",
      "\n",
      "2022-10-12,139.130005,140.360001,138.160004,138.339996,138.110886,70433700\n",
      "\n",
      "2022-10-13,134.990005,143.589996,134.369995,142.990005,142.753204,113224000\n",
      "\n",
      "2022-10-14,144.309998,144.520004,138.190002,138.380005,138.150833,88598000\n",
      "\n",
      "2022-10-17,141.070007,142.899994,140.270004,142.410004,142.174164,85250900\n",
      "\n",
      "2022-10-18,145.490005,146.699997,140.610001,143.750000,143.511932,99136600\n",
      "\n",
      "2022-10-19,141.690002,144.949997,141.500000,143.860001,143.621750,61758300\n",
      "\n",
      "2022-10-20,143.020004,145.889999,142.649994,143.389999,143.152527,64522000\n",
      "\n",
      "2022-10-21,142.869995,147.850006,142.649994,147.270004,147.026108,86548600\n",
      "\n",
      "2022-10-24,147.190002,150.229996,146.000000,149.449997,149.202484,75981900\n",
      "\n",
      "2022-10-25,150.089996,152.490005,149.360001,152.339996,152.087708,74732300\n",
      "\n",
      "2022-10-26,150.960007,151.990005,148.039993,149.350006,149.102661,88194300\n",
      "\n",
      "2022-10-27,148.070007,149.050003,144.130005,144.800003,144.560196,109180200\n",
      "\n",
      "2022-10-28,148.199997,157.500000,147.820007,155.740005,155.482086,164762400\n",
      "\n",
      "2022-10-31,153.160004,154.240005,151.919998,153.339996,153.086044,97943200\n",
      "\n",
      "2022-11-01,155.080002,155.449997,149.130005,150.649994,150.400497,80379300\n",
      "\n",
      "2022-11-02,148.949997,152.169998,145.000000,145.029999,144.789810,93604600\n",
      "\n",
      "2022-11-03,142.059998,142.800003,138.750000,138.880005,138.650009,97918500\n",
      "\n",
      "2022-11-04,142.089996,142.669998,134.380005,138.380005,138.380005,140716700\n",
      "\n",
      "2022-11-07,137.110001,139.149994,135.669998,138.919998,138.919998,83374600\n",
      "\n",
      "2022-11-08,140.410004,141.429993,137.490005,139.500000,139.500000,89908500\n",
      "\n",
      "2022-11-09,138.500000,138.550003,134.589996,134.869995,134.869995,74917800\n",
      "\n",
      "2022-11-10,141.240005,146.869995,139.500000,146.869995,146.869995,118854000\n",
      "\n",
      "2022-11-11,145.820007,150.009995,144.369995,149.699997,149.699997,93903800\n",
      "\n",
      "2022-11-14,148.970001,150.279999,147.429993,148.279999,148.279999,73374100\n",
      "\n",
      "2022-11-15,152.220001,153.589996,148.559998,150.039993,150.039993,89868300\n",
      "\n",
      "2022-11-16,149.130005,149.869995,147.289993,148.789993,148.789993,64218300\n",
      "\n",
      "2022-11-17,146.429993,151.479996,146.149994,150.720001,150.720001,80389400\n",
      "\n",
      "2022-11-18,152.309998,152.699997,149.970001,151.289993,151.289993,74794600\n",
      "\n",
      "2022-11-21,150.160004,150.369995,147.720001,148.009995,148.009995,58724100\n",
      "\n",
      "2022-11-22,148.130005,150.419998,146.929993,150.179993,150.179993,51804100\n",
      "\n",
      "2022-11-23,149.449997,151.830002,149.339996,151.070007,151.070007,58301400\n",
      "\n",
      "2022-11-25,148.309998,148.880005,147.119995,148.110001,148.110001,35195900\n",
      "\n",
      "2022-11-28,145.139999,146.639999,143.380005,144.220001,144.220001,69246000\n",
      "\n",
      "2022-11-29,144.289993,144.809998,140.350006,141.169998,141.169998,83763800\n",
      "\n",
      "2022-11-30,141.399994,148.720001,140.550003,148.029999,148.029999,111224400\n",
      "\n",
      "2022-12-01,148.210007,149.130005,146.610001,148.309998,148.309998,71250400\n",
      "\n",
      "2022-12-02,145.960007,148.000000,145.649994,147.809998,147.809998,65421400\n",
      "\n",
      "2022-12-05,147.770004,150.919998,145.770004,146.630005,146.630005,68732400\n"
     ]
    }
   ],
   "source": [
    "# Exemplo de uso. Baixar dados de ações do yahoo\n",
    "yahoo = UrlTemplate('https://query1.finance.yahoo.com/v7/finance/download/{names}?period1=1638784806&period2=1670320806&interval=1d&events={events}&includeAdjustedClose=true')\n",
    "for line in yahoo.open(names='AAPL', events='history'):\n",
    "    print(line.decode('utf-8'))"
   ]
  },
  {
   "cell_type": "markdown",
   "metadata": {},
   "source": [
    "#### Discussão\n",
    "Em muitos casos, a única razão pela qual você pode ter uma classe de método único é armazenar um estado adicional para uso no método. Por exemplo, a única finalidade da classe UrlTemplate é manter o valor do modelo em algum lugar para que possa ser usado no método open().\n",
    "\n",
    "Usar uma função ou fechamento interno, conforme mostrado na solução, geralmente é mais elegante.\n",
    "Simplificando, um encerramento é apenas uma função, mas com um ambiente extra das variáveis que são usadas dentro da função. Uma característica chave de um encerramento é que ele lembra o ambiente no qual foi definido. Assim, na solução, a função opener() lembra o valor do argumento do template e o usa em chamadas subsequentes.\n",
    "\n",
    "Sempre que você estiver escrevendo um código e encontrar o problema de anexar um estado adicional a uma função, pense em encerramentos. Eles geralmente são uma solução mais minimalista e elegante do que a alternativa de transformar sua função em uma aula completa."
   ]
  },
  {
   "cell_type": "markdown",
   "metadata": {},
   "source": [
    "## 7.10. Carregando estado extra com funções de retorno de chamada\n",
    "\n",
    "#### Problema\n",
    "Você está escrevendo um código que depende do uso de funções de retorno de chamada (por exemplo, manipuladores de eventos, retornos de chamada de conclusão etc.), mas deseja que a função de retorno de chamada carregue um estado extra para uso dentro da função de retorno de chamada.\n",
    "#### Solução\n",
    "Esta receita refere-se ao uso de funções de retorno de chamada encontradas em muitas bibliotecas e estruturas, especialmente aquelas relacionadas ao processamento assíncrono. Para ilustrar e para fins de teste, defina a seguinte função, que invoca um retorno de chamada:"
   ]
  },
  {
   "cell_type": "code",
   "execution_count": 11,
   "metadata": {},
   "outputs": [],
   "source": [
    "def apply_async(func, args, *, callback):\n",
    "    # Compute the result\n",
    "    result = func(*args)\n",
    " # Invoke the callback with the result\n",
    "    callback(result)"
   ]
  },
  {
   "cell_type": "markdown",
   "metadata": {},
   "source": [
    "Na realidade, esse código pode fazer todo tipo de processamento avançado envolvendo threads, processos e timers, mas esse não é o foco principal aqui. Em vez disso, estamos simplesmente focados na invocação do retorno de chamada. Aqui está um exemplo que mostra como o código anterior é usado:"
   ]
  },
  {
   "cell_type": "code",
   "execution_count": 30,
   "metadata": {},
   "outputs": [
    {
     "name": "stdout",
     "output_type": "stream",
     "text": [
      "Got: 5\n"
     ]
    }
   ],
   "source": [
    "def print_result(result):\n",
    "    print('Got:', result)\n",
    "\n",
    "def add(x, y):\n",
    "    return x + y\n",
    "\n",
    "apply_async(add, (2, 3), callback=print_result)"
   ]
  },
  {
   "cell_type": "code",
   "execution_count": 15,
   "metadata": {},
   "outputs": [
    {
     "name": "stdout",
     "output_type": "stream",
     "text": [
      "Got: helloworld\n"
     ]
    }
   ],
   "source": [
    "apply_async(add, ('hello', 'world'), callback=print_result)\n"
   ]
  },
  {
   "cell_type": "markdown",
   "metadata": {},
   "source": [
    "Como você notará, a função print_result() aceita apenas um único argumento, que é o resultado. Nenhuma outra informação é passada. Essa falta de informação às vezes pode apresentar problemas quando você deseja que o callback interaja com outras variáveis ou partes do ambiente.\n",
    "\n",
    "Uma maneira de transportar informações extras em um retorno de chamada é usar um método vinculado em vez de uma função simples. Por exemplo, esta classe mantém um número de sequência interno que é incrementado toda vez que um resultado é recebido:"
   ]
  },
  {
   "cell_type": "code",
   "execution_count": 16,
   "metadata": {},
   "outputs": [],
   "source": [
    "class ResultHandler:\n",
    "    def __init__(self):\n",
    "         self.sequence = 0\n",
    "    def handler(self, result):\n",
    "        self.sequence += 1\n",
    "        print('[{}] Got: {}'.format(self.sequence, result))"
   ]
  },
  {
   "cell_type": "markdown",
   "metadata": {},
   "source": [
    "Para usar essa classe, você criaria uma instância e usaria o manipulador de método vinculado como retorno de chamada:"
   ]
  },
  {
   "cell_type": "code",
   "execution_count": 17,
   "metadata": {},
   "outputs": [
    {
     "name": "stdout",
     "output_type": "stream",
     "text": [
      "[1] Got: 5\n"
     ]
    }
   ],
   "source": [
    "r = ResultHandler()\n",
    "apply_async(add, (2, 3), callback=r.handler)"
   ]
  },
  {
   "cell_type": "code",
   "execution_count": 18,
   "metadata": {},
   "outputs": [
    {
     "name": "stdout",
     "output_type": "stream",
     "text": [
      "[2] Got: helloworld\n"
     ]
    }
   ],
   "source": [
    "apply_async(add, ('hello', 'world'), callback=r.handler)"
   ]
  },
  {
   "cell_type": "markdown",
   "metadata": {},
   "source": [
    "Como alternativa a uma classe, você também pode usar um fechamento para capturar o estado. Por exemplo:"
   ]
  },
  {
   "cell_type": "code",
   "execution_count": 21,
   "metadata": {},
   "outputs": [],
   "source": [
    "def make_handler():\n",
    "    sequence = 0\n",
    "    def handler(result):\n",
    "        nonlocal sequence\n",
    "        sequence += 1\n",
    "        print('[{}] Got: {}'.format(sequence, result))\n",
    "    return handler"
   ]
  },
  {
   "cell_type": "markdown",
   "metadata": {},
   "source": [
    "Aqui está um exemplo desta variante:"
   ]
  },
  {
   "cell_type": "code",
   "execution_count": 22,
   "metadata": {},
   "outputs": [
    {
     "name": "stdout",
     "output_type": "stream",
     "text": [
      "[1] Got: 5\n"
     ]
    }
   ],
   "source": [
    "handler = make_handler()\n",
    "apply_async(add, (2, 3), callback=handler)"
   ]
  },
  {
   "cell_type": "code",
   "execution_count": 23,
   "metadata": {},
   "outputs": [
    {
     "name": "stdout",
     "output_type": "stream",
     "text": [
      "[2] Got: helloworld\n"
     ]
    }
   ],
   "source": [
    "apply_async(add, ('hello', 'world'), callback=handler)"
   ]
  },
  {
   "cell_type": "markdown",
   "metadata": {},
   "source": [
    "Como outra variação desse tema, às vezes você pode usar uma co-rotina para realizar a mesma coisa:"
   ]
  },
  {
   "cell_type": "code",
   "execution_count": 24,
   "metadata": {},
   "outputs": [],
   "source": [
    "def make_handler():\n",
    "    sequence = 0\n",
    "    while True:\n",
    "        result = yield\n",
    "        sequence += 1\n",
    "        print('[{}] Got: {}'.format(sequence, result))"
   ]
  },
  {
   "cell_type": "markdown",
   "metadata": {},
   "source": [
    "Para uma corrotina, você usaria o método send() como retorno de chamada, assim:"
   ]
  },
  {
   "cell_type": "code",
   "execution_count": 25,
   "metadata": {},
   "outputs": [],
   "source": [
    "handler = make_handler()\n",
    "next(handler) # Avançar para o yield"
   ]
  },
  {
   "cell_type": "code",
   "execution_count": 26,
   "metadata": {},
   "outputs": [
    {
     "name": "stdout",
     "output_type": "stream",
     "text": [
      "[1] Got: 5\n"
     ]
    }
   ],
   "source": [
    "apply_async(add, (2, 3), callback=handler.send)"
   ]
  },
  {
   "cell_type": "code",
   "execution_count": 27,
   "metadata": {},
   "outputs": [
    {
     "name": "stdout",
     "output_type": "stream",
     "text": [
      "[2] Got: helloworld\n"
     ]
    }
   ],
   "source": [
    "apply_async(add, ('hello', 'world'), callback=handler.send)\n"
   ]
  },
  {
   "cell_type": "markdown",
   "metadata": {},
   "source": [
    "Por último, mas não menos importante, você também pode carregar o estado em um retorno de chamada usando um argumento extra e um aplicativo de função parcial. Por exemplo:"
   ]
  },
  {
   "cell_type": "code",
   "execution_count": 33,
   "metadata": {},
   "outputs": [
    {
     "name": "stdout",
     "output_type": "stream",
     "text": [
      "[1] Got: 5\n"
     ]
    }
   ],
   "source": [
    "class SequenceNo:\n",
    "    def __init__(self):\n",
    "        self.sequence = 0\n",
    "\n",
    "def handler(result, seq):\n",
    "    seq.sequence += 1\n",
    "    print('[{}] Got: {}'.format(seq.sequence, result))\n",
    "\n",
    "seq = SequenceNo()\n",
    "from functools import partial\n",
    "apply_async(add, (2, 3), callback=partial(handler, seq=seq))"
   ]
  },
  {
   "cell_type": "code",
   "execution_count": 34,
   "metadata": {},
   "outputs": [
    {
     "name": "stdout",
     "output_type": "stream",
     "text": [
      "[2] Got: helloworld\n"
     ]
    }
   ],
   "source": [
    "apply_async(add, ('hello', 'world'), callback=partial(handler, seq=seq))"
   ]
  },
  {
   "cell_type": "markdown",
   "metadata": {},
   "source": [
    "#### Discussão\n",
    "O software baseado em funções de retorno de chamada geralmente corre o risco de se transformar em uma enorme confusão emaranhada. Parte do problema é que a função de retorno de chamada geralmente é desconectada do código que fez a solicitação inicial que leva à execução do retorno de chamada. Assim, o ambiente de execução entre a solicitação e o tratamento do resultado é efetivamente perdido. Se você deseja que a função de retorno de chamada continue com um procedimento que envolve várias etapas, é necessário descobrir como salvar e restaurar o estado associado.\n",
    "Na verdade, existem duas abordagens principais que são úteis para capturar e carregar o estado.\n",
    "Você pode carregá-lo em uma instância (anexado a um método vinculado, talvez) ou pode carregá-lo em um encerramento (uma função interna). Das duas técnicas, os fechamentos são talvez um pouco mais leves e naturais, pois são simplesmente construídos a partir de funções.\n",
    "\n",
    "Eles também capturam automaticamente todas as variáveis que estão sendo usadas. Assim, você não precisa se preocupar com o estado exato que precisa ser armazenado (é determinado automaticamente pelo seu código).\n",
    "\n",
    "Se estiver usando encerramentos, você precisa prestar muita atenção às variáveis mutáveis. Na solução, a declaração não local é usada para indicar que a variável de sequência está sendo modificada de dentro do retorno de chamada. Sem essa declaração, você receberá um erro.\n",
    "O uso de uma corrotina como um manipulador de retorno de chamada é interessante porque está intimamente relacionado à abordagem de fechamento. Em certo sentido, é ainda mais limpo, pois há apenas uma única função.\n",
    "\n",
    "Além disso, as variáveis podem ser modificadas livremente sem se preocupar com declarações não locais. A desvantagem potencial é que as corrotinas não tendem a ser tão bem compreendidas quanto outras partes do Python. Existem também algumas partes complicadas, como a necessidade de chamar next() em uma co-rotina antes de usá-la. Isso é algo que pode ser fácil de esquecer na prática.\n",
    "No entanto, as co-rotinas têm outros usos potenciais aqui, como a definição de um retorno de chamada embutido (abordado na próxima receita).\n",
    "\n",
    "A última técnica envolvendo parcial() é útil se tudo o que você precisa fazer é passar valores extras para um retorno de chamada. Em vez de usar parcial(), às vezes você verá a mesma coisa com o uso de um lambda:"
   ]
  },
  {
   "cell_type": "code",
   "execution_count": 35,
   "metadata": {},
   "outputs": [
    {
     "name": "stdout",
     "output_type": "stream",
     "text": [
      "[3] Got: 5\n"
     ]
    }
   ],
   "source": [
    "apply_async(add, (2, 3), callback=lambda r: handler(r, seq))"
   ]
  },
  {
   "cell_type": "markdown",
   "metadata": {},
   "source": [
    "Para obter mais exemplos, consulte a Receita 7.8, que mostra como usar parcial() para alterar as assinaturas dos argumentos."
   ]
  },
  {
   "cell_type": "markdown",
   "metadata": {},
   "source": [
    "## 7.11. Funções de retorno de chamada em linha\n",
    "#### Problema\n",
    "Você está escrevendo um código que usa funções de retorno de chamada, mas está preocupado com a proliferação de pequenas funções e um fluxo de controle incompreensível. Você gostaria de alguma maneira de fazer o código parecer mais com uma sequência normal de etapas processuais.\n",
    "\n",
    "#### Solução\n",
    "As funções de retorno de chamada podem ser embutidas em uma função usando geradores e corrotinas. Para ilustrar, suponha que você tenha uma função que executa trabalho e invoca um retorno de chamada da seguinte forma (consulte a Receita 7.10):"
   ]
  },
  {
   "cell_type": "code",
   "execution_count": 36,
   "metadata": {},
   "outputs": [],
   "source": [
    "def apply_async(func, args, *, callback):\n",
    "     # Compute the result\n",
    "    result = func(*args)\n",
    " # Invoke the callback with the result\n",
    "    callback(result)\n"
   ]
  },
  {
   "cell_type": "markdown",
   "metadata": {},
   "source": [
    "Agora dê uma olhada no seguinte código de suporte, que envolve uma classe Async e um decorador inlined_async:"
   ]
  },
  {
   "cell_type": "code",
   "execution_count": 43,
   "metadata": {},
   "outputs": [],
   "source": [
    "from queue import Queue\n",
    "from functools import wraps\n",
    "class Async:\n",
    "    def __init__(self, func, args):\n",
    "        self.func = func\n",
    "        self.args = args\n",
    "\n",
    "def inlined_async(func):\n",
    "        @wraps(func)\n",
    "        def wrapper(*args):\n",
    "            f = func(*args)\n",
    "            result_queue = Queue()\n",
    "            result_queue.put(None)\n",
    "            while True:\n",
    "                result = result_queue.get()\n",
    "                try:\n",
    "                    a = f.send(result)\n",
    "                    apply_async(a.func, a.args, callback=result_queue.put)\n",
    "                except StopIteration:\n",
    "                    break\n",
    "        return wrapper"
   ]
  },
  {
   "cell_type": "markdown",
   "metadata": {},
   "source": [
    "Esses dois fragmentos de código permitirão que você inline as etapas de retorno de chamada usando instruções yield. Por exemplo:"
   ]
  },
  {
   "cell_type": "code",
   "execution_count": 46,
   "metadata": {},
   "outputs": [],
   "source": [
    "def add(x, y):\n",
    "    return x + y\n",
    " \n",
    "@inlined_async\n",
    "def test():\n",
    "    r = yield Async(add, (2, 3))\n",
    "    print(r)\n",
    "    r = yield Async(add, ('hello', 'world'))\n",
    "    print(r)\n",
    "    for n in range(10):\n",
    "        r = yield Async(add, (n, n))\n",
    "        print(r)\n",
    "    print('Goodbye')"
   ]
  },
  {
   "cell_type": "markdown",
   "metadata": {},
   "source": [
    "Se você chamar test(), obterá uma saída como esta:"
   ]
  },
  {
   "cell_type": "code",
   "execution_count": 47,
   "metadata": {},
   "outputs": [
    {
     "name": "stdout",
     "output_type": "stream",
     "text": [
      "5\n",
      "helloworld\n",
      "0\n",
      "2\n",
      "4\n",
      "6\n",
      "8\n",
      "10\n",
      "12\n",
      "14\n",
      "16\n",
      "18\n",
      "Goodbye\n"
     ]
    }
   ],
   "source": [
    "test()"
   ]
  },
  {
   "cell_type": "markdown",
   "metadata": {},
   "source": [
    "Além do decorador especial e do uso de yield, você notará que nenhuma função de retorno de chamada aparece em nenhum lugar (exceto nos bastidores)."
   ]
  },
  {
   "cell_type": "markdown",
   "metadata": {},
   "source": [
    "#### Discussão\n",
    "Esta receita realmente testará seu conhecimento sobre funções de retorno de chamada, geradores e fluxo de controle.\n",
    "\n",
    "Primeiro, no código que envolve callbacks, o ponto principal é que o cálculo atual será suspenso e retomado em algum momento posterior (por exemplo, de forma assíncrona). Quando o cálculo for retomado, o retorno de chamada será executado para continuar o processamento. A função apply_async() ilustra as partes essenciais da execução do callback, embora na realidade possa ser muito mais complicada (envolvendo threads, processos, manipuladores de eventos, etc.).\n",
    "A ideia de que um cálculo será suspenso e retomado naturalmente mapeia o modelo de execução de uma função geradora. Especificamente, a operação yield faz com que uma função geradora emita um valor e suspenda. Chamadas subseqüentes ao método __next__() ou send() de um gerador farão com que ele comece novamente.\n",
    "\n",
    "Com isso em mente, o núcleo desta receita é encontrado na função decoradora inline_async(). A idéia-chave é que o decorador passará a função geradora por todas as suas declarações `yield`, uma de cada vez. Para fazer isso, uma fila de resultados é criada e preenchida inicialmente com o valor Nenhum. Um loop é então iniciado no qual um resultado é retirado da fila e enviado para o gerador. Isso avança para o próximo rendimento, no qual uma instância de Async é recebida. O loop examina a função e os argumentos e inicia o cálculo assíncrono `apply_async()`. No entanto, a parte mais sorrateira desse cálculo é que, em vez de usar uma função de retorno de chamada normal, o retorno de chamada é definido como o método `put()` da fila.\n",
    "\n",
    "Neste ponto, é deixado um pouco em aberto sobre o que exatamente acontece. O loop principal imediatamente volta ao topo e simplesmente executa uma operação get() na fila.\n",
    "\n",
    "Se houver dados, deve ser o resultado colocado lá pelo retorno de chamada `put()`. Se não houver nada, a operação é bloqueada, aguardando a chegada de um resultado em algum momento futuro. Como isso pode acontecer depende da implementação precisa da função apply_async().\n",
    "\n",
    "Se você tem dúvidas de que algo tão maluco funcionaria, você pode tentar com a biblioteca de multiprocessamento e ter operações assíncronas executadas em processos separados:"
   ]
  },
  {
   "cell_type": "code",
   "execution_count": 48,
   "metadata": {},
   "outputs": [],
   "source": [
    "if __name__ == '__main__':\n",
    "    import multiprocessing\n",
    "    pool = multiprocessing.Pool()\n",
    "    apply_async = pool.apply_async\n",
    "    # Run the test function\n",
    "    test()\n"
   ]
  },
  {
   "cell_type": "markdown",
   "metadata": {},
   "source": [
    "De fato, você descobrirá que funciona, mas desvendar o fluxo de controle pode exigir mais café.\n",
    "\n",
    "Ocultar o fluxo de controle complicado por trás das funções do gerador é encontrado em outro lugar na biblioteca padrão e em pacotes de terceiros. Por exemplo, o decorador @contextmanager no contextlib executa um truque alucinante semelhante que cola a entrada e a saída de um gerenciador de contexto em uma instrução yield. O popular pacote Twisted possui callbacks embutidos que também são similares.\n",
    "\n",
    "## 7.12. Acessando variáveis definidas dentro de um fechamento\n",
    "#### Problema\n",
    "Você gostaria de estender um encerramento com funções que permitem que as variáveis internas sejam acessadas e modificadas.\n",
    "#### Solução\n",
    "Normalmente, as variáveis internas de um fechamento ficam completamente escondidas do mundo exterior.\n",
    "No entanto, você pode fornecer acesso escrevendo funções de acesso e anexando-as ao encerramento como atributos de função. Por exemplo:"
   ]
  },
  {
   "cell_type": "code",
   "execution_count": 1,
   "metadata": {},
   "outputs": [],
   "source": [
    "def sample():\n",
    "    n = 0\n",
    "    # Closure function\n",
    "    def func():\n",
    "        print('n=', n)\n",
    "        # Accessor methods for n\n",
    "    def get_n():\n",
    "        return n\n",
    "\n",
    "    def set_n(value):\n",
    "        nonlocal n\n",
    "        n = value\n",
    "        # Attach as function attributes\n",
    "    func.get_n = get_n\n",
    "    func.set_n = set_n\n",
    "    return func"
   ]
  },
  {
   "cell_type": "markdown",
   "metadata": {},
   "source": [
    "Aqui está um exemplo de uso deste código:"
   ]
  },
  {
   "cell_type": "code",
   "execution_count": 2,
   "metadata": {},
   "outputs": [
    {
     "name": "stdout",
     "output_type": "stream",
     "text": [
      "n= 0\n"
     ]
    }
   ],
   "source": [
    "f = sample()\n",
    "f()"
   ]
  },
  {
   "cell_type": "code",
   "execution_count": 4,
   "metadata": {},
   "outputs": [
    {
     "name": "stdout",
     "output_type": "stream",
     "text": [
      "n= 10\n"
     ]
    }
   ],
   "source": [
    "f.set_n(10)\n",
    "f()"
   ]
  },
  {
   "cell_type": "code",
   "execution_count": 5,
   "metadata": {},
   "outputs": [
    {
     "data": {
      "text/plain": [
       "10"
      ]
     },
     "execution_count": 5,
     "metadata": {},
     "output_type": "execute_result"
    }
   ],
   "source": [
    "f.get_n()"
   ]
  },
  {
   "cell_type": "markdown",
   "metadata": {},
   "source": [
    "#### Discussão\n",
    "Existem duas características principais que fazem esta receita funcionar. Primeiro, declarações não locais possibilitam escrever funções que alteram variáveis internas. Em segundo lugar, os atributos de função permitem que os métodos de acesso sejam anexados à função de encerramento de maneira direta, onde funcionam muito como métodos de instância (mesmo que nenhuma classe esteja envolvida).\n",
    "\n",
    "Uma pequena extensão para esta receita pode ser feita para que os fechamentos emulem instâncias de uma classe. Tudo o que você precisa fazer é copiar as funções internas para o dicionário de uma instância e retorná-lo. Por exemplo:"
   ]
  },
  {
   "cell_type": "code",
   "execution_count": 22,
   "metadata": {},
   "outputs": [],
   "source": [
    "import sys\n",
    "class ClosureInstance:\n",
    "    def __init__(self, locals=None):\n",
    "        if locals is None:\n",
    "            locals = sys._getframe(1).f_locals\n",
    "            # Update instance dictionary with callables\n",
    "        self.__dict__.update((key,value) for key, value in locals.items() if callable(value))\n",
    "    # Redirect special methods\n",
    "    def __len__(self):\n",
    "        return self.__dict__['__len__']()    \n",
    "\n",
    "# Example use\n",
    "def Stack():\n",
    "    items = []\n",
    "\n",
    "    def push(item):\n",
    "        items.append(item)\n",
    "\n",
    "    def pop():\n",
    "        return items.pop()\n",
    "\n",
    "    def __len__():\n",
    "        return len(items)\n",
    "    return ClosureInstance()"
   ]
  },
  {
   "cell_type": "markdown",
   "metadata": {},
   "source": [
    "Aqui está uma sessão interativa para mostrar que realmente funciona:"
   ]
  },
  {
   "cell_type": "code",
   "execution_count": 23,
   "metadata": {},
   "outputs": [
    {
     "data": {
      "text/plain": [
       "<__main__.ClosureInstance at 0x18e5a441a30>"
      ]
     },
     "execution_count": 23,
     "metadata": {},
     "output_type": "execute_result"
    }
   ],
   "source": [
    "s = Stack()\n",
    "s"
   ]
  },
  {
   "cell_type": "code",
   "execution_count": 24,
   "metadata": {},
   "outputs": [
    {
     "data": {
      "text/plain": [
       "3"
      ]
     },
     "execution_count": 24,
     "metadata": {},
     "output_type": "execute_result"
    }
   ],
   "source": [
    "s.push(10)\n",
    "s.push(20)\n",
    "s.push('Hello')\n",
    "len(s)"
   ]
  },
  {
   "cell_type": "code",
   "execution_count": 25,
   "metadata": {},
   "outputs": [
    {
     "data": {
      "text/plain": [
       "'Hello'"
      ]
     },
     "execution_count": 25,
     "metadata": {},
     "output_type": "execute_result"
    }
   ],
   "source": [
    "s.pop()"
   ]
  },
  {
   "cell_type": "code",
   "execution_count": 26,
   "metadata": {},
   "outputs": [
    {
     "data": {
      "text/plain": [
       "20"
      ]
     },
     "execution_count": 26,
     "metadata": {},
     "output_type": "execute_result"
    }
   ],
   "source": [
    "s.pop()"
   ]
  },
  {
   "cell_type": "code",
   "execution_count": 27,
   "metadata": {},
   "outputs": [
    {
     "data": {
      "text/plain": [
       "10"
      ]
     },
     "execution_count": 27,
     "metadata": {},
     "output_type": "execute_result"
    }
   ],
   "source": [
    "s.pop()"
   ]
  },
  {
   "cell_type": "markdown",
   "metadata": {},
   "source": [
    "Curiosamente, esse código é executado um pouco mais rápido do que usar uma definição de classe normal. Por exemplo, você pode estar inclinado a testar o desempenho em uma classe como esta:"
   ]
  },
  {
   "cell_type": "code",
   "execution_count": 28,
   "metadata": {},
   "outputs": [],
   "source": [
    "class Stack2:\n",
    "    def __init__(self):\n",
    "        self.items = []\n",
    "    def push(self, item):\n",
    "        self.items.append(item)\n",
    "    def pop(self):\n",
    "        return self.items.pop()\n",
    "    def __len__(self):\n",
    "        return len(self.items)"
   ]
  },
  {
   "cell_type": "markdown",
   "metadata": {},
   "source": [
    "Se você fizer isso, obterá resultados semelhantes aos seguintes:"
   ]
  },
  {
   "cell_type": "code",
   "execution_count": 37,
   "metadata": {},
   "outputs": [
    {
     "data": {
      "text/plain": [
       "0.4313583999999082"
      ]
     },
     "execution_count": 37,
     "metadata": {},
     "output_type": "execute_result"
    }
   ],
   "source": [
    "from timeit import timeit\n",
    "# Test involving closures\n",
    "s = Stack()\n",
    "timeit('s.push(1);s.pop()', 'from __main__ import s')"
   ]
  },
  {
   "cell_type": "code",
   "execution_count": 38,
   "metadata": {},
   "outputs": [
    {
     "data": {
      "text/plain": [
       "0.46673889999999574"
      ]
     },
     "execution_count": 38,
     "metadata": {},
     "output_type": "execute_result"
    }
   ],
   "source": [
    "# Test involving a class\n",
    "s = Stack2()\n",
    "timeit('s.push(1);s.pop()', 'from __main__ import s')"
   ]
  },
  {
   "cell_type": "markdown",
   "metadata": {},
   "source": [
    "Como mostrado, a versão de fechamento é executada mais rápido. A maior parte disso vem do acesso simplificado às variáveis de instância. Os fechamentos são mais rápidos porque não há variável própria extra envolvida.\n",
    "\n",
    "Raymond Hettinger criou uma variante ainda mais diabólica dessa ideia. No entanto, se você estiver inclinado a fazer algo assim em seu código, saiba que ainda é um substituto bastante estranho para uma classe real. Por exemplo, os principais recursos como herança, propriedades, descritores ou métodos de classe não funcionam. Você também precisa usar alguns truques para fazer com que métodos especiais funcionem (por exemplo, veja a implementação de \\_\\_len\\_\\_() em ClosureInstance).\n",
    "\n",
    "Por fim, você correrá o risco de confundir as pessoas que lêem seu código e se perguntar por que ele não se parece em nada com uma definição de classe normal (claro, eles também se perguntarão por que é mais rápido). No entanto, é um exemplo interessante do que pode ser feito ao fornecer acesso ao interior de um fechamento.\n",
    "No cenário geral, adicionar métodos a encerramentos pode ter mais utilidade em configurações nas quais você deseja fazer coisas como redefinir o estado interno, liberar buffers, limpar caches ou ter algum tipo de mecanismo de feedback."
   ]
  }
 ],
 "metadata": {
  "kernelspec": {
   "display_name": "Python 3.9.0 64-bit",
   "language": "python",
   "name": "python3"
  },
  "language_info": {
   "codemirror_mode": {
    "name": "ipython",
    "version": 3
   },
   "file_extension": ".py",
   "mimetype": "text/x-python",
   "name": "python",
   "nbconvert_exporter": "python",
   "pygments_lexer": "ipython3",
   "version": "3.9.0"
  },
  "vscode": {
   "interpreter": {
    "hash": "3c198a0bf143da720db8a1ed2fdc43342371f98b364fdf2ef3c0c72d17a471d7"
   }
  }
 },
 "nbformat": 4,
 "nbformat_minor": 0
}
