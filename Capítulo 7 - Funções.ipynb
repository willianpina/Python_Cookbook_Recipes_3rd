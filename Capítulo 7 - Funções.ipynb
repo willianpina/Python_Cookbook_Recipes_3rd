{
 "cells": [
  {
   "cell_type": "markdown",
   "source": [
    "<h1 align=center>Capítulo 7</h1>\n",
    "<h2 align=center>Funções</h2>\n",
    "<p align=center><img src=https://g3i5r4x7.rocketcdn.me/wp-content/uploads/2020/11/funcoes-matematicas-conceito-definicao-e-propriedades-3.jpg width=500></p>"
   ],
   "metadata": {
    "collapsed": false
   },
   "outputs": [
    {
     "ename": "SyntaxError",
     "evalue": "invalid syntax (1513840493.py, line 1)",
     "output_type": "error",
     "traceback": [
      "\u001B[1;36m  Cell \u001B[1;32mIn [1], line 1\u001B[1;36m\u001B[0m\n\u001B[1;33m    <h1 align=center>Capítulo 7</h1>\u001B[0m\n\u001B[1;37m    ^\u001B[0m\n\u001B[1;31mSyntaxError\u001B[0m\u001B[1;31m:\u001B[0m invalid syntax\n"
     ]
    }
   ],
   "execution_count": 1
  },
  {
   "cell_type": "markdown",
   "source": [
    "Definir funções usando a instrução **def** é a base de todos os programas. O objetivo deste capítulo é apresentar algumas definições de funções e padrões de uso mais avançados e incomuns. Os tópicos incluem argumentos padrão, funções que aceitam qualquer número de argumentos, argumentos somente de palavra-chave, anotações e encerramentos. Além disso, alguns problemas complicados de fluxo de controle e passagem de dados envolvendo funções de retorno de chamada são abordados.\n",
    "\n",
    "## 7.1. Escrevendo funções que aceitam qualquer número de argumentos\n",
    "#### Problema\n",
    "Você deseja escrever uma função que aceite qualquer número de argumentos de entrada.\n",
    "#### Solução\n",
    "Para escrever uma função que aceite qualquer número de argumentos posicionais, use um argumento *. Por exemplo:"
   ],
   "metadata": {
    "collapsed": false
   }
  },
  {
   "cell_type": "code",
   "execution_count": 2,
   "outputs": [],
   "source": [
    "def avg(first, *rest):\n",
    "    return (first + sum(rest)) / (1 + len(rest))"
   ],
   "metadata": {
    "collapsed": false
   }
  },
  {
   "cell_type": "code",
   "execution_count": 3,
   "outputs": [
    {
     "data": {
      "text/plain": "1.5"
     },
     "execution_count": 3,
     "metadata": {},
     "output_type": "execute_result"
    }
   ],
   "source": [
    "# Sample use\n",
    "avg(1, 2)"
   ],
   "metadata": {
    "collapsed": false
   }
  },
  {
   "cell_type": "code",
   "execution_count": 4,
   "outputs": [
    {
     "data": {
      "text/plain": "2.5"
     },
     "execution_count": 4,
     "metadata": {},
     "output_type": "execute_result"
    }
   ],
   "source": [
    "avg(1, 2, 3, 4)"
   ],
   "metadata": {
    "collapsed": false
   }
  },
  {
   "cell_type": "markdown",
   "source": [
    "Neste exemplo, **rest** é uma tupla de todos os argumentos posicionais extras passados. O código o trata como uma sequência na execução de cálculos subsequentes. Para aceitar qualquer número de argumentos de palavra-chave, use um argumento que comece com **. Por exemplo:"
   ],
   "metadata": {
    "collapsed": false
   }
  },
  {
   "cell_type": "code",
   "execution_count": 5,
   "outputs": [],
   "source": [
    "import html\n",
    "def make_element(name, value, **attrs):\n",
    "    keyvals = [' %s=\"%s\"' % item for item in attrs.items()]\n",
    "    attr_str = ''.join(keyvals)\n",
    "    element = '<{name}{attrs}>{value}</{name}>'.format(\n",
    "        name=name,\n",
    "        attrs=attr_str,\n",
    "        value=html.escape(value))\n",
    "    return element"
   ],
   "metadata": {
    "collapsed": false
   }
  },
  {
   "cell_type": "code",
   "execution_count": 6,
   "outputs": [
    {
     "data": {
      "text/plain": "'<item size=\"large\" quantity=\"6\">Albatross</item>'"
     },
     "execution_count": 6,
     "metadata": {},
     "output_type": "execute_result"
    }
   ],
   "source": [
    "make_element('item', 'Albatross', size='large', quantity=6)"
   ],
   "metadata": {
    "collapsed": false
   }
  },
  {
   "cell_type": "code",
   "execution_count": 7,
   "outputs": [
    {
     "data": {
      "text/plain": "'<p>&lt;spam&gt;</p>'"
     },
     "execution_count": 7,
     "metadata": {},
     "output_type": "execute_result"
    }
   ],
   "source": [
    "make_element('p', '<spam>')"
   ],
   "metadata": {
    "collapsed": false
   }
  },
  {
   "cell_type": "markdown",
   "source": [
    "Aqui, **attrs** é um dicionário que contém os argumentos de palavra-chave passados (se houver). Se você quiser uma função que possa aceitar qualquer número de argumentos posicionais e somente palavras-chave, use * e ** juntos. Por exemplo:"
   ],
   "metadata": {
    "collapsed": false
   }
  },
  {
   "cell_type": "code",
   "execution_count": 8,
   "outputs": [],
   "source": [
    "def anyargs(*args, **kwargs):\n",
    "    print(args) # A tuple\n",
    "    print(kwargs) # A dict"
   ],
   "metadata": {
    "collapsed": false
   }
  },
  {
   "cell_type": "markdown",
   "source": [
    "Com esta função, todos os argumentos posicionais são colocados em uma tupla **args** e todos os argumentos de palavra-chave são colocados em um dicionário **kwargs**.\n",
    "#### Discussão\n",
    "Um argumento * só pode aparecer como o último argumento posicional em uma definição de função. Um argumento ** só pode aparecer como o último argumento. Um aspecto sutil das definições de função é que os argumentos ainda podem aparecer após um argumento *."
   ],
   "metadata": {
    "collapsed": false
   }
  },
  {
   "cell_type": "code",
   "execution_count": 9,
   "outputs": [],
   "source": [
    "def a(x, *args, y):\n",
    "    pass\n",
    "\n",
    "def b(x, *args, y, **kwargs):\n",
    "    pass"
   ],
   "metadata": {
    "collapsed": false
   }
  },
  {
   "cell_type": "markdown",
   "source": [
    "Esses argumentos são conhecidos como argumentos apenas de palavra-chave e são discutidos mais adiante na Receita 7.2."
   ],
   "metadata": {
    "collapsed": false
   }
  }
 ],
 "metadata": {
  "kernelspec": {
   "display_name": "Python 3",
   "language": "python",
   "name": "python3"
  },
  "language_info": {
   "codemirror_mode": {
    "name": "ipython",
    "version": 2
   },
   "file_extension": ".py",
   "mimetype": "text/x-python",
   "name": "python",
   "nbconvert_exporter": "python",
   "pygments_lexer": "ipython2",
   "version": "2.7.6"
  }
 },
 "nbformat": 4,
 "nbformat_minor": 0
}
