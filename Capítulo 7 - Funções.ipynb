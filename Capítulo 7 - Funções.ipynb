{
 "cells": [
  {
   "cell_type": "markdown",
   "source": [
    "<h1 align=center>Capítulo 7</h1>\n",
    "<h2 align=center>Funções</h2>\n",
    "<p align=center><img src=https://g3i5r4x7.rocketcdn.me/wp-content/uploads/2020/11/funcoes-matematicas-conceito-definicao-e-propriedades-3.jpg width=500></p>"
   ],
   "metadata": {
    "collapsed": false
   },
   "outputs": [
    {
     "ename": "SyntaxError",
     "evalue": "invalid syntax (1513840493.py, line 1)",
     "output_type": "error",
     "traceback": [
      "\u001B[1;36m  Cell \u001B[1;32mIn [1], line 1\u001B[1;36m\u001B[0m\n\u001B[1;33m    <h1 align=center>Capítulo 7</h1>\u001B[0m\n\u001B[1;37m    ^\u001B[0m\n\u001B[1;31mSyntaxError\u001B[0m\u001B[1;31m:\u001B[0m invalid syntax\n"
     ]
    }
   ],
   "execution_count": 1
  },
  {
   "cell_type": "markdown",
   "source": [
    "Definir funções usando a instrução **def** é a base de todos os programas. O objetivo deste capítulo é apresentar algumas definições de funções e padrões de uso mais avançados e incomuns. Os tópicos incluem argumentos padrão, funções que aceitam qualquer número de argumentos, argumentos somente de palavra-chave, anotações e encerramentos. Além disso, alguns problemas complicados de fluxo de controle e passagem de dados envolvendo funções de retorno de chamada são abordados.\n",
    "\n",
    "## 7.1. Escrevendo funções que aceitam qualquer número de argumentos\n",
    "#### Problema\n",
    "Você deseja escrever uma função que aceite qualquer número de argumentos de entrada.\n",
    "#### Solução\n",
    "Para escrever uma função que aceite qualquer número de argumentos posicionais, use um argumento *. Por exemplo:"
   ],
   "metadata": {
    "collapsed": false
   }
  },
  {
   "cell_type": "code",
   "execution_count": 2,
   "outputs": [],
   "source": [
    "def avg(first, *rest):\n",
    "    return (first + sum(rest)) / (1 + len(rest))"
   ],
   "metadata": {
    "collapsed": false
   }
  },
  {
   "cell_type": "code",
   "execution_count": 3,
   "outputs": [
    {
     "data": {
      "text/plain": "1.5"
     },
     "execution_count": 3,
     "metadata": {},
     "output_type": "execute_result"
    }
   ],
   "source": [
    "# Sample use\n",
    "avg(1, 2)"
   ],
   "metadata": {
    "collapsed": false
   }
  },
  {
   "cell_type": "code",
   "execution_count": 4,
   "outputs": [
    {
     "data": {
      "text/plain": "2.5"
     },
     "execution_count": 4,
     "metadata": {},
     "output_type": "execute_result"
    }
   ],
   "source": [
    "avg(1, 2, 3, 4)"
   ],
   "metadata": {
    "collapsed": false
   }
  },
  {
   "cell_type": "markdown",
   "source": [
    "Neste exemplo, **rest** é uma tupla de todos os argumentos posicionais extras passados. O código o trata como uma sequência na execução de cálculos subsequentes. Para aceitar qualquer número de argumentos de palavra-chave, use um argumento que comece com **. Por exemplo:"
   ],
   "metadata": {
    "collapsed": false
   }
  },
  {
   "cell_type": "code",
   "execution_count": 5,
   "outputs": [],
   "source": [
    "import html\n",
    "def make_element(name, value, **attrs):\n",
    "    keyvals = [' %s=\"%s\"' % item for item in attrs.items()]\n",
    "    attr_str = ''.join(keyvals)\n",
    "    element = '<{name}{attrs}>{value}</{name}>'.format(\n",
    "        name=name,\n",
    "        attrs=attr_str,\n",
    "        value=html.escape(value))\n",
    "    return element"
   ],
   "metadata": {
    "collapsed": false
   }
  },
  {
   "cell_type": "code",
   "execution_count": 6,
   "outputs": [
    {
     "data": {
      "text/plain": "'<item size=\"large\" quantity=\"6\">Albatross</item>'"
     },
     "execution_count": 6,
     "metadata": {},
     "output_type": "execute_result"
    }
   ],
   "source": [
    "make_element('item', 'Albatross', size='large', quantity=6)"
   ],
   "metadata": {
    "collapsed": false
   }
  },
  {
   "cell_type": "code",
   "execution_count": 7,
   "outputs": [
    {
     "data": {
      "text/plain": "'<p>&lt;spam&gt;</p>'"
     },
     "execution_count": 7,
     "metadata": {},
     "output_type": "execute_result"
    }
   ],
   "source": [
    "make_element('p', '<spam>')"
   ],
   "metadata": {
    "collapsed": false
   }
  },
  {
   "cell_type": "markdown",
   "source": [
    "Aqui, **attrs** é um dicionário que contém os argumentos de palavra-chave passados (se houver). Se você quiser uma função que possa aceitar qualquer número de argumentos posicionais e somente palavras-chave, use * e ** juntos. Por exemplo:"
   ],
   "metadata": {
    "collapsed": false
   }
  },
  {
   "cell_type": "code",
   "execution_count": 8,
   "outputs": [],
   "source": [
    "def anyargs(*args, **kwargs):\n",
    "    print(args) # A tuple\n",
    "    print(kwargs) # A dict"
   ],
   "metadata": {
    "collapsed": false
   }
  },
  {
   "cell_type": "markdown",
   "source": [
    "Com esta função, todos os argumentos posicionais são colocados em uma tupla **args** e todos os argumentos de palavra-chave são colocados em um dicionário **kwargs**.\n",
    "#### Discussão\n",
    "Um argumento * só pode aparecer como o último argumento posicional em uma definição de função. Um argumento ** só pode aparecer como o último argumento. Um aspecto sutil das definições de função é que os argumentos ainda podem aparecer após um argumento *."
   ],
   "metadata": {
    "collapsed": false
   }
  },
  {
   "cell_type": "code",
   "execution_count": 9,
   "outputs": [],
   "source": [
    "def a(x, *args, y):\n",
    "    pass\n",
    "\n",
    "def b(x, *args, y, **kwargs):\n",
    "    pass"
   ],
   "metadata": {
    "collapsed": false
   }
  },
  {
   "cell_type": "markdown",
   "source": [
    "Esses argumentos são conhecidos como argumentos apenas de palavra-chave e são discutidos mais adiante na Receita 7.2.\n",
    "\n",
    "## 7.2. Funções de escrita que aceitam apenas argumentos de palavra-chave\n",
    "#### Problema\n",
    "Você deseja que uma função aceite apenas determinados argumentos por palavra-chave.\n",
    "#### Solução\n",
    "Esse recurso é fácil de implementar se você colocar os argumentos de palavra-chave após um * argumento ou um único sem nome *. Por exemplo:"
   ],
   "metadata": {
    "collapsed": false
   }
  },
  {
   "cell_type": "code",
   "execution_count": 1,
   "outputs": [],
   "source": [
    "def recv(maxsize, *, block):\n",
    "    'Receives a message'\n",
    "    pass"
   ],
   "metadata": {
    "collapsed": false
   }
  },
  {
   "cell_type": "code",
   "execution_count": 2,
   "outputs": [
    {
     "ename": "TypeError",
     "evalue": "recv() takes 1 positional argument but 2 were given",
     "output_type": "error",
     "traceback": [
      "\u001B[1;31m---------------------------------------------------------------------------\u001B[0m",
      "\u001B[1;31mTypeError\u001B[0m                                 Traceback (most recent call last)",
      "Cell \u001B[1;32mIn [2], line 1\u001B[0m\n\u001B[1;32m----> 1\u001B[0m \u001B[43mrecv\u001B[49m\u001B[43m(\u001B[49m\u001B[38;5;241;43m1024\u001B[39;49m\u001B[43m,\u001B[49m\u001B[43m \u001B[49m\u001B[38;5;28;43;01mTrue\u001B[39;49;00m\u001B[43m)\u001B[49m\n",
      "\u001B[1;31mTypeError\u001B[0m: recv() takes 1 positional argument but 2 were given"
     ]
    }
   ],
   "source": [
    "recv(1024, True)"
   ],
   "metadata": {
    "collapsed": false
   }
  },
  {
   "cell_type": "code",
   "execution_count": 3,
   "outputs": [],
   "source": [
    "recv(1024, block=True)"
   ],
   "metadata": {
    "collapsed": false
   }
  },
  {
   "cell_type": "markdown",
   "source": [
    "Essa técnica também pode ser usada para especificar argumentos de palavra-chave para funções que aceitam um número variável de argumentos posicionais. Por exemplo:"
   ],
   "metadata": {
    "collapsed": false
   }
  },
  {
   "cell_type": "code",
   "execution_count": 11,
   "outputs": [],
   "source": [
    "def mininum(*values, clip=None):\n",
    "    m = min(values)\n",
    "    if clip is not None:\n",
    "        m = clip if clip > m else m\n",
    "    return m"
   ],
   "metadata": {
    "collapsed": false
   }
  },
  {
   "cell_type": "code",
   "execution_count": 10,
   "outputs": [
    {
     "data": {
      "text/plain": "-5"
     },
     "execution_count": 10,
     "metadata": {},
     "output_type": "execute_result"
    }
   ],
   "source": [
    "mininum(1,5,2,-5,10)"
   ],
   "metadata": {
    "collapsed": false
   }
  },
  {
   "cell_type": "code",
   "execution_count": 12,
   "outputs": [
    {
     "data": {
      "text/plain": "0"
     },
     "execution_count": 12,
     "metadata": {},
     "output_type": "execute_result"
    }
   ],
   "source": [
    "mininum(1, 5, 2, -5, 10, clip=0)"
   ],
   "metadata": {
    "collapsed": false
   }
  },
  {
   "cell_type": "markdown",
   "source": [
    "#### Discussão\n",
    "Argumentos apenas de palavras-chave geralmente são uma boa maneira de impor maior clareza de código ao especificar argumentos de função opcionais. Por exemplo, considere uma chamada como esta:\n",
    "\n",
    "~~~python\n",
    "msg = recv(1024, False)\n",
    "~~~"
   ],
   "metadata": {
    "collapsed": false
   }
  },
  {
   "cell_type": "markdown",
   "source": [
    "Se alguém não estiver intimamente familiarizado com o funcionamento do `recv()`, pode não ter ideia do que o argumento **False** significa. Por outro lado, fica muito mais claro se a chamada for escrita assim:"
   ],
   "metadata": {
    "collapsed": false
   }
  },
  {
   "cell_type": "code",
   "execution_count": 15,
   "outputs": [],
   "source": [
    "msg = recv(1024, block=False)"
   ],
   "metadata": {
    "collapsed": false
   }
  },
  {
   "cell_type": "markdown",
   "source": [
    "O uso de argumentos apenas com palavras-chave também costuma ser preferível a truques envolvendo ****kwargs**, pois eles aparecem corretamente quando o usuário pede ajuda:"
   ],
   "metadata": {
    "collapsed": false
   }
  },
  {
   "cell_type": "code",
   "execution_count": 16,
   "outputs": [
    {
     "name": "stdout",
     "output_type": "stream",
     "text": [
      "Help on function recv in module __main__:\n",
      "\n",
      "recv(maxsize, *, block)\n",
      "    Receives a message\n",
      "\n"
     ]
    }
   ],
   "source": [
    "help(recv)"
   ],
   "metadata": {
    "collapsed": false
   }
  },
  {
   "cell_type": "markdown",
   "source": [
    "Argumentos apenas de palavra-chave também têm utilidade em contextos mais avançados. Por exemplo, eles podem ser usados para injetar argumentos em funções que usam a convenção *args e **kwargs para aceitar todas as entradas. Consulte a Receita 9.11 para obter um exemplo.\n",
    "## 7.3. Anexando metadados informativos a argumentos de função\n",
    "#### Problema\n",
    "Você escreveu uma função, mas gostaria de anexar algumas informações adicionais aos argumentos para que outros saibam mais sobre como uma função deve ser usada.\n",
    "#### Solução\n",
    "As anotações de argumento de função podem ser uma maneira útil de fornecer dicas aos programadores sobre como uma função deve ser usada. Por exemplo, considere a seguinte função anotada:"
   ],
   "metadata": {
    "collapsed": false
   }
  },
  {
   "cell_type": "code",
   "execution_count": null,
   "outputs": [],
   "source": [],
   "metadata": {
    "collapsed": false
   }
  }
 ],
 "metadata": {
  "kernelspec": {
   "display_name": "Python 3",
   "language": "python",
   "name": "python3"
  },
  "language_info": {
   "codemirror_mode": {
    "name": "ipython",
    "version": 2
   },
   "file_extension": ".py",
   "mimetype": "text/x-python",
   "name": "python",
   "nbconvert_exporter": "python",
   "pygments_lexer": "ipython2",
   "version": "2.7.6"
  }
 },
 "nbformat": 4,
 "nbformat_minor": 0
}
